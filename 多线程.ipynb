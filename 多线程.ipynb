{
 "cells": [
  {
   "cell_type": "code",
   "execution_count": 9,
   "metadata": {
    "collapsed": false
   },
   "outputs": [
    {
     "name": "stdout",
     "output_type": "stream",
     "text": [
      "Thread-1: Mon Dec 19 13:56:06 2016\n",
      "Thread-2: Mon Dec 19 13:56:08 2016Thread-1: Mon Dec 19 13:56:08 2016\n",
      "\n",
      "Thread-1: Mon Dec 19 13:56:10 2016\n",
      "Thread-2: Mon Dec 19 13:56:12 2016\n",
      "Thread-1: Mon Dec 19 13:56:12 2016\n",
      "Thread-1: Mon Dec 19 13:56:14 2016\n",
      "Thread-2: Mon Dec 19 13:56:16 2016\n",
      "Thread-2: Mon Dec 19 13:56:20 2016\n",
      "Thread-2: Mon Dec 19 13:56:24 2016\n"
     ]
    },
    {
     "ename": "KeyboardInterrupt",
     "evalue": "",
     "output_type": "error",
     "traceback": [
      "\u001b[0;31m---------------------------------------------------------------------------\u001b[0m",
      "\u001b[0;31mKeyboardInterrupt\u001b[0m                         Traceback (most recent call last)",
      "\u001b[0;32m<ipython-input-9-c36e9f13d2e1>\u001b[0m in \u001b[0;36m<module>\u001b[0;34m()\u001b[0m\n\u001b[1;32m     20\u001b[0m \u001b[0;34m\u001b[0m\u001b[0m\n\u001b[1;32m     21\u001b[0m \u001b[0;32mwhile\u001b[0m \u001b[0;36m1\u001b[0m\u001b[0;34m:\u001b[0m\u001b[0;34m\u001b[0m\u001b[0m\n\u001b[0;32m---> 22\u001b[0;31m    \u001b[0;32mpass\u001b[0m\u001b[0;34m\u001b[0m\u001b[0m\n\u001b[0m",
      "\u001b[0;31mKeyboardInterrupt\u001b[0m: "
     ]
    }
   ],
   "source": [
    "#!/usr/bin/python3\n",
    "\n",
    "import _thread\n",
    "import time\n",
    "\n",
    "# 为线程定义一个函数\n",
    "def print_time( threadName, delay):\n",
    "   count = 0\n",
    "   while count < 5:\n",
    "      time.sleep(delay)\n",
    "      count += 1\n",
    "      print (\"%s: %s\" % ( threadName, time.ctime(time.time()) ))\n",
    "\n",
    "# 创建两个线程\n",
    "try:\n",
    "   _thread.start_new_thread( print_time, (\"Thread-1\", 2, ) )\n",
    "   _thread.start_new_thread( print_time, (\"Thread-2\", 4, ) )\n",
    "except:\n",
    "   print (\"Error: 无法启动线程\")\n",
    "\n",
    "while 1:\n",
    "   pass"
   ]
  },
  {
   "cell_type": "code",
   "execution_count": 12,
   "metadata": {
    "collapsed": false
   },
   "outputs": [
    {
     "name": "stdout",
     "output_type": "stream",
     "text": [
      "开始线程：Thread-1开始线程：Thread-2\n",
      "\n",
      "Thread-1: Mon Dec 19 13:59:18 2016\n",
      "Thread-2: Mon Dec 19 13:59:19 2016\n",
      "Thread-1: Mon Dec 19 13:59:19 2016\n",
      "Thread-1: Mon Dec 19 13:59:20 2016\n",
      "Thread-2: Mon Dec 19 13:59:21 2016\n",
      "Thread-1: Mon Dec 19 13:59:21 2016\n",
      "Thread-1: Mon Dec 19 13:59:22 2016\n",
      "退出线程：Thread-1\n",
      "Thread-2: Mon Dec 19 13:59:23 2016\n",
      "Thread-2: Mon Dec 19 13:59:25 2016\n",
      "Thread-2: Mon Dec 19 13:59:27 2016\n",
      "退出线程：Thread-2\n",
      "退出主线程\n"
     ]
    }
   ],
   "source": [
    "#!/usr/bin/python3\n",
    "\n",
    "import threading\n",
    "import time\n",
    "\n",
    "exitFlag = 0\n",
    "\n",
    "class myThread (threading.Thread):\n",
    "    def __init__(self, threadID, name, counter):\n",
    "        threading.Thread.__init__(self)\n",
    "        self.threadID = threadID\n",
    "        self.name = name\n",
    "        self.counter = counter\n",
    "    def run(self):\n",
    "        print (\"开始线程：\" + self.name)\n",
    "        print_time(self.name, self.counter, 5)\n",
    "        print (\"退出线程：\" + self.name)\n",
    "\n",
    "def print_time(threadName, delay, counter):\n",
    "    while counter:\n",
    "        if exitFlag:\n",
    "            threadName.exit()\n",
    "        time.sleep(delay)\n",
    "        print (\"%s: %s\" % (threadName, time.ctime(time.time())))\n",
    "        counter -= 1\n",
    "\n",
    "# 创建新线程\n",
    "thread1 = myThread(1, \"Thread-1\", 1)\n",
    "thread2 = myThread(2, \"Thread-2\", 2)\n",
    "\n",
    "# 开启新线程\n",
    "thread1.start()\n",
    "thread2.start()\n",
    "thread1.join()\n",
    "thread2.join()\n",
    "print (\"退出主线程\")"
   ]
  },
  {
   "cell_type": "code",
   "execution_count": 13,
   "metadata": {
    "collapsed": false
   },
   "outputs": [
    {
     "name": "stdout",
     "output_type": "stream",
     "text": [
      "thread MainThread is running...thread LoopThread is running...\n",
      "\n",
      "thread LoopThread >>> 1\n",
      "thread LoopThread >>> 2\n",
      "thread LoopThread >>> 3\n",
      "thread LoopThread >>> 4\n",
      "thread LoopThread >>> 5\n",
      "thread LoopThread ended.\n",
      "thread MainThread ended.\n"
     ]
    }
   ],
   "source": [
    "import time, threading\n",
    "\n",
    "# 新线程执行的代码:\n",
    "def loop():\n",
    "    print('thread %s is running...' % threading.current_thread().name)\n",
    "    n = 0\n",
    "    while n < 5:\n",
    "        n = n + 1\n",
    "        print('thread %s >>> %s' % (threading.current_thread().name, n))\n",
    "        time.sleep(1)\n",
    "    print('thread %s ended.' % threading.current_thread().name)\n",
    "\n",
    "print('thread %s is running...' % threading.current_thread().name)\n",
    "t = threading.Thread(target=loop, name='LoopThread')\n",
    "t.start()\n",
    "t.join()\n",
    "print('thread %s ended.' % threading.current_thread().name)"
   ]
  },
  {
   "cell_type": "code",
   "execution_count": 133,
   "metadata": {
    "collapsed": false
   },
   "outputs": [
    {
     "name": "stdout",
     "output_type": "stream",
     "text": [
      "0\n"
     ]
    }
   ],
   "source": [
    "import time, threading\n",
    "lock=threading.Lock()\n",
    "# 假定这是你的银行存款:\n",
    "balance = 0\n",
    "\n",
    "def change_it(n):\n",
    "    # 先存后取，结果应该为0:\n",
    "    global balance\n",
    "    balance = balance + n\n",
    "    balance = balance - n\n",
    "\n",
    "def run_thread(n):\n",
    "    lock.acquire()\n",
    "    for i in range(100000):\n",
    "        change_it(n)\n",
    "    lock.release()\n",
    "t1 = threading.Thread(target=run_thread, args=(5,))\n",
    "t2 = threading.Thread(target=run_thread, args=(8,))\n",
    "t1.start()\n",
    "t2.start()\n",
    "t1.join()\n",
    "t2.join()\n",
    "print(balance)"
   ]
  },
  {
   "cell_type": "code",
   "execution_count": 114,
   "metadata": {
    "collapsed": true
   },
   "outputs": [
    {
     "name": "stdout",
     "output_type": "stream",
     "text": [
      "Thread Object(1), Time:Mon Dec 19 15:03:21 2016\n",
      "\n",
      "Thread Object(2), Time:Mon Dec 19 15:03:21 2016\n",
      "\n",
      "Thread Object(1), Time:Mon Dec 19 15:03:22 2016\n",
      "\n",
      "Thread Object(1), Time:Mon Dec 19 15:03:23 2016\n",
      "\n",
      "Thread Object(2), Time:Mon Dec 19 15:03:23 2016\n",
      "\n",
      "Thread Object(1), Time:Mon Dec 19 15:03:24 2016\n",
      "\n",
      "Thread Object(1), Time:Mon Dec 19 15:03:25 2016\n",
      "\n",
      "Thread Object(2), Time:Mon Dec 19 15:03:25 2016\n",
      "\n",
      "Thread Object(1), Time:Mon Dec 19 15:03:26 2016\n",
      "\n",
      "Thread Object(1), Time:Mon Dec 19 15:03:27 2016\n",
      "\n",
      "Thread Object(2), Time:Mon Dec 19 15:03:27 2016\n",
      "\n",
      "Thread Object(1), Time:Mon Dec 19 15:03:28 2016\n",
      "\n",
      "Thread Object(1), Time:Mon Dec 19 15:03:29 2016\n",
      "\n",
      "Thread Object(2), Time:Mon Dec 19 15:03:29 2016\n",
      "\n",
      "Thread Object(1), Time:Mon Dec 19 15:03:30 2016\n",
      "\n"
     ]
    }
   ],
   "source": [
    "import threading  \n",
    "import time  \n",
    "class timer(threading.Thread): #The timer class is derived from the class threading.Thread  \n",
    "    def __init__(self, num, interval):  \n",
    "        threading.Thread.__init__(self)  \n",
    "        self.thread_num = num  \n",
    "        self.interval = interval  \n",
    "        self.thread_stop = False  \n",
    "   \n",
    "    def run(self): #Overwrite run() method, put what you want the thread do here  \n",
    "        while not self.thread_stop:  \n",
    "            print ('Thread Object(%d), Time:%s\\n' %(self.thread_num, time.ctime())  )\n",
    "            time.sleep(self.interval)  \n",
    "    def stop(self):  \n",
    "        self.thread_stop = True  \n",
    "         \n",
    "   \n",
    "def test():  \n",
    "    thread1 = timer(1, 1)  \n",
    "    thread2 = timer(2, 2)  \n",
    "    thread1.start()  \n",
    "    thread2.start()  \n",
    "    time.sleep(10)  \n",
    "    thread1.stop()  \n",
    "    thread2.stop()  \n",
    "    return  \n",
    "   \n",
    "if __name__ == '__main__':  \n",
    "    test()"
   ]
  },
  {
   "cell_type": "code",
   "execution_count": 158,
   "metadata": {
    "collapsed": true
   },
   "outputs": [
    {
     "name": "stdout",
     "output_type": "stream",
     "text": [
      "0\n",
      "1\n",
      "2\n",
      "3\n",
      "4\n",
      "0\n",
      "1\n",
      "2\n",
      "3\n",
      "4\n",
      "0\n",
      "1\n",
      "2\n",
      "3\n",
      "4\n"
     ]
    }
   ],
   "source": [
    "import threading\n",
    "import time\n",
    "lock=threading.Lock()\n",
    "def haha(max_num):\n",
    "    \n",
    "    for i in range(max_num):\n",
    "#         time.sleep(1)\n",
    "#         lock.acquire()\n",
    "        print (i)\n",
    "#         lock.release()\n",
    "for x in range(3):\n",
    "    t=threading.Thread(target=haha,args=(5,))\n",
    "    t.start()\n",
    "    #通过join方法让线程逐条执行\n",
    "    t.join()"
   ]
  },
  {
   "cell_type": "code",
   "execution_count": 163,
   "metadata": {
    "collapsed": false
   },
   "outputs": [
    {
     "name": "stdout",
     "output_type": "stream",
     "text": [
      "0\n",
      "10\n",
      "\n",
      "21\n",
      "3\n",
      "40\n",
      "2\n",
      "\n",
      "\n",
      "13\n",
      "\n",
      "24\n",
      "\n",
      "3\n",
      "4\n"
     ]
    }
   ],
   "source": [
    "import threading\n",
    "import time\n",
    "def haha(max_num):\n",
    "    for i in range(max_num):\n",
    "#         time.sleep(1)\n",
    "        print(i)\n",
    "\"\"\"\n",
    "创建一个列表，用于存储要启动多线程的实例\n",
    "\"\"\"\n",
    "threads=[]\n",
    "for x in range(3):\n",
    "    t=threading.Thread(target=haha,args=(5,))\n",
    "    #把多线程的实例追加入列表，要启动几个线程就追加几个实例\n",
    "    threads.append(t)\n",
    "for thr in threads:\n",
    "    #把列表中的实例遍历出来后，调用start()方法以线程启动运行\n",
    "    thr.start()\n",
    "for thr in threads:\n",
    "    \"\"\"\n",
    "    isAlive()方法可以返回True或False，用来判断是否还有没有运行结束\n",
    "    的线程。如果有的话就让主线程等待线程结束之后最后再结束。\n",
    "    \"\"\"\n",
    "    if thr.isAlive():\n",
    "        thr.join()"
   ]
  },
  {
   "cell_type": "code",
   "execution_count": 3,
   "metadata": {
    "collapsed": false
   },
   "outputs": [
    {
     "ename": "ImportError",
     "evalue": "No module named 'Queue'",
     "output_type": "error",
     "traceback": [
      "\u001b[0;31m---------------------------------------------------------------------------\u001b[0m",
      "\u001b[0;31mImportError\u001b[0m                               Traceback (most recent call last)",
      "\u001b[0;32m<ipython-input-3-76cc89b706d5>\u001b[0m in \u001b[0;36m<module>\u001b[0;34m()\u001b[0m\n\u001b[1;32m      2\u001b[0m \u001b[0;32mimport\u001b[0m \u001b[0mthreading\u001b[0m\u001b[0;34m\u001b[0m\u001b[0m\n\u001b[1;32m      3\u001b[0m \u001b[0;32mimport\u001b[0m \u001b[0mrandom\u001b[0m\u001b[0;34m\u001b[0m\u001b[0m\n\u001b[0;32m----> 4\u001b[0;31m \u001b[0;32mimport\u001b[0m \u001b[0mQueue\u001b[0m\u001b[0;34m\u001b[0m\u001b[0m\n\u001b[0m\u001b[1;32m      5\u001b[0m \u001b[0;32mfrom\u001b[0m \u001b[0mtime\u001b[0m \u001b[0;32mimport\u001b[0m \u001b[0msleep\u001b[0m\u001b[0;34m\u001b[0m\u001b[0m\n\u001b[1;32m      6\u001b[0m \u001b[0;32mimport\u001b[0m \u001b[0msys\u001b[0m\u001b[0;34m\u001b[0m\u001b[0m\n",
      "\u001b[0;31mImportError\u001b[0m: No module named 'Queue'"
     ]
    }
   ],
   "source": [
    "#coding:utf-8\n",
    "import threading\n",
    "import random\n",
    "import Queue\n",
    "from time import sleep\n",
    "import sys\n",
    "#\n",
    "#需求分析：有大批量数据需要执行，而且是重复一个函数操作（例如爆破密码），如果全部开始线程数N多，这里控制住线程数m个并行执行，其他等待\n",
    "#\n",
    "#继承一个Thread类，在run方法中进行需要重复的单个函数操作\n",
    "class Test(threading.Thread):\n",
    "    def __init__(self,queue,lock,num):\n",
    "        #传递一个队列queue和线程锁，并行数\n",
    "        threading.Thread.__init__(self)\n",
    "        self.queue=queue\n",
    "        self.lock=lock\n",
    "        self.num=num\n",
    "    def run(self):\n",
    "        #while True:#不使用threading.Semaphore，直接开始所有线程，程序执行完毕线程都还不死，最后的print threading.enumerate()可以看出\n",
    "        with self.num:#同时并行指定的线程数量，执行完毕一个则死掉一个线程\n",
    "            #以下为需要重复的单次函数操作\n",
    "            n=self.queue.get()#等待队列进入\n",
    "            lock.acquire()#锁住线程，防止同时输出造成混乱\n",
    "            print ('开始一个线程：',self.name,'模拟的执行时间：',n)\n",
    "            print ('队列剩余：',queue.qsize())\n",
    "            print (threading.enumerate())\n",
    "            lock.release()\n",
    "            sleep(n)#执行单次操作，这里sleep模拟执行过程\n",
    "            self.queue.task_done()#发出此队列完成信号\n",
    "threads=[]\n",
    "queue=Queue.Queue()\n",
    "lock=threading.Lock()\n",
    "num=threading.Semaphore(3)#设置同时执行的线程数为3，其他等待执行\n",
    "#启动所有线程\n",
    "for i in range(10):#总共需要执行的次数\n",
    "    t=Test(queue,lock,num)\n",
    "    t.start()\n",
    "    threads.append(t)\n",
    "    #吧队列传入线程，是run结束等待开始执行，放下面单独一个for也行，这里少个循环吧\n",
    "    n=random.randint(1,10)\n",
    "    queue.put(n)#模拟执行函数的逐个不同输入\n",
    "#吧队列传入线程，是run结束等待开始执行\n",
    "#for t in threads:\n",
    "#    n=random.randint(1,10)\n",
    "#    queue.put(n)\n",
    "#等待线程执行完毕\n",
    "for t in threads:\n",
    "    t.join()\n",
    "queue.join()#等待队列执行完毕才继续执行，否则下面语句会在线程未接受就开始执行\n",
    "print ('所有执行完毕')\n",
    "print (threading.active_count())\n",
    "print (threading.enumerate())"
   ]
  }
 ],
 "metadata": {
  "kernelspec": {
   "display_name": "Python 3",
   "language": "python",
   "name": "python3"
  },
  "language_info": {
   "codemirror_mode": {
    "name": "ipython",
    "version": 3
   },
   "file_extension": ".py",
   "mimetype": "text/x-python",
   "name": "python",
   "nbconvert_exporter": "python",
   "pygments_lexer": "ipython3",
   "version": "3.5.2"
  }
 },
 "nbformat": 4,
 "nbformat_minor": 2
}
