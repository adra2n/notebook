{
 "cells": [
  {
   "cell_type": "markdown",
   "metadata": {},
   "source": [
    "## 驴妈妈和同程删除过期票型\n",
    "+ 此代码块基本废弃\n",
    "+ 同程自身已经实现删除过期票型\n",
    "+ 驴妈妈代码块也已实现删除过期票型"
   ]
  },
  {
   "cell_type": "code",
   "execution_count": 1,
   "metadata": {
    "collapsed": true
   },
   "outputs": [],
   "source": [
    "import json\n",
    "from pymongo import MongoClient\n",
    "import logging\n",
    "import time\n",
    "\n",
    "class mongodb(object):\n",
    "    abstract = True\n",
    "    _loc = None\n",
    "    \n",
    "    @property\n",
    "    def loc(self):\n",
    "        if self._loc is None:\n",
    "            _loc = MongoClient('mongodb://localhost:27017')\n",
    "            self._loc = _loc[\"test\"]\n",
    "        return self._loc\n",
    "m=mongodb()"
   ]
  },
  {
   "cell_type": "code",
   "execution_count": null,
   "metadata": {
    "collapsed": false
   },
   "outputs": [],
   "source": [
    "def binary_search(array, t):\n",
    "    \"\"\"二分法删除时间t之前的票价列表，返回t时间对应array的索引\n",
    "    \"\"\"\n",
    "    low = 0\n",
    "    height = len(array) - 1\n",
    "    while low <= height:\n",
    "        mid = math.floor((low + height) / 2)\n",
    "\n",
    "        if len(array[mid]['date']) != 10:\n",
    "            try:\n",
    "                array[mid]['date'] = time.strptime(\n",
    "                    array[mid]['date'],\n",
    "                    '%Y-%m-%d'\n",
    "                )\n",
    "                t = time.strptime(t, '%Y-%m-%d')\n",
    "            except Exception as e:\n",
    "                continue\n",
    "\n",
    "        if array[mid]['date'] < t:\n",
    "            low = mid + 1\n",
    "        elif array[mid]['date'] > t:\n",
    "            height = mid - 1\n",
    "        else:\n",
    "            return mid\n",
    "\n",
    "    return low\n",
    "\n",
    "\n",
    "def remove_old_prices(self, scenery_id, today_date):\n",
    "    data_prices = self.smdb['menpiao_goods_tongcheng'].find(\n",
    "        {'sceneryId': scenery_id},\n",
    "        projection={'prices': 1,\n",
    "                    'ticketPriceId': 1,\n",
    "                    'marketPrice': 1,\n",
    "                    'tcAmountPrice': 1,\n",
    "                    '_id': 0}\n",
    "    )\n",
    "\n",
    "    price = -1\n",
    "    market_price = -1\n",
    "    for data_price in data_prices:\n",
    "        if not data_price.get('prices'):\n",
    "            continue\n",
    "\n",
    "        price_index = binary_search(data_price['prices'], today_date)\n",
    "        if price_index < len(data_price['prices']):\n",
    "            if price == -1:\n",
    "                price = data_price.get('tcAmountPrice', -1)\n",
    "                market_price = data_price.get('marketPrice', -1)\n",
    "            elif 0 < data_price.get('tcAmountPrice', -1) < price:\n",
    "                price = data_price['tcAmountPrice']\n",
    "                market_price = data_price['marketPrice']\n",
    "\n",
    "            if price_index > 0:\n",
    "                tmp = (data_price['prices'][0]['date'],\n",
    "                       data_price['prices'][price_index - 1]['date'])\n",
    "                data_price['prices'] = data_price['prices'][price_index:]\n",
    "                if data_price['prices']:\n",
    "                    self.smdb['menpiao_goods_tongcheng'].update_one(\n",
    "                        {'ticketPriceId': data_price['ticketPriceId']},\n",
    "                        {'$set': data_price}\n",
    "                    )\n",
    "        else:\n",
    "            self.smdb['menpiao_goods_tongcheng'].update_one(\n",
    "                {'ticketPriceId': data_price['ticketPriceId']},\n",
    "                {'$unset': {'prices': ''}}\n",
    "            )\n",
    "\n",
    "    self.smdb['menpiao_scenic_tongcheng'].update_one(\n",
    "        {'id': scenery_id},\n",
    "        {'$set': {'price': price, 'marketPrice': market_price}}\n",
    "    )\n",
    "\n",
    "    return ['remove_old_prices', scenery_id, price, market_price]"
   ]
  }
 ],
 "metadata": {
  "kernelspec": {
   "display_name": "Python 3",
   "language": "python",
   "name": "python3"
  },
  "language_info": {
   "codemirror_mode": {
    "name": "ipython",
    "version": 3
   },
   "file_extension": ".py",
   "mimetype": "text/x-python",
   "name": "python",
   "nbconvert_exporter": "python",
   "pygments_lexer": "ipython3",
   "version": "3.5.2"
  }
 },
 "nbformat": 4,
 "nbformat_minor": 2
}
