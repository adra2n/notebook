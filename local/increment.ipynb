{
 "cells": [
  {
   "cell_type": "code",
   "execution_count": 2,
   "metadata": {
    "collapsed": true
   },
   "outputs": [],
   "source": [
    "import hashlib\n",
    "import requests\n",
    "import json\n",
    "import pymongo\n",
    "from pymongo import MongoClient\n",
    "import logging\n",
    "import threading\n",
    "agent_account = 'd79bd00d-ca25-4167-96b8-31c4a25778e1'\n",
    "app_key = '126e7e38-ef8c-427f-8387-90202c9721e4'\n",
    "api_server = 'http://www.lvcang.cn'\n",
    "client=MongoClient('mongodb://localhost:27017')\n",
    "db=client.test\n",
    "scenic=db.menpiao_scenic_tongcheng\n",
    "goods=db.menpiao_goods_tongcheng"
   ]
  },
  {
   "cell_type": "code",
   "execution_count": 12,
   "metadata": {
    "collapsed": true
   },
   "outputs": [],
   "source": [
    "def increament_post(maxIncreament):\n",
    "    sign = hashlib.md5(\n",
    "        '{}{}{}{}'.format(agent_account,maxIncreament, 20, app_key).encode('utf-8')\n",
    "    ).hexdigest()\n",
    "    #data\n",
    "    data={\n",
    "        \"requestHead\": {\n",
    "        \"digitalSign\": sign,\n",
    "        \"agentAccount\": agent_account\n",
    "        },\n",
    "        \"requestBody\": {\n",
    "        \"maxIncrementId\": maxIncreament,\n",
    "        \"queryNumber\": 20\n",
    "        }\n",
    "    }\n",
    "    #post sce_id景点的第i页\n",
    "    r=requests.post('http://www.lvcang.cn/jingqu/Services/GetTicketIncrementService.ashx',data=json.dumps(data))\n",
    "    resp_data = r.json()\n",
    "    return resp_data.get('maxIncrementId', [])\n",
    "\n",
    "def increament_for_insert(inc):\n",
    "    data,maxinc=increament_post(inc)\n",
    "    if inc!=maxinc:\n",
    "        thread=threading.Thread(target=increament_for_insert,args=(maxinc,))\n",
    "        thread.start()\n",
    "    n=len(data)\n",
    "    for i_l in range(n):\n",
    "        item = data[i_l]\n",
    "        item_dict=item\n",
    "        for del_key in ['BCTTicketPriceMode','isCopSys','isPreference']:\n",
    "            item_dict.pop(del_key,'')\n",
    "        goods.update_one({'ticketPriceId':item_dict['ticketPriceId']},{'$set':item_dict},upsert=True)\n",
    "        print('>>>更新进度maxIncrement:{}--i:{},启用进程数：{}>>>'.format(inc,i_l,threading.active_count()))\n",
    "\n",
    "\n",
    "def increament_start():\n",
    "    try:\n",
    "        increament_for_insert(0)\n",
    "    except Exception as e:\n",
    "        logging.exception(e)"
   ]
  },
  {
   "cell_type": "code",
   "execution_count": 15,
   "metadata": {
    "collapsed": false
   },
   "outputs": [
    {
     "name": "stdout",
     "output_type": "stream",
     "text": [
      "11670795==11671966\n",
      "11671966==11672160\n",
      "11672160==[]\n",
      "4\n"
     ]
    }
   ],
   "source": [
    "# lis=[]\n",
    "# def increament_for_insert(inc):\n",
    "#     data,maxinc=increament_post(inc)\n",
    "#     if inc!=maxinc:   \n",
    "#         lis.append(inc)\n",
    "# def increament_start():\n",
    "#     try:\n",
    "#         increament_for_insert(0)\n",
    "#     except Exception as e:\n",
    "#         logging.exception(e)\n",
    "lis=[0]\n",
    "inc=11670795\n",
    "maxinc=increament_post(inc)\n",
    "while inc!=maxinc:        \n",
    "    lis.append(maxinc)\n",
    "    print('{}=={}'.format(inc,maxinc) )\n",
    "    inc=maxinc\n",
    "    maxinc=increament_post(inc)\n",
    "print(len(lis))\n"
   ]
  },
  {
   "cell_type": "code",
   "execution_count": null,
   "metadata": {
    "collapsed": true
   },
   "outputs": [],
   "source": [
    "if __name__=='__main__':\n",
    "    increament_start()"
   ]
  }
 ],
 "metadata": {
  "kernelspec": {
   "display_name": "Python 3",
   "language": "python",
   "name": "python3"
  },
  "language_info": {
   "codemirror_mode": {
    "name": "ipython",
    "version": 3
   },
   "file_extension": ".py",
   "mimetype": "text/x-python",
   "name": "python",
   "nbconvert_exporter": "python",
   "pygments_lexer": "ipython3",
   "version": "3.5.2"
  }
 },
 "nbformat": 4,
 "nbformat_minor": 2
}
