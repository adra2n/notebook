{
 "cells": [
  {
   "cell_type": "code",
   "execution_count": 141,
   "metadata": {
    "collapsed": true
   },
   "outputs": [],
   "source": [
    "import time\n",
    "import hashlib\n",
    "import requests\n",
    "import xmltodict, json\n",
    "import uuid \n",
    "import re\n",
    "import datetime\n",
    "import hashlib\n",
    "import requests\n",
    "import json\n",
    "import pymongo\n",
    "from pymongo import MongoClient\n",
    "import logging\n",
    "import threading\n",
    "import time\n",
    "import redis\n",
    "import progressbar\n",
    "client=MongoClient('mongodb://localhost:27017')\n",
    "db=client.test\n",
    "hotel=db.jiudian_hotels\n",
    "room=db.jiudian_room\n",
    "requestUrl = 'http://api.komovie.cn/movie/service'\n",
    "channelId = 189\n",
    "key = 'GglrL3WIjp6CUZnj'\n",
    "ts = int(time.time())\n",
    "action='plan_Query'\n",
    "cinema_id='10'\n",
    "movie_id='1175240'"
   ]
  },
  {
   "cell_type": "code",
   "execution_count": 144,
   "metadata": {
    "collapsed": false
   },
   "outputs": [
    {
     "data": {
      "text/plain": [
       "1484564177"
      ]
     },
     "execution_count": 144,
     "metadata": {},
     "output_type": "execute_result"
    }
   ],
   "source": [
    "ts"
   ]
  },
  {
   "cell_type": "code",
   "execution_count": 27,
   "metadata": {
    "collapsed": false
   },
   "outputs": [
    {
     "data": {
      "text/plain": [
       "b'plan_Query1011752401484562444GglrL3WIjp6CUZnj'"
      ]
     },
     "execution_count": 27,
     "metadata": {},
     "output_type": "execute_result"
    }
   ],
   "source": [
    "'{}{}{}{}{}'.format(action,cinema_id,movie_id,ts,key).encode('utf-8')"
   ]
  },
  {
   "cell_type": "code",
   "execution_count": 28,
   "metadata": {
    "collapsed": false
   },
   "outputs": [
    {
     "data": {
      "text/plain": [
       "'fff404d49f298219f61baef1807e792d'"
      ]
     },
     "execution_count": 28,
     "metadata": {},
     "output_type": "execute_result"
    }
   ],
   "source": [
    "hashlib.md5(\n",
    "    '{}{}{}{}{}'.format(action,cinema_id,movie_id,ts,key).encode('utf-8')\n",
    ").hexdigest()"
   ]
  },
  {
   "cell_type": "code",
   "execution_count": 148,
   "metadata": {
    "collapsed": false
   },
   "outputs": [
    {
     "data": {
      "text/plain": [
       "'8a5ef45d1a744b337d04f6bf45903db3'"
      ]
     },
     "execution_count": 148,
     "metadata": {},
     "output_type": "execute_result"
    }
   ],
   "source": [
    "ts = int(time.time())\n",
    "enc = hashlib.md5(\n",
    "    '{}{}{}{}{}'.format(action,cinema_id,movie_id,ts,key).encode('utf-8')\n",
    ").hexdigest().lower()\n",
    "enc\n"
   ]
  },
  {
   "cell_type": "code",
   "execution_count": 164,
   "metadata": {
    "collapsed": false
   },
   "outputs": [
    {
     "data": {
      "text/plain": [
       "'{\"e\":{\"desc\":\"wrong sign\",\"code\":5997},\"error\":\"wrong sign\",\"status\":5997,\"cost\":3}'"
      ]
     },
     "execution_count": 164,
     "metadata": {},
     "output_type": "execute_result"
    }
   ],
   "source": [
    "data={\n",
    "    'action':'plan_Query',\n",
    "    'cinema_id':'10',\n",
    "    'movie_id':'1175240',\n",
    "    'time_stamp':str(ts),\n",
    "    'enc':enc\n",
    "}\n",
    "#post 第 i 页\n",
    "r=requests.post(requestUrl,data=data)\n",
    "r.text\n"
   ]
  }
 ],
 "metadata": {
  "kernelspec": {
   "display_name": "Python 3",
   "language": "python",
   "name": "python3"
  },
  "language_info": {
   "codemirror_mode": {
    "name": "ipython",
    "version": 3
   },
   "file_extension": ".py",
   "mimetype": "text/x-python",
   "name": "python",
   "nbconvert_exporter": "python",
   "pygments_lexer": "ipython3",
   "version": "3.5.2"
  }
 },
 "nbformat": 4,
 "nbformat_minor": 2
}
