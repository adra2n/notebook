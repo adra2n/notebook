{
 "cells": [
  {
   "cell_type": "code",
   "execution_count": 7,
   "metadata": {},
   "outputs": [],
   "source": [
    "import requests\n",
    "import hashlib\n",
    "import time\n",
    "from pprint import pprint\n",
    "\n",
    "ZHENLV_URL = \"http://api.tdxinfo.com/service/flight/domestic\"\n",
    "ZHENLV_URL = \"http://apis.travelzen.com/service/flight/domestic\"\n",
    "ZHENLV_USER = \"563716d245ced1d2ea3ffe61\"\n",
    "ZHENLV_SIGN_CODE = \"3e62869b\"\n",
    "ZHENLV_RAW = '<?xml version=\"1.0\" encoding=\"UTF-8\" standalone=\"yes\"?><TzRequest xmlns=\"http://www.travelzen.com/flight/base\" xmlns:domestic=\"http://www.travelzen.com/flight/domestic\" xmlns:insure=\"http://www.travelzen.com/flight/insure\" xmlns:international=\"http://www.travelzen.com/flight/international\" xmlns:basic=\"http://www.travelzen.com/flight/basic\" ><requestMetaInfo><userName>{user}</userName><signCode>{sign}</signCode><timeStamp>{ts}</timeStamp><responseDataType>JSON</responseDataType></requestMetaInfo><requestEntity xmlns:xsi=\"http://www.w3.org/2001/XMLSchema-instance\" xsi:type=\"domestic:FlightSearchV2Request\"><domestic:flightRange><domestic:fromCity>{from_city}</domestic:fromCity><domestic:toCity>{to_city}</domestic:toCity><domestic:fromDate>{date}</domestic:fromDate></domestic:flightRange><domestic:lowestPrice>false</domestic:lowestPrice><domestic:openingTime>true</domestic:openingTime></requestEntity></TzRequest>'\n",
    "\n",
    "from_city=\"SHA\"\n",
    "to_city=\"BJS\"\n",
    "date=\"2018-03-02\"\n",
    "line = \"{}-{}\".format(from_city, to_city)\n",
    "route = \"{}-{}-{}\".format(from_city, to_city, date)\n",
    "calendar_price = 0\n",
    "time_stamp = int(time.time())\n",
    "hstr = \"tzOpenapisignCode{}timeStamp{}userName{}tzOpenapi\".format(ZHENLV_SIGN_CODE, time_stamp, ZHENLV_USER)\n",
    "sign = hashlib.md5(hstr.encode('utf-8')).hexdigest()\n",
    "url = ZHENLV_URL\n",
    "raw = ZHENLV_RAW.format(user=ZHENLV_USER,\n",
    "                             sign=sign,\n",
    "                             ts=time_stamp,\n",
    "                             from_city=from_city,\n",
    "                             to_city=to_city,\n",
    "                             date=date)\n",
    "\n",
    "resp = requests.post(\n",
    "    url,\n",
    "    data=raw,\n",
    "    headers={\"Content-Type\": \"application/xml\"}\n",
    ")\n",
    "resp_data = resp.json()\n"
   ]
  },
  {
   "cell_type": "code",
   "execution_count": 11,
   "metadata": {},
   "outputs": [
    {
     "data": {
      "text/plain": [
       "('SHA-BJS-2018-03-02', 530)"
      ]
     },
     "execution_count": 11,
     "metadata": {},
     "output_type": "execute_result"
    }
   ],
   "source": [
    "data = resp_data['FlightSearchV2Response']['flightSegmentResult'][0]\n",
    "\n",
    "flight_objects = data.get('flightObject', [])\n",
    "for flight_object in flight_objects:\n",
    "    lowest_price = 0\n",
    "    cabin_infos = flight_object.get('cabinInfo', [])\n",
    "    for cabin_info in cabin_infos:\n",
    "        if not lowest_price:\n",
    "            lowest_price = cabin_info.get('facePrice', 0)\n",
    "        elif 0 < cabin_info.get('facePrice', 0) < lowest_price:\n",
    "            lowest_price = cabin_info['facePrice']\n",
    "\n",
    "    if lowest_price and not calendar_price:\n",
    "        calendar_price = lowest_price\n",
    "    elif 0 < lowest_price < calendar_price:\n",
    "        calendar_price = lowest_price\n",
    "\n",
    "route,calendar_price"
   ]
  }
 ],
 "metadata": {
  "kernelspec": {
   "display_name": "Python 3",
   "language": "python",
   "name": "python3"
  },
  "language_info": {
   "codemirror_mode": {
    "name": "ipython",
    "version": 3
   },
   "file_extension": ".py",
   "mimetype": "text/x-python",
   "name": "python",
   "nbconvert_exporter": "python",
   "pygments_lexer": "ipython3",
   "version": "3.6.0"
  }
 },
 "nbformat": 4,
 "nbformat_minor": 2
}
