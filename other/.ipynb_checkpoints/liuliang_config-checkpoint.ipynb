{
 "cells": [
  {
   "cell_type": "code",
   "execution_count": 2,
   "metadata": {
    "collapsed": true
   },
   "outputs": [],
   "source": [
    "from connection import ConnectionTask\n",
    "from pprint import pprint\n",
    "c=ConnectionTask()"
   ]
  },
  {
   "cell_type": "code",
   "execution_count": 11,
   "metadata": {},
   "outputs": [],
   "source": [
    "# liuliang_config 表 新增goodsId字段 by 向王杰\n",
    "for item in c.smdb.liuliang_config.find({},{'appCode':0,'channel':0}):\n",
    "    _id=item.pop('_id')\n",
    "    cmcc=item.get('cmcc',[])\n",
    "    ctcc=item.get('ctcc',[])\n",
    "    cucc=item.get('cucc',[])\n",
    "    for good in cmcc:\n",
    "        good['goodsId']='cmcc_'+good['goods']\n",
    "    for good in ctcc:\n",
    "        good['goodsId']='ctcc_'+good['goods']\n",
    "    for good in cucc:\n",
    "        good['goodsId']='cucc_'+good['goods']\n",
    "#     pprint(item)\n",
    "    c.smdb.liuliang_config.update_one({'_id':_id},{'$set':item})\n",
    "#     break"
   ]
  },
  {
   "cell_type": "code",
   "execution_count": 7,
   "metadata": {
    "scrolled": false
   },
   "outputs": [
    {
     "name": "stdout",
     "output_type": "stream",
     "text": [
      "59e9c0758624f75fe35d4798\n",
      "5a093c4e8624f75fe3703e41\n",
      "59ed90188624f75fe35f192b\n",
      "59edc65a8624f75fe35f3094\n",
      "59ef0af78624f75fe3607a42\n",
      "59362ab3a69b71bc7a3ff1f7\n",
      "59e48e36e4ba494efa42f351\n",
      "59e48e36e4ba494efa42f352\n",
      "59e48e36e4ba494efa42f353\n",
      "59e48e36e4ba494efa42f354\n",
      "59e48e36e4ba494efa42f355\n",
      "59e48e36e4ba494efa42f356\n",
      "59e8209d8624f75fe35c8b05\n",
      "59e8217c8624f75fe35c8b06\n"
     ]
    }
   ],
   "source": [
    "# liuliang_config 表 新增 isInventory 字段 by 向王杰\n",
    "mdb=c.smdb\n",
    "for item in mdb.liuliang_config.find({},{'appCode':0,'channel':0}):\n",
    "    _id=item.pop('_id')\n",
    "    for ccc in ['cmcc','ctcc','cucc']:\n",
    "        if isinstance(item.get(ccc),dict):\n",
    "            for key,value in item.get(ccc,{}).items():\n",
    "                for index,good in enumerate(value):\n",
    "                    mdb.liuliang_config.update_one(\n",
    "                        {'_id':_id},\n",
    "                        {\"$set\":{f\"{ccc}.{key}.{index}.isInventory\":True}}\n",
    "                    )\n",
    "        elif isinstance(item.get(ccc),list):\n",
    "            for index,good in enumerate(item.get(ccc)):\n",
    "                mdb.liuliang_config.update_one(\n",
    "                    {'_id':_id},\n",
    "                    {\"$set\":{f\"{ccc}.{index}.isInventory\":True}}\n",
    "                )\n",
    "    print(_id)\n",
    "    "
   ]
  },
  {
   "cell_type": "code",
   "execution_count": 9,
   "metadata": {},
   "outputs": [
    {
     "name": "stdout",
     "output_type": "stream",
     "text": [
      "59ed90188624f75fe35f192b\n",
      "59e9c0758624f75fe35d4798\n",
      "59edc65a8624f75fe35f3094\n",
      "59ef0af78624f75fe3607a42\n",
      "59362ab3a69b71bc7a3ff1f7\n",
      "59e48e36e4ba494efa42f351\n",
      "59e48e36e4ba494efa42f352\n",
      "59e48e36e4ba494efa42f353\n",
      "59e48e36e4ba494efa42f354\n",
      "59e48e36e4ba494efa42f355\n",
      "59e48e36e4ba494efa42f356\n",
      "59e8209d8624f75fe35c8b05\n",
      "59e8217c8624f75fe35c8b06\n",
      "5a093c4e8624f75fe3703e41\n",
      "5a16b2908624f75fe379ebfd\n",
      "5a1e1d878624f75fe382f988\n"
     ]
    }
   ],
   "source": [
    "# liuliang_config 表 'cmcc','ctcc','cucc' 字段结构变更 by 向王杰\n",
    "mdb=c.smdb\n",
    "for item in mdb.liuliang_config.find({},{'appCode':0,'channel':0}):\n",
    "    _id=item.pop('_id')\n",
    "    for ccc in ['cmcc','ctcc','cucc']:\n",
    "        if isinstance(item.get(ccc),dict):\n",
    "            continue\n",
    "        elif isinstance(item.get(ccc),list):\n",
    "            for index,good in enumerate(item.get(ccc)):\n",
    "                mdb.liuliang_config.update_one(\n",
    "                    {'_id':_id},\n",
    "                    {\"$set\":{f\"{ccc}\":{'domestic':item.get(ccc)}}}\n",
    "                )\n",
    "    print(_id)"
   ]
  }
 ],
 "metadata": {
  "kernelspec": {
   "display_name": "Python 3",
   "language": "python",
   "name": "python3"
  },
  "language_info": {
   "codemirror_mode": {
    "name": "ipython",
    "version": 3
   },
   "file_extension": ".py",
   "mimetype": "text/x-python",
   "name": "python",
   "nbconvert_exporter": "python",
   "pygments_lexer": "ipython3",
   "version": "3.6.0"
  }
 },
 "nbformat": 4,
 "nbformat_minor": 2
}
