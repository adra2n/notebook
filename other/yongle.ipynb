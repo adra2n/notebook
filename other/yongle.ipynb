{
 "cells": [
  {
   "cell_type": "markdown",
   "metadata": {
    "deletable": true,
    "editable": true
   },
   "source": [
    "## dev环境数据拉取"
   ]
  },
  {
   "cell_type": "code",
   "execution_count": 1,
   "metadata": {
    "collapsed": true,
    "deletable": true,
    "editable": true
   },
   "outputs": [],
   "source": [
    "import json\n",
    "import time\n",
    "\n",
    "import requests\n",
    "import xmltodict\n",
    "\n",
    "from connection import ConnectionTask\n",
    "\n",
    "c=ConnectionTask()\n",
    "union_id = 61713180\n",
    "\n",
    "\n",
    "def get_all_fconfig():\n",
    "    url = \"http://61.228.cn/unionOrder/getAllFconfig?unionId={}\".format(union_id)\n",
    "    headers = {\"Action\": \"getAllFconfig\"}\n",
    "    resp_data = requests.post(url=url, headers=headers).text\n",
    "    resp_data = xmltodict.parse(resp_data)['Response']['getFconfigRsp']['fconfigInfo']\n",
    "    c.smdb.piaowu_yongle.delete_many({})\n",
    "    datas_cleanse('piaowu_yongle')\n",
    "    for city in resp_data:\n",
    "        city_code = city['citycode']\n",
    "        get_product_info(city_code)\n",
    "    return 'ok'\n",
    "\n",
    "\n",
    "def get_product_info(city_code):\n",
    "    headers = {\"Action\": \"getAllFconfig\"}\n",
    "    url = \"http://61.228.cn/upload/DataXml/{}/{}.xml\".format(union_id, city_code)\n",
    "    resp_data = requests.get(url, headers=headers).text.replace('http://', 'https://')\n",
    "    try:\n",
    "        resp_data = xmltodict.parse(resp_data)['products']\n",
    "        if not resp_data['subjects']:\n",
    "            return city_code, None\n",
    "\n",
    "        products = resp_data['product']\n",
    "        if not isinstance(products, list):\n",
    "            return city_code, 'no list'\n",
    "    except (KeyError, xmltodict.expat.ExpatError) as why:\n",
    "        return city_code, 'err'\n",
    "\n",
    "    c.smdb.piaowu_yongle.delete_many({'playCityCode': city_code})\n",
    "\n",
    "    for product in products:\n",
    "        product_id = product.pop('productId')\n",
    "        # 字段ticketTimeList 数据整理\n",
    "        ticket_time_list = product.pop('ticketTimeList')\n",
    "        if isinstance(ticket_time_list['ticketTimeInfo'], dict):\n",
    "            # ticketTimeList.ticketTimeInfo must be a list\n",
    "            ticket_time_list['ticketTimeInfo'] = [ticket_time_list['ticketTimeInfo']]\n",
    "        for index, ticket_time_info in enumerate(ticket_time_list['ticketTimeInfo']):\n",
    "            if 'tickSetInfoList' not in ticket_time_info:\n",
    "                continue\n",
    "            tick_set_info_list = ticket_time_info['tickSetInfoList']\n",
    "            if isinstance(tick_set_info_list['tickSetInfo'], dict):\n",
    "                # ticketTimeList.ticketTimeInfo[index].tickSetInfoList.tickSetInfo must be a list\n",
    "                tick_set_info_list['tickSetInfo'] = [tick_set_info_list['tickSetInfo']]\n",
    "                ticket_time_list['ticketTimeInfo'][index]['tickSetInfoList'] = tick_set_info_list\n",
    "        product['ticketTimeList'] = ticket_time_list\n",
    "        c.smdb.piaowu_yongle.update_one({\"productId\": product_id}, {\"$set\": product}, upsert=True)\n",
    "    return city_code, 'ok'\n",
    "\n",
    "def datas_cleanse(database):\n",
    "    resp = requests.get(\"http://192.168.0.6:8024/mongodb_query/delete/{}\".format(database)).json()\n",
    "    if resp['code'] != 200:\n",
    "        raise KeyError\n",
    "    return 'DeleteDatabase: {}'.format(database)"
   ]
  },
  {
   "cell_type": "code",
   "execution_count": null,
   "metadata": {
    "collapsed": false,
    "deletable": true,
    "editable": true
   },
   "outputs": [],
   "source": [
    "get_all_fconfig()"
   ]
  },
  {
   "cell_type": "code",
   "execution_count": null,
   "metadata": {
    "collapsed": false,
    "deletable": true,
    "editable": true
   },
   "outputs": [],
   "source": [
    "datas_cleanse('piaowu_yongle')"
   ]
  },
  {
   "cell_type": "markdown",
   "metadata": {
    "deletable": true,
    "editable": true
   },
   "source": [
    "## 接口测试脚本"
   ]
  },
  {
   "cell_type": "code",
   "execution_count": null,
   "metadata": {
    "collapsed": false,
    "deletable": true,
    "editable": true
   },
   "outputs": [],
   "source": [
    "union_id= 61713180\n",
    "url=\"http://61.228.cn/unionOrder/getAllFconfig?unionId={}\".format(union_id)\n",
    "headers = {\"Action\":\"getAllFconfig\"}\n",
    "resp=requests.post(url=url,headers=headers)\n",
    "resp_data=resp.text\n",
    "# xmltodict.parse(resp_data)['Response']['getFconfigRsp']['fconfigInfo']"
   ]
  },
  {
   "cell_type": "markdown",
   "metadata": {
    "deletable": true,
    "editable": true
   },
   "source": [
    "##  查询所有分站接口（getAllFconfig）"
   ]
  },
  {
   "cell_type": "code",
   "execution_count": null,
   "metadata": {
    "collapsed": false,
    "deletable": true,
    "editable": true
   },
   "outputs": [],
   "source": [
    "# url=\"http://61.228.cn/unionOrder/getAllFconfig?unionId={}\".format(union_id)\n",
    "# headers = {\"Action\":\"getAllFconfig\"}\n",
    "# resp_data=requests.post(url=url,headers=headers).text\n",
    "# resp_data = xmltodict.parse(resp_data)['Response']['getFconfigRsp']['fconfigInfo']\n",
    "# city_data={}\n",
    "# for city in resp_data:\n",
    "#     city_data[city['playCity']]=city['citycode']\n",
    "# city_data\n",
    "#     xmlt_data = (json.loads(\n",
    "#         (json.dumps(xmlt_data, ensure_ascii=False, indent=2)).replace('@', '')))"
   ]
  },
  {
   "cell_type": "code",
   "execution_count": null,
   "metadata": {
    "collapsed": false,
    "deletable": true,
    "editable": true,
    "scrolled": false
   },
   "outputs": [],
   "source": [
    "# 正式环境数据\n",
    "def get_product_info(city_code):\n",
    "    headers = {\"Action\": \"getAllFconfig\"}\n",
    "    url = \"http://lm.228.cn/upload/DataXml/62485393/{}.xml\".format(city_code)\n",
    "    resp_data = requests.get(url, headers=headers).text.replace('http://', 'https://')\n",
    "    \n",
    "    resp_data = xmltodict.parse(resp_data)['products']\n",
    "    return resp_data\n",
    "    products = resp_data['product']\n",
    "    return products\n",
    "dict(get_product_info('0081'))"
   ]
  },
  {
   "cell_type": "code",
   "execution_count": 4,
   "metadata": {
    "collapsed": false
   },
   "outputs": [
    {
     "ename": "AttributeError",
     "evalue": "'ConnectionTask' object has no attribute 'pro'",
     "output_type": "error",
     "traceback": [
      "\u001b[0;31m---------------------------------------------------------------------------\u001b[0m",
      "\u001b[0;31mAttributeError\u001b[0m                            Traceback (most recent call last)",
      "\u001b[0;32m<ipython-input-4-b7a4e27081b6>\u001b[0m in \u001b[0;36m<module>\u001b[0;34m()\u001b[0m\n\u001b[1;32m      3\u001b[0m \u001b[0;32mfor\u001b[0m \u001b[0mcity\u001b[0m \u001b[0;32min\u001b[0m \u001b[0mcitys\u001b[0m\u001b[0;34m:\u001b[0m\u001b[0;34m\u001b[0m\u001b[0m\n\u001b[1;32m      4\u001b[0m     \u001b[0myongle_citys\u001b[0m\u001b[0;34m[\u001b[0m\u001b[0mcity\u001b[0m\u001b[0;34m[\u001b[0m\u001b[0;34m'playCity'\u001b[0m\u001b[0;34m]\u001b[0m\u001b[0;34m]\u001b[0m\u001b[0;34m=\u001b[0m\u001b[0mcity\u001b[0m\u001b[0;34m[\u001b[0m\u001b[0;34m'citycode'\u001b[0m\u001b[0;34m]\u001b[0m\u001b[0;34m\u001b[0m\u001b[0m\n\u001b[0;32m----> 5\u001b[0;31m \u001b[0mcity_insert\u001b[0m\u001b[0;34m(\u001b[0m\u001b[0;34m'piaowu'\u001b[0m\u001b[0;34m,\u001b[0m\u001b[0;34m'yongle'\u001b[0m\u001b[0;34m,\u001b[0m\u001b[0myongle_citys\u001b[0m\u001b[0;34m)\u001b[0m\u001b[0;34m\u001b[0m\u001b[0m\n\u001b[0m",
      "\u001b[0;32m<ipython-input-3-36b9df58a04f>\u001b[0m in \u001b[0;36mcity_insert\u001b[0;34m(app_code, channel, city_data)\u001b[0m\n\u001b[1;32m      7\u001b[0m         \u001b[0;32mfor\u001b[0m \u001b[0mds\u001b[0m \u001b[0;32min\u001b[0m \u001b[0mdel_str\u001b[0m\u001b[0;34m:\u001b[0m\u001b[0;34m\u001b[0m\u001b[0m\n\u001b[1;32m      8\u001b[0m             \u001b[0mname\u001b[0m\u001b[0;34m=\u001b[0m\u001b[0mname\u001b[0m\u001b[0;34m.\u001b[0m\u001b[0mreplace\u001b[0m\u001b[0;34m(\u001b[0m\u001b[0mds\u001b[0m\u001b[0;34m,\u001b[0m\u001b[0;34m''\u001b[0m\u001b[0;34m)\u001b[0m \u001b[0;32mif\u001b[0m \u001b[0mds\u001b[0m \u001b[0;32min\u001b[0m \u001b[0mname\u001b[0m \u001b[0;32melse\u001b[0m \u001b[0mname\u001b[0m\u001b[0;34m\u001b[0m\u001b[0m\n\u001b[0;32m----> 9\u001b[0;31m         \u001b[0mdata\u001b[0m\u001b[0;34m=\u001b[0m\u001b[0mt\u001b[0m\u001b[0;34m.\u001b[0m\u001b[0mpro\u001b[0m\u001b[0;34m.\u001b[0m\u001b[0mcity\u001b[0m\u001b[0;34m.\u001b[0m\u001b[0mfind\u001b[0m\u001b[0;34m(\u001b[0m\u001b[0;34m{\u001b[0m\u001b[0;34m'name'\u001b[0m\u001b[0;34m:\u001b[0m\u001b[0mre\u001b[0m\u001b[0;34m.\u001b[0m\u001b[0mcompile\u001b[0m\u001b[0;34m(\u001b[0m\u001b[0mname\u001b[0m\u001b[0;34m)\u001b[0m\u001b[0;34m}\u001b[0m\u001b[0;34m)\u001b[0m\u001b[0;34m\u001b[0m\u001b[0m\n\u001b[0m\u001b[1;32m     10\u001b[0m         \u001b[0;32mif\u001b[0m \u001b[0mdata\u001b[0m\u001b[0;34m.\u001b[0m\u001b[0mcount\u001b[0m\u001b[0;34m(\u001b[0m\u001b[0;34m)\u001b[0m\u001b[0;34m==\u001b[0m\u001b[0;36m1\u001b[0m\u001b[0;34m:\u001b[0m\u001b[0;34m\u001b[0m\u001b[0m\n\u001b[1;32m     11\u001b[0m             \u001b[0mname\u001b[0m\u001b[0;34m=\u001b[0m\u001b[0mdata\u001b[0m\u001b[0;34m[\u001b[0m\u001b[0;36m0\u001b[0m\u001b[0;34m]\u001b[0m\u001b[0;34m[\u001b[0m\u001b[0;34m'name'\u001b[0m\u001b[0;34m]\u001b[0m\u001b[0;34m\u001b[0m\u001b[0m\n",
      "\u001b[0;31mAttributeError\u001b[0m: 'ConnectionTask' object has no attribute 'pro'"
     ]
    }
   ],
   "source": [
    "citys=get_all_fconfig()\n",
    "yongle_citys={}\n",
    "for city in citys:\n",
    "    yongle_citys[city['playCity']]=city['citycode']"
   ]
  },
  {
   "cell_type": "code",
   "execution_count": 2,
   "metadata": {
    "collapsed": false,
    "deletable": true,
    "editable": true,
    "scrolled": true
   },
   "outputs": [],
   "source": [
    "YONGLE_UNIONID = 62485393\n",
    "def get_all_fconfig():\n",
    "    url = \"http://lm.228.cn/unionOrder/getAllFconfig?unionId={}\".format(YONGLE_UNIONID)\n",
    "    headers = {\"Action\": \"getAllFconfig\"}\n",
    "    resp_data = requests.post(url=url, headers=headers).text\n",
    "    resp_data = xmltodict.parse(resp_data)['Response']['getFconfigRsp']['fconfigInfo']\n",
    "    for city in resp_data:\n",
    "        city_code = city['citycode']\n",
    "#         get_product_info.apply_async(args=[city_code], queue=conf.MQ_YONGLE)\n",
    "    return resp_data\n",
    "# get_all_fconfig()"
   ]
  },
  {
   "cell_type": "code",
   "execution_count": null,
   "metadata": {
    "collapsed": false,
    "deletable": true,
    "editable": true
   },
   "outputs": [],
   "source": [
    "# 订单轮训接口 根据联盟id和永乐订单id、时间查询订单接口（getOrderList）\n",
    "YONGLE_UNIONID = 62485393\n",
    "from bs4 import BeautifulSoup\n",
    "\n",
    "def order_status_polling(data):\n",
    "    url = \"http://lm.228.cn/unionOrder/findOrderByUnionidAndOrderid\"\n",
    "    headers = {\"Action\": \"findOrderByUnionidAndOrderid\"}\n",
    "    payload={\n",
    "        'unionId':YONGLE_UNIONID,\n",
    "        'unionOrderId':data['orderId']\n",
    "    }\n",
    "    resp = requests.get(url=url, headers=headers,params=payload).text\n",
    "    resp_data = BeautifulSoup(resp, \"html5lib\")\n",
    "    return resp_data.find('orderstarus').text\n",
    "\n",
    "order_status_polling({'orderId':'blm102407380811820'})"
   ]
  }
 ],
 "metadata": {
  "kernelspec": {
   "display_name": "Python 3",
   "language": "python",
   "name": "python3"
  },
  "language_info": {
   "codemirror_mode": {
    "name": "ipython",
    "version": 3
   },
   "file_extension": ".py",
   "mimetype": "text/x-python",
   "name": "python",
   "nbconvert_exporter": "python",
   "pygments_lexer": "ipython3",
   "version": "3.6.0"
  }
 },
 "nbformat": 4,
 "nbformat_minor": 2
}
