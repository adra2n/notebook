{
 "cells": [
  {
   "cell_type": "code",
   "execution_count": 2,
   "metadata": {},
   "outputs": [],
   "source": [
    "import requests\n",
    "import time \n",
    "import json\n",
    "import hashlib\n",
    "from pprint import pprint\n",
    "import urllib.parse\n",
    "import binascii\n",
    "from requests.packages.urllib3 import disable_warnings\n",
    "from connection import ConnectionTask\n",
    "c=ConnectionTask()\n",
    "disable_warnings()\n",
    "\n",
    "ELE_HOST = 'https://openapi.ele.me/v2'\n",
    "ELE_CONSUMER_KEY = '5634882370'\n",
    "ELE_CONSUMER_SECRET = 'f754a8c2efe5a98fba814cc94971dcd6793945c0'\n",
    "\n",
    "def concat_params(params):\n",
    "    pairs = []\n",
    "    for key in sorted(params):\n",
    "        if key == 'sig':\n",
    "            continue\n",
    "        val = params[key]\n",
    "        if isinstance(val,str):\n",
    "            val = urllib.parse.quote_plus(val)\n",
    "        pairs.append(\"{}={}\".format(key, val))\n",
    "    return '&'.join(pairs)\n",
    "def gen_sig(path_url, params, consumer_secret):\n",
    "    params = concat_params(params)\n",
    "\n",
    "    to_hash = hashlib.sha1(binascii.hexlify('{}?{}{}'.format(\n",
    "        path_url, params, consumer_secret\n",
    "    ).encode('utf-8')))\n",
    "    sig = to_hash.hexdigest()\n",
    "    return sig"
   ]
  },
  {
   "cell_type": "code",
   "execution_count": 3,
   "metadata": {},
   "outputs": [],
   "source": [
    "# 订单状态\n",
    "def order_status_fetch(data):\n",
    "    params = {\n",
    "        \"timestamp\": int(time.time()),\n",
    "        \"consumer_key\": ELE_CONSUMER_KEY\n",
    "    }\n",
    "    url = ELE_HOST + \"/order/{}/status/\".format(data['partnerId'])\n",
    "    params[\"sig\"] = gen_sig(url, params, ELE_CONSUMER_SECRET)\n",
    "    resp = requests.get(url, params=params, verify=False).json()\n",
    "    data['statusCode']=resp['data']['status_code']\n",
    "    return data\n",
    "# print(resp)\n",
    "# print(resp['data']['status_code'])"
   ]
  },
  {
   "cell_type": "code",
   "execution_count": 9,
   "metadata": {},
   "outputs": [
    {
     "data": {
      "text/plain": [
       "{'orderId': 'ala203675812173684',\n",
       " 'partnerId': '3019967166476323978',\n",
       " 'statusCode': -1}"
      ]
     },
     "execution_count": 9,
     "metadata": {},
     "output_type": "execute_result"
    }
   ],
   "source": [
    "order_status_fetch({\"orderId\":\"ala203675812173684\",\"partnerId\":\"3019967166476323978\"})"
   ]
  },
  {
   "cell_type": "code",
   "execution_count": null,
   "metadata": {},
   "outputs": [],
   "source": [
    "start,end,count = time.mktime((2018,1,8,0,0,0,0,0,0))*1000,time.mktime((2018,1,22,0,0,0,0,0,0))*1000,0\n",
    "order_list=[]\n",
    "for item in c.pmdb.order_waimai.find({'status':4,'createdAt':{'$gte':start,'$lt':end}},{'id':1,'partnerId':1,'_id':0,'completedAt':1}):\n",
    "    resp=order_status_fetch(item)\n",
    "    count+=1\n",
    "    if resp['statusCode'] != 2:\n",
    "        print(resp)\n",
    "        order_list.append(resp)\n",
    "    print('completedAt:{},count:{}'.format(time.strftime(\"%Y-%m-%d\",time.localtime(item.get('completedAt',0)/1000)),count),end='\\r')"
   ]
  },
  {
   "cell_type": "code",
   "execution_count": null,
   "metadata": {},
   "outputs": [],
   "source": [
    "[item['id'] for item in order_list]"
   ]
  },
  {
   "cell_type": "code",
   "execution_count": 8,
   "metadata": {
    "scrolled": true
   },
   "outputs": [
    {
     "name": "stdout",
     "output_type": "stream",
     "text": [
      "93\r"
     ]
    }
   ],
   "source": [
    "# 检查数据库是否有已退款，但饿了么为已完成订单。\n",
    "start,end = time.mktime((2018,2,27,0,0,0,0,0,0))*1000, time.mktime((2018,2,28,0,0,0,0,0,0))*1000\n",
    "count=0\n",
    "for item in c.pmdb.order_waimai.find({'status':7,'createdAt':{'$gte':start}},{'id':1,'partnerId':1,'_id':0,'timeline':1}):\n",
    "    resp = order_status_fetch(item)\n",
    "    if resp['statusCode']==2:\n",
    "        print(item['id'],resp,item['timeline'])\n",
    "    count+=1\n",
    "    print(count,end='\\r')\n",
    "    "
   ]
  },
  {
   "cell_type": "code",
   "execution_count": null,
   "metadata": {},
   "outputs": [],
   "source": [
    "# 补偿订单\n",
    "start=time.mktime((2017,9,28,0,0,0,0,0,0))*1000\n",
    "end=time.mktime((2017,9,30,6,0,0,0,0,0))*1000\n",
    "# print(start,end)\n",
    "waimai_order_message=[{'orderId':item['id'],'partnerId':item['partnerId'],'displayStatus':item['displayStatus']} for item in c.pmdb.order_waimai.find({'createdAt':{'$gte':start,'$lt':end}, 'status':{'$in':[9]}, 'displayStatus':\"配送中\"},{'_id':0,'id':1,'partnerId':1,'displayStatus':1})]\n",
    "for item in waimai_order_message:\n",
    "    item=order_status_fetch(item)"
   ]
  },
  {
   "cell_type": "code",
   "execution_count": null,
   "metadata": {},
   "outputs": [],
   "source": [
    "order = [item['orderId'] for item in waimai_order_message if item['statusCode'] ==2]"
   ]
  },
  {
   "cell_type": "code",
   "execution_count": null,
   "metadata": {
    "scrolled": true
   },
   "outputs": [],
   "source": [
    "for item in c.pmdb.order_waimai.find({'id':{'$in':order}},{'_id':0,'id':1,'appCode':1}):\n",
    "    refund_id=c.prdb_paym(0).get('r_mapper:{}:{}'.format(item['appCode'],item['id']))\n",
    "    if not refund_id:\n",
    "        continue\n",
    "    c.prdb_paym(0).delete('r_mapper:{}:{}'.format(item['appCode'],item['id']))\n",
    "    c.prdb_paym(2).delete('r:{}:{}'.format(item['appCode'],refund_id))\n",
    "    print(item['id'],item['appCode'],refund_id,)\n"
   ]
  },
  {
   "cell_type": "code",
   "execution_count": null,
   "metadata": {
    "collapsed": true
   },
   "outputs": [],
   "source": [
    "# ala202037982041713 91ala ala222037984007795"
   ]
  },
  {
   "cell_type": "code",
   "execution_count": null,
   "metadata": {},
   "outputs": [],
   "source": [
    "# 获取城市列表city-list\n",
    "# 通过接口获取饿了么支持的城市列表\n",
    "\n",
    "params = {\n",
    "    \"timestamp\": int(time.time()),\n",
    "    \"consumer_key\": ELE_CONSUMER_KEY\n",
    "}\n",
    "url = ELE_HOST + \"/cities/\"\n",
    "params[\"sig\"] = gen_sig(url, params, ELE_CONSUMER_SECRET)\n",
    "resp = requests.get(url, params=params).json()\n",
    "# {'code': 200, 'data': {'cities': [{'abbr': 'SH', 'id': 1, 'name': '上海'},...]}}\n",
    "print(resp['data']['cities'][0])"
   ]
  },
  {
   "cell_type": "code",
   "execution_count": null,
   "metadata": {
    "scrolled": true
   },
   "outputs": [],
   "source": [
    "ele_citys={item['name']:item['id'] for item in resp['data']['cities']}\n",
    "with open('/data/ele_citys.json','w') as f:\n",
    "    json.dump(ele_citys,f)"
   ]
  },
  {
   "cell_type": "code",
   "execution_count": null,
   "metadata": {
    "collapsed": true
   },
   "outputs": [],
   "source": []
  },
  {
   "cell_type": "code",
   "execution_count": null,
   "metadata": {},
   "outputs": [],
   "source": [
    "# 搜索餐厅restaurants-search\n",
    "# 根据指定的条件查询餐厅，返回餐厅信息列表\n",
    "\n",
    "params = {\n",
    "    \"timestamp\": int(time.time()),\n",
    "    \"consumer_key\": ELE_CONSUMER_KEY,\n",
    "    \"geo\":\"104.081056,30.660252\",\n",
    "}\n",
    "url = ELE_HOST + \"/restaurants/\"\n",
    "params[\"sig\"] = gen_sig(url, params, ELE_CONSUMER_SECRET)\n",
    "resp = requests.get(url, params=params).json()\n",
    "# {'code': 200, 'data': {'cities': [{'abbr': 'SH', 'id': 1, 'name': '上海'},...]}}\n",
    "print(resp)\n",
    "print(resp['data'])"
   ]
  },
  {
   "cell_type": "code",
   "execution_count": null,
   "metadata": {},
   "outputs": [],
   "source": [
    "# 查询餐厅信息restaurant-get\n",
    "# 根据指定的ID查询餐厅信息\n",
    "params = {\n",
    "    \"timestamp\": int(time.time()),\n",
    "    \"consumer_key\": ELE_CONSUMER_KEY\n",
    "}\n",
    "url = ELE_HOST + \"/restaurant/{}/\".format(2108634)\n",
    "params[\"sig\"] = gen_sig(url, params, ELE_CONSUMER_SECRET)\n",
    "resp = requests.get(url, params=params).json()\n",
    "# {'code': 200, 'data': {'cities': [{'abbr': 'SH', 'id': 1, 'name': '上海'},...]}}\n",
    "print(resp)\n",
    "pprint(resp['data'])"
   ]
  },
  {
   "cell_type": "code",
   "execution_count": null,
   "metadata": {},
   "outputs": [],
   "source": [
    "# 查询餐厅起送价restaurant-deliver-amount\n",
    "# 根据地理位置坐标查询某一个指定餐厅的起送价\n",
    "params = {\n",
    "    \"timestamp\": int(time.time()),\n",
    "    \"consumer_key\": ELE_CONSUMER_KEY,\n",
    "    \"geo\": \"1200.181855,30.657077\"\n",
    "}\n",
    "url = ELE_HOST + \"/restaurant/{}/deliver_amount/\".format(156282495)\n",
    "params[\"sig\"] = gen_sig(url, params, ELE_CONSUMER_SECRET)\n",
    "\n",
    "resp = requests.get(url, params=params)\n",
    "resp_data=resp.json()\n",
    "pprint(resp_data)\n",
    "# print(resp_data['data'])"
   ]
  },
  {
   "cell_type": "code",
   "execution_count": null,
   "metadata": {
    "scrolled": true
   },
   "outputs": [],
   "source": [
    "# 翼支付状态推送\n",
    "url=\"http://e-commerce.test.bestpay.net\"\n",
    "channelCode=\"el_00001\"\n",
    "import requests\n",
    "import json\n",
    "import arrow\n",
    "body={\n",
    "  \"traceLogId\":\"bp202197824742121\",\n",
    "  \"model\":{\n",
    "        \"requestId\": \"chanelCode{}\".format(arrow.now().format(\"YYYYMMDDHHmmss\")),\n",
    "        \"channelCode\": \"el_00001\",\n",
    "        \"phoneNo\": \"15214387213\",\n",
    "        \"message\": \"配送中\",\n",
    "        \"actionUrl\":\"https://bestpay.otosaas.com\"+\"/waimai/orderDetails/{}\".format('bp202197824742121')\n",
    "}\n",
    "}\n",
    "\n",
    "# url='https://e-commerce-pre.bestpay.com.cn'\n",
    "# url='http://116.228.151.161:19107'\n",
    "url='https://e-commerce.bestpay.com.cn'\n",
    "requests.post(url+\"/electronic/messageNotice\",json=body).json()"
   ]
  },
  {
   "cell_type": "code",
   "execution_count": null,
   "metadata": {},
   "outputs": [],
   "source": [
    "import arrow\n",
    "date=arrow.now().format(\"YYYYMMDDHHmmss\")\n",
    "date"
   ]
  },
  {
   "cell_type": "code",
   "execution_count": null,
   "metadata": {
    "collapsed": true
   },
   "outputs": [],
   "source": [
    "[2017-12-16 09:11:28] 26247-INFO state::ele_status():l-113: {'tp_order_id': 'bp202937344269314', 'extra': '{}', 'new_status': '-1', 'eleme_order_id': '3016734133980301468', 'created_at': '1513386688', 'push_action': '2'}\n",
    "[2017-12-16 09:11:28] 26247-INFO state::ele_status():l-113: {'tp_order_id': 'bp202937344269314', 'extra': '{\"invalid_type\": 16, \"description\": \"\\\\u6682\\\\u65f6\\\\u65e0\\\\u6cd5\\\\u914d\\\\u9001:\\\\u914d\\\\u9001\\\\u4eba\\\\u624b\\\\u4e0d\\\\u8db3\\\\uff0c\\\\u65e0\\\\u6cd5\\\\u63d0\\\\u4f9b\\\\u914d\\\\u9001\\\\u3002\"}', 'eleme_order_id': '3016734133980301468', 'created_at': '1513386688', 'push_action': '2', 'new_status': '-1'}"
   ]
  },
  {
   "cell_type": "code",
   "execution_count": null,
   "metadata": {
    "collapsed": true
   },
   "outputs": [],
   "source": [
    "start = time.mktime((2017,12,27,10,0,0,0,0,0))*1000\n",
    "end = time.mktime((2017,12,27,13,0,0,0,0,0))*1000\n",
    "for item in c.pmdb.order_waimai.find({'createdAt':{'$gte':start,'$lt':end},\n",
    "                                     'status':}):\n",
    "    print(item)"
   ]
  },
  {
   "cell_type": "code",
   "execution_count": null,
   "metadata": {},
   "outputs": [],
   "source": [
    "with open('/data/logs/compensation.log') as f:\n",
    "    compensation_log=f.read()\n",
    "compensation_log[:1000]"
   ]
  },
  {
   "cell_type": "code",
   "execution_count": null,
   "metadata": {
    "scrolled": true
   },
   "outputs": [],
   "source": [
    "import tablib\n",
    "import ast\n",
    "tab_data=tablib.Dataset(headers=['订单号','手机号'])\n",
    "\n",
    "import re\n",
    "rc=re.compile('2017-12-27 18:4.*')\n",
    "for item in re.findall(rc, compensation_log):\n",
    "    try:\n",
    "        order_id = ast.literal_eval(item.split(']')[-1].replace(' ',''))['orderId']\n",
    "    except Exception as e:\n",
    "        print(e)\n",
    "    if c.prdb_mast(0).sismember('bestpay_order_list',order_id):\n",
    "        phone = rrdb.execute_command(\"jget\", \"o:{}\".format(order_id),\"/userPhone\")\n",
    "        tab_data.append([order_id, phone])\n"
   ]
  },
  {
   "cell_type": "code",
   "execution_count": null,
   "metadata": {
    "collapsed": true
   },
   "outputs": [],
   "source": []
  },
  {
   "cell_type": "code",
   "execution_count": null,
   "metadata": {},
   "outputs": [],
   "source": [
    "with open('bestpay-12月27日-订单失败用户统计.xlsx', 'wb') as f:\n",
    "    f.write(tab_data.xlsx)"
   ]
  },
  {
   "cell_type": "code",
   "execution_count": null,
   "metadata": {
    "scrolled": true
   },
   "outputs": [],
   "source": [
    "import redis\n",
    "import urllib3\n",
    "urllib3.disable_warnings()\n",
    "\n",
    "rrdb = redis.StrictRedis(host='rrdb.localdomain',port=16379,db=0,charset=\"UTF-8\",decode_responses=True)\n",
    "\n",
    "for order_id in c.prdb_mast(0).sscan_iter('bestpay_order_list'):\n",
    "    order = json.loads(rrdb.execute_command(\"jget\", \"o:{}\".format(order_id),\"/\"))\n",
    "    if order['status'] in [9, 4, 11]:\n",
    "        continue\n",
    "    item={\n",
    "            \"orderId\": order['id'],\n",
    "            \"paymentSerial\": order['paymentSerial'],\n",
    "            \"orderType\": order['orderType'],\n",
    "            \"appCode\": order['appCode'],\n",
    "            \"partnerId\": order['partnerId']\n",
    "            }\n",
    "    resp=order_status_fetch({'orderId':order['id'],'partnerId':order['partnerId']})\n",
    "    if resp['statusCode'] == 2:\n",
    "        message={\n",
    "            \"taskName\":\"worker.ele.order_status_polling\",\n",
    "            \"queue\":\"ele_tasks\",\n",
    "            \"args\":item\n",
    "        }\n",
    "        c.prdb_mast(0).rpush('session_task_hub',message)\n",
    "    else:\n",
    "        c.prdb_paym(1).hmset('p:{}:{}'.format(item['appCode'], item['paymentSerial']), {'status':2,'channel':order['channel']})\n",
    "        c.prdb_paym(1).rpush('compensation',item)"
   ]
  },
  {
   "cell_type": "code",
   "execution_count": null,
   "metadata": {},
   "outputs": [],
   "source": [
    "import redis\n",
    "import urllib3\n",
    "urllib3.disable_warnings()\n",
    "\n",
    "rrdb = redis.StrictRedis(host='rrdb.localdomain',port=16379,db=0,charset=\"UTF-8\",decode_responses=True)\n",
    "with open('/data/logs/bestpay_ids.txt') as f:\n",
    "    text_bestpay = f.read()\n",
    "order_id_list = text_bestpay.replace(' ','').replace('\"','').split('\\n')\n",
    "for order_id in order_id_list:\n",
    "    order = json.loads(rrdb.execute_command(\"jget\", \"o:{}\".format(order_id),\"/\"))\n",
    "    if order['status'] in [9, 4, 11, 7]:\n",
    "        continue\n",
    "    item={\n",
    "            \"orderId\": order['id'],\n",
    "            \"paymentSerial\": order['paymentSerial'],\n",
    "            \"orderType\": order['orderType'],\n",
    "            \"appCode\": order['appCode'],\n",
    "            \"partnerId\": order['partnerId']\n",
    "            }\n",
    "    resp=order_status_fetch({'orderId':order['id'],'partnerId':order['partnerId']})\n",
    "    if resp['statusCode'] == 2:\n",
    "        message={\n",
    "            \"taskName\":\"worker.ele.order_status_polling\",\n",
    "            \"queue\":\"ele_tasks\",\n",
    "            \"args\":item\n",
    "        }\n",
    "        c.prdb_mast(0).rpush('session_task_hub',message)\n",
    "    else:\n",
    "        c.prdb_paym(1).hmset('p:{}:{}'.format(item['appCode'], item['paymentSerial']), {'status':2,'channel':'bestpay'})\n",
    "        c.prdb_paym(1).rpush('compensation',item)\n",
    "        print(item['paymentSerial'])\n",
    "#         break"
   ]
  },
  {
   "cell_type": "code",
   "execution_count": null,
   "metadata": {
    "collapsed": true
   },
   "outputs": [],
   "source": [
    "with open('/data/logs/bestpay.txt') as f:\n",
    "    bestpay=f.read()"
   ]
  },
  {
   "cell_type": "code",
   "execution_count": null,
   "metadata": {},
   "outputs": [],
   "source": [
    "order_id_map_payment={}\n",
    "for item in bestpay.replace(' ','').split('\\n'):\n",
    "    it=item.split('\"')\n",
    "    try:\n",
    "        order_id_map_payment[it[1]]=it[-2]\n",
    "    except:\n",
    "        print(it)\n",
    "\n",
    "for order_id in order_id_map_payment:\n",
    "    try:\n",
    "        payment_id = c.pmdb.order_waimai.find_one({'id':order_id},{'paidList':1})['paidList'][0]\n",
    "    except:\n",
    "        continue\n",
    "    if payment_id!=order_id_map_payment[order_id]:\n",
    "        c.pmdb.order_waimai.update_one({'id':order_id},{'$set':{'paidList':[order_id_map_payment[order_id]]}})\n",
    "        requests.get('http://dpp.boluome.com/order/sync?orderId={}'.format(order_id))\n",
    "        print(order_id,payment_id,order_id_map_payment[order_id])"
   ]
  }
 ],
 "metadata": {
  "kernelspec": {
   "display_name": "Python 3",
   "language": "python",
   "name": "python3"
  },
  "language_info": {
   "codemirror_mode": {
    "name": "ipython",
    "version": 3
   },
   "file_extension": ".py",
   "mimetype": "text/x-python",
   "name": "python",
   "nbconvert_exporter": "python",
   "pygments_lexer": "ipython3",
   "version": "3.6.0"
  }
 },
 "nbformat": 4,
 "nbformat_minor": 2
}
