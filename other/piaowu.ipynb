{
 "cells": [
  {
   "cell_type": "markdown",
   "metadata": {
    "deletable": true,
    "editable": true
   },
   "source": [
    "## dev环境数据拉取"
   ]
  },
  {
   "cell_type": "code",
   "execution_count": 1,
   "metadata": {
    "collapsed": true,
    "deletable": true,
    "editable": true
   },
   "outputs": [],
   "source": [
    "import json\n",
    "import time\n",
    "\n",
    "import requests\n",
    "import xmltodict\n",
    "\n",
    "from connection import ConnectionTask\n",
    "\n",
    "c=ConnectionTask()\n",
    "union_id = 61713180\n",
    "\n",
    "\n",
    "def get_all_fconfig():\n",
    "    url = \"http://61.228.cn/unionOrder/getAllFconfig?unionId={}\".format(union_id)\n",
    "    headers = {\"Action\": \"getAllFconfig\"}\n",
    "    resp_data = requests.post(url=url, headers=headers).text\n",
    "    resp_data = xmltodict.parse(resp_data)['Response']['getFconfigRsp']['fconfigInfo']\n",
    "    c.smdb.piaowu_yongle.delete_many({})\n",
    "    datas_cleanse('piaowu_yongle')\n",
    "    for city in resp_data:\n",
    "        city_code = city['citycode']\n",
    "        get_product_info(city_code)\n",
    "    return 'ok'\n",
    "\n",
    "\n",
    "def get_product_info(city_code):\n",
    "    headers = {\"Action\": \"getAllFconfig\"}\n",
    "    url = \"http://61.228.cn/upload/DataXml/{}/{}.xml\".format(union_id, city_code)\n",
    "    resp_data = requests.get(url, headers=headers).text.replace('http://', 'https://')\n",
    "    try:\n",
    "        resp_data = xmltodict.parse(resp_data)['products']\n",
    "        if not resp_data['subjects']:\n",
    "            return city_code, None\n",
    "\n",
    "        products = resp_data['product']\n",
    "        if not isinstance(products, list):\n",
    "            return city_code, 'no list'\n",
    "    except (KeyError, xmltodict.expat.ExpatError) as why:\n",
    "        return city_code, 'err'\n",
    "\n",
    "    c.smdb.piaowu_yongle.delete_many({'playCityCode': city_code})\n",
    "\n",
    "    for product in products:\n",
    "        product_id = product.pop('productId')\n",
    "        # 字段ticketTimeList 数据整理\n",
    "        ticket_time_list = product.pop('ticketTimeList')\n",
    "        if isinstance(ticket_time_list['ticketTimeInfo'], dict):\n",
    "            # ticketTimeList.ticketTimeInfo must be a list\n",
    "            ticket_time_list['ticketTimeInfo'] = [ticket_time_list['ticketTimeInfo']]\n",
    "        for index, ticket_time_info in enumerate(ticket_time_list['ticketTimeInfo']):\n",
    "            if 'tickSetInfoList' not in ticket_time_info:\n",
    "                continue\n",
    "            tick_set_info_list = ticket_time_info['tickSetInfoList']\n",
    "            if isinstance(tick_set_info_list['tickSetInfo'], dict):\n",
    "                # ticketTimeList.ticketTimeInfo[index].tickSetInfoList.tickSetInfo must be a list\n",
    "                tick_set_info_list['tickSetInfo'] = [tick_set_info_list['tickSetInfo']]\n",
    "                ticket_time_list['ticketTimeInfo'][index]['tickSetInfoList'] = tick_set_info_list\n",
    "        product['ticketTimeList'] = ticket_time_list\n",
    "        c.smdb.piaowu_yongle.update_one({\"productId\": product_id}, {\"$set\": product}, upsert=True)\n",
    "    return city_code, 'ok'\n",
    "\n",
    "def datas_cleanse(database):\n",
    "    resp = requests.get(\"http://192.168.0.6:8024/mongodb_query/delete/{}\".format(database)).json()\n",
    "    if resp['code'] != 200:\n",
    "        raise KeyError\n",
    "    return 'DeleteDatabase: {}'.format(database)"
   ]
  },
  {
   "cell_type": "code",
   "execution_count": null,
   "metadata": {
    "collapsed": false,
    "deletable": true,
    "editable": true
   },
   "outputs": [],
   "source": [
    "get_all_fconfig()"
   ]
  },
  {
   "cell_type": "code",
   "execution_count": null,
   "metadata": {
    "collapsed": false,
    "deletable": true,
    "editable": true
   },
   "outputs": [],
   "source": [
    "datas_cleanse('piaowu_yongle')"
   ]
  },
  {
   "cell_type": "markdown",
   "metadata": {
    "deletable": true,
    "editable": true
   },
   "source": [
    "## 接口测试脚本"
   ]
  },
  {
   "cell_type": "code",
   "execution_count": null,
   "metadata": {
    "collapsed": false,
    "deletable": true,
    "editable": true
   },
   "outputs": [],
   "source": [
    "union_id= 61713180\n",
    "url=\"http://61.228.cn/unionOrder/getAllFconfig?unionId={}\".format(union_id)\n",
    "headers = {\"Action\":\"getAllFconfig\"}\n",
    "resp=requests.post(url=url,headers=headers)\n",
    "resp_data=resp.text\n",
    "# xmltodict.parse(resp_data)['Response']['getFconfigRsp']['fconfigInfo']"
   ]
  },
  {
   "cell_type": "markdown",
   "metadata": {
    "deletable": true,
    "editable": true
   },
   "source": [
    "##  查询所有分站接口（getAllFconfig）"
   ]
  },
  {
   "cell_type": "code",
   "execution_count": null,
   "metadata": {
    "collapsed": false,
    "deletable": true,
    "editable": true
   },
   "outputs": [],
   "source": [
    "# url=\"http://61.228.cn/unionOrder/getAllFconfig?unionId={}\".format(union_id)\n",
    "# headers = {\"Action\":\"getAllFconfig\"}\n",
    "# resp_data=requests.post(url=url,headers=headers).text\n",
    "# resp_data = xmltodict.parse(resp_data)['Response']['getFconfigRsp']['fconfigInfo']\n",
    "# city_data={}\n",
    "# for city in resp_data:\n",
    "#     city_data[city['playCity']]=city['citycode']\n",
    "# city_data\n",
    "#     xmlt_data = (json.loads(\n",
    "#         (json.dumps(xmlt_data, ensure_ascii=False, indent=2)).replace('@', '')))"
   ]
  },
  {
   "cell_type": "code",
   "execution_count": null,
   "metadata": {
    "collapsed": false,
    "deletable": true,
    "editable": true,
    "scrolled": false
   },
   "outputs": [],
   "source": [
    "# 正式环境数据\n",
    "def get_product_info(city_code):\n",
    "    headers = {\"Action\": \"getAllFconfig\"}\n",
    "    url = \"http://lm.228.cn/upload/DataXml/62485393/{}.xml\".format(city_code)\n",
    "    resp_data = requests.get(url, headers=headers).text.replace('http://', 'https://')\n",
    "    \n",
    "    resp_data = xmltodict.parse(resp_data)['products']\n",
    "    return resp_data\n",
    "    products = resp_data['product']\n",
    "    return products\n",
    "dict(get_product_info('0081'))"
   ]
  },
  {
   "cell_type": "code",
   "execution_count": 8,
   "metadata": {
    "collapsed": false
   },
   "outputs": [],
   "source": [
    "citys=get_all_fconfig()\n",
    "yongle_citys={}\n",
    "for city in citys:\n",
    "    yongle_citys[city['playCity']]=city['citycode']\n",
    "with open('/data/logs/yongle_citys.json','w') as f:\n",
    "    json.dump(yongle_citys,f)"
   ]
  },
  {
   "cell_type": "code",
   "execution_count": 2,
   "metadata": {
    "collapsed": false,
    "deletable": true,
    "editable": true,
    "scrolled": true
   },
   "outputs": [],
   "source": [
    "YONGLE_UNIONID = 62485393\n",
    "def get_all_fconfig():\n",
    "    url = \"http://lm.228.cn/unionOrder/getAllFconfig?unionId={}\".format(YONGLE_UNIONID)\n",
    "    headers = {\"Action\": \"getAllFconfig\"}\n",
    "    resp_data = requests.post(url=url, headers=headers).text\n",
    "    resp_data = xmltodict.parse(resp_data)['Response']['getFconfigRsp']['fconfigInfo']\n",
    "    for city in resp_data:\n",
    "        city_code = city['citycode']\n",
    "#         get_product_info.apply_async(args=[city_code], queue=conf.MQ_YONGLE)\n",
    "    return resp_data\n",
    "# get_all_fconfig()"
   ]
  },
  {
   "cell_type": "code",
   "execution_count": null,
   "metadata": {
    "collapsed": false,
    "deletable": true,
    "editable": true
   },
   "outputs": [],
   "source": [
    "# 订单轮训接口 根据联盟id和永乐订单id、时间查询订单接口（getOrderList）\n",
    "YONGLE_UNIONID = 62485393\n",
    "from bs4 import BeautifulSoup\n",
    "\n",
    "def order_status_polling(data):\n",
    "    url = \"http://lm.228.cn/unionOrder/findOrderByUnionidAndOrderid\"\n",
    "    headers = {\"Action\": \"findOrderByUnionidAndOrderid\"}\n",
    "    payload={\n",
    "        'unionId':YONGLE_UNIONID,\n",
    "        'unionOrderId':data['orderId']\n",
    "    }\n",
    "    resp = requests.get(url=url, headers=headers,params=payload).text\n",
    "    resp_data = BeautifulSoup(resp, \"html5lib\")\n",
    "    return resp_data.find('orderstarus').text\n",
    "\n",
    "order_status_polling({'orderId':'blm102407380811820'})"
   ]
  }
 ],
 "metadata": {
  "kernelspec": {
   "display_name": "Python 3",
   "language": "python",
   "name": "python3"
  },
  "language_info": {
   "codemirror_mode": {
    "name": "ipython",
    "version": 3
   },
   "file_extension": ".py",
   "mimetype": "text/x-python",
   "name": "python",
   "nbconvert_exporter": "python",
   "pygments_lexer": "ipython3",
   "version": "3.6.0"
  }
 },
 "nbformat": 4,
 "nbformat_minor": 2
}
