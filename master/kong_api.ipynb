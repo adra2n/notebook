{
 "cells": [
  {
   "cell_type": "code",
   "execution_count": 12,
   "metadata": {
    "scrolled": true
   },
   "outputs": [
    {
     "data": {
      "text/plain": [
       "'{\"appId\":157,\"customerId\":266}'"
      ]
     },
     "execution_count": 12,
     "metadata": {},
     "output_type": "execute_result"
    }
   ],
   "source": [
    "from connection import ConnectionTask\n",
    "import requests\n",
    "import json\n",
    "class KongConnection(ConnectionTask):\n",
    "    def __getitem__(self, env):\n",
    "        if env == \"dev\":\n",
    "            return self.drdb_new(0)\n",
    "        elif env == \"stg\":\n",
    "            return self.srdb_new(0)\n",
    "        elif env == \"pro\":\n",
    "            return self.prdb_mast(0)\n",
    "k = KongConnection()\n",
    "k['dev'].hget('customers','91ala')\n"
   ]
  },
  {
   "cell_type": "code",
   "execution_count": 19,
   "metadata": {},
   "outputs": [],
   "source": [
    "app_config = {\n",
    "    \"appCode\":\"cebbank\",\n",
    "    \"appId\":172,\n",
    "    \"customerId\":281\n",
    "}\n",
    "def kong_add_app(app_config,env='dev'):\n",
    "    return k[env].hset('customers',app_config.pop('appCode'),json.dumps(app_config))\n"
   ]
  },
  {
   "cell_type": "code",
   "execution_count": 20,
   "metadata": {},
   "outputs": [
    {
     "data": {
      "text/plain": [
       "1"
      ]
     },
     "execution_count": 20,
     "metadata": {},
     "output_type": "execute_result"
    }
   ],
   "source": [
    "kong_add_app(app_config,env='dev')"
   ]
  }
 ],
 "metadata": {
  "kernelspec": {
   "display_name": "Python 3",
   "language": "python",
   "name": "python3"
  },
  "language_info": {
   "codemirror_mode": {
    "name": "ipython",
    "version": 3
   },
   "file_extension": ".py",
   "mimetype": "text/x-python",
   "name": "python",
   "nbconvert_exporter": "python",
   "pygments_lexer": "ipython3",
   "version": "3.6.0"
  }
 },
 "nbformat": 4,
 "nbformat_minor": 2
}
