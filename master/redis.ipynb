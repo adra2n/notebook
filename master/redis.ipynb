{
 "cells": [
  {
   "cell_type": "markdown",
   "metadata": {},
   "source": [
    "## pg 脚本\n",
    "\n",
    "+ 补全 历史数据ID字段\n",
    "+ ID字段创建为主键\n",
    "+ dev pament db=1"
   ]
  },
  {
   "cell_type": "code",
   "execution_count": 1,
   "metadata": {},
   "outputs": [],
   "source": [
    "from __future__ import absolute_import, unicode_literals\n",
    "\n",
    "import json\n",
    "\n",
    "import psycopg2\n",
    "import redis\n",
    "from logging import exception\n",
    "from pprint import pprint\n",
    "from collections import defaultdict\n",
    "import conf\n",
    "\n",
    "class Connection():\n",
    "    abstract = True\n",
    "    _rdb1 = None\n",
    "    _rdb2 = None\n",
    "    _pgconn = None\n",
    "\n",
    "    @property\n",
    "    def rdb_1(self):\n",
    "        if self._rdb1 is None:\n",
    "            self._rdb1 = redis.StrictRedis(host=conf.REDIS_PAYMENT_HOST,\n",
    "                                           port=conf.REDIS_ACTIVITY_PORT,\n",
    "                                           db=1,\n",
    "                                           charset=\"utf-8\", \n",
    "                                           decode_responses=True)\n",
    "        return self._rdb1\n",
    "\n",
    "    @property\n",
    "    def rdb_2(self):\n",
    "        if self._rdb2 is None:\n",
    "            self._rdb2 = redis.StrictRedis(host=conf.REDIS_PAYMENT_HOST,\n",
    "                                           port=conf.REDIS_ACTIVITY_PORT,\n",
    "                                           db=2,\n",
    "                                           charset=\"utf-8\", \n",
    "                                           decode_responses=True)\n",
    "        return self._rdb2\n",
    "    \n",
    "    @property\n",
    "    def pgconn(self):\n",
    "        if self._pgconn is None:\n",
    "            self._pgconn = psycopg2.connect(conf.PG_BOLUOME)\n",
    "        return self._pgconn\n",
    "    \n",
    "    def test(self):\n",
    "        print('e')\n",
    "        return self.rdb_1.keys('p:*')\n",
    "    \n",
    "c=Connection()"
   ]
  },
  {
   "cell_type": "code",
   "execution_count": 19,
   "metadata": {},
   "outputs": [],
   "source": [
    "def paid_id_fetch(order_id,app_code,rdb):\n",
    "    return rdb.hgetall('p:{}:{}'.format(app_code,order_id))\n",
    "def pgpay_add_id():\n",
    "    conn = psycopg2.connect(conf.PG_BOLUOME)\n",
    "    with conn:\n",
    "        with conn.cursor() as cur:\n",
    "            cur.execute(('SELECT '\n",
    "                         '  * '\n",
    "                         'FROM '\n",
    "                         '  pay '))\n",
    "            data=cur.fetchall()\n",
    "            for index,row in enumerate(data):\n",
    "                order_id=row[0]\n",
    "                app_code=row[-2]\n",
    "#                 print(app_code,order_id)\n",
    "                resp=paid_id_fetch(order_id,app_code,c.rdb_1)\n",
    "                paid_id=resp.get('id')\n",
    "                if not resp:\n",
    "                    return ['err',order_id,app_code]\n",
    "                else:\n",
    "                    if not paid_id:\n",
    "                        paid_id=order_id\n",
    "                    cur.execute(\n",
    "                        \"\"\"UPDATE pay\n",
    "                           SET id=%s\n",
    "                        WHERE order_id=%s;\"\"\",\n",
    "                        (paid_id,order_id)\n",
    "                    )\n",
    "    return \n",
    "# pgpay_add_id()"
   ]
  },
  {
   "cell_type": "markdown",
   "metadata": {},
   "source": [
    "## REDIS 数据同步\n",
    "+ 支付 db=1"
   ]
  },
  {
   "cell_type": "code",
   "execution_count": 248,
   "metadata": {},
   "outputs": [],
   "source": [
    "def redis_pay_task():\n",
    "    resp=True\n",
    "    while resp:\n",
    "        resp=c.rdb_1.lpop('pay_tasks')\n",
    "        if resp:\n",
    "            print('redis_pay_task',resp)\n",
    "            redis_up(resp)\n",
    "            \n",
    "#             resp=False\n",
    "            \n",
    "    return 'finish'\n",
    "    \n",
    "def redis_up(app_code_id,key=None,keys=None):\n",
    "    if keys is None:\n",
    "        keys=[]\n",
    "    if key is None:\n",
    "        key=True\n",
    "    while key:\n",
    "        key=c.rdb_1.spop('up:{}'.format(app_code_id))\n",
    "        if key:\n",
    "            keys.append(key)\n",
    "    if not keys:\n",
    "        print('up: no data')\n",
    "        return 'up: no data'\n",
    "    print('redis_up',app_code_id,keys)\n",
    "    return redis_p_id(app_code_id,keys)\n",
    "\n",
    "\n",
    "def redis_p_id(app_code_id,keys):\n",
    "    values=c.rdb_1.hmget('p:{}'.format(app_code_id),keys)\n",
    "    data={k:values[i] for i,k in enumerate(keys) if values[i]}\n",
    "    if not data:\n",
    "        print('p: no data')\n",
    "        return 'p: no data'\n",
    "    data['paidId']=app_code_id.split(':')[-1]\n",
    "    print(data)\n",
    "    return pg_upsert(data)\n",
    "\n",
    "def redis_err_id(paid_id):\n",
    "    c.rdb_1.rpush('pay_err',paid_id)\n",
    "    return 'pay_err_id insert ok'\n",
    "\n",
    "def pg_upsert(data):\n",
    "    map_key={\n",
    "        'appCode':'app_code',\n",
    "        'chargeId':'charge_id',\n",
    "        'orderType':'order_type',\n",
    "        'paidAt':'paid_at',\n",
    "        'payPrice':'pay_price',\n",
    "        'serialNum':'serial_num',\n",
    "        'userId':'user_id',\n",
    "        'paidId':'id',\n",
    "        'createdAt':'created_at',\n",
    "        'id':'order_id',\n",
    "    }\n",
    "    pg_data={map_key.get(k,k):v for k,v in data.items()}\n",
    "    conn = psycopg2.connect(conf.PG_BOLUOME)\n",
    "    try:\n",
    "        with conn:\n",
    "            with conn.cursor() as cur:\n",
    "                if 'order_id' in pg_data:\n",
    "                    cur.execute(\"\"\"INSERT INTO pay(\n",
    "                        order_id, price, pay_price, channel, user_id, charge_id, created_at, \n",
    "                        order_type, status, serial_num, app_code, id)\n",
    "                        VALUES (%s,%s,%s,%s,%s,%s,%s,%s,%s,%s,%s,%s);\"\"\",\n",
    "                        [pg_data.get('order_id'),pg_data.get('price'),pg_data.get('pay_price'),\n",
    "                        pg_data.get('channel'),pg_data.get('user_id'),pg_data.get('charge_id'),\n",
    "                        pg_data.get('created_at'),pg_data.get('order_type'),pg_data.get('status'),\n",
    "                        pg_data.get('serial_num'),pg_data.get('app_code'),pg_data.get('id')]\n",
    "                    )\n",
    "                else:\n",
    "                    sql_set=''\n",
    "                    for key,value in pg_data.items():\n",
    "                        sql_set+=key+'='+'%s'+','\n",
    "                    sql_set=sql_set.strip(',')\n",
    "                    sql_values=[v for v in pg_data.values()]\n",
    "                    sql_values.append(pg_data['id'])\n",
    "                    sql=\"\"\"UPDATE pay SET {} WHERE id=%s;\"\"\".format(sql_set)\n",
    "                    cur.execute(sql,sql_values)\n",
    "            conn.commit()\n",
    "    except Exception as e :\n",
    "        exception(e)\n",
    "        redis_err_id(pg_data['id'])\n",
    "        return 'upsert err ,data error'\n",
    "    conn.close()\n",
    "    print(pg_data)\n",
    "    return 'upsert ok'"
   ]
  },
  {
   "cell_type": "code",
   "execution_count": 770,
   "metadata": {},
   "outputs": [],
   "source": [
    "# redis_pay_task()"
   ]
  },
  {
   "cell_type": "markdown",
   "metadata": {},
   "source": [
    "+ 退款 db=2"
   ]
  },
  {
   "cell_type": "code",
   "execution_count": 369,
   "metadata": {
    "collapsed": true
   },
   "outputs": [],
   "source": [
    "def redis_pay_task():\n",
    "    resp=True\n",
    "    while resp:\n",
    "        resp=c.rdb_2.lpop('refund_tasks')\n",
    "        if resp:\n",
    "            print('redis_pay_task',resp)\n",
    "            redis_up(resp)\n",
    "            \n",
    "#             resp=False\n",
    "            \n",
    "    return 'finish'\n",
    "    \n",
    "def redis_up(app_code_id,key=None,keys=None):\n",
    "    if keys is None:\n",
    "        keys=[]\n",
    "    if key is None:\n",
    "        key=True\n",
    "    while key:\n",
    "        key=c.rdb_2.spop('up:{}'.format(app_code_id))\n",
    "        if key:\n",
    "            keys.append(key)\n",
    "    if not keys:\n",
    "        print('up: no data')\n",
    "        return 'up: no data'\n",
    "    print('redis_up',app_code_id,keys)\n",
    "    return redis_r_id(app_code_id,keys)\n",
    "\n",
    "\n",
    "def redis_r_id(app_code_id,keys):\n",
    "    values=c.rdb_2.hmget('r:{}'.format(app_code_id),keys)\n",
    "    data={k:values[i] for i,k in enumerate(keys) if values[i]}\n",
    "    if not data:\n",
    "        print('r: no data')\n",
    "        return 'r: no data'\n",
    "    data['paidId']=app_code_id.split(':')[-1]\n",
    "    print(data)\n",
    "    return pg_upsert(data)\n",
    "\n",
    "def redis_err_id(paid_id):\n",
    "    c.rdb_2.rpush('refund_err',paid_id)\n",
    "    return 'pay_err_id insert ok'\n",
    "\n",
    "def pg_upsert(data):\n",
    "    map_key={\n",
    "        'appCode':'app_code',\n",
    "        'refundedtimeline':'refunded_timeline',\n",
    "        'ordertype':'order_type',\n",
    "        'paidprice':'pay_price',\n",
    "        'refundedprice':'refunded_price',\n",
    "        'userid':'user_id',\n",
    "        'createdat':'created_at',\n",
    "        'id':'order_id',\n",
    "        'paidId':'id'\n",
    "    }\n",
    "    pg_data={map_key.get(k,k):v for k,v in data.items()}\n",
    "    pg_data.setdefault('app_code','boluome')\n",
    "    conn = psycopg2.connect(conf.PG_BOLUOME)\n",
    "    try:\n",
    "        with conn:\n",
    "            with conn.cursor() as cur:\n",
    "                if 'order_id' in pg_data:\n",
    "                    cur.execute(\"\"\"INSERT INTO refund(\n",
    "                        price, paid_price, refunded_price, timeline, refunded_timeline, \n",
    "                        created_at, user_id, order_type, order_id, app_code, id)\n",
    "                        VALUES (%s,%s,%s,%s,%s,%s,%s,%s,%s,%s,%s);\"\"\",\n",
    "                        [pg_data.get('price'),pg_data.get('paid_price'),pg_data.get('refunded_price'),\n",
    "                        pg_data.get('timeline'),pg_data.get('refunded_timeline'),pg_data.get('created_at'),\n",
    "                        pg_data.get('user_id'),pg_data.get('order_type'),pg_data.get('order_id'),\n",
    "                        pg_data.get('app_code'),pg_data.get('id')]\n",
    "                    )\n",
    "                else:\n",
    "                    sql_set=''\n",
    "                    for key,value in pg_data.items():\n",
    "                        sql_set+=key+'='+'%s'+','\n",
    "                    sql_set=sql_set.strip(',')\n",
    "                    sql_values=[v for v in pg_data.values()]\n",
    "                    sql_values.append(pg_data['id'])\n",
    "                    sql=\"\"\"UPDATE refund SET {} WHERE id=%s;\"\"\".format(sql_set)\n",
    "                    cur.execute(sql,sql_values)\n",
    "            conn.commit()\n",
    "    except Exception as e :\n",
    "        exception(e)\n",
    "        redis_err_id(pg_data['id'])\n",
    "        return 'upsert err ,data error'\n",
    "    conn.close()\n",
    "    print(pg_data)\n",
    "    return 'upsert ok'"
   ]
  },
  {
   "cell_type": "code",
   "execution_count": 771,
   "metadata": {
    "scrolled": true
   },
   "outputs": [],
   "source": [
    "# redis_pay_task()"
   ]
  },
  {
   "cell_type": "code",
   "execution_count": 384,
   "metadata": {},
   "outputs": [
    {
     "data": {
      "text/plain": [
       "[1, 2]"
      ]
     },
     "execution_count": 384,
     "metadata": {},
     "output_type": "execute_result"
    }
   ],
   "source": [
    "a=[]\n",
    "b=1\n",
    "c=a.append(b) if b else 0\n",
    "a,c\n",
    "keys=[1,2]\n",
    "keys = [] if keys is None else keys\n",
    "keys"
   ]
  },
  {
   "cell_type": "code",
   "execution_count": 387,
   "metadata": {},
   "outputs": [
    {
     "data": {
      "text/plain": [
       "0"
      ]
     },
     "execution_count": 387,
     "metadata": {},
     "output_type": "execute_result"
    }
   ],
   "source": [
    "def test():\n",
    "    return 1 if 0 else 0\n",
    "test()"
   ]
  },
  {
   "cell_type": "code",
   "execution_count": 399,
   "metadata": {},
   "outputs": [
    {
     "data": {
      "text/plain": [
       "0"
      ]
     },
     "execution_count": 399,
     "metadata": {},
     "output_type": "execute_result"
    }
   ],
   "source": [
    "task_name=0\n",
    "task = 1 if task_name in ['pay_tasks', 1] else 0\n",
    "task"
   ]
  },
  {
   "cell_type": "markdown",
   "metadata": {},
   "source": [
    "## 整合版"
   ]
  },
  {
   "cell_type": "code",
   "execution_count": 930,
   "metadata": {
    "collapsed": true
   },
   "outputs": [],
   "source": [
    "from __future__ import absolute_import, unicode_literals\n",
    "\n",
    "import json\n",
    "\n",
    "import psycopg2\n",
    "import redis\n",
    "from logging import exception\n",
    "from pprint import pprint\n",
    "import conf\n",
    "\n",
    "\n",
    "class PgTask():\n",
    "    abstract = True\n",
    "    _rdb1 = None\n",
    "    _rdb2 = None\n",
    "    _pgconn = None\n",
    "\n",
    "    @property\n",
    "    def rdb_1(self):\n",
    "        if self._rdb1 is None:\n",
    "            self._rdb1 = redis.StrictRedis(host=conf.REDIS_PAYMENT_HOST,\n",
    "                                           port=conf.REDIS_PORT,\n",
    "                                           db=1,\n",
    "                                           charset=\"utf-8\",\n",
    "                                           decode_responses=True)\n",
    "        return self._rdb1\n",
    "\n",
    "    @property\n",
    "    def rdb_2(self):\n",
    "        if self._rdb2 is None:\n",
    "            self._rdb2 = redis.StrictRedis(host=conf.REDIS_PAYMENT_HOST,\n",
    "                                           port=conf.REDIS_PORT,\n",
    "                                           db=2,\n",
    "                                           charset=\"utf-8\",\n",
    "                                           decode_responses=True)\n",
    "        return self._rdb2\n",
    "\n",
    "    @property\n",
    "    def pgconn(self):\n",
    "        if self._pgconn is None:\n",
    "            self._pgconn = psycopg2.connect(conf.PG_BOLUOME)\n",
    "        return self._pgconn\n",
    "p=PgTask()"
   ]
  },
  {
   "cell_type": "code",
   "execution_count": 951,
   "metadata": {},
   "outputs": [
    {
     "name": "stdout",
     "output_type": "stream",
     "text": [
      "{'appCode': 'boluome',\n",
      " 'createdAt': '1488542310002',\n",
      " 'id': '100000396616',\n",
      " 'name': '钱包充值 - 0.01元',\n",
      " 'orderType': 'balance',\n",
      " 'paidAt': '1488542310002',\n",
      " 'price': '1',\n",
      " 'serialNum': '10000039661600',\n",
      " 'status': '1',\n",
      " 'type': '0',\n",
      " 'userId': 'blm_rlco03m'}\n"
     ]
    },
    {
     "data": {
      "text/plain": [
       "'100000396616'"
      ]
     },
     "execution_count": 951,
     "metadata": {},
     "output_type": "execute_result"
    }
   ],
   "source": [
    "data=p.rdb_1.hgetall('p:{0}:{1}'.format('boluome', '100000396616')) or p.rdb_1.hgetall('p:{0}:{1}'.format('boluome', '100000396616'+'00'))\n",
    "pprint(data)\n",
    "data.get('id','') or data.get('serialNum','')"
   ]
  },
  {
   "cell_type": "code",
   "execution_count": 773,
   "metadata": {
    "collapsed": true
   },
   "outputs": [],
   "source": [
    "def redis_pay_task(task_name):\n",
    "    resp = True\n",
    "    task = 1 if task_name in ['pay_tasks', 1] else 2\n",
    "    while resp:\n",
    "        resp = p.rdb_1.lpop('pay_tasks') if task == 1 else p.rdb_2.lpop('refund_tasks')\n",
    "        redis_up(resp, task) if resp else 0\n",
    "        resp=False\n",
    "    return ['task name', task, 'finish']"
   ]
  },
  {
   "cell_type": "code",
   "execution_count": 774,
   "metadata": {
    "collapsed": true
   },
   "outputs": [],
   "source": [
    "def redis_up(app_code_id, task_name, key=None, keys=None):\n",
    "    keys = [] if keys is None else keys\n",
    "    key = True if key is None else key\n",
    "    while key:\n",
    "        if task_name == 1:\n",
    "            key = p.rdb_1.spop('up:{}'.format(app_code_id))\n",
    "        elif task_name == 2:\n",
    "            key = p.rdb_2.spop('up:{}'.format(app_code_id))\n",
    "        keys.append(key) if key else 0\n",
    "    return redis_p_id(app_code_id, keys, task_name) if keys else [task_name, 'up: no data']"
   ]
  },
  {
   "cell_type": "code",
   "execution_count": 775,
   "metadata": {
    "collapsed": true
   },
   "outputs": [],
   "source": [
    "def redis_p_id(app_code_id, keys, task_name):\n",
    "    if ':' not in app_code_id:\n",
    "        app_code_id='boluome:'+app_code_id\n",
    "    if task_name == 1:\n",
    "        values = p.rdb_1.hmget('p:{}'.format(app_code_id), keys)\n",
    "    if task_name == 2:\n",
    "        values = p.rdb_2.hmget('r:{}'.format(app_code_id), keys)\n",
    "    data = {k: values[i] for i, k in enumerate(keys) if values[i]}\n",
    "    if not data:\n",
    "        return 'p: no data'\n",
    "    data['paidId'] = app_code_id.split(':')[-1]\n",
    "    return pg_upsert(data, task_name)"
   ]
  },
  {
   "cell_type": "code",
   "execution_count": 820,
   "metadata": {
    "collapsed": true
   },
   "outputs": [],
   "source": [
    "def redis_err_id(paid_id, task_name):\n",
    "    if task_name == 1:\n",
    "        p.rdb_1.lrem('pay_err_1', 0, paid_id)\n",
    "        p.rdb_1.rpush('pay_err_1', paid_id)\n",
    "        print('pay_err_id insert ok')\n",
    "        return 'pay_err_id insert ok'\n",
    "    else:\n",
    "        p.rdb_2.lrem('paid_err_2', 0, paid_id)\n",
    "        p.rdb_2.rpush('paid_err_2', paid_id)\n",
    "        print('refund_err_id insert ok')\n",
    "        return 'refund_err_id insert ok'"
   ]
  },
  {
   "cell_type": "code",
   "execution_count": 850,
   "metadata": {},
   "outputs": [],
   "source": [
    "def pg_upsert(data, task_name):\n",
    "    map_key = {\n",
    "            'appCode': 'app_code',\n",
    "            'refundedTimeline': 'refunded_timeline',\n",
    "            'orderType': 'order_type',\n",
    "            'paidPrice': 'paid_price',\n",
    "            'refundedPrice': 'refunded_price',\n",
    "            'userId': 'user_id',\n",
    "            'createdAt': 'created_at',\n",
    "            'id': 'order_id',\n",
    "            'paidId': 'id',\n",
    "            'timeline':'timeline',\n",
    "            'paidAt':'paid_at',\n",
    "            'chargeId': 'charge_id',\n",
    "            'paidAt': 'paid_at',\n",
    "            'payPrice': 'pay_price',\n",
    "            'serialNum': 'serial_num',\n",
    "        }\n",
    "    pg_data = {map_key.get(k, k): v for k, v in data.items()}\n",
    "    print(pg_data)\n",
    "    if task_name == 1:\n",
    "        try:\n",
    "            with p.pgconn.cursor() as cur:\n",
    "                if 'order_id' in pg_data:\n",
    "                    pg_data.setdefault('app_code', 'boluome')\n",
    "                    cur.execute(\"\"\"INSERT INTO pay(\n",
    "                        order_id, price, pay_price, channel, user_id, charge_id, created_at, \n",
    "                        order_type, status, serial_num, app_code, id)\n",
    "                        VALUES (%s,%s,%s,%s,%s,%s,%s,%s,%s,%s,%s,%s);\"\"\",\n",
    "                                [pg_data.get('order_id'), pg_data.get('price'), pg_data.get('pay_price'),\n",
    "                                    pg_data.get('channel'), pg_data.get('user_id'), pg_data.get('charge_id'),\n",
    "                                    pg_data.get('created_at'), pg_data.get('order_type'), pg_data.get('status'),\n",
    "                                    pg_data.get('serial_num'), pg_data.get('app_code'), pg_data.get('id')]\n",
    "                                )\n",
    "                else:\n",
    "                    sql_set = ''\n",
    "                    sql_values=[]\n",
    "                    for key, value in pg_data.items():\n",
    "                        if key in['order_id', 'price', 'pay_price', 'channel', 'user_id', 'charge_id', 'created_at', \n",
    "                                'order_type', 'status', 'serial_num', 'app_code', 'id']:\n",
    "                            sql_set += key + '=' + '%s' + ','\n",
    "                            sql_values.append(value)\n",
    "                    sql_set = sql_set.strip(',')\n",
    "#                     sql_values = [v for v in pg_data.values()]\n",
    "                    sql_values.append(pg_data['id'])\n",
    "                    sql = \"\"\"UPDATE pay SET {} WHERE id=%s;\"\"\".format(sql_set)\n",
    "                    print(sql,sql_values)\n",
    "                    cur.execute(sql, sql_values)\n",
    "            p.pgconn.commit()\n",
    "        except Exception as e:\n",
    "            p.pgconn.rollback()\n",
    "            with p.pgconn.cursor() as cur:\n",
    "                cur.execute(\"\"\"SELECT * FROM pay WHERE id=%s\"\"\",\n",
    "                            (pg_data.get('id'), ))\n",
    "                data = cur.fetchone()\n",
    "            if data:\n",
    "                pg_data.pop('order_id') if 'order_id' in pg_data else 0\n",
    "                pg_data['paidId']=pg_data.pop('id')\n",
    "                pg_upsert(pg_data, task_name)\n",
    "\n",
    "            else:\n",
    "                redis_err_id(pg_data['id'], task_name)\n",
    "                exception(e)\n",
    "#             exception(e)\n",
    "#             p.pgconn.rollback()\n",
    "#             redis_err_id(pg_data['id'], task_name)\n",
    "            return 'upsert err ,data error'\n",
    "    if task_name == 2:\n",
    "        try:\n",
    "            with p.pgconn.cursor() as cur:\n",
    "                if 'order_id' in pg_data:\n",
    "                    pg_data.setdefault('app_code', 'boluome')\n",
    "                    print(pg_data)\n",
    "                    cur.execute(\"\"\"INSERT INTO refund(\n",
    "                            price, paid_price, refunded_price, timeline, refunded_timeline, \n",
    "                            created_at, user_id, order_type, order_id, app_code, id,paid_at)\n",
    "                            VALUES (%s,%s,%s,%s,%s,%s,%s,%s,%s,%s,%s,%s);\"\"\",\n",
    "                                [pg_data.get('price'), pg_data.get('paid_price'), pg_data.get('refunded_price'),\n",
    "                                 pg_data.get('timeline'), pg_data.get(\n",
    "                                     'refunded_timeline'), pg_data.get('created_at'),\n",
    "                                 pg_data.get('user_id'), pg_data.get('order_type'), pg_data.get('order_id'),\n",
    "                                 pg_data.get('app_code'), pg_data.get('id'),pg_data.get('paid_at')]\n",
    "                                )\n",
    "                else:\n",
    "                    sql_set = ''\n",
    "                    sql_values=[]\n",
    "                    for key, value in pg_data.items():\n",
    "                        if key in ['price', 'paid_price', 'refunded_price', 'timeline', 'refunded_timeline', \n",
    "                                    'created_at', 'user_id', 'order_type', 'order_id', 'app_code', 'id', 'paid_at']:\n",
    "                            sql_set += key + '=' + '%s' + ','\n",
    "                            sql_values.append(value)\n",
    "                    sql_set = sql_set.strip(',')\n",
    "#                     sql_values = [v for v in pg_data.values()]\n",
    "                    sql_values.append(pg_data['id'])\n",
    "                    sql = \"\"\"UPDATE refund SET {} WHERE id=%s;\"\"\".format(sql_set)\n",
    "                    print(sql,sql_values)\n",
    "                    cur.execute(sql, sql_values)\n",
    "            p.pgconn.commit()\n",
    "        except Exception as e:\n",
    "            p.pgconn.rollback()\n",
    "            with p.pgconn.cursor() as cur:\n",
    "                cur.execute(\"\"\"SELECT * FROM pay WHERE id=%s\"\"\",\n",
    "                            (pg_data.get('id'), ))\n",
    "                data = cur.fetchone()\n",
    "            if data:\n",
    "                pg_data.pop('order_id') if 'order_id' in pg_data else 0\n",
    "                pg_data['paidId']=pg_data.pop('id')\n",
    "                pg_upsert(pg_data, task_name)\n",
    "\n",
    "            else:\n",
    "                redis_err_id(pg_data['id'], task_name)\n",
    "                exception(e)\n",
    "                \n",
    "#             exception(e)\n",
    "#             p.pgconn.rollback()\n",
    "#             redis_err_id(pg_data['id'], task_name)\n",
    "            return 'upsert err ,data error'\n",
    "#         finally:\n",
    "#             p.pgconn.commit()\n",
    "    print(task_name, 'upsert ok')\n",
    "    return [task_name, 'upsert ok']"
   ]
  },
  {
   "cell_type": "code",
   "execution_count": 925,
   "metadata": {},
   "outputs": [],
   "source": [
    "def err_task_retry(task_name):\n",
    "    resp = True\n",
    "    task = 1 if task_name in ['pay_err', 1] else 2\n",
    "    while resp:\n",
    "        if task == 1:\n",
    "            resp = p.rdb_1.lpop('pay_err')\n",
    "            if not resp:\n",
    "                return\n",
    "            resp_id = p.rdb_1.keys('p:*{}'.format(resp))[0]\n",
    "            if 'records' in resp_id:\n",
    "                continue\n",
    "            resp_data = p.rdb_1.hgetall(resp_id)\n",
    "        if task == 2:\n",
    "            resp = p.rdb_2.lpop('paid_err')\n",
    "            if not resp:\n",
    "                return\n",
    "            resp_id = p.rdb_2.keys('r:*{}'.format(resp))[0]\n",
    "            if 'records' in resp_id:\n",
    "                continue\n",
    "            resp_data = p.rdb_2.hgetall(resp_id)\n",
    "        resp_data['paidId'] = resp_id.split(':')[-1]\n",
    "        print(resp_data)\n",
    "        pg_upsert(resp_data, task)\n",
    "#         resp=False\n",
    "    return 'err_id ok'"
   ]
  },
  {
   "cell_type": "code",
   "execution_count": null,
   "metadata": {},
   "outputs": [],
   "source": [
    "err_task_retry(1)"
   ]
  },
  {
   "cell_type": "code",
   "execution_count": 695,
   "metadata": {
    "scrolled": true
   },
   "outputs": [
    {
     "name": "stdout",
     "output_type": "stream",
     "text": [
      "{'serial': '1000003886701476695061368', 'created_at': '1476695061199', 'price': '1', 'status': '1', 'user_id': 'blm_35xw3cc', 'order_type': 'balance', 'channel': 'ccb', 'order_id': '100000388670', 'id': '100000388670'}\n",
      "1 upsert ok\n"
     ]
    },
    {
     "data": {
      "text/plain": [
       "['task name', 1, 'finish']"
      ]
     },
     "execution_count": 695,
     "metadata": {},
     "output_type": "execute_result"
    }
   ],
   "source": [
    "redis_pay_task(1)"
   ]
  },
  {
   "cell_type": "code",
   "execution_count": null,
   "metadata": {},
   "outputs": [],
   "source": [
    "cur=p.pgconn.cursor()\n",
    "cur.execute(\"UPDATE pay SET pay_price=%s,status=%s,app_code=%s,price=%s,user_id=%s,created_at=%s,channel=%s,order_type=%s,charge_id=%s,id=%s WHERE id=%s;\", ['20', '中石油卡:903****3452 充值 0.20元', '2', '1489543668221', 'boluome', '20', 'test_long', '1489543662911', 'alipay_wap', 'jiayouka', 'ch_bTOyPCGebvH4bX5yfTLOGG08', '1000003971341489543666133', '{\"success_url\":\"http://boluome.test.otosaas.com/pay/success/100000397134\"}', '100000397134', '100000397134'])"
   ]
  },
  {
   "cell_type": "code",
   "execution_count": 45,
   "metadata": {},
   "outputs": [],
   "source": [
    "class test():\n",
    "    _u=2\n",
    "    def __init__(self):\n",
    "        self._num=None\n",
    "        \n",
    "    def num(self):\n",
    "        if self._num is None:\n",
    "            self._num=0\n",
    "        else:\n",
    "            self._num+=1\n",
    "        return self._num\n",
    "t=test()"
   ]
  },
  {
   "cell_type": "code",
   "execution_count": 48,
   "metadata": {},
   "outputs": [
    {
     "data": {
      "text/plain": [
       "2"
      ]
     },
     "execution_count": 48,
     "metadata": {},
     "output_type": "execute_result"
    }
   ],
   "source": [
    "t.num()"
   ]
  },
  {
   "cell_type": "code",
   "execution_count": 56,
   "metadata": {},
   "outputs": [
    {
     "data": {
      "text/plain": [
       "0"
      ]
     },
     "execution_count": 56,
     "metadata": {},
     "output_type": "execute_result"
    }
   ],
   "source": [
    "tt=test()\n",
    "tt.num()"
   ]
  },
  {
   "cell_type": "code",
   "execution_count": 20,
   "metadata": {},
   "outputs": [
    {
     "data": {
      "text/plain": [
       "4"
      ]
     },
     "execution_count": 20,
     "metadata": {},
     "output_type": "execute_result"
    }
   ],
   "source": [
    "t._u+=1\n",
    "t._u\n"
   ]
  },
  {
   "cell_type": "code",
   "execution_count": 65,
   "metadata": {},
   "outputs": [
    {
     "data": {
      "text/plain": [
       "1492085561"
      ]
     },
     "execution_count": 65,
     "metadata": {},
     "output_type": "execute_result"
    }
   ],
   "source": [
    "import time\n",
    "time.mktime(time.strptime('2017-04-01',\"%Y-%m-%d\"))\n",
    "int(time.time())"
   ]
  },
  {
   "cell_type": "code",
   "execution_count": null,
   "metadata": {},
   "outputs": [],
   "source": [
    "keys=[1,2,3,5,8,10]\n",
    "[num for num in range(32) if num not in keys]"
   ]
  },
  {
   "cell_type": "code",
   "execution_count": 103,
   "metadata": {},
   "outputs": [
    {
     "name": "stdout",
     "output_type": "stream",
     "text": [
      "1165305 2330610\n"
     ]
    },
    {
     "ename": "TypeError",
     "evalue": "int() can't convert non-string with explicit base",
     "output_type": "error",
     "traceback": [
      "\u001b[0;31m---------------------------------------------------------------------------\u001b[0m",
      "\u001b[0;31mTypeError\u001b[0m                                 Traceback (most recent call last)",
      "\u001b[0;32m<ipython-input-103-3c1bd1431ce1>\u001b[0m in \u001b[0;36m<module>\u001b[0;34m()\u001b[0m\n\u001b[1;32m      4\u001b[0m \u001b[0;34m(\u001b[0m\u001b[0mtime_stamp\u001b[0m \u001b[0;34m<<\u001b[0m \u001b[0;36m17\u001b[0m\u001b[0;34m)\u001b[0m\u001b[0;34m+\u001b[0m\u001b[0;34m(\u001b[0m\u001b[0;36m5\u001b[0m\u001b[0;34m<<\u001b[0m\u001b[0;36m12\u001b[0m\u001b[0;34m)\u001b[0m\u001b[0;34m+\u001b[0m\u001b[0;34m(\u001b[0m\u001b[0;36m40\u001b[0m\u001b[0;34m)\u001b[0m\u001b[0;34m\u001b[0m\u001b[0m\n\u001b[1;32m      5\u001b[0m \u001b[0;31m# print(int(str(time_stamp),2))\u001b[0m\u001b[0;34m\u001b[0m\u001b[0;34m\u001b[0m\u001b[0m\n\u001b[0;32m----> 6\u001b[0;31m \u001b[0mint\u001b[0m\u001b[0;34m(\u001b[0m\u001b[0;36m20\u001b[0m\u001b[0;34m,\u001b[0m\u001b[0;36m2\u001b[0m\u001b[0;34m)\u001b[0m\u001b[0;34m\u001b[0m\u001b[0m\n\u001b[0m",
      "\u001b[0;31mTypeError\u001b[0m: int() can't convert non-string with explicit base"
     ]
    }
   ],
   "source": [
    "time_stamp = int(time.time()) - 1490976000\n",
    "print(time_stamp,time_stamp << 1)\n",
    "(1<<4)\n",
    "(time_stamp << 17)+(5<<12)+(40)\n",
    "# print(int(str(time_stamp),2))\n",
    "int(20,2)"
   ]
  },
  {
   "cell_type": "code",
   "execution_count": 125,
   "metadata": {},
   "outputs": [],
   "source": [
    "class Application():\n",
    "    abstract = True\n",
    "\n",
    "    def __init__(self):\n",
    "        self._rdb = None\n",
    "        self._key = None\n",
    "        self._number = 0\n",
    "\n",
    "\n",
    "    @property\n",
    "    def rdb(self):\n",
    "        if self._rdb is None:\n",
    "            self._rdb = redis.StrictRedis(host=conf.STG_MONGO_HOST,\n",
    "                                          port=conf.REDIS_PORT,\n",
    "                                          db=1,\n",
    "                                          charset=\"UTF-8\",\n",
    "                                          decode_responses=True)\n",
    "        return self._rdb\n",
    "\n",
    "#     @property\n",
    "#     def key(self):\n",
    "#         \"\"\"机器号\"\"\"\n",
    "#         if self._key is None:\n",
    "#             keys = self.rdb.hkeys('server_bind')\n",
    "#             # keys = self.rdb.hset('server_bind', 'test', 100)\n",
    "#             return keys\n",
    "#             for num in range(32):\n",
    "#                 if num not in keys:\n",
    "#                     self._key = num\n",
    "#                     break\n",
    "#             if self._key is None:\n",
    "#                 for key in keys:\n",
    "#                     value = self.rdb.hget('server_bind', key)\n",
    "#                     data = requests.get(value)\n",
    "#                     if data.get('code') in [200, '200']:\n",
    "#                         continue\n",
    "#                     else:\n",
    "#                         self._key = key\n",
    "#                         break\n",
    "#             if self._key is None:\n",
    "#                 return\n",
    "\n",
    "#             self.rdb.hset('server_bind', key, 'http://127.0.0.1/app/{}/ping'.format(self._key))\n",
    "#             # handlers.append((r'/app/{}/ping'.format(self._key), PHandler))\n",
    "#         return self._key\n",
    "a=Application()"
   ]
  },
  {
   "cell_type": "code",
   "execution_count": null,
   "metadata": {},
   "outputs": [],
   "source": []
  }
 ],
 "metadata": {
  "kernelspec": {
   "display_name": "Python 3",
   "language": "python",
   "name": "python3"
  },
  "language_info": {
   "codemirror_mode": {
    "name": "ipython",
    "version": 3
   },
   "file_extension": ".py",
   "mimetype": "text/x-python",
   "name": "python",
   "nbconvert_exporter": "python",
   "pygments_lexer": "ipython3",
   "version": "3.6.0"
  }
 },
 "nbformat": 4,
 "nbformat_minor": 2
}
