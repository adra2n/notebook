{
 "cells": [
  {
   "cell_type": "markdown",
   "metadata": {
    "deletable": true,
    "editable": true
   },
   "source": [
    "## pg 脚本\n",
    "\n",
    "+ 补全 历史数据ID字段\n",
    "+ ID字段创建为主键\n",
    "+ dev pament db=1"
   ]
  },
  {
   "cell_type": "code",
   "execution_count": 1,
   "metadata": {
    "collapsed": false,
    "deletable": true,
    "editable": true
   },
   "outputs": [],
   "source": [
    "from __future__ import absolute_import, unicode_literals\n",
    "\n",
    "import json\n",
    "\n",
    "import psycopg2\n",
    "import redis\n",
    "from logging import exception\n",
    "from pprint import pprint\n",
    "from collections import defaultdict\n",
    "import conf\n",
    "\n",
    "class Connection():\n",
    "    abstract = True\n",
    "    _rdb1 = None\n",
    "    _rdb2 = None\n",
    "    _pgconn = None\n",
    "\n",
    "    @property\n",
    "    def rdb_1(self):\n",
    "        if self._rdb1 is None:\n",
    "            self._rdb1 = redis.StrictRedis(host=conf.REDIS_PAYMENT_HOST,\n",
    "                                           port=conf.REDIS_ACTIVITY_PORT,\n",
    "                                           db=1,\n",
    "                                           charset=\"utf-8\", \n",
    "                                           decode_responses=True)\n",
    "        return self._rdb1\n",
    "\n",
    "    @property\n",
    "    def rdb_2(self):\n",
    "        if self._rdb2 is None:\n",
    "            self._rdb2 = redis.StrictRedis(host=conf.REDIS_PAYMENT_HOST,\n",
    "                                           port=conf.REDIS_ACTIVITY_PORT,\n",
    "                                           db=2,\n",
    "                                           charset=\"utf-8\", \n",
    "                                           decode_responses=True)\n",
    "        return self._rdb2\n",
    "    \n",
    "    @property\n",
    "    def pgconn(self):\n",
    "        if self._pgconn is None:\n",
    "            self._pgconn = psycopg2.connect(conf.PG_BOLUOME)\n",
    "        return self._pgconn\n",
    "    \n",
    "    def test(self):\n",
    "        print('e')\n",
    "        return self.rdb_1.keys('p:*')\n",
    "    \n",
    "c=Connection()"
   ]
  },
  {
   "cell_type": "code",
   "execution_count": 8,
   "metadata": {
    "collapsed": false,
    "deletable": true,
    "editable": true
   },
   "outputs": [
    {
     "data": {
      "text/plain": [
       "True"
      ]
     },
     "execution_count": 8,
     "metadata": {},
     "output_type": "execute_result"
    }
   ],
   "source": [
    "c.rdb_1.exists(\"p:boluome:1000000082552\")"
   ]
  },
  {
   "cell_type": "code",
   "execution_count": 6,
   "metadata": {
    "collapsed": false,
    "deletable": true,
    "editable": true
   },
   "outputs": [
    {
     "ename": "ResponseError",
     "evalue": "no such key",
     "output_type": "error",
     "traceback": [
      "\u001b[0;31m---------------------------------------------------------------------------\u001b[0m",
      "\u001b[0;31mResponseError\u001b[0m                             Traceback (most recent call last)",
      "\u001b[0;32m<ipython-input-6-1d06c96bc0b0>\u001b[0m in \u001b[0;36m<module>\u001b[0;34m()\u001b[0m\n\u001b[0;32m----> 1\u001b[0;31m \u001b[0mc\u001b[0m\u001b[0;34m.\u001b[0m\u001b[0mrdb_1\u001b[0m\u001b[0;34m.\u001b[0m\u001b[0mrename\u001b[0m\u001b[0;34m(\u001b[0m\u001b[0;34m\"p:boluome:1000000082552-test\"\u001b[0m\u001b[0;34m,\u001b[0m\u001b[0;34m\"p:boluome:1000000082552\"\u001b[0m\u001b[0;34m)\u001b[0m\u001b[0;34m\u001b[0m\u001b[0m\n\u001b[0m",
      "\u001b[0;32m/usr/local/python3/lib/python3.6/site-packages/redis/client.py\u001b[0m in \u001b[0;36mrename\u001b[0;34m(self, src, dst)\u001b[0m\n\u001b[1;32m   1026\u001b[0m         \u001b[0mRename\u001b[0m \u001b[0mkey\u001b[0m\u001b[0;31m \u001b[0m\u001b[0;31m`\u001b[0m\u001b[0;31m`\u001b[0m\u001b[0msrc\u001b[0m\u001b[0;31m`\u001b[0m\u001b[0;31m`\u001b[0m \u001b[0mto\u001b[0m\u001b[0;31m \u001b[0m\u001b[0;31m`\u001b[0m\u001b[0;31m`\u001b[0m\u001b[0mdst\u001b[0m\u001b[0;31m`\u001b[0m\u001b[0;31m`\u001b[0m\u001b[0;34m\u001b[0m\u001b[0m\n\u001b[1;32m   1027\u001b[0m         \"\"\"\n\u001b[0;32m-> 1028\u001b[0;31m         \u001b[0;32mreturn\u001b[0m \u001b[0mself\u001b[0m\u001b[0;34m.\u001b[0m\u001b[0mexecute_command\u001b[0m\u001b[0;34m(\u001b[0m\u001b[0;34m'RENAME'\u001b[0m\u001b[0;34m,\u001b[0m \u001b[0msrc\u001b[0m\u001b[0;34m,\u001b[0m \u001b[0mdst\u001b[0m\u001b[0;34m)\u001b[0m\u001b[0;34m\u001b[0m\u001b[0m\n\u001b[0m\u001b[1;32m   1029\u001b[0m \u001b[0;34m\u001b[0m\u001b[0m\n\u001b[1;32m   1030\u001b[0m     \u001b[0;32mdef\u001b[0m \u001b[0mrenamenx\u001b[0m\u001b[0;34m(\u001b[0m\u001b[0mself\u001b[0m\u001b[0;34m,\u001b[0m \u001b[0msrc\u001b[0m\u001b[0;34m,\u001b[0m \u001b[0mdst\u001b[0m\u001b[0;34m)\u001b[0m\u001b[0;34m:\u001b[0m\u001b[0;34m\u001b[0m\u001b[0m\n",
      "\u001b[0;32m/usr/local/python3/lib/python3.6/site-packages/redis/client.py\u001b[0m in \u001b[0;36mexecute_command\u001b[0;34m(self, *args, **options)\u001b[0m\n\u001b[1;32m    571\u001b[0m         \u001b[0;32mtry\u001b[0m\u001b[0;34m:\u001b[0m\u001b[0;34m\u001b[0m\u001b[0m\n\u001b[1;32m    572\u001b[0m             \u001b[0mconnection\u001b[0m\u001b[0;34m.\u001b[0m\u001b[0msend_command\u001b[0m\u001b[0;34m(\u001b[0m\u001b[0;34m*\u001b[0m\u001b[0margs\u001b[0m\u001b[0;34m)\u001b[0m\u001b[0;34m\u001b[0m\u001b[0m\n\u001b[0;32m--> 573\u001b[0;31m             \u001b[0;32mreturn\u001b[0m \u001b[0mself\u001b[0m\u001b[0;34m.\u001b[0m\u001b[0mparse_response\u001b[0m\u001b[0;34m(\u001b[0m\u001b[0mconnection\u001b[0m\u001b[0;34m,\u001b[0m \u001b[0mcommand_name\u001b[0m\u001b[0;34m,\u001b[0m \u001b[0;34m**\u001b[0m\u001b[0moptions\u001b[0m\u001b[0;34m)\u001b[0m\u001b[0;34m\u001b[0m\u001b[0m\n\u001b[0m\u001b[1;32m    574\u001b[0m         \u001b[0;32mexcept\u001b[0m \u001b[0;34m(\u001b[0m\u001b[0mConnectionError\u001b[0m\u001b[0;34m,\u001b[0m \u001b[0mTimeoutError\u001b[0m\u001b[0;34m)\u001b[0m \u001b[0;32mas\u001b[0m \u001b[0me\u001b[0m\u001b[0;34m:\u001b[0m\u001b[0;34m\u001b[0m\u001b[0m\n\u001b[1;32m    575\u001b[0m             \u001b[0mconnection\u001b[0m\u001b[0;34m.\u001b[0m\u001b[0mdisconnect\u001b[0m\u001b[0;34m(\u001b[0m\u001b[0;34m)\u001b[0m\u001b[0;34m\u001b[0m\u001b[0m\n",
      "\u001b[0;32m/usr/local/python3/lib/python3.6/site-packages/redis/client.py\u001b[0m in \u001b[0;36mparse_response\u001b[0;34m(self, connection, command_name, **options)\u001b[0m\n\u001b[1;32m    583\u001b[0m     \u001b[0;32mdef\u001b[0m \u001b[0mparse_response\u001b[0m\u001b[0;34m(\u001b[0m\u001b[0mself\u001b[0m\u001b[0;34m,\u001b[0m \u001b[0mconnection\u001b[0m\u001b[0;34m,\u001b[0m \u001b[0mcommand_name\u001b[0m\u001b[0;34m,\u001b[0m \u001b[0;34m**\u001b[0m\u001b[0moptions\u001b[0m\u001b[0;34m)\u001b[0m\u001b[0;34m:\u001b[0m\u001b[0;34m\u001b[0m\u001b[0m\n\u001b[1;32m    584\u001b[0m         \u001b[0;34m\"Parses a response from the Redis server\"\u001b[0m\u001b[0;34m\u001b[0m\u001b[0m\n\u001b[0;32m--> 585\u001b[0;31m         \u001b[0mresponse\u001b[0m \u001b[0;34m=\u001b[0m \u001b[0mconnection\u001b[0m\u001b[0;34m.\u001b[0m\u001b[0mread_response\u001b[0m\u001b[0;34m(\u001b[0m\u001b[0;34m)\u001b[0m\u001b[0;34m\u001b[0m\u001b[0m\n\u001b[0m\u001b[1;32m    586\u001b[0m         \u001b[0;32mif\u001b[0m \u001b[0mcommand_name\u001b[0m \u001b[0;32min\u001b[0m \u001b[0mself\u001b[0m\u001b[0;34m.\u001b[0m\u001b[0mresponse_callbacks\u001b[0m\u001b[0;34m:\u001b[0m\u001b[0;34m\u001b[0m\u001b[0m\n\u001b[1;32m    587\u001b[0m             \u001b[0;32mreturn\u001b[0m \u001b[0mself\u001b[0m\u001b[0;34m.\u001b[0m\u001b[0mresponse_callbacks\u001b[0m\u001b[0;34m[\u001b[0m\u001b[0mcommand_name\u001b[0m\u001b[0;34m]\u001b[0m\u001b[0;34m(\u001b[0m\u001b[0mresponse\u001b[0m\u001b[0;34m,\u001b[0m \u001b[0;34m**\u001b[0m\u001b[0moptions\u001b[0m\u001b[0;34m)\u001b[0m\u001b[0;34m\u001b[0m\u001b[0m\n",
      "\u001b[0;32m/usr/local/python3/lib/python3.6/site-packages/redis/connection.py\u001b[0m in \u001b[0;36mread_response\u001b[0;34m(self)\u001b[0m\n\u001b[1;32m    580\u001b[0m             \u001b[0;32mraise\u001b[0m\u001b[0;34m\u001b[0m\u001b[0m\n\u001b[1;32m    581\u001b[0m         \u001b[0;32mif\u001b[0m \u001b[0misinstance\u001b[0m\u001b[0;34m(\u001b[0m\u001b[0mresponse\u001b[0m\u001b[0;34m,\u001b[0m \u001b[0mResponseError\u001b[0m\u001b[0;34m)\u001b[0m\u001b[0;34m:\u001b[0m\u001b[0;34m\u001b[0m\u001b[0m\n\u001b[0;32m--> 582\u001b[0;31m             \u001b[0;32mraise\u001b[0m \u001b[0mresponse\u001b[0m\u001b[0;34m\u001b[0m\u001b[0m\n\u001b[0m\u001b[1;32m    583\u001b[0m         \u001b[0;32mreturn\u001b[0m \u001b[0mresponse\u001b[0m\u001b[0;34m\u001b[0m\u001b[0m\n\u001b[1;32m    584\u001b[0m \u001b[0;34m\u001b[0m\u001b[0m\n",
      "\u001b[0;31mResponseError\u001b[0m: no such key"
     ]
    }
   ],
   "source": [
    "c.rdb_1.rename(\"p:boluome:1000000082552-test\",\"p:boluome:1000000082552\")"
   ]
  },
  {
   "cell_type": "code",
   "execution_count": 19,
   "metadata": {
    "collapsed": false,
    "deletable": true,
    "editable": true
   },
   "outputs": [],
   "source": [
    "def paid_id_fetch(order_id,app_code,rdb):\n",
    "    return rdb.hgetall('p:{}:{}'.format(app_code,order_id))\n",
    "def pgpay_add_id():\n",
    "    conn = psycopg2.connect(conf.PG_BOLUOME)\n",
    "    with conn:\n",
    "        with conn.cursor() as cur:\n",
    "            cur.execute(('SELECT '\n",
    "                         '  * '\n",
    "                         'FROM '\n",
    "                         '  pay '))\n",
    "            data=cur.fetchall()\n",
    "            for index,row in enumerate(data):\n",
    "                order_id=row[0]\n",
    "                app_code=row[-2]\n",
    "#                 print(app_code,order_id)\n",
    "                resp=paid_id_fetch(order_id,app_code,c.rdb_1)\n",
    "                paid_id=resp.get('id')\n",
    "                if not resp:\n",
    "                    return ['err',order_id,app_code]\n",
    "                else:\n",
    "                    if not paid_id:\n",
    "                        paid_id=order_id\n",
    "                    cur.execute(\n",
    "                        \"\"\"UPDATE pay\n",
    "                           SET id=%s\n",
    "                        WHERE order_id=%s;\"\"\",\n",
    "                        (paid_id,order_id)\n",
    "                    )\n",
    "    return \n",
    "# pgpay_add_id()"
   ]
  },
  {
   "cell_type": "markdown",
   "metadata": {
    "deletable": true,
    "editable": true
   },
   "source": [
    "## REDIS 数据同步\n",
    "+ 支付 db=1"
   ]
  },
  {
   "cell_type": "code",
   "execution_count": 248,
   "metadata": {
    "collapsed": false,
    "deletable": true,
    "editable": true
   },
   "outputs": [],
   "source": [
    "def redis_pay_task():\n",
    "    resp=True\n",
    "    while resp:\n",
    "        resp=c.rdb_1.lpop('pay_tasks')\n",
    "        if resp:\n",
    "            print('redis_pay_task',resp)\n",
    "            redis_up(resp)\n",
    "            \n",
    "#             resp=False\n",
    "            \n",
    "    return 'finish'\n",
    "    \n",
    "def redis_up(app_code_id,key=None,keys=None):\n",
    "    if keys is None:\n",
    "        keys=[]\n",
    "    if key is None:\n",
    "        key=True\n",
    "    while key:\n",
    "        key=c.rdb_1.spop('up:{}'.format(app_code_id))\n",
    "        if key:\n",
    "            keys.append(key)\n",
    "    if not keys:\n",
    "        print('up: no data')\n",
    "        return 'up: no data'\n",
    "    print('redis_up',app_code_id,keys)\n",
    "    return redis_p_id(app_code_id,keys)\n",
    "\n",
    "\n",
    "def redis_p_id(app_code_id,keys):\n",
    "    values=c.rdb_1.hmget('p:{}'.format(app_code_id),keys)\n",
    "    data={k:values[i] for i,k in enumerate(keys) if values[i]}\n",
    "    if not data:\n",
    "        print('p: no data')\n",
    "        return 'p: no data'\n",
    "    data['paidId']=app_code_id.split(':')[-1]\n",
    "    print(data)\n",
    "    return pg_upsert(data)\n",
    "\n",
    "def redis_err_id(paid_id):\n",
    "    c.rdb_1.rpush('pay_err',paid_id)\n",
    "    return 'pay_err_id insert ok'\n",
    "\n",
    "def pg_upsert(data):\n",
    "    map_key={\n",
    "        'appCode':'app_code',\n",
    "        'chargeId':'charge_id',\n",
    "        'orderType':'order_type',\n",
    "        'paidAt':'paid_at',\n",
    "        'payPrice':'pay_price',\n",
    "        'serialNum':'serial_num',\n",
    "        'userId':'user_id',\n",
    "        'paidId':'id',\n",
    "        'createdAt':'created_at',\n",
    "        'id':'order_id',\n",
    "    }\n",
    "    pg_data={map_key.get(k,k):v for k,v in data.items()}\n",
    "    conn = psycopg2.connect(conf.PG_BOLUOME)\n",
    "    try:\n",
    "        with conn:\n",
    "            with conn.cursor() as cur:\n",
    "                if 'order_id' in pg_data:\n",
    "                    cur.execute(\"\"\"INSERT INTO pay(\n",
    "                        order_id, price, pay_price, channel, user_id, charge_id, created_at, \n",
    "                        order_type, status, serial_num, app_code, id)\n",
    "                        VALUES (%s,%s,%s,%s,%s,%s,%s,%s,%s,%s,%s,%s);\"\"\",\n",
    "                        [pg_data.get('order_id'),pg_data.get('price'),pg_data.get('pay_price'),\n",
    "                        pg_data.get('channel'),pg_data.get('user_id'),pg_data.get('charge_id'),\n",
    "                        pg_data.get('created_at'),pg_data.get('order_type'),pg_data.get('status'),\n",
    "                        pg_data.get('serial_num'),pg_data.get('app_code'),pg_data.get('id')]\n",
    "                    )\n",
    "                else:\n",
    "                    sql_set=''\n",
    "                    for key,value in pg_data.items():\n",
    "                        sql_set+=key+'='+'%s'+','\n",
    "                    sql_set=sql_set.strip(',')\n",
    "                    sql_values=[v for v in pg_data.values()]\n",
    "                    sql_values.append(pg_data['id'])\n",
    "                    sql=\"\"\"UPDATE pay SET {} WHERE id=%s;\"\"\".format(sql_set)\n",
    "                    cur.execute(sql,sql_values)\n",
    "            conn.commit()\n",
    "    except Exception as e :\n",
    "        exception(e)\n",
    "        redis_err_id(pg_data['id'])\n",
    "        return 'upsert err ,data error'\n",
    "    conn.close()\n",
    "    print(pg_data)\n",
    "    return 'upsert ok'"
   ]
  },
  {
   "cell_type": "code",
   "execution_count": 770,
   "metadata": {
    "collapsed": false,
    "deletable": true,
    "editable": true
   },
   "outputs": [],
   "source": [
    "# redis_pay_task()"
   ]
  },
  {
   "cell_type": "markdown",
   "metadata": {
    "deletable": true,
    "editable": true
   },
   "source": [
    "+ 退款 db=2"
   ]
  },
  {
   "cell_type": "code",
   "execution_count": 369,
   "metadata": {
    "collapsed": true,
    "deletable": true,
    "editable": true
   },
   "outputs": [],
   "source": [
    "def redis_pay_task():\n",
    "    resp=True\n",
    "    while resp:\n",
    "        resp=c.rdb_2.lpop('refund_tasks')\n",
    "        if resp:\n",
    "            print('redis_pay_task',resp)\n",
    "            redis_up(resp)\n",
    "            \n",
    "#             resp=False\n",
    "            \n",
    "    return 'finish'\n",
    "    \n",
    "def redis_up(app_code_id,key=None,keys=None):\n",
    "    if keys is None:\n",
    "        keys=[]\n",
    "    if key is None:\n",
    "        key=True\n",
    "    while key:\n",
    "        key=c.rdb_2.spop('up:{}'.format(app_code_id))\n",
    "        if key:\n",
    "            keys.append(key)\n",
    "    if not keys:\n",
    "        print('up: no data')\n",
    "        return 'up: no data'\n",
    "    print('redis_up',app_code_id,keys)\n",
    "    return redis_r_id(app_code_id,keys)\n",
    "\n",
    "\n",
    "def redis_r_id(app_code_id,keys):\n",
    "    values=c.rdb_2.hmget('r:{}'.format(app_code_id),keys)\n",
    "    data={k:values[i] for i,k in enumerate(keys) if values[i]}\n",
    "    if not data:\n",
    "        print('r: no data')\n",
    "        return 'r: no data'\n",
    "    data['paidId']=app_code_id.split(':')[-1]\n",
    "    print(data)\n",
    "    return pg_upsert(data)\n",
    "\n",
    "def redis_err_id(paid_id):\n",
    "    c.rdb_2.rpush('refund_err',paid_id)\n",
    "    return 'pay_err_id insert ok'\n",
    "\n",
    "def pg_upsert(data):\n",
    "    map_key={\n",
    "        'appCode':'app_code',\n",
    "        'refundedtimeline':'refunded_timeline',\n",
    "        'ordertype':'order_type',\n",
    "        'paidprice':'pay_price',\n",
    "        'refundedprice':'refunded_price',\n",
    "        'userid':'user_id',\n",
    "        'createdat':'created_at',\n",
    "        'id':'order_id',\n",
    "        'paidId':'id'\n",
    "    }\n",
    "    pg_data={map_key.get(k,k):v for k,v in data.items()}\n",
    "    pg_data.setdefault('app_code','boluome')\n",
    "    conn = psycopg2.connect(conf.PG_BOLUOME)\n",
    "    try:\n",
    "        with conn:\n",
    "            with conn.cursor() as cur:\n",
    "                if 'order_id' in pg_data:\n",
    "                    cur.execute(\"\"\"INSERT INTO refund(\n",
    "                        price, paid_price, refunded_price, timeline, refunded_timeline, \n",
    "                        created_at, user_id, order_type, order_id, app_code, id)\n",
    "                        VALUES (%s,%s,%s,%s,%s,%s,%s,%s,%s,%s,%s);\"\"\",\n",
    "                        [pg_data.get('price'),pg_data.get('paid_price'),pg_data.get('refunded_price'),\n",
    "                        pg_data.get('timeline'),pg_data.get('refunded_timeline'),pg_data.get('created_at'),\n",
    "                        pg_data.get('user_id'),pg_data.get('order_type'),pg_data.get('order_id'),\n",
    "                        pg_data.get('app_code'),pg_data.get('id')]\n",
    "                    )\n",
    "                else:\n",
    "                    sql_set=''\n",
    "                    for key,value in pg_data.items():\n",
    "                        sql_set+=key+'='+'%s'+','\n",
    "                    sql_set=sql_set.strip(',')\n",
    "                    sql_values=[v for v in pg_data.values()]\n",
    "                    sql_values.append(pg_data['id'])\n",
    "                    sql=\"\"\"UPDATE refund SET {} WHERE id=%s;\"\"\".format(sql_set)\n",
    "                    cur.execute(sql,sql_values)\n",
    "            conn.commit()\n",
    "    except Exception as e :\n",
    "        exception(e)\n",
    "        redis_err_id(pg_data['id'])\n",
    "        return 'upsert err ,data error'\n",
    "    conn.close()\n",
    "    print(pg_data)\n",
    "    return 'upsert ok'"
   ]
  },
  {
   "cell_type": "code",
   "execution_count": 771,
   "metadata": {
    "collapsed": false,
    "deletable": true,
    "editable": true,
    "scrolled": true
   },
   "outputs": [],
   "source": [
    "# redis_pay_task()"
   ]
  },
  {
   "cell_type": "code",
   "execution_count": 384,
   "metadata": {
    "collapsed": false,
    "deletable": true,
    "editable": true
   },
   "outputs": [
    {
     "data": {
      "text/plain": [
       "[1, 2]"
      ]
     },
     "execution_count": 384,
     "metadata": {},
     "output_type": "execute_result"
    }
   ],
   "source": [
    "a=[]\n",
    "b=1\n",
    "c=a.append(b) if b else 0\n",
    "a,c\n",
    "keys=[1,2]\n",
    "keys = [] if keys is None else keys\n",
    "keys"
   ]
  },
  {
   "cell_type": "code",
   "execution_count": 387,
   "metadata": {
    "collapsed": false,
    "deletable": true,
    "editable": true
   },
   "outputs": [
    {
     "data": {
      "text/plain": [
       "0"
      ]
     },
     "execution_count": 387,
     "metadata": {},
     "output_type": "execute_result"
    }
   ],
   "source": [
    "def test():\n",
    "    return 1 if 0 else 0\n",
    "test()"
   ]
  },
  {
   "cell_type": "code",
   "execution_count": 399,
   "metadata": {
    "collapsed": false,
    "deletable": true,
    "editable": true
   },
   "outputs": [
    {
     "data": {
      "text/plain": [
       "0"
      ]
     },
     "execution_count": 399,
     "metadata": {},
     "output_type": "execute_result"
    }
   ],
   "source": [
    "task_name=0\n",
    "task = 1 if task_name in ['pay_tasks', 1] else 0\n",
    "task"
   ]
  },
  {
   "cell_type": "markdown",
   "metadata": {
    "deletable": true,
    "editable": true
   },
   "source": [
    "## 整合版"
   ]
  },
  {
   "cell_type": "code",
   "execution_count": 930,
   "metadata": {
    "collapsed": true,
    "deletable": true,
    "editable": true
   },
   "outputs": [],
   "source": [
    "from __future__ import absolute_import, unicode_literals\n",
    "\n",
    "import json\n",
    "\n",
    "import psycopg2\n",
    "import redis\n",
    "from logging import exception\n",
    "from pprint import pprint\n",
    "import conf\n",
    "\n",
    "\n",
    "class PgTask():\n",
    "    abstract = True\n",
    "    _rdb1 = None\n",
    "    _rdb2 = None\n",
    "    _pgconn = None\n",
    "\n",
    "    @property\n",
    "    def rdb_1(self):\n",
    "        if self._rdb1 is None:\n",
    "            self._rdb1 = redis.StrictRedis(host=conf.REDIS_PAYMENT_HOST,\n",
    "                                           port=conf.REDIS_PORT,\n",
    "                                           db=1,\n",
    "                                           charset=\"utf-8\",\n",
    "                                           decode_responses=True)\n",
    "        return self._rdb1\n",
    "\n",
    "    @property\n",
    "    def rdb_2(self):\n",
    "        if self._rdb2 is None:\n",
    "            self._rdb2 = redis.StrictRedis(host=conf.REDIS_PAYMENT_HOST,\n",
    "                                           port=conf.REDIS_PORT,\n",
    "                                           db=2,\n",
    "                                           charset=\"utf-8\",\n",
    "                                           decode_responses=True)\n",
    "        return self._rdb2\n",
    "\n",
    "    @property\n",
    "    def pgconn(self):\n",
    "        if self._pgconn is None:\n",
    "            self._pgconn = psycopg2.connect(conf.PG_BOLUOME)\n",
    "        return self._pgconn\n",
    "p=PgTask()"
   ]
  },
  {
   "cell_type": "code",
   "execution_count": 951,
   "metadata": {
    "collapsed": false,
    "deletable": true,
    "editable": true
   },
   "outputs": [
    {
     "name": "stdout",
     "output_type": "stream",
     "text": [
      "{'appCode': 'boluome',\n",
      " 'createdAt': '1488542310002',\n",
      " 'id': '100000396616',\n",
      " 'name': '钱包充值 - 0.01元',\n",
      " 'orderType': 'balance',\n",
      " 'paidAt': '1488542310002',\n",
      " 'price': '1',\n",
      " 'serialNum': '10000039661600',\n",
      " 'status': '1',\n",
      " 'type': '0',\n",
      " 'userId': 'blm_rlco03m'}\n"
     ]
    },
    {
     "data": {
      "text/plain": [
       "'100000396616'"
      ]
     },
     "execution_count": 951,
     "metadata": {},
     "output_type": "execute_result"
    }
   ],
   "source": [
    "data=p.rdb_1.hgetall('p:{0}:{1}'.format('boluome', '100000396616')) or p.rdb_1.hgetall('p:{0}:{1}'.format('boluome', '100000396616'+'00'))\n",
    "pprint(data)\n",
    "data.get('id','') or data.get('serialNum','')"
   ]
  },
  {
   "cell_type": "code",
   "execution_count": 773,
   "metadata": {
    "collapsed": true,
    "deletable": true,
    "editable": true
   },
   "outputs": [],
   "source": [
    "def redis_pay_task(task_name):\n",
    "    resp = True\n",
    "    task = 1 if task_name in ['pay_tasks', 1] else 2\n",
    "    while resp:\n",
    "        resp = p.rdb_1.lpop('pay_tasks') if task == 1 else p.rdb_2.lpop('refund_tasks')\n",
    "        redis_up(resp, task) if resp else 0\n",
    "        resp=False\n",
    "    return ['task name', task, 'finish']"
   ]
  },
  {
   "cell_type": "code",
   "execution_count": 774,
   "metadata": {
    "collapsed": true,
    "deletable": true,
    "editable": true
   },
   "outputs": [],
   "source": [
    "def redis_up(app_code_id, task_name, key=None, keys=None):\n",
    "    keys = [] if keys is None else keys\n",
    "    key = True if key is None else key\n",
    "    while key:\n",
    "        if task_name == 1:\n",
    "            key = p.rdb_1.spop('up:{}'.format(app_code_id))\n",
    "        elif task_name == 2:\n",
    "            key = p.rdb_2.spop('up:{}'.format(app_code_id))\n",
    "        keys.append(key) if key else 0\n",
    "    return redis_p_id(app_code_id, keys, task_name) if keys else [task_name, 'up: no data']"
   ]
  },
  {
   "cell_type": "code",
   "execution_count": 775,
   "metadata": {
    "collapsed": true,
    "deletable": true,
    "editable": true
   },
   "outputs": [],
   "source": [
    "def redis_p_id(app_code_id, keys, task_name):\n",
    "    if ':' not in app_code_id:\n",
    "        app_code_id='boluome:'+app_code_id\n",
    "    if task_name == 1:\n",
    "        values = p.rdb_1.hmget('p:{}'.format(app_code_id), keys)\n",
    "    if task_name == 2:\n",
    "        values = p.rdb_2.hmget('r:{}'.format(app_code_id), keys)\n",
    "    data = {k: values[i] for i, k in enumerate(keys) if values[i]}\n",
    "    if not data:\n",
    "        return 'p: no data'\n",
    "    data['paidId'] = app_code_id.split(':')[-1]\n",
    "    return pg_upsert(data, task_name)"
   ]
  },
  {
   "cell_type": "code",
   "execution_count": 820,
   "metadata": {
    "collapsed": true,
    "deletable": true,
    "editable": true
   },
   "outputs": [],
   "source": [
    "def redis_err_id(paid_id, task_name):\n",
    "    if task_name == 1:\n",
    "        p.rdb_1.lrem('pay_err_1', 0, paid_id)\n",
    "        p.rdb_1.rpush('pay_err_1', paid_id)\n",
    "        print('pay_err_id insert ok')\n",
    "        return 'pay_err_id insert ok'\n",
    "    else:\n",
    "        p.rdb_2.lrem('paid_err_2', 0, paid_id)\n",
    "        p.rdb_2.rpush('paid_err_2', paid_id)\n",
    "        print('refund_err_id insert ok')\n",
    "        return 'refund_err_id insert ok'"
   ]
  },
  {
   "cell_type": "code",
   "execution_count": 850,
   "metadata": {
    "collapsed": false,
    "deletable": true,
    "editable": true
   },
   "outputs": [],
   "source": [
    "def pg_upsert(data, task_name):\n",
    "    map_key = {\n",
    "            'appCode': 'app_code',\n",
    "            'refundedTimeline': 'refunded_timeline',\n",
    "            'orderType': 'order_type',\n",
    "            'paidPrice': 'paid_price',\n",
    "            'refundedPrice': 'refunded_price',\n",
    "            'userId': 'user_id',\n",
    "            'createdAt': 'created_at',\n",
    "            'id': 'order_id',\n",
    "            'paidId': 'id',\n",
    "            'timeline':'timeline',\n",
    "            'paidAt':'paid_at',\n",
    "            'chargeId': 'charge_id',\n",
    "            'paidAt': 'paid_at',\n",
    "            'payPrice': 'pay_price',\n",
    "            'serialNum': 'serial_num',\n",
    "        }\n",
    "    pg_data = {map_key.get(k, k): v for k, v in data.items()}\n",
    "    print(pg_data)\n",
    "    if task_name == 1:\n",
    "        try:\n",
    "            with p.pgconn.cursor() as cur:\n",
    "                if 'order_id' in pg_data:\n",
    "                    pg_data.setdefault('app_code', 'boluome')\n",
    "                    cur.execute(\"\"\"INSERT INTO pay(\n",
    "                        order_id, price, pay_price, channel, user_id, charge_id, created_at, \n",
    "                        order_type, status, serial_num, app_code, id)\n",
    "                        VALUES (%s,%s,%s,%s,%s,%s,%s,%s,%s,%s,%s,%s);\"\"\",\n",
    "                                [pg_data.get('order_id'), pg_data.get('price'), pg_data.get('pay_price'),\n",
    "                                    pg_data.get('channel'), pg_data.get('user_id'), pg_data.get('charge_id'),\n",
    "                                    pg_data.get('created_at'), pg_data.get('order_type'), pg_data.get('status'),\n",
    "                                    pg_data.get('serial_num'), pg_data.get('app_code'), pg_data.get('id')]\n",
    "                                )\n",
    "                else:\n",
    "                    sql_set = ''\n",
    "                    sql_values=[]\n",
    "                    for key, value in pg_data.items():\n",
    "                        if key in['order_id', 'price', 'pay_price', 'channel', 'user_id', 'charge_id', 'created_at', \n",
    "                                'order_type', 'status', 'serial_num', 'app_code', 'id']:\n",
    "                            sql_set += key + '=' + '%s' + ','\n",
    "                            sql_values.append(value)\n",
    "                    sql_set = sql_set.strip(',')\n",
    "#                     sql_values = [v for v in pg_data.values()]\n",
    "                    sql_values.append(pg_data['id'])\n",
    "                    sql = \"\"\"UPDATE pay SET {} WHERE id=%s;\"\"\".format(sql_set)\n",
    "                    print(sql,sql_values)\n",
    "                    cur.execute(sql, sql_values)\n",
    "            p.pgconn.commit()\n",
    "        except Exception as e:\n",
    "            p.pgconn.rollback()\n",
    "            with p.pgconn.cursor() as cur:\n",
    "                cur.execute(\"\"\"SELECT * FROM pay WHERE id=%s\"\"\",\n",
    "                            (pg_data.get('id'), ))\n",
    "                data = cur.fetchone()\n",
    "            if data:\n",
    "                pg_data.pop('order_id') if 'order_id' in pg_data else 0\n",
    "                pg_data['paidId']=pg_data.pop('id')\n",
    "                pg_upsert(pg_data, task_name)\n",
    "\n",
    "            else:\n",
    "                redis_err_id(pg_data['id'], task_name)\n",
    "                exception(e)\n",
    "#             exception(e)\n",
    "#             p.pgconn.rollback()\n",
    "#             redis_err_id(pg_data['id'], task_name)\n",
    "            return 'upsert err ,data error'\n",
    "    if task_name == 2:\n",
    "        try:\n",
    "            with p.pgconn.cursor() as cur:\n",
    "                if 'order_id' in pg_data:\n",
    "                    pg_data.setdefault('app_code', 'boluome')\n",
    "                    print(pg_data)\n",
    "                    cur.execute(\"\"\"INSERT INTO refund(\n",
    "                            price, paid_price, refunded_price, timeline, refunded_timeline, \n",
    "                            created_at, user_id, order_type, order_id, app_code, id,paid_at)\n",
    "                            VALUES (%s,%s,%s,%s,%s,%s,%s,%s,%s,%s,%s,%s);\"\"\",\n",
    "                                [pg_data.get('price'), pg_data.get('paid_price'), pg_data.get('refunded_price'),\n",
    "                                 pg_data.get('timeline'), pg_data.get(\n",
    "                                     'refunded_timeline'), pg_data.get('created_at'),\n",
    "                                 pg_data.get('user_id'), pg_data.get('order_type'), pg_data.get('order_id'),\n",
    "                                 pg_data.get('app_code'), pg_data.get('id'),pg_data.get('paid_at')]\n",
    "                                )\n",
    "                else:\n",
    "                    sql_set = ''\n",
    "                    sql_values=[]\n",
    "                    for key, value in pg_data.items():\n",
    "                        if key in ['price', 'paid_price', 'refunded_price', 'timeline', 'refunded_timeline', \n",
    "                                    'created_at', 'user_id', 'order_type', 'order_id', 'app_code', 'id', 'paid_at']:\n",
    "                            sql_set += key + '=' + '%s' + ','\n",
    "                            sql_values.append(value)\n",
    "                    sql_set = sql_set.strip(',')\n",
    "#                     sql_values = [v for v in pg_data.values()]\n",
    "                    sql_values.append(pg_data['id'])\n",
    "                    sql = \"\"\"UPDATE refund SET {} WHERE id=%s;\"\"\".format(sql_set)\n",
    "                    print(sql,sql_values)\n",
    "                    cur.execute(sql, sql_values)\n",
    "            p.pgconn.commit()\n",
    "        except Exception as e:\n",
    "            p.pgconn.rollback()\n",
    "            with p.pgconn.cursor() as cur:\n",
    "                cur.execute(\"\"\"SELECT * FROM pay WHERE id=%s\"\"\",\n",
    "                            (pg_data.get('id'), ))\n",
    "                data = cur.fetchone()\n",
    "            if data:\n",
    "                pg_data.pop('order_id') if 'order_id' in pg_data else 0\n",
    "                pg_data['paidId']=pg_data.pop('id')\n",
    "                pg_upsert(pg_data, task_name)\n",
    "\n",
    "            else:\n",
    "                redis_err_id(pg_data['id'], task_name)\n",
    "                exception(e)\n",
    "                \n",
    "#             exception(e)\n",
    "#             p.pgconn.rollback()\n",
    "#             redis_err_id(pg_data['id'], task_name)\n",
    "            return 'upsert err ,data error'\n",
    "#         finally:\n",
    "#             p.pgconn.commit()\n",
    "    print(task_name, 'upsert ok')\n",
    "    return [task_name, 'upsert ok']"
   ]
  },
  {
   "cell_type": "code",
   "execution_count": 925,
   "metadata": {
    "collapsed": false,
    "deletable": true,
    "editable": true
   },
   "outputs": [],
   "source": [
    "def err_task_retry(task_name):\n",
    "    resp = True\n",
    "    task = 1 if task_name in ['pay_err', 1] else 2\n",
    "    while resp:\n",
    "        if task == 1:\n",
    "            resp = p.rdb_1.lpop('pay_err')\n",
    "            if not resp:\n",
    "                return\n",
    "            resp_id = p.rdb_1.keys('p:*{}'.format(resp))[0]\n",
    "            if 'records' in resp_id:\n",
    "                continue\n",
    "            resp_data = p.rdb_1.hgetall(resp_id)\n",
    "        if task == 2:\n",
    "            resp = p.rdb_2.lpop('paid_err')\n",
    "            if not resp:\n",
    "                return\n",
    "            resp_id = p.rdb_2.keys('r:*{}'.format(resp))[0]\n",
    "            if 'records' in resp_id:\n",
    "                continue\n",
    "            resp_data = p.rdb_2.hgetall(resp_id)\n",
    "        resp_data['paidId'] = resp_id.split(':')[-1]\n",
    "        print(resp_data)\n",
    "        pg_upsert(resp_data, task)\n",
    "#         resp=False\n",
    "    return 'err_id ok'"
   ]
  },
  {
   "cell_type": "code",
   "execution_count": 926,
   "metadata": {
    "collapsed": false,
    "deletable": true,
    "editable": true
   },
   "outputs": [
    {
     "name": "stderr",
     "output_type": "stream",
     "text": [
      "ERROR:root:null value in column \"channel\" violates not-null constraint\n",
      "DETAIL:  Failing row contains (100000382649, 100, null, null, blm_jpbkbfm, null, 1466131657495, liuliang, 1, null, boluome, 100000382649        ).\n",
      "Traceback (most recent call last):\n",
      "  File \"<ipython-input-850-83a2a783e0f3>\", line 33, in pg_upsert\n",
      "    pg_data.get('serial_num'), pg_data.get('app_code'), pg_data.get('id')]\n",
      "psycopg2.IntegrityError: null value in column \"channel\" violates not-null constraint\n",
      "DETAIL:  Failing row contains (100000382649, 100, null, null, blm_jpbkbfm, null, 1466131657495, liuliang, 1, null, boluome, 100000382649        ).\n",
      "\n",
      "ERROR:root:null value in column \"channel\" violates not-null constraint\n",
      "DETAIL:  Failing row contains (100000395054, 13930, null, null, blm_3s17zhc, null, 1486456490924, shenghuojiaofei, 1, null, boluome, 100000395054        ).\n",
      "Traceback (most recent call last):\n",
      "  File \"<ipython-input-850-83a2a783e0f3>\", line 33, in pg_upsert\n",
      "    pg_data.get('serial_num'), pg_data.get('app_code'), pg_data.get('id')]\n",
      "psycopg2.IntegrityError: null value in column \"channel\" violates not-null constraint\n",
      "DETAIL:  Failing row contains (100000395054, 13930, null, null, blm_3s17zhc, null, 1486456490924, shenghuojiaofei, 1, null, boluome, 100000395054        ).\n",
      "\n",
      "ERROR:root:null value in column \"channel\" violates not-null constraint\n",
      "DETAIL:  Failing row contains (100000397403, 4980, null, null, blm_test, null, 1490013099777, huafei, 1, null, boluome, 100000397403        ).\n",
      "Traceback (most recent call last):\n",
      "  File \"<ipython-input-850-83a2a783e0f3>\", line 33, in pg_upsert\n",
      "    pg_data.get('serial_num'), pg_data.get('app_code'), pg_data.get('id')]\n",
      "psycopg2.IntegrityError: null value in column \"channel\" violates not-null constraint\n",
      "DETAIL:  Failing row contains (100000397403, 4980, null, null, blm_test, null, 1490013099777, huafei, 1, null, boluome, 100000397403        ).\n",
      "\n",
      "ERROR:root:null value in column \"channel\" violates not-null constraint\n",
      "DETAIL:  Failing row contains (100000397224, 2750, null, null, 2, null, 1489666567752, dianying, 1, null, boluome, 100000397224        ).\n",
      "Traceback (most recent call last):\n",
      "  File \"<ipython-input-850-83a2a783e0f3>\", line 33, in pg_upsert\n",
      "    pg_data.get('serial_num'), pg_data.get('app_code'), pg_data.get('id')]\n",
      "psycopg2.IntegrityError: null value in column \"channel\" violates not-null constraint\n",
      "DETAIL:  Failing row contains (100000397224, 2750, null, null, 2, null, 1489666567752, dianying, 1, null, boluome, 100000397224        ).\n",
      "\n",
      "ERROR:root:null value in column \"channel\" violates not-null constraint\n",
      "DETAIL:  Failing row contains (100000390082, 56100, null, null, blm_jqc549b, null, 1479458141505, huoche, 1, null, boluome, 100000390082        ).\n",
      "Traceback (most recent call last):\n",
      "  File \"<ipython-input-850-83a2a783e0f3>\", line 33, in pg_upsert\n",
      "    pg_data.get('serial_num'), pg_data.get('app_code'), pg_data.get('id')]\n",
      "psycopg2.IntegrityError: null value in column \"channel\" violates not-null constraint\n",
      "DETAIL:  Failing row contains (100000390082, 56100, null, null, blm_jqc549b, null, 1479458141505, huoche, 1, null, boluome, 100000390082        ).\n",
      "\n",
      "ERROR:root:null value in column \"channel\" violates not-null constraint\n",
      "DETAIL:  Failing row contains (100000381718, 986, null, null, blm_jktidfr, null, 1465350664205, huafei, 1, null, boluome, 100000381718        ).\n",
      "Traceback (most recent call last):\n",
      "  File \"<ipython-input-850-83a2a783e0f3>\", line 33, in pg_upsert\n",
      "    pg_data.get('serial_num'), pg_data.get('app_code'), pg_data.get('id')]\n",
      "psycopg2.IntegrityError: null value in column \"channel\" violates not-null constraint\n",
      "DETAIL:  Failing row contains (100000381718, 986, null, null, blm_jktidfr, null, 1465350664205, huafei, 1, null, boluome, 100000381718        ).\n",
      "\n",
      "ERROR:root:null value in column \"channel\" violates not-null constraint\n",
      "DETAIL:  Failing row contains (100000393861, 9800, null, null, blm_jnk1d86, null, 1484296196471, xianhua, 1, null, boluome, 100000393861        ).\n",
      "Traceback (most recent call last):\n",
      "  File \"<ipython-input-850-83a2a783e0f3>\", line 33, in pg_upsert\n",
      "    pg_data.get('serial_num'), pg_data.get('app_code'), pg_data.get('id')]\n",
      "psycopg2.IntegrityError: null value in column \"channel\" violates not-null constraint\n",
      "DETAIL:  Failing row contains (100000393861, 9800, null, null, blm_jnk1d86, null, 1484296196471, xianhua, 1, null, boluome, 100000393861        ).\n",
      "\n",
      "ERROR:root:null value in column \"channel\" violates not-null constraint\n",
      "DETAIL:  Failing row contains (100000379733, 100, null, null, blm_jpbkbfm, null, 1463497981657, liuliang, 1, null, boluome, 100000379733        ).\n",
      "Traceback (most recent call last):\n",
      "  File \"<ipython-input-850-83a2a783e0f3>\", line 33, in pg_upsert\n",
      "    pg_data.get('serial_num'), pg_data.get('app_code'), pg_data.get('id')]\n",
      "psycopg2.IntegrityError: null value in column \"channel\" violates not-null constraint\n",
      "DETAIL:  Failing row contains (100000379733, 100, null, null, blm_jpbkbfm, null, 1463497981657, liuliang, 1, null, boluome, 100000379733        ).\n",
      "\n",
      "ERROR:root:null value in column \"channel\" violates not-null constraint\n",
      "DETAIL:  Failing row contains (100000381306, 59578, null, null, blm_3dv3soo, null, 1464153826365, jipiao, 1, null, boluome, 100000381306        ).\n",
      "Traceback (most recent call last):\n",
      "  File \"<ipython-input-850-83a2a783e0f3>\", line 33, in pg_upsert\n",
      "    pg_data.get('serial_num'), pg_data.get('app_code'), pg_data.get('id')]\n",
      "psycopg2.IntegrityError: null value in column \"channel\" violates not-null constraint\n",
      "DETAIL:  Failing row contains (100000381306, 59578, null, null, blm_3dv3soo, null, 1464153826365, jipiao, 1, null, boluome, 100000381306        ).\n",
      "\n",
      "ERROR:root:null value in column \"channel\" violates not-null constraint\n",
      "DETAIL:  Failing row contains (100000395072, 13930, null, null, blm_36zvuvp, null, 1486459466488, shenghuojiaofei, 1, null, boluome, 100000395072        ).\n",
      "Traceback (most recent call last):\n",
      "  File \"<ipython-input-850-83a2a783e0f3>\", line 33, in pg_upsert\n",
      "    pg_data.get('serial_num'), pg_data.get('app_code'), pg_data.get('id')]\n",
      "psycopg2.IntegrityError: null value in column \"channel\" violates not-null constraint\n",
      "DETAIL:  Failing row contains (100000395072, 13930, null, null, blm_36zvuvp, null, 1486459466488, shenghuojiaofei, 1, null, boluome, 100000395072        ).\n",
      "\n",
      "ERROR:root:null value in column \"channel\" violates not-null constraint\n",
      "DETAIL:  Failing row contains (100000388693, 19300, null, null, blm_r6yk66x, null, 1476753904821, coffee, 1, null, boluome, 100000388693        ).\n",
      "Traceback (most recent call last):\n",
      "  File \"<ipython-input-850-83a2a783e0f3>\", line 33, in pg_upsert\n",
      "    pg_data.get('serial_num'), pg_data.get('app_code'), pg_data.get('id')]\n",
      "psycopg2.IntegrityError: null value in column \"channel\" violates not-null constraint\n",
      "DETAIL:  Failing row contains (100000388693, 19300, null, null, blm_r6yk66x, null, 1476753904821, coffee, 1, null, boluome, 100000388693        ).\n",
      "\n",
      "ERROR:root:null value in column \"channel\" violates not-null constraint\n",
      "DETAIL:  Failing row contains (100000397355, 4960, null, null, blm_test, null, 1490011652548, huafei, 1, null, boluome, 100000397355        ).\n",
      "Traceback (most recent call last):\n",
      "  File \"<ipython-input-850-83a2a783e0f3>\", line 33, in pg_upsert\n",
      "    pg_data.get('serial_num'), pg_data.get('app_code'), pg_data.get('id')]\n",
      "psycopg2.IntegrityError: null value in column \"channel\" violates not-null constraint\n",
      "DETAIL:  Failing row contains (100000397355, 4960, null, null, blm_test, null, 1490011652548, huafei, 1, null, boluome, 100000397355        ).\n",
      "\n",
      "ERROR:root:null value in column \"channel\" violates not-null constraint\n",
      "DETAIL:  Failing row contains (100000394017, 3800, null, null, 1845, null, 1484377516706, dianying, 1, null, 91ala, 100000394017        ).\n",
      "Traceback (most recent call last):\n",
      "  File \"<ipython-input-850-83a2a783e0f3>\", line 33, in pg_upsert\n",
      "    pg_data.get('serial_num'), pg_data.get('app_code'), pg_data.get('id')]\n",
      "psycopg2.IntegrityError: null value in column \"channel\" violates not-null constraint\n",
      "DETAIL:  Failing row contains (100000394017, 3800, null, null, 1845, null, 1484377516706, dianying, 1, null, 91ala, 100000394017        ).\n",
      "\n",
      "ERROR:root:null value in column \"channel\" violates not-null constraint\n",
      "DETAIL:  Failing row contains (100000382119, 4800, null, null, blm_jktidfr, null, 1465885772873, dianying, 1, null, boluome, 100000382119        ).\n",
      "Traceback (most recent call last):\n",
      "  File \"<ipython-input-850-83a2a783e0f3>\", line 33, in pg_upsert\n",
      "    pg_data.get('serial_num'), pg_data.get('app_code'), pg_data.get('id')]\n",
      "psycopg2.IntegrityError: null value in column \"channel\" violates not-null constraint\n",
      "DETAIL:  Failing row contains (100000382119, 4800, null, null, blm_jktidfr, null, 1465885772873, dianying, 1, null, boluome, 100000382119        ).\n",
      "\n",
      "ERROR:root:null value in column \"channel\" violates not-null constraint\n",
      "DETAIL:  Failing row contains (100000396530, 34500, null, null, blm_test, null, 1488459906447, shenghuojiaofei, 1, 10000039653000, boluome, 10000039653000      ).\n",
      "Traceback (most recent call last):\n",
      "  File \"<ipython-input-850-83a2a783e0f3>\", line 33, in pg_upsert\n",
      "    pg_data.get('serial_num'), pg_data.get('app_code'), pg_data.get('id')]\n",
      "psycopg2.IntegrityError: null value in column \"channel\" violates not-null constraint\n",
      "DETAIL:  Failing row contains (100000396530, 34500, null, null, blm_test, null, 1488459906447, shenghuojiaofei, 1, 10000039653000, boluome, 10000039653000      ).\n",
      "\n",
      "ERROR:root:null value in column \"channel\" violates not-null constraint\n",
      "DETAIL:  Failing row contains (100000381510, 300, 300, null, blm_jktidfr, null, 1464919848029, liuliang, 2, null, boluome, 100000381510        ).\n",
      "Traceback (most recent call last):\n",
      "  File \"<ipython-input-850-83a2a783e0f3>\", line 33, in pg_upsert\n",
      "    pg_data.get('serial_num'), pg_data.get('app_code'), pg_data.get('id')]\n",
      "psycopg2.IntegrityError: null value in column \"channel\" violates not-null constraint\n",
      "DETAIL:  Failing row contains (100000381510, 300, 300, null, blm_jktidfr, null, 1464919848029, liuliang, 2, null, boluome, 100000381510        ).\n",
      "\n",
      "ERROR:root:null value in column \"channel\" violates not-null constraint\n",
      "DETAIL:  Failing row contains (100000381078, 0, null, null, blm_rsx7p7r, null, 1463990477032, dianying, 1, null, boluome, 100000381078        ).\n",
      "Traceback (most recent call last):\n",
      "  File \"<ipython-input-850-83a2a783e0f3>\", line 33, in pg_upsert\n",
      "    pg_data.get('serial_num'), pg_data.get('app_code'), pg_data.get('id')]\n",
      "psycopg2.IntegrityError: null value in column \"channel\" violates not-null constraint\n",
      "DETAIL:  Failing row contains (100000381078, 0, null, null, blm_rsx7p7r, null, 1463990477032, dianying, 1, null, boluome, 100000381078        ).\n",
      "\n"
     ]
    },
    {
     "name": "stdout",
     "output_type": "stream",
     "text": [
      "p:boluome:100000382649\n",
      "{'id': '100000382649', 'createdAt': '1466131657495', 'price': '100', 'status': '1', 'paidAt': '1466131657495', 'orderType': 'liuliang', 'userId': 'blm_jpbkbfm', 'paidId': '100000382649'}\n",
      "{'order_id': '100000382649', 'created_at': '1466131657495', 'price': '100', 'status': '1', 'paid_at': '1466131657495', 'order_type': 'liuliang', 'user_id': 'blm_jpbkbfm', 'id': '100000382649'}\n",
      "pay_err_id insert ok\n",
      "p:boluome:100000395054\n",
      "{'id': '100000395054', 'appCode': 'boluome', 'createdAt': '1486456490924', 'price': '13930', 'name': '1000000210-0210485654', 'status': '1', 'paidAt': '1486456490924', 'orderType': 'shenghuojiaofei', 'userId': 'blm_3s17zhc', 'paidId': '100000395054'}\n",
      "{'order_id': '100000395054', 'app_code': 'boluome', 'created_at': '1486456490924', 'price': '13930', 'name': '1000000210-0210485654', 'status': '1', 'paid_at': '1486456490924', 'order_type': 'shenghuojiaofei', 'user_id': 'blm_3s17zhc', 'id': '100000395054'}\n",
      "pay_err_id insert ok\n",
      "p:boluome:100000397403\n",
      "{'id': '100000397403', 'price': '4980', 'name': '安徽六安移动49.8元 - 184****6123', 'userId': 'blm_test', 'orderType': 'huafei', 'createdAt': '1490013099777', 'appCode': 'boluome', 'status': '1', 'paidId': '100000397403'}\n",
      "{'order_id': '100000397403', 'price': '4980', 'name': '安徽六安移动49.8元 - 184****6123', 'user_id': 'blm_test', 'order_type': 'huafei', 'created_at': '1490013099777', 'app_code': 'boluome', 'status': '1', 'id': '100000397403'}\n",
      "pay_err_id insert ok\n",
      "p:boluome:100000397224\n",
      "{'id': '100000397224', 'price': '2750', 'name': '美女与野兽', 'userId': '2', 'orderType': 'dianying', 'createdAt': '1489666567752', 'appCode': 'boluome', 'status': '1', 'paidId': '100000397224'}\n",
      "{'order_id': '100000397224', 'price': '2750', 'name': '美女与野兽', 'user_id': '2', 'order_type': 'dianying', 'created_at': '1489666567752', 'app_code': 'boluome', 'status': '1', 'id': '100000397224'}\n",
      "pay_err_id insert ok\n",
      "p:boluome:100000390082\n",
      "{'id': '100000390082', 'createdAt': '1479458141505', 'price': '56100', 'status': '1', 'paidAt': '1479458141505', 'orderType': 'huoche', 'userId': 'blm_jqc549b', 'paidId': '100000390082'}\n",
      "{'order_id': '100000390082', 'created_at': '1479458141505', 'price': '56100', 'status': '1', 'paid_at': '1479458141505', 'order_type': 'huoche', 'user_id': 'blm_jqc549b', 'id': '100000390082'}\n",
      "pay_err_id insert ok\n",
      "p:boluome:100000381718\n",
      "{'id': '100000381718', 'createdAt': '1465350664205', 'price': '986', 'status': '1', 'paidAt': '1465350664205', 'orderType': 'huafei', 'userId': 'blm_jktidfr', 'paidId': '100000381718'}\n",
      "{'order_id': '100000381718', 'created_at': '1465350664205', 'price': '986', 'status': '1', 'paid_at': '1465350664205', 'order_type': 'huafei', 'user_id': 'blm_jktidfr', 'id': '100000381718'}\n",
      "pay_err_id insert ok\n",
      "p:boluome:100000393861\n",
      "{'id': '100000393861', 'appCode': 'boluome', 'createdAt': '1484296196471', 'price': '9800', 'name': '精选单品包月花', 'status': '1', 'paidAt': '1484296196471', 'orderType': 'xianhua', 'userId': 'blm_jnk1d86', 'paidId': '100000393861'}\n",
      "{'order_id': '100000393861', 'app_code': 'boluome', 'created_at': '1484296196471', 'price': '9800', 'name': '精选单品包月花', 'status': '1', 'paid_at': '1484296196471', 'order_type': 'xianhua', 'user_id': 'blm_jnk1d86', 'id': '100000393861'}\n",
      "pay_err_id insert ok\n",
      "p:boluome:100000379733\n",
      "{'id': '100000379733', 'createdAt': '1463497981657', 'price': '100', 'status': '1', 'paidAt': '1463497981657', 'orderType': 'liuliang', 'userId': 'blm_jpbkbfm', 'paidId': '100000379733'}\n",
      "{'order_id': '100000379733', 'created_at': '1463497981657', 'price': '100', 'status': '1', 'paid_at': '1463497981657', 'order_type': 'liuliang', 'user_id': 'blm_jpbkbfm', 'id': '100000379733'}\n",
      "pay_err_id insert ok\n",
      "p:boluome:100000381306\n",
      "{'id': '100000381306', 'createdAt': '1464153826365', 'price': '59578', 'status': '1', 'paidAt': '1464153826365', 'orderType': 'jipiao', 'userId': 'blm_3dv3soo', 'paidId': '100000381306'}\n",
      "{'order_id': '100000381306', 'created_at': '1464153826365', 'price': '59578', 'status': '1', 'paid_at': '1464153826365', 'order_type': 'jipiao', 'user_id': 'blm_3dv3soo', 'id': '100000381306'}\n",
      "pay_err_id insert ok\n",
      "p:boluome:100000395072\n",
      "{'id': '100000395072', 'appCode': 'boluome', 'createdAt': '1486459466488', 'price': '13930', 'name': '公共事业费-电-0210485654', 'status': '1', 'paidAt': '1486459466488', 'orderType': 'shenghuojiaofei', 'userId': 'blm_36zvuvp', 'paidId': '100000395072'}\n",
      "{'order_id': '100000395072', 'app_code': 'boluome', 'created_at': '1486459466488', 'price': '13930', 'name': '公共事业费-电-0210485654', 'status': '1', 'paid_at': '1486459466488', 'order_type': 'shenghuojiaofei', 'user_id': 'blm_36zvuvp', 'id': '100000395072'}\n",
      "pay_err_id insert ok\n",
      "p:boluome:100000388693\n",
      "{'id': '100000388693', 'createdAt': '1476753904821', 'price': '19300', 'status': '1', 'paidAt': '1476753904821', 'orderType': 'coffee', 'userId': 'blm_r6yk66x', 'paidId': '100000388693'}\n",
      "{'order_id': '100000388693', 'created_at': '1476753904821', 'price': '19300', 'status': '1', 'paid_at': '1476753904821', 'order_type': 'coffee', 'user_id': 'blm_r6yk66x', 'id': '100000388693'}\n",
      "pay_err_id insert ok\n",
      "p:boluome:100000397355\n",
      "{'id': '100000397355', 'price': '4960', 'name': '山东枣庄移动49.6元 - 182****5275', 'userId': 'blm_test', 'orderType': 'huafei', 'createdAt': '1490011652548', 'appCode': 'boluome', 'status': '1', 'paidId': '100000397355'}\n",
      "{'order_id': '100000397355', 'price': '4960', 'name': '山东枣庄移动49.6元 - 182****5275', 'user_id': 'blm_test', 'order_type': 'huafei', 'created_at': '1490011652548', 'app_code': 'boluome', 'status': '1', 'id': '100000397355'}\n",
      "pay_err_id insert ok\n",
      "p:91ala:100000394017\n",
      "{'id': '100000394017', 'appCode': '91ala', 'createdAt': '1484377516706', 'price': '3800', 'name': '摆渡人', 'status': '1', 'paidAt': '1484377516706', 'orderType': 'dianying', 'userId': '1845', 'paidId': '100000394017'}\n",
      "{'order_id': '100000394017', 'app_code': '91ala', 'created_at': '1484377516706', 'price': '3800', 'name': '摆渡人', 'status': '1', 'paid_at': '1484377516706', 'order_type': 'dianying', 'user_id': '1845', 'id': '100000394017'}\n",
      "pay_err_id insert ok\n",
      "p:boluome:100000382198\n",
      "{'id': '100000382198', 'channel': 'alipay', 'extra': '{\"channel\":\"balance\"}', 'status': '1', 'createdAt': '1465899385667', 'price': '986', 'paidAt': '1465899385667', 'orderType': 'huafei', 'userId': 'blm_3rego9v', 'chargeId': 'None', 'paidId': '100000382198'}\n",
      "{'order_id': '100000382198', 'channel': 'alipay', 'extra': '{\"channel\":\"balance\"}', 'status': '1', 'created_at': '1465899385667', 'price': '986', 'paid_at': '1465899385667', 'order_type': 'huafei', 'user_id': 'blm_3rego9v', 'charge_id': 'None', 'id': '100000382198'}\n",
      "{'channel': 'alipay', 'extra': '{\"channel\":\"balance\"}', 'status': '1', 'created_at': '1465899385667', 'price': '986', 'paid_at': '1465899385667', 'order_type': 'huafei', 'user_id': 'blm_3rego9v', 'charge_id': 'None', 'app_code': 'boluome', 'id': '100000382198'}\n",
      "UPDATE pay SET channel=%s,status=%s,created_at=%s,price=%s,order_type=%s,user_id=%s,charge_id=%s,app_code=%s,id=%s WHERE id=%s; ['alipay', '1', '1465899385667', '986', 'huafei', 'blm_3rego9v', 'None', 'boluome', '100000382198', '100000382198']\n",
      "1 upsert ok\n",
      "p:boluome:100000382119\n",
      "{'id': '100000382119', 'createdAt': '1465885772873', 'price': '4800', 'status': '1', 'paidAt': '1465885772873', 'orderType': 'dianying', 'userId': 'blm_jktidfr', 'paidId': '100000382119'}\n",
      "{'order_id': '100000382119', 'created_at': '1465885772873', 'price': '4800', 'status': '1', 'paid_at': '1465885772873', 'order_type': 'dianying', 'user_id': 'blm_jktidfr', 'id': '100000382119'}\n",
      "pay_err_id insert ok\n",
      "p:boluome:10000039653000\n",
      "{'orderType': 'shenghuojiaofei', 'serialNum': '10000039653000', 'id': '100000396530', 'createdAt': '1488459906447', 'name': '年02月月-煤气', 'price': '34500', 'type': '0', 'appCode': 'boluome', 'userId': 'blm_test', 'status': '1', 'paidAt': '1488459906447', 'paidId': '10000039653000'}\n",
      "{'order_type': 'shenghuojiaofei', 'serial_num': '10000039653000', 'order_id': '100000396530', 'created_at': '1488459906447', 'name': '年02月月-煤气', 'price': '34500', 'type': '0', 'app_code': 'boluome', 'user_id': 'blm_test', 'status': '1', 'paid_at': '1488459906447', 'id': '10000039653000'}\n",
      "pay_err_id insert ok\n",
      "p:boluome:100000381510\n",
      "{'id': '100000381510', 'payPrice': '300', 'createdAt': '1464919848029', 'price': '300', 'status': '2', 'paidAt': '1464919848029', 'orderType': 'liuliang', 'userId': 'blm_jktidfr', 'paidId': '100000381510'}\n",
      "{'order_id': '100000381510', 'pay_price': '300', 'created_at': '1464919848029', 'price': '300', 'status': '2', 'paid_at': '1464919848029', 'order_type': 'liuliang', 'user_id': 'blm_jktidfr', 'id': '100000381510'}\n",
      "pay_err_id insert ok\n",
      "p:boluome:100000381078\n",
      "{'id': '100000381078', 'createdAt': '1463990477032', 'price': '0', 'status': '1', 'paidAt': '1463990477032', 'orderType': 'dianying', 'userId': 'blm_rsx7p7r', 'paidId': '100000381078'}\n",
      "{'order_id': '100000381078', 'created_at': '1463990477032', 'price': '0', 'status': '1', 'paid_at': '1463990477032', 'order_type': 'dianying', 'user_id': 'blm_rsx7p7r', 'id': '100000381078'}\n",
      "pay_err_id insert ok\n",
      "p:boluome:100000389019\n",
      "{'id': '100000389019', 'createdAt': '1477560237812', 'price': '4980', 'status': '1', 'paidAt': '1477560237812', 'orderType': 'huafei', 'userId': 'blm001', 'paidId': '100000389019'}\n",
      "{'order_id': '100000389019', 'created_at': '1477560237812', 'price': '4980', 'status': '1', 'paid_at': '1477560237812', 'order_type': 'huafei', 'user_id': 'blm001', 'id': '100000389019'}\n"
     ]
    },
    {
     "name": "stderr",
     "output_type": "stream",
     "text": [
      "ERROR:root:null value in column \"channel\" violates not-null constraint\n",
      "DETAIL:  Failing row contains (100000389019, 4980, null, null, blm001, null, 1477560237812, huafei, 1, null, boluome, 100000389019        ).\n",
      "Traceback (most recent call last):\n",
      "  File \"<ipython-input-850-83a2a783e0f3>\", line 33, in pg_upsert\n",
      "    pg_data.get('serial_num'), pg_data.get('app_code'), pg_data.get('id')]\n",
      "psycopg2.IntegrityError: null value in column \"channel\" violates not-null constraint\n",
      "DETAIL:  Failing row contains (100000389019, 4980, null, null, blm001, null, 1477560237812, huafei, 1, null, boluome, 100000389019        ).\n",
      "\n",
      "ERROR:root:null value in column \"channel\" violates not-null constraint\n",
      "DETAIL:  Failing row contains (100000389338, 7800, null, null, blm_jnk1d86, null, 1478605503950, jiadianqingxi, 1, null, boluome, 100000389338        ).\n",
      "Traceback (most recent call last):\n",
      "  File \"<ipython-input-850-83a2a783e0f3>\", line 33, in pg_upsert\n",
      "    pg_data.get('serial_num'), pg_data.get('app_code'), pg_data.get('id')]\n",
      "psycopg2.IntegrityError: null value in column \"channel\" violates not-null constraint\n",
      "DETAIL:  Failing row contains (100000389338, 7800, null, null, blm_jnk1d86, null, 1478605503950, jiadianqingxi, 1, null, boluome, 100000389338        ).\n",
      "\n",
      "ERROR:root:null value in column \"channel\" violates not-null constraint\n",
      "DETAIL:  Failing row contains (100000394084, 3800, null, null, 67453, null, 1484390410173, dianying, 1, null, 91ala, 100000394084        ).\n",
      "Traceback (most recent call last):\n",
      "  File \"<ipython-input-850-83a2a783e0f3>\", line 33, in pg_upsert\n",
      "    pg_data.get('serial_num'), pg_data.get('app_code'), pg_data.get('id')]\n",
      "psycopg2.IntegrityError: null value in column \"channel\" violates not-null constraint\n",
      "DETAIL:  Failing row contains (100000394084, 3800, null, null, 67453, null, 1484390410173, dianying, 1, null, 91ala, 100000394084        ).\n",
      "\n",
      "ERROR:root:null value in column \"channel\" violates not-null constraint\n",
      "DETAIL:  Failing row contains (100000382145, 50000, null, null, blm_jktidfr, null, 1465890624890, balance, 1, null, boluome, 100000382145        ).\n",
      "Traceback (most recent call last):\n",
      "  File \"<ipython-input-850-83a2a783e0f3>\", line 33, in pg_upsert\n",
      "    pg_data.get('serial_num'), pg_data.get('app_code'), pg_data.get('id')]\n",
      "psycopg2.IntegrityError: null value in column \"channel\" violates not-null constraint\n",
      "DETAIL:  Failing row contains (100000382145, 50000, null, null, blm_jktidfr, null, 1465890624890, balance, 1, null, boluome, 100000382145        ).\n",
      "\n",
      "ERROR:root:null value in column \"channel\" violates not-null constraint\n",
      "DETAIL:  Failing row contains (100000394396, 4300, null, null, 372, null, 1484649261135, dianying, 1, null, 91ala, 100000394396        ).\n",
      "Traceback (most recent call last):\n",
      "  File \"<ipython-input-850-83a2a783e0f3>\", line 33, in pg_upsert\n",
      "    pg_data.get('serial_num'), pg_data.get('app_code'), pg_data.get('id')]\n",
      "psycopg2.IntegrityError: null value in column \"channel\" violates not-null constraint\n",
      "DETAIL:  Failing row contains (100000394396, 4300, null, null, 372, null, 1484649261135, dianying, 1, null, 91ala, 100000394396        ).\n",
      "\n",
      "ERROR:root:null value in column \"channel\" violates not-null constraint\n",
      "DETAIL:  Failing row contains (100000397170, 21900, null, null, blm_123, null, 1489557397446, weizhang, 1, null, boluome, 100000397170        ).\n",
      "Traceback (most recent call last):\n",
      "  File \"<ipython-input-850-83a2a783e0f3>\", line 33, in pg_upsert\n",
      "    pg_data.get('serial_num'), pg_data.get('app_code'), pg_data.get('id')]\n",
      "psycopg2.IntegrityError: null value in column \"channel\" violates not-null constraint\n",
      "DETAIL:  Failing row contains (100000397170, 21900, null, null, blm_123, null, 1489557397446, weizhang, 1, null, boluome, 100000397170        ).\n",
      "\n",
      "ERROR:root:null value in column \"channel\" violates not-null constraint\n",
      "DETAIL:  Failing row contains (100000395066, 13930, null, null, blm_36zvuvp, null, 1486458698734, shenghuojiaofei, 1, null, boluome, 100000395066        ).\n",
      "Traceback (most recent call last):\n",
      "  File \"<ipython-input-850-83a2a783e0f3>\", line 33, in pg_upsert\n",
      "    pg_data.get('serial_num'), pg_data.get('app_code'), pg_data.get('id')]\n",
      "psycopg2.IntegrityError: null value in column \"channel\" violates not-null constraint\n",
      "DETAIL:  Failing row contains (100000395066, 13930, null, null, blm_36zvuvp, null, 1486458698734, shenghuojiaofei, 1, null, boluome, 100000395066        ).\n",
      "\n",
      "ERROR:root:null value in column \"channel\" violates not-null constraint\n",
      "DETAIL:  Failing row contains (100000395555, 5600, null, null, blm_3j4jy5d, null, 1487071040357, coffee, 1, null, boluome, 100000395555        ).\n",
      "Traceback (most recent call last):\n",
      "  File \"<ipython-input-850-83a2a783e0f3>\", line 33, in pg_upsert\n",
      "    pg_data.get('serial_num'), pg_data.get('app_code'), pg_data.get('id')]\n",
      "psycopg2.IntegrityError: null value in column \"channel\" violates not-null constraint\n",
      "DETAIL:  Failing row contains (100000395555, 5600, null, null, blm_3j4jy5d, null, 1487071040357, coffee, 1, null, boluome, 100000395555        ).\n",
      "\n",
      "ERROR:root:null value in column \"channel\" violates not-null constraint\n",
      "DETAIL:  Failing row contains (100000382030, 55300, null, null, blm_3dv3soo, null, 1465825077662, huoche, 1, null, boluome, 100000382030        ).\n",
      "Traceback (most recent call last):\n",
      "  File \"<ipython-input-850-83a2a783e0f3>\", line 33, in pg_upsert\n",
      "    pg_data.get('serial_num'), pg_data.get('app_code'), pg_data.get('id')]\n",
      "psycopg2.IntegrityError: null value in column \"channel\" violates not-null constraint\n",
      "DETAIL:  Failing row contains (100000382030, 55300, null, null, blm_3dv3soo, null, 1465825077662, huoche, 1, null, boluome, 100000382030        ).\n",
      "\n",
      "ERROR:root:null value in column \"channel\" violates not-null constraint\n",
      "DETAIL:  Failing row contains (100000395041, 115, null, null, blm_jqhy2e3, null, 1486453916720, huafei, 1, null, boluome, 100000395041        ).\n",
      "Traceback (most recent call last):\n",
      "  File \"<ipython-input-850-83a2a783e0f3>\", line 33, in pg_upsert\n",
      "    pg_data.get('serial_num'), pg_data.get('app_code'), pg_data.get('id')]\n",
      "psycopg2.IntegrityError: null value in column \"channel\" violates not-null constraint\n",
      "DETAIL:  Failing row contains (100000395041, 115, null, null, blm_jqhy2e3, null, 1486453916720, huafei, 1, null, boluome, 100000395041        ).\n",
      "\n",
      "ERROR:root:null value in column \"channel\" violates not-null constraint\n",
      "DETAIL:  Failing row contains (100000396576, 1, null, null, 201606161000110, null, 1488519571002, dianying, 1, null, allinpay, 100000396576        ).\n",
      "Traceback (most recent call last):\n",
      "  File \"<ipython-input-850-83a2a783e0f3>\", line 33, in pg_upsert\n",
      "    pg_data.get('serial_num'), pg_data.get('app_code'), pg_data.get('id')]\n",
      "psycopg2.IntegrityError: null value in column \"channel\" violates not-null constraint\n",
      "DETAIL:  Failing row contains (100000396576, 1, null, null, 201606161000110, null, 1488519571002, dianying, 1, null, allinpay, 100000396576        ).\n",
      "\n",
      "ERROR:root:null value in column \"channel\" violates not-null constraint\n",
      "DETAIL:  Failing row contains (100000395941, 3100, null, null, 58713d4362fa4260b8a1c89417d2ec1b, null, 1487574199619, coffee, 1, null, scity, 100000395941        ).\n",
      "Traceback (most recent call last):\n",
      "  File \"<ipython-input-850-83a2a783e0f3>\", line 33, in pg_upsert\n",
      "    pg_data.get('serial_num'), pg_data.get('app_code'), pg_data.get('id')]\n",
      "psycopg2.IntegrityError: null value in column \"channel\" violates not-null constraint\n",
      "DETAIL:  Failing row contains (100000395941, 3100, null, null, 58713d4362fa4260b8a1c89417d2ec1b, null, 1487574199619, coffee, 1, null, scity, 100000395941        ).\n",
      "\n",
      "ERROR:root:null value in column \"channel\" violates not-null constraint\n",
      "DETAIL:  Failing row contains (100000397210, 93000, null, null, blm_rlco03m, null, 1489649256639, jipiao, 1, 10000039721000, boluome, 10000039721000      ).\n",
      "Traceback (most recent call last):\n",
      "  File \"<ipython-input-850-83a2a783e0f3>\", line 33, in pg_upsert\n",
      "    pg_data.get('serial_num'), pg_data.get('app_code'), pg_data.get('id')]\n",
      "psycopg2.IntegrityError: null value in column \"channel\" violates not-null constraint\n",
      "DETAIL:  Failing row contains (100000397210, 93000, null, null, blm_rlco03m, null, 1489649256639, jipiao, 1, 10000039721000, boluome, 10000039721000      ).\n",
      "\n",
      "ERROR:root:null value in column \"channel\" violates not-null constraint\n",
      "DETAIL:  Failing row contains (100000394567, 11900, null, null, blm_3j4jy5d, null, 1484736081124, coffee, 1, null, boluome, 100000394567        ).\n",
      "Traceback (most recent call last):\n",
      "  File \"<ipython-input-850-83a2a783e0f3>\", line 33, in pg_upsert\n",
      "    pg_data.get('serial_num'), pg_data.get('app_code'), pg_data.get('id')]\n",
      "psycopg2.IntegrityError: null value in column \"channel\" violates not-null constraint\n",
      "DETAIL:  Failing row contains (100000394567, 11900, null, null, blm_3j4jy5d, null, 1484736081124, coffee, 1, null, boluome, 100000394567        ).\n",
      "\n"
     ]
    },
    {
     "name": "stdout",
     "output_type": "stream",
     "text": [
      "pay_err_id insert ok\n",
      "p:boluome:100000391841\n",
      "{'id': '100000391841', 'createdAt': '1482283477012', 'price': '3090', 'status': '1', 'paidAt': '1482283477012', 'orderType': 'dianying', 'userId': '71', 'paidId': '100000391841'}\n",
      "{'order_id': '100000391841', 'created_at': '1482283477012', 'price': '3090', 'status': '1', 'paid_at': '1482283477012', 'order_type': 'dianying', 'user_id': '71', 'id': '100000391841'}\n",
      "{'created_at': '1482283477012', 'price': '3090', 'status': '1', 'paid_at': '1482283477012', 'order_type': 'dianying', 'user_id': '71', 'app_code': 'boluome', 'id': '100000391841'}\n",
      "UPDATE pay SET created_at=%s,price=%s,status=%s,order_type=%s,user_id=%s,app_code=%s,id=%s WHERE id=%s; ['1482283477012', '3090', '1', 'dianying', '71', 'boluome', '100000391841', '100000391841']\n",
      "1 upsert ok\n",
      "p:boluome:100000389338\n",
      "{'id': '100000389338', 'createdAt': '1478605503950', 'price': '7800', 'status': '1', 'paidAt': '1478605503950', 'orderType': 'jiadianqingxi', 'userId': 'blm_jnk1d86', 'paidId': '100000389338'}\n",
      "{'order_id': '100000389338', 'created_at': '1478605503950', 'price': '7800', 'status': '1', 'paid_at': '1478605503950', 'order_type': 'jiadianqingxi', 'user_id': 'blm_jnk1d86', 'id': '100000389338'}\n",
      "pay_err_id insert ok\n",
      "p:allinpay:100000396631\n",
      "{'orderType': 'dianying', 'createdAt': '1488784646806', 'serial': '1000003966311488784665006', 'id': '100000396631', 'paidAt': '1488784662451', 'userId': '201606161000110', 'appCode': 'allinpay', 'channel': 'allinpay_qianbao', 'name': '金刚狼3：殊死一战', 'payPrice': '1', 'price': '1', 'status': '3', 'paidId': '100000396631'}\n",
      "{'order_type': 'dianying', 'created_at': '1488784646806', 'serial': '1000003966311488784665006', 'order_id': '100000396631', 'paid_at': '1488784662451', 'user_id': '201606161000110', 'app_code': 'allinpay', 'channel': 'allinpay_qianbao', 'name': '金刚狼3：殊死一战', 'pay_price': '1', 'price': '1', 'status': '3', 'id': '100000396631'}\n",
      "{'order_type': 'dianying', 'created_at': '1488784646806', 'serial': '1000003966311488784665006', 'paid_at': '1488784662451', 'user_id': '201606161000110', 'app_code': 'allinpay', 'channel': 'allinpay_qianbao', 'name': '金刚狼3：殊死一战', 'pay_price': '1', 'price': '1', 'status': '3', 'id': '100000396631'}\n",
      "UPDATE pay SET order_type=%s,created_at=%s,user_id=%s,app_code=%s,channel=%s,pay_price=%s,price=%s,status=%s,id=%s WHERE id=%s; ['dianying', '1488784646806', '201606161000110', 'allinpay', 'allinpay_qianbao', '1', '1', '3', '100000396631', '100000396631']\n",
      "1 upsert ok\n",
      "p:91ala:100000394084\n",
      "{'id': '100000394084', 'appCode': '91ala', 'createdAt': '1484390410173', 'price': '3800', 'name': '恐怖理发店', 'status': '1', 'paidAt': '1484390410173', 'orderType': 'dianying', 'userId': '67453', 'paidId': '100000394084'}\n",
      "{'order_id': '100000394084', 'app_code': '91ala', 'created_at': '1484390410173', 'price': '3800', 'name': '恐怖理发店', 'status': '1', 'paid_at': '1484390410173', 'order_type': 'dianying', 'user_id': '67453', 'id': '100000394084'}\n",
      "pay_err_id insert ok\n",
      "p:boluome:100000382145\n",
      "{'id': '100000382145', 'createdAt': '1465890624890', 'price': '50000', 'status': '1', 'paidAt': '1465890624890', 'orderType': 'balance', 'userId': 'blm_jktidfr', 'paidId': '100000382145'}\n",
      "{'order_id': '100000382145', 'created_at': '1465890624890', 'price': '50000', 'status': '1', 'paid_at': '1465890624890', 'order_type': 'balance', 'user_id': 'blm_jktidfr', 'id': '100000382145'}\n",
      "pay_err_id insert ok\n",
      "p:91ala:100000394396\n",
      "{'id': '100000394396', 'appCode': '91ala', 'createdAt': '1484649261135', 'price': '4300', 'name': '你的名字。', 'status': '1', 'paidAt': '1484649261135', 'orderType': 'dianying', 'userId': '372', 'paidId': '100000394396'}\n",
      "{'order_id': '100000394396', 'app_code': '91ala', 'created_at': '1484649261135', 'price': '4300', 'name': '你的名字。', 'status': '1', 'paid_at': '1484649261135', 'order_type': 'dianying', 'user_id': '372', 'id': '100000394396'}\n",
      "pay_err_id insert ok\n",
      "p:boluome:100000397513\n",
      "{'payPrice': '4323', 'name': '麦兜响当当', 'status': '2', 'paidAt': '1490079545154', 'appCode': 'boluome', 'price': '4323', 'userId': 'blm_test', 'createdAt': '1490079527605', 'channel': 'alipay_wap', 'orderType': 'dianying', 'id': '100000397513', 'chargeId': 'ch_zjfzTSLOCaP0C8GK48ybjf50', 'serial': '1000003975131490079543076', 'extra': '{\"success_url\":\"http://boluome.test.otosaas.com/pay/success/100000397513\"}', 'paidId': '100000397513'}\n",
      "{'pay_price': '4323', 'name': '麦兜响当当', 'status': '2', 'paid_at': '1490079545154', 'app_code': 'boluome', 'price': '4323', 'user_id': 'blm_test', 'created_at': '1490079527605', 'channel': 'alipay_wap', 'order_type': 'dianying', 'order_id': '100000397513', 'charge_id': 'ch_zjfzTSLOCaP0C8GK48ybjf50', 'serial': '1000003975131490079543076', 'extra': '{\"success_url\":\"http://boluome.test.otosaas.com/pay/success/100000397513\"}', 'id': '100000397513'}\n",
      "{'pay_price': '4323', 'name': '麦兜响当当', 'status': '2', 'paid_at': '1490079545154', 'app_code': 'boluome', 'price': '4323', 'user_id': 'blm_test', 'created_at': '1490079527605', 'channel': 'alipay_wap', 'order_type': 'dianying', 'charge_id': 'ch_zjfzTSLOCaP0C8GK48ybjf50', 'serial': '1000003975131490079543076', 'extra': '{\"success_url\":\"http://boluome.test.otosaas.com/pay/success/100000397513\"}', 'id': '100000397513'}\n",
      "UPDATE pay SET pay_price=%s,status=%s,app_code=%s,price=%s,user_id=%s,created_at=%s,channel=%s,order_type=%s,charge_id=%s,id=%s WHERE id=%s; ['4323', '2', 'boluome', '4323', 'blm_test', '1490079527605', 'alipay_wap', 'dianying', 'ch_zjfzTSLOCaP0C8GK48ybjf50', '100000397513', '100000397513']\n",
      "1 upsert ok\n",
      "p:boluome:100000397170\n",
      "{'id': '100000397170', 'price': '21900', 'name': '车辆违章缴费-粤B2L8X1', 'userId': 'blm_123', 'orderType': 'weizhang', 'createdAt': '1489557397446', 'appCode': 'boluome', 'status': '1', 'paidId': '100000397170'}\n",
      "{'order_id': '100000397170', 'price': '21900', 'name': '车辆违章缴费-粤B2L8X1', 'user_id': 'blm_123', 'order_type': 'weizhang', 'created_at': '1489557397446', 'app_code': 'boluome', 'status': '1', 'id': '100000397170'}\n",
      "pay_err_id insert ok\n",
      "p:boluome:100000395066\n",
      "{'id': '100000395066', 'appCode': 'boluome', 'createdAt': '1486458698734', 'price': '13930', 'name': '?????-?-0210485654', 'status': '1', 'paidAt': '1486458698734', 'orderType': 'shenghuojiaofei', 'userId': 'blm_36zvuvp', 'paidId': '100000395066'}\n",
      "{'order_id': '100000395066', 'app_code': 'boluome', 'created_at': '1486458698734', 'price': '13930', 'name': '?????-?-0210485654', 'status': '1', 'paid_at': '1486458698734', 'order_type': 'shenghuojiaofei', 'user_id': 'blm_36zvuvp', 'id': '100000395066'}\n",
      "pay_err_id insert ok\n",
      "p:boluome:100000388664\n",
      "{'id': '100000388664', 'channel': 'ccb', 'serial': '1000003886641476689932590', 'createdAt': '1476689932445', 'price': '1', 'status': '1', 'paidAt': '1476689932445', 'orderType': 'balance', 'userId': 'blm_35xw3cc', 'paidId': '100000388664'}\n",
      "{'order_id': '100000388664', 'channel': 'ccb', 'serial': '1000003886641476689932590', 'created_at': '1476689932445', 'price': '1', 'status': '1', 'paid_at': '1476689932445', 'order_type': 'balance', 'user_id': 'blm_35xw3cc', 'id': '100000388664'}\n",
      "{'channel': 'ccb', 'serial': '1000003886641476689932590', 'created_at': '1476689932445', 'price': '1', 'status': '1', 'paid_at': '1476689932445', 'order_type': 'balance', 'user_id': 'blm_35xw3cc', 'app_code': 'boluome', 'id': '100000388664'}\n",
      "UPDATE pay SET channel=%s,created_at=%s,price=%s,status=%s,order_type=%s,user_id=%s,app_code=%s,id=%s WHERE id=%s; ['ccb', '1476689932445', '1', '1', 'balance', 'blm_35xw3cc', 'boluome', '100000388664', '100000388664']\n",
      "1 upsert ok\n",
      "p:boluome:100000395555\n",
      "{'id': '100000395555', 'appCode': 'boluome', 'createdAt': '1487071040357', 'price': '5600', 'name': '星巴克 - 热茶', 'status': '1', 'paidAt': '1487071040357', 'orderType': 'coffee', 'userId': 'blm_3j4jy5d', 'paidId': '100000395555'}\n",
      "{'order_id': '100000395555', 'app_code': 'boluome', 'created_at': '1487071040357', 'price': '5600', 'name': '星巴克 - 热茶', 'status': '1', 'paid_at': '1487071040357', 'order_type': 'coffee', 'user_id': 'blm_3j4jy5d', 'id': '100000395555'}\n",
      "pay_err_id insert ok\n",
      "p:boluome:100000382030\n",
      "{'id': '100000382030', 'createdAt': '1465825077662', 'price': '55300', 'status': '1', 'paidAt': '1465825077662', 'orderType': 'huoche', 'userId': 'blm_3dv3soo', 'paidId': '100000382030'}\n",
      "{'order_id': '100000382030', 'created_at': '1465825077662', 'price': '55300', 'status': '1', 'paid_at': '1465825077662', 'order_type': 'huoche', 'user_id': 'blm_3dv3soo', 'id': '100000382030'}\n",
      "pay_err_id insert ok\n",
      "p:boluome:100000395041\n",
      "{'id': '100000395041', 'appCode': 'boluome', 'createdAt': '1486453916720', 'price': '115', 'name': '山东济宁联通1.15元 - 186****7190', 'status': '1', 'paidAt': '1486453916720', 'orderType': 'huafei', 'userId': 'blm_jqhy2e3', 'paidId': '100000395041'}\n",
      "{'order_id': '100000395041', 'app_code': 'boluome', 'created_at': '1486453916720', 'price': '115', 'name': '山东济宁联通1.15元 - 186****7190', 'status': '1', 'paid_at': '1486453916720', 'order_type': 'huafei', 'user_id': 'blm_jqhy2e3', 'id': '100000395041'}\n",
      "pay_err_id insert ok\n",
      "p:boluome:100000391670\n",
      "{'id': '100000391670', 'channel': 'alipay_qr', 'serial': '1000003916701481868550802', 'status': '1', 'createdAt': '1481868550746', 'price': '155200', 'paidAt': '1481868550746', 'orderType': 'jiadianqingxi', 'userId': 'blm_test', 'chargeId': 'None', 'paidId': '100000391670'}\n",
      "{'order_id': '100000391670', 'channel': 'alipay_qr', 'serial': '1000003916701481868550802', 'status': '1', 'created_at': '1481868550746', 'price': '155200', 'paid_at': '1481868550746', 'order_type': 'jiadianqingxi', 'user_id': 'blm_test', 'charge_id': 'None', 'id': '100000391670'}\n",
      "{'channel': 'alipay_qr', 'serial': '1000003916701481868550802', 'status': '1', 'created_at': '1481868550746', 'price': '155200', 'paid_at': '1481868550746', 'order_type': 'jiadianqingxi', 'user_id': 'blm_test', 'charge_id': 'None', 'app_code': 'boluome', 'id': '100000391670'}\n",
      "UPDATE pay SET channel=%s,status=%s,created_at=%s,price=%s,order_type=%s,user_id=%s,charge_id=%s,app_code=%s,id=%s WHERE id=%s; ['alipay_qr', '1', '1481868550746', '155200', 'jiadianqingxi', 'blm_test', 'None', 'boluome', '100000391670', '100000391670']\n",
      "1 upsert ok\n",
      "p:allinpay:100000396576\n",
      "{'orderType': 'dianying', 'id': '100000396576', 'createdAt': '1488519571002', 'name': '惊魂绣花鞋', 'price': '1', 'appCode': 'allinpay', 'userId': '201606161000110', 'status': '1', 'paidAt': '1488519571002', 'paidId': '100000396576'}\n",
      "{'order_type': 'dianying', 'order_id': '100000396576', 'created_at': '1488519571002', 'name': '惊魂绣花鞋', 'price': '1', 'app_code': 'allinpay', 'user_id': '201606161000110', 'status': '1', 'paid_at': '1488519571002', 'id': '100000396576'}\n",
      "pay_err_id insert ok\n",
      "p:scity:100000395941\n",
      "{'id': '100000395941', 'appCode': 'scity', 'createdAt': '1487574199619', 'price': '3100', 'name': '星巴克', 'status': '1', 'paidAt': '1487574199619', 'orderType': 'coffee', 'userId': '58713d4362fa4260b8a1c89417d2ec1b', 'paidId': '100000395941'}\n",
      "{'order_id': '100000395941', 'app_code': 'scity', 'created_at': '1487574199619', 'price': '3100', 'name': '星巴克', 'status': '1', 'paid_at': '1487574199619', 'order_type': 'coffee', 'user_id': '58713d4362fa4260b8a1c89417d2ec1b', 'id': '100000395941'}\n",
      "pay_err_id insert ok\n",
      "p:boluome:10000039721000\n",
      "{'id': '100000397210', 'price': '93000', 'name': '上海 至 西安', 'userId': 'blm_rlco03m', 'orderType': 'jipiao', 'type': '0', 'serialNum': '10000039721000', 'createdAt': '1489649256639', 'appCode': 'boluome', 'status': '1', 'paidId': '10000039721000'}\n",
      "{'order_id': '100000397210', 'price': '93000', 'name': '上海 至 西安', 'user_id': 'blm_rlco03m', 'order_type': 'jipiao', 'type': '0', 'serial_num': '10000039721000', 'created_at': '1489649256639', 'app_code': 'boluome', 'status': '1', 'id': '10000039721000'}\n",
      "pay_err_id insert ok\n",
      "p:boluome:100000382666\n",
      "{'id': '100000382666', 'channel': 'alipay', 'payPrice': '2500', 'status': '2', 'createdAt': '1466133979735', 'price': '2500', 'paidAt': '1466133979735', 'orderType': 'balance', 'userId': 'blm_rlco03m', 'chargeId': 'None', 'paidId': '100000382666'}\n",
      "{'order_id': '100000382666', 'channel': 'alipay', 'pay_price': '2500', 'status': '2', 'created_at': '1466133979735', 'price': '2500', 'paid_at': '1466133979735', 'order_type': 'balance', 'user_id': 'blm_rlco03m', 'charge_id': 'None', 'id': '100000382666'}\n",
      "{'channel': 'alipay', 'pay_price': '2500', 'status': '2', 'created_at': '1466133979735', 'price': '2500', 'paid_at': '1466133979735', 'order_type': 'balance', 'user_id': 'blm_rlco03m', 'charge_id': 'None', 'app_code': 'boluome', 'id': '100000382666'}\n",
      "UPDATE pay SET channel=%s,pay_price=%s,status=%s,created_at=%s,price=%s,order_type=%s,user_id=%s,charge_id=%s,app_code=%s,id=%s WHERE id=%s; ['alipay', '2500', '2', '1466133979735', '2500', 'balance', 'blm_rlco03m', 'None', 'boluome', '100000382666', '100000382666']\n",
      "1 upsert ok\n",
      "p:boluome:100000379886\n",
      "{'id': '100000379886', 'channel': 'alipay', 'status': '1', 'createdAt': '1463553938023', 'price': '510', 'paidAt': '1463553938023', 'orderType': 'huafei', 'userId': 'blm_jk85fme', 'chargeId': 'None', 'paidId': '100000379886'}\n",
      "{'order_id': '100000379886', 'channel': 'alipay', 'status': '1', 'created_at': '1463553938023', 'price': '510', 'paid_at': '1463553938023', 'order_type': 'huafei', 'user_id': 'blm_jk85fme', 'charge_id': 'None', 'id': '100000379886'}\n",
      "{'channel': 'alipay', 'status': '1', 'created_at': '1463553938023', 'price': '510', 'paid_at': '1463553938023', 'order_type': 'huafei', 'user_id': 'blm_jk85fme', 'charge_id': 'None', 'app_code': 'boluome', 'id': '100000379886'}\n",
      "UPDATE pay SET channel=%s,status=%s,created_at=%s,price=%s,order_type=%s,user_id=%s,charge_id=%s,app_code=%s,id=%s WHERE id=%s; ['alipay', '1', '1463553938023', '510', 'huafei', 'blm_jk85fme', 'None', 'boluome', '100000379886', '100000379886']\n",
      "1 upsert ok\n",
      "p:boluome:100000394567\n",
      "{'id': '100000394567', 'appCode': 'boluome', 'createdAt': '1484736081124', 'price': '11900', 'name': 'undefined', 'status': '1', 'paidAt': '1484736081124', 'orderType': 'coffee', 'userId': 'blm_3j4jy5d', 'paidId': '100000394567'}\n",
      "{'order_id': '100000394567', 'app_code': 'boluome', 'created_at': '1484736081124', 'price': '11900', 'name': 'undefined', 'status': '1', 'paid_at': '1484736081124', 'order_type': 'coffee', 'user_id': 'blm_3j4jy5d', 'id': '100000394567'}\n",
      "pay_err_id insert ok\n",
      "p:91ala:100000393784\n"
     ]
    },
    {
     "name": "stderr",
     "output_type": "stream",
     "text": [
      "ERROR:root:null value in column \"channel\" violates not-null constraint\n",
      "DETAIL:  Failing row contains (100000393784, 4550, null, null, 1845, null, 1484279118987, dianying, 1, null, 91ala, 100000393784        ).\n",
      "Traceback (most recent call last):\n",
      "  File \"<ipython-input-850-83a2a783e0f3>\", line 33, in pg_upsert\n",
      "    pg_data.get('serial_num'), pg_data.get('app_code'), pg_data.get('id')]\n",
      "psycopg2.IntegrityError: null value in column \"channel\" violates not-null constraint\n",
      "DETAIL:  Failing row contains (100000393784, 4550, null, null, 1845, null, 1484279118987, dianying, 1, null, 91ala, 100000393784        ).\n",
      "\n",
      "ERROR:root:null value in column \"channel\" violates not-null constraint\n",
      "DETAIL:  Failing row contains (100000380388, 3590, null, null, blm_3rego9v, null, 1463629289758, dianying, 1, null, boluome, 100000380388        ).\n",
      "Traceback (most recent call last):\n",
      "  File \"<ipython-input-850-83a2a783e0f3>\", line 33, in pg_upsert\n",
      "    pg_data.get('serial_num'), pg_data.get('app_code'), pg_data.get('id')]\n",
      "psycopg2.IntegrityError: null value in column \"channel\" violates not-null constraint\n",
      "DETAIL:  Failing row contains (100000380388, 3590, null, null, blm_3rego9v, null, 1463629289758, dianying, 1, null, boluome, 100000380388        ).\n",
      "\n",
      "ERROR:root:null value in column \"channel\" violates not-null constraint\n",
      "DETAIL:  Failing row contains (100000390970, 7000, null, null, 8d91a0c0-4f25-4521-ba9d-490267752660, null, 1480169756586, menpiao, 1, null, boluome, 100000390970        ).\n",
      "Traceback (most recent call last):\n",
      "  File \"<ipython-input-850-83a2a783e0f3>\", line 33, in pg_upsert\n",
      "    pg_data.get('serial_num'), pg_data.get('app_code'), pg_data.get('id')]\n",
      "psycopg2.IntegrityError: null value in column \"channel\" violates not-null constraint\n",
      "DETAIL:  Failing row contains (100000390970, 7000, null, null, 8d91a0c0-4f25-4521-ba9d-490267752660, null, 1480169756586, menpiao, 1, null, boluome, 100000390970        ).\n",
      "\n",
      "ERROR:root:null value in column \"channel\" violates not-null constraint\n",
      "DETAIL:  Failing row contains (100000395306, 12543, null, null, test_long, null, 1486733565276, jiudian, 1, null, boluome, 100000395306        ).\n",
      "Traceback (most recent call last):\n",
      "  File \"<ipython-input-850-83a2a783e0f3>\", line 33, in pg_upsert\n",
      "    pg_data.get('serial_num'), pg_data.get('app_code'), pg_data.get('id')]\n",
      "psycopg2.IntegrityError: null value in column \"channel\" violates not-null constraint\n",
      "DETAIL:  Failing row contains (100000395306, 12543, null, null, test_long, null, 1486733565276, jiudian, 1, null, boluome, 100000395306        ).\n",
      "\n",
      "ERROR:root:null value in column \"channel\" violates not-null constraint\n",
      "DETAIL:  Failing row contains (100000396037, 115, null, null, blm_rlco03m, null, 1487640479024, huafei, 1, null, boluome, 100000396037        ).\n",
      "Traceback (most recent call last):\n",
      "  File \"<ipython-input-850-83a2a783e0f3>\", line 33, in pg_upsert\n",
      "    pg_data.get('serial_num'), pg_data.get('app_code'), pg_data.get('id')]\n",
      "psycopg2.IntegrityError: null value in column \"channel\" violates not-null constraint\n",
      "DETAIL:  Failing row contains (100000396037, 115, null, null, blm_rlco03m, null, 1487640479024, huafei, 1, null, boluome, 100000396037        ).\n",
      "\n"
     ]
    },
    {
     "name": "stdout",
     "output_type": "stream",
     "text": [
      "{'id': '100000393784', 'appCode': '91ala', 'createdAt': '1484279118987', 'price': '4550', 'name': '你的名字。', 'status': '1', 'paidAt': '1484279118987', 'orderType': 'dianying', 'userId': '1845', 'paidId': '100000393784'}\n",
      "{'order_id': '100000393784', 'app_code': '91ala', 'created_at': '1484279118987', 'price': '4550', 'name': '你的名字。', 'status': '1', 'paid_at': '1484279118987', 'order_type': 'dianying', 'user_id': '1845', 'id': '100000393784'}\n",
      "pay_err_id insert ok\n",
      "p:boluome:100000380388\n",
      "{'id': '100000380388', 'createdAt': '1463629289758', 'price': '3590', 'status': '1', 'paidAt': '1463629289758', 'orderType': 'dianying', 'userId': 'blm_3rego9v', 'paidId': '100000380388'}\n",
      "{'order_id': '100000380388', 'created_at': '1463629289758', 'price': '3590', 'status': '1', 'paid_at': '1463629289758', 'order_type': 'dianying', 'user_id': 'blm_3rego9v', 'id': '100000380388'}\n",
      "pay_err_id insert ok\n",
      "p:boluome:100000390970\n",
      "{'id': '100000390970', 'createdAt': '1480169756586', 'price': '7000', 'status': '1', 'paidAt': '1480169756586', 'orderType': 'menpiao', 'userId': '8d91a0c0-4f25-4521-ba9d-490267752660', 'paidId': '100000390970'}\n",
      "{'order_id': '100000390970', 'created_at': '1480169756586', 'price': '7000', 'status': '1', 'paid_at': '1480169756586', 'order_type': 'menpiao', 'user_id': '8d91a0c0-4f25-4521-ba9d-490267752660', 'id': '100000390970'}\n",
      "pay_err_id insert ok\n",
      "p:boluome:100000395306\n",
      "{'id': '100000395306', 'appCode': 'boluome', 'createdAt': '1486733565276', 'price': '12543', 'name': 'undefined - undefined', 'status': '1', 'paidAt': '1486733565276', 'orderType': 'jiudian', 'userId': 'test_long', 'paidId': '100000395306'}\n",
      "{'order_id': '100000395306', 'app_code': 'boluome', 'created_at': '1486733565276', 'price': '12543', 'name': 'undefined - undefined', 'status': '1', 'paid_at': '1486733565276', 'order_type': 'jiudian', 'user_id': 'test_long', 'id': '100000395306'}\n",
      "pay_err_id insert ok\n",
      "p:boluome:100000396037\n",
      "{'id': '100000396037', 'appCode': 'boluome', 'createdAt': '1487640479024', 'price': '115', 'name': '上海联通1.15元 - 155****2569', 'status': '1', 'paidAt': '1487640479024', 'orderType': 'huafei', 'userId': 'blm_rlco03m', 'paidId': '100000396037'}\n",
      "{'order_id': '100000396037', 'app_code': 'boluome', 'created_at': '1487640479024', 'price': '115', 'name': '上海联通1.15元 - 155****2569', 'status': '1', 'paid_at': '1487640479024', 'order_type': 'huafei', 'user_id': 'blm_rlco03m', 'id': '100000396037'}\n",
      "pay_err_id insert ok\n",
      "p:allinpay:100000396181\n",
      "{'orderType': 'dianying', 'id': '100000396181', 'createdAt': '1488266014594', 'channel': 'allinpay_qianbao', 'name': '一条狗的使命', 'serial': '1000003961811488266017430', 'price': '3800', 'appCode': 'allinpay', 'userId': '201607121000149', 'status': '1', 'paidAt': '1488266014594', 'paidId': '100000396181'}\n",
      "{'order_type': 'dianying', 'order_id': '100000396181', 'created_at': '1488266014594', 'channel': 'allinpay_qianbao', 'name': '一条狗的使命', 'serial': '1000003961811488266017430', 'price': '3800', 'app_code': 'allinpay', 'user_id': '201607121000149', 'status': '1', 'paid_at': '1488266014594', 'id': '100000396181'}\n",
      "{'order_type': 'dianying', 'created_at': '1488266014594', 'channel': 'allinpay_qianbao', 'name': '一条狗的使命', 'serial': '1000003961811488266017430', 'price': '3800', 'app_code': 'allinpay', 'user_id': '201607121000149', 'status': '1', 'paid_at': '1488266014594', 'id': '100000396181'}\n",
      "UPDATE pay SET order_type=%s,created_at=%s,channel=%s,price=%s,app_code=%s,user_id=%s,status=%s,id=%s WHERE id=%s; ['dianying', '1488266014594', 'allinpay_qianbao', '3800', 'allinpay', '201607121000149', '1', '100000396181', '100000396181']\n",
      "1 upsert ok\n",
      "p:boluome:100000388729\n",
      "{'id': '100000388729', 'channel': 'ccb', 'serial': '1000003887291476778678607', 'createdAt': '1476778678526', 'price': '1', 'status': '1', 'paidAt': '1476778678526', 'orderType': 'balance', 'userId': 'blm_35xw3cc', 'paidId': '100000388729'}\n",
      "{'order_id': '100000388729', 'channel': 'ccb', 'serial': '1000003887291476778678607', 'created_at': '1476778678526', 'price': '1', 'status': '1', 'paid_at': '1476778678526', 'order_type': 'balance', 'user_id': 'blm_35xw3cc', 'id': '100000388729'}\n",
      "{'channel': 'ccb', 'serial': '1000003887291476778678607', 'created_at': '1476778678526', 'price': '1', 'status': '1', 'paid_at': '1476778678526', 'order_type': 'balance', 'user_id': 'blm_35xw3cc', 'app_code': 'boluome', 'id': '100000388729'}\n",
      "UPDATE pay SET channel=%s,created_at=%s,price=%s,status=%s,order_type=%s,user_id=%s,app_code=%s,id=%s WHERE id=%s; ['ccb', '1476778678526', '1', '1', 'balance', 'blm_35xw3cc', 'boluome', '100000388729', '100000388729']\n",
      "1 upsert ok\n",
      "p:boluome:100000397132:records\n"
     ]
    },
    {
     "ename": "ResponseError",
     "evalue": "WRONGTYPE Operation against a key holding the wrong kind of value",
     "output_type": "error",
     "traceback": [
      "\u001b[0;31m---------------------------------------------------------------------------\u001b[0m",
      "\u001b[0;31mResponseError\u001b[0m                             Traceback (most recent call last)",
      "\u001b[0;32m<ipython-input-926-ad26e2c40d86>\u001b[0m in \u001b[0;36m<module>\u001b[0;34m()\u001b[0m\n\u001b[0;32m----> 1\u001b[0;31m \u001b[0merr_task_retry\u001b[0m\u001b[0;34m(\u001b[0m\u001b[0;36m1\u001b[0m\u001b[0;34m)\u001b[0m\u001b[0;34m\u001b[0m\u001b[0m\n\u001b[0m",
      "\u001b[0;32m<ipython-input-925-388dc34ee27a>\u001b[0m in \u001b[0;36merr_task_retry\u001b[0;34m(task_name)\u001b[0m\n\u001b[1;32m      9\u001b[0m             \u001b[0mresp_id\u001b[0m \u001b[0;34m=\u001b[0m \u001b[0mp\u001b[0m\u001b[0;34m.\u001b[0m\u001b[0mrdb_1\u001b[0m\u001b[0;34m.\u001b[0m\u001b[0mkeys\u001b[0m\u001b[0;34m(\u001b[0m\u001b[0;34m'p:*{}'\u001b[0m\u001b[0;34m.\u001b[0m\u001b[0mformat\u001b[0m\u001b[0;34m(\u001b[0m\u001b[0mresp\u001b[0m\u001b[0;34m)\u001b[0m\u001b[0;34m)\u001b[0m\u001b[0;34m[\u001b[0m\u001b[0;36m0\u001b[0m\u001b[0;34m]\u001b[0m\u001b[0;34m\u001b[0m\u001b[0m\n\u001b[1;32m     10\u001b[0m             \u001b[0mprint\u001b[0m\u001b[0;34m(\u001b[0m\u001b[0mresp_id\u001b[0m\u001b[0;34m)\u001b[0m\u001b[0;34m\u001b[0m\u001b[0m\n\u001b[0;32m---> 11\u001b[0;31m             \u001b[0mresp_data\u001b[0m \u001b[0;34m=\u001b[0m \u001b[0mp\u001b[0m\u001b[0;34m.\u001b[0m\u001b[0mrdb_1\u001b[0m\u001b[0;34m.\u001b[0m\u001b[0mhgetall\u001b[0m\u001b[0;34m(\u001b[0m\u001b[0mresp_id\u001b[0m\u001b[0;34m)\u001b[0m\u001b[0;34m\u001b[0m\u001b[0m\n\u001b[0m\u001b[1;32m     12\u001b[0m         \u001b[0;32mif\u001b[0m \u001b[0mtask\u001b[0m \u001b[0;34m==\u001b[0m \u001b[0;36m2\u001b[0m\u001b[0;34m:\u001b[0m\u001b[0;34m\u001b[0m\u001b[0m\n\u001b[1;32m     13\u001b[0m             \u001b[0mresp\u001b[0m \u001b[0;34m=\u001b[0m \u001b[0mp\u001b[0m\u001b[0;34m.\u001b[0m\u001b[0mrdb_2\u001b[0m\u001b[0;34m.\u001b[0m\u001b[0mlpop\u001b[0m\u001b[0;34m(\u001b[0m\u001b[0;34m'paid_err'\u001b[0m\u001b[0;34m)\u001b[0m\u001b[0;34m\u001b[0m\u001b[0m\n",
      "\u001b[0;32m/usr/local/python3/lib/python3.6/site-packages/redis/client.py\u001b[0m in \u001b[0;36mhgetall\u001b[0;34m(self, name)\u001b[0m\n\u001b[1;32m   1859\u001b[0m     \u001b[0;32mdef\u001b[0m \u001b[0mhgetall\u001b[0m\u001b[0;34m(\u001b[0m\u001b[0mself\u001b[0m\u001b[0;34m,\u001b[0m \u001b[0mname\u001b[0m\u001b[0;34m)\u001b[0m\u001b[0;34m:\u001b[0m\u001b[0;34m\u001b[0m\u001b[0m\n\u001b[1;32m   1860\u001b[0m         \u001b[0;34m\"Return a Python dict of the hash's name/value pairs\"\u001b[0m\u001b[0;34m\u001b[0m\u001b[0m\n\u001b[0;32m-> 1861\u001b[0;31m         \u001b[0;32mreturn\u001b[0m \u001b[0mself\u001b[0m\u001b[0;34m.\u001b[0m\u001b[0mexecute_command\u001b[0m\u001b[0;34m(\u001b[0m\u001b[0;34m'HGETALL'\u001b[0m\u001b[0;34m,\u001b[0m \u001b[0mname\u001b[0m\u001b[0;34m)\u001b[0m\u001b[0;34m\u001b[0m\u001b[0m\n\u001b[0m\u001b[1;32m   1862\u001b[0m \u001b[0;34m\u001b[0m\u001b[0m\n\u001b[1;32m   1863\u001b[0m     \u001b[0;32mdef\u001b[0m \u001b[0mhincrby\u001b[0m\u001b[0;34m(\u001b[0m\u001b[0mself\u001b[0m\u001b[0;34m,\u001b[0m \u001b[0mname\u001b[0m\u001b[0;34m,\u001b[0m \u001b[0mkey\u001b[0m\u001b[0;34m,\u001b[0m \u001b[0mamount\u001b[0m\u001b[0;34m=\u001b[0m\u001b[0;36m1\u001b[0m\u001b[0;34m)\u001b[0m\u001b[0;34m:\u001b[0m\u001b[0;34m\u001b[0m\u001b[0m\n",
      "\u001b[0;32m/usr/local/python3/lib/python3.6/site-packages/redis/client.py\u001b[0m in \u001b[0;36mexecute_command\u001b[0;34m(self, *args, **options)\u001b[0m\n\u001b[1;32m    571\u001b[0m         \u001b[0;32mtry\u001b[0m\u001b[0;34m:\u001b[0m\u001b[0;34m\u001b[0m\u001b[0m\n\u001b[1;32m    572\u001b[0m             \u001b[0mconnection\u001b[0m\u001b[0;34m.\u001b[0m\u001b[0msend_command\u001b[0m\u001b[0;34m(\u001b[0m\u001b[0;34m*\u001b[0m\u001b[0margs\u001b[0m\u001b[0;34m)\u001b[0m\u001b[0;34m\u001b[0m\u001b[0m\n\u001b[0;32m--> 573\u001b[0;31m             \u001b[0;32mreturn\u001b[0m \u001b[0mself\u001b[0m\u001b[0;34m.\u001b[0m\u001b[0mparse_response\u001b[0m\u001b[0;34m(\u001b[0m\u001b[0mconnection\u001b[0m\u001b[0;34m,\u001b[0m \u001b[0mcommand_name\u001b[0m\u001b[0;34m,\u001b[0m \u001b[0;34m**\u001b[0m\u001b[0moptions\u001b[0m\u001b[0;34m)\u001b[0m\u001b[0;34m\u001b[0m\u001b[0m\n\u001b[0m\u001b[1;32m    574\u001b[0m         \u001b[0;32mexcept\u001b[0m \u001b[0;34m(\u001b[0m\u001b[0mConnectionError\u001b[0m\u001b[0;34m,\u001b[0m \u001b[0mTimeoutError\u001b[0m\u001b[0;34m)\u001b[0m \u001b[0;32mas\u001b[0m \u001b[0me\u001b[0m\u001b[0;34m:\u001b[0m\u001b[0;34m\u001b[0m\u001b[0m\n\u001b[1;32m    575\u001b[0m             \u001b[0mconnection\u001b[0m\u001b[0;34m.\u001b[0m\u001b[0mdisconnect\u001b[0m\u001b[0;34m(\u001b[0m\u001b[0;34m)\u001b[0m\u001b[0;34m\u001b[0m\u001b[0m\n",
      "\u001b[0;32m/usr/local/python3/lib/python3.6/site-packages/redis/client.py\u001b[0m in \u001b[0;36mparse_response\u001b[0;34m(self, connection, command_name, **options)\u001b[0m\n\u001b[1;32m    583\u001b[0m     \u001b[0;32mdef\u001b[0m \u001b[0mparse_response\u001b[0m\u001b[0;34m(\u001b[0m\u001b[0mself\u001b[0m\u001b[0;34m,\u001b[0m \u001b[0mconnection\u001b[0m\u001b[0;34m,\u001b[0m \u001b[0mcommand_name\u001b[0m\u001b[0;34m,\u001b[0m \u001b[0;34m**\u001b[0m\u001b[0moptions\u001b[0m\u001b[0;34m)\u001b[0m\u001b[0;34m:\u001b[0m\u001b[0;34m\u001b[0m\u001b[0m\n\u001b[1;32m    584\u001b[0m         \u001b[0;34m\"Parses a response from the Redis server\"\u001b[0m\u001b[0;34m\u001b[0m\u001b[0m\n\u001b[0;32m--> 585\u001b[0;31m         \u001b[0mresponse\u001b[0m \u001b[0;34m=\u001b[0m \u001b[0mconnection\u001b[0m\u001b[0;34m.\u001b[0m\u001b[0mread_response\u001b[0m\u001b[0;34m(\u001b[0m\u001b[0;34m)\u001b[0m\u001b[0;34m\u001b[0m\u001b[0m\n\u001b[0m\u001b[1;32m    586\u001b[0m         \u001b[0;32mif\u001b[0m \u001b[0mcommand_name\u001b[0m \u001b[0;32min\u001b[0m \u001b[0mself\u001b[0m\u001b[0;34m.\u001b[0m\u001b[0mresponse_callbacks\u001b[0m\u001b[0;34m:\u001b[0m\u001b[0;34m\u001b[0m\u001b[0m\n\u001b[1;32m    587\u001b[0m             \u001b[0;32mreturn\u001b[0m \u001b[0mself\u001b[0m\u001b[0;34m.\u001b[0m\u001b[0mresponse_callbacks\u001b[0m\u001b[0;34m[\u001b[0m\u001b[0mcommand_name\u001b[0m\u001b[0;34m]\u001b[0m\u001b[0;34m(\u001b[0m\u001b[0mresponse\u001b[0m\u001b[0;34m,\u001b[0m \u001b[0;34m**\u001b[0m\u001b[0moptions\u001b[0m\u001b[0;34m)\u001b[0m\u001b[0;34m\u001b[0m\u001b[0m\n",
      "\u001b[0;32m/usr/local/python3/lib/python3.6/site-packages/redis/connection.py\u001b[0m in \u001b[0;36mread_response\u001b[0;34m(self)\u001b[0m\n\u001b[1;32m    580\u001b[0m             \u001b[0;32mraise\u001b[0m\u001b[0;34m\u001b[0m\u001b[0m\n\u001b[1;32m    581\u001b[0m         \u001b[0;32mif\u001b[0m \u001b[0misinstance\u001b[0m\u001b[0;34m(\u001b[0m\u001b[0mresponse\u001b[0m\u001b[0;34m,\u001b[0m \u001b[0mResponseError\u001b[0m\u001b[0;34m)\u001b[0m\u001b[0;34m:\u001b[0m\u001b[0;34m\u001b[0m\u001b[0m\n\u001b[0;32m--> 582\u001b[0;31m             \u001b[0;32mraise\u001b[0m \u001b[0mresponse\u001b[0m\u001b[0;34m\u001b[0m\u001b[0m\n\u001b[0m\u001b[1;32m    583\u001b[0m         \u001b[0;32mreturn\u001b[0m \u001b[0mresponse\u001b[0m\u001b[0;34m\u001b[0m\u001b[0m\n\u001b[1;32m    584\u001b[0m \u001b[0;34m\u001b[0m\u001b[0m\n",
      "\u001b[0;31mResponseError\u001b[0m: WRONGTYPE Operation against a key holding the wrong kind of value"
     ]
    }
   ],
   "source": [
    "err_task_retry(1)"
   ]
  },
  {
   "cell_type": "code",
   "execution_count": 695,
   "metadata": {
    "collapsed": false,
    "deletable": true,
    "editable": true,
    "scrolled": true
   },
   "outputs": [
    {
     "name": "stdout",
     "output_type": "stream",
     "text": [
      "{'serial': '1000003886701476695061368', 'created_at': '1476695061199', 'price': '1', 'status': '1', 'user_id': 'blm_35xw3cc', 'order_type': 'balance', 'channel': 'ccb', 'order_id': '100000388670', 'id': '100000388670'}\n",
      "1 upsert ok\n"
     ]
    },
    {
     "data": {
      "text/plain": [
       "['task name', 1, 'finish']"
      ]
     },
     "execution_count": 695,
     "metadata": {},
     "output_type": "execute_result"
    }
   ],
   "source": [
    "redis_pay_task(1)"
   ]
  },
  {
   "cell_type": "code",
   "execution_count": 849,
   "metadata": {
    "collapsed": false,
    "deletable": true,
    "editable": true
   },
   "outputs": [
    {
     "ename": "TypeError",
     "evalue": "not all arguments converted during string formatting",
     "output_type": "error",
     "traceback": [
      "\u001b[0;31m---------------------------------------------------------------------------\u001b[0m",
      "\u001b[0;31mTypeError\u001b[0m                                 Traceback (most recent call last)",
      "\u001b[0;32m<ipython-input-849-930282eb6ffb>\u001b[0m in \u001b[0;36m<module>\u001b[0;34m()\u001b[0m\n\u001b[1;32m      1\u001b[0m \u001b[0mcur\u001b[0m\u001b[0;34m=\u001b[0m\u001b[0mp\u001b[0m\u001b[0;34m.\u001b[0m\u001b[0mpgconn\u001b[0m\u001b[0;34m.\u001b[0m\u001b[0mcursor\u001b[0m\u001b[0;34m(\u001b[0m\u001b[0;34m)\u001b[0m\u001b[0;34m\u001b[0m\u001b[0m\n\u001b[0;32m----> 2\u001b[0;31m \u001b[0mcur\u001b[0m\u001b[0;34m.\u001b[0m\u001b[0mexecute\u001b[0m\u001b[0;34m(\u001b[0m\u001b[0;34m\"UPDATE pay SET pay_price=%s,status=%s,app_code=%s,price=%s,user_id=%s,created_at=%s,channel=%s,order_type=%s,charge_id=%s,id=%s WHERE id=%s;\"\u001b[0m\u001b[0;34m,\u001b[0m \u001b[0;34m[\u001b[0m\u001b[0;34m'20'\u001b[0m\u001b[0;34m,\u001b[0m \u001b[0;34m'中石油卡:903****3452 充值 0.20元'\u001b[0m\u001b[0;34m,\u001b[0m \u001b[0;34m'2'\u001b[0m\u001b[0;34m,\u001b[0m \u001b[0;34m'1489543668221'\u001b[0m\u001b[0;34m,\u001b[0m \u001b[0;34m'boluome'\u001b[0m\u001b[0;34m,\u001b[0m \u001b[0;34m'20'\u001b[0m\u001b[0;34m,\u001b[0m \u001b[0;34m'test_long'\u001b[0m\u001b[0;34m,\u001b[0m \u001b[0;34m'1489543662911'\u001b[0m\u001b[0;34m,\u001b[0m \u001b[0;34m'alipay_wap'\u001b[0m\u001b[0;34m,\u001b[0m \u001b[0;34m'jiayouka'\u001b[0m\u001b[0;34m,\u001b[0m \u001b[0;34m'ch_bTOyPCGebvH4bX5yfTLOGG08'\u001b[0m\u001b[0;34m,\u001b[0m \u001b[0;34m'1000003971341489543666133'\u001b[0m\u001b[0;34m,\u001b[0m \u001b[0;34m'{\"success_url\":\"http://boluome.test.otosaas.com/pay/success/100000397134\"}'\u001b[0m\u001b[0;34m,\u001b[0m \u001b[0;34m'100000397134'\u001b[0m\u001b[0;34m,\u001b[0m \u001b[0;34m'100000397134'\u001b[0m\u001b[0;34m]\u001b[0m\u001b[0;34m)\u001b[0m\u001b[0;34m\u001b[0m\u001b[0m\n\u001b[0m",
      "\u001b[0;31mTypeError\u001b[0m: not all arguments converted during string formatting"
     ]
    }
   ],
   "source": [
    "cur=p.pgconn.cursor()\n",
    "cur.execute(\"UPDATE pay SET pay_price=%s,status=%s,app_code=%s,price=%s,user_id=%s,created_at=%s,channel=%s,order_type=%s,charge_id=%s,id=%s WHERE id=%s;\", ['20', '中石油卡:903****3452 充值 0.20元', '2', '1489543668221', 'boluome', '20', 'test_long', '1489543662911', 'alipay_wap', 'jiayouka', 'ch_bTOyPCGebvH4bX5yfTLOGG08', '1000003971341489543666133', '{\"success_url\":\"http://boluome.test.otosaas.com/pay/success/100000397134\"}', '100000397134', '100000397134'])"
   ]
  },
  {
   "cell_type": "code",
   "execution_count": 45,
   "metadata": {
    "collapsed": false,
    "deletable": true,
    "editable": true
   },
   "outputs": [],
   "source": [
    "class test():\n",
    "    _u=2\n",
    "    def __init__(self):\n",
    "        self._num=None\n",
    "        \n",
    "    def num(self):\n",
    "        if self._num is None:\n",
    "            self._num=0\n",
    "        else:\n",
    "            self._num+=1\n",
    "        return self._num\n",
    "t=test()"
   ]
  },
  {
   "cell_type": "code",
   "execution_count": 48,
   "metadata": {
    "collapsed": false,
    "deletable": true,
    "editable": true
   },
   "outputs": [
    {
     "data": {
      "text/plain": [
       "2"
      ]
     },
     "execution_count": 48,
     "metadata": {},
     "output_type": "execute_result"
    }
   ],
   "source": [
    "t.num()"
   ]
  },
  {
   "cell_type": "code",
   "execution_count": 56,
   "metadata": {
    "collapsed": false,
    "deletable": true,
    "editable": true
   },
   "outputs": [
    {
     "data": {
      "text/plain": [
       "0"
      ]
     },
     "execution_count": 56,
     "metadata": {},
     "output_type": "execute_result"
    }
   ],
   "source": [
    "tt=test()\n",
    "tt.num()"
   ]
  },
  {
   "cell_type": "code",
   "execution_count": 20,
   "metadata": {
    "collapsed": false,
    "deletable": true,
    "editable": true
   },
   "outputs": [
    {
     "data": {
      "text/plain": [
       "4"
      ]
     },
     "execution_count": 20,
     "metadata": {},
     "output_type": "execute_result"
    }
   ],
   "source": [
    "t._u+=1\n",
    "t._u\n"
   ]
  },
  {
   "cell_type": "code",
   "execution_count": 65,
   "metadata": {
    "collapsed": false,
    "deletable": true,
    "editable": true
   },
   "outputs": [
    {
     "data": {
      "text/plain": [
       "1492085561"
      ]
     },
     "execution_count": 65,
     "metadata": {},
     "output_type": "execute_result"
    }
   ],
   "source": [
    "import time\n",
    "time.mktime(time.strptime('2017-04-01',\"%Y-%m-%d\"))\n",
    "int(time.time())"
   ]
  },
  {
   "cell_type": "code",
   "execution_count": 68,
   "metadata": {
    "collapsed": false,
    "deletable": true,
    "editable": true
   },
   "outputs": [
    {
     "data": {
      "text/plain": [
       "[0,\n",
       " 4,\n",
       " 6,\n",
       " 7,\n",
       " 9,\n",
       " 11,\n",
       " 12,\n",
       " 13,\n",
       " 14,\n",
       " 15,\n",
       " 16,\n",
       " 17,\n",
       " 18,\n",
       " 19,\n",
       " 20,\n",
       " 21,\n",
       " 22,\n",
       " 23,\n",
       " 24,\n",
       " 25,\n",
       " 26,\n",
       " 27,\n",
       " 28,\n",
       " 29,\n",
       " 30,\n",
       " 31]"
      ]
     },
     "execution_count": 68,
     "metadata": {},
     "output_type": "execute_result"
    }
   ],
   "source": [
    "keys=[1,2,3,5,8,10]\n",
    "[num for num in range(32) if num not in keys]"
   ]
  },
  {
   "cell_type": "code",
   "execution_count": 103,
   "metadata": {
    "collapsed": false,
    "deletable": true,
    "editable": true
   },
   "outputs": [
    {
     "name": "stdout",
     "output_type": "stream",
     "text": [
      "1165305 2330610\n"
     ]
    },
    {
     "ename": "TypeError",
     "evalue": "int() can't convert non-string with explicit base",
     "output_type": "error",
     "traceback": [
      "\u001b[0;31m---------------------------------------------------------------------------\u001b[0m",
      "\u001b[0;31mTypeError\u001b[0m                                 Traceback (most recent call last)",
      "\u001b[0;32m<ipython-input-103-3c1bd1431ce1>\u001b[0m in \u001b[0;36m<module>\u001b[0;34m()\u001b[0m\n\u001b[1;32m      4\u001b[0m \u001b[0;34m(\u001b[0m\u001b[0mtime_stamp\u001b[0m \u001b[0;34m<<\u001b[0m \u001b[0;36m17\u001b[0m\u001b[0;34m)\u001b[0m\u001b[0;34m+\u001b[0m\u001b[0;34m(\u001b[0m\u001b[0;36m5\u001b[0m\u001b[0;34m<<\u001b[0m\u001b[0;36m12\u001b[0m\u001b[0;34m)\u001b[0m\u001b[0;34m+\u001b[0m\u001b[0;34m(\u001b[0m\u001b[0;36m40\u001b[0m\u001b[0;34m)\u001b[0m\u001b[0;34m\u001b[0m\u001b[0m\n\u001b[1;32m      5\u001b[0m \u001b[0;31m# print(int(str(time_stamp),2))\u001b[0m\u001b[0;34m\u001b[0m\u001b[0;34m\u001b[0m\u001b[0m\n\u001b[0;32m----> 6\u001b[0;31m \u001b[0mint\u001b[0m\u001b[0;34m(\u001b[0m\u001b[0;36m20\u001b[0m\u001b[0;34m,\u001b[0m\u001b[0;36m2\u001b[0m\u001b[0;34m)\u001b[0m\u001b[0;34m\u001b[0m\u001b[0m\n\u001b[0m",
      "\u001b[0;31mTypeError\u001b[0m: int() can't convert non-string with explicit base"
     ]
    }
   ],
   "source": [
    "time_stamp = int(time.time()) - 1490976000\n",
    "print(time_stamp,time_stamp << 1)\n",
    "(1<<4)\n",
    "(time_stamp << 17)+(5<<12)+(40)\n",
    "# print(int(str(time_stamp),2))\n",
    "int(20,2)"
   ]
  },
  {
   "cell_type": "code",
   "execution_count": 125,
   "metadata": {
    "collapsed": false,
    "deletable": true,
    "editable": true
   },
   "outputs": [],
   "source": [
    "class Application():\n",
    "    abstract = True\n",
    "\n",
    "    def __init__(self):\n",
    "        self._rdb = None\n",
    "        self._key = None\n",
    "        self._number = 0\n",
    "\n",
    "\n",
    "    @property\n",
    "    def rdb(self):\n",
    "        if self._rdb is None:\n",
    "            self._rdb = redis.StrictRedis(host=conf.STG_MONGO_HOST,\n",
    "                                          port=conf.REDIS_PORT,\n",
    "                                          db=1,\n",
    "                                          charset=\"UTF-8\",\n",
    "                                          decode_responses=True)\n",
    "        return self._rdb\n",
    "\n",
    "#     @property\n",
    "#     def key(self):\n",
    "#         \"\"\"机器号\"\"\"\n",
    "#         if self._key is None:\n",
    "#             keys = self.rdb.hkeys('server_bind')\n",
    "#             # keys = self.rdb.hset('server_bind', 'test', 100)\n",
    "#             return keys\n",
    "#             for num in range(32):\n",
    "#                 if num not in keys:\n",
    "#                     self._key = num\n",
    "#                     break\n",
    "#             if self._key is None:\n",
    "#                 for key in keys:\n",
    "#                     value = self.rdb.hget('server_bind', key)\n",
    "#                     data = requests.get(value)\n",
    "#                     if data.get('code') in [200, '200']:\n",
    "#                         continue\n",
    "#                     else:\n",
    "#                         self._key = key\n",
    "#                         break\n",
    "#             if self._key is None:\n",
    "#                 return\n",
    "\n",
    "#             self.rdb.hset('server_bind', key, 'http://127.0.0.1/app/{}/ping'.format(self._key))\n",
    "#             # handlers.append((r'/app/{}/ping'.format(self._key), PHandler))\n",
    "#         return self._key\n",
    "a=Application()"
   ]
  }
 ],
 "metadata": {
  "kernelspec": {
   "display_name": "Python 3",
   "language": "python",
   "name": "python3"
  },
  "language_info": {
   "codemirror_mode": {
    "name": "ipython",
    "version": 3
   },
   "file_extension": ".py",
   "mimetype": "text/x-python",
   "name": "python",
   "nbconvert_exporter": "python",
   "pygments_lexer": "ipython3",
   "version": "3.6.0"
  }
 },
 "nbformat": 4,
 "nbformat_minor": 2
}
