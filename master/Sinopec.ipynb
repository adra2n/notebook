{
 "cells": [
  {
   "cell_type": "code",
   "execution_count": 156,
   "metadata": {
    "collapsed": false,
    "deletable": true,
    "editable": true
   },
   "outputs": [],
   "source": [
    "# Sinopec\n",
    "import urllib,hashlib,requests,xmltodict\n",
    "from pprint import pprint\n",
    "from bs4 import BeautifulSoup\n",
    "#test\n",
    "url = 'http://114.247.40.65:18030/game/gameEsalesServlet.do'\n",
    "merchant_id = 'agenttest2'\n",
    "key = '123456789'\n",
    "merchant_key = key\n",
    "\n",
    "# # pro\n",
    "# url = 'http://oil.19ego.cn/game/gameEsalesServlet.do'\n",
    "# merchant_id = 'OE20170414856325'\n",
    "# merchant_key = 'UaWucEnyksHuQOKvjRyV2sVT1q0aKtCl'\n",
    "\n",
    "    \n",
    "def concat_params(params):\n",
    "    pairs = []\n",
    "    for key in sorted(params):\n",
    "        if key == 'sign':\n",
    "            continue\n",
    "        val = params[key]\n",
    "        if isinstance(val,str):\n",
    "            val = urllib.parse.quote_plus(val)\n",
    "        pairs.append(\"{}={}\".format(key, val))\n",
    "    return '&'.join(pairs+['key={}'.format(merchant_key)])\n",
    "def gen_sig(params):\n",
    "    params = concat_params(params)\n",
    "\n",
    "    to_hash = hashlib.md5(bytes(params,'utf-8')).hexdigest()\n",
    "    sig = hashlib.md5(bytes(merchant_key+to_hash+merchant_key,'utf-8')).hexdigest()\n",
    "    return sig"
   ]
  },
  {
   "cell_type": "code",
   "execution_count": 103,
   "metadata": {
    "collapsed": false,
    "deletable": true,
    "editable": true,
    "scrolled": true
   },
   "outputs": [
    {
     "name": "stdout",
     "output_type": "stream",
     "text": [
      "{'commandid': 'gamequery',\n",
      " 'mark': '',\n",
      " 'merchantid': 'OE20170414856325',\n",
      " 'protocolid': 'gmcard',\n",
      " 'sign': '73dbfe9943bd7dd3e1d978e7639c6a58',\n",
      " 'version': 1}\n"
     ]
    }
   ],
   "source": [
    "# 3.1 可充值商品查询接口\n",
    "data={\n",
    "    'commandid':'gamequery',\n",
    "    'protocolid':'gmcard',\n",
    "    'merchantid':merchant_id,\n",
    "    'version':1,\n",
    "    'sign':'',\n",
    "    'mark':''\n",
    "}\n",
    "data['sign']=gen_sig(data)\n",
    "pprint(data)\n",
    "resp=requests.post(url=url,data=data)\n",
    "\n",
    "resp.encoding='GBK'\n",
    "soup = BeautifulSoup(resp.text,\"html5lib\")\n",
    "# soup.prettify()"
   ]
  },
  {
   "cell_type": "code",
   "execution_count": 157,
   "metadata": {
    "collapsed": false,
    "deletable": true,
    "editable": true,
    "scrolled": false
   },
   "outputs": [
    {
     "name": "stdout",
     "output_type": "stream",
     "text": [
      "<!--?xml version=\"1.0\" encoding=\"GBK\"?--><html><head></head><body><response><code>0</code><orderid>jhb002024117895368</orderid><jxorderid>GDOA170926175152692037</jxorderid><orderstatus>0</orderstatus><finishmoney>10</finishmoney><fillmoney>10</fillmoney><finishtime>20170926175159</finishtime><errorcode>0000</errorcode><errorinfo>充值成功</errorinfo></response>ad48e76090150b9c5f1866ce789f906a</body></html>\n",
      "{'code': '0',\n",
      " 'errorcode': '0000',\n",
      " 'errorinfo': '充值成功',\n",
      " 'fillmoney': '10',\n",
      " 'finishmoney': '10',\n",
      " 'finishtime': '20170926175159',\n",
      " 'jxorderid': 'GDOA170926175152692037',\n",
      " 'orderid': 'jhb002024117895368',\n",
      " 'orderstatus': '0'}\n"
     ]
    }
   ],
   "source": [
    "# 3.7 订单结果查询接口(新)\n",
    "order_message={\n",
    "\"taskName\":\"worker.sinopec.order_status_polling\",\n",
    "\"queue\":\"sinopec_tasks\",\n",
    "\"args\":{\"orderId\":\"jhb002024117895368\"}\n",
    "}\n",
    "data={\n",
    "    'commandid':'orderquerynew',\n",
    "    'protocolid':'normalnew',\n",
    "    'merchantid':merchant_id,\n",
    "    'version':1,\n",
    "    'sign':'',\n",
    "    'orderid':order_message['args']['orderId'],\n",
    "    'mark':''\n",
    "}\n",
    "data['sign']=gen_sig(data)\n",
    "resp=requests.post(url=url,data=data)\n",
    "resp.encoding='GBK'\n",
    "soup = BeautifulSoup(resp.text,\"html5lib\")\n",
    "print(soup)\n",
    "response=soup.find('response')\n",
    "if response is None:\n",
    "    pass\n",
    "resp_data={}\n",
    "for line in response.contents:\n",
    "    if line.name is None:\n",
    "        continue\n",
    "    resp_data[line.name]=line.text\n",
    "pprint(resp_data)"
   ]
  },
  {
   "cell_type": "code",
   "execution_count": 154,
   "metadata": {
    "collapsed": false,
    "deletable": true,
    "editable": true
   },
   "outputs": [
    {
     "data": {
      "text/plain": [
       "{'code': 0,\n",
       " 'data': {'url': 'https://dl.otosaas.com/share/huoche/2a48041df8467a85885dffcebf9b7528.png'}}"
      ]
     },
     "execution_count": 154,
     "metadata": {},
     "output_type": "execute_result"
    }
   ],
   "source": [
    "data={\n",
    "    \"url\":\"http://192.168.0.6:8012/share/generate_huoche_img\",\n",
    "    \"data\":{\n",
    "        \"orderId\":\"bl002339945185431\",\n",
    "        \"trips\":\"T135\",\n",
    "        \"date\":\"2017-11-13\",\n",
    "        \"seatType\":\"硬座\",\n",
    "        \"fromCity\":\"上海南\",\n",
    "        \"toCity\":\"杭州东\",\n",
    "        \"departureTime\":\"06:21\",\n",
    "        \"arrivalTime\":\"08:18\",\n",
    "        \"dateStep\":\"\",\n",
    "        \"departureDate\":\"11月13日 周一\",\n",
    "        \"arrivalDate\":\"11月13日 周一\",\n",
    "        \"duration\":\"历时1小时57分\",\n",
    "        \"name\":\"测试\",\n",
    "        \"seat\":\"02车厢02号\"\n",
    "    }\n",
    "}\n",
    "requests.post(data['url'],json=data['data']).json()"
   ]
  }
 ],
 "metadata": {
  "kernelspec": {
   "display_name": "Python 3",
   "language": "python",
   "name": "python3"
  },
  "language_info": {
   "codemirror_mode": {
    "name": "ipython",
    "version": 3
   },
   "file_extension": ".py",
   "mimetype": "text/x-python",
   "name": "python",
   "nbconvert_exporter": "python",
   "pygments_lexer": "ipython3",
   "version": "3.6.0"
  }
 },
 "nbformat": 4,
 "nbformat_minor": 2
}
