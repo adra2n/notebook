{
 "cells": [
  {
   "cell_type": "code",
   "execution_count": 2,
   "metadata": {},
   "outputs": [],
   "source": [
    "from connection import ConnectionTask\n",
    "import time\n",
    "c = ConnectionTask()"
   ]
  },
  {
   "cell_type": "code",
   "execution_count": 133,
   "metadata": {},
   "outputs": [],
   "source": [
    "from pyecharts import Bar,Line\n",
    "line = Line(\"订单转化率\", \"这里是副标题\")\n",
    "x_lab = []\n",
    "y_lab = []"
   ]
  },
  {
   "cell_type": "code",
   "execution_count": 137,
   "metadata": {},
   "outputs": [
    {
     "name": "stdout",
     "output_type": "stream",
     "text": [
      "支付订单： 1149 下单总量 2371\n",
      "[0.48, 0.48]\r"
     ]
    },
    {
     "ename": "KeyboardInterrupt",
     "evalue": "",
     "output_type": "error",
     "traceback": [
      "\u001b[0;31m---------------------------------------------------------------------------\u001b[0m",
      "\u001b[0;31mKeyboardInterrupt\u001b[0m                         Traceback (most recent call last)",
      "\u001b[0;32m<ipython-input-137-83ddf5506a50>\u001b[0m in \u001b[0;36m<module>\u001b[0;34m()\u001b[0m\n\u001b[1;32m     12\u001b[0m     \u001b[0mprint\u001b[0m\u001b[0;34m(\u001b[0m\u001b[0my_lab\u001b[0m\u001b[0;34m,\u001b[0m\u001b[0mend\u001b[0m\u001b[0;34m=\u001b[0m\u001b[0;34m'\\r'\u001b[0m\u001b[0;34m)\u001b[0m\u001b[0;34m\u001b[0m\u001b[0m\n\u001b[1;32m     13\u001b[0m \u001b[0;34m\u001b[0m\u001b[0m\n\u001b[0;32m---> 14\u001b[0;31m     \u001b[0mtime\u001b[0m\u001b[0;34m.\u001b[0m\u001b[0msleep\u001b[0m\u001b[0;34m(\u001b[0m\u001b[0;36m60\u001b[0m\u001b[0;34m*\u001b[0m\u001b[0;36m15\u001b[0m\u001b[0;34m)\u001b[0m\u001b[0;34m\u001b[0m\u001b[0m\n\u001b[0m",
      "\u001b[0;31mKeyboardInterrupt\u001b[0m: "
     ]
    }
   ],
   "source": [
    "while True:\n",
    "    start = (time.time()-60*15)*1000\n",
    "    count = count_sum = 0\n",
    "    for item in c.pmdb.order_lite_list.find({'createdAt':{'$gte':start}},{'_id':0,'status':1}):\n",
    "        count_sum+=1\n",
    "        if item['status'] not in [1,2,8]:\n",
    "            count+=1\n",
    "    x_lab.append(time.strftime('%H:%M',time.localtime(start/1000)))\n",
    "    y_lab.append(round(count/count_sum,2))\n",
    "    line.add(\"已支付/总下单\", x_lab, y_lab)\n",
    "    print('支付订单：',count,'下单总量',count_sum)\n",
    "    print(y_lab,end='\\r')\n",
    "    \n",
    "    time.sleep(60*15)"
   ]
  },
  {
   "cell_type": "code",
   "execution_count": 138,
   "metadata": {},
   "outputs": [
    {
     "data": {
      "text/plain": [
       "['11:41', '11:41']"
      ]
     },
     "execution_count": 138,
     "metadata": {},
     "output_type": "execute_result"
    }
   ],
   "source": [
    "x_lab"
   ]
  },
  {
   "cell_type": "code",
   "execution_count": 226,
   "metadata": {},
   "outputs": [
    {
     "data": {
      "text/plain": [
       "1527899769000.0"
      ]
     },
     "execution_count": 226,
     "metadata": {},
     "output_type": "execute_result"
    }
   ],
   "source": [
    "start"
   ]
  },
  {
   "cell_type": "code",
   "execution_count": 6,
   "metadata": {
    "scrolled": false
   },
   "outputs": [
    {
     "data": {
      "text/html": [
       "<script>\n",
       "    require.config({\n",
       "        paths: {\n",
       "            'echarts': '/nbextensions/echarts/echarts.min'\n",
       "        }\n",
       "    });\n",
       "</script>\n",
       "    <div id=\"8f93c2e9068f405da7dd1c819fa23b73\" style=\"width:800px;height:400px;\"></div>\n",
       "\n",
       "\n",
       "<script>\n",
       "    require(['echarts'], function(echarts) {\n",
       "        \n",
       "var myChart_8f93c2e9068f405da7dd1c819fa23b73 = echarts.init(document.getElementById('8f93c2e9068f405da7dd1c819fa23b73'), 'light', {renderer: 'canvas'});\n",
       "\n",
       "var option_8f93c2e9068f405da7dd1c819fa23b73 = {\n",
       "    \"title\": [\n",
       "        {\n",
       "            \"text\": \"icbc\\u8ba2\\u5355\\u91cf\\u7edf\\u8ba1\",\n",
       "            \"subtext\": \"\\u8fd9\\u91cc\\u662f\\u526f\\u6807\\u9898\",\n",
       "            \"left\": \"auto\",\n",
       "            \"top\": \"auto\",\n",
       "            \"textStyle\": {\n",
       "                \"fontSize\": 18\n",
       "            },\n",
       "            \"subtextStyle\": {\n",
       "                \"fontSize\": 12\n",
       "            }\n",
       "        }\n",
       "    ],\n",
       "    \"toolbox\": {\n",
       "        \"show\": true,\n",
       "        \"orient\": \"vertical\",\n",
       "        \"left\": \"95%\",\n",
       "        \"top\": \"center\",\n",
       "        \"feature\": {\n",
       "            \"saveAsImage\": {\n",
       "                \"show\": true,\n",
       "                \"title\": \"\\u4e0b\\u8f7d\\u56fe\\u7247\"\n",
       "            },\n",
       "            \"restore\": {\n",
       "                \"show\": true\n",
       "            },\n",
       "            \"dataView\": {\n",
       "                \"show\": true\n",
       "            }\n",
       "        }\n",
       "    },\n",
       "    \"series_id\": 1347540,\n",
       "    \"tooltip\": {\n",
       "        \"trigger\": \"item\",\n",
       "        \"triggerOn\": \"mousemove|click\",\n",
       "        \"axisPointer\": {\n",
       "            \"type\": \"line\"\n",
       "        },\n",
       "        \"textStyle\": {\n",
       "            \"fontSize\": 14\n",
       "        },\n",
       "        \"backgroundColor\": \"rgba(50,50,50,0.7)\",\n",
       "        \"borderColor\": \"#333\",\n",
       "        \"borderWidth\": 0\n",
       "    },\n",
       "    \"series\": [\n",
       "        {\n",
       "            \"type\": \"line\",\n",
       "            \"name\": \"\\u4e0b\\u5355\\u91cf/min\",\n",
       "            \"symbol\": \"emptyCircle\",\n",
       "            \"symbolSize\": 4,\n",
       "            \"smooth\": false,\n",
       "            \"step\": false,\n",
       "            \"showSymbol\": true,\n",
       "            \"data\": [\n",
       "                122,\n",
       "                134,\n",
       "                162,\n",
       "                188,\n",
       "                217,\n",
       "                319,\n",
       "                429,\n",
       "                529,\n",
       "                799,\n",
       "                1371,\n",
       "                2031,\n",
       "                1050,\n",
       "                309,\n",
       "                146,\n",
       "                79,\n",
       "                61,\n",
       "                39,\n",
       "                30,\n",
       "                27,\n",
       "                23,\n",
       "                11,\n",
       "                11,\n",
       "                16,\n",
       "                12,\n",
       "                11,\n",
       "                8,\n",
       "                6,\n",
       "                4,\n",
       "                8,\n",
       "                5\n",
       "            ],\n",
       "            \"label\": {\n",
       "                \"normal\": {\n",
       "                    \"show\": false,\n",
       "                    \"position\": \"top\",\n",
       "                    \"textStyle\": {\n",
       "                        \"fontSize\": 12\n",
       "                    }\n",
       "                },\n",
       "                \"emphasis\": {\n",
       "                    \"show\": true,\n",
       "                    \"textStyle\": {\n",
       "                        \"fontSize\": 12\n",
       "                    }\n",
       "                }\n",
       "            },\n",
       "            \"lineStyle\": {\n",
       "                \"normal\": {\n",
       "                    \"width\": 1,\n",
       "                    \"opacity\": 1,\n",
       "                    \"curveness\": 0,\n",
       "                    \"type\": \"solid\"\n",
       "                }\n",
       "            },\n",
       "            \"areaStyle\": {\n",
       "                \"opacity\": 0\n",
       "            },\n",
       "            \"markPoint\": {\n",
       "                \"data\": []\n",
       "            },\n",
       "            \"markLine\": {\n",
       "                \"data\": []\n",
       "            },\n",
       "            \"seriesId\": 1347540\n",
       "        },\n",
       "        {\n",
       "            \"type\": \"line\",\n",
       "            \"name\": \"\\u652f\\u4ed8\\u91cf/min\",\n",
       "            \"symbol\": \"emptyCircle\",\n",
       "            \"symbolSize\": 4,\n",
       "            \"smooth\": false,\n",
       "            \"step\": false,\n",
       "            \"showSymbol\": true,\n",
       "            \"data\": [\n",
       "                29,\n",
       "                36,\n",
       "                45,\n",
       "                54,\n",
       "                59,\n",
       "                92,\n",
       "                134,\n",
       "                171,\n",
       "                285,\n",
       "                495,\n",
       "                615,\n",
       "                30,\n",
       "                6,\n",
       "                3,\n",
       "                5,\n",
       "                2,\n",
       "                1,\n",
       "                1,\n",
       "                3,\n",
       "                0,\n",
       "                0,\n",
       "                0,\n",
       "                1,\n",
       "                1,\n",
       "                0,\n",
       "                0,\n",
       "                0,\n",
       "                1,\n",
       "                0,\n",
       "                0\n",
       "            ],\n",
       "            \"label\": {\n",
       "                \"normal\": {\n",
       "                    \"show\": false,\n",
       "                    \"position\": \"top\",\n",
       "                    \"textStyle\": {\n",
       "                        \"fontSize\": 12\n",
       "                    }\n",
       "                },\n",
       "                \"emphasis\": {\n",
       "                    \"show\": true,\n",
       "                    \"textStyle\": {\n",
       "                        \"fontSize\": 12\n",
       "                    }\n",
       "                }\n",
       "            },\n",
       "            \"lineStyle\": {\n",
       "                \"normal\": {\n",
       "                    \"width\": 1,\n",
       "                    \"opacity\": 1,\n",
       "                    \"curveness\": 0,\n",
       "                    \"type\": \"solid\"\n",
       "                }\n",
       "            },\n",
       "            \"areaStyle\": {\n",
       "                \"opacity\": 0\n",
       "            },\n",
       "            \"markPoint\": {\n",
       "                \"data\": []\n",
       "            },\n",
       "            \"markLine\": {\n",
       "                \"data\": []\n",
       "            },\n",
       "            \"seriesId\": 1347540\n",
       "        }\n",
       "    ],\n",
       "    \"legend\": [\n",
       "        {\n",
       "            \"data\": [\n",
       "                \"\\u4e0b\\u5355\\u91cf/min\",\n",
       "                \"\\u652f\\u4ed8\\u91cf/min\"\n",
       "            ],\n",
       "            \"selectedMode\": \"multiple\",\n",
       "            \"show\": true,\n",
       "            \"left\": \"center\",\n",
       "            \"top\": \"top\",\n",
       "            \"orient\": \"horizontal\",\n",
       "            \"textStyle\": {\n",
       "                \"fontSize\": 12\n",
       "            }\n",
       "        }\n",
       "    ],\n",
       "    \"xAxis\": [\n",
       "        {\n",
       "            \"show\": true,\n",
       "            \"nameLocation\": \"middle\",\n",
       "            \"nameGap\": 25,\n",
       "            \"nameTextStyle\": {\n",
       "                \"fontSize\": 14\n",
       "            },\n",
       "            \"axisTick\": {\n",
       "                \"alignWithLabel\": false\n",
       "            },\n",
       "            \"inverse\": false,\n",
       "            \"boundaryGap\": true,\n",
       "            \"type\": \"category\",\n",
       "            \"splitLine\": {\n",
       "                \"show\": false\n",
       "            },\n",
       "            \"axisLabel\": {\n",
       "                \"interval\": \"auto\",\n",
       "                \"rotate\": 0,\n",
       "                \"margin\": 8,\n",
       "                \"textStyle\": {\n",
       "                    \"fontSize\": 12\n",
       "                }\n",
       "            },\n",
       "            \"data\": [\n",
       "                \"11:00\",\n",
       "                \"11:01\",\n",
       "                \"11:02\",\n",
       "                \"11:03\",\n",
       "                \"11:04\",\n",
       "                \"11:05\",\n",
       "                \"11:06\",\n",
       "                \"11:07\",\n",
       "                \"11:08\",\n",
       "                \"11:09\",\n",
       "                \"11:10\",\n",
       "                \"11:11\",\n",
       "                \"11:12\",\n",
       "                \"11:13\",\n",
       "                \"11:14\",\n",
       "                \"11:15\",\n",
       "                \"11:16\",\n",
       "                \"11:17\",\n",
       "                \"11:18\",\n",
       "                \"11:19\",\n",
       "                \"11:20\",\n",
       "                \"11:21\",\n",
       "                \"11:22\",\n",
       "                \"11:23\",\n",
       "                \"11:24\",\n",
       "                \"11:25\",\n",
       "                \"11:26\",\n",
       "                \"11:27\",\n",
       "                \"11:28\",\n",
       "                \"11:29\"\n",
       "            ]\n",
       "        }\n",
       "    ],\n",
       "    \"yAxis\": [\n",
       "        {\n",
       "            \"show\": true,\n",
       "            \"nameLocation\": \"middle\",\n",
       "            \"nameGap\": 25,\n",
       "            \"nameTextStyle\": {\n",
       "                \"fontSize\": 14\n",
       "            },\n",
       "            \"axisTick\": {\n",
       "                \"alignWithLabel\": false\n",
       "            },\n",
       "            \"inverse\": false,\n",
       "            \"boundaryGap\": true,\n",
       "            \"type\": \"value\",\n",
       "            \"splitLine\": {\n",
       "                \"show\": true\n",
       "            },\n",
       "            \"axisLabel\": {\n",
       "                \"interval\": \"auto\",\n",
       "                \"formatter\": \"{value} \",\n",
       "                \"rotate\": 0,\n",
       "                \"margin\": 8,\n",
       "                \"textStyle\": {\n",
       "                    \"fontSize\": 12\n",
       "                }\n",
       "            }\n",
       "        }\n",
       "    ],\n",
       "    \"color\": [\n",
       "        \"#c23531\",\n",
       "        \"#2f4554\",\n",
       "        \"#61a0a8\",\n",
       "        \"#d48265\",\n",
       "        \"#749f83\",\n",
       "        \"#ca8622\",\n",
       "        \"#bda29a\",\n",
       "        \"#6e7074\",\n",
       "        \"#546570\",\n",
       "        \"#c4ccd3\",\n",
       "        \"#f05b72\",\n",
       "        \"#ef5b9c\",\n",
       "        \"#f47920\",\n",
       "        \"#905a3d\",\n",
       "        \"#fab27b\",\n",
       "        \"#2a5caa\",\n",
       "        \"#444693\",\n",
       "        \"#726930\",\n",
       "        \"#b2d235\",\n",
       "        \"#6d8346\",\n",
       "        \"#ac6767\",\n",
       "        \"#1d953f\",\n",
       "        \"#6950a1\",\n",
       "        \"#918597\",\n",
       "        \"#f6f5ec\"\n",
       "    ]\n",
       "};\n",
       "myChart_8f93c2e9068f405da7dd1c819fa23b73.setOption(option_8f93c2e9068f405da7dd1c819fa23b73);\n",
       "\n",
       "    });\n",
       "</script>\n"
      ],
      "text/plain": [
       "<pyecharts.charts.line.Line at 0x7f8470378240>"
      ]
     },
     "execution_count": 6,
     "metadata": {},
     "output_type": "execute_result"
    }
   ],
   "source": [
    "start = time.mktime((2018,8,18,11,0,0,0,0,0))*1000\n",
    "from pyecharts import Bar,Line\n",
    "\n",
    "app_code = 'icbc'\n",
    "x_lab = []\n",
    "count_sum_lab = []\n",
    "count_lab = []\n",
    "\n",
    "while True:\n",
    "    end = start + 1*60*1000\n",
    "    if end > time.mktime((2018,8,18,11,30,0,0,0,0))*1000:\n",
    "        break\n",
    "    count = count_1 = count_2 = count_8 = count_sum = pay_num = 0\n",
    "\n",
    "    for item in c.pmdb.order_lite_list.find({'createdAt':{'$gte':start,'$lt':end},'appCode':app_code},\n",
    "                                            {'_id':0,'status':1,'price':1}):\n",
    "        count_sum+=1\n",
    "        if item['status'] ==1:\n",
    "            count_1+=1\n",
    "        elif item['status'] ==2:\n",
    "            count_2+=1\n",
    "        elif item['status'] ==8:\n",
    "            count_8+=1\n",
    "        else:\n",
    "            pay_num+=item['price']\n",
    "            count+=1\n",
    "\n",
    "    start_date = time.strftime('%H:%M',time.localtime(start/1000))\n",
    "    x_lab.append(start_date)\n",
    "    count_sum_lab.append(count_sum)\n",
    "    count_lab.append(count)\n",
    "    start = end\n",
    "    \n",
    "line = Line(\"{}订单量统计\".format(app_code), \"这里是副标题\")\n",
    "line.add(\"下单量/min\", x_lab, count_sum_lab)\n",
    "line.add(\"支付量/min\", x_lab, count_lab)\n",
    "line"
   ]
  },
  {
   "cell_type": "code",
   "execution_count": 5,
   "metadata": {
    "scrolled": true
   },
   "outputs": [
    {
     "name": "stdout",
     "output_type": "stream",
     "text": [
      "appCode:icbc, 时间段:11:00-11:15, 转化率:0.26, 下单总量:7885, 支付订单:2059, 支付金额￥:208550, 客单价￥:101.29, 取消订单:5826, 待支付订单:0.\n"
     ]
    }
   ],
   "source": [
    "start = time.mktime((2018,8,18,11,0,0,0,0,0))*1000\n",
    "end = time.mktime((2018,8,18,11,15,0,0,0,0))*1000\n",
    "count = count_1 = count_2 = count_8 = count_sum = pay_num = 0\n",
    "app_code = 'icbc'\n",
    "\n",
    "for item in c.pmdb.order_lite_list.find({'createdAt':{'$gte':start,'$lt':end},'appCode':app_code},\n",
    "                                        {'_id':0,'status':1,'price':1}):\n",
    "    count_sum+=1\n",
    "    if item['status'] ==1:\n",
    "        count_1+=1\n",
    "    elif item['status'] ==2:\n",
    "        count_2+=1\n",
    "    elif item['status'] ==8:\n",
    "        count_8+=1\n",
    "    else:\n",
    "        pay_num+=item['price']\n",
    "        count+=1\n",
    "\n",
    "start_date = time.strftime('%H:%M',time.localtime(start/1000))\n",
    "end_date = time.strftime('%H:%M',time.localtime(end/1000))\n",
    "\n",
    "print('appCode:{},'.format(app_code),\n",
    "      '时间段:{}-{},'.format(start_date,end_date),\n",
    "      '转化率:{},'.format(round(count/count_sum,2)),\n",
    "      '下单总量:{},'.format(count_sum),\n",
    "      '支付订单:{},'.format(count),\n",
    "      '支付金额￥:{},'.format(round(pay_num,2)),\n",
    "      '客单价￥:{},'.format(round(pay_num/count,2)),\n",
    "      '取消订单:{},'.format(count_8),\n",
    "      '待支付订单:{}.'.format(count_2))\n"
   ]
  },
  {
   "cell_type": "code",
   "execution_count": null,
   "metadata": {},
   "outputs": [],
   "source": [
    "start = time.mktime((2018,6,2,11,0,0,0,0,0))*1000\n",
    "from pyecharts import Bar,Line\n",
    "\n",
    "app_code = 'icbc'\n",
    "x_lab = []\n",
    "count_sum_lab = []\n",
    "count_lab = []\n",
    "\n",
    "while True:\n",
    "    end = start + 1*60*1000\n",
    "    if end > time.mktime((2018,6,2,11,30,0,0,0,0))*1000:\n",
    "        break\n",
    "    count = count_1 = count_2 = count_8 = count_sum = 0\n",
    "    user_counter = {'pay':set(),'cancel':set(),'unpay':set(),'order':set()}\n",
    "    # 下单用户数， 支付用户数， 取消用户数。。未支付用户数\n",
    "\n",
    "    for item in c.pmdb.order_lite_list.find({'createdAt':{'$gte':start,'$lt':end},'appCode':app_code},\n",
    "                                            {'_id':0,'status':1,'price':1}):\n",
    "        count_sum+=1\n",
    "        if item['status'] ==1:\n",
    "            count_1+=1\n",
    "        elif item['status'] ==2:\n",
    "            count_2+=1\n",
    "        elif item['status'] ==8:\n",
    "            count_8+=1\n",
    "        else:\n",
    "            pay_num+=item['price']\n",
    "            count+=1\n",
    "\n",
    "    start_date = time.strftime('%H:%M',time.localtime(start/1000))\n",
    "    x_lab.append(start_date)\n",
    "    count_sum_lab.append(count_sum)\n",
    "    count_lab.append(count)\n",
    "    start = end\n",
    "    \n",
    "line = Line(\"{}订单量统计\".format(app_code), \"这里是副标题\")\n",
    "line.add(\"下单量/min\", x_lab, count_sum_lab)\n",
    "line.add(\"支付量/min\", x_lab, count_lab)\n",
    "line"
   ]
  },
  {
   "cell_type": "code",
   "execution_count": 222,
   "metadata": {},
   "outputs": [
    {
     "name": "stdout",
     "output_type": "stream",
     "text": [
      "appCode:icbc 时间段:11:00-11:30, 用户转化率:0.37 下单用户:5543 支付用户:2039\n"
     ]
    }
   ],
   "source": [
    "\n",
    "count = count_1 = count_2 = count_8 = count_sum = 0\n",
    "user_counter = {'pay':set(),'cancel':set(),'unpay':set(),'order':set()}\n",
    "# 下单用户数， 支付用户数， 取消用户数。。未支付用户数\n",
    "\n",
    "for item in c.pmdb.order_lite_list.find({'createdAt':{'$gte':start,'$lt':end},'appCode':app_code},{'_id':0,'status':1,'userId':1}):\n",
    "    user_counter['order'].add(item['userId'])\n",
    "\n",
    "    if item['status'] ==2:\n",
    "        user_counter['unpay'].add(item['userId'])\n",
    "\n",
    "    elif item['status'] ==8:\n",
    "        user_counter['cancel'].add(item['userId'])\n",
    "        \n",
    "    else:\n",
    "        user_counter['pay'].add(item['userId'])\n",
    "        \n",
    "start_date = time.strftime('%H:%M',time.localtime(start/1000))\n",
    "end_date = time.strftime('%H:%M',time.localtime(end/1000))\n",
    "\n",
    "print('appCode:{}'.format(app_code),\n",
    "      '时间段:{}-{},'.format(start_date,end_date),\n",
    "      '用户转化率:{}'.format(round(len(user_counter['pay'])/len(user_counter['order']),2)),\n",
    "      '下单用户:{}'.format(len(user_counter['order'])),\n",
    "      '支付用户:{}'.format(len(user_counter['pay'])),\n",
    "#       '取消用户:{}'.format(len(user_counter['cancel'])),\n",
    "#       '待支付用户:{}'.format(len(user_counter['unpay']))\n",
    "     )"
   ]
  },
  {
   "cell_type": "code",
   "execution_count": 29,
   "metadata": {},
   "outputs": [
    {
     "data": {
      "text/plain": [
       "6293"
      ]
     },
     "execution_count": 29,
     "metadata": {},
     "output_type": "execute_result"
    }
   ],
   "source": [
    "start = time.mktime((2018,5,25,0,0,0,0,0,0))*1000\n",
    "from pyecharts import Bar,Line\n",
    "\n",
    "x_lab = []\n",
    "count_sum_lab = []\n",
    "count_lab = []\n",
    "\n",
    "while True:\n",
    "    end = start + 1*60*1000\n",
    "    if end > time.time()*1000:\n",
    "        break\n",
    "    count = count_1 = count_2 = count_8 = count_sum = pay_num = 0\n",
    "    app_code = 'bestpay'\n",
    "    for item in c.pmdb.order_lite_list.find({'createdAt':{'$gte':start,'$lt':end},'appCode':app_code},\n",
    "                                            {'_id':0,'status':1,'price':1}):\n",
    "        count_sum+=1\n",
    "        if item['status'] ==1:\n",
    "            count_1+=1\n",
    "        elif item['status'] ==2:\n",
    "            count_2+=1\n",
    "        elif item['status'] ==8:\n",
    "            count_8+=1\n",
    "        else:\n",
    "            pay_num+=item['price']\n",
    "            count+=1\n",
    "\n",
    "    start_date = time.strftime('%H:%M',time.localtime(start/1000))\n",
    "    x_lab.append(start_date)\n",
    "    count_sum_lab.append(count_sum)\n",
    "    count_lab.append(count)\n",
    "    start = end\n",
    "    \n",
    "line = Line(\"翼支付订单量统计\", \"这里是副标题\")\n",
    "line.add(\"下单总量\", x_lab, count_sum_lab)\n",
    "line.add(\"支付总量\", x_lab, count_lab)\n",
    "line.add(\"支付总额\", x_lab, count_lab)\n",
    "line"
   ]
  },
  {
   "cell_type": "code",
   "execution_count": 78,
   "metadata": {},
   "outputs": [
    {
     "name": "stdout",
     "output_type": "stream",
     "text": [
      "2018-08-18,用户支付：2058,充值成功：2012,充值成功率：97.76%\n",
      "2018-08-11,用户支付：2121,充值成功：1922,充值成功率：90.62%\n",
      "2018-08-04,用户支付：2100,充值成功：2086,充值成功率：99.33%\n",
      "2018-07-28,用户支付：2025,充值成功：2009,充值成功率：99.21%\n",
      "2018-07-21,用户支付：2056,充值成功：2045,充值成功率：99.46%\n",
      "2018-07-14,用户支付：2050,充值成功：2026,充值成功率：98.83%\n",
      "2018-07-07,用户支付：2004,充值成功：1998,充值成功率：99.70%\n",
      "2018-06-30,用户支付：2013,充值成功：1999,充值成功率：99.30%\n",
      "2018-06-23,用户支付：2041,充值成功：2007,充值成功率：98.33%\n",
      "2018-06-16,用户支付：2035,充值成功：2020,充值成功率：99.26%\n",
      "2018-06-09,用户支付：2023,充值成功：1986,充值成功率：98.17%\n",
      "2018-06-02,用户支付：2030,充值成功：2010,充值成功率：99.01%\n",
      "2018-05-26,用户支付：1975,充值成功：1895,充值成功率：95.95%\n",
      "2018-05-19,用户支付：1981,充值成功：1966,充值成功率：99.24%\n",
      "2018-05-12,用户支付：1747,充值成功：1724,充值成功率：98.68%\n",
      "2018-05-05 over\n"
     ]
    }
   ],
   "source": [
    "now = arrow.get(datetime(2018,8,18,11,0,0),'Asia/Shanghai')\n",
    "for i in range(100):\n",
    "    start = now.timestamp*1000\n",
    "    end = now.shift(minutes=15).timestamp*1000\n",
    "    pay_count=complete_count=0\n",
    "    app_code = 'icbc'\n",
    "    pay_count = c.pmdb.order_jiayouka.count({'createdAt':{'$gte':start,'$lt':end},'appCode':app_code,'timeline_new.status':'已支付'})\n",
    "    if pay_count==0:\n",
    "        print(now.date(),'over')\n",
    "        break\n",
    "    complete_count = c.pmdb.order_jiayouka.count({'createdAt':{'$gte':start,'$lt':end},'appCode':app_code,'timeline_new.status':'充值成功'})\n",
    "    print(f'{now.date()},用户支付：{pay_count},充值成功：{complete_count},充值成功率：{complete_count/pay_count*100:0.2f}%')\n",
    "    now = now.shift(days=-7)"
   ]
  },
  {
   "cell_type": "code",
   "execution_count": 52,
   "metadata": {},
   "outputs": [
    {
     "data": {
      "text/plain": [
       "1534561200"
      ]
     },
     "execution_count": 52,
     "metadata": {},
     "output_type": "execute_result"
    }
   ],
   "source": [
    "import arrow\n",
    "from datetime import datetime\n",
    "now = arrow.get(datetime(2018,8,18,11,0,0),'Asia/Shanghai')\n",
    "now.timestamp"
   ]
  },
  {
   "cell_type": "code",
   "execution_count": 60,
   "metadata": {},
   "outputs": [
    {
     "data": {
      "text/plain": [
       "1534562100"
      ]
     },
     "execution_count": 60,
     "metadata": {},
     "output_type": "execute_result"
    }
   ],
   "source": [
    "now.shift(minutes=15).timestamp"
   ]
  },
  {
   "cell_type": "code",
   "execution_count": 61,
   "metadata": {},
   "outputs": [
    {
     "data": {
      "text/plain": [
       "1534562100.0"
      ]
     },
     "execution_count": 61,
     "metadata": {},
     "output_type": "execute_result"
    }
   ],
   "source": [
    "time.mktime((2018,8,18,11,15,0,0,0,0))"
   ]
  },
  {
   "cell_type": "code",
   "execution_count": 76,
   "metadata": {},
   "outputs": [
    {
     "data": {
      "text/plain": [
       "datetime.date(2018, 6, 9)"
      ]
     },
     "execution_count": 76,
     "metadata": {},
     "output_type": "execute_result"
    }
   ],
   "source": [
    "now.date()"
   ]
  }
 ],
 "metadata": {
  "kernelspec": {
   "display_name": "Python 3",
   "language": "python",
   "name": "python3"
  },
  "language_info": {
   "codemirror_mode": {
    "name": "ipython",
    "version": 3
   },
   "file_extension": ".py",
   "mimetype": "text/x-python",
   "name": "python",
   "nbconvert_exporter": "python",
   "pygments_lexer": "ipython3",
   "version": "3.6.0"
  }
 },
 "nbformat": 4,
 "nbformat_minor": 2
}
