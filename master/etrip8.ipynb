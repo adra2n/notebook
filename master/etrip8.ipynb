{
 "cells": [
  {
   "cell_type": "code",
   "execution_count": 8,
   "metadata": {},
   "outputs": [],
   "source": [
    "import requests\n",
    "import hashlib\n",
    "key= 'fanxinc'\n",
    "userName= 'fanxinc'\n",
    "guid = '123456'\n",
    "verify_code = hashlib.md5(bytes(userName+guid+key,'utf-8')).hexdigest()"
   ]
  },
  {
   "cell_type": "code",
   "execution_count": 3,
   "metadata": {},
   "outputs": [],
   "source": [
    "url = 'http://test.service.lianhe800.com/Buyer.Service/OrderService.ashx'\n",
    "body = {\n",
    "    \"serviceName\":\"\", #每个接口会有一个固定的方法名\n",
    "    \"reqXml\":\"\" #必填,xml经过UrlEncode编码UTF-8\n",
    "}"
   ]
  },
  {
   "cell_type": "code",
   "execution_count": 11,
   "metadata": {},
   "outputs": [
    {
     "data": {
      "text/plain": [
       "'<?xml version=\"1.0\" encoding=\"utf-8\"?><TResponse><HeadInfo><GUID>123456</GUID><Code>000000</Code><Error /></HeadInfo><OrderInfo><OrderNo>18060511010848</OrderNo><PNR>Y49363</PNR><UpdatePNR /><ClientOrderNo>me004875067457622</ClientOrderNo><PriceDue>1974.60</PriceDue><PostMoney>0.00</PostMoney><OrderStatus>3</OrderStatus><ReservationTime>2018-06-05 11:37:17.000</ReservationTime><PayTime>2018-06-05 11:37:33.000</PayTime><GetTicketTime>2018-06-05 11:41:30.000</GetTicketTime><AirLineList><AirLineInfo><AirCode>HU</AirCode><FlightNo>HU7612</FlightNo><DepartureAirport>PVG</DepartureAirport><ArrivalAirport>PEK</ArrivalAirport><DepartureTime>2018-06-27 22:10</DepartureTime><ArrivalTime>2018-06-28 00:40</ArrivalTime><CabinCode>X</CabinCode><PolicyNum>0.003</PolicyNum><PolicyMoney>0</PolicyMoney><PassengerList><PassengerInfo><PassengerName>曲振飞</PassengerName><PassengerType>1</PassengerType><IdNo>410328199305205534</IdNo><CabinPrice>600.00</CabinPrice><TicketPrice>598.20</TicketPrice><AirportTax>50.00</AirportTax><FuelTax>10.00</FuelTax><TicketNo>987-1234567889</TicketNo><Mobile>18860239299</Mobile><ReturnMoney>0</ReturnMoney></PassengerInfo><PassengerInfo><PassengerName>张先生</PassengerName><PassengerType>1</PassengerType><IdNo>230126198409044323</IdNo><CabinPrice>600.00</CabinPrice><TicketPrice>598.20</TicketPrice><AirportTax>50.00</AirportTax><FuelTax>10.00</FuelTax><TicketNo>987-1234567888</TicketNo><Mobile>18860239299</Mobile><ReturnMoney>0</ReturnMoney></PassengerInfo><PassengerInfo><PassengerName>李先生</PassengerName><PassengerType>1</PassengerType><IdNo>362532199708153495</IdNo><CabinPrice>600.00</CabinPrice><TicketPrice>598.20</TicketPrice><AirportTax>50.00</AirportTax><FuelTax>10.00</FuelTax><TicketNo>987-1234567887</TicketNo><Mobile>18860239598</Mobile><ReturnMoney>0</ReturnMoney></PassengerInfo></PassengerList></AirLineInfo></AirLineList></OrderInfo><ContactInfo><ContactName>曲先生</ContactName><ContactMobile>13588888888</ContactMobile><ContactPhone /><ContactEmail /></ContactInfo></TResponse>'"
      ]
     },
     "execution_count": 11,
     "metadata": {},
     "output_type": "execute_result"
    }
   ],
   "source": [
    "# 获取订单的详细信息\n",
    "body = {\n",
    "    \"serviceName\":\"GetOrderDetailInfo\", #每个接口会有一个固定的方法名\n",
    "    \"reqXml\":f'''<?xml version=\"1.0\" encoding=\"utf-8\" ?>\n",
    "<GetOrderDetailReq>\n",
    "<HeadInfo>\n",
    "<VerifyCode>{verify_code}</VerifyCode>\n",
    "<UserName>{userName}</UserName>\n",
    "<GUID>{guid}</GUID>\n",
    "</HeadInfo>\n",
    "<OrderNo>{18060511010848}</OrderNo>\n",
    "</GetOrderDetailReq>''' #必填,xml经过UrlEncode编码UTF-8\n",
    "}\n",
    "requests.post(url,data=body).text"
   ]
  }
 ],
 "metadata": {
  "kernelspec": {
   "display_name": "Python 3",
   "language": "python",
   "name": "python3"
  },
  "language_info": {
   "codemirror_mode": {
    "name": "ipython",
    "version": 3
   },
   "file_extension": ".py",
   "mimetype": "text/x-python",
   "name": "python",
   "nbconvert_exporter": "python",
   "pygments_lexer": "ipython3",
   "version": "3.6.0"
  }
 },
 "nbformat": 4,
 "nbformat_minor": 2
}
