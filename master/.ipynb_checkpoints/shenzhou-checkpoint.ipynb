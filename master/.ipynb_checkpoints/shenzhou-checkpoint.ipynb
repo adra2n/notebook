{
 "cells": [
  {
   "cell_type": "code",
   "execution_count": null,
   "metadata": {
    "collapsed": true
   },
   "outputs": [],
   "source": [
    "# 神州专车：\n",
    "# 实时计价：\n",
    "# pro：clientId: '15BF033E0000310A',\n",
    "# clientSecret: 'g4uq7svk0h2cewn7fhwm'\n",
    "# dev：\n",
    "# clientId: 'F58B113F0000170A',\n",
    "# clientSecret: '08khsi6fr3338eag30s5'\n",
    "# redis: 0 库,key：shenzhoujieji_access_token_change\n",
    "\n",
    "# 一口价： pro:\n",
    "# clientId: '15BF033E0000320A',\n",
    "# clientSecret: 'hyvi8t12swdia35m9tk0',\n",
    "# dev：\n",
    "# clientId: '15BF033E0000170A',\n",
    "# clientSecret: '9fnjpcf1045j1w6w6ubt',\n",
    "# redis：0 库,key:shenzhoujieji_access_token_one\n",
    "\n",
    "# 公共的：\n",
    "# pro：\n",
    "# oauthUrl: 'https://oauth.10101111.com',\n",
    "# url: 'https://openapi.10101111.com',\n",
    "# grantType: 'password',\n",
    "# companyId: '32305',\n",
    "# userName: '13162081070',\n",
    "# passWord: 'Blm.123'\n",
    "\n",
    "# dev:\n",
    "# oauthUrl: 'https://sandboxoauth.10101111.com',\n",
    "# url: 'https://sandboxapi.10101111.com',\n",
    "# grantType: 'password',\n",
    "# companyId: '2421',\n",
    "# userName: '18610000000',\n",
    "# passWord: '18610000000'"
   ]
  },
  {
   "cell_type": "code",
   "execution_count": null,
   "metadata": {
    "collapsed": true
   },
   "outputs": [],
   "source": [
    "#订单详情\n",
    "# /v1/resource/order/getOrderDetail\n",
    "# HTTP/GET\n",
    "# 参数名称\t类型\t可选\t说明\n",
    "# access_token\tstring\t否\t授权后的access token\n",
    "# orderId\tstring\t否\t订单id\n",
    "\n",
    "# 返回结果根据订单状态变化而不同：\n",
    "\n",
    "# 当订单状态为已派单后才会有司机信息，且司机的经纬度根据实际位置实时变化\n",
    "# 当订单状态为已提交费用之前费用信息显示为预估费用，已提交费用后显示为真实的费用信息\n",
    "# 当订单状态为已提交费用后，如果用户对订单费用有疑议并进行投诉，订单费用仍然有可能变化\n",
    "# 当订单状态为已提交费用后，才会显示代金券信息。因为此时费用已经确定，可以判断代金券是否适用本笔订单\n",
    "# 当订单状态为已完成时，所有的数据将不再发生变化"
   ]
  },
  {
   "cell_type": "code",
   "execution_count": 5,
   "metadata": {
    "collapsed": true
   },
   "outputs": [],
   "source": [
    "import requests\n",
    "from pprint import pprint\n",
    "from connection import ConnectionTask\n",
    "c=ConnectionTask()"
   ]
  },
  {
   "cell_type": "code",
   "execution_count": 64,
   "metadata": {
    "scrolled": true
   },
   "outputs": [
    {
     "name": "stdout",
     "output_type": "stream",
     "text": [
      "{'busiCode': 'BASE000',\n",
      " 'code': 15,\n",
      " 'content': None,\n",
      " 'handler': 'CLIENT',\n",
      " 'msg': 'TOKEN失效',\n",
      " 'status': 'TOKEN_INVALID',\n",
      " 'uid': '',\n",
      " 'version': '001'}\n"
     ]
    }
   ],
   "source": [
    "oauthUrl= 'https://oauth.10101111.com'\n",
    "url= 'https://openapi.10101111.com'\n",
    "access_token=c.srdb_new(0).get('shenzhoujieji_access_token_change')\n",
    "access_token='2acc70aa-4ec5-4490-99e9-86c46a26509d'\n",
    "payload={\n",
    "    'access_token':access_token,\n",
    "    'orderId':'6474805778871353356'\n",
    "}\n",
    "resp_data=requests.get(url+'/v1/resource/order/getOrderDetail',params=payload).json()\n",
    "pprint(resp_data)"
   ]
  },
  {
   "cell_type": "code",
   "execution_count": 1,
   "metadata": {},
   "outputs": [
    {
     "ename": "NameError",
     "evalue": "name 'requests' is not defined",
     "output_type": "error",
     "traceback": [
      "\u001b[0;31m---------------------------------------------------------------------------\u001b[0m",
      "\u001b[0;31mNameError\u001b[0m                                 Traceback (most recent call last)",
      "\u001b[0;32m<ipython-input-1-afc47b87c657>\u001b[0m in \u001b[0;36m<module>\u001b[0;34m()\u001b[0m\n\u001b[1;32m     16\u001b[0m     \u001b[0;34m'password'\u001b[0m\u001b[0;34m:\u001b[0m\u001b[0mpassWord\u001b[0m\u001b[0;34m\u001b[0m\u001b[0m\n\u001b[1;32m     17\u001b[0m }\n\u001b[0;32m---> 18\u001b[0;31m \u001b[0mresp_data\u001b[0m\u001b[0;34m=\u001b[0m\u001b[0mrequests\u001b[0m\u001b[0;34m.\u001b[0m\u001b[0mpost\u001b[0m\u001b[0;34m(\u001b[0m\u001b[0moauthUrl\u001b[0m\u001b[0;34m+\u001b[0m\u001b[0;34m'/oauth/token'\u001b[0m\u001b[0;34m,\u001b[0m\u001b[0mdata\u001b[0m\u001b[0;34m=\u001b[0m\u001b[0mpayload\u001b[0m\u001b[0;34m)\u001b[0m\u001b[0;34m.\u001b[0m\u001b[0mjson\u001b[0m\u001b[0;34m(\u001b[0m\u001b[0;34m)\u001b[0m\u001b[0;34m\u001b[0m\u001b[0m\n\u001b[0m\u001b[1;32m     19\u001b[0m \u001b[0mprint\u001b[0m\u001b[0;34m(\u001b[0m\u001b[0mresp_data\u001b[0m\u001b[0;34m)\u001b[0m\u001b[0;34m\u001b[0m\u001b[0m\n",
      "\u001b[0;31mNameError\u001b[0m: name 'requests' is not defined"
     ]
    }
   ],
   "source": [
    "# pro：\n",
    "clientId= '15BF033E0000310A'\n",
    "clientSecret= 'g4uq7svk0h2cewn7fhwm'\n",
    "oauthUrl= 'https://oauth.10101111.com'\n",
    "url= 'https://openapi.10101111.com'\n",
    "grantType= 'password'\n",
    "companyId= '32305'\n",
    "userName= '13162081070'\n",
    "passWord= 'Blm.123'\n",
    "\n",
    "payload={\n",
    "    'client_id':clientId,\n",
    "    'client_secret':clientSecret,\n",
    "    'grant_type':'password',\n",
    "    'username':userName,\n",
    "    'password':passWord\n",
    "}\n",
    "resp_data=requests.post(oauthUrl+'/oauth/token',data=payload).json()\n",
    "print(resp_data)"
   ]
  },
  {
   "cell_type": "code",
   "execution_count": 62,
   "metadata": {},
   "outputs": [
    {
     "data": {
      "text/plain": [
       "{'busiCode': 'BASE000',\n",
       " 'code': 1,\n",
       " 'content': {'authenticationResult': 'SUCCESS'},\n",
       " 'handler': 'CLIENT',\n",
       " 'msg': '成功',\n",
       " 'status': 'SUCCESS',\n",
       " 'uid': '2acc70aa-4ec5-4490-99e9-86c46a26509d',\n",
       " 'version': '001'}"
      ]
     },
     "execution_count": 62,
     "metadata": {},
     "output_type": "execute_result"
    }
   ],
   "source": [
    "body={\n",
    "    'access_token':resp_data['access_token'],\n",
    "    'companyId':companyId\n",
    "}\n",
    "requests.post(url+'/v1/action/company/authenticate',data=body).json()\n",
    "\n",
    "c.prdb_mast(0).set('shenzhoujieji_access_token_change',resp_data['access_token'],ex=resp_data['expires_in'])"
   ]
  },
  {
   "cell_type": "code",
   "execution_count": 53,
   "metadata": {},
   "outputs": [
    {
     "data": {
      "text/plain": [
       "{'busiCode': 'BASE000',\n",
       " 'code': 1,\n",
       " 'content': {'revokedResult': 'SUCCESS'},\n",
       " 'handler': 'CLIENT',\n",
       " 'msg': '成功',\n",
       " 'status': 'SUCCESS',\n",
       " 'uid': '2acc70aa-4ec5-4490-99e9-86c46a26509d',\n",
       " 'version': '001'}"
      ]
     },
     "execution_count": 53,
     "metadata": {},
     "output_type": "execute_result"
    }
   ],
   "source": [
    "body={\n",
    "    'access_token':resp_data['access_token'],\n",
    "#     'companyId':companyId,\n",
    "#     'loginId':userName,\n",
    "#     'password':passWord\n",
    "}\n",
    "requests.post(url+'/v1/action/company/revokeAuthentication',data=body).json()"
   ]
  }
 ],
 "metadata": {
  "kernelspec": {
   "display_name": "Python 3",
   "language": "python",
   "name": "python3"
  },
  "language_info": {
   "codemirror_mode": {
    "name": "ipython",
    "version": 3
   },
   "file_extension": ".py",
   "mimetype": "text/x-python",
   "name": "python",
   "nbconvert_exporter": "python",
   "pygments_lexer": "ipython3",
   "version": "3.6.0"
  }
 },
 "nbformat": 4,
 "nbformat_minor": 2
}
