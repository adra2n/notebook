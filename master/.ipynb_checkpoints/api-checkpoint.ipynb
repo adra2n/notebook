{
 "cells": [
  {
   "cell_type": "code",
   "execution_count": 2,
   "metadata": {},
   "outputs": [],
   "source": [
    "from connection import ConnectionTask\n",
    "from pprint import pprint\n",
    "import requests\n",
    "import json\n",
    "c=ConnectionTask()"
   ]
  },
  {
   "cell_type": "code",
   "execution_count": 2,
   "metadata": {},
   "outputs": [
    {
     "data": {
      "text/plain": [
       "{'code': 10001, 'message': 'connect ECONNREFUSED 121.40.81.230:89'}"
      ]
     },
     "execution_count": 2,
     "metadata": {},
     "output_type": "execute_result"
    }
   ],
   "source": [
    "import requests\n",
    "requests.get(\"http://192.168.0.5:31031/dengjifuwu/v1/readcheckindatas\",headers={}).json()"
   ]
  },
  {
   "cell_type": "code",
   "execution_count": null,
   "metadata": {
    "scrolled": true
   },
   "outputs": [],
   "source": [
    "requests.get(\"http://192.168.0.6:8011/status\").json()"
   ]
  },
  {
   "cell_type": "code",
   "execution_count": null,
   "metadata": {
    "scrolled": false
   },
   "outputs": [],
   "source": [
    "# requests.get(\"http://192.168.0.6:8010/sm/order/fetch\",\n",
    "#             params={\"orderType\":\"jipiao\",\"passengers.ticketNo\": 'xep171009114412846'}).json()"
   ]
  },
  {
   "cell_type": "code",
   "execution_count": 148,
   "metadata": {
    "scrolled": true
   },
   "outputs": [
    {
     "data": {
      "text/plain": [
       "43"
      ]
     },
     "execution_count": 148,
     "metadata": {},
     "output_type": "execute_result"
    }
   ],
   "source": [
    "url='http://lb01.localdomain:8024/query/maoyan/hot_movie_list?cityId=10'\n",
    "resp = requests.get(url).json()\n",
    "# for item in resp['data']:\n",
    "#     if item.get(\"name\") == \"战狼2\":\n",
    "#         pprint(item)\n",
    "#         continue\n",
    "len(resp['data'])"
   ]
  },
  {
   "cell_type": "code",
   "execution_count": 19,
   "metadata": {
    "scrolled": false,
    "tags": [
     "citysAPI"
    ]
   },
   "outputs": [],
   "source": [
    "# %%timeit\n",
    "#citys\n",
    "resp=requests.get(\"http://lb01.localdomain:8024/query/citys/dianying/kou\").json()\n",
    "resp['data']\n",
    "with open(\"kou_citys.json\",'w') as f:\n",
    "    json.dump(resp['data'],f,indent=2,ensure_ascii=False)"
   ]
  },
  {
   "cell_type": "code",
   "execution_count": 28,
   "metadata": {},
   "outputs": [
    {
     "name": "stdout",
     "output_type": "stream",
     "text": [
      "17.2 ms ± 1.46 ms per loop (mean ± std. dev. of 7 runs, 100 loops each)\n"
     ]
    }
   ],
   "source": [
    "%%timeit\n",
    "url=\"http://192.168.2.6:8010/operation/query/cache_jipiao\"\n",
    "body={\"filter\":{\"route\":\"SHA-CGO-2018-03-01\"}}\n",
    "resp=requests.post(url,json=body).json()\n",
    "resp"
   ]
  },
  {
   "cell_type": "code",
   "execution_count": null,
   "metadata": {
    "scrolled": false
   },
   "outputs": [],
   "source": [
    "url='http://consul.localdomain:8500/v1/kv/dev/session?raw'\n",
    "resp = requests.get(url,params={'index': 306315, 'wait': '5s'},headers={'Content-Type':'application/json'})\n",
    "resp.headers,resp.json()"
   ]
  },
  {
   "cell_type": "code",
   "execution_count": null,
   "metadata": {
    "scrolled": false
   },
   "outputs": [],
   "source": [
    "resp.headers['Content-Type'] = 'application/json'\n",
    "resp.headers"
   ]
  },
  {
   "cell_type": "code",
   "execution_count": null,
   "metadata": {
    "scrolled": false
   },
   "outputs": [],
   "source": [
    "resp=requests.post(\"http://192.168.1.39:8015/query_cinemas\").json()\n",
    "len(resp['data'])"
   ]
  },
  {
   "cell_type": "code",
   "execution_count": null,
   "metadata": {
    "scrolled": false
   },
   "outputs": [],
   "source": [
    "print(json.dumps(resp['data'][0],indent=4,ensure_ascii=False))"
   ]
  },
  {
   "cell_type": "code",
   "execution_count": null,
   "metadata": {
    "scrolled": false
   },
   "outputs": [],
   "source": [
    "import time\n",
    "start=time.time()\n",
    "resp=requests.post(\"http://192.168.1.39:8015/query_the_list_of_show\",json={\"cinemaId\":24341}).json()\n",
    "# resp\n",
    "print(time.time()-start)"
   ]
  },
  {
   "cell_type": "code",
   "execution_count": null,
   "metadata": {
    "scrolled": false
   },
   "outputs": [],
   "source": [
    "r=requests.request(method='GET',url='http://192.168.0.5:31031/dengjifuwu/v1/readcheckindatas',params={'ttt':'222'},data={'aa':11})\n",
    "r.status_code"
   ]
  },
  {
   "cell_type": "code",
   "execution_count": null,
   "metadata": {
    "scrolled": false
   },
   "outputs": [],
   "source": [
    "body={'id': 'bl002023504347282', 'partnerId': '18214731', 'channel': 'yl'}\n",
    "post_url=\"http://192.168.0.5:31011/piaowu/callback/yl/order/update\"\n",
    "requests.post(url=post_url,data=body,params=None).json()"
   ]
  },
  {
   "cell_type": "code",
   "execution_count": null,
   "metadata": {
    "scrolled": false
   },
   "outputs": [],
   "source": [
    "# %%timeit\n",
    "import requests\n",
    "import json\n",
    "import re\n",
    "payload={ 'cityId':'50' }\n",
    "\n",
    "url=\"http://lb01.localdomain:8024/query/maoyan/cinema_list\"\n",
    "resp=requests.post(url=url,data=json.dumps(payload)).json()\n",
    "resp"
   ]
  },
  {
   "cell_type": "code",
   "execution_count": null,
   "metadata": {
    "scrolled": false
   },
   "outputs": [],
   "source": [
    "# %%timeit\n",
    "url=\"http://192.168.0.6:8024/query/maoyan/hot_movie_list?cityId=50\"\n",
    "resp = requests.get(url).json()"
   ]
  },
  {
   "cell_type": "code",
   "execution_count": null,
   "metadata": {},
   "outputs": [],
   "source": [
    "url=\"http://192.168.0.6:8024/query/kaola/shopping/cart\"\n",
    "data={\"query\":[\n",
    "    {\n",
    "        \"goodsId\": 15928264,\n",
    "        \"skuId\": [\"15928264-88971fe79fba958fc151a190dca3544b\", \"1234-woeknsd\"]\n",
    "    },\n",
    "    {\n",
    "        \"goodsId\": 1234,\n",
    "        \"skuId\": [\"1234-alfjald\", \"1234-woeknsd\"]\n",
    "    }\n",
    "]}\n",
    "resp = requests.post(url,json=data).json()\n",
    "print(resp)"
   ]
  },
  {
   "cell_type": "code",
   "execution_count": 13,
   "metadata": {
    "scrolled": false
   },
   "outputs": [
    {
     "data": {
      "text/plain": [
       "10"
      ]
     },
     "execution_count": 13,
     "metadata": {},
     "output_type": "execute_result"
    }
   ],
   "source": [
    "# %%timeit\n",
    "# mongo_rest\n",
    "# payload={'method': 'findOne', 'query': {'appCode': 'me', 'channel': 'ofpay'}}\n",
    "# url=\"http://192.168.0.6:8024/mongodb_query/huafei_config\"\n",
    "\n",
    "payload={\n",
    "    'method': 'find', \n",
    "    'query': {\n",
    "        'price': {'$gt': 0}, \n",
    "        'cityCode': '2', \n",
    "        'location': {\n",
    "            '$nearSphere': {\n",
    "                '$geometry': {\n",
    "                    'type': \n",
    "                    'Point', \n",
    "                    'coordinates': [121.44770825902101, 31.303378796152994]\n",
    "                }, \n",
    "                '$minDistance': 0, \n",
    "                '$maxDistance': 50000\n",
    "            }\n",
    "        }\n",
    "    }, \n",
    "    'skip': 20, \n",
    "    'limit': 10\n",
    "}\n",
    "url=\"http://lb01.localdomain:8024/mongodb_query/jiudian_hotels\"\n",
    "\n",
    "resp=requests.post(url=url,data=json.dumps(payload)).json()\n",
    "len(resp['data'])"
   ]
  },
  {
   "cell_type": "code",
   "execution_count": 25,
   "metadata": {},
   "outputs": [
    {
     "data": {
      "text/plain": [
       "[398.0, 218.0, 199.0, 198.0, 198.0, 160.0, 158.0, 158.0, 150.0, 130.0]"
      ]
     },
     "execution_count": 25,
     "metadata": {},
     "output_type": "execute_result"
    }
   ],
   "source": [
    "payload={\n",
    "    'method': 'aggregate', \n",
    "    'query': [{\"$match\":{\"city\":\"上海\",\"province\":\"上海\"}},{\"$sort\":{\"price\":-1}},{\"$skip\":0},{\"$limit\":10},{\"$project\":{\"_id\":0,\"dis\":1,\"id\":1,\"name\":1,\"grade\":1,\"address\":1,\"province\":1,\"city\":1,\"summary\":1,\"lng\":1,\"lat\":1,\"alias\":1,\"traffic\":1,\"notes\":1,\"introduce\":1,\"ticketType\":1,\"ticketTypeName\":1,\"picture\":1,\"price\":1}}]\n",
    "}\n",
    "url=\"http://lb01.localdomain:8024/mongodb_query/menpiao_scenic_tongcheng\"\n",
    "\n",
    "resp=requests.post(url=url,data=json.dumps(payload)).json()\n",
    "# resp['data'][0]\n",
    "[item.get('price') for item in resp['data']]"
   ]
  },
  {
   "cell_type": "code",
   "execution_count": null,
   "metadata": {
    "scrolled": false
   },
   "outputs": [],
   "source": [
    "#删除缓存\n",
    "import requests\n",
    "requests.get(\"http://lb01.localdomain:8024/mongodb_query/delete/dianying_cinema_mao\").json()"
   ]
  },
  {
   "cell_type": "code",
   "execution_count": 58,
   "metadata": {},
   "outputs": [
    {
     "name": "stdout",
     "output_type": "stream",
     "text": [
      "{'code': 0,\n",
      " 'data': ['迪奥-auto-2016071210192729哈哈~~~',\n",
      "          'cctest11',\n",
      "          '呼吸-auto-20161015152638407',\n",
      "          '雅婷测试活动-auto-20161022150115505',\n",
      "          '酥饼-auto-20160829114802534',\n",
      "          '风头-auto-20160829114834313',\n",
      "          'Dior-莫兮自动化【勿动】',\n",
      "          '蜂巢供应链华东仓品牌-auto-20161103160459254',\n",
      "          '组团购品牌-auto-20161025152510072',\n",
      "          '同仁堂',\n",
      "          '雅培哈哈哈',\n",
      "          'xubin测试品牌2-auto-20170331162736019',\n",
      "          '宁波亚马逊保税仓263-auto-20161109113436365'],\n",
      " 'message': 'a244c46a84458e03d082279672646afb'}\n"
     ]
    }
   ],
   "source": [
    "payload={\n",
    "    'method': 'distinct', \n",
    "    'query': ['brandName', {'thirdCategoryName': '香水'}]\n",
    "}\n",
    "url=\"http://192.168.0.6:8024/mongodb_query/shopping_kaola\"\n",
    "\n",
    "resp=requests.post(url=url,data=json.dumps(payload)).json()\n",
    "pprint(resp)"
   ]
  },
  {
   "cell_type": "code",
   "execution_count": null,
   "metadata": {
    "scrolled": false
   },
   "outputs": [],
   "source": [
    "# 退款流水号 补偿机制\n",
    "def compensation_refund_flow(data):\n",
    "    refund_data={\n",
    "        'appCode': data['appCode'],\n",
    "        'id': data['id'],\n",
    "         'orderType': data['orderType'],\n",
    "         'reason': 'compensation',\n",
    "         'refundSource': 2,\n",
    "         'supplire': data['channel'],\n",
    "         'type': 1,\n",
    "         'userPhone': data.get('userPhone') or data.get('phone')\n",
    "    }\n",
    "    resp=requests.post('http://saasapi.localdomain:21009/refund/save', json=refund_data)\n",
    "    resp_data = resp.json()\n"
   ]
  },
  {
   "cell_type": "code",
   "execution_count": 9,
   "metadata": {},
   "outputs": [
    {
     "data": {
      "text/plain": [
       "{'code': 20000, 'message': '支付未找到或还未支付'}"
      ]
     },
     "execution_count": 9,
     "metadata": {},
     "output_type": "execute_result"
    }
   ],
   "source": [
    "REFUND_URL = 'http://192.168.2.2:21009/refund/save'\n",
    "refund_data= {\n",
    "        \"id\" : \"me004162809496108\",\n",
    "        \"supplier\" : \"lvmama\",\n",
    "        \"userPhone\" : \"17317192506\",\n",
    "        \"orderType\" : \"menpiao\",\n",
    "        \"price\" : 46.0,\n",
    "        \"type\" : 1,\n",
    "        \"reason\" : \"退票\",\n",
    "        \"refundSource\" : 2,\n",
    "        \"appCode\" : \"me\"\n",
    "    }\n",
    "\n",
    "requests.post(REFUND_URL, json=refund_data).json()"
   ]
  },
  {
   "cell_type": "code",
   "execution_count": 19,
   "metadata": {},
   "outputs": [
    {
     "data": {
      "text/plain": [
       "{'code': 0,\n",
       " 'data': {'appCode': 'me',\n",
       "  'booker': {'credentialCode': '430503199307092024',\n",
       "   'email': '',\n",
       "   'mobile': '17317192506',\n",
       "   'name': '岳佳琦'},\n",
       "  'canCancel': 0,\n",
       "  'changeAheadTime': -540,\n",
       "  'channel': 'lvmama',\n",
       "  'count': 1,\n",
       "  'coupon': {'id': '55637755', 'price': 1, 'title': '驴妈妈门票优惠券test'},\n",
       "  'couponId': '55637755',\n",
       "  'createdAt': 1522735716237,\n",
       "  'customerId': '209',\n",
       "  'customerUserId': 'test_yjq',\n",
       "  'displayStatus': '等待退款',\n",
       "  'goodsName': '成人票',\n",
       "  'id': 'me004162809496108',\n",
       "  'map': {'latitude': '31.0723647207',\n",
       "   'longitude': '120.908268183',\n",
       "   'mapType': 'gaode'},\n",
       "  'name': '成人票',\n",
       "  'openTime': '8:00-17:00',\n",
       "  'orderPrice': 48,\n",
       "  'orderType': 'menpiao',\n",
       "  'paidList': ['me014162809496109'],\n",
       "  'partnerId': 62322220,\n",
       "  'partnerStatusCode': 3,\n",
       "  'payChannel': 'wx_wap',\n",
       "  'paymentSerial': 'me014162809496109',\n",
       "  'paymentSerialList': ['me014162809496109'],\n",
       "  'price': 47,\n",
       "  'product': {'goodsId': '1530726',\n",
       "   'productId': '253114',\n",
       "   'quantity': 1,\n",
       "   'sellPrice': 48,\n",
       "   'visitDate': '2018-04-04'},\n",
       "  'realPrice': 46.56,\n",
       "  'refundSerialNum': 'me024163569582758',\n",
       "  'rule': {'addr': '上海市青浦区青商公路701号',\n",
       "   'effectiveDesc': '指定游玩日1天内有效',\n",
       "   'getTicketTime': '8:00～17:00（4月1日—10月31日）；8:00～16:30（11月1日—3月31日）',\n",
       "   'importentPoint': '成人票的重要提示:本商品支持30天内可退。预订付款后未使用，可在“我的订单”中申请退款，且不收取任何手续费。\\n'},\n",
       "  'scenicDetail': {'character': ['原汁原味的红楼梦主题公园',\n",
       "    '一个观光，旅游，休闲的综合性游乐园。也是上海为数不多的古园林',\n",
       "    '让您能亲身体验古装拍照的魅力',\n",
       "    '了解历史背后的《 红楼梦》原著背景资料'],\n",
       "   'intro': '大观园是上海园林部门于1979年开始建设的一个大型仿古建筑群和现代园林。大观园是一个有故事的园林，由《红楼梦》物化而成，兼有皇家园林的气派和江南园林的秀气。 \\r\\n大观园内的\"梅坞春浓\"是上海地区赏梅处。\\r\\n大观园位于青浦县西面，距市区50公里。依俯视淀山湖东岸，以大观楼为主体，分东西两大景区',\n",
       "   'name': '上海大观园',\n",
       "   'playAttractions': [{'playImages': ['https://f1.otosaas.com/img/lvmama/219/411/36f66de89d59ad30fcdc36e5816348b6.jpg',\n",
       "      'https://f1.otosaas.com/img/lvmama/699/637/aef9f4fe03e250479084fe2e8a0852d9.jpg'],\n",
       "     'playInfo': '上海大观园是根据中国古典名著《红楼梦》的意境，运用中国传统艺术手法建造的仿古建筑群和现代园林。大型主题公园东部景区占地135亩，建筑面积约8000平方米。',\n",
       "     'playName': '上海大观园',\n",
       "     'sslPlayImages': ['https://f1.otosaas.com/img/lvmama/219/411/36f66de89d59ad30fcdc36e5816348b6.jpg',\n",
       "      'https://f1.otosaas.com/img/lvmama/699/637/aef9f4fe03e250479084fe2e8a0852d9.jpg']},\n",
       "    {'playImages': ['https://f1.otosaas.com/img/lvmama/949/597/ed795615128e7891c8a2748777bc9cc8.jpg',\n",
       "      'https://f1.otosaas.com/img/lvmama/808/90/ca316b98d7f891b11cb3ef73b5b48016.jpg'],\n",
       "     'playInfo': '全园以大湖为中心，以池塘、沁芳溪沟通各景点，构成有主有支、有动有静的水系，湖边设亭、榭，湖中设曲桥、石舫、 石灯，溪上设桥亭，形成山重水复、流水人家的江南园林风光。在有限空间中 安置无限空间，增加景物层次，使建筑与环境 融合为一，借环境气氛表达人物品格，使《红楼梦》中的大观园景观再现人间。 整 体布局以大观楼为主体，由“省亲 别墅”石牌坊、石灯笼、沁芳湖、体 仁沐德、曲径通幽、宫门、“太虚幻境”浮雕照壁',\n",
       "     'playName': '上海大观园',\n",
       "     'sslPlayImages': ['https://f1.otosaas.com/img/lvmama/949/597/ed795615128e7891c8a2748777bc9cc8.jpg',\n",
       "      'https://f1.otosaas.com/img/lvmama/808/90/ca316b98d7f891b11cb3ef73b5b48016.jpg']},\n",
       "    {'playImages': ['https://f1.otosaas.com/img/lvmama/1019/410/fef66bff47c4c67f893dd354d9d9db56.jpg',\n",
       "      'https://f1.otosaas.com/img/lvmama/778/882/c29dc86c74326ecc7925f68e76e38aa5.jpg'],\n",
       "     'playInfo': '侧设置怡红院、拢翠庵、梨香院、石舫。东侧设置潇湘馆、蘅芜院、蓼风轩、稻香村等20多组建筑景点。观园景区 中各 景点的植物配置，系按小说的意境和人物性格设计。内栽植了大量大树古木，使各景点郁郁葱葱，游人入内大有古代遗 风的韵味和感受，为沪上新建园林所特有',\n",
       "     'playName': '上海大观园',\n",
       "     'sslPlayImages': ['https://f1.otosaas.com/img/lvmama/1019/410/fef66bff47c4c67f893dd354d9d9db56.jpg',\n",
       "      'https://f1.otosaas.com/img/lvmama/778/882/c29dc86c74326ecc7925f68e76e38aa5.jpg']},\n",
       "    {'playImages': ['https://f1.otosaas.com/img/lvmama/826/321/ce85041fdc343afc67d23a815402e1d4.jpg',\n",
       "      'https://f1.otosaas.com/img/lvmama/705/18/b05048d5a2af61d801d9ffa3ac08cc59.jpg'],\n",
       "     'playInfo': '人民广场广场前耸立一座高8米的牌楼，上悬“太虚幻境”匾。大观园正门前广场中的大型照壁宽18米 ，高6米 ，南面是花岗石雕《女娲补天》，北面是大理石雕《金陵十二钗》及警幻仙子、贾宝玉 等14个人像。正门是五开间的门庭， 中间有三道供出进，上悬“大观园”金字匾额， 门前雄踞一对清乾隆年间的高2.5米的青石狮子。门庭内是朱红大 门和梁柱，金色铜质门环，砖雕挂落，工艺精细',\n",
       "     'playName': '上海大观园',\n",
       "     'sslPlayImages': ['https://f1.otosaas.com/img/lvmama/826/321/ce85041fdc343afc67d23a815402e1d4.jpg',\n",
       "      'https://f1.otosaas.com/img/lvmama/705/18/b05048d5a2af61d801d9ffa3ac08cc59.jpg']},\n",
       "    {'playImages': ['https://f1.otosaas.com/img/lvmama/694/391/ada61c7d25b0934eaa695119fae62cf7.jpg',\n",
       "      'https://f1.otosaas.com/img/lvmama/606/939/97beaf8b8cc01728ec5e555f2af5e99c.jpg',\n",
       "      'https://f1.otosaas.com/img/lvmama/368/897/5c3e0695afd476c2feebca69a402b652.jpg',\n",
       "      'https://f1.otosaas.com/img/lvmama/918/295/e5949d962b87021fe73d9cfceb91f1b5.jpg',\n",
       "      'https://f1.otosaas.com/img/lvmama/282/729/468b670aa81fb2ffe2a4c80fcf8008ea.jpg',\n",
       "      'https://f1.otosaas.com/img/lvmama/399/280/63d4636cc2983592603e024e7ee899f5.jpg'],\n",
       "     'playInfo': '红楼梦3D体验馆',\n",
       "     'playName': '红楼梦3D体验馆',\n",
       "     'sslPlayImages': ['https://f1.otosaas.com/img/lvmama/694/391/ada61c7d25b0934eaa695119fae62cf7.jpg',\n",
       "      'https://f1.otosaas.com/img/lvmama/606/939/97beaf8b8cc01728ec5e555f2af5e99c.jpg',\n",
       "      'https://f1.otosaas.com/img/lvmama/368/897/5c3e0695afd476c2feebca69a402b652.jpg',\n",
       "      'https://f1.otosaas.com/img/lvmama/918/295/e5949d962b87021fe73d9cfceb91f1b5.jpg',\n",
       "      'https://f1.otosaas.com/img/lvmama/282/729/468b670aa81fb2ffe2a4c80fcf8008ea.jpg',\n",
       "      'https://f1.otosaas.com/img/lvmama/399/280/63d4636cc2983592603e024e7ee899f5.jpg']}]},\n",
       "  'scenicId': '102594',\n",
       "  'scenicName': '上海大观园',\n",
       "  'status': 11,\n",
       "  'timeline': ['04-03 14:08 已下单',\n",
       "   '04-03 14:08 待支付',\n",
       "   '04-03 14:08 支付处理中',\n",
       "   '04-03 14:08 已支付',\n",
       "   '04-03 14:08 出票中',\n",
       "   '04-03 14:26 已取消 申请退款',\n",
       "   '04-03 14:26 等待退款',\n",
       "   '04-03 15:45 已取消',\n",
       "   '04-03 15:45 等待退款'],\n",
       "  'timeline_new': [{'status': '已下单', 'time': '2018-04-03 14:08'},\n",
       "   {'status': '待支付', 'time': '2018-04-03 14:08'},\n",
       "   {'status': '支付处理中', 'time': '2018-04-03 14:08'},\n",
       "   {'status': '已支付', 'time': '2018-04-03 14:08'},\n",
       "   {'status': '出票中', 'time': '2018-04-03 14:08'},\n",
       "   {'status': '已取消', 'time': '2018-04-03 15:45'},\n",
       "   {'description': '3个工作日内处理退款',\n",
       "    'status': '等待退款',\n",
       "    'time': '2018-04-03 15:45'}],\n",
       "  'travellers': [{'bornDate': '1993-07-09',\n",
       "    'cardType': '身份证',\n",
       "    'id': '1502087762057',\n",
       "    'idCard': '430503199307092024',\n",
       "    'name': '岳佳琦',\n",
       "    'phone': '17317192506',\n",
       "    'status': 1,\n",
       "    'ticketCount': '1',\n",
       "    'type': 1}],\n",
       "  'updatedAt': 1522741515445,\n",
       "  'userId': 'test_yjq',\n",
       "  'userPhone': '17317192506',\n",
       "  'ways': '1. 凭驴妈妈短信换票入园'},\n",
       " 'message': '处理成功'}"
      ]
     },
     "execution_count": 19,
     "metadata": {},
     "output_type": "execute_result"
    }
   ],
   "source": [
    "REFUND_URL = 'http://192.168.0.5:21003/cancel'\n",
    "refund_data= {\n",
    "        \"id\" : \"me004162809496108\",\n",
    "        \"orderType\" : \"menpiao\"\n",
    "    }\n",
    "requests.put(REFUND_URL, params=refund_data).json()"
   ]
  },
  {
   "cell_type": "code",
   "execution_count": null,
   "metadata": {
    "scrolled": false
   },
   "outputs": [],
   "source": [
    "# 中原银行超时取消支付确认接口\n",
    "body = {'orderId': 'bl001728389972461', 'userId': 'test_long', 'status': 8, 'displayStatus': '已取消'}\n",
    "resp=requests.post(url='http://192.168.0.5:32020/status', json=body)\n",
    "resp.status_code==200\n",
    "resp.json()"
   ]
  },
  {
   "cell_type": "code",
   "execution_count": null,
   "metadata": {
    "scrolled": true
   },
   "outputs": [],
   "source": [
    "# session.update\n",
    "url='http://192.168.0.6:8010/sm/order/update'\n",
    "body={'id':'fdb003482010648592'}\n",
    "resp=requests.post(url=url,json=body)\n",
    "resp.json()"
   ]
  },
  {
   "cell_type": "code",
   "execution_count": 72,
   "metadata": {},
   "outputs": [
    {
     "data": {
      "text/plain": [
       "{'code': 20000, 'message': '无效的订单状态流转'}"
      ]
     },
     "execution_count": 72,
     "metadata": {},
     "output_type": "execute_result"
    }
   ],
   "source": [
    "url=\"http://192.168.2.2:21003/status\"\n",
    "params = {'orderType': 'menpiao', 'id': 'bl103541803859978'}, \n",
    "body = {'statuses': \n",
    "        [{'code': 9, 'msg': '已取消 申请退款'}, \n",
    "         {'code': 11, 'msg': '等待退款'}], \n",
    "        'opts': {'partnerStatusCode': 3, 'canCancel': 0}}\n",
    "requests.put(url,params={\"id\":\"bl103541803859978\",\"orderType\":\"menpiao\"},json=body).json()"
   ]
  },
  {
   "cell_type": "code",
   "execution_count": 106,
   "metadata": {
    "scrolled": true
   },
   "outputs": [
    {
     "data": {
      "text/plain": [
       "{'code': 0}"
      ]
     },
     "execution_count": 106,
     "metadata": {},
     "output_type": "execute_result"
    }
   ],
   "source": [
    "# session.lmm_push_order_cancel\n",
    "url='http://192.168.2.6:8010/state/lmm_push_order_cancel'\n",
    "body={'signed': '29e9cf90f7ea9ddcb04d436f772f94a0', \n",
    "      'order': {'orderId': '59323598', \n",
    "                'partnerOrderID': 'bl103541803859978', \n",
    "                'orderStatus': 'CANCEL', \n",
    "                'requestStatus': 'PASS', \n",
    "                'refundAmount': '200', \n",
    "                'factorage': '0', \n",
    "                'refundInfo': 'API分销商在线申请退款,退款金额：2.0,单位(元)'}\n",
    "     }\n",
    "resp=requests.post(url=url,json=body)\n",
    "resp.json()"
   ]
  },
  {
   "cell_type": "code",
   "execution_count": 107,
   "metadata": {},
   "outputs": [
    {
     "data": {
      "text/plain": [
       "{'code': 0}"
      ]
     },
     "execution_count": 107,
     "metadata": {},
     "output_type": "execute_result"
    }
   ],
   "source": [
    "\n",
    "# session.lmm_push_order_info\n",
    "url='http://192.168.2.6:8010/state/lmm_push_order_info'\n",
    "body={'request': {'header': {'signed': '29e9cf90f7ea9ddcb04d436f772f94a0'}, \n",
    "                  'body': {'order': {'orderId': '59323598', 'status': 'NORMAL', 'approveStatus': 'true', 'paymentStatus': 'PAYED', 'credenctStatus': 'CREDENCE_SEND', 'waitPayment': '', 'performStatus': 'UNUSE'}}}}\n",
    "resp=requests.post(url=url,json=body)\n",
    "resp.json()"
   ]
  },
  {
   "cell_type": "code",
   "execution_count": 150,
   "metadata": {
    "scrolled": true
   },
   "outputs": [
    {
     "data": {
      "text/plain": [
       "{'code': -1, 'message': '无此订单缓存'}"
      ]
     },
     "execution_count": 150,
     "metadata": {},
     "output_type": "execute_result"
    }
   ],
   "source": [
    "# session.fetch\n",
    "url='http://192.168.0.6:8010/sm/order/fetch/me003141387813455'\n",
    "# url='http://sessionapi.localdomain:8010/sm/order/fetch/bsb203620054372798'\n",
    "resp=requests.get(url=url)\n",
    "resp.json()"
   ]
  },
  {
   "cell_type": "code",
   "execution_count": 10,
   "metadata": {},
   "outputs": [
    {
     "data": {
      "text/plain": [
       "{'code': 0, 'message': 'success'}"
      ]
     },
     "execution_count": 10,
     "metadata": {},
     "output_type": "execute_result"
    }
   ],
   "source": [
    "# session.operation.isnert\n",
    "url='http://192.168.0.6:8010/operation/insert/fuelCard'\n",
    "resp=requests.post(url=url,json={\n",
    "    'document': {'id': 'test1008611', 'cardId': '1000113100009539139', 'userName': '', 'credentialNum': '', 'phone': '13023066636', 'showBasisNameList': ['autohome', 'pingan-one', 'localhost'], 'isShowBasis': False, 'customerUserId': 'blm_test', 'credentialType': '身份证', 'categoryId': '1'}\n",
    "})\n",
    "resp.json()"
   ]
  },
  {
   "cell_type": "code",
   "execution_count": 8,
   "metadata": {},
   "outputs": [
    {
     "data": {
      "text/plain": [
       "{'code': 0,\n",
       " 'data': {'matchedCount': 1, 'modifiedCount': 1},\n",
       " 'message': 'success'}"
      ]
     },
     "execution_count": 8,
     "metadata": {},
     "output_type": "execute_result"
    }
   ],
   "source": [
    "# session.operation.update\n",
    "url='http://192.168.0.6:8010/operation/update/fuelCard'\n",
    "resp=requests.post(url=url,json={\n",
    "    'filter': {'customerUserId': 'blm_test','categoryId': '1'},\n",
    "    \"update\": {\"$set\":{\"test\":1}}\n",
    "})\n",
    "resp.json()"
   ]
  },
  {
   "cell_type": "code",
   "execution_count": 29,
   "metadata": {
    "scrolled": false
   },
   "outputs": [
    {
     "data": {
      "text/plain": [
       "'<html><body><h1>502 Bad Gateway</h1>\\nThe server returned an invalid or incomplete response.\\n</body></html>\\n\\n'"
      ]
     },
     "execution_count": 29,
     "metadata": {},
     "output_type": "execute_result"
    }
   ],
   "source": [
    "# 更新退款流水为退款成功\n",
    "url='http://refundapi.localdomain:21009/refund/{}/success'.format('91ala')\n",
    "body={'orderId': 'ala203521115465356','serialNum': 'ala223529871734562'}\n",
    "requests.post(url=url,json=body).text"
   ]
  },
  {
   "cell_type": "code",
   "execution_count": null,
   "metadata": {
    "scrolled": false
   },
   "outputs": [],
   "source": [
    "# 订单中心API\n",
    "ORDER_CENTER_URL = 'http://192.168.2.2:21003'\n",
    "# session API\n",
    "SESSION_URL = 'http://192.168.2.6:8010'\n",
    "class CallApiToUpdateOrder(object):\n",
    "    def __init__(self, timeout=10):\n",
    "        self.timeout = timeout\n",
    "    def call_api_to_update_order_status(self, params, body):\n",
    "        try:\n",
    "            resp_data = requests.put(url=ORDER_CENTER_URL + '/status', params=params, json=body, timeout=self.timeout).json()\n",
    "        except (requests.ConnectionError, requests.exceptions.ConnectionError, Exception):\n",
    "            traceback.print_exc()\n",
    "            return self.call_api_to_update_order_status(params, body)\n",
    "        return resp_data\n",
    "    def call_api_to_update_order_form(self, body):\n",
    "        try:\n",
    "            resp_data = requests.post(url=SESSION_URL + '/sm/order/update', json=body, timeout=self.timeout).json()\n",
    "        except (requests.ConnectionError, requests.exceptions.ConnectionError, Exception):\n",
    "            traceback.print_exc()\n",
    "            return self.call_api_to_update_order_form(body)\n",
    "        return resp_data\n",
    "call_api=CallApiToUpdateOrder()\n",
    "data={'orderId':'blm101265011655066','orderType':'waimai'}\n",
    "params={'orderType': data['orderType'], 'id': data['orderId']}\n",
    "body={\"statuses\": [{\"code\": 9, \"msg\": \"订单失败\"},\n",
    "                                     {\"code\": 11, \"msg\": \"等待退款\"}],\n",
    "                        \"opts\": {'canCancel': 0,\n",
    "                                'partnerStatusCode': 16}}\n",
    "call_api.call_api_to_update_order_status(params,body)"
   ]
  },
  {
   "cell_type": "code",
   "execution_count": null,
   "metadata": {
    "scrolled": false
   },
   "outputs": [],
   "source": [
    "# 刘鑫金华银行超时订单支付验证 by dev\n",
    "payload={'orderId':'jhb002171912192094'}\n",
    "requests.get('http://192.168.0.12:32019/jhbank/update/order',params=payload).json()"
   ]
  },
  {
   "cell_type": "code",
   "execution_count": null,
   "metadata": {
    "scrolled": false
   },
   "outputs": [],
   "source": [
    "# 刘鑫金华银行超时订单支付验证 by pro\n",
    "payload={'orderId':'jhb202201587557432'}\n",
    "requests.get('http://saasjavaapi.localdomain:32019/jhbank/update/order',params=payload).json()"
   ]
  },
  {
   "cell_type": "code",
   "execution_count": null,
   "metadata": {
    "scrolled": true
   },
   "outputs": [],
   "source": [
    "#session.fetch_lite_list 接口\n",
    "url='http://192.168.2.6:8010/sm/order/fetch_lite_list'\n",
    "data={'userId':'blm_3xksnq9'}\n",
    "requests.post(url=url,json=data).json()"
   ]
  },
  {
   "cell_type": "code",
   "execution_count": 10,
   "metadata": {
    "scrolled": false
   },
   "outputs": [
    {
     "name": "stdout",
     "output_type": "stream",
     "text": [
      "bp203756416337454 {'code': 20000, 'message': '无效的订单状态流转'}\n",
      "ala203812722519561 {'code': 20000, 'message': '无效的订单状态流转'}\n",
      "bp203668513410303 {'code': 20000, 'message': '无效的订单状态流转'}\n",
      "bp203668556024997 {'code': 20000, 'message': '无效的订单状态流转'}\n"
     ]
    }
   ],
   "source": [
    "# 取消订单接口\n",
    "ORDER_CENTER_URL = \"http://orderapi.localdomain:21003/cancel\"\n",
    "import requests\n",
    "\n",
    "def order_center_cancel(order_id):\n",
    "    \"\"\"根据订单号做取消订单操作，包含更新订单状态为等待退款，生成退款流水等。\n",
    "    Args:\n",
    "        order_id(str): orderId\n",
    "    \"\"\"\n",
    "    order_message = requests.get(f'http://dpp.boluome.com/order/search/{order_id}').json()\n",
    "    querystring = {\"id\":order_id,\"orderType\":order_message['data']['orderType']}\n",
    "    response = requests.request(\"PUT\", ORDER_CENTER_URL, params=querystring)\n",
    "    return response.json()\n",
    "\n",
    "for order_id in 'bp203756416337454、ala203812722519561、bp203668513410303、bp203668556024997'.split('、'):\n",
    "    resp = order_center_cancel(order_id)\n",
    "    resp.pop('data',None)\n",
    "    print(order_id,resp)"
   ]
  },
  {
   "cell_type": "code",
   "execution_count": null,
   "metadata": {
    "scrolled": false
   },
   "outputs": [],
   "source": [
    "# rabbitmq代理接口\n",
    "import requests\n",
    "body={\n",
    "    \"exchangeName\":\"session\",\n",
    "    \"routingKey\":\"task\",\n",
    "    \"payload\":{'taskName': 'worker.expire.expire_fetch', \n",
    "               'queue': 'celery', \n",
    "               'args': {'orderId': 'bp203360152624455', 'userId': 'bestpay_17358489839', 'appCode': 'bestpay', 'orderType': 'waimai', 'channel': 'ele', 'partnerId': '3018723039701747783'}}\n",
    "}\n",
    "resp=requests.post('http://192.168.0.6:8672/rabbitmq/publish',json=body)\n",
    "resp.json()"
   ]
  },
  {
   "cell_type": "code",
   "execution_count": null,
   "metadata": {},
   "outputs": [],
   "source": [
    "# 调用彭老师的支付成功接口\n",
    "url = 'http://orderapi.localdomain:21003/paySuccess'\n",
    "\n",
    "for mongo_data in c.pmdb.order_evoucher.find({'displayStatus':'已支付'},{'_id':0,'id':1,'orderType':1,'payChannel':1,'timeline_new':1,'paymentSerial':1}):\n",
    "#     print(mongo_data)\n",
    "    timeline_new = mongo_data['timeline_new'][:-1]\n",
    "#     print(timeline_new)\n",
    "    c.pmdb.order_evoucher.update_one({'id':mongo_data['id']},{'$set':{'status':2,'timeline_new':timeline_new}})\n",
    "    requests.get('http://dpp.boluome.com/order/sync?orderId={}'.format(mongo_data['id']))\n",
    "    \n",
    "    body = {\n",
    "        'id':mongo_data['id'],\n",
    "        'orderType':mongo_data['orderType'],\n",
    "        'payChannel':mongo_data['payChannel'],\n",
    "        'serialNum':mongo_data['paymentSerial']\n",
    "    }\n",
    "    resp_data = requests.post(url,json=body).json()\n",
    "    print(resp_data)\n",
    "    print(phone,mongo_data['id'])\n"
   ]
  },
  {
   "cell_type": "code",
   "execution_count": 45,
   "metadata": {},
   "outputs": [
    {
     "data": {
      "text/plain": [
       "'{\"code\": 0, \"message\": \"Success\", \"data\": [{\"categoryKey\": \"secondCategoryName\", \"categoryValue\": \"香水\"}, {\"categoryKey\": \"secondCategoryName\", \"categoryValue\": \"组合装销售属性\"}, {\"categoryKey\": \"secondCategoryName\", \"categoryValue\": \"男士护肤1\"}]}'"
      ]
     },
     "execution_count": 45,
     "metadata": {},
     "output_type": "execute_result"
    }
   ],
   "source": [
    "resp = requests.get('http://192.168.0.6:8024/query/kaola/category/secondCategoryName?firstCategoryName=美容彩妆').json()\n",
    "json.dumps(resp,ensure_ascii=False)"
   ]
  },
  {
   "cell_type": "code",
   "execution_count": 38,
   "metadata": {},
   "outputs": [
    {
     "data": {
      "text/plain": [
       "{'code': 0,\n",
       " 'data': [{'goodsId': 6720750, 'price': 28.0},\n",
       "  {'goodsId': 4179394, 'price': 45.88},\n",
       "  {'goodsId': 58708796, 'price': 49.0},\n",
       "  {'goodsId': 58949541, 'price': 50.0},\n",
       "  {'goodsId': 58942428, 'price': 50.0},\n",
       "  {'goodsId': 10204244, 'price': 70.0},\n",
       "  {'goodsId': 1720994, 'price': 76.0},\n",
       "  {'goodsId': 1720994, 'price': 80.0},\n",
       "  {'goodsId': 1720994, 'price': 90.0},\n",
       "  {'goodsId': 1720994, 'price': 100.0},\n",
       "  {'goodsId': 1226800, 'price': 180.0},\n",
       "  {'goodsId': 1226800, 'price': 200.0},\n",
       "  {'goodsId': 5705, 'price': 299.0},\n",
       "  {'goodsId': 10220018, 'price': 399.0},\n",
       "  {'goodsId': 58708835, 'price': 460.0},\n",
       "  {'goodsId': 49614843, 'price': 499.0},\n",
       "  {'goodsId': 49614845, 'price': 499.0},\n",
       "  {'goodsId': 49614887, 'price': 499.0},\n",
       "  {'goodsId': 49614873, 'price': 499.0},\n",
       "  {'goodsId': 49614855, 'price': 499.0}],\n",
       " 'message': 'Success'}"
      ]
     },
     "execution_count": 38,
     "metadata": {},
     "output_type": "execute_result"
    }
   ],
   "source": [
    "# %%timeit\n",
    "body = {\n",
    "    \"queryText\":\"男士护肤\",\n",
    "    \"highPrice\":500,\n",
    "    \"projection\":\"price,goodsId\",\n",
    "    \"sortBy\":\"price:asc\"\n",
    "}\n",
    "requests.post('http://192.168.0.6:8024/query/kaola/goods/search',json=body).json()"
   ]
  },
  {
   "cell_type": "code",
   "execution_count": 38,
   "metadata": {},
   "outputs": [
    {
     "data": {
      "text/plain": [
       "{'code': 0,\n",
       " 'data': [{'brandCountryName': '法国',\n",
       "   'brandId': 10769,\n",
       "   'brandName': '宁波亚马逊保税仓263-auto-20161109113436365',\n",
       "   'category': '香水 美容彩妆',\n",
       "   'detail': '宁波亚马逊保税仓商品-商品详情-20161109141646659<img src=\"http://haitao.nos.netease.com/irh4nxwe40_800_800.jpg\" style=\"text-align: center;\">',\n",
       "   'firstCategoryName': '美容彩妆',\n",
       "   'fourthCategoryName': '香水',\n",
       "   'goodsId': 51842690,\n",
       "   'goodsProperty': {},\n",
       "   'imageUrl': 'http://haitao.nos.netease.com/irgblckx76_800_800.jpg',\n",
       "   'importType': 1,\n",
       "   'isFreeShipping': 0,\n",
       "   'isFreeTax': 0,\n",
       "   'leafCategoryId': 9437,\n",
       "   'marketPrice': 599,\n",
       "   'memberCount': 0,\n",
       "   'price': 499.0,\n",
       "   'productId': 51842690,\n",
       "   'secondCategoryName': '香水',\n",
       "   'shortTitle': '短标题20161109141646659',\n",
       "   'subTitle': None,\n",
       "   'taxRate': 0.47,\n",
       "   'taxRates': [0.47],\n",
       "   'thirdCategoryId': 9437,\n",
       "   'thirdCategoryName': '香水',\n",
       "   'title': '宁波亚马逊保税仓商品-auto-20161109141646659'},\n",
       "  {'brandCountryName': '法国',\n",
       "   'brandId': 10769,\n",
       "   'brandName': '宁波亚马逊保税仓263-auto-20161109113436365',\n",
       "   'category': '香水 美容彩妆',\n",
       "   'detail': '宁波亚马逊保税仓商品-商品详情-20161109141709892<img src=\"http://haitao.nos.netease.com/irh4nxwe40_800_800.jpg\" style=\"text-align: center;\">',\n",
       "   'firstCategoryName': '美容彩妆',\n",
       "   'fourthCategoryName': '香水',\n",
       "   'goodsId': 51842698,\n",
       "   'goodsProperty': {},\n",
       "   'imageUrl': 'http://haitao.nos.netease.com/irgblckx76_800_800.jpg',\n",
       "   'importType': 1,\n",
       "   'isFreeShipping': 0,\n",
       "   'isFreeTax': 0,\n",
       "   'leafCategoryId': 9437,\n",
       "   'marketPrice': 599,\n",
       "   'memberCount': 0,\n",
       "   'price': 499.0,\n",
       "   'productId': 51842698,\n",
       "   'secondCategoryName': '香水',\n",
       "   'shortTitle': '短标题20161109141709892',\n",
       "   'subTitle': None,\n",
       "   'taxRate': 0.47,\n",
       "   'taxRates': [0.47],\n",
       "   'thirdCategoryId': 9437,\n",
       "   'thirdCategoryName': '香水',\n",
       "   'title': '宁波亚马逊保税仓商品-auto-20161109141709892'},\n",
       "  {'brandCountryName': '法国',\n",
       "   'brandId': 10769,\n",
       "   'brandName': '宁波亚马逊保税仓263-auto-20161109113436365',\n",
       "   'category': '香水 美容彩妆',\n",
       "   'detail': '宁波亚马逊保税仓商品-商品详情-20161109141721059<img src=\"http://haitao.nos.netease.com/irh4nxwe40_800_800.jpg\" style=\"text-align: center;\">',\n",
       "   'firstCategoryName': '美容彩妆',\n",
       "   'fourthCategoryName': '香水',\n",
       "   'goodsId': 51842702,\n",
       "   'goodsProperty': {},\n",
       "   'imageUrl': 'http://haitao.nos.netease.com/irgblckx76_800_800.jpg',\n",
       "   'importType': 1,\n",
       "   'isFreeShipping': 0,\n",
       "   'isFreeTax': 0,\n",
       "   'leafCategoryId': 9437,\n",
       "   'marketPrice': 599,\n",
       "   'memberCount': 0,\n",
       "   'price': 499.0,\n",
       "   'productId': 51842702,\n",
       "   'secondCategoryName': '香水',\n",
       "   'shortTitle': '短标题20161109141721059',\n",
       "   'subTitle': None,\n",
       "   'taxRate': 0.47,\n",
       "   'taxRates': [0.47],\n",
       "   'thirdCategoryId': 9437,\n",
       "   'thirdCategoryName': '香水',\n",
       "   'title': '宁波亚马逊保税仓商品-auto-20161109141721059'},\n",
       "  {'brandCountryName': '法国',\n",
       "   'brandId': 10769,\n",
       "   'brandName': '宁波亚马逊保税仓263-auto-20161109113436365',\n",
       "   'category': '香水 美容彩妆',\n",
       "   'detail': '宁波亚马逊保税仓商品-商品详情-20161109141732220<img src=\"http://haitao.nos.netease.com/irh4nxwe40_800_800.jpg\" style=\"text-align: center;\">',\n",
       "   'firstCategoryName': '美容彩妆',\n",
       "   'fourthCategoryName': '香水',\n",
       "   'goodsId': 51842706,\n",
       "   'goodsProperty': {},\n",
       "   'imageUrl': 'http://haitao.nos.netease.com/irgblckx76_800_800.jpg',\n",
       "   'importType': 1,\n",
       "   'isFreeShipping': 0,\n",
       "   'isFreeTax': 0,\n",
       "   'leafCategoryId': 9437,\n",
       "   'marketPrice': 599,\n",
       "   'memberCount': 0,\n",
       "   'price': 499.0,\n",
       "   'productId': 51842706,\n",
       "   'secondCategoryName': '香水',\n",
       "   'shortTitle': '短标题20161109141732221',\n",
       "   'subTitle': None,\n",
       "   'taxRate': 0.47,\n",
       "   'taxRates': [0.47],\n",
       "   'thirdCategoryId': 9437,\n",
       "   'thirdCategoryName': '香水',\n",
       "   'title': '宁波亚马逊保税仓商品-auto-20161109141732220'},\n",
       "  {'brandCountryName': '法国',\n",
       "   'brandId': 10769,\n",
       "   'brandName': '宁波亚马逊保税仓263-auto-20161109113436365',\n",
       "   'category': '香水 美容彩妆',\n",
       "   'detail': '宁波亚马逊保税仓商品-商品详情-20161109141737848<img src=\"http://haitao.nos.netease.com/irh4nxwe40_800_800.jpg\" style=\"text-align: center;\">',\n",
       "   'firstCategoryName': '美容彩妆',\n",
       "   'fourthCategoryName': '香水',\n",
       "   'goodsId': 51842708,\n",
       "   'goodsProperty': {},\n",
       "   'imageUrl': 'http://haitao.nos.netease.com/irgblckx76_800_800.jpg',\n",
       "   'importType': 1,\n",
       "   'isFreeShipping': 0,\n",
       "   'isFreeTax': 0,\n",
       "   'leafCategoryId': 9437,\n",
       "   'marketPrice': 599,\n",
       "   'memberCount': 0,\n",
       "   'price': 499.0,\n",
       "   'productId': 51842708,\n",
       "   'secondCategoryName': '香水',\n",
       "   'shortTitle': '短标题20161109141737848',\n",
       "   'subTitle': None,\n",
       "   'taxRate': 0.47,\n",
       "   'taxRates': [0.47],\n",
       "   'thirdCategoryId': 9437,\n",
       "   'thirdCategoryName': '香水',\n",
       "   'title': '宁波亚马逊保税仓商品-auto-20161109141737848'},\n",
       "  {'brandCountryName': '法国',\n",
       "   'brandId': 10769,\n",
       "   'brandName': '宁波亚马逊保税仓263-auto-20161109113436365',\n",
       "   'category': '香水 美容彩妆',\n",
       "   'detail': '宁波亚马逊保税仓商品-商品详情-20161109141740565<img src=\"http://haitao.nos.netease.com/irh4nxwe40_800_800.jpg\" style=\"text-align: center;\">',\n",
       "   'firstCategoryName': '美容彩妆',\n",
       "   'fourthCategoryName': '香水',\n",
       "   'goodsId': 51842709,\n",
       "   'goodsProperty': {},\n",
       "   'imageUrl': 'http://haitao.nos.netease.com/irgblckx76_800_800.jpg',\n",
       "   'importType': 1,\n",
       "   'isFreeShipping': 0,\n",
       "   'isFreeTax': 0,\n",
       "   'leafCategoryId': 9437,\n",
       "   'marketPrice': 599,\n",
       "   'memberCount': 0,\n",
       "   'price': 499.0,\n",
       "   'productId': 51842709,\n",
       "   'secondCategoryName': '香水',\n",
       "   'shortTitle': '短标题20161109141740565',\n",
       "   'subTitle': None,\n",
       "   'taxRate': 0.47,\n",
       "   'taxRates': [0.47],\n",
       "   'thirdCategoryId': 9437,\n",
       "   'thirdCategoryName': '香水',\n",
       "   'title': '宁波亚马逊保税仓商品-auto-20161109141740565'},\n",
       "  {'brandCountryName': '法国',\n",
       "   'brandId': 5599,\n",
       "   'brandName': '迪奥-auto-2016071210192729哈哈~~~',\n",
       "   'category': '香水 美容彩妆',\n",
       "   'detail': '普通商品-商品详情-20170327153410569 \\n<img src=\"http://haitao.nos.netease.com/irh4nxwe40_800_800.jpg\" style=\"text-align: center;\" />',\n",
       "   'firstCategoryName': '美容彩妆',\n",
       "   'fourthCategoryName': '香水',\n",
       "   'goodsId': 58724170,\n",
       "   'goodsProperty': {},\n",
       "   'imageUrl': 'http://haitao.nosdn4.127.net/irgbntuh54_800_800.jpg',\n",
       "   'importType': 2,\n",
       "   'isFreeShipping': 0,\n",
       "   'isFreeTax': 0,\n",
       "   'leafCategoryId': 9437,\n",
       "   'marketPrice': 599,\n",
       "   'memberCount': 0,\n",
       "   'price': 499.0,\n",
       "   'productId': 58724170,\n",
       "   'secondCategoryName': '香水',\n",
       "   'shortTitle': '交易自动化买赠',\n",
       "   'subTitle': None,\n",
       "   'taxRate': 0,\n",
       "   'taxRates': [0],\n",
       "   'thirdCategoryId': 9437,\n",
       "   'thirdCategoryName': '香水',\n",
       "   'title': '【勿动】交易自动化买赠买A增（A+B）'},\n",
       "  {'brandCountryName': '法国',\n",
       "   'brandId': 5599,\n",
       "   'brandName': '迪奥-auto-2016071210192729哈哈~~~',\n",
       "   'category': '香水 美容彩妆',\n",
       "   'detail': '普通商品-商品详情-20170327153451390 \\n<img src=\"http://haitao.nos.netease.com/irh4nxwe40_800_800.jpg\" style=\"text-align: center;\" />',\n",
       "   'firstCategoryName': '美容彩妆',\n",
       "   'fourthCategoryName': '香水',\n",
       "   'goodsId': 58724172,\n",
       "   'goodsProperty': {},\n",
       "   'imageUrl': 'http://haitao.nosdn4.127.net/irgbntuh54_800_800.jpg',\n",
       "   'importType': 2,\n",
       "   'isFreeShipping': 0,\n",
       "   'isFreeTax': 0,\n",
       "   'leafCategoryId': 9437,\n",
       "   'marketPrice': 599,\n",
       "   'memberCount': 0,\n",
       "   'price': 499.0,\n",
       "   'productId': 58724172,\n",
       "   'secondCategoryName': '香水',\n",
       "   'shortTitle': '短标题',\n",
       "   'subTitle': None,\n",
       "   'taxRate': 0,\n",
       "   'taxRates': [0],\n",
       "   'thirdCategoryId': 9437,\n",
       "   'thirdCategoryName': '香水',\n",
       "   'title': '普通商品-auto-20170327153451390'},\n",
       "  {'brandCountryName': '法国',\n",
       "   'brandId': 5599,\n",
       "   'brandName': '迪奥-auto-2016071210192729哈哈~~~',\n",
       "   'category': '香水 美容彩妆',\n",
       "   'detail': '转仓测试商品111-商品详情-20170328152738573 \\n<img src=\"http://haitao.nos.netease.com/irh4nxwe40_800_800.jpg\" style=\"text-align: center;\" />',\n",
       "   'firstCategoryName': '美容彩妆',\n",
       "   'fourthCategoryName': '香水',\n",
       "   'goodsId': 58724686,\n",
       "   'goodsProperty': {},\n",
       "   'imageUrl': 'http://haitao.nos.netease.com/irgblckx76_800_800.jpg',\n",
       "   'importType': 1,\n",
       "   'isFreeShipping': 0,\n",
       "   'isFreeTax': 0,\n",
       "   'leafCategoryId': 9437,\n",
       "   'marketPrice': 599,\n",
       "   'memberCount': 0,\n",
       "   'price': 499.0,\n",
       "   'productId': 58724686,\n",
       "   'secondCategoryName': '香水',\n",
       "   'shortTitle': '短标题',\n",
       "   'subTitle': None,\n",
       "   'taxRate': 0.47,\n",
       "   'taxRates': [0.47],\n",
       "   'thirdCategoryId': 9437,\n",
       "   'thirdCategoryName': '香水',\n",
       "   'title': '转仓测试商品111-auto-20170328152738573'},\n",
       "  {'brandCountryName': '法国',\n",
       "   'brandId': 5599,\n",
       "   'brandName': '迪奥-auto-2016071210192729哈哈~~~',\n",
       "   'category': '香水 美容彩妆',\n",
       "   'detail': 'heshan-3.28-3-商品详情-20170328200110382 \\n<img src=\"http://haitao.nos.netease.com/irh4nxwe40_800_800.jpg\" style=\"text-align: center;\" />',\n",
       "   'firstCategoryName': '美容彩妆',\n",
       "   'fourthCategoryName': '香水',\n",
       "   'goodsId': 58724797,\n",
       "   'goodsProperty': {'【勿动】销售属性': ['蓝色', '肉粉色']},\n",
       "   'imageUrl': 'http://haitao.nos.netease.com/irgblckx76_800_800.jpg',\n",
       "   'importType': 1,\n",
       "   'isFreeShipping': 0,\n",
       "   'isFreeTax': 0,\n",
       "   'leafCategoryId': 9437,\n",
       "   'marketPrice': 230,\n",
       "   'memberCount': 0,\n",
       "   'price': 200.0,\n",
       "   'productId': 58724797,\n",
       "   'secondCategoryName': '香水',\n",
       "   'shortTitle': '短标题',\n",
       "   'subTitle': None,\n",
       "   'taxRate': 0.47,\n",
       "   'taxRates': [0.47],\n",
       "   'thirdCategoryId': 9437,\n",
       "   'thirdCategoryName': '香水',\n",
       "   'title': 'heshan-3.28-3-auto-20170328200110382'},\n",
       "  {'brandCountryName': '法国',\n",
       "   'brandId': 5599,\n",
       "   'brandName': '迪奥-auto-2016071210192729哈哈~~~',\n",
       "   'category': '香水 美容彩妆',\n",
       "   'detail': 'heshan-3.28-3-商品详情-20170328200112098 \\n<img src=\"http://haitao.nos.netease.com/irh4nxwe40_800_800.jpg\" style=\"text-align: center;\" />',\n",
       "   'firstCategoryName': '美容彩妆',\n",
       "   'fourthCategoryName': '香水',\n",
       "   'goodsId': 58724799,\n",
       "   'goodsProperty': {'【勿动】销售属性': ['蓝色', '肉粉色']},\n",
       "   'imageUrl': 'http://haitao.nos.netease.com/irgblckx76_800_800.jpg',\n",
       "   'importType': 1,\n",
       "   'isFreeShipping': 0,\n",
       "   'isFreeTax': 0,\n",
       "   'leafCategoryId': 9437,\n",
       "   'marketPrice': 230,\n",
       "   'memberCount': 0,\n",
       "   'price': 200.0,\n",
       "   'productId': 58724799,\n",
       "   'secondCategoryName': '香水',\n",
       "   'shortTitle': '短标题',\n",
       "   'subTitle': None,\n",
       "   'taxRate': 0.47,\n",
       "   'taxRates': [0.47],\n",
       "   'thirdCategoryId': 9437,\n",
       "   'thirdCategoryName': '香水',\n",
       "   'title': 'heshan-3.28-3-auto-20170328200112098'},\n",
       "  {'brandCountryName': '法国',\n",
       "   'brandId': 5599,\n",
       "   'brandName': '迪奥-auto-2016071210192729哈哈~~~',\n",
       "   'category': '香水 美容彩妆',\n",
       "   'detail': '何山3.30-商品详情-20170330135736057 \\n<img src=\"http://haitao.nos.netease.com/irh4nxwe40_800_800.jpg\" style=\"text-align: center;\" />',\n",
       "   'firstCategoryName': '美容彩妆',\n",
       "   'fourthCategoryName': '香水',\n",
       "   'goodsId': 58726192,\n",
       "   'goodsProperty': {},\n",
       "   'imageUrl': 'http://haitao.nos.netease.com/irgblckx76_800_800.jpg',\n",
       "   'importType': 1,\n",
       "   'isFreeShipping': 0,\n",
       "   'isFreeTax': 0,\n",
       "   'leafCategoryId': 9437,\n",
       "   'marketPrice': 599,\n",
       "   'memberCount': 0,\n",
       "   'price': 388.0,\n",
       "   'productId': 58726192,\n",
       "   'secondCategoryName': '香水',\n",
       "   'shortTitle': '短标题',\n",
       "   'subTitle': None,\n",
       "   'taxRate': 0.47,\n",
       "   'taxRates': [0.47],\n",
       "   'thirdCategoryId': 9437,\n",
       "   'thirdCategoryName': '香水',\n",
       "   'title': '何山3.30-auto-20170330135736057'},\n",
       "  {'brandCountryName': '法国',\n",
       "   'brandId': 5599,\n",
       "   'brandName': '迪奥-auto-2016071210192729哈哈~~~',\n",
       "   'category': '香水 美容彩妆',\n",
       "   'detail': '迪奥唇膏-商品详情-20170329110447640 \\n<img src=\"http://haitao.nos.netease.com/irh4nxwe40_800_800.jpg\" style=\"text-align: center;\" />',\n",
       "   'firstCategoryName': '美容彩妆',\n",
       "   'fourthCategoryName': '香水',\n",
       "   'goodsId': 58725056,\n",
       "   'goodsProperty': {'【勿动】尺码': ['S', 'M', 'L'], '【勿动】销售属性': ['蓝色', '肉粉色']},\n",
       "   'imageUrl': 'http://haitao.nos.netease.com/irgblckx76_800_800.jpg',\n",
       "   'importType': 1,\n",
       "   'isFreeShipping': 0,\n",
       "   'isFreeTax': 0,\n",
       "   'leafCategoryId': 9437,\n",
       "   'marketPrice': 310,\n",
       "   'memberCount': 0,\n",
       "   'price': 200.0,\n",
       "   'productId': 58725056,\n",
       "   'secondCategoryName': '香水',\n",
       "   'shortTitle': '短标题',\n",
       "   'subTitle': None,\n",
       "   'taxRate': 0.47,\n",
       "   'taxRates': [0.47],\n",
       "   'thirdCategoryId': 9437,\n",
       "   'thirdCategoryName': '香水',\n",
       "   'title': '迪奥唇膏-auto-20170329110447641'},\n",
       "  {'brandCountryName': '法国',\n",
       "   'brandId': 5599,\n",
       "   'brandName': '迪奥-auto-2016071210192729哈哈~~~',\n",
       "   'category': '香水 美容彩妆',\n",
       "   'detail': 'Dior香水-商品详情-20170330185655871 \\n<img src=\"http://haitao.nos.netease.com/irh4nxwe40_800_800.jpg\" style=\"text-align: center;\" />',\n",
       "   'firstCategoryName': '美容彩妆',\n",
       "   'fourthCategoryName': '香水',\n",
       "   'goodsId': 58726271,\n",
       "   'goodsProperty': {},\n",
       "   'imageUrl': 'http://haitao.nos.netease.com/irgblckx76_800_800.jpg',\n",
       "   'importType': 1,\n",
       "   'isFreeShipping': 0,\n",
       "   'isFreeTax': 0,\n",
       "   'leafCategoryId': 9437,\n",
       "   'marketPrice': 599,\n",
       "   'memberCount': 0,\n",
       "   'price': 499.0,\n",
       "   'productId': 58726271,\n",
       "   'secondCategoryName': '香水',\n",
       "   'shortTitle': '短标题',\n",
       "   'subTitle': None,\n",
       "   'taxRate': 0.47,\n",
       "   'taxRates': [0.47],\n",
       "   'thirdCategoryId': 9437,\n",
       "   'thirdCategoryName': '香水',\n",
       "   'title': 'Dior香水-auto-20170330185655871'},\n",
       "  {'brandCountryName': '法国',\n",
       "   'brandId': 5599,\n",
       "   'brandName': '迪奥-auto-2016071210192729哈哈~~~',\n",
       "   'category': '香水 美容彩妆',\n",
       "   'detail': '何山3.30-3-商品详情-20170330204357227 \\n<img src=\"http://haitao.nos.netease.com/irh4nxwe40_800_800.jpg\" style=\"text-align: center;\" />',\n",
       "   'firstCategoryName': '美容彩妆',\n",
       "   'fourthCategoryName': '香水',\n",
       "   'goodsId': 58726347,\n",
       "   'goodsProperty': {},\n",
       "   'imageUrl': 'http://haitao.nos.netease.com/irgblckx76_800_800.jpg',\n",
       "   'importType': 1,\n",
       "   'isFreeShipping': 0,\n",
       "   'isFreeTax': 0,\n",
       "   'leafCategoryId': 9437,\n",
       "   'marketPrice': 599,\n",
       "   'memberCount': 0,\n",
       "   'price': 499.0,\n",
       "   'productId': 58726347,\n",
       "   'secondCategoryName': '香水',\n",
       "   'shortTitle': '短标题',\n",
       "   'subTitle': None,\n",
       "   'taxRate': 0.47,\n",
       "   'taxRates': [0.47],\n",
       "   'thirdCategoryId': 9437,\n",
       "   'thirdCategoryName': '香水',\n",
       "   'title': '何山3.30-3-auto-20170330204357227'},\n",
       "  {'brandCountryName': '法国',\n",
       "   'brandId': 5599,\n",
       "   'brandName': '迪奥-auto-2016071210192729哈哈~~~',\n",
       "   'category': '香水 美容彩妆',\n",
       "   'detail': '何山-删除-商品详情-20170330233056979 \\n<img src=\"http://haitao.nos.netease.com/irh4nxwe40_800_800.jpg\" style=\"text-align: center;\" />',\n",
       "   'firstCategoryName': '美容彩妆',\n",
       "   'fourthCategoryName': '香水',\n",
       "   'goodsId': 58726365,\n",
       "   'goodsProperty': {},\n",
       "   'imageUrl': 'http://haitao.nos.netease.com/irgblckx76_800_800.jpg',\n",
       "   'importType': 1,\n",
       "   'isFreeShipping': 0,\n",
       "   'isFreeTax': 0,\n",
       "   'leafCategoryId': 9437,\n",
       "   'marketPrice': 599,\n",
       "   'memberCount': 0,\n",
       "   'price': 499.0,\n",
       "   'productId': 58726365,\n",
       "   'secondCategoryName': '香水',\n",
       "   'shortTitle': '短标题',\n",
       "   'subTitle': None,\n",
       "   'taxRate': 0.47,\n",
       "   'taxRates': [0.47],\n",
       "   'thirdCategoryId': 9437,\n",
       "   'thirdCategoryName': '香水',\n",
       "   'title': '何山-删除-auto-20170330233056979'},\n",
       "  {'brandCountryName': '法国',\n",
       "   'brandId': 5599,\n",
       "   'brandName': '迪奥-auto-2016071210192729哈哈~~~',\n",
       "   'category': '香水 美容彩妆',\n",
       "   'detail': 'lalala-商品详情-20170331143307859 \\n<img src=\"http://haitao.nos.netease.com/irh4nxwe40_800_800.jpg\" style=\"text-align: center;\" />',\n",
       "   'firstCategoryName': '美容彩妆',\n",
       "   'fourthCategoryName': '香水',\n",
       "   'goodsId': 58726511,\n",
       "   'goodsProperty': {},\n",
       "   'imageUrl': 'http://haitao.nos.netease.com/irgblckx76_800_800.jpg',\n",
       "   'importType': 1,\n",
       "   'isFreeShipping': 0,\n",
       "   'isFreeTax': 0,\n",
       "   'leafCategoryId': 9437,\n",
       "   'marketPrice': 599,\n",
       "   'memberCount': 0,\n",
       "   'price': 499.0,\n",
       "   'productId': 58726511,\n",
       "   'secondCategoryName': '香水',\n",
       "   'shortTitle': '短标题',\n",
       "   'subTitle': None,\n",
       "   'taxRate': 0.47,\n",
       "   'taxRates': [0.47],\n",
       "   'thirdCategoryId': 9437,\n",
       "   'thirdCategoryName': '香水',\n",
       "   'title': 'lalala-auto-20170331143307859'},\n",
       "  {'brandCountryName': '法国',\n",
       "   'brandId': 5599,\n",
       "   'brandName': '迪奥-auto-2016071210192729哈哈~~~',\n",
       "   'category': '香水 美容彩妆',\n",
       "   'detail': 'jian-商品详情-20170331145601266 \\n<img src=\"http://haitao.nos.netease.com/irh4nxwe40_800_800.jpg\" style=\"text-align: center;\" />',\n",
       "   'firstCategoryName': '美容彩妆',\n",
       "   'fourthCategoryName': '香水',\n",
       "   'goodsId': 58726522,\n",
       "   'goodsProperty': {},\n",
       "   'imageUrl': 'http://haitao.nos.netease.com/irgblckx76_800_800.jpg',\n",
       "   'importType': 1,\n",
       "   'isFreeShipping': 0,\n",
       "   'isFreeTax': 0,\n",
       "   'leafCategoryId': 9437,\n",
       "   'marketPrice': 599,\n",
       "   'memberCount': 0,\n",
       "   'price': 499.0,\n",
       "   'productId': 58726522,\n",
       "   'secondCategoryName': '香水',\n",
       "   'shortTitle': '短标题',\n",
       "   'subTitle': None,\n",
       "   'taxRate': 0.47,\n",
       "   'taxRates': [0.47],\n",
       "   'thirdCategoryId': 9437,\n",
       "   'thirdCategoryName': '香水',\n",
       "   'title': 'jian-auto-20170331145601266'},\n",
       "  {'brandCountryName': '法国',\n",
       "   'brandId': 5599,\n",
       "   'brandName': '迪奥-auto-2016071210192729哈哈~~~',\n",
       "   'category': '香水 美容彩妆',\n",
       "   'detail': '一图-商品详情-20170331151356392 \\n<img src=\"http://haitao.nos.netease.com/irh4nxwe40_800_800.jpg\" style=\"text-align: center;\" />',\n",
       "   'firstCategoryName': '美容彩妆',\n",
       "   'fourthCategoryName': '香水',\n",
       "   'goodsId': 58726532,\n",
       "   'goodsProperty': {},\n",
       "   'imageUrl': 'http://haitao.nos.netease.com/irgblckx76_800_800.jpg',\n",
       "   'importType': 1,\n",
       "   'isFreeShipping': 0,\n",
       "   'isFreeTax': 0,\n",
       "   'leafCategoryId': 9437,\n",
       "   'marketPrice': 599,\n",
       "   'memberCount': 0,\n",
       "   'price': 499.0,\n",
       "   'productId': 58726532,\n",
       "   'secondCategoryName': '香水',\n",
       "   'shortTitle': '短标题',\n",
       "   'subTitle': None,\n",
       "   'taxRate': 0.47,\n",
       "   'taxRates': [0.47],\n",
       "   'thirdCategoryId': 9437,\n",
       "   'thirdCategoryName': '香水',\n",
       "   'title': '一图-auto-20170331151356392'},\n",
       "  {'brandCountryName': '法国',\n",
       "   'brandId': 5599,\n",
       "   'brandName': '迪奥-auto-2016071210192729哈哈~~~',\n",
       "   'category': '香水 美容彩妆',\n",
       "   'detail': '人我饿-商品详情-20170331153155378 \\n<img src=\"http://haitao.nos.netease.com/irh4nxwe40_800_800.jpg\" style=\"text-align: center;\" />',\n",
       "   'firstCategoryName': '美容彩妆',\n",
       "   'fourthCategoryName': '香水',\n",
       "   'goodsId': 58726538,\n",
       "   'goodsProperty': {},\n",
       "   'imageUrl': 'http://haitao.nos.netease.com/irgblckx76_800_800.jpg',\n",
       "   'importType': 1,\n",
       "   'isFreeShipping': 0,\n",
       "   'isFreeTax': 0,\n",
       "   'leafCategoryId': 9437,\n",
       "   'marketPrice': 599,\n",
       "   'memberCount': 0,\n",
       "   'price': 499.0,\n",
       "   'productId': 58726538,\n",
       "   'secondCategoryName': '香水',\n",
       "   'shortTitle': '短标题',\n",
       "   'subTitle': None,\n",
       "   'taxRate': 0.47,\n",
       "   'taxRates': [0.47],\n",
       "   'thirdCategoryId': 9437,\n",
       "   'thirdCategoryName': '香水',\n",
       "   'title': '人我饿-auto-20170331153155378'}],\n",
       " 'message': 'Success'}"
      ]
     },
     "execution_count": 38,
     "metadata": {},
     "output_type": "execute_result"
    }
   ],
   "source": [
    "body = {\n",
    "    'importType': 1, \n",
    "    'pageIndex': 1, \n",
    "    'pageSize': 20, \n",
    "    'queryText': '', \n",
    "    'lowPrice': 200, \n",
    "    'highPrice': 500, \n",
    "#     'filter': {'thirdCategoryName': '%E6%8A%A4%E7%90%86', }, \n",
    "    'channel': 'kaola'\n",
    "}\n",
    "# body={'importType': 1, 'pageIndex': 1, 'pageSize': 20, 'queryText': '玫瑰', 'channel': 'kaola'}\n",
    "requests.post('http://192.168.0.6:8024/query/kaola/goods/search',json=body).json()"
   ]
  }
 ],
 "metadata": {
  "kernelspec": {
   "display_name": "Python 3",
   "language": "python",
   "name": "python3"
  },
  "language_info": {
   "codemirror_mode": {
    "name": "ipython",
    "version": 3
   },
   "file_extension": ".py",
   "mimetype": "text/x-python",
   "name": "python",
   "nbconvert_exporter": "python",
   "pygments_lexer": "ipython3",
   "version": "3.6.0"
  }
 },
 "nbformat": 4,
 "nbformat_minor": 2
}
