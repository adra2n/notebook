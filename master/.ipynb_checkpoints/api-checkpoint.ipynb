{
 "cells": [
  {
   "cell_type": "code",
   "execution_count": 4,
   "metadata": {},
   "outputs": [],
   "source": [
    "from connection import ConnectionTask\n",
    "from pprint import pprint\n",
    "import requests\n",
    "import json\n",
    "c=ConnectionTask()"
   ]
  },
  {
   "cell_type": "code",
   "execution_count": null,
   "metadata": {},
   "outputs": [],
   "source": [
    "import requests\n",
    "requests.get(\"http://192.168.0.5:31031/dengjifuwu/v1/readcheckindatas\",headers={}).json()"
   ]
  },
  {
   "cell_type": "code",
   "execution_count": 8,
   "metadata": {
    "scrolled": true
   },
   "outputs": [],
   "source": [
    "r=requests.get(\"http://192.168.0.6:8011/status\")"
   ]
  },
  {
   "cell_type": "code",
   "execution_count": 17,
   "metadata": {},
   "outputs": [],
   "source": [
    "r.request.body"
   ]
  },
  {
   "cell_type": "code",
   "execution_count": null,
   "metadata": {
    "scrolled": false
   },
   "outputs": [],
   "source": [
    "# requests.get(\"http://192.168.0.6:8010/sm/order/fetch\",\n",
    "#             params={\"orderType\":\"jipiao\",\"passengers.ticketNo\": 'xep171009114412846'}).json()"
   ]
  },
  {
   "cell_type": "code",
   "execution_count": 148,
   "metadata": {
    "scrolled": true
   },
   "outputs": [
    {
     "data": {
      "text/plain": [
       "43"
      ]
     },
     "execution_count": 148,
     "metadata": {},
     "output_type": "execute_result"
    }
   ],
   "source": [
    "url='http://lb01.localdomain:8024/query/maoyan/hot_movie_list?cityId=10'\n",
    "resp = requests.get(url).json()\n",
    "# for item in resp['data']:\n",
    "#     if item.get(\"name\") == \"战狼2\":\n",
    "#         pprint(item)\n",
    "#         continue\n",
    "len(resp['data'])"
   ]
  },
  {
   "cell_type": "code",
   "execution_count": 2,
   "metadata": {
    "scrolled": true,
    "tags": [
     "citysAPI"
    ]
   },
   "outputs": [
    {
     "data": {
      "text/plain": [
       "{'code': 0,\n",
       " 'data': [{'channelCityId': '134', 'jp': 'jz', 'name': '晋中', 'py': 'jinzhong'},\n",
       "  {'channelCityId': '215', 'jp': 'xy', 'name': '新余', 'py': 'xinyu'},\n",
       "  {'channelCityId': '171', 'jp': 'sys', 'name': '双鸭山', 'py': 'shuangyashan'},\n",
       "  {'channelCityId': '360', 'jp': 'sl', 'name': '商洛', 'py': 'shangluo'},\n",
       "  {'channelCityId': '309', 'jp': 'nj', 'name': '内江', 'py': 'neijiang'},\n",
       "  {'channelCityId': '170', 'jp': 'hg', 'name': '鹤岗', 'py': 'hegang'},\n",
       "  {'channelCityId': '173', 'jp': 'jms', 'name': '佳木斯', 'py': 'jiamusi'},\n",
       "  {'channelCityId': '266', 'jp': 'sy', 'name': '邵阳', 'py': 'shaoyang'},\n",
       "  {'channelCityId': '384', 'jp': 'wz', 'name': '吴忠', 'py': 'wuzhong'},\n",
       "  {'channelCityId': '316', 'jp': 'ya', 'name': '雅安', 'py': 'yaan'},\n",
       "  {'channelCityId': '308', 'jp': 'sn', 'name': '遂宁', 'py': 'suining'},\n",
       "  {'channelCityId': '394', 'jp': 'aks', 'name': '阿克苏', 'py': 'akesu'},\n",
       "  {'channelCityId': '605', 'jp': 'jy', 'name': '简阳', 'py': 'jianyang'},\n",
       "  {'channelCityId': '686', 'jp': 'df', 'name': '东方', 'py': 'dongfang'},\n",
       "  {'channelCityId': '261', 'jp': 'es', 'name': '恩施', 'py': 'enshi'},\n",
       "  {'channelCityId': '375', 'jp': 'hddq', 'name': '海东地区', 'py': 'haidongdequ'},\n",
       "  {'channelCityId': '249', 'jp': 'jy', 'name': '济源', 'py': 'jiyuan'},\n",
       "  {'channelCityId': '372',\n",
       "   'jp': 'lxhzzzz',\n",
       "   'name': '临夏回族自治州',\n",
       "   'py': 'linxiahuizuzizhizhou'},\n",
       "  {'channelCityId': '325', 'jp': 'tr', 'name': '铜仁', 'py': 'tongren'},\n",
       "  {'channelCityId': '291', 'jp': 'wz', 'name': '梧州', 'py': 'wuzhou'},\n",
       "  {'channelCityId': '206', 'jp': 'xc', 'name': '宣城', 'py': 'xuancheng'},\n",
       "  {'channelCityId': '148', 'jp': 'xam', 'name': '兴安盟', 'py': 'xinganmeng'},\n",
       "  {'channelCityId': '166', 'jp': 'sy', 'name': '松原', 'py': 'songyuan'},\n",
       "  {'channelCityId': '143', 'jp': 'tl', 'name': '通辽', 'py': 'tongliao'},\n",
       "  {'channelCityId': '342',\n",
       "   'jp': 'dhdzjpzzz',\n",
       "   'name': '德宏傣族景颇自治州',\n",
       "   'py': 'dehongdaizujingpozizhizhou'},\n",
       "  {'channelCityId': '150', 'jp': 'alsm', 'name': '阿拉善盟', 'py': 'alashanmeng'},\n",
       "  {'channelCityId': '327', 'jp': 'bjdq', 'name': '毕节地区', 'py': 'bijiedequ'},\n",
       "  {'channelCityId': '204', 'jp': 'bz', 'name': '亳州', 'py': 'bozhou'},\n",
       "  {'channelCityId': '178',\n",
       "   'jp': 'dxaldq',\n",
       "   'name': '大兴安岭地区',\n",
       "   'py': 'daxinganlingdequ'},\n",
       "  {'channelCityId': '363', 'jp': 'by', 'name': '白银', 'py': 'baiyin'},\n",
       "  {'channelCityId': '371', 'jp': 'ln', 'name': '陇南', 'py': 'longnan'},\n",
       "  {'channelCityId': '163', 'jp': 'ly', 'name': '辽源', 'py': 'liaoyuan'},\n",
       "  {'channelCityId': '321',\n",
       "   'jp': 'lsyzzzz',\n",
       "   'name': '凉山彝族自治州',\n",
       "   'py': 'liangshanyizuzizhizhou'},\n",
       "  {'channelCityId': '367', 'jp': 'pl', 'name': '平凉', 'py': 'pingliang'},\n",
       "  {'channelCityId': '366', 'jp': 'zy', 'name': '张掖', 'py': 'zhangye'},\n",
       "  {'channelCityId': '177', 'jp': 'sh', 'name': '绥化', 'py': 'suihua'},\n",
       "  {'channelCityId': '136', 'jp': 'xz', 'name': '忻州', 'py': 'xinzhou'},\n",
       "  {'channelCityId': '20', 'jp': 'gz', 'name': '广州', 'py': 'guangzhou'},\n",
       "  {'channelCityId': '409', 'jp': 'jyg', 'name': '嘉峪关', 'py': 'jiayuguan'},\n",
       "  {'channelCityId': '218', 'jp': 'ja', 'name': '吉安', 'py': 'jian'},\n",
       "  {'channelCityId': '356', 'jp': 'ya', 'name': '延安', 'py': 'yanan'},\n",
       "  {'channelCityId': '169', 'jp': 'jx', 'name': '鸡西', 'py': 'jixi'},\n",
       "  {'channelCityId': '219', 'jp': 'yc', 'name': '宜春', 'py': 'yichun'},\n",
       "  {'channelCityId': '10', 'jp': 'sh', 'name': '上海', 'py': 'shanghai'},\n",
       "  {'channelCityId': '1', 'jp': 'bj', 'name': '北京', 'py': 'beijing'},\n",
       "  {'channelCityId': '80', 'jp': 'sz', 'name': '苏州', 'py': 'suzhou'},\n",
       "  {'channelCityId': '55', 'jp': 'nj', 'name': '南京', 'py': 'nanjing'},\n",
       "  {'channelCityId': '56', 'jp': 'hf', 'name': '合肥', 'py': 'hefei'},\n",
       "  {'channelCityId': '59', 'jp': 'cd', 'name': '成都', 'py': 'chengdu'},\n",
       "  {'channelCityId': '50', 'jp': 'hz', 'name': '杭州', 'py': 'hangzhou'},\n",
       "  {'channelCityId': '57', 'jp': 'wh', 'name': '武汉', 'py': 'wuhan'},\n",
       "  {'channelCityId': '273', 'jp': 'hh', 'name': '怀化', 'py': 'huaihua'},\n",
       "  {'channelCityId': '83', 'jp': 'nc', 'name': '南昌', 'py': 'nanchang'},\n",
       "  {'channelCityId': '128', 'jp': 'hs', 'name': '衡水', 'py': 'hengshui'},\n",
       "  {'channelCityId': '319',\n",
       "   'jp': 'abczqzzzz',\n",
       "   'name': '阿坝藏族羌族自治州',\n",
       "   'py': 'abacangzuqiangzuzizhizhou'},\n",
       "  {'channelCityId': '364', 'jp': 'ts', 'name': '天水', 'py': 'tianshui'},\n",
       "  {'channelCityId': '159', 'jp': 'tl', 'name': '铁岭', 'py': 'tieling'},\n",
       "  {'channelCityId': '287', 'jp': 'cz', 'name': '潮州', 'py': 'chaozhou'},\n",
       "  {'channelCityId': '288', 'jp': 'jy', 'name': '揭阳', 'py': 'jieyang'},\n",
       "  {'channelCityId': '298', 'jp': 'hz', 'name': '贺州', 'py': 'hezhou'},\n",
       "  {'channelCityId': '271', 'jp': 'cz', 'name': '郴州', 'py': 'chenzhou'},\n",
       "  {'channelCityId': '156', 'jp': 'fx', 'name': '阜新', 'py': 'fuxin'},\n",
       "  {'channelCityId': '285', 'jp': 'yj', 'name': '阳江', 'py': 'yangjiang'},\n",
       "  {'channelCityId': '332', 'jp': 'bs', 'name': '保山', 'py': 'baoshan'},\n",
       "  {'channelCityId': '153', 'jp': 'bx', 'name': '本溪', 'py': 'benxi'},\n",
       "  {'channelCityId': '275',\n",
       "   'jp': 'xxtjzmzzzz',\n",
       "   'name': '湘西土家族苗族自治州',\n",
       "   'py': 'xiangxitujiazumiaozuzizhizhou'},\n",
       "  {'channelCityId': '283', 'jp': 'sw', 'name': '汕尾', 'py': 'shanwei'},\n",
       "  {'channelCityId': '272', 'jp': 'yz', 'name': '永州', 'py': 'yongzhou'},\n",
       "  {'channelCityId': '352', 'jp': 'tc', 'name': '铜川', 'py': 'tongchuan'},\n",
       "  {'channelCityId': '141', 'jp': 'wh', 'name': '乌海', 'py': 'wuhai'},\n",
       "  {'channelCityId': '132', 'jp': 'jc', 'name': '晋城', 'py': 'jincheng'},\n",
       "  {'channelCityId': '135', 'jp': 'yc', 'name': '运城', 'py': 'yuncheng'},\n",
       "  {'channelCityId': '386', 'jp': 'zw', 'name': '中卫', 'py': 'zhongwei'},\n",
       "  {'channelCityId': '383', 'jp': 'szs', 'name': '石嘴山', 'py': 'shizuishan'},\n",
       "  {'channelCityId': '289', 'jp': 'yf', 'name': '云浮', 'py': 'yunfu'},\n",
       "  {'channelCityId': '368', 'jp': 'jq', 'name': '酒泉', 'py': 'jiuquan'},\n",
       "  {'channelCityId': '282', 'jp': 'mz', 'name': '梅州', 'py': 'meizhou'},\n",
       "  {'channelCityId': '195', 'jp': 'hb', 'name': '淮北', 'py': 'huaibei'},\n",
       "  {'channelCityId': '385', 'jp': 'gy', 'name': '固原', 'py': 'guyuan'},\n",
       "  {'channelCityId': '331', 'jp': 'yx', 'name': '玉溪', 'py': 'yuxi'},\n",
       "  {'channelCityId': '130', 'jp': 'yq', 'name': '阳泉', 'py': 'yangquan'},\n",
       "  {'channelCityId': '270', 'jp': 'yy', 'name': '益阳', 'py': 'yiyang'},\n",
       "  {'channelCityId': '284', 'jp': 'hy', 'name': '河源', 'py': 'heyuan'},\n",
       "  {'channelCityId': '276', 'jp': 'sg', 'name': '韶关', 'py': 'shaoguan'},\n",
       "  {'channelCityId': '279', 'jp': 'mm', 'name': '茂名', 'py': 'maoming'},\n",
       "  {'channelCityId': '299', 'jp': 'hc', 'name': '河池', 'py': 'hechi'},\n",
       "  {'channelCityId': '337', 'jp': 'cx', 'name': '楚雄', 'py': 'chuxiong'},\n",
       "  {'channelCityId': '196', 'jp': 'tl', 'name': '铜陵', 'py': 'tongling'},\n",
       "  {'channelCityId': '201', 'jp': 'sz', 'name': '宿州', 'py': 'suzhou'},\n",
       "  {'channelCityId': '73', 'jp': 'zz', 'name': '郑州', 'py': 'zhengzhou'},\n",
       "  {'channelCityId': '99', 'jp': 'nn', 'name': '南宁', 'py': 'nanning'},\n",
       "  {'channelCityId': '42', 'jp': 'xa', 'name': '西安', 'py': 'xian'},\n",
       "  {'channelCityId': '45', 'jp': 'cq', 'name': '重庆', 'py': 'chongqing'},\n",
       "  {'channelCityId': '40', 'jp': 'tj', 'name': '天津', 'py': 'tianjin'},\n",
       "  {'channelCityId': '96', 'jp': 'jn', 'name': '济南', 'py': 'jinan'},\n",
       "  {'channelCityId': '70', 'jp': 'cs', 'name': '长沙', 'py': 'changsha'},\n",
       "  {'channelCityId': '44', 'jp': 'fz', 'name': '福州', 'py': 'fuzhou'},\n",
       "  {'channelCityId': '30', 'jp': 'sz', 'name': '深圳', 'py': 'shenzhen'},\n",
       "  {'channelCityId': '239', 'jp': 'hb', 'name': '鹤壁', 'py': 'hebi'},\n",
       "  {'channelCityId': '571', 'jp': 'dz', 'name': '儋州', 'py': 'danzhou'},\n",
       "  {'channelCityId': '391', 'jp': 'cj', 'name': '昌吉', 'py': 'changji'},\n",
       "  {'channelCityId': '335', 'jp': 'pe', 'name': '普洱', 'py': 'puer'},\n",
       "  {'channelCityId': '550', 'jp': 'qj', 'name': '潜江', 'py': 'qianjiang'},\n",
       "  {'channelCityId': '369', 'jp': 'qy', 'name': '庆阳', 'py': 'qingyang'},\n",
       "  {'channelCityId': '133', 'jp': 'sz', 'name': '朔州', 'py': 'shuozhou'},\n",
       "  {'channelCityId': '408', 'jp': 'shz', 'name': '石河子', 'py': 'shihezi'},\n",
       "  {'channelCityId': '578', 'jp': 'tm', 'name': '天门', 'py': 'tianmen'},\n",
       "  {'channelCityId': '680', 'jp': 'wn', 'name': '万宁', 'py': 'wanning'},\n",
       "  {'channelCityId': '607', 'jp': 'wc', 'name': '文昌', 'py': 'wenchang'},\n",
       "  {'channelCityId': '412', 'jp': 'xt', 'name': '仙桃', 'py': 'xiantao'},\n",
       "  {'channelCityId': '149',\n",
       "   'jp': 'xlglm',\n",
       "   'name': '锡林郭勒盟',\n",
       "   'py': 'xilinguoleimeng'},\n",
       "  {'channelCityId': '507', 'jp': 'qf', 'name': '曲阜', 'py': 'qufu'},\n",
       "  {'channelCityId': '119', 'jp': 'xz', 'name': '徐州', 'py': 'xuzhou'},\n",
       "  {'channelCityId': '197', 'jp': 'aq', 'name': '安庆', 'py': 'anqing'},\n",
       "  {'channelCityId': '167', 'jp': 'bc', 'name': '白城', 'py': 'baicheng'},\n",
       "  {'channelCityId': '233', 'jp': 'bz', 'name': '滨州', 'py': 'binzhou'},\n",
       "  {'channelCityId': '127', 'jp': 'cz', 'name': '沧州', 'py': 'cangzhou'},\n",
       "  {'channelCityId': '116', 'jp': 'cc', 'name': '长春', 'py': 'changchun'},\n",
       "  {'channelCityId': '89', 'jp': 'cz', 'name': '常州', 'py': 'changzhou'},\n",
       "  {'channelCityId': '160', 'jp': 'cy', 'name': '朝阳', 'py': 'chaoyang'},\n",
       "  {'channelCityId': '231', 'jp': 'dz', 'name': '德州', 'py': 'dezhou'},\n",
       "  {'channelCityId': '65', 'jp': 'dl', 'name': '大连', 'py': 'dalian'},\n",
       "  {'channelCityId': '370', 'jp': 'dx', 'name': '定西', 'py': 'dingxi'},\n",
       "  {'channelCityId': '91', 'jp': 'dg', 'name': '东莞', 'py': 'dongguan'},\n",
       "  {'channelCityId': '223', 'jp': 'dy', 'name': '东营', 'py': 'dongying'},\n",
       "  {'channelCityId': '92', 'jp': 'fs', 'name': '佛山', 'py': 'foshan'},\n",
       "  {'channelCityId': '373',\n",
       "   'jp': 'gnczzzz',\n",
       "   'name': '甘南藏族自治州',\n",
       "   'py': 'gannancangzuzizhizhou'},\n",
       "  {'channelCityId': '107', 'jp': 'gy', 'name': '贵阳', 'py': 'guiyang'},\n",
       "  {'channelCityId': '93', 'jp': 'gl', 'name': '桂林', 'py': 'guilin'},\n",
       "  {'channelCityId': '94', 'jp': 'hk', 'name': '海口', 'py': 'haikou'},\n",
       "  {'channelCityId': '105', 'jp': 'heb', 'name': '哈尔滨', 'py': 'haerbin'},\n",
       "  {'channelCityId': '390', 'jp': 'hmdq', 'name': '哈密地区', 'py': 'hamidequ'},\n",
       "  {'channelCityId': '176', 'jp': 'hh', 'name': '黑河', 'py': 'heihe'},\n",
       "  {'channelCityId': '193', 'jp': 'hn', 'name': '淮南', 'py': 'huainan'},\n",
       "  {'channelCityId': '180', 'jp': 'ha', 'name': '淮安', 'py': 'huaian'},\n",
       "  {'channelCityId': '139', 'jp': 'hhht', 'name': '呼和浩特', 'py': 'huhehaote'},\n",
       "  {'channelCityId': '281', 'jp': 'hz', 'name': '惠州', 'py': 'huizhou'},\n",
       "  {'channelCityId': '186', 'jp': 'hz', 'name': '湖州', 'py': 'huzhou'},\n",
       "  {'channelCityId': '145', 'jp': 'hlbe', 'name': '呼伦贝尔', 'py': 'hulunbeier'},\n",
       "  {'channelCityId': '277', 'jp': 'jm', 'name': '江门', 'py': 'jiangmen'},\n",
       "  {'channelCityId': '185', 'jp': 'jx', 'name': '嘉兴', 'py': 'jiaxing'},\n",
       "  {'channelCityId': '161', 'jp': 'jl', 'name': '吉林', 'py': 'jilin'},\n",
       "  {'channelCityId': '362', 'jp': 'jc', 'name': '金昌', 'py': 'jinchang'},\n",
       "  {'channelCityId': '213', 'jp': 'jdz', 'name': '景德镇', 'py': 'jingdezhen'},\n",
       "  {'channelCityId': '225', 'jp': 'jn', 'name': '济宁', 'py': 'jining'},\n",
       "  {'channelCityId': '188', 'jp': 'jh', 'name': '金华', 'py': 'jinhua'},\n",
       "  {'channelCityId': '388', 'jp': 'klmy', 'name': '克拉玛依', 'py': 'kelamayi'},\n",
       "  {'channelCityId': '114', 'jp': 'km', 'name': '昆明', 'py': 'kunming'},\n",
       "  {'channelCityId': '361', 'jp': 'lz', 'name': '兰州', 'py': 'lanzhou'},\n",
       "  {'channelCityId': '106', 'jp': 'lf', 'name': '廊坊', 'py': 'langfang'},\n",
       "  {'channelCityId': '179', 'jp': 'lyg', 'name': '连云港', 'py': 'lianyungang'},\n",
       "  {'channelCityId': '232', 'jp': 'lc', 'name': '聊城', 'py': 'liaocheng'},\n",
       "  {'channelCityId': '336', 'jp': 'lc', 'name': '临沧', 'py': 'lincang'},\n",
       "  {'channelCityId': '230', 'jp': 'ly', 'name': '临沂', 'py': 'linyi'},\n",
       "  {'channelCityId': '192', 'jp': 'ls', 'name': '丽水', 'py': 'lishui'},\n",
       "  {'channelCityId': '236', 'jp': 'ly', 'name': '洛阳', 'py': 'luoyang'},\n",
       "  {'channelCityId': '175', 'jp': 'mdj', 'name': '牡丹江', 'py': 'mudanjiang'},\n",
       "  {'channelCityId': '194', 'jp': 'mas', 'name': '马鞍山', 'py': 'maanshan'},\n",
       "  {'channelCityId': '82', 'jp': 'nt', 'name': '南通', 'py': 'nantong'},\n",
       "  {'channelCityId': '51', 'jp': 'nb', 'name': '宁波', 'py': 'ningbo'},\n",
       "  {'channelCityId': '328',\n",
       "   'jp': 'qdnmzdzzzz',\n",
       "   'name': '黔东南苗族侗族自治州',\n",
       "   'py': 'qiandongnanmiaozudongzuzizhizhou'},\n",
       "  {'channelCityId': '60', 'jp': 'qd', 'name': '青岛', 'py': 'qingdao'},\n",
       "  {'channelCityId': '286', 'jp': 'qy', 'name': '清远', 'py': 'qingyuan'},\n",
       "  {'channelCityId': '122', 'jp': 'qhd', 'name': '秦皇岛', 'py': 'qinhuangdao'},\n",
       "  {'channelCityId': '110', 'jp': 'qz', 'name': '泉州', 'py': 'quanzhou'},\n",
       "  {'channelCityId': '189', 'jp': 'qz', 'name': '衢州', 'py': 'quzhou'},\n",
       "  {'channelCityId': '111', 'jp': 'sy', 'name': '三亚', 'py': 'sanya'},\n",
       "  {'channelCityId': '228', 'jp': 'rz', 'name': '日照', 'py': 'rizhao'},\n",
       "  {'channelCityId': '187', 'jp': 'sx', 'name': '绍兴', 'py': 'shaoxing'},\n",
       "  {'channelCityId': '76', 'jp': 'sjz', 'name': '石家庄', 'py': 'shijiazhuang'},\n",
       "  {'channelCityId': '66', 'jp': 'sy', 'name': '沈阳', 'py': 'shenyang'},\n",
       "  {'channelCityId': '184', 'jp': 'sq', 'name': '宿迁', 'py': 'suqian'},\n",
       "  {'channelCityId': '399', 'jp': 'tc', 'name': '塔城', 'py': 'tacheng'},\n",
       "  {'channelCityId': '226', 'jp': 'ta', 'name': '泰安', 'py': 'taian'},\n",
       "  {'channelCityId': '101', 'jp': 'ty', 'name': '太原', 'py': 'taiyuan'},\n",
       "  {'channelCityId': '191', 'jp': 'tz', 'name': '台州', 'py': 'taizhou'},\n",
       "  {'channelCityId': '121', 'jp': 'ts', 'name': '唐山', 'py': 'tangshan'},\n",
       "  {'channelCityId': '183', 'jp': 'tz', 'name': '泰州', 'py': 'taizhou'},\n",
       "  {'channelCityId': '224', 'jp': 'wf', 'name': '潍坊', 'py': 'weifang'},\n",
       "  {'channelCityId': '227', 'jp': 'wh', 'name': '威海', 'py': 'weihai'},\n",
       "  {'channelCityId': '112', 'jp': 'wz', 'name': '温州', 'py': 'wenzhou'},\n",
       "  {'channelCityId': '102', 'jp': 'wh', 'name': '芜湖', 'py': 'wuhu'},\n",
       "  {'channelCityId': '387', 'jp': 'wlmq', 'name': '乌鲁木齐', 'py': 'wulumuqi'},\n",
       "  {'channelCityId': '365', 'jp': 'ww', 'name': '武威', 'py': 'wuwei'},\n",
       "  {'channelCityId': '52', 'jp': 'wx', 'name': '无锡', 'py': 'wuxi'},\n",
       "  {'channelCityId': '354', 'jp': 'xy', 'name': '咸阳', 'py': 'xianyang'},\n",
       "  {'channelCityId': '62', 'jp': 'sm', 'name': '厦门', 'py': 'xiamen'},\n",
       "  {'channelCityId': '181', 'jp': 'yc', 'name': '盐城', 'py': 'yancheng'},\n",
       "  {'channelCityId': '374', 'jp': 'xn', 'name': '西宁', 'py': 'xining'},\n",
       "  {'channelCityId': '398', 'jp': 'yl', 'name': '伊犁', 'py': 'yili'},\n",
       "  {'channelCityId': '104', 'jp': 'yt', 'name': '烟台', 'py': 'yantai'},\n",
       "  {'channelCityId': '120', 'jp': 'yz', 'name': '扬州', 'py': 'yangzhou'},\n",
       "  {'channelCityId': '382', 'jp': 'yc', 'name': '银川', 'py': 'yinchuan'},\n",
       "  {'channelCityId': '280', 'jp': 'zq', 'name': '肇庆', 'py': 'zhaoqing'},\n",
       "  {'channelCityId': '333', 'jp': 'zt', 'name': '昭通', 'py': 'zhaotong'},\n",
       "  {'channelCityId': '182', 'jp': 'zj', 'name': '镇江', 'py': 'zhenjiang'},\n",
       "  {'channelCityId': '113', 'jp': 'zs', 'name': '中山', 'py': 'zhongshan'},\n",
       "  {'channelCityId': '190', 'jp': 'zs', 'name': '舟山', 'py': 'zhoushan'},\n",
       "  {'channelCityId': '108', 'jp': 'zh', 'name': '珠海', 'py': 'zhuhai'},\n",
       "  {'channelCityId': '81', 'jp': 'zb', 'name': '淄博', 'py': 'zibo'},\n",
       "  {'channelCityId': '151', 'jp': 'as', 'name': '鞍山', 'py': 'anshan'},\n",
       "  {'channelCityId': '240', 'jp': 'py', 'name': '濮阳', 'py': 'puyang'},\n",
       "  {'channelCityId': '301', 'jp': 'cz', 'name': '崇左', 'py': 'chongzuo'},\n",
       "  {'channelCityId': '138', 'jp': 'll', 'name': '吕梁', 'py': 'lvliang'},\n",
       "  {'channelCityId': '172', 'jp': 'yc', 'name': '伊春', 'py': 'yichun'},\n",
       "  {'channelCityId': '300', 'jp': 'lb', 'name': '来宾', 'py': 'laibin'},\n",
       "  {'channelCityId': '157', 'jp': 'ly', 'name': '辽阳', 'py': 'liaoyang'},\n",
       "  {'channelCityId': '144', 'jp': 'eeds', 'name': '鄂尔多斯', 'py': 'eerduosi'},\n",
       "  {'channelCityId': '222', 'jp': 'zz', 'name': '枣庄', 'py': 'zaozhuang'},\n",
       "  {'channelCityId': '88', 'jp': 'bb', 'name': '蚌埠', 'py': 'bangbu'},\n",
       "  {'channelCityId': '165', 'jp': 'bs', 'name': '白山', 'py': 'baishan'},\n",
       "  {'channelCityId': '84', 'jp': 'bd', 'name': '保定', 'py': 'baoding'},\n",
       "  {'channelCityId': '353', 'jp': 'bj', 'name': '宝鸡', 'py': 'baoji'},\n",
       "  {'channelCityId': '292', 'jp': 'bh', 'name': '北海', 'py': 'beihai'},\n",
       "  {'channelCityId': '140', 'jp': 'bt', 'name': '包头', 'py': 'baotou'},\n",
       "  {'channelCityId': '126', 'jp': 'cd', 'name': '承德', 'py': 'chengde'},\n",
       "  {'channelCityId': '199', 'jp': 'cz', 'name': '滁州', 'py': 'chuzhou'},\n",
       "  {'channelCityId': '142', 'jp': 'cf', 'name': '赤峰', 'py': 'chifeng'},\n",
       "  {'channelCityId': '154', 'jp': 'dd', 'name': '丹东', 'py': 'dandong'},\n",
       "  {'channelCityId': '341',\n",
       "   'jp': 'dlbzzzz',\n",
       "   'name': '大理白族自治州',\n",
       "   'py': 'dalibaizuzizhizhou'},\n",
       "  {'channelCityId': '90', 'jp': 'dq', 'name': '大庆', 'py': 'daqing'},\n",
       "  {'channelCityId': '129', 'jp': 'dt', 'name': '大同', 'py': 'datong'},\n",
       "  {'channelCityId': '305', 'jp': 'dy', 'name': '德阳', 'py': 'deyang'},\n",
       "  {'channelCityId': '315', 'jp': 'dz', 'name': '达州', 'py': 'dazhou'},\n",
       "  {'channelCityId': '254', 'jp': 'ez', 'name': '鄂州', 'py': 'ezhou'},\n",
       "  {'channelCityId': '293', 'jp': 'fcg', 'name': '防城港', 'py': 'fangchenggang'},\n",
       "  {'channelCityId': '217', 'jp': 'gz', 'name': '赣州', 'py': 'ganzhou'},\n",
       "  {'channelCityId': '220', 'jp': 'fz', 'name': '抚州', 'py': 'fuzhou'},\n",
       "  {'channelCityId': '234', 'jp': 'hz', 'name': '菏泽', 'py': 'heze'},\n",
       "  {'channelCityId': '307', 'jp': 'gy', 'name': '广元', 'py': 'guangyuan'},\n",
       "  {'channelCityId': '123', 'jp': 'hd', 'name': '邯郸', 'py': 'handan'},\n",
       "  {'channelCityId': '258', 'jp': 'hg', 'name': '黄冈', 'py': 'huanggang'},\n",
       "  {'channelCityId': '338',\n",
       "   'jp': 'hhhnzyzzzz',\n",
       "   'name': '红河哈尼族彝族自治州',\n",
       "   'py': 'honghehanizuyizuzizhizhou'},\n",
       "  {'channelCityId': '250', 'jp': 'hs', 'name': '黄石', 'py': 'huangshi'},\n",
       "  {'channelCityId': '198', 'jp': 'hs', 'name': '黄山', 'py': 'huangshan'},\n",
       "  {'channelCityId': '95', 'jp': 'hld', 'name': '葫芦岛', 'py': 'huludao'},\n",
       "  {'channelCityId': '97', 'jp': 'jz', 'name': '焦作', 'py': 'jiaozuo'},\n",
       "  {'channelCityId': '98', 'jp': 'jz', 'name': '锦州', 'py': 'jinzhou'},\n",
       "  {'channelCityId': '257', 'jp': 'jz', 'name': '荆州', 'py': 'jingzhou'},\n",
       "  {'channelCityId': '229', 'jp': 'lw', 'name': '莱芜', 'py': 'laiwu'},\n",
       "  {'channelCityId': '115', 'jp': 'jj', 'name': '九江', 'py': 'jiujiang'},\n",
       "  {'channelCityId': '310', 'jp': 'ls', 'name': '乐山', 'py': 'leshan'},\n",
       "  {'channelCityId': '334', 'jp': 'lj', 'name': '丽江', 'py': 'lijiang'},\n",
       "  {'channelCityId': '203', 'jp': 'la', 'name': '六安', 'py': 'liuan'},\n",
       "  {'channelCityId': '290', 'jp': 'lz', 'name': '柳州', 'py': 'liuzhou'},\n",
       "  {'channelCityId': '322', 'jp': 'lps', 'name': '六盘水', 'py': 'liupanshui'},\n",
       "  {'channelCityId': '274', 'jp': 'ld', 'name': '娄底', 'py': 'loudi'},\n",
       "  {'channelCityId': '211', 'jp': 'ly', 'name': '龙岩', 'py': 'longyan'},\n",
       "  {'channelCityId': '304', 'jp': 'lz', 'name': '泸州', 'py': 'luzhou'},\n",
       "  {'channelCityId': '306', 'jp': 'my', 'name': '绵阳', 'py': 'mianyang'},\n",
       "  {'channelCityId': '312', 'jp': 'ms', 'name': '眉山', 'py': 'meishan'},\n",
       "  {'channelCityId': '311', 'jp': 'nc', 'name': '南充', 'py': 'nanchong'},\n",
       "  {'channelCityId': '244', 'jp': 'ny', 'name': '南阳', 'py': 'nanyang'},\n",
       "  {'channelCityId': '158', 'jp': 'pj', 'name': '盘锦', 'py': 'panjin'},\n",
       "  {'channelCityId': '303', 'jp': 'pzh', 'name': '攀枝花', 'py': 'panzhihua'},\n",
       "  {'channelCityId': '212', 'jp': 'nd', 'name': '宁德', 'py': 'ningde'},\n",
       "  {'channelCityId': '237', 'jp': 'pds', 'name': '平顶山', 'py': 'pingdingshan'},\n",
       "  {'channelCityId': '214', 'jp': 'px', 'name': '萍乡', 'py': 'pingxiang'},\n",
       "  {'channelCityId': '329',\n",
       "   'jp': 'qnbyzmzzzz',\n",
       "   'name': '黔南布依族苗族自治州',\n",
       "   'py': 'qiannanbuyizumiaozuzizhizhou'},\n",
       "  {'channelCityId': '207', 'jp': 'pt', 'name': '莆田', 'py': 'putian'},\n",
       "  {'channelCityId': '326',\n",
       "   'jp': 'qxnbyzmzzzz',\n",
       "   'name': '黔西南布依族苗族自治州',\n",
       "   'py': 'qianxinanbuyizumiaozuzizhizhou'},\n",
       "  {'channelCityId': '330', 'jp': 'qj', 'name': '曲靖', 'py': 'qujing'},\n",
       "  {'channelCityId': '109', 'jp': 'qqhe', 'name': '齐齐哈尔', 'py': 'qiqihaer'},\n",
       "  {'channelCityId': '208', 'jp': 'sm', 'name': '三明', 'py': 'sanming'},\n",
       "  {'channelCityId': '251', 'jp': 'sy', 'name': '十堰', 'py': 'shiyan'},\n",
       "  {'channelCityId': '117', 'jp': 'st', 'name': '汕头', 'py': 'shantou'},\n",
       "  {'channelCityId': '355', 'jp': 'wn', 'name': '渭南', 'py': 'weinan'},\n",
       "  {'channelCityId': '147', 'jp': 'wlcb', 'name': '乌兰察布', 'py': 'wulanchabu'},\n",
       "  {'channelCityId': '256', 'jp': 'xg', 'name': '孝感', 'py': 'xiaogan'},\n",
       "  {'channelCityId': '103', 'jp': 'xx', 'name': '新乡', 'py': 'xinxiang'},\n",
       "  {'channelCityId': '259', 'jp': 'xn', 'name': '咸宁', 'py': 'xianning'},\n",
       "  {'channelCityId': '241', 'jp': 'xc', 'name': '许昌', 'py': 'xuchang'},\n",
       "  {'channelCityId': '168', 'jp': 'yb', 'name': '延边', 'py': 'yanbian'},\n",
       "  {'channelCityId': '252', 'jp': 'yc', 'name': '宜昌', 'py': 'yichang'},\n",
       "  {'channelCityId': '313', 'jp': 'yb', 'name': '宜宾', 'py': 'yibin'},\n",
       "  {'channelCityId': '155', 'jp': 'yk', 'name': '营口', 'py': 'yingkou'},\n",
       "  {'channelCityId': '216', 'jp': 'yt', 'name': '鹰潭', 'py': 'yingtan'},\n",
       "  {'channelCityId': '358', 'jp': 'yl', 'name': '榆林', 'py': 'yulin'},\n",
       "  {'channelCityId': '267', 'jp': 'yy', 'name': '岳阳', 'py': 'yueyang'},\n",
       "  {'channelCityId': '209', 'jp': 'zz', 'name': '漳州', 'py': 'zhangzhou'},\n",
       "  {'channelCityId': '125', 'jp': 'zjk', 'name': '张家口', 'py': 'zhangjiakou'},\n",
       "  {'channelCityId': '278', 'jp': 'zj', 'name': '湛江', 'py': 'zhanjiang'},\n",
       "  {'channelCityId': '248', 'jp': 'zmd', 'name': '驻马店', 'py': 'zhumadian'},\n",
       "  {'channelCityId': '302', 'jp': 'zg', 'name': '自贡', 'py': 'zigong'},\n",
       "  {'channelCityId': '323', 'jp': 'zy', 'name': '遵义', 'py': 'zunyi'},\n",
       "  {'channelCityId': '263', 'jp': 'zz', 'name': '株洲', 'py': 'zhuzhou'},\n",
       "  {'channelCityId': '324', 'jp': 'as', 'name': '安顺', 'py': 'anshun'},\n",
       "  {'channelCityId': '205', 'jp': 'cz', 'name': '池州', 'py': 'chizhou'},\n",
       "  {'channelCityId': '210', 'jp': 'np', 'name': '南平', 'py': 'nanping'},\n",
       "  {'channelCityId': '200', 'jp': 'fy', 'name': '阜阳', 'py': 'fuyang'},\n",
       "  {'channelCityId': '297', 'jp': 'bs', 'name': '百色', 'py': 'baise'},\n",
       "  {'channelCityId': '295', 'jp': 'gg', 'name': '贵港', 'py': 'guigang'},\n",
       "  {'channelCityId': '418', 'jp': 'qh', 'name': '琼海', 'py': 'qionghai'},\n",
       "  {'channelCityId': '296', 'jp': 'yl', 'name': '玉林', 'py': 'yulin'},\n",
       "  {'channelCityId': '238', 'jp': 'ay', 'name': '安阳', 'py': 'anyang'},\n",
       "  {'channelCityId': '124', 'jp': 'xt', 'name': '邢台', 'py': 'xingtai'},\n",
       "  {'channelCityId': '235', 'jp': 'kf', 'name': '开封', 'py': 'kaifeng'},\n",
       "  {'channelCityId': '243', 'jp': 'smx', 'name': '三门峡', 'py': 'sanmenxia'},\n",
       "  {'channelCityId': '246', 'jp': 'xy', 'name': '信阳', 'py': 'xinyang'},\n",
       "  {'channelCityId': '245', 'jp': 'sq', 'name': '商丘', 'py': 'shangqiu'},\n",
       "  {'channelCityId': '247', 'jp': 'zk', 'name': '周口', 'py': 'zhoukou'},\n",
       "  {'channelCityId': '242', 'jp': 'th', 'name': '漯河', 'py': 'tahe'},\n",
       "  {'channelCityId': '255', 'jp': 'jm', 'name': '荆门', 'py': 'jingmen'},\n",
       "  {'channelCityId': '260', 'jp': 'sz', 'name': '随州', 'py': 'suizhou'},\n",
       "  {'channelCityId': '269', 'jp': 'zjj', 'name': '张家界', 'py': 'zhangjiajie'},\n",
       "  {'channelCityId': '265', 'jp': 'hy', 'name': '衡阳', 'py': 'hengyang'},\n",
       "  {'channelCityId': '268', 'jp': 'cd', 'name': '常德', 'py': 'changde'},\n",
       "  {'channelCityId': '264', 'jp': 'xt', 'name': '湘潭', 'py': 'xiangtan'},\n",
       "  {'channelCityId': '162', 'jp': 'sp', 'name': '四平', 'py': 'siping'},\n",
       "  {'channelCityId': '221', 'jp': 'sr', 'name': '上饶', 'py': 'shangrao'},\n",
       "  {'channelCityId': '164', 'jp': 'th', 'name': '通化', 'py': 'tonghua'},\n",
       "  {'channelCityId': '152', 'jp': 'fs', 'name': '抚顺', 'py': 'fushun'},\n",
       "  {'channelCityId': '146', 'jp': 'byne', 'name': '巴彦淖尔', 'py': 'bayannaoer'},\n",
       "  {'channelCityId': '131', 'jp': 'zz', 'name': '长治', 'py': 'zhangzhi'},\n",
       "  {'channelCityId': '381',\n",
       "   'jp': 'hxmgzczzzz',\n",
       "   'name': '海西蒙古族藏族自治州',\n",
       "   'py': 'haiximengguzucangzuzizhizhou'},\n",
       "  {'channelCityId': '137', 'jp': 'lf', 'name': '临汾', 'py': 'linfen'},\n",
       "  {'channelCityId': '314', 'jp': 'ga', 'name': '广安', 'py': 'guangan'},\n",
       "  {'channelCityId': '345', 'jp': 'ls', 'name': '拉萨', 'py': 'lasa'},\n",
       "  {'channelCityId': '357', 'jp': 'hz', 'name': '汉中', 'py': 'hanzhong'},\n",
       "  {'channelCityId': '318', 'jp': 'zy', 'name': '资阳', 'py': 'ziyang'},\n",
       "  {'channelCityId': '317', 'jp': 'bz', 'name': '巴中', 'py': 'bazhong'},\n",
       "  {'channelCityId': '339',\n",
       "   'jp': 'wszzmzzzz',\n",
       "   'name': '文山壮族苗族自治州',\n",
       "   'py': 'wenshanzhuangzumiaozuzizhizhou'},\n",
       "  {'channelCityId': '294', 'jp': 'qz', 'name': '钦州', 'py': 'qinzhou'},\n",
       "  {'channelCityId': '340',\n",
       "   'jp': 'xsbndzzzz',\n",
       "   'name': '西双版纳傣族自治州',\n",
       "   'py': 'xishuangbannadaizuzizhizhou'},\n",
       "  {'channelCityId': '359', 'jp': 'ak', 'name': '安康', 'py': 'ankang'}],\n",
       " 'message': 'OK'}"
      ]
     },
     "execution_count": 2,
     "metadata": {},
     "output_type": "execute_result"
    }
   ],
   "source": [
    "# %%timeit\n",
    "#citys\n",
    "resp=requests.get(\"http://lb01.localdomain:8024/query/citys/dianying/maoyan\").json()\n",
    "resp\n",
    "# with open(\"kou_citys.json\",'w') as f:\n",
    "#     json.dump(resp['data'],f,indent=2,ensure_ascii=False)"
   ]
  },
  {
   "cell_type": "code",
   "execution_count": 28,
   "metadata": {},
   "outputs": [
    {
     "name": "stdout",
     "output_type": "stream",
     "text": [
      "17.2 ms ± 1.46 ms per loop (mean ± std. dev. of 7 runs, 100 loops each)\n"
     ]
    }
   ],
   "source": [
    "%%timeit\n",
    "url=\"http://192.168.2.6:8010/operation/query/cache_jipiao\"\n",
    "body={\"filter\":{\"route\":\"SHA-CGO-2018-03-01\"}}\n",
    "resp=requests.post(url,json=body).json()\n",
    "resp"
   ]
  },
  {
   "cell_type": "code",
   "execution_count": null,
   "metadata": {
    "scrolled": false
   },
   "outputs": [],
   "source": [
    "url='http://consul.localdomain:8500/v1/kv/dev/session?raw'\n",
    "resp = requests.get(url,params={'index': 306315, 'wait': '5s'},headers={'Content-Type':'application/json'})\n",
    "resp.headers,resp.json()"
   ]
  },
  {
   "cell_type": "code",
   "execution_count": null,
   "metadata": {
    "scrolled": false
   },
   "outputs": [],
   "source": [
    "resp.headers['Content-Type'] = 'application/json'\n",
    "resp.headers"
   ]
  },
  {
   "cell_type": "code",
   "execution_count": null,
   "metadata": {
    "scrolled": false
   },
   "outputs": [],
   "source": [
    "resp=requests.post(\"http://192.168.1.39:8015/query_cinemas\").json()\n",
    "len(resp['data'])"
   ]
  },
  {
   "cell_type": "code",
   "execution_count": null,
   "metadata": {
    "scrolled": false
   },
   "outputs": [],
   "source": [
    "print(json.dumps(resp['data'][0],indent=4,ensure_ascii=False))"
   ]
  },
  {
   "cell_type": "code",
   "execution_count": null,
   "metadata": {
    "scrolled": false
   },
   "outputs": [],
   "source": [
    "import time\n",
    "start=time.time()\n",
    "resp=requests.post(\"http://192.168.1.39:8015/query_the_list_of_show\",json={\"cinemaId\":24341}).json()\n",
    "# resp\n",
    "print(time.time()-start)"
   ]
  },
  {
   "cell_type": "code",
   "execution_count": null,
   "metadata": {
    "scrolled": false
   },
   "outputs": [],
   "source": [
    "r=requests.request(method='GET',url='http://192.168.0.5:31031/dengjifuwu/v1/readcheckindatas',params={'ttt':'222'},data={'aa':11})\n",
    "r.status_code"
   ]
  },
  {
   "cell_type": "code",
   "execution_count": null,
   "metadata": {
    "scrolled": false
   },
   "outputs": [],
   "source": [
    "body={'id': 'bl002023504347282', 'partnerId': '18214731', 'channel': 'yl'}\n",
    "post_url=\"http://192.168.0.5:31011/piaowu/callback/yl/order/update\"\n",
    "requests.post(url=post_url,data=body,params=None).json()"
   ]
  },
  {
   "cell_type": "code",
   "execution_count": null,
   "metadata": {
    "scrolled": false
   },
   "outputs": [],
   "source": [
    "# %%timeit\n",
    "import requests\n",
    "import json\n",
    "import re\n",
    "payload={ 'cityId':'50' }\n",
    "\n",
    "url=\"http://lb01.localdomain:8024/query/maoyan/cinema_list\"\n",
    "resp=requests.post(url=url,data=json.dumps(payload)).json()\n",
    "resp"
   ]
  },
  {
   "cell_type": "code",
   "execution_count": null,
   "metadata": {
    "scrolled": false
   },
   "outputs": [],
   "source": [
    "# %%timeit\n",
    "url=\"http://192.168.0.6:8024/query/maoyan/hot_movie_list?cityId=50\"\n",
    "resp = requests.get(url).json()"
   ]
  },
  {
   "cell_type": "code",
   "execution_count": null,
   "metadata": {},
   "outputs": [],
   "source": [
    "url=\"http://192.168.0.6:8024/query/kaola/shopping/cart\"\n",
    "data={\"query\":[\n",
    "    {\n",
    "        \"goodsId\": 15928264,\n",
    "        \"skuId\": [\"15928264-88971fe79fba958fc151a190dca3544b\", \"1234-woeknsd\"]\n",
    "    },\n",
    "    {\n",
    "        \"goodsId\": 1234,\n",
    "        \"skuId\": [\"1234-alfjald\", \"1234-woeknsd\"]\n",
    "    }\n",
    "]}\n",
    "resp = requests.post(url,json=data).json()\n",
    "print(resp)"
   ]
  },
  {
   "cell_type": "code",
   "execution_count": 4,
   "metadata": {
    "scrolled": false
   },
   "outputs": [
    {
     "data": {
      "text/plain": [
       "{'code': 0, 'data': [], 'message': '60b6a347f90cd1ac3132a3c81faf6ac7'}"
      ]
     },
     "execution_count": 4,
     "metadata": {},
     "output_type": "execute_result"
    }
   ],
   "source": [
    "# %%timeit\n",
    "# mongo_rest\n",
    "# payload={'method': 'findOne', 'query': {'appCode': 'me', 'channel': 'ofpay'}}\n",
    "# url=\"http://192.168.0.6:8024/mongodb_query/huafei_config\"\n",
    "\n",
    "# {\n",
    "#     'method': 'find', \n",
    "#     'query': {\n",
    "#         'price': {'$gt': 0}, \n",
    "#         'cityCode': '32', \n",
    "#         'location': {'$nearSphere': {'$geometry': {'type': 'Point', 'coordinates': [121.44765110878535, 23.136440813977664]}, '$minDistance': 0, '$maxDistance': 50000}}}, 'skip': 0, 'limit': 20}\n",
    "payload={\n",
    "    'method': 'find', \n",
    "    'query': {\n",
    "        'price': {'$gt': 0}, \n",
    "        'cityCode': '32', \n",
    "        'location': {\n",
    "            '$nearSphere': {\n",
    "                '$geometry': {\n",
    "                    'type': 'Point', \n",
    "                    'coordinates': [121.44765110878535, 23.136440813977664]\n",
    "                }, \n",
    "                '$minDistance': 0, \n",
    "                '$maxDistance': 50000\n",
    "            }\n",
    "        }\n",
    "    }, \n",
    "    'skip': 20, \n",
    "    'limit': 10\n",
    "}\n",
    "url=\"http://lb01.localdomain:8024/mongodb_query/jiudian_hotels\"\n",
    "\n",
    "resp=requests.post(url=url,data=json.dumps(payload)).json()\n",
    "# len(resp['data'])\n",
    "resp"
   ]
  },
  {
   "cell_type": "code",
   "execution_count": 30,
   "metadata": {},
   "outputs": [],
   "source": [
    "payload={'method': 'find', 'query': {'serverType':1}}\n",
    "# huafei_config', {'method': 'findOne', 'query': {'appCode': '91ala', 'channel': 'ofpay'}}\n",
    "url=\"http://lb01.localdomain:8024/mongodb_query/huangbaoche_city_msg\"\n",
    "resp=requests.post(url=url,data=json.dumps(payload)).json()\n",
    "# resp"
   ]
  },
  {
   "cell_type": "code",
   "execution_count": 26,
   "metadata": {},
   "outputs": [],
   "source": [
    "payload={'method': 'findOne', 'query': {'appCode': '91ala', 'channel': 'ofpay'}}\n",
    "# huafei_config', {'method': 'findOne', 'query': {'appCode': '91ala', 'channel': 'ofpay'}}\n",
    "url=\"http://lb01.localdomain:8024/mongodb_query/huafei_config\"\n",
    "\n",
    "resp=requests.post(url=url,data=json.dumps(payload)).json()"
   ]
  },
  {
   "cell_type": "code",
   "execution_count": 1,
   "metadata": {
    "scrolled": false
   },
   "outputs": [
    {
     "data": {
      "text/plain": [
       "{'code': 0, 'key': 'cache:menpiao_scenic', 'message': 'delete is OK'}"
      ]
     },
     "execution_count": 1,
     "metadata": {},
     "output_type": "execute_result"
    }
   ],
   "source": [
    "#删除缓存\n",
    "import requests\n",
    "requests.get(\"http://lb01.localdomain:8024/mongodb_query/delete/menpiao_scenic\").json()"
   ]
  },
  {
   "cell_type": "code",
   "execution_count": 58,
   "metadata": {},
   "outputs": [
    {
     "name": "stdout",
     "output_type": "stream",
     "text": [
      "{'code': 0,\n",
      " 'data': ['迪奥-auto-2016071210192729哈哈~~~',\n",
      "          'cctest11',\n",
      "          '呼吸-auto-20161015152638407',\n",
      "          '雅婷测试活动-auto-20161022150115505',\n",
      "          '酥饼-auto-20160829114802534',\n",
      "          '风头-auto-20160829114834313',\n",
      "          'Dior-莫兮自动化【勿动】',\n",
      "          '蜂巢供应链华东仓品牌-auto-20161103160459254',\n",
      "          '组团购品牌-auto-20161025152510072',\n",
      "          '同仁堂',\n",
      "          '雅培哈哈哈',\n",
      "          'xubin测试品牌2-auto-20170331162736019',\n",
      "          '宁波亚马逊保税仓263-auto-20161109113436365'],\n",
      " 'message': 'a244c46a84458e03d082279672646afb'}\n"
     ]
    }
   ],
   "source": [
    "payload={\n",
    "    'method': 'distinct', \n",
    "    'query': ['brandName', {'thirdCategoryName': '香水'}]\n",
    "}\n",
    "url=\"http://192.168.0.6:8024/mongodb_query/shopping_kaola\"\n",
    "\n",
    "resp=requests.post(url=url,data=json.dumps(payload)).json()\n",
    "pprint(resp)"
   ]
  },
  {
   "cell_type": "code",
   "execution_count": 19,
   "metadata": {},
   "outputs": [
    {
     "name": "stdout",
     "output_type": "stream",
     "text": [
      "{'code': 0, 'data': [], 'message': '549745b1b27a08cd679379835e6e27ef'}\n"
     ]
    }
   ],
   "source": [
    "payload={'query': {'skuId': {'$in': []}}}\n",
    "url=\"http://mongorestapi.localdomain:8024/mongodb_query/shopping_goods_sku_kaola\"\n",
    "\n",
    "resp=requests.post(url=url,data=json.dumps(payload)).json()\n",
    "pprint(resp)"
   ]
  },
  {
   "cell_type": "code",
   "execution_count": 10,
   "metadata": {
    "scrolled": false
   },
   "outputs": [
    {
     "data": {
      "text/plain": [
       "{'code': 0, 'data': {'serialNum': 'ok224512197028313'}}"
      ]
     },
     "execution_count": 10,
     "metadata": {},
     "output_type": "execute_result"
    }
   ],
   "source": [
    "# 退款流水号 补偿机制\n",
    "def compensation_refund_flow(order_id):\n",
    "    resp_data = requests.get('http://dpp.boluome.com/order/search/{}'.format(order_id)).json()\n",
    "    data = resp_data['data']\n",
    "    refund_data={\n",
    "        'appCode': data['appCode'],\n",
    "        'id': data['id'],\n",
    "         'orderType': data['orderType'],\n",
    "         'reason': 'compensation',\n",
    "         'refundSource': 2,\n",
    "         'supplire': data['channel'],\n",
    "         'type': 1,\n",
    "         'userPhone': data.get('userPhone') or data.get('phone')\n",
    "    }\n",
    "    resp=requests.post('http://refundapi.localdomain:21009/refund/save', json=refund_data)\n",
    "    return resp.json()\n",
    "compensation_refund_flow('ok204149365483440')"
   ]
  },
  {
   "cell_type": "code",
   "execution_count": 18,
   "metadata": {},
   "outputs": [
    {
     "data": {
      "text/plain": [
       "{'code': 20000, 'message': '无效的订单状态流转'}"
      ]
     },
     "execution_count": 18,
     "metadata": {},
     "output_type": "execute_result"
    }
   ],
   "source": [
    "# 更新订单至等待退款\n",
    "def compensation_refund_order(order_id):\n",
    "    # 若4->8->11 被拒绝，请手动更新4->9,然后从新调用\n",
    "    resp_data = requests.get('http://dpp.boluome.com/order/search/{}'.format(order_id)).json()\n",
    "    data = resp_data['data']\n",
    "    refund_data={\n",
    "        'id': data['id'],\n",
    "        'orderType': data['orderType']\n",
    "    }\n",
    "    resp=requests.put('http://orderapi.localdomain:21003/cancel', params=refund_data)\n",
    "    return resp.json()\n",
    "compensation_refund_order('ok204149365483440')"
   ]
  },
  {
   "cell_type": "code",
   "execution_count": 9,
   "metadata": {},
   "outputs": [
    {
     "data": {
      "text/plain": [
       "{'code': 20000, 'message': '支付未找到或还未支付'}"
      ]
     },
     "execution_count": 9,
     "metadata": {},
     "output_type": "execute_result"
    }
   ],
   "source": [
    "REFUND_URL = 'http://192.168.2.2:21009/refund/save'\n",
    "refund_data= {\n",
    "        \"id\" : \"me004162809496108\",\n",
    "        \"supplier\" : \"lvmama\",\n",
    "        \"userPhone\" : \"17317192506\",\n",
    "        \"orderType\" : \"menpiao\",\n",
    "        \"price\" : 46.0,\n",
    "        \"type\" : 1,\n",
    "        \"reason\" : \"退票\",\n",
    "        \"refundSource\" : 2,\n",
    "        \"appCode\" : \"me\"\n",
    "    }\n",
    "\n",
    "requests.post(REFUND_URL, json=refund_data).json()"
   ]
  },
  {
   "cell_type": "code",
   "execution_count": 19,
   "metadata": {},
   "outputs": [
    {
     "data": {
      "text/plain": [
       "{'code': 0,\n",
       " 'data': {'appCode': 'me',\n",
       "  'booker': {'credentialCode': '430503199307092024',\n",
       "   'email': '',\n",
       "   'mobile': '17317192506',\n",
       "   'name': '岳佳琦'},\n",
       "  'canCancel': 0,\n",
       "  'changeAheadTime': -540,\n",
       "  'channel': 'lvmama',\n",
       "  'count': 1,\n",
       "  'coupon': {'id': '55637755', 'price': 1, 'title': '驴妈妈门票优惠券test'},\n",
       "  'couponId': '55637755',\n",
       "  'createdAt': 1522735716237,\n",
       "  'customerId': '209',\n",
       "  'customerUserId': 'test_yjq',\n",
       "  'displayStatus': '等待退款',\n",
       "  'goodsName': '成人票',\n",
       "  'id': 'me004162809496108',\n",
       "  'map': {'latitude': '31.0723647207',\n",
       "   'longitude': '120.908268183',\n",
       "   'mapType': 'gaode'},\n",
       "  'name': '成人票',\n",
       "  'openTime': '8:00-17:00',\n",
       "  'orderPrice': 48,\n",
       "  'orderType': 'menpiao',\n",
       "  'paidList': ['me014162809496109'],\n",
       "  'partnerId': 62322220,\n",
       "  'partnerStatusCode': 3,\n",
       "  'payChannel': 'wx_wap',\n",
       "  'paymentSerial': 'me014162809496109',\n",
       "  'paymentSerialList': ['me014162809496109'],\n",
       "  'price': 47,\n",
       "  'product': {'goodsId': '1530726',\n",
       "   'productId': '253114',\n",
       "   'quantity': 1,\n",
       "   'sellPrice': 48,\n",
       "   'visitDate': '2018-04-04'},\n",
       "  'realPrice': 46.56,\n",
       "  'refundSerialNum': 'me024163569582758',\n",
       "  'rule': {'addr': '上海市青浦区青商公路701号',\n",
       "   'effectiveDesc': '指定游玩日1天内有效',\n",
       "   'getTicketTime': '8:00～17:00（4月1日—10月31日）；8:00～16:30（11月1日—3月31日）',\n",
       "   'importentPoint': '成人票的重要提示:本商品支持30天内可退。预订付款后未使用，可在“我的订单”中申请退款，且不收取任何手续费。\\n'},\n",
       "  'scenicDetail': {'character': ['原汁原味的红楼梦主题公园',\n",
       "    '一个观光，旅游，休闲的综合性游乐园。也是上海为数不多的古园林',\n",
       "    '让您能亲身体验古装拍照的魅力',\n",
       "    '了解历史背后的《 红楼梦》原著背景资料'],\n",
       "   'intro': '大观园是上海园林部门于1979年开始建设的一个大型仿古建筑群和现代园林。大观园是一个有故事的园林，由《红楼梦》物化而成，兼有皇家园林的气派和江南园林的秀气。 \\r\\n大观园内的\"梅坞春浓\"是上海地区赏梅处。\\r\\n大观园位于青浦县西面，距市区50公里。依俯视淀山湖东岸，以大观楼为主体，分东西两大景区',\n",
       "   'name': '上海大观园',\n",
       "   'playAttractions': [{'playImages': ['https://f1.otosaas.com/img/lvmama/219/411/36f66de89d59ad30fcdc36e5816348b6.jpg',\n",
       "      'https://f1.otosaas.com/img/lvmama/699/637/aef9f4fe03e250479084fe2e8a0852d9.jpg'],\n",
       "     'playInfo': '上海大观园是根据中国古典名著《红楼梦》的意境，运用中国传统艺术手法建造的仿古建筑群和现代园林。大型主题公园东部景区占地135亩，建筑面积约8000平方米。',\n",
       "     'playName': '上海大观园',\n",
       "     'sslPlayImages': ['https://f1.otosaas.com/img/lvmama/219/411/36f66de89d59ad30fcdc36e5816348b6.jpg',\n",
       "      'https://f1.otosaas.com/img/lvmama/699/637/aef9f4fe03e250479084fe2e8a0852d9.jpg']},\n",
       "    {'playImages': ['https://f1.otosaas.com/img/lvmama/949/597/ed795615128e7891c8a2748777bc9cc8.jpg',\n",
       "      'https://f1.otosaas.com/img/lvmama/808/90/ca316b98d7f891b11cb3ef73b5b48016.jpg'],\n",
       "     'playInfo': '全园以大湖为中心，以池塘、沁芳溪沟通各景点，构成有主有支、有动有静的水系，湖边设亭、榭，湖中设曲桥、石舫、 石灯，溪上设桥亭，形成山重水复、流水人家的江南园林风光。在有限空间中 安置无限空间，增加景物层次，使建筑与环境 融合为一，借环境气氛表达人物品格，使《红楼梦》中的大观园景观再现人间。 整 体布局以大观楼为主体，由“省亲 别墅”石牌坊、石灯笼、沁芳湖、体 仁沐德、曲径通幽、宫门、“太虚幻境”浮雕照壁',\n",
       "     'playName': '上海大观园',\n",
       "     'sslPlayImages': ['https://f1.otosaas.com/img/lvmama/949/597/ed795615128e7891c8a2748777bc9cc8.jpg',\n",
       "      'https://f1.otosaas.com/img/lvmama/808/90/ca316b98d7f891b11cb3ef73b5b48016.jpg']},\n",
       "    {'playImages': ['https://f1.otosaas.com/img/lvmama/1019/410/fef66bff47c4c67f893dd354d9d9db56.jpg',\n",
       "      'https://f1.otosaas.com/img/lvmama/778/882/c29dc86c74326ecc7925f68e76e38aa5.jpg'],\n",
       "     'playInfo': '侧设置怡红院、拢翠庵、梨香院、石舫。东侧设置潇湘馆、蘅芜院、蓼风轩、稻香村等20多组建筑景点。观园景区 中各 景点的植物配置，系按小说的意境和人物性格设计。内栽植了大量大树古木，使各景点郁郁葱葱，游人入内大有古代遗 风的韵味和感受，为沪上新建园林所特有',\n",
       "     'playName': '上海大观园',\n",
       "     'sslPlayImages': ['https://f1.otosaas.com/img/lvmama/1019/410/fef66bff47c4c67f893dd354d9d9db56.jpg',\n",
       "      'https://f1.otosaas.com/img/lvmama/778/882/c29dc86c74326ecc7925f68e76e38aa5.jpg']},\n",
       "    {'playImages': ['https://f1.otosaas.com/img/lvmama/826/321/ce85041fdc343afc67d23a815402e1d4.jpg',\n",
       "      'https://f1.otosaas.com/img/lvmama/705/18/b05048d5a2af61d801d9ffa3ac08cc59.jpg'],\n",
       "     'playInfo': '人民广场广场前耸立一座高8米的牌楼，上悬“太虚幻境”匾。大观园正门前广场中的大型照壁宽18米 ，高6米 ，南面是花岗石雕《女娲补天》，北面是大理石雕《金陵十二钗》及警幻仙子、贾宝玉 等14个人像。正门是五开间的门庭， 中间有三道供出进，上悬“大观园”金字匾额， 门前雄踞一对清乾隆年间的高2.5米的青石狮子。门庭内是朱红大 门和梁柱，金色铜质门环，砖雕挂落，工艺精细',\n",
       "     'playName': '上海大观园',\n",
       "     'sslPlayImages': ['https://f1.otosaas.com/img/lvmama/826/321/ce85041fdc343afc67d23a815402e1d4.jpg',\n",
       "      'https://f1.otosaas.com/img/lvmama/705/18/b05048d5a2af61d801d9ffa3ac08cc59.jpg']},\n",
       "    {'playImages': ['https://f1.otosaas.com/img/lvmama/694/391/ada61c7d25b0934eaa695119fae62cf7.jpg',\n",
       "      'https://f1.otosaas.com/img/lvmama/606/939/97beaf8b8cc01728ec5e555f2af5e99c.jpg',\n",
       "      'https://f1.otosaas.com/img/lvmama/368/897/5c3e0695afd476c2feebca69a402b652.jpg',\n",
       "      'https://f1.otosaas.com/img/lvmama/918/295/e5949d962b87021fe73d9cfceb91f1b5.jpg',\n",
       "      'https://f1.otosaas.com/img/lvmama/282/729/468b670aa81fb2ffe2a4c80fcf8008ea.jpg',\n",
       "      'https://f1.otosaas.com/img/lvmama/399/280/63d4636cc2983592603e024e7ee899f5.jpg'],\n",
       "     'playInfo': '红楼梦3D体验馆',\n",
       "     'playName': '红楼梦3D体验馆',\n",
       "     'sslPlayImages': ['https://f1.otosaas.com/img/lvmama/694/391/ada61c7d25b0934eaa695119fae62cf7.jpg',\n",
       "      'https://f1.otosaas.com/img/lvmama/606/939/97beaf8b8cc01728ec5e555f2af5e99c.jpg',\n",
       "      'https://f1.otosaas.com/img/lvmama/368/897/5c3e0695afd476c2feebca69a402b652.jpg',\n",
       "      'https://f1.otosaas.com/img/lvmama/918/295/e5949d962b87021fe73d9cfceb91f1b5.jpg',\n",
       "      'https://f1.otosaas.com/img/lvmama/282/729/468b670aa81fb2ffe2a4c80fcf8008ea.jpg',\n",
       "      'https://f1.otosaas.com/img/lvmama/399/280/63d4636cc2983592603e024e7ee899f5.jpg']}]},\n",
       "  'scenicId': '102594',\n",
       "  'scenicName': '上海大观园',\n",
       "  'status': 11,\n",
       "  'timeline': ['04-03 14:08 已下单',\n",
       "   '04-03 14:08 待支付',\n",
       "   '04-03 14:08 支付处理中',\n",
       "   '04-03 14:08 已支付',\n",
       "   '04-03 14:08 出票中',\n",
       "   '04-03 14:26 已取消 申请退款',\n",
       "   '04-03 14:26 等待退款',\n",
       "   '04-03 15:45 已取消',\n",
       "   '04-03 15:45 等待退款'],\n",
       "  'timeline_new': [{'status': '已下单', 'time': '2018-04-03 14:08'},\n",
       "   {'status': '待支付', 'time': '2018-04-03 14:08'},\n",
       "   {'status': '支付处理中', 'time': '2018-04-03 14:08'},\n",
       "   {'status': '已支付', 'time': '2018-04-03 14:08'},\n",
       "   {'status': '出票中', 'time': '2018-04-03 14:08'},\n",
       "   {'status': '已取消', 'time': '2018-04-03 15:45'},\n",
       "   {'description': '3个工作日内处理退款',\n",
       "    'status': '等待退款',\n",
       "    'time': '2018-04-03 15:45'}],\n",
       "  'travellers': [{'bornDate': '1993-07-09',\n",
       "    'cardType': '身份证',\n",
       "    'id': '1502087762057',\n",
       "    'idCard': '430503199307092024',\n",
       "    'name': '岳佳琦',\n",
       "    'phone': '17317192506',\n",
       "    'status': 1,\n",
       "    'ticketCount': '1',\n",
       "    'type': 1}],\n",
       "  'updatedAt': 1522741515445,\n",
       "  'userId': 'test_yjq',\n",
       "  'userPhone': '17317192506',\n",
       "  'ways': '1. 凭驴妈妈短信换票入园'},\n",
       " 'message': '处理成功'}"
      ]
     },
     "execution_count": 19,
     "metadata": {},
     "output_type": "execute_result"
    }
   ],
   "source": [
    "REFUND_URL = 'http://192.168.0.5:21003/cancel'\n",
    "refund_data= {\n",
    "        \"id\" : \"me004162809496108\",\n",
    "        \"orderType\" : \"menpiao\"\n",
    "    }\n",
    "requests.put(REFUND_URL, params=refund_data).json()"
   ]
  },
  {
   "cell_type": "code",
   "execution_count": null,
   "metadata": {
    "scrolled": false
   },
   "outputs": [],
   "source": [
    "# 中原银行超时取消支付确认接口\n",
    "body = {'orderId': 'bl001728389972461', 'userId': 'test_long', 'status': 8, 'displayStatus': '已取消'}\n",
    "resp=requests.post(url='http://192.168.0.5:32020/status', json=body)\n",
    "resp.status_code==200\n",
    "resp.json()"
   ]
  },
  {
   "cell_type": "code",
   "execution_count": null,
   "metadata": {
    "scrolled": true
   },
   "outputs": [],
   "source": [
    "# session.update\n",
    "url='http://192.168.0.6:8010/sm/order/update'\n",
    "body={'id':'fdb003482010648592'}\n",
    "resp=requests.post(url=url,json=body)\n",
    "resp.json()"
   ]
  },
  {
   "cell_type": "code",
   "execution_count": 72,
   "metadata": {},
   "outputs": [
    {
     "data": {
      "text/plain": [
       "{'code': 20000, 'message': '无效的订单状态流转'}"
      ]
     },
     "execution_count": 72,
     "metadata": {},
     "output_type": "execute_result"
    }
   ],
   "source": [
    "url=\"http://192.168.2.2:21003/status\"\n",
    "params = {'orderType': 'menpiao', 'id': 'bl103541803859978'}, \n",
    "body = {'statuses': \n",
    "        [{'code': 9, 'msg': '已取消 申请退款'}, \n",
    "         {'code': 11, 'msg': '等待退款'}], \n",
    "        'opts': {'partnerStatusCode': 3, 'canCancel': 0}}\n",
    "requests.put(url,params={\"id\":\"bl103541803859978\",\"orderType\":\"menpiao\"},json=body).json()"
   ]
  },
  {
   "cell_type": "code",
   "execution_count": 106,
   "metadata": {
    "scrolled": true
   },
   "outputs": [
    {
     "data": {
      "text/plain": [
       "{'code': 0}"
      ]
     },
     "execution_count": 106,
     "metadata": {},
     "output_type": "execute_result"
    }
   ],
   "source": [
    "# session.lmm_push_order_cancel\n",
    "url='http://192.168.2.6:8010/state/lmm_push_order_cancel'\n",
    "body={'signed': '29e9cf90f7ea9ddcb04d436f772f94a0', \n",
    "      'order': {'orderId': '59323598', \n",
    "                'partnerOrderID': 'bl103541803859978', \n",
    "                'orderStatus': 'CANCEL', \n",
    "                'requestStatus': 'PASS', \n",
    "                'refundAmount': '200', \n",
    "                'factorage': '0', \n",
    "                'refundInfo': 'API分销商在线申请退款,退款金额：2.0,单位(元)'}\n",
    "     }\n",
    "resp=requests.post(url=url,json=body)\n",
    "resp.json()"
   ]
  },
  {
   "cell_type": "code",
   "execution_count": 107,
   "metadata": {},
   "outputs": [
    {
     "data": {
      "text/plain": [
       "{'code': 0}"
      ]
     },
     "execution_count": 107,
     "metadata": {},
     "output_type": "execute_result"
    }
   ],
   "source": [
    "\n",
    "# session.lmm_push_order_info\n",
    "url='http://192.168.2.6:8010/state/lmm_push_order_info'\n",
    "body={'request': {'header': {'signed': '29e9cf90f7ea9ddcb04d436f772f94a0'}, \n",
    "                  'body': {'order': {'orderId': '59323598', 'status': 'NORMAL', 'approveStatus': 'true', 'paymentStatus': 'PAYED', 'credenctStatus': 'CREDENCE_SEND', 'waitPayment': '', 'performStatus': 'UNUSE'}}}}\n",
    "resp=requests.post(url=url,json=body)\n",
    "resp.json()"
   ]
  },
  {
   "cell_type": "code",
   "execution_count": 150,
   "metadata": {
    "scrolled": true
   },
   "outputs": [
    {
     "data": {
      "text/plain": [
       "{'code': -1, 'message': '无此订单缓存'}"
      ]
     },
     "execution_count": 150,
     "metadata": {},
     "output_type": "execute_result"
    }
   ],
   "source": [
    "# session.fetch\n",
    "url='http://192.168.0.6:8010/sm/order/fetch/me003141387813455'\n",
    "# url='http://sessionapi.localdomain:8010/sm/order/fetch/bsb203620054372798'\n",
    "resp=requests.get(url=url)\n",
    "resp.json()"
   ]
  },
  {
   "cell_type": "code",
   "execution_count": 10,
   "metadata": {},
   "outputs": [
    {
     "data": {
      "text/plain": [
       "{'code': 0, 'message': 'success'}"
      ]
     },
     "execution_count": 10,
     "metadata": {},
     "output_type": "execute_result"
    }
   ],
   "source": [
    "# session.operation.isnert\n",
    "url='http://192.168.0.6:8010/operation/insert/fuelCard'\n",
    "resp=requests.post(url=url,json={\n",
    "    'document': {'id': 'test1008611', 'cardId': '1000113100009539139', 'userName': '', 'credentialNum': '', 'phone': '13023066636', 'showBasisNameList': ['autohome', 'pingan-one', 'localhost'], 'isShowBasis': False, 'customerUserId': 'blm_test', 'credentialType': '身份证', 'categoryId': '1'}\n",
    "})\n",
    "resp.json()"
   ]
  },
  {
   "cell_type": "code",
   "execution_count": 8,
   "metadata": {},
   "outputs": [
    {
     "data": {
      "text/plain": [
       "{'code': 0,\n",
       " 'data': {'matchedCount': 1, 'modifiedCount': 1},\n",
       " 'message': 'success'}"
      ]
     },
     "execution_count": 8,
     "metadata": {},
     "output_type": "execute_result"
    }
   ],
   "source": [
    "# session.operation.update\n",
    "url='http://192.168.0.6:8010/operation/update/fuelCard'\n",
    "resp=requests.post(url=url,json={\n",
    "    'filter': {'customerUserId': 'blm_test','categoryId': '1'},\n",
    "    \"update\": {\"$set\":{\"test\":1}}\n",
    "})\n",
    "resp.json()"
   ]
  },
  {
   "cell_type": "code",
   "execution_count": 29,
   "metadata": {
    "scrolled": false
   },
   "outputs": [
    {
     "data": {
      "text/plain": [
       "'<html><body><h1>502 Bad Gateway</h1>\\nThe server returned an invalid or incomplete response.\\n</body></html>\\n\\n'"
      ]
     },
     "execution_count": 29,
     "metadata": {},
     "output_type": "execute_result"
    }
   ],
   "source": [
    "# 更新退款流水为退款成功\n",
    "url='http://refundapi.localdomain:21009/refund/{}/success'.format('91ala')\n",
    "body={'orderId': 'ala203521115465356','serialNum': 'ala223529871734562'}\n",
    "requests.post(url=url,json=body).text"
   ]
  },
  {
   "cell_type": "code",
   "execution_count": null,
   "metadata": {
    "scrolled": false
   },
   "outputs": [],
   "source": [
    "# 订单中心API\n",
    "ORDER_CENTER_URL = 'http://192.168.2.2:21003'\n",
    "# session API\n",
    "SESSION_URL = 'http://192.168.2.6:8010'\n",
    "class CallApiToUpdateOrder(object):\n",
    "    def __init__(self, timeout=10):\n",
    "        self.timeout = timeout\n",
    "    def call_api_to_update_order_status(self, params, body):\n",
    "        try:\n",
    "            resp_data = requests.put(url=ORDER_CENTER_URL + '/status', params=params, json=body, timeout=self.timeout).json()\n",
    "        except (requests.ConnectionError, requests.exceptions.ConnectionError, Exception):\n",
    "            traceback.print_exc()\n",
    "            return self.call_api_to_update_order_status(params, body)\n",
    "        return resp_data\n",
    "    def call_api_to_update_order_form(self, body):\n",
    "        try:\n",
    "            resp_data = requests.post(url=SESSION_URL + '/sm/order/update', json=body, timeout=self.timeout).json()\n",
    "        except (requests.ConnectionError, requests.exceptions.ConnectionError, Exception):\n",
    "            traceback.print_exc()\n",
    "            return self.call_api_to_update_order_form(body)\n",
    "        return resp_data\n",
    "call_api=CallApiToUpdateOrder()\n",
    "data={'orderId':'blm101265011655066','orderType':'waimai'}\n",
    "params={'orderType': data['orderType'], 'id': data['orderId']}\n",
    "body={\"statuses\": [{\"code\": 9, \"msg\": \"订单失败\"},\n",
    "                                     {\"code\": 11, \"msg\": \"等待退款\"}],\n",
    "                        \"opts\": {'canCancel': 0,\n",
    "                                'partnerStatusCode': 16}}\n",
    "call_api.call_api_to_update_order_status(params,body)"
   ]
  },
  {
   "cell_type": "code",
   "execution_count": null,
   "metadata": {
    "scrolled": false
   },
   "outputs": [],
   "source": [
    "# 刘鑫金华银行超时订单支付验证 by dev\n",
    "payload={'orderId':'jhb002171912192094'}\n",
    "requests.get('http://192.168.0.12:32019/jhbank/update/order',params=payload).json()"
   ]
  },
  {
   "cell_type": "code",
   "execution_count": null,
   "metadata": {
    "scrolled": false
   },
   "outputs": [],
   "source": [
    "# 刘鑫金华银行超时订单支付验证 by pro\n",
    "payload={'orderId':'jhb202201587557432'}\n",
    "requests.get('http://saasjavaapi.localdomain:32019/jhbank/update/order',params=payload).json()"
   ]
  },
  {
   "cell_type": "code",
   "execution_count": null,
   "metadata": {
    "scrolled": true
   },
   "outputs": [],
   "source": [
    "#session.fetch_lite_list 接口\n",
    "url='http://192.168.2.6:8010/sm/order/fetch_lite_list'\n",
    "data={'userId':'blm_3xksnq9'}\n",
    "requests.post(url=url,json=data).json()"
   ]
  },
  {
   "cell_type": "code",
   "execution_count": 10,
   "metadata": {
    "scrolled": false
   },
   "outputs": [
    {
     "name": "stdout",
     "output_type": "stream",
     "text": [
      "bp203756416337454 {'code': 20000, 'message': '无效的订单状态流转'}\n",
      "ala203812722519561 {'code': 20000, 'message': '无效的订单状态流转'}\n",
      "bp203668513410303 {'code': 20000, 'message': '无效的订单状态流转'}\n",
      "bp203668556024997 {'code': 20000, 'message': '无效的订单状态流转'}\n"
     ]
    }
   ],
   "source": [
    "# 取消订单接口\n",
    "ORDER_CENTER_URL = \"http://orderapi.localdomain:21003/cancel\"\n",
    "import requests\n",
    "\n",
    "def order_center_cancel(order_id):\n",
    "    \"\"\"根据订单号做取消订单操作，包含更新订单状态为等待退款，生成退款流水等。\n",
    "    Args:\n",
    "        order_id(str): orderId\n",
    "    \"\"\"\n",
    "    order_message = requests.get(f'http://dpp.boluome.com/order/search/{order_id}').json()\n",
    "    querystring = {\"id\":order_id,\"orderType\":order_message['data']['orderType']}\n",
    "    response = requests.request(\"PUT\", ORDER_CENTER_URL, params=querystring)\n",
    "    return response.json()\n",
    "\n",
    "for order_id in 'bp203756416337454、ala203812722519561、bp203668513410303、bp203668556024997'.split('、'):\n",
    "    resp = order_center_cancel(order_id)\n",
    "    resp.pop('data',None)\n",
    "    print(order_id,resp)"
   ]
  },
  {
   "cell_type": "code",
   "execution_count": null,
   "metadata": {
    "scrolled": false
   },
   "outputs": [],
   "source": [
    "# rabbitmq代理接口\n",
    "import requests\n",
    "body={\n",
    "    \"exchangeName\":\"session\",\n",
    "    \"routingKey\":\"task\",\n",
    "    \"payload\":{'taskName': 'worker.expire.expire_fetch', \n",
    "               'queue': 'celery', \n",
    "               'args': {'orderId': 'bp203360152624455', 'userId': 'bestpay_17358489839', 'appCode': 'bestpay', 'orderType': 'waimai', 'channel': 'ele', 'partnerId': '3018723039701747783'}}\n",
    "}\n",
    "resp=requests.post('http://192.168.0.6:8672/rabbitmq/publish',json=body)\n",
    "resp.json()"
   ]
  },
  {
   "cell_type": "code",
   "execution_count": null,
   "metadata": {},
   "outputs": [],
   "source": [
    "# 调用彭老师的支付成功接口\n",
    "url = 'http://orderapi.localdomain:21003/paySuccess'\n",
    "\n",
    "for mongo_data in c.pmdb.order_evoucher.find({'displayStatus':'已支付'},{'_id':0,'id':1,'orderType':1,'payChannel':1,'timeline_new':1,'paymentSerial':1}):\n",
    "#     print(mongo_data)\n",
    "    timeline_new = mongo_data['timeline_new'][:-1]\n",
    "#     print(timeline_new)\n",
    "    c.pmdb.order_evoucher.update_one({'id':mongo_data['id']},{'$set':{'status':2,'timeline_new':timeline_new}})\n",
    "    requests.get('http://dpp.boluome.com/order/sync?orderId={}'.format(mongo_data['id']))\n",
    "    \n",
    "    body = {\n",
    "        'id':mongo_data['id'],\n",
    "        'orderType':mongo_data['orderType'],\n",
    "        'payChannel':mongo_data['payChannel'],\n",
    "        'serialNum':mongo_data['paymentSerial']\n",
    "    }\n",
    "    resp_data = requests.post(url,json=body).json()\n",
    "    print(resp_data)\n",
    "    print(phone,mongo_data['id'])\n"
   ]
  },
  {
   "cell_type": "code",
   "execution_count": 45,
   "metadata": {},
   "outputs": [
    {
     "data": {
      "text/plain": [
       "'{\"code\": 0, \"message\": \"Success\", \"data\": [{\"categoryKey\": \"secondCategoryName\", \"categoryValue\": \"香水\"}, {\"categoryKey\": \"secondCategoryName\", \"categoryValue\": \"组合装销售属性\"}, {\"categoryKey\": \"secondCategoryName\", \"categoryValue\": \"男士护肤1\"}]}'"
      ]
     },
     "execution_count": 45,
     "metadata": {},
     "output_type": "execute_result"
    }
   ],
   "source": [
    "resp = requests.get('http://192.168.0.6:8024/query/kaola/category/secondCategoryName?firstCategoryName=美容彩妆').json()\n",
    "json.dumps(resp,ensure_ascii=False)"
   ]
  },
  {
   "cell_type": "code",
   "execution_count": 13,
   "metadata": {},
   "outputs": [
    {
     "data": {
      "text/plain": [
       "{'code': 0,\n",
       " 'data': [{'brandCountryName': '盖比群岛',\n",
       "   'brandId': 8809,\n",
       "   'brandName': 'cctest11',\n",
       "   'category': '香水 美容彩妆',\n",
       "   'detail': '套装2A+3B套装2A+3B套装2A+3B套装2A+3B套装2A+3B套装2A+3B套装2A+3B套装2A+3B套装2A+3B套装2A+3B套装2A+3B套装2A+3B套装2A+3B套装2A+3B套装2A+3B套装2A+3B套装2A+3B',\n",
       "   'firstCategoryName': '美容彩妆',\n",
       "   'fourthCategoryName': '香水',\n",
       "   'goodsId': 59097235,\n",
       "   'goodsProperty': {},\n",
       "   'imageUrl': 'http://haitao.nos.netease.com/b77ba5a910844a20b5edf19ef376f6371520391125168jeghmc9q10086.jpg',\n",
       "   'importType': 1,\n",
       "   'isFreeShipping': 1,\n",
       "   'isFreeTax': 0,\n",
       "   'leafCategoryId': 9437,\n",
       "   'marketPrice': 999,\n",
       "   'memberCount': 0,\n",
       "   'price': 350.0,\n",
       "   'productId': 59097235,\n",
       "   'secondCategoryName': '香水',\n",
       "   'shortTitle': '套装2A+3B',\n",
       "   'subTitle': None,\n",
       "   'taxRate': 0.26353,\n",
       "   'taxRates': [0.119, 0.2635294118],\n",
       "   'thirdCategoryId': 9437,\n",
       "   'thirdCategoryName': '香水',\n",
       "   'title': '【勿动】套装2A+3B（分销）'}],\n",
       " 'message': 'Success'}"
      ]
     },
     "execution_count": 13,
     "metadata": {},
     "output_type": "execute_result"
    }
   ],
   "source": [
    "# %%timeit\n",
    "body = {\n",
    "    'importType': 1, \n",
    "    'filter': {\n",
    "        'thirdCategoryName': '香水', \n",
    "        'brandName': 'cctest11'\n",
    "    }, \n",
    "    'pageIndex': 1, \n",
    "    'pageSize': 20, \n",
    "    'queryText': '', \n",
    "    'lowPrice': 0, \n",
    "    'highPrice': 1000, \n",
    "    'channel': 'kaola'\n",
    "}\n",
    "requests.post('http://192.168.0.6:8024/query/kaola/goods/search',json=body).json()"
   ]
  },
  {
   "cell_type": "code",
   "execution_count": 38,
   "metadata": {},
   "outputs": [
    {
     "data": {
      "text/plain": [
       "{'code': 0,\n",
       " 'data': [{'brandCountryName': '法国',\n",
       "   'brandId': 10769,\n",
       "   'brandName': '宁波亚马逊保税仓263-auto-20161109113436365',\n",
       "   'category': '香水 美容彩妆',\n",
       "   'detail': '宁波亚马逊保税仓商品-商品详情-20161109141646659<img src=\"http://haitao.nos.netease.com/irh4nxwe40_800_800.jpg\" style=\"text-align: center;\">',\n",
       "   'firstCategoryName': '美容彩妆',\n",
       "   'fourthCategoryName': '香水',\n",
       "   'goodsId': 51842690,\n",
       "   'goodsProperty': {},\n",
       "   'imageUrl': 'http://haitao.nos.netease.com/irgblckx76_800_800.jpg',\n",
       "   'importType': 1,\n",
       "   'isFreeShipping': 0,\n",
       "   'isFreeTax': 0,\n",
       "   'leafCategoryId': 9437,\n",
       "   'marketPrice': 599,\n",
       "   'memberCount': 0,\n",
       "   'price': 499.0,\n",
       "   'productId': 51842690,\n",
       "   'secondCategoryName': '香水',\n",
       "   'shortTitle': '短标题20161109141646659',\n",
       "   'subTitle': None,\n",
       "   'taxRate': 0.47,\n",
       "   'taxRates': [0.47],\n",
       "   'thirdCategoryId': 9437,\n",
       "   'thirdCategoryName': '香水',\n",
       "   'title': '宁波亚马逊保税仓商品-auto-20161109141646659'},\n",
       "  {'brandCountryName': '法国',\n",
       "   'brandId': 10769,\n",
       "   'brandName': '宁波亚马逊保税仓263-auto-20161109113436365',\n",
       "   'category': '香水 美容彩妆',\n",
       "   'detail': '宁波亚马逊保税仓商品-商品详情-20161109141709892<img src=\"http://haitao.nos.netease.com/irh4nxwe40_800_800.jpg\" style=\"text-align: center;\">',\n",
       "   'firstCategoryName': '美容彩妆',\n",
       "   'fourthCategoryName': '香水',\n",
       "   'goodsId': 51842698,\n",
       "   'goodsProperty': {},\n",
       "   'imageUrl': 'http://haitao.nos.netease.com/irgblckx76_800_800.jpg',\n",
       "   'importType': 1,\n",
       "   'isFreeShipping': 0,\n",
       "   'isFreeTax': 0,\n",
       "   'leafCategoryId': 9437,\n",
       "   'marketPrice': 599,\n",
       "   'memberCount': 0,\n",
       "   'price': 499.0,\n",
       "   'productId': 51842698,\n",
       "   'secondCategoryName': '香水',\n",
       "   'shortTitle': '短标题20161109141709892',\n",
       "   'subTitle': None,\n",
       "   'taxRate': 0.47,\n",
       "   'taxRates': [0.47],\n",
       "   'thirdCategoryId': 9437,\n",
       "   'thirdCategoryName': '香水',\n",
       "   'title': '宁波亚马逊保税仓商品-auto-20161109141709892'},\n",
       "  {'brandCountryName': '法国',\n",
       "   'brandId': 10769,\n",
       "   'brandName': '宁波亚马逊保税仓263-auto-20161109113436365',\n",
       "   'category': '香水 美容彩妆',\n",
       "   'detail': '宁波亚马逊保税仓商品-商品详情-20161109141721059<img src=\"http://haitao.nos.netease.com/irh4nxwe40_800_800.jpg\" style=\"text-align: center;\">',\n",
       "   'firstCategoryName': '美容彩妆',\n",
       "   'fourthCategoryName': '香水',\n",
       "   'goodsId': 51842702,\n",
       "   'goodsProperty': {},\n",
       "   'imageUrl': 'http://haitao.nos.netease.com/irgblckx76_800_800.jpg',\n",
       "   'importType': 1,\n",
       "   'isFreeShipping': 0,\n",
       "   'isFreeTax': 0,\n",
       "   'leafCategoryId': 9437,\n",
       "   'marketPrice': 599,\n",
       "   'memberCount': 0,\n",
       "   'price': 499.0,\n",
       "   'productId': 51842702,\n",
       "   'secondCategoryName': '香水',\n",
       "   'shortTitle': '短标题20161109141721059',\n",
       "   'subTitle': None,\n",
       "   'taxRate': 0.47,\n",
       "   'taxRates': [0.47],\n",
       "   'thirdCategoryId': 9437,\n",
       "   'thirdCategoryName': '香水',\n",
       "   'title': '宁波亚马逊保税仓商品-auto-20161109141721059'},\n",
       "  {'brandCountryName': '法国',\n",
       "   'brandId': 10769,\n",
       "   'brandName': '宁波亚马逊保税仓263-auto-20161109113436365',\n",
       "   'category': '香水 美容彩妆',\n",
       "   'detail': '宁波亚马逊保税仓商品-商品详情-20161109141732220<img src=\"http://haitao.nos.netease.com/irh4nxwe40_800_800.jpg\" style=\"text-align: center;\">',\n",
       "   'firstCategoryName': '美容彩妆',\n",
       "   'fourthCategoryName': '香水',\n",
       "   'goodsId': 51842706,\n",
       "   'goodsProperty': {},\n",
       "   'imageUrl': 'http://haitao.nos.netease.com/irgblckx76_800_800.jpg',\n",
       "   'importType': 1,\n",
       "   'isFreeShipping': 0,\n",
       "   'isFreeTax': 0,\n",
       "   'leafCategoryId': 9437,\n",
       "   'marketPrice': 599,\n",
       "   'memberCount': 0,\n",
       "   'price': 499.0,\n",
       "   'productId': 51842706,\n",
       "   'secondCategoryName': '香水',\n",
       "   'shortTitle': '短标题20161109141732221',\n",
       "   'subTitle': None,\n",
       "   'taxRate': 0.47,\n",
       "   'taxRates': [0.47],\n",
       "   'thirdCategoryId': 9437,\n",
       "   'thirdCategoryName': '香水',\n",
       "   'title': '宁波亚马逊保税仓商品-auto-20161109141732220'},\n",
       "  {'brandCountryName': '法国',\n",
       "   'brandId': 10769,\n",
       "   'brandName': '宁波亚马逊保税仓263-auto-20161109113436365',\n",
       "   'category': '香水 美容彩妆',\n",
       "   'detail': '宁波亚马逊保税仓商品-商品详情-20161109141737848<img src=\"http://haitao.nos.netease.com/irh4nxwe40_800_800.jpg\" style=\"text-align: center;\">',\n",
       "   'firstCategoryName': '美容彩妆',\n",
       "   'fourthCategoryName': '香水',\n",
       "   'goodsId': 51842708,\n",
       "   'goodsProperty': {},\n",
       "   'imageUrl': 'http://haitao.nos.netease.com/irgblckx76_800_800.jpg',\n",
       "   'importType': 1,\n",
       "   'isFreeShipping': 0,\n",
       "   'isFreeTax': 0,\n",
       "   'leafCategoryId': 9437,\n",
       "   'marketPrice': 599,\n",
       "   'memberCount': 0,\n",
       "   'price': 499.0,\n",
       "   'productId': 51842708,\n",
       "   'secondCategoryName': '香水',\n",
       "   'shortTitle': '短标题20161109141737848',\n",
       "   'subTitle': None,\n",
       "   'taxRate': 0.47,\n",
       "   'taxRates': [0.47],\n",
       "   'thirdCategoryId': 9437,\n",
       "   'thirdCategoryName': '香水',\n",
       "   'title': '宁波亚马逊保税仓商品-auto-20161109141737848'},\n",
       "  {'brandCountryName': '法国',\n",
       "   'brandId': 10769,\n",
       "   'brandName': '宁波亚马逊保税仓263-auto-20161109113436365',\n",
       "   'category': '香水 美容彩妆',\n",
       "   'detail': '宁波亚马逊保税仓商品-商品详情-20161109141740565<img src=\"http://haitao.nos.netease.com/irh4nxwe40_800_800.jpg\" style=\"text-align: center;\">',\n",
       "   'firstCategoryName': '美容彩妆',\n",
       "   'fourthCategoryName': '香水',\n",
       "   'goodsId': 51842709,\n",
       "   'goodsProperty': {},\n",
       "   'imageUrl': 'http://haitao.nos.netease.com/irgblckx76_800_800.jpg',\n",
       "   'importType': 1,\n",
       "   'isFreeShipping': 0,\n",
       "   'isFreeTax': 0,\n",
       "   'leafCategoryId': 9437,\n",
       "   'marketPrice': 599,\n",
       "   'memberCount': 0,\n",
       "   'price': 499.0,\n",
       "   'productId': 51842709,\n",
       "   'secondCategoryName': '香水',\n",
       "   'shortTitle': '短标题20161109141740565',\n",
       "   'subTitle': None,\n",
       "   'taxRate': 0.47,\n",
       "   'taxRates': [0.47],\n",
       "   'thirdCategoryId': 9437,\n",
       "   'thirdCategoryName': '香水',\n",
       "   'title': '宁波亚马逊保税仓商品-auto-20161109141740565'},\n",
       "  {'brandCountryName': '法国',\n",
       "   'brandId': 5599,\n",
       "   'brandName': '迪奥-auto-2016071210192729哈哈~~~',\n",
       "   'category': '香水 美容彩妆',\n",
       "   'detail': '普通商品-商品详情-20170327153410569 \\n<img src=\"http://haitao.nos.netease.com/irh4nxwe40_800_800.jpg\" style=\"text-align: center;\" />',\n",
       "   'firstCategoryName': '美容彩妆',\n",
       "   'fourthCategoryName': '香水',\n",
       "   'goodsId': 58724170,\n",
       "   'goodsProperty': {},\n",
       "   'imageUrl': 'http://haitao.nosdn4.127.net/irgbntuh54_800_800.jpg',\n",
       "   'importType': 2,\n",
       "   'isFreeShipping': 0,\n",
       "   'isFreeTax': 0,\n",
       "   'leafCategoryId': 9437,\n",
       "   'marketPrice': 599,\n",
       "   'memberCount': 0,\n",
       "   'price': 499.0,\n",
       "   'productId': 58724170,\n",
       "   'secondCategoryName': '香水',\n",
       "   'shortTitle': '交易自动化买赠',\n",
       "   'subTitle': None,\n",
       "   'taxRate': 0,\n",
       "   'taxRates': [0],\n",
       "   'thirdCategoryId': 9437,\n",
       "   'thirdCategoryName': '香水',\n",
       "   'title': '【勿动】交易自动化买赠买A增（A+B）'},\n",
       "  {'brandCountryName': '法国',\n",
       "   'brandId': 5599,\n",
       "   'brandName': '迪奥-auto-2016071210192729哈哈~~~',\n",
       "   'category': '香水 美容彩妆',\n",
       "   'detail': '普通商品-商品详情-20170327153451390 \\n<img src=\"http://haitao.nos.netease.com/irh4nxwe40_800_800.jpg\" style=\"text-align: center;\" />',\n",
       "   'firstCategoryName': '美容彩妆',\n",
       "   'fourthCategoryName': '香水',\n",
       "   'goodsId': 58724172,\n",
       "   'goodsProperty': {},\n",
       "   'imageUrl': 'http://haitao.nosdn4.127.net/irgbntuh54_800_800.jpg',\n",
       "   'importType': 2,\n",
       "   'isFreeShipping': 0,\n",
       "   'isFreeTax': 0,\n",
       "   'leafCategoryId': 9437,\n",
       "   'marketPrice': 599,\n",
       "   'memberCount': 0,\n",
       "   'price': 499.0,\n",
       "   'productId': 58724172,\n",
       "   'secondCategoryName': '香水',\n",
       "   'shortTitle': '短标题',\n",
       "   'subTitle': None,\n",
       "   'taxRate': 0,\n",
       "   'taxRates': [0],\n",
       "   'thirdCategoryId': 9437,\n",
       "   'thirdCategoryName': '香水',\n",
       "   'title': '普通商品-auto-20170327153451390'},\n",
       "  {'brandCountryName': '法国',\n",
       "   'brandId': 5599,\n",
       "   'brandName': '迪奥-auto-2016071210192729哈哈~~~',\n",
       "   'category': '香水 美容彩妆',\n",
       "   'detail': '转仓测试商品111-商品详情-20170328152738573 \\n<img src=\"http://haitao.nos.netease.com/irh4nxwe40_800_800.jpg\" style=\"text-align: center;\" />',\n",
       "   'firstCategoryName': '美容彩妆',\n",
       "   'fourthCategoryName': '香水',\n",
       "   'goodsId': 58724686,\n",
       "   'goodsProperty': {},\n",
       "   'imageUrl': 'http://haitao.nos.netease.com/irgblckx76_800_800.jpg',\n",
       "   'importType': 1,\n",
       "   'isFreeShipping': 0,\n",
       "   'isFreeTax': 0,\n",
       "   'leafCategoryId': 9437,\n",
       "   'marketPrice': 599,\n",
       "   'memberCount': 0,\n",
       "   'price': 499.0,\n",
       "   'productId': 58724686,\n",
       "   'secondCategoryName': '香水',\n",
       "   'shortTitle': '短标题',\n",
       "   'subTitle': None,\n",
       "   'taxRate': 0.47,\n",
       "   'taxRates': [0.47],\n",
       "   'thirdCategoryId': 9437,\n",
       "   'thirdCategoryName': '香水',\n",
       "   'title': '转仓测试商品111-auto-20170328152738573'},\n",
       "  {'brandCountryName': '法国',\n",
       "   'brandId': 5599,\n",
       "   'brandName': '迪奥-auto-2016071210192729哈哈~~~',\n",
       "   'category': '香水 美容彩妆',\n",
       "   'detail': 'heshan-3.28-3-商品详情-20170328200110382 \\n<img src=\"http://haitao.nos.netease.com/irh4nxwe40_800_800.jpg\" style=\"text-align: center;\" />',\n",
       "   'firstCategoryName': '美容彩妆',\n",
       "   'fourthCategoryName': '香水',\n",
       "   'goodsId': 58724797,\n",
       "   'goodsProperty': {'【勿动】销售属性': ['蓝色', '肉粉色']},\n",
       "   'imageUrl': 'http://haitao.nos.netease.com/irgblckx76_800_800.jpg',\n",
       "   'importType': 1,\n",
       "   'isFreeShipping': 0,\n",
       "   'isFreeTax': 0,\n",
       "   'leafCategoryId': 9437,\n",
       "   'marketPrice': 230,\n",
       "   'memberCount': 0,\n",
       "   'price': 200.0,\n",
       "   'productId': 58724797,\n",
       "   'secondCategoryName': '香水',\n",
       "   'shortTitle': '短标题',\n",
       "   'subTitle': None,\n",
       "   'taxRate': 0.47,\n",
       "   'taxRates': [0.47],\n",
       "   'thirdCategoryId': 9437,\n",
       "   'thirdCategoryName': '香水',\n",
       "   'title': 'heshan-3.28-3-auto-20170328200110382'},\n",
       "  {'brandCountryName': '法国',\n",
       "   'brandId': 5599,\n",
       "   'brandName': '迪奥-auto-2016071210192729哈哈~~~',\n",
       "   'category': '香水 美容彩妆',\n",
       "   'detail': 'heshan-3.28-3-商品详情-20170328200112098 \\n<img src=\"http://haitao.nos.netease.com/irh4nxwe40_800_800.jpg\" style=\"text-align: center;\" />',\n",
       "   'firstCategoryName': '美容彩妆',\n",
       "   'fourthCategoryName': '香水',\n",
       "   'goodsId': 58724799,\n",
       "   'goodsProperty': {'【勿动】销售属性': ['蓝色', '肉粉色']},\n",
       "   'imageUrl': 'http://haitao.nos.netease.com/irgblckx76_800_800.jpg',\n",
       "   'importType': 1,\n",
       "   'isFreeShipping': 0,\n",
       "   'isFreeTax': 0,\n",
       "   'leafCategoryId': 9437,\n",
       "   'marketPrice': 230,\n",
       "   'memberCount': 0,\n",
       "   'price': 200.0,\n",
       "   'productId': 58724799,\n",
       "   'secondCategoryName': '香水',\n",
       "   'shortTitle': '短标题',\n",
       "   'subTitle': None,\n",
       "   'taxRate': 0.47,\n",
       "   'taxRates': [0.47],\n",
       "   'thirdCategoryId': 9437,\n",
       "   'thirdCategoryName': '香水',\n",
       "   'title': 'heshan-3.28-3-auto-20170328200112098'},\n",
       "  {'brandCountryName': '法国',\n",
       "   'brandId': 5599,\n",
       "   'brandName': '迪奥-auto-2016071210192729哈哈~~~',\n",
       "   'category': '香水 美容彩妆',\n",
       "   'detail': '何山3.30-商品详情-20170330135736057 \\n<img src=\"http://haitao.nos.netease.com/irh4nxwe40_800_800.jpg\" style=\"text-align: center;\" />',\n",
       "   'firstCategoryName': '美容彩妆',\n",
       "   'fourthCategoryName': '香水',\n",
       "   'goodsId': 58726192,\n",
       "   'goodsProperty': {},\n",
       "   'imageUrl': 'http://haitao.nos.netease.com/irgblckx76_800_800.jpg',\n",
       "   'importType': 1,\n",
       "   'isFreeShipping': 0,\n",
       "   'isFreeTax': 0,\n",
       "   'leafCategoryId': 9437,\n",
       "   'marketPrice': 599,\n",
       "   'memberCount': 0,\n",
       "   'price': 388.0,\n",
       "   'productId': 58726192,\n",
       "   'secondCategoryName': '香水',\n",
       "   'shortTitle': '短标题',\n",
       "   'subTitle': None,\n",
       "   'taxRate': 0.47,\n",
       "   'taxRates': [0.47],\n",
       "   'thirdCategoryId': 9437,\n",
       "   'thirdCategoryName': '香水',\n",
       "   'title': '何山3.30-auto-20170330135736057'},\n",
       "  {'brandCountryName': '法国',\n",
       "   'brandId': 5599,\n",
       "   'brandName': '迪奥-auto-2016071210192729哈哈~~~',\n",
       "   'category': '香水 美容彩妆',\n",
       "   'detail': '迪奥唇膏-商品详情-20170329110447640 \\n<img src=\"http://haitao.nos.netease.com/irh4nxwe40_800_800.jpg\" style=\"text-align: center;\" />',\n",
       "   'firstCategoryName': '美容彩妆',\n",
       "   'fourthCategoryName': '香水',\n",
       "   'goodsId': 58725056,\n",
       "   'goodsProperty': {'【勿动】尺码': ['S', 'M', 'L'], '【勿动】销售属性': ['蓝色', '肉粉色']},\n",
       "   'imageUrl': 'http://haitao.nos.netease.com/irgblckx76_800_800.jpg',\n",
       "   'importType': 1,\n",
       "   'isFreeShipping': 0,\n",
       "   'isFreeTax': 0,\n",
       "   'leafCategoryId': 9437,\n",
       "   'marketPrice': 310,\n",
       "   'memberCount': 0,\n",
       "   'price': 200.0,\n",
       "   'productId': 58725056,\n",
       "   'secondCategoryName': '香水',\n",
       "   'shortTitle': '短标题',\n",
       "   'subTitle': None,\n",
       "   'taxRate': 0.47,\n",
       "   'taxRates': [0.47],\n",
       "   'thirdCategoryId': 9437,\n",
       "   'thirdCategoryName': '香水',\n",
       "   'title': '迪奥唇膏-auto-20170329110447641'},\n",
       "  {'brandCountryName': '法国',\n",
       "   'brandId': 5599,\n",
       "   'brandName': '迪奥-auto-2016071210192729哈哈~~~',\n",
       "   'category': '香水 美容彩妆',\n",
       "   'detail': 'Dior香水-商品详情-20170330185655871 \\n<img src=\"http://haitao.nos.netease.com/irh4nxwe40_800_800.jpg\" style=\"text-align: center;\" />',\n",
       "   'firstCategoryName': '美容彩妆',\n",
       "   'fourthCategoryName': '香水',\n",
       "   'goodsId': 58726271,\n",
       "   'goodsProperty': {},\n",
       "   'imageUrl': 'http://haitao.nos.netease.com/irgblckx76_800_800.jpg',\n",
       "   'importType': 1,\n",
       "   'isFreeShipping': 0,\n",
       "   'isFreeTax': 0,\n",
       "   'leafCategoryId': 9437,\n",
       "   'marketPrice': 599,\n",
       "   'memberCount': 0,\n",
       "   'price': 499.0,\n",
       "   'productId': 58726271,\n",
       "   'secondCategoryName': '香水',\n",
       "   'shortTitle': '短标题',\n",
       "   'subTitle': None,\n",
       "   'taxRate': 0.47,\n",
       "   'taxRates': [0.47],\n",
       "   'thirdCategoryId': 9437,\n",
       "   'thirdCategoryName': '香水',\n",
       "   'title': 'Dior香水-auto-20170330185655871'},\n",
       "  {'brandCountryName': '法国',\n",
       "   'brandId': 5599,\n",
       "   'brandName': '迪奥-auto-2016071210192729哈哈~~~',\n",
       "   'category': '香水 美容彩妆',\n",
       "   'detail': '何山3.30-3-商品详情-20170330204357227 \\n<img src=\"http://haitao.nos.netease.com/irh4nxwe40_800_800.jpg\" style=\"text-align: center;\" />',\n",
       "   'firstCategoryName': '美容彩妆',\n",
       "   'fourthCategoryName': '香水',\n",
       "   'goodsId': 58726347,\n",
       "   'goodsProperty': {},\n",
       "   'imageUrl': 'http://haitao.nos.netease.com/irgblckx76_800_800.jpg',\n",
       "   'importType': 1,\n",
       "   'isFreeShipping': 0,\n",
       "   'isFreeTax': 0,\n",
       "   'leafCategoryId': 9437,\n",
       "   'marketPrice': 599,\n",
       "   'memberCount': 0,\n",
       "   'price': 499.0,\n",
       "   'productId': 58726347,\n",
       "   'secondCategoryName': '香水',\n",
       "   'shortTitle': '短标题',\n",
       "   'subTitle': None,\n",
       "   'taxRate': 0.47,\n",
       "   'taxRates': [0.47],\n",
       "   'thirdCategoryId': 9437,\n",
       "   'thirdCategoryName': '香水',\n",
       "   'title': '何山3.30-3-auto-20170330204357227'},\n",
       "  {'brandCountryName': '法国',\n",
       "   'brandId': 5599,\n",
       "   'brandName': '迪奥-auto-2016071210192729哈哈~~~',\n",
       "   'category': '香水 美容彩妆',\n",
       "   'detail': '何山-删除-商品详情-20170330233056979 \\n<img src=\"http://haitao.nos.netease.com/irh4nxwe40_800_800.jpg\" style=\"text-align: center;\" />',\n",
       "   'firstCategoryName': '美容彩妆',\n",
       "   'fourthCategoryName': '香水',\n",
       "   'goodsId': 58726365,\n",
       "   'goodsProperty': {},\n",
       "   'imageUrl': 'http://haitao.nos.netease.com/irgblckx76_800_800.jpg',\n",
       "   'importType': 1,\n",
       "   'isFreeShipping': 0,\n",
       "   'isFreeTax': 0,\n",
       "   'leafCategoryId': 9437,\n",
       "   'marketPrice': 599,\n",
       "   'memberCount': 0,\n",
       "   'price': 499.0,\n",
       "   'productId': 58726365,\n",
       "   'secondCategoryName': '香水',\n",
       "   'shortTitle': '短标题',\n",
       "   'subTitle': None,\n",
       "   'taxRate': 0.47,\n",
       "   'taxRates': [0.47],\n",
       "   'thirdCategoryId': 9437,\n",
       "   'thirdCategoryName': '香水',\n",
       "   'title': '何山-删除-auto-20170330233056979'},\n",
       "  {'brandCountryName': '法国',\n",
       "   'brandId': 5599,\n",
       "   'brandName': '迪奥-auto-2016071210192729哈哈~~~',\n",
       "   'category': '香水 美容彩妆',\n",
       "   'detail': 'lalala-商品详情-20170331143307859 \\n<img src=\"http://haitao.nos.netease.com/irh4nxwe40_800_800.jpg\" style=\"text-align: center;\" />',\n",
       "   'firstCategoryName': '美容彩妆',\n",
       "   'fourthCategoryName': '香水',\n",
       "   'goodsId': 58726511,\n",
       "   'goodsProperty': {},\n",
       "   'imageUrl': 'http://haitao.nos.netease.com/irgblckx76_800_800.jpg',\n",
       "   'importType': 1,\n",
       "   'isFreeShipping': 0,\n",
       "   'isFreeTax': 0,\n",
       "   'leafCategoryId': 9437,\n",
       "   'marketPrice': 599,\n",
       "   'memberCount': 0,\n",
       "   'price': 499.0,\n",
       "   'productId': 58726511,\n",
       "   'secondCategoryName': '香水',\n",
       "   'shortTitle': '短标题',\n",
       "   'subTitle': None,\n",
       "   'taxRate': 0.47,\n",
       "   'taxRates': [0.47],\n",
       "   'thirdCategoryId': 9437,\n",
       "   'thirdCategoryName': '香水',\n",
       "   'title': 'lalala-auto-20170331143307859'},\n",
       "  {'brandCountryName': '法国',\n",
       "   'brandId': 5599,\n",
       "   'brandName': '迪奥-auto-2016071210192729哈哈~~~',\n",
       "   'category': '香水 美容彩妆',\n",
       "   'detail': 'jian-商品详情-20170331145601266 \\n<img src=\"http://haitao.nos.netease.com/irh4nxwe40_800_800.jpg\" style=\"text-align: center;\" />',\n",
       "   'firstCategoryName': '美容彩妆',\n",
       "   'fourthCategoryName': '香水',\n",
       "   'goodsId': 58726522,\n",
       "   'goodsProperty': {},\n",
       "   'imageUrl': 'http://haitao.nos.netease.com/irgblckx76_800_800.jpg',\n",
       "   'importType': 1,\n",
       "   'isFreeShipping': 0,\n",
       "   'isFreeTax': 0,\n",
       "   'leafCategoryId': 9437,\n",
       "   'marketPrice': 599,\n",
       "   'memberCount': 0,\n",
       "   'price': 499.0,\n",
       "   'productId': 58726522,\n",
       "   'secondCategoryName': '香水',\n",
       "   'shortTitle': '短标题',\n",
       "   'subTitle': None,\n",
       "   'taxRate': 0.47,\n",
       "   'taxRates': [0.47],\n",
       "   'thirdCategoryId': 9437,\n",
       "   'thirdCategoryName': '香水',\n",
       "   'title': 'jian-auto-20170331145601266'},\n",
       "  {'brandCountryName': '法国',\n",
       "   'brandId': 5599,\n",
       "   'brandName': '迪奥-auto-2016071210192729哈哈~~~',\n",
       "   'category': '香水 美容彩妆',\n",
       "   'detail': '一图-商品详情-20170331151356392 \\n<img src=\"http://haitao.nos.netease.com/irh4nxwe40_800_800.jpg\" style=\"text-align: center;\" />',\n",
       "   'firstCategoryName': '美容彩妆',\n",
       "   'fourthCategoryName': '香水',\n",
       "   'goodsId': 58726532,\n",
       "   'goodsProperty': {},\n",
       "   'imageUrl': 'http://haitao.nos.netease.com/irgblckx76_800_800.jpg',\n",
       "   'importType': 1,\n",
       "   'isFreeShipping': 0,\n",
       "   'isFreeTax': 0,\n",
       "   'leafCategoryId': 9437,\n",
       "   'marketPrice': 599,\n",
       "   'memberCount': 0,\n",
       "   'price': 499.0,\n",
       "   'productId': 58726532,\n",
       "   'secondCategoryName': '香水',\n",
       "   'shortTitle': '短标题',\n",
       "   'subTitle': None,\n",
       "   'taxRate': 0.47,\n",
       "   'taxRates': [0.47],\n",
       "   'thirdCategoryId': 9437,\n",
       "   'thirdCategoryName': '香水',\n",
       "   'title': '一图-auto-20170331151356392'},\n",
       "  {'brandCountryName': '法国',\n",
       "   'brandId': 5599,\n",
       "   'brandName': '迪奥-auto-2016071210192729哈哈~~~',\n",
       "   'category': '香水 美容彩妆',\n",
       "   'detail': '人我饿-商品详情-20170331153155378 \\n<img src=\"http://haitao.nos.netease.com/irh4nxwe40_800_800.jpg\" style=\"text-align: center;\" />',\n",
       "   'firstCategoryName': '美容彩妆',\n",
       "   'fourthCategoryName': '香水',\n",
       "   'goodsId': 58726538,\n",
       "   'goodsProperty': {},\n",
       "   'imageUrl': 'http://haitao.nos.netease.com/irgblckx76_800_800.jpg',\n",
       "   'importType': 1,\n",
       "   'isFreeShipping': 0,\n",
       "   'isFreeTax': 0,\n",
       "   'leafCategoryId': 9437,\n",
       "   'marketPrice': 599,\n",
       "   'memberCount': 0,\n",
       "   'price': 499.0,\n",
       "   'productId': 58726538,\n",
       "   'secondCategoryName': '香水',\n",
       "   'shortTitle': '短标题',\n",
       "   'subTitle': None,\n",
       "   'taxRate': 0.47,\n",
       "   'taxRates': [0.47],\n",
       "   'thirdCategoryId': 9437,\n",
       "   'thirdCategoryName': '香水',\n",
       "   'title': '人我饿-auto-20170331153155378'}],\n",
       " 'message': 'Success'}"
      ]
     },
     "execution_count": 38,
     "metadata": {},
     "output_type": "execute_result"
    }
   ],
   "source": [
    "body = {\n",
    "    'importType': 1, \n",
    "    'pageIndex': 1, \n",
    "    'pageSize': 20, \n",
    "    'queryText': '', \n",
    "    'lowPrice': 200, \n",
    "    'highPrice': 500, \n",
    "#     'filter': {'thirdCategoryName': '%E6%8A%A4%E7%90%86', }, \n",
    "    'channel': 'kaola'\n",
    "}\n",
    "# body={'importType': 1, 'pageIndex': 1, 'pageSize': 20, 'queryText': '玫瑰', 'channel': 'kaola'}\n",
    "requests.post('http://192.168.0.6:8024/query/kaola/goods/search',json=body).json()"
   ]
  },
  {
   "cell_type": "code",
   "execution_count": null,
   "metadata": {
    "scrolled": true
   },
   "outputs": [],
   "source": [
    "# 返回结果有变动。\n",
    "body = {\n",
    "    'filter': {'range': [{'price': {'gt': 0}}], 'term': [{'cityCode': '2'}, {'cityCode': '2'}], 'terms': [], 'nested': [], 'geo_distance': []}, \n",
    "    'search': {}, \n",
    "    'pageSize': 20, \n",
    "    'pageIndex': 1, \n",
    "    'should': {'range': [{'brandCode': {'gt': '0'}}, {'starRate': {'gte': '4'}}]}, \n",
    "    'sort': {'text': [], 'long': []}, \n",
    "#     'projection': 'id,name,images,themes,price,categoryCodes,awards,cityCode,areaId,refPoints,lat,lng'\n",
    "    'projection': 'name,cityCode,brandCode,starRate'\n",
    "}\n",
    "url = 'http://mongorestapi.localdomain:8024/query/ctrip/hotels/search'\n",
    "requests.post(url,json=body).json()"
   ]
  },
  {
   "cell_type": "code",
   "execution_count": null,
   "metadata": {
    "scrolled": true
   },
   "outputs": [],
   "source": [
    "# starRate和展示的酒店4.7分有什么关系\n",
    "body = {\n",
    "    'filter': {'range': [{'price': {'gt': 0}}], 'term': [{'cityCode': '2'}], 'terms': [], 'nested': [], 'geo_distance': []}, \n",
    "    'search': {}, \n",
    "    'pageSize': 20, \n",
    "    'pageIndex': 1, \n",
    "    'should': {'range': [{'brandCode': {'gt': '0'}}, {'starRate': {'gte': '4'}}]}, \n",
    "    'sort': {'text': [{'starRate': 'desc'}], 'long': []}, \n",
    "    'projection': 'name,cityCode,brandCode,starRate'\n",
    "}\n",
    "url = 'http://mongorestapi.localdomain:8024/query/ctrip/hotels/search'\n",
    "requests.post(url,json=body).json()"
   ]
  },
  {
   "cell_type": "code",
   "execution_count": null,
   "metadata": {},
   "outputs": [],
   "source": [
    "body = {\n",
    "    'filter': {'range': [{'price': {'gt': 0}}], 'term': [{'cityCode': '2'}], 'terms': [], 'nested': [], 'geo_distance': [{'distance': '50km', 'distance_type': 'plane', 'loc': [121.44119, 31.29697]}]}, \n",
    "    'search': {}, \n",
    "    'pageSize': 20, \n",
    "    'pageIndex': 1, \n",
    "    'should': {'range': [{'brandCode': {'gt': '0'}}, {'starRate': {'gte': '4'}}], 'geo_distance': [{'distance': '4km', 'distance_type': 'plane', 'loc': [121.44119, 31.29697]}]}, \n",
    "    'sort': {'_geo_distance': [{'loc': [121.44119, 31.29697], 'order': 'asc', 'unit': 'km', 'distance_type': 'plane'}]},\n",
    "    'projection': 'name,cityCode,brandCode,starRate'\n",
    "}\n",
    "url = 'http://mongorestapi.localdomain:8024/query/ctrip/hotels/search'\n",
    "requests.post(url,json=body).json()"
   ]
  }
 ],
 "metadata": {
  "kernelspec": {
   "display_name": "Python 3",
   "language": "python",
   "name": "python3"
  },
  "language_info": {
   "codemirror_mode": {
    "name": "ipython",
    "version": 3
   },
   "file_extension": ".py",
   "mimetype": "text/x-python",
   "name": "python",
   "nbconvert_exporter": "python",
   "pygments_lexer": "ipython3",
   "version": "3.6.0"
  }
 },
 "nbformat": 4,
 "nbformat_minor": 2
}
