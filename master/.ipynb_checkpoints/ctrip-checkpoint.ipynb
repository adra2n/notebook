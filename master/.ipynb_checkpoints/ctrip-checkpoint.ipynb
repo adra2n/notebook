{
 "cells": [
  {
   "cell_type": "code",
   "execution_count": 1,
   "metadata": {},
   "outputs": [],
   "source": [
    "import ast\n",
    "import datetime\n",
    "import hashlib\n",
    "import json\n",
    "import logging\n",
    "import math\n",
    "import re\n",
    "import time\n",
    "import uuid\n",
    "import urllib3\n",
    "\n",
    "import redis\n",
    "import requests\n",
    "import xmltodict\n",
    "from pymongo import MongoClient\n",
    "from bs4 import BeautifulSoup\n",
    "from connection import get_in,ConnectionTask\n",
    "from pprint import pprint\n",
    "import conf\n",
    "\n",
    "c=ConnectionTask()\n",
    "urllib3.disable_warnings()\n",
    "\n"
   ]
  },
  {
   "cell_type": "code",
   "execution_count": 3,
   "metadata": {},
   "outputs": [],
   "source": [
    "def ctrip_fetch(data):\n",
    "    \"\"\"酒店订单精简信息查询接口 D_HotelOrderMiniInfo\n",
    "    \"\"\"\n",
    "    app_code = data['appCode'] if data.get('appCode') == 'oklife' else 'other'\n",
    "    ping_url = 'http://{}/Hotel/D_HotelOrderMiniInfo.asmx'.format(conf.CTRIP_API_URL)\n",
    "    ts = int(time.time())\n",
    "    secret = hashlib.md5(conf.CTRIP_KEY[app_code].encode('utf8')).hexdigest().upper()\n",
    "    sign = hashlib.md5('{0}{1}{2}{3} D_HotelOrderMiniInfo'.format(\n",
    "        ts, conf.CTRIP_AID[app_code], secret, conf.CTRIP_SID[app_code]).encode('utf-8')).hexdigest().upper()\n",
    "    request_xml = conf.CTRIP_ORDER_XML.format(conf.CTRIP_AID[app_code], conf.CTRIP_SID[app_code], ts, sign, data['partnerId'])\n",
    "    encode_xml = request_xml.encode('utf-8')\n",
    "    headers = {'Content-Type': 'text/xml; charset=utf-8',\n",
    "               'Host': 'openapi.ctrip.com', 'Content-Length': str(len(encode_xml)),\n",
    "               'SOAPAction': \"http://ctrip.com/Request\"}\n",
    "    resp = requests.post(url=ping_url, data=encode_xml, headers=headers).text\n",
    "    xmlt_data = xmltodict.parse(xmltodict.parse(resp)['soap:Envelope']['soap:Body']['RequestResponse']['RequestResult'])\n",
    "    xmlt_data = (json.loads((json.dumps(xmlt_data, ensure_ascii=False, indent=2)).replace('@', '')))\n",
    "    return xmlt_data\n",
    "    resp_data = xmlt_data['Response']['HotelOrderMiniInfoResponse']\n",
    "    return resp_data"
   ]
  },
  {
   "cell_type": "code",
   "execution_count": 4,
   "metadata": {},
   "outputs": [
    {
     "data": {
      "text/plain": [
       "{'Response': {'Header': {'AccessCount': '5000',\n",
       "   'CurrentCount': '18',\n",
       "   'RecentlyTime': '2018-04-03 11:10:53',\n",
       "   'ReferenceID': '6ba1fb82-de74-4d2a-96df-9949abc08449',\n",
       "   'ResetTime': '2018-04-03 11:11:53',\n",
       "   'ResultCode': 'Fail',\n",
       "   'ResultMsg': '分销信息不匹配',\n",
       "   'ResultNo': '1114004',\n",
       "   'ShouldRecordPerformanceTime': 'False',\n",
       "   'Timestamp': '2018-04-03T11:10:53.8741649+08:00'}}}"
      ]
     },
     "execution_count": 4,
     "metadata": {},
     "output_type": "execute_result"
    }
   ],
   "source": [
    "data={'appCode': '91ala', 'partnerId': '5871987632', 'orderId': 'ala204007863282519'}\n",
    "ctrip_fetch(data)"
   ]
  },
  {
   "cell_type": "code",
   "execution_count": null,
   "metadata": {},
   "outputs": [],
   "source": [
    "def token_fetch_and_update():\n",
    "    \"\"\"获取、更新携程access token,存储于radis中,失效后可再次获取\n",
    "    \"\"\"\n",
    "    token_payload = {\n",
    "        'AID': conf.XIECHENG_AID,\n",
    "        'SID': conf.XIECHENG_SID,\n",
    "        'KEY': conf.XIECHENG_TOKEN_KEY,\n",
    "    }\n",
    "    token = 'https://openserviceauth.ctrip.com/openserviceauth/authorize.ashx'\n",
    "    token_result = requests.post(token, params=token_payload)\n",
    "    Refresh_Token = token_result.json()['Refresh_Token']\n",
    "\n",
    "    atoken_payload = {\n",
    "        'AID': conf.XIECHENG_AID,\n",
    "        'SID': conf.XIECHENG_SID,\n",
    "        'refresh_token': Refresh_Token,\n",
    "    }\n",
    "    Atoken = 'https://openserviceauth.ctrip.com/openserviceauth/refresh.ashx'\n",
    "\n",
    "    Atoken_result = requests.post(Atoken, params=atoken_payload)\n",
    "    Access_Token = Atoken_result.json()['Access_Token']\n",
    "    # 存贮token与过期时间字段\n",
    "    c.dpprdb(0).hset('ctrip_token', 'access_token', Access_Token)\n",
    "    c.dpprdb(0).hset('ctrip_token', 'expire_time', datetime.datetime.now() + datetime.timedelta(seconds=60 * 9))\n",
    "    return ['xiecheng_access_token update is OK!']\n"
   ]
  },
  {
   "cell_type": "code",
   "execution_count": null,
   "metadata": {},
   "outputs": [],
   "source": [
    "def city_get_full_hotel_ids(city, page_index=1):\n",
    "    \"\"\"根据城市ID，查询酒店全量ID列表，并调用静态信息接口\n",
    "    \"\"\"\n",
    "    Access_Token = c.dpprdb(0).hget('ctrip_token', 'access_token')\n",
    "    print(Access_Token)\n",
    "    # 从redis获取Access token\n",
    "    payload = {\n",
    "        'AID': conf.XIECHENG_AID,\n",
    "        'SID': conf.XIECHENG_SID,\n",
    "        'ICODE': conf.XIECHENG_ICODE,\n",
    "        'UUID': conf.XIECHENG_UUID,\n",
    "        'Token': Access_Token,\n",
    "        'mode': 1,\n",
    "        'format': 'json'\n",
    "    }\n",
    "    url_html = 'http://openservice.ctrip.com/OpenService/ServiceProxy.ashx'\n",
    "    data = {\n",
    "        \"City\": city,\n",
    "        \"PageIndex\": str(page_index),\n",
    "        \"PageSize\": \"5000\"\n",
    "    }\n",
    "\n",
    "    try:\n",
    "        requests_result = requests.post(url_html, params=payload, data=data)\n",
    "        resp_data = requests_result.json()\n",
    "        return resp_data\n",
    "        total = resp_data['Total']\n",
    "        if int(total) == 0:\n",
    "            return ['city', city, 'total 0']\n",
    "        hotel_ids = resp_data['HotelIDs'].split(',')\n",
    "        return hotel_ids\n",
    "    except KeyError as e:\n",
    "        # 如果报错，token过期，执行token_fetch函数更新token\n",
    "        print(resp_data)\n",
    "        if str(datetime.datetime.now()) > (c.dpprdb(0).hget('ctrip_token', 'expire_time')):\n",
    "            token_fetch_and_update()\n",
    "        # 接口问题，创建一个60s延迟的自身调用异步任务\n",
    "#         city_get_full_hotel_ids.apply_async(args=[city, page_index], countdown=60, queue=conf.MQ_XIECHENG)\n",
    "        return['city', city, 'EOFError and Retry']\n",
    "\n",
    "#     if page_index * 5000 < total:\n",
    "        # 执行下一页的参数查询\n",
    "#         city_get_full_hotel_ids.apply_async(args=[city, page_index + 1], queue=conf.MQ_XIECHENG)\n",
    "    for hotel_ids_index in range(len(hotel_ids) // 10 + 1):\n",
    "        return hotel_ids[hotel_ids_index * 10:(hotel_ids_index + 1) * 10]\n",
    "        # 切片酒店ID列表，调用静态信息接口\n",
    "#         hotel_ids_message_fetch(args=[hotel_ids[hotel_ids_index * 10:(hotel_ids_index + 1) * 10]],\n",
    "#                                             queue=conf.MQ_XIECHENG)  # async\n",
    "        break  # test\n",
    "    return [city, page_index, len(hotel_ids), 'is over']"
   ]
  },
  {
   "cell_type": "code",
   "execution_count": null,
   "metadata": {},
   "outputs": [],
   "source": [
    "hotel_ids = city_get_full_hotel_ids(1236)['HotelIDs'].split(',')"
   ]
  },
  {
   "cell_type": "code",
   "execution_count": null,
   "metadata": {},
   "outputs": [],
   "source": [
    "hotel_ids_message_fetch(['6887689', '6887690', '6887691', '6887692', '6887693', '6887695', '6887697', '6887698', '6887700', '6887701'])"
   ]
  },
  {
   "cell_type": "code",
   "execution_count": null,
   "metadata": {},
   "outputs": [],
   "source": [
    "def hotel_ids_message_fetch(hotel_ids):\n",
    "    \"\"\"根据酒店ID，查询酒店静态信息,并返回数据进行清洗，最后调用价格计划接口(if rateplans is True)\"\"\"\n",
    "    ping_url = 'http://{}/Hotel/OTA_HotelDescriptiveInfo.asmx'.format(\n",
    "        conf.XIECHENG_API_URL)\n",
    "    ts = int(time.time())\n",
    "    secret = hashlib.md5(conf.XIECHENG_KEY.encode('utf8')).hexdigest().upper()\n",
    "    sign = hashlib.md5('{0}{1}{2}{3}OTA_Ping'.format(ts,\n",
    "                                                     conf.XIECHENG_AID,\n",
    "                                                     secret,\n",
    "                                                     conf.XIECHENG_SID).encode('utf-8')).hexdigest().upper()\n",
    "    request_xml = (conf.XIECHENG_MESSAGE_XML)\n",
    "    hotel_desc = (conf.XIECHENG_MESSAGE_DESC)\n",
    "    hotel_index = ''\n",
    "    # 动态创建n个id的request body\n",
    "    n = len(hotel_ids)\n",
    "    if n == 0:\n",
    "        return ['hotel_ids is []']\n",
    "    for i in range(n):\n",
    "        hotel_index += hotel_desc.replace('index', str(i))\n",
    "    hotel_desc = hotel_index.format(hotel_ids)\n",
    "    request_xml = request_xml.format(conf.XIECHENG_AID, conf.XIECHENG_SID, ts, sign, hotel_desc)\n",
    "    encode_xml = request_xml.encode('utf-8')\n",
    "    headers = {\n",
    "        'Content-Type': 'text/xml; charset=utf-8',\n",
    "        'Host': 'openapi.ctrip.com',\n",
    "        'Content-Length': str(len(encode_xml))\n",
    "    }\n",
    "\n",
    "    resp = requests.post(url=ping_url, data=encode_xml, headers=headers)\n",
    "    if resp.status_code != 200:\n",
    "        return [resp.status_code, 'requests err', hotel_ids]\n",
    "    xmlt_data = xmltodict.parse(xmltodict.parse(resp.text)['soap:Envelope']['soap:Body']['RequestResponse']['RequestResult'])\n",
    "    # 调用轮子xmltodict，将xml格式数据 转换为 dict格式数据，并删除‘@’字符\n",
    "    xmlt_data = (json.loads((json.dumps(xmlt_data, ensure_ascii=False, indent=2)).replace('@', '')))\n",
    "#     return xmlt_data['Response']\n",
    "    datas = xmlt_data['Response']['HotelResponse']['OTA_HotelDescriptiveInfoRS'][\n",
    "        'HotelDescriptiveContents']['HotelDescriptiveContent']\n",
    "    if not isinstance(datas, list):\n",
    "        datas = [datas]\n",
    "    return datas"
   ]
  },
  {
   "cell_type": "code",
   "execution_count": null,
   "metadata": {
    "scrolled": true
   },
   "outputs": [],
   "source": [
    "hotel_ids_message_fetch(['13955695']) # 19:52 -21:18=8+60+18=86 /100  !! 69.7/min\n",
    "# 16:25:26 -16:27:41"
   ]
  },
  {
   "cell_type": "code",
   "execution_count": null,
   "metadata": {},
   "outputs": [],
   "source": [
    "hotel_ids_rateplans_fetch(['1361135'],pay_type=1)"
   ]
  },
  {
   "cell_type": "code",
   "execution_count": null,
   "metadata": {},
   "outputs": [],
   "source": [
    "def hotel_ids_rateplans_fetch(hotel_ids,pay_type=0):\n",
    "    \"\"\" 查询酒店ID对应price日历，返回最低价格\n",
    "    Args:\n",
    "        pay_type(int): 0线付，1现付\n",
    "    \"\"\"\n",
    "#     AID_FG: '263411',\n",
    "#             SID_FG: '712773',\n",
    "#             KEY_FG: '1F100349-B1C2-4C92-B6CD-69BE97EAF7F8',\n",
    "    start = str(datetime.date.today())\n",
    "    # 价格日历28天\n",
    "    end = str(datetime.date.today() + datetime.timedelta(days=28))\n",
    "    ping_url = 'http://{}/Hotel/OTA_HotelRatePlan.asmx'.format(conf.XIECHENG_API_URL)\n",
    "    ts = int(time.time())\n",
    "    secret = hashlib.md5(\n",
    "        conf.XIECHENG_KEY.encode('utf8') if pay_type==0 else '1F100349-B1C2-4C92-B6CD-69BE97EAF7F8'.encode('utf8')\n",
    "    ).hexdigest().upper()\n",
    "    sign = hashlib.md5('{0}{1}{2}{3}OTA_HotelRatePlan'.format(ts,\n",
    "                                                              conf.XIECHENG_AID if pay_type==0 else 263411,\n",
    "                                                              secret,\n",
    "                                                              conf.XIECHENG_SID if pay_type==0 else 712773\n",
    "                                                             ).encode('utf-8')).hexdigest().upper()\n",
    "\n",
    "    # 动态创建n个id 的request body\n",
    "    request_xml = (conf.XIECHENG_PRICE_XML)\n",
    "    rateplan = (conf.XIECHENG_PRICE_RATEPLAN)\n",
    "    rateplans = ''\n",
    "    n = len(hotel_ids)\n",
    "    for index in range(n):\n",
    "        rateplans += rateplan.replace('index', str(index))\n",
    "    rateplans = rateplans.format(hotel_ids=hotel_ids, start=start, end=end)\n",
    "    request_xml = request_xml.format(conf.XIECHENG_AID if pay_type==0 else 263411,\n",
    "                                     conf.XIECHENG_SID if pay_type==0 else 712773,\n",
    "                                     ts,\n",
    "                                     sign,\n",
    "                                     datetime.datetime.now().strftime('%Y-%m-%dT%H:%M:%S.%f+08:00'),\n",
    "                                     rateplans=rateplans)\n",
    "\n",
    "    encode_xml = request_xml.encode('utf-8')\n",
    "    headers = {\n",
    "        'Content-Type': 'text/xml; charset=utf-8',\n",
    "        'Host': 'openapi.ctrip.com',\n",
    "        'Content-Length': str(len(encode_xml))\n",
    "    }\n",
    "    try:\n",
    "        resp = requests.post(url=ping_url, data=encode_xml, headers=headers).text\n",
    "        xmlt_data = xmltodict.parse(xmltodict.parse(resp)['soap:Envelope']['soap:Body']['RequestResponse']['RequestResult'])\n",
    "        # xml 转 dict\n",
    "        xmlt_data = (json.loads((json.dumps(xmlt_data, ensure_ascii=False, indent=2)).replace('@', '')))\n",
    "#         return xmlt_data['Response']['Header']['ResultCode']\n",
    "        datas = xmlt_data['Response']['HotelResponse']['OTA_HotelRatePlanRS']['RatePlans']\n",
    "        return datas\n",
    "    except (KeyError, Exception) as e:\n",
    "        return ['err and retry,errids:', hotel_ids]\n",
    "    if not isinstance(datas, list):\n",
    "        datas = [datas]\n",
    "    return datas\n",
    "    for data in datas:\n",
    "        rateplans_get_price_and_insert(data)  # pylint: disable=E1120\n",
    "    return [hotel_ids, 'rateplans fetch is OK']"
   ]
  },
  {
   "cell_type": "code",
   "execution_count": null,
   "metadata": {},
   "outputs": [],
   "source": [
    "hotel_ids_rateplans_fetch(['a82375311112223333332'])\n",
    "# {'PrimaryLangID': 'zh',\n",
    "#  'Success': None,\n",
    "#  'TimeStamp': '2017-12-26T15:58:38.8747412+08:00',\n",
    "#  'Version': '1.0',\n",
    "#  'xmlns': 'http://www.opentravel.org/OTA/2003/05'}"
   ]
  },
  {
   "cell_type": "code",
   "execution_count": null,
   "metadata": {
    "scrolled": true
   },
   "outputs": [],
   "source": [
    "# # 携程:主动更新酒店信息\n",
    "# from path import Path\n",
    "# import os\n",
    "# a=Path('/root/dpp/')\n",
    "# a.chdir()\n",
    "# from ctrip_worker import hotel_ids_message_fetch\n",
    "# hotels=[]\n",
    "# count=0\n",
    "# for database in c.static_ctrip.collection_names()[1:]:\n",
    "#     print(database)\n",
    "#     if 'jiudian' not in database:\n",
    "#         continue\n",
    "#     for item in c.static_ctrip[database].find({'rooms.tpa_Extensions':None},{'_id':0,'id':1}):\n",
    "#         hotels.append(item['id'])\n",
    "#         if len(hotels)==10:\n",
    "#             hotel_ids_message_fetch.apply_async(args=[hotels],queue='dpp_ctrip_tasks')\n",
    "#             count+=1\n",
    "#             print(count,end='\\r')\n",
    "#             hotels=[]\n",
    "#         else:\n",
    "#             continue\n",
    "# if hotels:\n",
    "#     print('over',hotels)\n",
    "#     hotel_ids_message_fetch.apply_async(args=[hotels],queue='dpp_ctrip_tasks')"
   ]
  },
  {
   "cell_type": "code",
   "execution_count": null,
   "metadata": {},
   "outputs": [],
   "source": [
    "from path import Path\n",
    "import os\n",
    "a=Path('/root/dpp/')\n",
    "a.chdir()\n",
    "from ctrip_worker import hotel_ids_message_fetch,jiudian_hotels_sub_library\n",
    "# hotel_ids_message_fetch.apply_async(args=[['1700306']],queue='dpp_ctrip_tasks')\n",
    "jiudian_hotels_sub_library.apply_async(args=['706587'],queue='dpp_ctrip_tasks')"
   ]
  },
  {
   "cell_type": "code",
   "execution_count": null,
   "metadata": {},
   "outputs": [],
   "source": [
    "for item in c.static.jiudian_hotels.find(\n",
    "    {\n",
    "        'cityCode':{\n",
    "            '$in':['1','2','30','32']\n",
    "        }\n",
    "    },\n",
    "    {\n",
    "        'id':1,\n",
    "        '_id':0\n",
    "    }\n",
    "):\n",
    "    jiudian_hotels_sub_library.apply_async(args=[item['id']],queue='dpp_ctrip_tasks')\n",
    "    "
   ]
  },
  {
   "cell_type": "code",
   "execution_count": null,
   "metadata": {
    "scrolled": true
   },
   "outputs": [],
   "source": [
    "# tag(list)\n",
    "rdb=c.srdb_new(0)\n",
    "count=0\n",
    "err_data=[]\n",
    "for collection in c.dmdb_ctrip.collection_names():\n",
    "    if collection in ['jiudian_hotels_sort','system.indexes']:\n",
    "        continue\n",
    "    for clean_datas in c.dmdb_ctrip[collection].find({},\n",
    "                                                    {'_id':0,\n",
    "                                                     'id':1,\n",
    "                                                     'areaId':1,\n",
    "                                                     'zoneCode':1,\n",
    "                                                     'name':1,\n",
    "                                                     'brandCode':1}):\n",
    "        try:\n",
    "            name=clean_datas['name']\n",
    "            tag=jieba_lcut_for_search(name)\n",
    "            tag.add(name)\n",
    "            sentence=name\n",
    "            district_name = rdb.hget('ctrip_map:district', clean_datas['areaId'])\n",
    "            brand_name=rdb.hget('ctrip_map:brand',clean_datas['brandCode'])\n",
    "            if not brand_name:\n",
    "                continue\n",
    "\n",
    "            if clean_datas['zoneCode']:\n",
    "                zone_list = [zone for zone in rdb.hmget('ctrip_map:zone', clean_datas['zoneCode']) if zone]\n",
    "                tag=tag.union(set([item for item in punctuation_replace(','.join(zone_list)).split(',') if item]))\n",
    "                sentence+=' '+str(zone_list)\n",
    "            if district_name:\n",
    "                tag.add(district_name)\n",
    "                sentence+=' '+district_name\n",
    "            if brand_name:\n",
    "                tag.add(brand_name)\n",
    "                sentence+=' '+brand_name\n",
    "            tag=tag.union(jieba_analyse_extract_tags(sentence))\n",
    "            count+=1\n",
    "            c.dmdb_ctrip[collection].update_one({'id':clean_datas['id']},{'$set':{'tag':list(tag)}})\n",
    "            c.dmdb_ctrip['jiudian_hotels_sort'].update_one({'id':clean_datas['id']},{'$set':{'tag':list(tag)}})\n",
    "#             print(collection,clean_datas['id'],brand_name,tag,count,end='\\n')\n",
    "            print(count,end='\\r')\n",
    "#             break\n",
    "        except:\n",
    "            err_data.append(clean_datas)\n",
    "#     break"
   ]
  },
  {
   "cell_type": "code",
   "execution_count": null,
   "metadata": {},
   "outputs": [],
   "source": [
    "c.static_ctrip['jiudian_hotels_sort'].count({'brandCode':{'$in':brand_list}})"
   ]
  },
  {
   "cell_type": "code",
   "execution_count": null,
   "metadata": {},
   "outputs": [],
   "source": [
    "brand_list=list((rdb.hgetall('ctrip_map:brand')).keys())"
   ]
  },
  {
   "cell_type": "code",
   "execution_count": null,
   "metadata": {},
   "outputs": [],
   "source": [
    "import jieba.analyse,jieba\n",
    "import zhon.hanzi\n",
    "import string\n",
    "\n",
    "def jieba_analyse_extract_tags(sentence):\n",
    "    return set(jieba.analyse.extract_tags(sentence))\n",
    "\n",
    "def jieba_lcut_for_search(sentence):\n",
    "    sentence=punctuation_replace(sentence)\n",
    "    tag=set()\n",
    "    resp=jieba.lcut(sentence)\n",
    "    for i in range(1,len(resp)+1):\n",
    "        if ',' in resp[i-1]:\n",
    "            break\n",
    "        tag.add(''.join(resp[:i]))\n",
    "    return tag\n",
    "\n",
    "def punctuation_replace(sentence,replace=','):\n",
    "    punctuation=string.punctuation+zhon.hanzi.punctuation\n",
    "    trantab=str.maketrans(punctuation, replace*len(punctuation))\n",
    "    return sentence.translate(trantab).strip(replace)"
   ]
  },
  {
   "cell_type": "code",
   "execution_count": null,
   "metadata": {},
   "outputs": [],
   "source": [
    "jieba_lcut_for_search('星程酒店(南通体育会展中心店)')"
   ]
  },
  {
   "cell_type": "code",
   "execution_count": null,
   "metadata": {},
   "outputs": [],
   "source": [
    "# 提取ctrip各城市不同地表分类统计\n",
    "ref_points,count={},0\n",
    "for item in c.static.jiudian_hotels.find({},{'_id':0,'cityCode':1,'refPoints':1},no_cursor_timeout=True):\n",
    "    try:\n",
    "        ref_points.setdefault(item['cityCode'],{})\n",
    "        count+=1\n",
    "        if not item.get('refPoints'):\n",
    "            continue\n",
    "        if not isinstance(item['refPoints'],list):\n",
    "            item['refPoints']=[item['refPoints']]\n",
    "        for ref_point in item['refPoints']:\n",
    "            ref_points[item['cityCode']].setdefault(ref_point['RefPointName'],[])\n",
    "            ref_points[item['cityCode']].setdefault('大学',[])\n",
    "            ref_points[item['cityCode']].setdefault('医院',[])\n",
    "            if ref_point.get('Name'):\n",
    "                if '医院' in ref_point['Name']:\n",
    "                    ref_points[item['cityCode']]['医院'].append(ref_point['Name'])\n",
    "                elif '大学' in ref_point['Name']:\n",
    "                    ref_points[item['cityCode']]['大学'].append(ref_point['Name'])\n",
    "                else:\n",
    "                    ref_points[item['cityCode']][ref_point['RefPointName']].append(ref_point['Name'])\n",
    "        print(f\">>>cityCode:{item['cityCode']},count:{count}<<<\",end='\\r')\n",
    "    except:\n",
    "        pprint(item)"
   ]
  },
  {
   "cell_type": "code",
   "execution_count": null,
   "metadata": {},
   "outputs": [],
   "source": [
    "city_category_name={}\n",
    "for city_code,value in ref_points.items():\n",
    "    city_category_name[city_code]={}\n",
    "    for category,name_list in value.items():\n",
    "        city_category_name[city_code][category]=[item[0] for item in Counter(name_list).most_common(20)]\n",
    "#     pprint(city_category_name)"
   ]
  },
  {
   "cell_type": "code",
   "execution_count": null,
   "metadata": {},
   "outputs": [],
   "source": [
    "with open('ctrip_refPoints.json','w') as f:\n",
    "    f.write(json.dumps(city_category_name,indent=2,ensure_ascii=False))"
   ]
  },
  {
   "cell_type": "code",
   "execution_count": null,
   "metadata": {},
   "outputs": [],
   "source": [
    "city_category_name"
   ]
  },
  {
   "cell_type": "code",
   "execution_count": null,
   "metadata": {},
   "outputs": [],
   "source": [
    "from collections import Counter\n",
    "a=Counter([1,2,3,2,3,4,5,6,6,3,2,413,13,2])\n",
    "# a.update([2])\n",
    "[item[0] for item in a.most_common(2)]"
   ]
  },
  {
   "cell_type": "code",
   "execution_count": null,
   "metadata": {},
   "outputs": [],
   "source": [
    "# dpp.boluome.com:ctrip.tag.decomposition:\n",
    "count=0\n",
    "for item in c.static.jiudian_hotels.find({'cityCode':'2'},{'tag':1},no_cursor_timeout=True):\n",
    "    for tag in item['tag']:\n",
    "        tag_lcut=sorted(list(jieba_lcut_for_search(tag)))[:-1]\n",
    "        if not tag_lcut:\n",
    "            continue\n",
    "        for index,lcut in enumerate(tag_lcut):\n",
    "            c.srdb_new(0).zincrby(\n",
    "                'dpp.boluome.com:ctrip.tag.decomposition:{}'.format(lcut),\n",
    "                tag,float(index+1))\n",
    "    count+=1\n",
    "    print(count,end='\\r')"
   ]
  },
  {
   "cell_type": "code",
   "execution_count": null,
   "metadata": {},
   "outputs": [],
   "source": [
    "sorted(list(jieba_lcut_for_search('北京不夜谷老孟农家院')))"
   ]
  },
  {
   "cell_type": "code",
   "execution_count": null,
   "metadata": {},
   "outputs": [],
   "source": [
    "c.static_ctrip.jiudian_hotels_30.count({}) # 2809"
   ]
  },
  {
   "cell_type": "code",
   "execution_count": null,
   "metadata": {},
   "outputs": [],
   "source": [
    "c.static_ctrip.jiudian_hotels_30.count({'__v':10}) #2809"
   ]
  },
  {
   "cell_type": "code",
   "execution_count": null,
   "metadata": {},
   "outputs": [],
   "source": [
    "c.static_ctrip.jiudian_hotels_30.count({'__v':10,'price':{'$exists':True},'price':{'$ne':-1}}) # 5447"
   ]
  },
  {
   "cell_type": "code",
   "execution_count": null,
   "metadata": {},
   "outputs": [],
   "source": [
    "c.static_ctrip.jiudian_hotels_30.count({'__v':10}) # 5483"
   ]
  },
  {
   "cell_type": "code",
   "execution_count": null,
   "metadata": {},
   "outputs": [],
   "source": [
    "c.static_ctrip.jiudian_hotels_30.update_many({},{'$rename':{'__v':'v'}})"
   ]
  },
  {
   "cell_type": "code",
   "execution_count": null,
   "metadata": {},
   "outputs": [],
   "source": [
    "city_code_list=list(c.srdb_new(0).zrangebyscore('ctrip_city_map', 0, 6))"
   ]
  },
  {
   "cell_type": "code",
   "execution_count": null,
   "metadata": {},
   "outputs": [],
   "source": [
    "city_code_list.remove('30')"
   ]
  },
  {
   "cell_type": "code",
   "execution_count": null,
   "metadata": {
    "scrolled": false
   },
   "outputs": [],
   "source": [
    "from connection import ConnectionTask\n",
    "c = ConnectionTask()\n",
    "from path import Path\n",
    "import os\n",
    "a=Path('/root/dpp/')\n",
    "a.chdir()\n",
    "from ctrip_worker import *\n",
    "print('ok')\n",
    "count=0\n",
    "hotel_list = []\n",
    "c.s\n",
    "for city_code in c.static_cluster_ctrip.jiudian_hotels_sort.distinct(\"cityCode\"):\n",
    "#     city_code = 1236\n",
    "    count+=1\n",
    "    print(count,end='\\r')\n",
    "    for item in c.static_cluster_ctrip.jiudian_hotels_sort.find({'cityCode':city_code},{'id':1,'_id':0}):\n",
    "        hotel_list.append(item['id'])\n",
    "        if len(hotel_list) == 10:\n",
    "            search_hotel_lowprice.apply_async(args=[city_code,hotel_ids], queue='dpp_ctrip_tasks')\n",
    "            hotel_list = []\n",
    "    if hotel_list:\n",
    "        search_hotel_lowprice.apply_async(args=[city_code,hotel_ids], queue='dpp_ctrip_tasks')\n",
    "        hotel_list = []\n",
    "    break"
   ]
  },
  {
   "cell_type": "code",
   "execution_count": null,
   "metadata": {
    "scrolled": true
   },
   "outputs": [],
   "source": [
    "count=0\n",
    "city_code_list = c.static_cluster_ctrip['jiudian_hotels_sort'].distinct(\"cityCode\")\n",
    "for city_code in city_code_list:\n",
    "    for item in c.static_cluster_ctrip['jiudian_hotels_sort'].find(\n",
    "        {'cityCode': city_code,'price':{'$exists':False}}, \n",
    "        {'id': 1, '_id': 0}):\n",
    "        count+=1\n",
    "        print(count,end='\\r')\n",
    "        hotel_list.append(item['id'])\n",
    "        if len(hotel_list) == 20:\n",
    "            resp = search_hotel_lowprice(city_code, hotel_list)\n",
    "            hotel_list = []\n",
    "            print(resp)\n",
    "            break\n",
    "        break\n",
    "#             for hotel_data in get_in(resp,'HotelDataLists',[]):\n",
    "#                 hotel_id = str(get_in(hotel_data, 'HotelStatusEntity.Hotel'))\n",
    "#                 lowprice = get_in(hotel_data, 'HotelStatusEntity.MinPrice', default=-1)\n",
    "#                 if hotel_id:\n",
    "#                     print(hotel_id)\n",
    "            \n",
    "#     if hotel_list:\n",
    "#         resp = search_hotel_lowprice(city_code, hotel_list)\n",
    "#         for hotel_data in get_in(resp,'HotelDataLists',[]):\n",
    "#             lowprice = get_in(hotel_data, 'HotelStatusEntity.MinPrice', default=-1)\n",
    "#             if hotel_id:\n",
    "#                 print(hotel_id)\n",
    "#         hotel_list = []"
   ]
  },
  {
   "cell_type": "code",
   "execution_count": null,
   "metadata": {},
   "outputs": [],
   "source": [
    "city_code,hotel_list\n",
    "search_hotel_lowprice(city_code, hotel_list)"
   ]
  },
  {
   "cell_type": "code",
   "execution_count": null,
   "metadata": {},
   "outputs": [],
   "source": [
    "search_hotel_lowprice('30', '1549637,1595181,1596231,1599182,1596049,1598159,1799001,1758471,1598808,1795280,1600185,1847462,1604027,1596942,1740590,1759734,1759984,1759887,1851047,1603097')"
   ]
  },
  {
   "cell_type": "code",
   "execution_count": null,
   "metadata": {},
   "outputs": [],
   "source": [
    "search_hotel_lowprice('30', '1549637')"
   ]
  },
  {
   "cell_type": "code",
   "execution_count": null,
   "metadata": {
    "scrolled": false
   },
   "outputs": [],
   "source": [
    "# 1.4 最低价查询接口 SearchHotelLowPrice(透明代理接口)\n",
    "# 功能:获取指定城市下各酒店的最低价。酒店列表页的起价常用到此接口\n",
    "# 请求体示例:\n",
    "def search_hotel_lowprice(city_code,hotel_list):\n",
    "    if isinstance(hotel_list, list):\n",
    "        hotel_list = \",\".join(hotel_list)\n",
    "    body={\n",
    "        \"SearchTypeEntity\": {# <!--SearchType:查询类型;WirelessSearch，国内酒店;OnLineIntlGTASearch，海外酒店-->\n",
    "            \"SearchType\": \"WirelessSearch\", # <!—分页参数，每页包含酒店数量-->\n",
    "            \"HotelCount\": 20, # <!—页码-->\n",
    "            \"PageIndex\": 1\n",
    "        },\n",
    "        \"PublicSearchParameter\": {\n",
    "            \"City\": city_code,\n",
    "            \"CheckInDate\": \"2018-04-09\", \n",
    "            \"CheckOutDate\": \"2018-04-11\", \n",
    "            \"HotelList\": hotel_list,\n",
    "            \"FilterRoomByPerson\": \"2,999\",\n",
    "            # <!—可选项，请求单人或多人最低价，1 代表单人价，2,999 代表 2 人及以上--> \n",
    "            \"OnlyPPPrice\":False, # <!—可选项，值为 true 只返回预付的最低价房型;false 则不作筛选处理 -> \n",
    "            \"OnlyFGPrice\":False, # <!—可选项，值为 true 只返回到付的最低价房型，false 则不作筛选出来-> },\n",
    "    #         \"FacilityEntity\":{\n",
    "    #             \"IsJustifyConfirm\":\"T\" # <!—可选项，值为 T 只返回可立即确认房型，值为 F 则不返回可立即确认房型，值为空则不筛选-->\n",
    "    #         }\n",
    "        }\n",
    "    }\n",
    "    url_html = 'http://openservice.ctrip.com/OpenService/ServiceProxy.ashx'\n",
    "    token_fetch_and_update()\n",
    "    Access_Token = c.dpprdb(0).hget('ctrip_token', 'access_token')\n",
    "    payload = {\n",
    "        'AID': conf.XIECHENG_AID,\n",
    "        'SID': conf.XIECHENG_SID,\n",
    "        'ICODE':'ea2570c91b3c4d19ab63fc6d97f8d62d',\n",
    "        'Token': Access_Token,\n",
    "        'mode': 1,\n",
    "        'format': 'json'\n",
    "    }\n",
    "    requests_result = requests.post(url_html, params=payload, json=body)\n",
    "    response = requests_result\n",
    "    return response.json()"
   ]
  },
  {
   "cell_type": "code",
   "execution_count": null,
   "metadata": {},
   "outputs": [],
   "source": [
    "count = 0\n",
    "for collection in c.static_cluster_ctrip.collection_names():\n",
    "    if collection in ['jiudian_hotels_sort']:\n",
    "        continue\n",
    "    print(collection)\n",
    "    for item in c.static_cluster_ctrip[collection].find({},{'_id':0,'images':1,'id':1}):\n",
    "        c.static_cluster_ctrip['jiudian_hotels_sort'].update_one({'id':item['id']},{'$set':item})\n",
    "        count += 1\n",
    "        print(count,end='\\r')"
   ]
  },
  {
   "cell_type": "code",
   "execution_count": null,
   "metadata": {
    "scrolled": true
   },
   "outputs": [],
   "source": [
    "count = 0\n",
    "for collection in c.static_cluster_ctrip.collection_names():\n",
    "    if collection in ['jiudian_hotels_sort','jiudian_hotels_7','jiudian_hotels_578']:\n",
    "        continue\n",
    "    print(collection)\n",
    "    for item in c.static_cluster_ctrip[collection].find({},{'_id':0,'refPoints':1,'id':1}):\n",
    "        refPoints = item['refPoints']\n",
    "        if not refPoints:\n",
    "            continue\n",
    "        if isinstance(refPoints,dict):\n",
    "            refPoints = [refPoints]\n",
    "        for ref_item in refPoints:\n",
    "            if 'Distance' in ref_item:\n",
    "                ref_item['Distance'] = float(ref_item['Distance'])\n",
    "        c.static_cluster_ctrip[collection].update_one(\n",
    "            {'id':item['id']},\n",
    "            {'$set':{'refPoints':refPoints}}\n",
    "        )\n",
    "        c.static_cluster_ctrip['jiudian_hotels_sort'].update_one(\n",
    "            {'id':item['id']},\n",
    "            {'$set':{'refPoints':refPoints}}\n",
    "        )\n",
    "        count += 1\n",
    "        print(count,end='\\r')"
   ]
  },
  {
   "cell_type": "code",
   "execution_count": null,
   "metadata": {},
   "outputs": [],
   "source": [
    "hotel_id_list = c.static_cluster_ctrip['jiudian_hotels_sort'].distinct('id',{'name':{'$exists':False}})\n"
   ]
  },
  {
   "cell_type": "code",
   "execution_count": null,
   "metadata": {},
   "outputs": [],
   "source": [
    "for i in range(len(hotel_id_list)//10+1):\n",
    "    print(i,hotel_id_list[i*10:i*10+10],end='\\r')\n",
    "    break\n",
    "    "
   ]
  },
  {
   "cell_type": "code",
   "execution_count": null,
   "metadata": {},
   "outputs": [],
   "source": [
    "print(hotel_id_list)"
   ]
  }
 ],
 "metadata": {
  "kernelspec": {
   "display_name": "Python 3",
   "language": "python",
   "name": "python3"
  },
  "language_info": {
   "codemirror_mode": {
    "name": "ipython",
    "version": 3
   },
   "file_extension": ".py",
   "mimetype": "text/x-python",
   "name": "python",
   "nbconvert_exporter": "python",
   "pygments_lexer": "ipython3",
   "version": "3.6.0"
  }
 },
 "nbformat": 4,
 "nbformat_minor": 2
}
