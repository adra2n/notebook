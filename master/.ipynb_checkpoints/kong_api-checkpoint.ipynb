{
 "cells": [
  {
   "cell_type": "code",
   "execution_count": 16,
   "metadata": {
    "scrolled": true
   },
   "outputs": [
    {
     "data": {
      "text/plain": [
       "'{\"appId\":157,\"customerId\":266}'"
      ]
     },
     "execution_count": 16,
     "metadata": {},
     "output_type": "execute_result"
    }
   ],
   "source": [
    "from connection import ConnectionTask\n",
    "import requests\n",
    "import json\n",
    "class KongConnection(ConnectionTask):\n",
    "    def __getitem__(self, env):\n",
    "        if env == \"dev\":\n",
    "            return self.drdb_new(0)\n",
    "        elif env == \"stg\":\n",
    "            return self.srdb_new(0)\n",
    "        elif env == \"pro\":\n",
    "            return self.prdb_mast(0)\n",
    "k = KongConnection()\n",
    "k['dev'].hget('customers','91ala')"
   ]
  },
  {
   "cell_type": "code",
   "execution_count": 14,
   "metadata": {},
   "outputs": [],
   "source": [
    "def kong_add_app(app_config,env='dev'):\n",
    "    app_code = app_config.pop('appCode')\n",
    "    hset_resp = k[env].hset('customers',app_code,json.dumps(app_config))\n",
    "    return {0:'{}已存在'.format(app_code),1:'{}添加成功'.format(app_code)}.get(hset_resp,hset_resp)"
   ]
  },
  {
   "cell_type": "code",
   "execution_count": 20,
   "metadata": {},
   "outputs": [
    {
     "data": {
      "text/plain": [
       "1"
      ]
     },
     "execution_count": 20,
     "metadata": {},
     "output_type": "execute_result"
    }
   ],
   "source": [
    "app_config = {\n",
    "    \"appCode\":\"cebbank\",\n",
    "    \"appId\":172,\n",
    "    \"customerId\":281\n",
    "}\n",
    "kong_add_app(app_config,env='dev')"
   ]
  },
  {
   "cell_type": "code",
   "execution_count": 20,
   "metadata": {},
   "outputs": [
    {
     "data": {
      "text/plain": [
       "'laishangbank添加成功'"
      ]
     },
     "execution_count": 20,
     "metadata": {},
     "output_type": "execute_result"
    }
   ],
   "source": [
    "app_config = {\n",
    "    \"appCode\":\"laishangbank\",\n",
    "    \"appId\":188,\n",
    "    \"customerId\":402\n",
    "}\n",
    "kong_add_app(app_config,env='dev')"
   ]
  },
  {
   "cell_type": "code",
   "execution_count": 21,
   "metadata": {},
   "outputs": [
    {
     "data": {
      "text/plain": [
       "'qilubank添加成功'"
      ]
     },
     "execution_count": 21,
     "metadata": {},
     "output_type": "execute_result"
    }
   ],
   "source": [
    "app_config = {\n",
    "    \"appCode\":\"qilubank\",\n",
    "    \"appId\":187,\n",
    "    \"customerId\":401\n",
    "}\n",
    "kong_add_app(app_config,env='dev')"
   ]
  },
  {
   "cell_type": "code",
   "execution_count": 22,
   "metadata": {},
   "outputs": [
    {
     "data": {
      "text/plain": [
       "'yantaibank添加成功'"
      ]
     },
     "execution_count": 22,
     "metadata": {},
     "output_type": "execute_result"
    }
   ],
   "source": [
    "app_config = {\n",
    "    \"appCode\":\"yantaibank\",\n",
    "    \"appId\":189,\n",
    "    \"customerId\":403\n",
    "}\n",
    "kong_add_app(app_config,env='dev')"
   ]
  },
  {
   "cell_type": "code",
   "execution_count": 23,
   "metadata": {},
   "outputs": [
    {
     "data": {
      "text/plain": [
       "'51jiedao添加成功'"
      ]
     },
     "execution_count": 23,
     "metadata": {},
     "output_type": "execute_result"
    }
   ],
   "source": [
    "app_config = {\n",
    "    \"appCode\":\"51jiedao\",\n",
    "    \"appId\":412,\n",
    "    \"customerId\":428\n",
    "}\n",
    "kong_add_app(app_config,env='pro')\n",
    "# appKey: 5830022287\n",
    "# appSecret: KaFBlezO915uasXgOLigsnmGapGzuCG2\n",
    "# appId: 412\n",
    "# customerId: 428\n",
    "# 即刻有生产的配置参数\n",
    "curl -X POST http://127.0.0.1:8001/apis/api-51jiedao-huafei/plugins \\\n",
    "  --data \"name=blm-auth\" \\\n",
    "  --data \"config.consumer=51jiedao\" \\\n",
    "  --data \"config.app_id=412\" \\\n",
    "  --data \"config.customer_id=428\" \\\n",
    "  --data \"config.app_secret=KaFBlezO915uasXgOLigsnmGapGzuCG2\" \\\n",
    "  --data \"config.app_key=5830022287\" "
   ]
  },
  {
   "cell_type": "code",
   "execution_count": 13,
   "metadata": {},
   "outputs": [
    {
     "data": {
      "text/plain": [
       "'hnnx已存在'"
      ]
     },
     "execution_count": 13,
     "metadata": {},
     "output_type": "execute_result"
    }
   ],
   "source": [
    "app_config = {\n",
    "    \"appCode\":\"hnnx\",\n",
    "    \"appId\":410,\n",
    "    \"customerId\":426\n",
    "}\n",
    "kong_add_app(app_config,env='pro')"
   ]
  },
  {
   "cell_type": "code",
   "execution_count": 8,
   "metadata": {},
   "outputs": [
    {
     "data": {
      "text/plain": [
       "1"
      ]
     },
     "execution_count": 8,
     "metadata": {},
     "output_type": "execute_result"
    }
   ],
   "source": [
    "app_config = {\n",
    "    \"appCode\":\"maxus\",\n",
    "    \"appId\":443,\n",
    "    \"customerId\":400\n",
    "}\n",
    "kong_add_app(app_config,env='dev')"
   ]
  },
  {
   "cell_type": "code",
   "execution_count": 21,
   "metadata": {},
   "outputs": [
    {
     "data": {
      "text/plain": [
       "1"
      ]
     },
     "execution_count": 21,
     "metadata": {},
     "output_type": "execute_result"
    }
   ],
   "source": [
    "app_config = {\n",
    "    \"appCode\":\"paasapp\",\n",
    "    \"appId\":442,\n",
    "    \"customerId\":399\n",
    "}\n",
    "kong_add_app(app_config,env='dev')"
   ]
  },
  {
   "cell_type": "code",
   "execution_count": 18,
   "metadata": {},
   "outputs": [
    {
     "data": {
      "text/plain": [
       "'linshangbank添加成功'"
      ]
     },
     "execution_count": 18,
     "metadata": {},
     "output_type": "execute_result"
    }
   ],
   "source": [
    "app_config = {\n",
    "    \"appCode\":\"linshangbank\",\n",
    "    \"appId\":411,\n",
    "    \"customerId\":427\n",
    "}\n",
    "kong_add_app(app_config,env='pro')"
   ]
  },
  {
   "cell_type": "code",
   "execution_count": 22,
   "metadata": {},
   "outputs": [
    {
     "data": {
      "text/plain": [
       "1"
      ]
     },
     "execution_count": 22,
     "metadata": {},
     "output_type": "execute_result"
    }
   ],
   "source": [
    "app_config = {\n",
    "    \"appCode\":\"zjrcu\",\n",
    "    \"appId\":407,\n",
    "    \"customerId\":421\n",
    "}\n",
    "kong_add_app(app_config,env='pro')"
   ]
  },
  {
   "cell_type": "code",
   "execution_count": 24,
   "metadata": {},
   "outputs": [
    {
     "name": "stdout",
     "output_type": "stream",
     "text": [
      "api服务添加: {'http_if_terminated': True, 'id': '937910df-ccf9-4c02-ba43-70ec5ee1bb4b', 'retries': 5, 'preserve_host': False, 'created_at': 1527650897000, 'upstream_connect_timeout': 60000, 'upstream_url': 'http://192.168.0.5:31054', 'upstream_read_timeout': 60000, 'https_only': False, 'upstream_send_timeout': 60000, 'strip_uri': False, 'name': 'api-worldcup', 'uris': ['/worldcup']}\n",
      "api服务添加session插件: {'api_id': '937910df-ccf9-4c02-ba43-70ec5ee1bb4b', 'id': '698575d7-1e9b-4458-b848-08a23c3046f0', 'created_at': 1527650897000, 'enabled': True, 'name': 'blm-session', 'config': {'redis_host': '192.168.0.6', 'app_code': 'boluome', 'redis_timeout': 2000, 'redis_port': 6379}}\n",
      "添加跨域插件(开发环境需要): {'api_id': '937910df-ccf9-4c02-ba43-70ec5ee1bb4b', 'id': 'd5faad5d-e517-43ca-ae5a-db97e819dc3f', 'created_at': 1527650897000, 'enabled': True, 'name': 'cors', 'config': {'methods': ['GET', 'POST', 'PUT', 'PATCH', 'DELETE'], 'credentials': True, 'max_age': 3600, 'origins': ['*'], 'exposed_headers': ['date'], 'preflight_continue': False, 'headers': ['content-type', 'sid', 'appcode', 'token']}}\n",
      "添加h5服务: {'http_if_terminated': True, 'id': 'ba147a6d-01e7-4c1c-8b73-55caea65196b', 'retries': 5, 'preserve_host': True, 'created_at': 1527650897000, 'upstream_connect_timeout': 60000, 'upstream_url': 'http://192.168.0.5:31054/worldcup', 'upstream_read_timeout': 60000, 'https_only': False, 'upstream_send_timeout': 60000, 'strip_uri': True, 'name': 'h5-api-worldcup', 'uris': ['/api/worldcup']}\n",
      "h5服务添加session插件: {'api_id': 'ba147a6d-01e7-4c1c-8b73-55caea65196b', 'id': '8549ef41-b6b0-4b3e-b81e-d4136012b9b0', 'created_at': 1527650898000, 'enabled': True, 'name': 'blm-session', 'config': {'redis_timeout': 2000, 'redis_port': 6379, 'redis_host': '192.168.0.6'}}\n"
     ]
    }
   ],
   "source": [
    "data = {\n",
    "    \"serviceName\":\"worldcup\",\n",
    "    \"upstreamUrl\":\"http://192.168.0.5:31054\",\n",
    "    \"env\":\"dev\"\n",
    "}\n",
    "kong_add_service(data)"
   ]
  },
  {
   "cell_type": "code",
   "execution_count": 15,
   "metadata": {},
   "outputs": [
    {
     "name": "stdout",
     "output_type": "stream",
     "text": [
      "api服务添加: {'name': \"already exists with value 'api-haiwaigou'\"}\n",
      "api服务添加session插件: {'name': \"already exists with value 'blm-session'\"}\n",
      "添加h5服务: {'name': \"already exists with value 'h5-api-haiwaigou'\"}\n",
      "h5服务添加session插件: {'name': \"already exists with value 'blm-session'\"}\n"
     ]
    }
   ],
   "source": [
    "data = {\n",
    "    \"serviceName\":\"haiwaigou\",\n",
    "    \"upstreamUrl\":\"http://192.168.2.2:31046\",\n",
    "    \"env\":\"stg\"\n",
    "}\n",
    "kong_add_service(data)"
   ]
  },
  {
   "cell_type": "code",
   "execution_count": 25,
   "metadata": {},
   "outputs": [
    {
     "name": "stdout",
     "output_type": "stream",
     "text": [
      "api服务添加: {'http_if_terminated': True, 'id': 'e3a4c99a-9dba-4d88-96ef-35878afac73a', 'retries': 5, 'preserve_host': False, 'created_at': 1527755880000, 'upstream_connect_timeout': 60000, 'upstream_url': 'http://shoujiweixiuapi.localdomain:31053', 'upstream_read_timeout': 60000, 'https_only': False, 'upstream_send_timeout': 60000, 'strip_uri': False, 'name': 'api-shoujiweixiu', 'uris': ['/shoujiweixiu']}\n",
      "api服务添加session插件: {'api_id': 'e3a4c99a-9dba-4d88-96ef-35878afac73a', 'id': 'effcbde2-5b9d-4661-a8b5-5a0564984d90', 'created_at': 1527755880000, 'enabled': True, 'name': 'blm-session', 'config': {'redis_host': 'masterredis-ro.localdomain', 'app_code': 'boluome', 'redis_timeout': 2000, 'redis_port': 6379}}\n",
      "添加h5服务: {'http_if_terminated': True, 'id': 'e2a4e5e4-d066-43d5-b228-ee78e376b2f9', 'retries': 5, 'preserve_host': True, 'created_at': 1527755880000, 'upstream_connect_timeout': 60000, 'upstream_url': 'http://shoujiweixiuapi.localdomain:31053/shoujiweixiu', 'upstream_read_timeout': 60000, 'https_only': False, 'upstream_send_timeout': 60000, 'strip_uri': True, 'name': 'h5-api-shoujiweixiu', 'uris': ['/api/shoujiweixiu']}\n",
      "h5服务添加session插件: {'api_id': 'e2a4e5e4-d066-43d5-b228-ee78e376b2f9', 'id': '611bb782-e5a7-43fa-8782-93b045a5ff73', 'created_at': 1527755880000, 'enabled': True, 'name': 'blm-session', 'config': {'redis_timeout': 2000, 'redis_port': 6379, 'redis_host': 'masterredis-ro.localdomain'}}\n"
     ]
    }
   ],
   "source": [
    "  data = {\n",
    "    \"serviceName\":\"shoujiweixiu\",\n",
    "    \"upstreamUrl\":\"http://shoujiweixiuapi.localdomain:31053\",\n",
    "    \"env\":\"pro\"\n",
    "}\n",
    "kong_add_service(data)"
   ]
  },
  {
   "cell_type": "code",
   "execution_count": 5,
   "metadata": {},
   "outputs": [
    {
     "name": "stdout",
     "output_type": "stream",
     "text": [
      "api服务添加: {'http_if_terminated': True, 'id': '1a1a2b01-8edd-4a22-984d-668ba7fff400', 'retries': 5, 'preserve_host': False, 'created_at': 1526537603000, 'upstream_connect_timeout': 60000, 'upstream_url': 'http://huishouapi.localdomain:31049', 'upstream_read_timeout': 60000, 'https_only': False, 'upstream_send_timeout': 60000, 'strip_uri': False, 'name': 'api-huishou', 'uris': ['/huishou']}\n",
      "api服务添加session插件: {'api_id': '1a1a2b01-8edd-4a22-984d-668ba7fff400', 'id': '0c801d9a-7ff8-410a-bc32-fc24887e17ae', 'created_at': 1526537603000, 'enabled': True, 'name': 'blm-session', 'config': {'redis_host': 'masterredis-ro.localdomain', 'app_code': 'boluome', 'redis_timeout': 2000, 'redis_port': 6379}}\n",
      "添加h5服务: {'http_if_terminated': True, 'id': 'd768fed2-4d08-491f-b521-391791d166f5', 'retries': 5, 'preserve_host': True, 'created_at': 1526537603000, 'upstream_connect_timeout': 60000, 'upstream_url': 'http://huishouapi.localdomain:31049/huishou', 'upstream_read_timeout': 60000, 'https_only': False, 'upstream_send_timeout': 60000, 'strip_uri': True, 'name': 'h5-api-huishou', 'uris': ['/api/huishou']}\n",
      "h5服务添加session插件: {'api_id': 'd768fed2-4d08-491f-b521-391791d166f5', 'id': '8bdf24d1-f167-47f8-934c-59428c46b57a', 'created_at': 1526537603000, 'enabled': True, 'name': 'blm-session', 'config': {'redis_timeout': 2000, 'redis_port': 6379, 'redis_host': 'masterredis-ro.localdomain'}}\n"
     ]
    }
   ],
   "source": [
    "data = {\n",
    "    \"serviceName\":\"huishou\",\n",
    "    \"upstreamUrl\":\"http://huishouapi.localdomain:31049\",\n",
    "    \"env\":\"pro\"\n",
    "}\n",
    "kong_add_service(data)"
   ]
  },
  {
   "cell_type": "code",
   "execution_count": 2,
   "metadata": {},
   "outputs": [],
   "source": [
    "def kong_add_service(data):\n",
    "    if data['env'] == 'dev':\n",
    "        url = 'http://192.168.0.6:8001/apis/'\n",
    "        redis = \"192.168.0.6\"\n",
    "    elif data['env'] == 'stg':\n",
    "        url = 'http://192.168.2.6:8001/apis/'\n",
    "        redis = \"192.168.2.6\"\n",
    "    elif data['env'] == 'pro':\n",
    "        url = 'http://192.168.1.17:8001/apis/'\n",
    "        redis = \"masterredis-ro.localdomain\"\n",
    "    else:\n",
    "        raise KeyError\n",
    "        \n",
    "    print('api服务添加:',add_service_api(data,url))\n",
    "    print('api服务添加session插件:',add_service_session(data,url,redis))\n",
    "    if data['env'] == 'dev':\n",
    "        print('添加跨域插件(开发环境需要):',add_service_cross_domain(data,url))\n",
    "    print('添加h5服务:',add_service_h5_api(data,url))\n",
    "    print('h5服务添加session插件:',add_service_session(data,url,redis,app_code=None))   "
   ]
  },
  {
   "cell_type": "code",
   "execution_count": 3,
   "metadata": {},
   "outputs": [],
   "source": [
    "def add_service_api(data,url):\n",
    "    body = {\n",
    "        \"name\": \"api-{}\".format(data['serviceName']),\n",
    "        \"uris\": \"/{}\".format(data['serviceName']),\n",
    "        \"upstream_url\": data['upstreamUrl'],\n",
    "        \"preserve_host\":False,\n",
    "        \"strip_uri\":False\n",
    "    }\n",
    "    return requests.post(url,data=body).json()\n",
    "\n",
    "def add_service_session(data,url,redis,app_code='boluome'):\n",
    "    body = {\n",
    "        \"name\": \"blm-session\",\n",
    "        \"config.redis_host\": redis\n",
    "    }\n",
    "    if app_code:\n",
    "        body['config.app_code'] = app_code\n",
    "        url+='api-{}/plugins'.format(data['serviceName'])\n",
    "    else:\n",
    "        url+='h5-api-{}/plugins'.format(data['serviceName'])\n",
    "\n",
    "    return requests.post(url,data=body).json()\n",
    "\n",
    "def add_service_cross_domain(data,url):\n",
    "    body = {\n",
    "        \"name\": \"cors\",\n",
    "        \"config.origins\":\"*\",\n",
    "        \"config.methods\": \"GET,POST,PUT,PATCH,DELETE\",\n",
    "        \"config.headers\": \"content-type,sid,appcode,token\",\n",
    "        \"config.exposed_headers\":\"date\",\n",
    "        \"config.credentials\": True,\n",
    "        \"config.max_age\": 3600\n",
    "    }\n",
    "    return requests.post(url+'api-{}/plugins'.format(data['serviceName']),data=body).json()\n",
    "\n",
    "def add_service_h5_api(data,url):\n",
    "    body = {\n",
    "        \"name\": \"h5-api-{}\".format(data['serviceName']),\n",
    "        \"uris\": \"/api/{}\".format(data['serviceName']),\n",
    "        \"upstream_url\": data['upstreamUrl']+'/'+data['serviceName'],\n",
    "        \"preserve_host\":True,\n",
    "        \"strip_uri\":True\n",
    "    }\n",
    "    return requests.post(url,data=body).json()"
   ]
  },
  {
   "cell_type": "code",
   "execution_count": null,
   "metadata": {},
   "outputs": [],
   "source": [
    "curl -X POST http://127.0.0.1:8001/apis/api-51jiedao-huafei/plugins \\\n",
    "  --data \"name=blm-auth\" \\\n",
    "  --data \"config.consumer=51jiedao\" \\\n",
    "  --data \"config.app_id=443\" \\\n",
    "  --data \"config.customer_id=400\" \\\n",
    "  --data \"config.app_secret=euiDTUogYZEuTzW5BWq5OqtpzpzMLxlw\" \\\n",
    "  --data \"config.app_key=5452308654\" "
   ]
  }
 ],
 "metadata": {
  "kernelspec": {
   "display_name": "Python 3",
   "language": "python",
   "name": "python3"
  },
  "language_info": {
   "codemirror_mode": {
    "name": "ipython",
    "version": 3
   },
   "file_extension": ".py",
   "mimetype": "text/x-python",
   "name": "python",
   "nbconvert_exporter": "python",
   "pygments_lexer": "ipython3",
   "version": "3.6.0"
  }
 },
 "nbformat": 4,
 "nbformat_minor": 2
}
