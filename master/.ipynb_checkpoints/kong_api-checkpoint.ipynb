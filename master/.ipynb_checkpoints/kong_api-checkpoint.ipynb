{
 "cells": [
  {
   "cell_type": "code",
   "execution_count": 1,
   "metadata": {
    "scrolled": false
   },
   "outputs": [
    {
     "data": {
      "text/plain": [
       "'{\"appId\":157,\"customerId\":266}'"
      ]
     },
     "execution_count": 1,
     "metadata": {},
     "output_type": "execute_result"
    }
   ],
   "source": [
    "from connection import ConnectionTask\n",
    "import requests\n",
    "import json\n",
    "class KongConnection(ConnectionTask):\n",
    "    def __getitem__(self, env):\n",
    "        if env == \"dev\":\n",
    "            return self.drdb_new(0)\n",
    "        elif env == \"stg\":\n",
    "            return self.srdb_new(0)\n",
    "        elif env == \"pro\":\n",
    "            return self.prdb_mast(0)\n",
    "k = KongConnection()\n",
    "k['dev'].hget('customers','91ala')"
   ]
  },
  {
   "cell_type": "code",
   "execution_count": 3,
   "metadata": {},
   "outputs": [],
   "source": [
    "def kong_add_app(app_config,env='dev'):\n",
    "    app_code = app_config.pop('appCode')\n",
    "    hset_resp = k[env].hset('customers',app_code,json.dumps(app_config))\n",
    "    return {0:'{}已存在'.format(app_code),1:'{}添加成功'.format(app_code)}.get(hset_resp,hset_resp)"
   ]
  },
  {
   "cell_type": "code",
   "execution_count": 35,
   "metadata": {},
   "outputs": [
    {
     "data": {
      "text/plain": [
       "'ctghr添加成功'"
      ]
     },
     "execution_count": 35,
     "metadata": {},
     "output_type": "execute_result"
    }
   ],
   "source": [
    "app_config = {\n",
    "    \"appCode\":\"ctghr\",\n",
    "    \"appId\":444,\n",
    "    \"customerId\":404\n",
    "}\n",
    "kong_add_app(app_config,env='dev')"
   ]
  },
  {
   "cell_type": "code",
   "execution_count": 4,
   "metadata": {},
   "outputs": [
    {
     "data": {
      "text/plain": [
       "'wacai已存在'"
      ]
     },
     "execution_count": 4,
     "metadata": {},
     "output_type": "execute_result"
    }
   ],
   "source": [
    "app_config = {\n",
    "    \"appCode\":\"wacai\",\n",
    "    \"appId\":426,\n",
    "    \"customerId\":380\n",
    "}\n",
    "kong_add_app(app_config,env='dev')"
   ]
  },
  {
   "cell_type": "code",
   "execution_count": null,
   "metadata": {},
   "outputs": [],
   "source": [
    "app_config = {\n",
    "    \"appCode\":\"cebbank\",\n",
    "    \"appId\":172,\n",
    "    \"customerId\":281\n",
    "}\n",
    "kong_add_app(app_config,env='pro')"
   ]
  },
  {
   "cell_type": "code",
   "execution_count": 37,
   "metadata": {},
   "outputs": [
    {
     "data": {
      "text/plain": [
       "'laishangbank添加成功'"
      ]
     },
     "execution_count": 37,
     "metadata": {},
     "output_type": "execute_result"
    }
   ],
   "source": [
    "app_config = {\n",
    "    \"appCode\":\"laishangbank\",\n",
    "    \"appId\":105,\n",
    "    \"customerId\":212\n",
    "}\n",
    "kong_add_app(app_config,env='pro')"
   ]
  },
  {
   "cell_type": "code",
   "execution_count": 44,
   "metadata": {},
   "outputs": [
    {
     "data": {
      "text/plain": [
       "'mallicbc添加成功'"
      ]
     },
     "execution_count": 44,
     "metadata": {},
     "output_type": "execute_result"
    }
   ],
   "source": [
    "app_config = {\n",
    "    \"appCode\":\"mallicbc\",\n",
    "    \"appId\":11,\n",
    "    \"customerId\":11\n",
    "}\n",
    "kong_add_app(app_config,env='dev')"
   ]
  },
  {
   "cell_type": "code",
   "execution_count": 36,
   "metadata": {},
   "outputs": [
    {
     "data": {
      "text/plain": [
       "'passapp添加成功'"
      ]
     },
     "execution_count": 36,
     "metadata": {},
     "output_type": "execute_result"
    }
   ],
   "source": [
    "app_config = {\n",
    "    \"appCode\":\"passapp\",\n",
    "    \"appId\":190,\n",
    "    \"customerId\":13\n",
    "}\n",
    "kong_add_app(app_config,env='dev')"
   ]
  },
  {
   "cell_type": "code",
   "execution_count": 29,
   "metadata": {},
   "outputs": [
    {
     "data": {
      "text/plain": [
       "'qilubank添加成功'"
      ]
     },
     "execution_count": 29,
     "metadata": {},
     "output_type": "execute_result"
    }
   ],
   "source": [
    "# 齐鲁银行，生产网关配置\n",
    "app_config = {\n",
    "    \"appCode\":\"qilubank\",\n",
    "    \"appId\":103,\n",
    "    \"customerId\":210\n",
    "}\n",
    "kong_add_app(app_config,env='pro')"
   ]
  },
  {
   "cell_type": "code",
   "execution_count": 38,
   "metadata": {},
   "outputs": [
    {
     "data": {
      "text/plain": [
       "'yantaibank添加成功'"
      ]
     },
     "execution_count": 38,
     "metadata": {},
     "output_type": "execute_result"
    }
   ],
   "source": [
    "app_config = {\n",
    "    \"appCode\":\"yantaibank\",\n",
    "    \"appId\":104,\n",
    "    \"customerId\":211\n",
    "}\n",
    "kong_add_app(app_config,env='pro')"
   ]
  },
  {
   "cell_type": "code",
   "execution_count": 23,
   "metadata": {},
   "outputs": [
    {
     "data": {
      "text/plain": [
       "'51jiedao添加成功'"
      ]
     },
     "execution_count": 23,
     "metadata": {},
     "output_type": "execute_result"
    }
   ],
   "source": [
    "app_config = {\n",
    "    \"appCode\":\"51jiedao\",\n",
    "    \"appId\":412,\n",
    "    \"customerId\":428\n",
    "}\n",
    "kong_add_app(app_config,env='pro')\n",
    "# appKey: 5830022287\n",
    "# appSecret: KaFBlezO915uasXgOLigsnmGapGzuCG2\n",
    "# appId: 412\n",
    "# customerId: 428\n",
    "# 即刻有生产的配置参数\n",
    "curl -X POST http://127.0.0.1:8001/apis/api-51jiedao-huafei/plugins \\\n",
    "  --data \"name=blm-auth\" \\\n",
    "  --data \"config.consumer=51jiedao\" \\\n",
    "  --data \"config.app_id=412\" \\\n",
    "  --data \"config.customer_id=428\" \\\n",
    "  --data \"config.app_secret=KaFBlezO915uasXgOLigsnmGapGzuCG2\" \\\n",
    "  --data \"config.app_key=5830022287\" "
   ]
  },
  {
   "cell_type": "code",
   "execution_count": 13,
   "metadata": {},
   "outputs": [
    {
     "data": {
      "text/plain": [
       "'hnnx已存在'"
      ]
     },
     "execution_count": 13,
     "metadata": {},
     "output_type": "execute_result"
    }
   ],
   "source": [
    "app_config = {\n",
    "    \"appCode\":\"hnnx\",\n",
    "    \"appId\":410,\n",
    "    \"customerId\":426\n",
    "}\n",
    "kong_add_app(app_config,env='pro')"
   ]
  },
  {
   "cell_type": "code",
   "execution_count": 8,
   "metadata": {},
   "outputs": [
    {
     "data": {
      "text/plain": [
       "1"
      ]
     },
     "execution_count": 8,
     "metadata": {},
     "output_type": "execute_result"
    }
   ],
   "source": [
    "app_config = {\n",
    "    \"appCode\":\"maxus\",\n",
    "    \"appId\":443,\n",
    "    \"customerId\":400\n",
    "}\n",
    "kong_add_app(app_config,env='dev')"
   ]
  },
  {
   "cell_type": "code",
   "execution_count": 21,
   "metadata": {},
   "outputs": [
    {
     "data": {
      "text/plain": [
       "1"
      ]
     },
     "execution_count": 21,
     "metadata": {},
     "output_type": "execute_result"
    }
   ],
   "source": [
    "app_config = {\n",
    "    \"appCode\":\"paasapp\",\n",
    "    \"appId\":442,\n",
    "    \"customerId\":399\n",
    "}\n",
    "kong_add_app(app_config,env='dev')"
   ]
  },
  {
   "cell_type": "code",
   "execution_count": 18,
   "metadata": {},
   "outputs": [
    {
     "data": {
      "text/plain": [
       "'linshangbank添加成功'"
      ]
     },
     "execution_count": 18,
     "metadata": {},
     "output_type": "execute_result"
    }
   ],
   "source": [
    "app_config = {\n",
    "    \"appCode\":\"linshangbank\",\n",
    "    \"appId\":411,\n",
    "    \"customerId\":427\n",
    "}\n",
    "kong_add_app(app_config,env='pro')"
   ]
  },
  {
   "cell_type": "code",
   "execution_count": 22,
   "metadata": {},
   "outputs": [
    {
     "data": {
      "text/plain": [
       "1"
      ]
     },
     "execution_count": 22,
     "metadata": {},
     "output_type": "execute_result"
    }
   ],
   "source": [
    "app_config = {\n",
    "    \"appCode\":\"zjrcu\",\n",
    "    \"appId\":407,\n",
    "    \"customerId\":421\n",
    "}\n",
    "kong_add_app(app_config,env='pro')"
   ]
  },
  {
   "cell_type": "code",
   "execution_count": 42,
   "metadata": {
    "scrolled": true
   },
   "outputs": [
    {
     "name": "stdout",
     "output_type": "stream",
     "text": [
      "api服务添加: {'http_if_terminated': True, 'id': 'e4db3161-65a4-45da-99c2-bb56ea734408', 'retries': 5, 'preserve_host': False, 'created_at': 1529993678000, 'upstream_connect_timeout': 60000, 'upstream_url': 'http://mth5api.localdomain:31055', 'upstream_read_timeout': 60000, 'https_only': False, 'upstream_send_timeout': 60000, 'strip_uri': False, 'name': 'api-mth5', 'uris': ['/mth5']}\n",
      "api服务添加session插件: {'api_id': 'e4db3161-65a4-45da-99c2-bb56ea734408', 'id': 'c109b414-a181-4fde-9205-2880bc999baf', 'created_at': 1529993678000, 'enabled': True, 'name': 'blm-session', 'config': {'redis_host': 'masterredis-ro.localdomain', 'app_code': 'boluome', 'redis_timeout': 2000, 'redis_port': 6379}}\n",
      "添加h5服务: {'http_if_terminated': True, 'id': '5e65d845-be28-42ca-a626-6e56ce779f1a', 'retries': 5, 'preserve_host': True, 'created_at': 1529993678000, 'upstream_connect_timeout': 60000, 'upstream_url': 'http://mth5api.localdomain:31055/mth5', 'upstream_read_timeout': 60000, 'https_only': False, 'upstream_send_timeout': 60000, 'strip_uri': True, 'name': 'h5-api-mth5', 'uris': ['/api/mth5']}\n",
      "h5服务添加session插件: {'api_id': '5e65d845-be28-42ca-a626-6e56ce779f1a', 'id': 'b59fc2c1-5711-41a5-965d-52bfb1139bfe', 'created_at': 1529993678000, 'enabled': True, 'name': 'blm-session', 'config': {'redis_timeout': 2000, 'redis_port': 6379, 'redis_host': 'masterredis-ro.localdomain'}}\n"
     ]
    }
   ],
   "source": [
    "data = {\n",
    "    \"serviceName\":\"mth5\",\n",
    "    \"upstreamUrl\":\"http://mth5api.localdomain:31055\",\n",
    "    \"env\":\"pro\"\n",
    "}\n",
    "kong_add_service(data)"
   ]
  },
  {
   "cell_type": "code",
   "execution_count": 43,
   "metadata": {},
   "outputs": [
    {
     "name": "stdout",
     "output_type": "stream",
     "text": [
      "api服务添加: {'http_if_terminated': True, 'id': 'e1c4dff8-aeb8-4c14-b475-2f119ef07e8e', 'retries': 5, 'preserve_host': False, 'created_at': 1529993695000, 'upstream_connect_timeout': 60000, 'upstream_url': 'http://elmh5api.localdomain:31052', 'upstream_read_timeout': 60000, 'https_only': False, 'upstream_send_timeout': 60000, 'strip_uri': False, 'name': 'api-elmh5', 'uris': ['/elmh5']}\n",
      "api服务添加session插件: {'api_id': 'e1c4dff8-aeb8-4c14-b475-2f119ef07e8e', 'id': 'f2fabd23-8c63-4d77-bbc3-997f2bf9004d', 'created_at': 1529993695000, 'enabled': True, 'name': 'blm-session', 'config': {'redis_host': 'masterredis-ro.localdomain', 'app_code': 'boluome', 'redis_timeout': 2000, 'redis_port': 6379}}\n",
      "添加h5服务: {'http_if_terminated': True, 'id': 'a3025437-3922-4a36-8fd1-6ccfac249934', 'retries': 5, 'preserve_host': True, 'created_at': 1529993695000, 'upstream_connect_timeout': 60000, 'upstream_url': 'http://elmh5api.localdomain:31052/elmh5', 'upstream_read_timeout': 60000, 'https_only': False, 'upstream_send_timeout': 60000, 'strip_uri': True, 'name': 'h5-api-elmh5', 'uris': ['/api/elmh5']}\n",
      "h5服务添加session插件: {'api_id': 'a3025437-3922-4a36-8fd1-6ccfac249934', 'id': '588f60f2-ad06-4701-84c0-7012c91e823c', 'created_at': 1529993695000, 'enabled': True, 'name': 'blm-session', 'config': {'redis_timeout': 2000, 'redis_port': 6379, 'redis_host': 'masterredis-ro.localdomain'}}\n"
     ]
    }
   ],
   "source": [
    "data = {\n",
    "    \"serviceName\":\"elmh5\",\n",
    "    \"upstreamUrl\":\"http://elmh5api.localdomain:31052\",\n",
    "    \"env\":\"pro\"\n",
    "}\n",
    "kong_add_service(data)"
   ]
  },
  {
   "cell_type": "code",
   "execution_count": 41,
   "metadata": {},
   "outputs": [
    {
     "name": "stdout",
     "output_type": "stream",
     "text": [
      "api服务添加: {'http_if_terminated': True, 'id': 'ec278624-633e-459b-b507-57dcadd3d053', 'retries': 5, 'preserve_host': False, 'created_at': 1529923594000, 'upstream_connect_timeout': 60000, 'upstream_url': 'http://192.168.0.5:31055', 'upstream_read_timeout': 60000, 'https_only': False, 'upstream_send_timeout': 60000, 'strip_uri': False, 'name': 'api-mth5', 'uris': ['/mth5']}\n",
      "api服务添加session插件: {'api_id': 'ec278624-633e-459b-b507-57dcadd3d053', 'id': '8df454c4-cdcb-4370-8998-0a8a2cce57c4', 'created_at': 1529923594000, 'enabled': True, 'name': 'blm-session', 'config': {'redis_host': '192.168.0.6', 'app_code': 'boluome', 'redis_timeout': 2000, 'redis_port': 6379}}\n",
      "添加跨域插件(开发环境需要): {'api_id': 'ec278624-633e-459b-b507-57dcadd3d053', 'id': '4e0415f9-3fcb-449b-b675-ee69f128efdd', 'created_at': 1529923594000, 'enabled': True, 'name': 'cors', 'config': {'methods': ['GET', 'POST', 'PUT', 'PATCH', 'DELETE'], 'credentials': True, 'max_age': 3600, 'origins': ['*'], 'exposed_headers': ['date'], 'preflight_continue': False, 'headers': ['content-type', 'sid', 'appcode', 'token']}}\n",
      "添加h5服务: {'http_if_terminated': True, 'id': '92c19ce1-6fcf-4b27-8be9-0da6cf34cf89', 'retries': 5, 'preserve_host': True, 'created_at': 1529923594000, 'upstream_connect_timeout': 60000, 'upstream_url': 'http://192.168.0.5:31055/mth5', 'upstream_read_timeout': 60000, 'https_only': False, 'upstream_send_timeout': 60000, 'strip_uri': True, 'name': 'h5-api-mth5', 'uris': ['/api/mth5']}\n",
      "h5服务添加session插件: {'api_id': '92c19ce1-6fcf-4b27-8be9-0da6cf34cf89', 'id': '9c104f73-b7e7-4688-aa49-6215626dff76', 'created_at': 1529923594000, 'enabled': True, 'name': 'blm-session', 'config': {'redis_timeout': 2000, 'redis_port': 6379, 'redis_host': '192.168.0.6'}}\n"
     ]
    }
   ],
   "source": [
    "data = {\n",
    "    \"serviceName\":\"mth5\",\n",
    "    \"upstreamUrl\":\"http://192.168.0.5:31055\",\n",
    "    \"env\":\"dev\"\n",
    "}\n",
    "kong_add_service(data)"
   ]
  },
  {
   "cell_type": "code",
   "execution_count": 33,
   "metadata": {},
   "outputs": [
    {
     "name": "stdout",
     "output_type": "stream",
     "text": [
      "api服务添加: {'http_if_terminated': True, 'id': 'b922fb12-9ebe-4b45-b92b-6812b6d9ae7a', 'retries': 5, 'preserve_host': False, 'created_at': 1529473621000, 'upstream_connect_timeout': 60000, 'upstream_url': 'http://192.168.0.12:8080', 'upstream_read_timeout': 60000, 'https_only': False, 'upstream_send_timeout': 60000, 'strip_uri': False, 'name': 'api-welfare', 'uris': ['/welfare']}\n",
      "api服务添加session插件: {'api_id': 'b922fb12-9ebe-4b45-b92b-6812b6d9ae7a', 'id': 'de346c49-579e-43d3-bf9b-5e2892e74fc8', 'created_at': 1529473621000, 'enabled': True, 'name': 'blm-session', 'config': {'redis_host': '192.168.0.6', 'app_code': 'boluome', 'redis_timeout': 2000, 'redis_port': 6379}}\n",
      "添加跨域插件(开发环境需要): {'api_id': 'b922fb12-9ebe-4b45-b92b-6812b6d9ae7a', 'id': 'b4e64903-da02-43e1-975b-e6d0cafff32e', 'created_at': 1529473621000, 'enabled': True, 'name': 'cors', 'config': {'methods': ['GET', 'POST', 'PUT', 'PATCH', 'DELETE'], 'credentials': True, 'max_age': 3600, 'origins': ['*'], 'exposed_headers': ['date'], 'preflight_continue': False, 'headers': ['content-type', 'sid', 'appcode', 'token']}}\n",
      "添加h5服务: {'http_if_terminated': True, 'id': 'b492a884-8288-45c2-bb10-0127664eea6f', 'retries': 5, 'preserve_host': True, 'created_at': 1529473621000, 'upstream_connect_timeout': 60000, 'upstream_url': 'http://192.168.0.12:8080/welfare', 'upstream_read_timeout': 60000, 'https_only': False, 'upstream_send_timeout': 60000, 'strip_uri': True, 'name': 'h5-api-welfare', 'uris': ['/api/welfare']}\n",
      "h5服务添加session插件: {'api_id': 'b492a884-8288-45c2-bb10-0127664eea6f', 'id': '4035ace6-77bc-4034-b134-00394c8cd904', 'created_at': 1529473621000, 'enabled': True, 'name': 'blm-session', 'config': {'redis_timeout': 2000, 'redis_port': 6379, 'redis_host': '192.168.0.6'}}\n"
     ]
    }
   ],
   "source": [
    "# http://192.168.0.12:8080/admin/login.xhtml\n",
    "data = {\n",
    "    \"serviceName\":\"welfare\",\n",
    "    \"upstreamUrl\":\"http://192.168.0.12:8080\",\n",
    "    \"env\":\"dev\"\n",
    "}\n",
    "kong_add_service(data)"
   ]
  },
  {
   "cell_type": "code",
   "execution_count": 27,
   "metadata": {},
   "outputs": [
    {
     "name": "stdout",
     "output_type": "stream",
     "text": [
      "api服务添加: {'http_if_terminated': True, 'id': '71bdf507-8174-4609-9d8f-0beef81c507d', 'retries': 5, 'preserve_host': False, 'created_at': 1528429106000, 'upstream_connect_timeout': 60000, 'upstream_url': 'http://worldcupapi.localdomain:31054', 'upstream_read_timeout': 60000, 'https_only': False, 'upstream_send_timeout': 60000, 'strip_uri': False, 'name': 'api-worldcup', 'uris': ['/worldcup']}\n",
      "api服务添加session插件: {'api_id': '71bdf507-8174-4609-9d8f-0beef81c507d', 'id': '0450f2e3-b4c1-4901-b9d5-8a45c3190358', 'created_at': 1528429106000, 'enabled': True, 'name': 'blm-session', 'config': {'redis_host': 'masterredis-ro.localdomain', 'app_code': 'boluome', 'redis_timeout': 2000, 'redis_port': 6379}}\n",
      "添加h5服务: {'http_if_terminated': True, 'id': '464fa0e6-c2dc-4d27-93a9-200926c69f77', 'retries': 5, 'preserve_host': True, 'created_at': 1528429106000, 'upstream_connect_timeout': 60000, 'upstream_url': 'http://worldcupapi.localdomain:31054/worldcup', 'upstream_read_timeout': 60000, 'https_only': False, 'upstream_send_timeout': 60000, 'strip_uri': True, 'name': 'h5-api-worldcup', 'uris': ['/api/worldcup']}\n",
      "h5服务添加session插件: {'api_id': '464fa0e6-c2dc-4d27-93a9-200926c69f77', 'id': '7fdc4854-a806-4e63-ba4a-09e1ec0e10d9', 'created_at': 1528429106000, 'enabled': True, 'name': 'blm-session', 'config': {'redis_timeout': 2000, 'redis_port': 6379, 'redis_host': 'masterredis-ro.localdomain'}}\n"
     ]
    }
   ],
   "source": [
    "data = {\n",
    "    \"serviceName\":\"worldcup\",\n",
    "    \"upstreamUrl\":\"http://worldcupapi.localdomain:31054\",\n",
    "    \"env\":\"pro\"\n",
    "}\n",
    "kong_add_service(data)"
   ]
  },
  {
   "cell_type": "code",
   "execution_count": 30,
   "metadata": {},
   "outputs": [
    {
     "name": "stdout",
     "output_type": "stream",
     "text": [
      "api服务添加: {'http_if_terminated': True, 'id': '16192000-3c6e-4dd7-8424-1d068abb7ac8', 'retries': 5, 'preserve_host': False, 'created_at': 1528805075000, 'upstream_connect_timeout': 60000, 'upstream_url': 'http://haiwaiyongcheapi.localdomain:31050', 'upstream_read_timeout': 60000, 'https_only': False, 'upstream_send_timeout': 60000, 'strip_uri': False, 'name': 'api-haiwaiyongche', 'uris': ['/haiwaiyongche']}\n",
      "api服务添加session插件: {'api_id': '16192000-3c6e-4dd7-8424-1d068abb7ac8', 'id': 'ae0b2134-0baf-434e-8e64-1b4e043f4d6a', 'created_at': 1528805075000, 'enabled': True, 'name': 'blm-session', 'config': {'redis_host': 'masterredis-ro.localdomain', 'app_code': 'boluome', 'redis_timeout': 2000, 'redis_port': 6379}}\n",
      "添加h5服务: {'http_if_terminated': True, 'id': 'b55ac380-50b9-4659-8f6c-ea61c87acf5f', 'retries': 5, 'preserve_host': True, 'created_at': 1528805075000, 'upstream_connect_timeout': 60000, 'upstream_url': 'http://haiwaiyongcheapi.localdomain:31050/haiwaiyongche', 'upstream_read_timeout': 60000, 'https_only': False, 'upstream_send_timeout': 60000, 'strip_uri': True, 'name': 'h5-api-haiwaiyongche', 'uris': ['/api/haiwaiyongche']}\n",
      "h5服务添加session插件: {'api_id': 'b55ac380-50b9-4659-8f6c-ea61c87acf5f', 'id': '201ba59f-b2a4-400f-b170-aa5341adfa8d', 'created_at': 1528805075000, 'enabled': True, 'name': 'blm-session', 'config': {'redis_timeout': 2000, 'redis_port': 6379, 'redis_host': 'masterredis-ro.localdomain'}}\n"
     ]
    }
   ],
   "source": [
    "data = {\n",
    "    \"serviceName\":\"haiwaiyongche\",\n",
    "    \"upstreamUrl\":\"http://haiwaiyongcheapi.localdomain:31050\",\n",
    "    \"env\":\"pro\"\n",
    "}\n",
    "kong_add_service(data)"
   ]
  },
  {
   "cell_type": "code",
   "execution_count": 26,
   "metadata": {},
   "outputs": [
    {
     "name": "stdout",
     "output_type": "stream",
     "text": [
      "api服务添加: {'http_if_terminated': True, 'id': '79f1b5a5-fb93-478f-9fa4-41eead3a29fa', 'retries': 5, 'preserve_host': False, 'created_at': 1528194680000, 'upstream_connect_timeout': 60000, 'upstream_url': 'http://haiwaigouapi.localdomain:31046', 'upstream_read_timeout': 60000, 'https_only': False, 'upstream_send_timeout': 60000, 'strip_uri': False, 'name': 'api-haiwaigou', 'uris': ['/haiwaigou']}\n",
      "api服务添加session插件: {'api_id': '79f1b5a5-fb93-478f-9fa4-41eead3a29fa', 'id': '2609fc50-58a0-48eb-8308-73c851d65a5e', 'created_at': 1528194680000, 'enabled': True, 'name': 'blm-session', 'config': {'redis_host': 'masterredis-ro.localdomain', 'app_code': 'boluome', 'redis_timeout': 2000, 'redis_port': 6379}}\n",
      "添加h5服务: {'http_if_terminated': True, 'id': '7e09257d-3fbd-44fb-8f6b-4659df162f13', 'retries': 5, 'preserve_host': True, 'created_at': 1528194680000, 'upstream_connect_timeout': 60000, 'upstream_url': 'http://haiwaigouapi.localdomain:31046/haiwaigou', 'upstream_read_timeout': 60000, 'https_only': False, 'upstream_send_timeout': 60000, 'strip_uri': True, 'name': 'h5-api-haiwaigou', 'uris': ['/api/haiwaigou']}\n",
      "h5服务添加session插件: {'api_id': '7e09257d-3fbd-44fb-8f6b-4659df162f13', 'id': '2a918d9d-c222-4d8b-aecd-0cb1d2ba7645', 'created_at': 1528194680000, 'enabled': True, 'name': 'blm-session', 'config': {'redis_timeout': 2000, 'redis_port': 6379, 'redis_host': 'masterredis-ro.localdomain'}}\n"
     ]
    }
   ],
   "source": [
    "data = {\n",
    "    \"serviceName\":\"haiwaigou\",\n",
    "    \"upstreamUrl\":\"http://haiwaigouapi.localdomain:31046\",\n",
    "    \"env\":\"pro\"\n",
    "}\n",
    "kong_add_service(data)"
   ]
  },
  {
   "cell_type": "code",
   "execution_count": null,
   "metadata": {},
   "outputs": [],
   "source": []
  },
  {
   "cell_type": "code",
   "execution_count": 25,
   "metadata": {},
   "outputs": [
    {
     "name": "stdout",
     "output_type": "stream",
     "text": [
      "api服务添加: {'http_if_terminated': True, 'id': 'e3a4c99a-9dba-4d88-96ef-35878afac73a', 'retries': 5, 'preserve_host': False, 'created_at': 1527755880000, 'upstream_connect_timeout': 60000, 'upstream_url': 'http://shoujiweixiuapi.localdomain:31053', 'upstream_read_timeout': 60000, 'https_only': False, 'upstream_send_timeout': 60000, 'strip_uri': False, 'name': 'api-shoujiweixiu', 'uris': ['/shoujiweixiu']}\n",
      "api服务添加session插件: {'api_id': 'e3a4c99a-9dba-4d88-96ef-35878afac73a', 'id': 'effcbde2-5b9d-4661-a8b5-5a0564984d90', 'created_at': 1527755880000, 'enabled': True, 'name': 'blm-session', 'config': {'redis_host': 'masterredis-ro.localdomain', 'app_code': 'boluome', 'redis_timeout': 2000, 'redis_port': 6379}}\n",
      "添加h5服务: {'http_if_terminated': True, 'id': 'e2a4e5e4-d066-43d5-b228-ee78e376b2f9', 'retries': 5, 'preserve_host': True, 'created_at': 1527755880000, 'upstream_connect_timeout': 60000, 'upstream_url': 'http://shoujiweixiuapi.localdomain:31053/shoujiweixiu', 'upstream_read_timeout': 60000, 'https_only': False, 'upstream_send_timeout': 60000, 'strip_uri': True, 'name': 'h5-api-shoujiweixiu', 'uris': ['/api/shoujiweixiu']}\n",
      "h5服务添加session插件: {'api_id': 'e2a4e5e4-d066-43d5-b228-ee78e376b2f9', 'id': '611bb782-e5a7-43fa-8782-93b045a5ff73', 'created_at': 1527755880000, 'enabled': True, 'name': 'blm-session', 'config': {'redis_timeout': 2000, 'redis_port': 6379, 'redis_host': 'masterredis-ro.localdomain'}}\n"
     ]
    }
   ],
   "source": [
    "  data = {\n",
    "    \"serviceName\":\"shoujiweixiu\",\n",
    "    \"upstreamUrl\":\"http://shoujiweixiuapi.localdomain:31053\",\n",
    "    \"env\":\"pro\"\n",
    "}\n",
    "kong_add_service(data)"
   ]
  },
  {
   "cell_type": "code",
   "execution_count": 5,
   "metadata": {},
   "outputs": [
    {
     "name": "stdout",
     "output_type": "stream",
     "text": [
      "api服务添加: {'http_if_terminated': True, 'id': '1a1a2b01-8edd-4a22-984d-668ba7fff400', 'retries': 5, 'preserve_host': False, 'created_at': 1526537603000, 'upstream_connect_timeout': 60000, 'upstream_url': 'http://huishouapi.localdomain:31049', 'upstream_read_timeout': 60000, 'https_only': False, 'upstream_send_timeout': 60000, 'strip_uri': False, 'name': 'api-huishou', 'uris': ['/huishou']}\n",
      "api服务添加session插件: {'api_id': '1a1a2b01-8edd-4a22-984d-668ba7fff400', 'id': '0c801d9a-7ff8-410a-bc32-fc24887e17ae', 'created_at': 1526537603000, 'enabled': True, 'name': 'blm-session', 'config': {'redis_host': 'masterredis-ro.localdomain', 'app_code': 'boluome', 'redis_timeout': 2000, 'redis_port': 6379}}\n",
      "添加h5服务: {'http_if_terminated': True, 'id': 'd768fed2-4d08-491f-b521-391791d166f5', 'retries': 5, 'preserve_host': True, 'created_at': 1526537603000, 'upstream_connect_timeout': 60000, 'upstream_url': 'http://huishouapi.localdomain:31049/huishou', 'upstream_read_timeout': 60000, 'https_only': False, 'upstream_send_timeout': 60000, 'strip_uri': True, 'name': 'h5-api-huishou', 'uris': ['/api/huishou']}\n",
      "h5服务添加session插件: {'api_id': 'd768fed2-4d08-491f-b521-391791d166f5', 'id': '8bdf24d1-f167-47f8-934c-59428c46b57a', 'created_at': 1526537603000, 'enabled': True, 'name': 'blm-session', 'config': {'redis_timeout': 2000, 'redis_port': 6379, 'redis_host': 'masterredis-ro.localdomain'}}\n"
     ]
    }
   ],
   "source": [
    "data = {\n",
    "    \"serviceName\":\"huishou\",\n",
    "    \"upstreamUrl\":\"http://huishouapi.localdomain:31049\",\n",
    "    \"env\":\"pro\"\n",
    "}\n",
    "kong_add_service(data)"
   ]
  },
  {
   "cell_type": "code",
   "execution_count": 2,
   "metadata": {},
   "outputs": [],
   "source": [
    "def kong_add_service(data):\n",
    "    if data['env'] == 'dev':\n",
    "        url = 'http://192.168.0.6:8001/apis/'\n",
    "        redis = \"192.168.0.6\"\n",
    "    elif data['env'] == 'stg':\n",
    "        url = 'http://192.168.2.6:8001/apis/'\n",
    "        redis = \"192.168.2.6\"\n",
    "    elif data['env'] == 'pro':\n",
    "        url = 'http://192.168.1.17:8001/apis/'\n",
    "        redis = \"masterredis-ro.localdomain\"\n",
    "    else:\n",
    "        raise KeyError\n",
    "        \n",
    "    print('api服务添加:',add_service_api(data,url))\n",
    "    print('api服务添加session插件:',add_service_session(data,url,redis))\n",
    "    if data['env'] == 'dev':\n",
    "        print('添加跨域插件(开发环境需要):',add_service_cross_domain(data,url))\n",
    "    print('添加h5服务:',add_service_h5_api(data,url))\n",
    "    print('h5服务添加session插件:',add_service_session(data,url,redis,app_code=None))   "
   ]
  },
  {
   "cell_type": "code",
   "execution_count": 3,
   "metadata": {},
   "outputs": [],
   "source": [
    "def add_service_api(data,url):\n",
    "    body = {\n",
    "        \"name\": \"api-{}\".format(data['serviceName']),\n",
    "        \"uris\": \"/{}\".format(data['serviceName']),\n",
    "        \"upstream_url\": data['upstreamUrl'],\n",
    "        \"preserve_host\":False,\n",
    "        \"strip_uri\":False\n",
    "    }\n",
    "    return requests.post(url,data=body).json()\n",
    "\n",
    "def add_service_session(data,url,redis,app_code='boluome'):\n",
    "    body = {\n",
    "        \"name\": \"blm-session\",\n",
    "        \"config.redis_host\": redis\n",
    "    }\n",
    "    if app_code:\n",
    "        body['config.app_code'] = app_code\n",
    "        url+='api-{}/plugins'.format(data['serviceName'])\n",
    "    else:\n",
    "        url+='h5-api-{}/plugins'.format(data['serviceName'])\n",
    "\n",
    "    return requests.post(url,data=body).json()\n",
    "\n",
    "def add_service_cross_domain(data,url):\n",
    "    body = {\n",
    "        \"name\": \"cors\",\n",
    "        \"config.origins\":\"*\",\n",
    "        \"config.methods\": \"GET,POST,PUT,PATCH,DELETE\",\n",
    "        \"config.headers\": \"content-type,sid,appcode,token\",\n",
    "        \"config.exposed_headers\":\"date\",\n",
    "        \"config.credentials\": True,\n",
    "        \"config.max_age\": 3600\n",
    "    }\n",
    "    return requests.post(url+'api-{}/plugins'.format(data['serviceName']),data=body).json()\n",
    "\n",
    "def add_service_h5_api(data,url):\n",
    "    body = {\n",
    "        \"name\": \"h5-api-{}\".format(data['serviceName']),\n",
    "        \"uris\": \"/api/{}\".format(data['serviceName']),\n",
    "        \"upstream_url\": data['upstreamUrl']+'/'+data['serviceName'],\n",
    "        \"preserve_host\":True,\n",
    "        \"strip_uri\":True\n",
    "    }\n",
    "    return requests.post(url,data=body).json()"
   ]
  },
  {
   "cell_type": "code",
   "execution_count": null,
   "metadata": {},
   "outputs": [],
   "source": [
    "curl -X POST http://127.0.0.1:8001/apis/api-51jiedao-huafei/plugins \\\n",
    "  --data \"name=blm-auth\" \\\n",
    "  --data \"config.consumer=51jiedao\" \\\n",
    "  --data \"config.app_id=443\" \\\n",
    "  --data \"config.customer_id=400\" \\\n",
    "  --data \"config.app_secret=euiDTUogYZEuTzW5BWq5OqtpzpzMLxlw\" \\\n",
    "  --data \"config.app_key=5452308654\" "
   ]
  }
 ],
 "metadata": {
  "kernelspec": {
   "display_name": "Python 3",
   "language": "python",
   "name": "python3"
  },
  "language_info": {
   "codemirror_mode": {
    "name": "ipython",
    "version": 3
   },
   "file_extension": ".py",
   "mimetype": "text/x-python",
   "name": "python",
   "nbconvert_exporter": "python",
   "pygments_lexer": "ipython3",
   "version": "3.6.0"
  }
 },
 "nbformat": 4,
 "nbformat_minor": 2
}
