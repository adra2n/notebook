{
 "cells": [
  {
   "cell_type": "code",
   "execution_count": 2,
   "metadata": {},
   "outputs": [],
   "source": [
    "from connection import ConnectionTask,pg_select,pg_insert,pg_update\n",
    "import time\n",
    "import arrow\n",
    "import requests\n",
    "from pprint import pprint\n",
    "\n",
    "c = ConnectionTask()\n",
    "\n",
    "pg = c.ppgdb('account')"
   ]
  },
  {
   "cell_type": "code",
   "execution_count": 62,
   "metadata": {},
   "outputs": [],
   "source": [
    "now = arrow.now()\n",
    "old = now.shift(months=-3)\n",
    "old_timestamp = old.timestamp*1000"
   ]
  },
  {
   "cell_type": "code",
   "execution_count": 4,
   "metadata": {},
   "outputs": [
    {
     "data": {
      "text/plain": [
       "[{'account': '115907',\n",
       "  'app_code': 'bestpay',\n",
       "  'channel': 24,\n",
       "  'created_at': 1506617474296.0,\n",
       "  'fee': 8.5,\n",
       "  'fee_rate': 0.005,\n",
       "  'flow_id': 'bp212050159280147',\n",
       "  'order_amount': 1700.0,\n",
       "  'order_id': 'bp202050159149073',\n",
       "  'order_name': '老东江桂林米粉',\n",
       "  'paid_at': 1506617489364.0,\n",
       "  'payment_amount': 1700.0,\n",
       "  'platform_code': 'otosaas',\n",
       "  'status': 2,\n",
       "  'supplier': 'ele',\n",
       "  'transaction_no': None,\n",
       "  'type': 1,\n",
       "  'user_id': 'bestpay_18178704417'},\n",
       " {'account': '115873',\n",
       "  'app_code': '91ala',\n",
       "  'channel': 14,\n",
       "  'created_at': 1506617936141.0,\n",
       "  'fee': 0.0,\n",
       "  'fee_rate': 0.0,\n",
       "  'flow_id': 'ala212050219835434',\n",
       "  'order_amount': 1600.0,\n",
       "  'order_id': 'ala202050219704361',\n",
       "  'order_name': '比克利（绍兴上虞店）',\n",
       "  'paid_at': 1506617958195.0,\n",
       "  'payment_amount': 1600.0,\n",
       "  'platform_code': 'otosaas',\n",
       "  'status': 2,\n",
       "  'supplier': 'ele',\n",
       "  'transaction_no': None,\n",
       "  'type': 1,\n",
       "  'user_id': '125738'},\n",
       " {'account': '115913',\n",
       "  'app_code': 'bestpay',\n",
       "  'channel': 24,\n",
       "  'created_at': 1506655873689.0,\n",
       "  'fee': 9.5,\n",
       "  'fee_rate': 0.005,\n",
       "  'flow_id': 'bp212055192331975',\n",
       "  'order_amount': 1900.0,\n",
       "  'order_id': 'bp202055192200902',\n",
       "  'order_name': '留恋忘返',\n",
       "  'paid_at': 1506655888614.0,\n",
       "  'payment_amount': 1900.0,\n",
       "  'platform_code': 'otosaas',\n",
       "  'status': 2,\n",
       "  'supplier': 'ele',\n",
       "  'transaction_no': None,\n",
       "  'type': 1,\n",
       "  'user_id': 'bestpay_18056052070'},\n",
       " {'account': '106805',\n",
       "  'app_code': '91ala',\n",
       "  'channel': 14,\n",
       "  'created_at': 1506626668164.0,\n",
       "  'fee': 0.0,\n",
       "  'fee_rate': 0.0,\n",
       "  'flow_id': 'ala212051364372934',\n",
       "  'order_amount': 3590.0,\n",
       "  'order_id': 'ala202051364241861',\n",
       "  'order_name': '炊事班(海沧房产店)',\n",
       "  'paid_at': 1506626940265.0,\n",
       "  'payment_amount': 3090.0,\n",
       "  'platform_code': 'otosaas',\n",
       "  'status': 2,\n",
       "  'supplier': 'ele',\n",
       "  'transaction_no': None,\n",
       "  'type': 1,\n",
       "  'user_id': '1875915'},\n",
       " {'account': '115914',\n",
       "  'app_code': 'bestpay',\n",
       "  'channel': 24,\n",
       "  'created_at': 1506660134677.0,\n",
       "  'fee': 15.05,\n",
       "  'fee_rate': 0.005,\n",
       "  'flow_id': 'bp212055750830911',\n",
       "  'order_amount': 3010.0,\n",
       "  'order_id': 'bp202055750699837',\n",
       "  'order_name': '小巷麻辣香锅（西三旗店）',\n",
       "  'paid_at': 1506660149753.0,\n",
       "  'payment_amount': 3010.0,\n",
       "  'platform_code': 'otosaas',\n",
       "  'status': 2,\n",
       "  'supplier': 'ele',\n",
       "  'transaction_no': None,\n",
       "  'type': 1,\n",
       "  'user_id': 'bestpay_13331011881'},\n",
       " {'account': '115912',\n",
       "  'app_code': 'bestpay',\n",
       "  'channel': 24,\n",
       "  'created_at': 1506664821495.0,\n",
       "  'fee': 16.75,\n",
       "  'fee_rate': 0.005,\n",
       "  'flow_id': 'bp212056365165968',\n",
       "  'order_amount': 3350.0,\n",
       "  'order_id': 'bp202056365034935',\n",
       "  'order_name': '清真学仁凉皮麻辣烫',\n",
       "  'paid_at': 1506664833296.0,\n",
       "  'payment_amount': 3350.0,\n",
       "  'platform_code': 'otosaas',\n",
       "  'status': 2,\n",
       "  'supplier': 'ele',\n",
       "  'transaction_no': None,\n",
       "  'type': 1,\n",
       "  'user_id': 'bestpay_17795315114'},\n",
       " {'account': '110011',\n",
       "  'app_code': '91ala',\n",
       "  'channel': 14,\n",
       "  'created_at': 1506627885873.0,\n",
       "  'fee': 0.0,\n",
       "  'fee_rate': 0.0,\n",
       "  'flow_id': 'ala212051523887568',\n",
       "  'order_amount': 3600.0,\n",
       "  'order_id': 'ala202051523887567',\n",
       "  'order_name': '刘记大排档',\n",
       "  'paid_at': 1506628020284.0,\n",
       "  'payment_amount': 3100.0,\n",
       "  'platform_code': 'otosaas',\n",
       "  'status': 2,\n",
       "  'supplier': 'ele',\n",
       "  'transaction_no': None,\n",
       "  'type': 1,\n",
       "  'user_id': '1793950'},\n",
       " {'account': '115919',\n",
       "  'app_code': 'bestpay',\n",
       "  'channel': 24,\n",
       "  'created_at': 1506660140357.0,\n",
       "  'fee': 23.5,\n",
       "  'fee_rate': 0.005,\n",
       "  'flow_id': 'bp212055751617467',\n",
       "  'order_amount': 4700.0,\n",
       "  'order_id': 'bp202055748864824',\n",
       "  'order_name': '留夫鸭（凌云路店）',\n",
       "  'paid_at': 1506660169906.0,\n",
       "  'payment_amount': 4700.0,\n",
       "  'platform_code': 'otosaas',\n",
       "  'status': 2,\n",
       "  'supplier': 'ele',\n",
       "  'transaction_no': None,\n",
       "  'type': 1,\n",
       "  'user_id': 'bestpay_18818236961'},\n",
       " {'account': '115925',\n",
       "  'app_code': 'bestpay',\n",
       "  'channel': 24,\n",
       "  'created_at': 1506660169327.0,\n",
       "  'fee': 6.88,\n",
       "  'fee_rate': 0.005,\n",
       "  'flow_id': 'bp212055755418564',\n",
       "  'order_amount': 1376.0,\n",
       "  'order_id': 'bp202055755287490',\n",
       "  'order_name': '老四川盖浇饭麻辣烫馆',\n",
       "  'paid_at': 1506660183518.0,\n",
       "  'payment_amount': 1376.0,\n",
       "  'platform_code': 'otosaas',\n",
       "  'status': 2,\n",
       "  'supplier': 'ele',\n",
       "  'transaction_no': None,\n",
       "  'type': 1,\n",
       "  'user_id': 'bestpay_13383721588'},\n",
       " {'account': '111532',\n",
       "  'app_code': 'pingan-one',\n",
       "  'channel': 21,\n",
       "  'created_at': 1506636203420.0,\n",
       "  'fee': 3.992,\n",
       "  'fee_rate': 0.0004,\n",
       "  'flow_id': 'pa212052614127824',\n",
       "  'order_amount': 9980.0,\n",
       "  'order_id': 'pa202052614127823',\n",
       "  'order_name': '山东临沂联通100元 - 130****5586',\n",
       "  'paid_at': 1506636265428.0,\n",
       "  'payment_amount': 9980.0,\n",
       "  'platform_code': '',\n",
       "  'status': 2,\n",
       "  'supplier': 'ofpay',\n",
       "  'transaction_no': None,\n",
       "  'type': 1,\n",
       "  'user_id': '726181479788740956'}]"
      ]
     },
     "execution_count": 4,
     "metadata": {},
     "output_type": "execute_result"
    }
   ],
   "source": [
    "list(pg_select(f\"SELECT * FROM boluome_flow LIMIT 10;\",pg))"
   ]
  },
  {
   "cell_type": "code",
   "execution_count": null,
   "metadata": {
    "scrolled": true
   },
   "outputs": [],
   "source": [
    "rdb = c.prdb_paym(1)\n",
    "count = 0\n",
    "for key in rdb.scan_iter(\"p:*:*21*\"):\n",
    "    flow_message = rdb.hgetall(key)\n",
    "    if 'createdAt' not in flow_message or 'status' not in flow_message or 'serialNum' not in flow_message:\n",
    "        continue\n",
    "    if int(flow_message['createdAt'])>old_timestamp:\n",
    "        continue\n",
    "        \n",
    "    count += 1 \n",
    "    print(count,key,end='\\r')\n",
    "    if flow_message['status']=='0':\n",
    "        rdb.delete(key)\n",
    "        # delete redis.payment\n",
    "        continue\n",
    "    flow_id = flow_message['serialNum']\n",
    "    if list(pg_select(f\"SELECT flow_id FROM boluome_flow WHERE flow_id='{flow_id}';\",pg)):\n",
    "        # delete redis.payment\n",
    "        rdb.delete(key)\n",
    "        continue\n",
    "\n",
    "    body = {\n",
    "        'exchangeName': 'flow', \n",
    "        'routingKey': 'payment', \n",
    "        'payload': flow_message\n",
    "    }\n",
    "    resp = requests.post('http://rmqrestapi.localdomain:8672/rabbitmq/publish',json=body).json()"
   ]
  },
  {
   "cell_type": "code",
   "execution_count": 125,
   "metadata": {},
   "outputs": [
    {
     "data": {
      "text/plain": [
       "{'code': 0, 'message': 'publish ok'}"
      ]
     },
     "execution_count": 125,
     "metadata": {},
     "output_type": "execute_result"
    }
   ],
   "source": [
    "body = {'exchangeName': 'session', 'routingKey': 'task', 'payload': {'taskName': 'worker.linqu.linqu_fetch', 'queue': 'linqu_tasks', 'args': {'channel': 'linqu', 'orderId': 'fdb204789304052350', 'partnerOrderId': 12621797, 'orderType': 'coffee'}}}\n",
    "requests.post('http://rmqrestapi.localdomain:8672/rabbitmq/publish',json=body).json()"
   ]
  },
  {
   "cell_type": "code",
   "execution_count": 83,
   "metadata": {},
   "outputs": [
    {
     "name": "stdout",
     "output_type": "stream",
     "text": [
      "p:bestpay:bp213076620456214\n"
     ]
    }
   ],
   "source": [
    "rdb = c.prdb_paym(1)\n",
    "for key in rdb.scan_iter(\"p:*:*21*\"):\n",
    "    print(key)\n",
    "    break"
   ]
  },
  {
   "cell_type": "code",
   "execution_count": 79,
   "metadata": {},
   "outputs": [
    {
     "name": "stdout",
     "output_type": "stream",
     "text": [
      "116 r:oklife:ok223250678149304340050703460187\r"
     ]
    }
   ],
   "source": [
    "rdb = c.prdb_paym(2)\n",
    "count = 0\n",
    "for key in rdb.scan_iter(\"r:*:*\"):\n",
    "\n",
    "    flow_message = rdb.hgetall(key)\n",
    "    if 'createdAt' not in flow_message or 'status' not in flow_message or 'type' not in flow_message or 'serialNum' not in flow_message:\n",
    "        continue\n",
    "    if int(flow_message['createdAt'])>old_timestamp:\n",
    "        continue\n",
    "    if flow_message['status'] == '0':\n",
    "        # delete redis.payment\n",
    "        continue\n",
    "    flow_id = flow_message['serialNum']\n",
    "    if list(pg_select(f\"SELECT flow_id FROM boluome_refund_flow WHERE flow_id='{flow_id}';\",pg)):\n",
    "        # delete redis.payment\n",
    "        continue\n",
    "    \n",
    "    body = {\n",
    "        'exchangeName': 'flow', \n",
    "        'routingKey': 'refund', \n",
    "        'payload': flow_message\n",
    "    }\n",
    "    resp = requests.post('http://rmqrestapi.localdomain:8672/rabbitmq/publish',json=body).json()\n",
    "    count += 1 \n",
    "    print(count,key,end='\\r')"
   ]
  },
  {
   "cell_type": "code",
   "execution_count": 87,
   "metadata": {},
   "outputs": [
    {
     "name": "stdout",
     "output_type": "stream",
     "text": [
      "125 r:oklife:ok223250678149304340050703460187\r"
     ]
    }
   ],
   "source": [
    "rdb = c.prdb_paym(2)\n",
    "count = 0\n",
    "for key in rdb.scan_iter(\"r:*:*\"):\n",
    "\n",
    "    flow_message = rdb.hgetall(key)\n",
    "    if 'createdAt' not in flow_message or 'status' not in flow_message or 'type' not in flow_message or 'serialNum' not in flow_message:\n",
    "        continue\n",
    "\n",
    "    if flow_message['status'] == '0':\n",
    "        # delete redis.payment\n",
    "        continue\n",
    "\n",
    "    flow_id = flow_message['serialNum']\n",
    "    if list(pg_select(f\"SELECT flow_id FROM boluome_refund_flow WHERE flow_id='{flow_id}';\",pg)):\n",
    "        # delete redis.payment\n",
    "        continue\n",
    "    \n",
    "    body = {\n",
    "        'exchangeName': 'flow', \n",
    "        'routingKey': 'refund', \n",
    "        'payload': flow_message\n",
    "    }\n",
    "    resp = requests.post('http://rmqrestapi.localdomain:8672/rabbitmq/publish',json=body).json()\n",
    "    count += 1 \n",
    "    print(count,key,end='\\r')"
   ]
  },
  {
   "cell_type": "code",
   "execution_count": 88,
   "metadata": {},
   "outputs": [
    {
     "name": "stdout",
     "output_type": "stream",
     "text": [
      "ala201471626215464 ala221473419542565\n"
     ]
    }
   ],
   "source": [
    "rdb = c.prdb_paym(2)\n",
    "count = 0\n",
    "for key in rdb.scan_iter(\"r:*:*\"):\n",
    "\n",
    "    flow_message = rdb.hgetall(key)\n",
    "    flow_id = flow_message['serialNum']\n",
    "    order_id = flow_message['id']\n",
    "    print(order_id,flow_id)\n",
    "    break\n",
    "\n",
    "    count += 1 \n",
    "    print(count,key,end='\\r')"
   ]
  },
  {
   "cell_type": "code",
   "execution_count": 99,
   "metadata": {},
   "outputs": [
    {
     "name": "stdout",
     "output_type": "stream",
     "text": [
      "[{'flow_id': 'ala223326875163593'}]\n"
     ]
    }
   ],
   "source": [
    "rdb = c.prdb_paym(0)\n",
    "list(rdb.sscan_iter('o_r_mapper:91ala:ala203200770941575'))\n",
    "refund_data = [{\"flow_id\": refund_id} for refund_id in rdb.sscan_iter('o_r_mapper:91ala:ala203200770941575')]\n",
    "print(refund_data)"
   ]
  },
  {
   "cell_type": "code",
   "execution_count": 100,
   "metadata": {
    "scrolled": true
   },
   "outputs": [
    {
     "data": {
      "text/plain": [
       "{}"
      ]
     },
     "execution_count": 100,
     "metadata": {},
     "output_type": "execute_result"
    }
   ],
   "source": [
    "rdb.hgetall('test')"
   ]
  },
  {
   "cell_type": "markdown",
   "metadata": {},
   "source": [
    "补偿pg.boluome.pay and refund"
   ]
  },
  {
   "cell_type": "code",
   "execution_count": 34,
   "metadata": {},
   "outputs": [],
   "source": [
    "pg = c.ppgdb('boluome')\n",
    "count = 0\n",
    "for item in pg_select('SELECT * FROM pay WHERE created_at is null LIMIT 1000;',pg):\n",
    "    count+=1\n",
    "    resp = c.pmdb['order_lite_list'].find_one({'id':item['order_id']})\n",
    "    print(item['flow_id'],count,end='\\r')\n",
    "    pg_update(f'''UPDATE pay SET created_at=? WHERE flow_id=?;''',\n",
    "             [{\"created_at\":resp['createdAt'],\"flow_id\":item['flow_id']}],\n",
    "             pg)\n",
    "#     break"
   ]
  },
  {
   "cell_type": "code",
   "execution_count": 45,
   "metadata": {},
   "outputs": [],
   "source": [
    "pg = c.ppgdb('boluome')\n",
    "count = 0\n",
    "for item in pg_select('SELECT * FROM pay WHERE order_type is null LIMIT 1000;',pg):\n",
    "    count+=1\n",
    "    print(item['flow_id'],count,end='\\r')\n",
    "    resp = c.pmdb['order_lite_list'].find_one({'id':item['order_id']})\n",
    "    try:\n",
    "        pg_update(f'''UPDATE pay SET order_type=? WHERE flow_id=?;''',\n",
    "                 [{\"order_type\":resp['orderType'],\"flow_id\":item['flow_id']}],\n",
    "                 pg)\n",
    "    except:\n",
    "        print(resp)\n",
    "#     break"
   ]
  },
  {
   "cell_type": "code",
   "execution_count": 57,
   "metadata": {},
   "outputs": [],
   "source": [
    "pg = c.ppgdb('boluome')\n",
    "count = 0\n",
    "for item in pg_select('SELECT * FROM pay WHERE order_price is null LIMIT 1000;',pg):\n",
    "    count+=1\n",
    "    print(item['flow_id'],count,end='\\r')\n",
    "    resp = c.pmdb[f'order_{item[\"order_type\"]}'].find_one({'id':item['order_id']})\n",
    "#     pprint(resp)\n",
    "#     break\n",
    "    try:\n",
    "        pg_update(f'''UPDATE pay SET order_price=? WHERE flow_id=?;''',\n",
    "                 [{\"order_price\":resp['orderPrice'],\"flow_id\":item['flow_id']}],\n",
    "                 pg)\n",
    "    except:\n",
    "        print(resp)\n",
    "#     break"
   ]
  },
  {
   "cell_type": "code",
   "execution_count": 61,
   "metadata": {},
   "outputs": [],
   "source": [
    "pg = c.ppgdb('boluome')\n",
    "count = 0\n",
    "for item in pg_select('SELECT * FROM pay WHERE price is null LIMIT 1000;',pg):\n",
    "    count+=1\n",
    "    print(item['flow_id'],count,end='\\r')\n",
    "    resp = c.pmdb[f'order_{item[\"order_type\"]}'].find_one({'id':item['order_id']})\n",
    "#     pprint(resp)\n",
    "#     break\n",
    "    try:\n",
    "        pg_update(f'''UPDATE pay SET price=? WHERE flow_id=?;''',\n",
    "                 [{\"price\":resp['price'],\"flow_id\":item['flow_id']}],\n",
    "                 pg)\n",
    "    except:\n",
    "        print(resp)\n",
    "#     break"
   ]
  },
  {
   "cell_type": "markdown",
   "metadata": {},
   "source": [
    "补偿redis.payment"
   ]
  },
  {
   "cell_type": "code",
   "execution_count": null,
   "metadata": {},
   "outputs": [],
   "source": [
    "rdb = c.prdb_paym(1)\n",
    "count = 0\n",
    "err_flow={}\n",
    "for key in rdb.scan_iter(\"p:*\"):\n",
    "    flow_message = rdb.hgetall(key)\n",
    "    if 'createdAt' not in flow_message:\n",
    "        err_flow.setdefault('createdAt',[])\n",
    "        err_flow['createdAt'].append(key)\n",
    "    if 'serialNum' not in flow_message:\n",
    "        err_flow.setdefault('serialNum',[])\n",
    "        err_flow['serialNum'].append(key)\n",
    "    if 'appCode' not in flow_message:\n",
    "        err_flow.setdefault('appCode',[])\n",
    "        err_flow['appCode'].append(key)\n",
    "    if 'id' not in flow_message:\n",
    "        err_flow.setdefault('id',[])\n",
    "        err_flow['id'].append(key)\n",
    "    if 'orderPrice' not in flow_message:\n",
    "        err_flow.setdefault('orderPrice',[])\n",
    "        err_flow['orderPrice'].append(key)\n",
    "    if 'price' not in flow_message:\n",
    "        err_flow.setdefault('price',[])\n",
    "        err_flow['price'].append(key)\n",
    "    if 'status' not in flow_message:\n",
    "        err_flow.setdefault('status',[])\n",
    "        err_flow['status'].append(key)\n",
    "    if 'userId' not in flow_message:\n",
    "        err_flow.setdefault('userId',[])\n",
    "        err_flow['userId'].append(key)\n",
    "    if 'orderType' not in flow_message:\n",
    "        err_flow.setdefault('orderType',[])\n",
    "        err_flow['orderType'].append(key)\n",
    "        \n",
    "#     if int(flow_message['createdAt'])>old_timestamp:\n",
    "#         continue\n",
    "        \n",
    "    count += 1 \n",
    "    print(count,key,end='\\r')\n",
    "#     if flow_message['status']=='0':\n",
    "#         rdb.delete(key)\n",
    "#         # delete redis.payment\n",
    "#         continue\n",
    "#     flow_id = flow_message['serialNum']\n",
    "#     if list(pg_select(f\"SELECT flow_id FROM boluome_flow WHERE flow_id='{flow_id}';\",pg)):\n",
    "#         # delete redis.payment\n",
    "#         rdb.delete(key)\n",
    "#         continue\n",
    "\n",
    "#     body = {\n",
    "#         'exchangeName': 'flow', \n",
    "#         'routingKey': 'payment', \n",
    "#         'payload': flow_message\n",
    "#     }\n",
    "#     resp = requests.post('http://rmqrestapi.localdomain:8672/rabbitmq/publish',json=body).json()"
   ]
  },
  {
   "cell_type": "markdown",
   "metadata": {},
   "source": [
    "判断redis.payment 和 pg.pay|refund 数据匹配度"
   ]
  },
  {
   "cell_type": "code",
   "execution_count": null,
   "metadata": {
    "scrolled": true
   },
   "outputs": [],
   "source": [
    "rdb = c.prdb_paym(1)\n",
    "pg_boluome = c.ppgdb('boluome')\n",
    "count = 0\n",
    "map_key = {\n",
    "    'appCode': 'app_code',\n",
    "    'chargeId': 'charge_id',\n",
    "    'createdAt': 'created_at',\n",
    "    'id': 'order_id',\n",
    "    'orderType': 'order_type',\n",
    "    'platformCode': 'platform_code',\n",
    "    'refundSource': 'refund_source',\n",
    "    'refundedAt': 'refunded_at',\n",
    "    'serialNum': 'flow_id',\n",
    "    'userId': 'user_id',\n",
    "    'userPhone': 'user_phone',\n",
    "    'additionalPrice': 'additional_price',\n",
    "    'orderPrice': 'order_price',\n",
    "    'paidAt': 'paid_at',\n",
    "    'payPrice': 'pay_price'\n",
    "}\n",
    "for key in rdb.scan_iter(\"p:*\"):\n",
    "    flow_message = rdb.hgetall(key)\n",
    "    pg_data = list(pg_select(\"SELECT * FROM pay WHERE flow_id='{}';\".format(flow_message['serialNum']),pg_boluome))\n",
    "    if not pg_data:\n",
    "        body = {\"taskName\":\"pg_sync_worker.sync_pg_by_flow_id\",\"args\":[key,1],\"queue\":\"dpp_pg_sync_tasks\"}\n",
    "        resp = requests.post('http://dpp.boluome.com/rabbitmq/publish',json=body).json()\n",
    "        count+=1\n",
    "        print(key,'pg no data',count)\n",
    "        continue\n",
    "        \n",
    "    flow_data = {map_key.get(k, k): v for k, v in flow_message.items()}\n",
    "    for k,v in pg_data[0].items():\n",
    "        if (not flow_data.get(k)) or v == flow_data.get(k) or str(v) == flow_data.get(k):\n",
    "            continue\n",
    "        body = {\"taskName\":\"pg_sync_worker.sync_pg_by_flow_id\",\"args\":[key,1],\"queue\":\"dpp_pg_sync_tasks\"}\n",
    "        resp = requests.post('http://dpp.boluome.com/rabbitmq/publish',json=body).json()\n",
    "        count+=1\n",
    "        print(key,k,v,flow_data.get(k),count)\n",
    "        break"
   ]
  },
  {
   "cell_type": "code",
   "execution_count": 122,
   "metadata": {},
   "outputs": [],
   "source": [
    "key = 'p:bestpay:bp213905272294254'\n",
    "flow_message = rdb.hgetall(key)\n",
    "pg_data = list(pg_select(\"SELECT * FROM pay WHERE flow_id='{}';\".format(flow_message['serialNum']),pg_boluome))\n",
    "if not pg_data:\n",
    "    body = {\"taskName\":\"pg_sync_worker.sync_pg_by_flow_id\",\"args\":[key,1],\"queue\":\"dpp_pg_sync_tasks\"}\n",
    "    resp = requests.post('http://dpp.boluome.com/rabbitmq/publish',json=body).json()\n",
    "    count+=1\n",
    "    print(key,'pg no data',count)\n",
    "\n",
    "flow_data = {map_key.get(k, k): v for k, v in flow_message.items()}\n",
    "for k,v in flow_data.items():\n",
    "    if v != str(pg_data[0].get(k)):\n",
    "        body = {\"taskName\":\"pg_sync_worker.sync_pg_by_flow_id\",\"args\":[key,1],\"queue\":\"dpp_pg_sync_tasks\"}\n",
    "        resp = requests.post('http://dpp.boluome.com/rabbitmq/publish',json=body).json()\n",
    "        count+=1\n",
    "        print(key,k,v,pg_data[0].get(k),count)\n",
    "        break"
   ]
  }
 ],
 "metadata": {
  "kernelspec": {
   "display_name": "Python 3",
   "language": "python",
   "name": "python3"
  },
  "language_info": {
   "codemirror_mode": {
    "name": "ipython",
    "version": 3
   },
   "file_extension": ".py",
   "mimetype": "text/x-python",
   "name": "python",
   "nbconvert_exporter": "python",
   "pygments_lexer": "ipython3",
   "version": "3.6.0"
  }
 },
 "nbformat": 4,
 "nbformat_minor": 2
}
