{
 "cells": [
  {
   "cell_type": "code",
   "execution_count": 149,
   "metadata": {},
   "outputs": [],
   "source": [
    "import requests\n",
    "import time \n",
    "import json\n",
    "import hashlib\n",
    "from pprint import pprint\n",
    "import urllib.parse\n",
    "import binascii\n",
    "# from requests.packages.urllib3 import disable_warnings\n",
    "from connection import ConnectionTask\n",
    "c=ConnectionTask()\n",
    "# disable_warnings()\n",
    "\n",
    "MEITUAN_TOKEN = \"DZDP-POS\"\n",
    "MEITUAN_SIGN = \"rRqTsJ4ZWs2P59vtT0dcFw==\"\n",
    "MEITUAN_AES_KEY = \"MNZntfT8Vn4H40u73FvDFg==\""
   ]
  },
  {
   "cell_type": "code",
   "execution_count": 203,
   "metadata": {
    "scrolled": true
   },
   "outputs": [],
   "source": [
    "import base64\n",
    "from Crypto.Cipher import AES,DES\n",
    "\n",
    "class AESCipher:\n",
    "\n",
    "    def __init__(self, key):\n",
    "        self.key = base64.b64decode(key)\n",
    "\n",
    "    def __pad(self, text):\n",
    "        text_length = len(text)\n",
    "        amount_to_pad = AES.block_size - (text_length % AES.block_size)\n",
    "        if amount_to_pad == 0:\n",
    "            amount_to_pad = AES.block_size\n",
    "        pad = chr(amount_to_pad)\n",
    "        return text + pad * amount_to_pad\n",
    "\n",
    "    def encrypt( self, raw ):\n",
    "        raw = self.__pad(raw)\n",
    "        cipher = AES.new(self.key, AES.MODE_ECB)\n",
    "        return base64.b64encode(cipher.encrypt(raw)) "
   ]
  },
  {
   "cell_type": "code",
   "execution_count": 208,
   "metadata": {
    "scrolled": true
   },
   "outputs": [
    {
     "data": {
      "text/plain": [
       "{'data': {'address_latitude': 40007069,\n",
       "  'address_longitude': 116488645,\n",
       "  'box_total_price': 0.0,\n",
       "  'city_id': 110100,\n",
       "  'courier_name': '孟小胖',\n",
       "  'courier_phone': '13800440000',\n",
       "  'ctime': 1525939527,\n",
       "  'estimate_arrival_time': 1525942545,\n",
       "  'food_list': [{'box_num': 1,\n",
       "    'box_price': 0.0,\n",
       "    'count': 22,\n",
       "    'food_id': 1308526,\n",
       "    'name': '香菇炒肉',\n",
       "    'origin_price': 20.0,\n",
       "    'price': 20.0,\n",
       "    'spec': '规格二',\n",
       "    'spu_id': 1292067}],\n",
       "  'has_been_invoiced': 0,\n",
       "  'invoice_taxpayer_id': None,\n",
       "  'invoice_title': '',\n",
       "  'is_pre_order': 0,\n",
       "  'latitude': 40007069,\n",
       "  'logistics_code': None,\n",
       "  'logistics_status': 40,\n",
       "  'longitude': 116488645,\n",
       "  'night_shipping_fre': 0.0,\n",
       "  'order_id': 1072630495565704,\n",
       "  'order_time': 1525939527,\n",
       "  'original_price': 461.4,\n",
       "  'pay_status': 3,\n",
       "  'poi_name': '王彩_超市_活动专用门店（勿动）',\n",
       "  'recipient_address': '上海市上海市静安区中铁·中环时代广场江场西路299弄',\n",
       "  'recipient_name': '庹少颐',\n",
       "  'recipient_phone': '18787878787',\n",
       "  'remark': '',\n",
       "  'shipping_fee': 21.4,\n",
       "  'status': 4,\n",
       "  'total': 461.4,\n",
       "  'user_id': 2000000500,\n",
       "  'user_phone': '18787878787',\n",
       "  'utime': 1525940072,\n",
       "  'wm_order_pay_type': 2,\n",
       "  'wm_poi_id': 408572648978718},\n",
       " 'msg': '成功',\n",
       " 'status': 0}"
      ]
     },
     "execution_count": 208,
     "metadata": {},
     "output_type": "execute_result"
    }
   ],
   "source": [
    "plain_text = json.dumps({\n",
    "  \"sign\": MEITUAN_SIGN,\n",
    "  \"method\":\"waimai.order.query\",\n",
    "  \"ts\":int(time.time()),\n",
    "  \"order_id\": \"1072630495565704\"\n",
    "})\n",
    "content=AESCipher(MEITUAN_AES_KEY).encrypt(plain_text)\n",
    "body = {\n",
    "    \"token\":MEITUAN_TOKEN,\n",
    "    \"version\":1.0,\n",
    "    \"content\":content\n",
    "}\n",
    "url = 'http://api-sqt.bep.test.meituan.com/waimai/v1/order/query'\n",
    "requests.post(url,data=body).json()"
   ]
  }
 ],
 "metadata": {
  "kernelspec": {
   "display_name": "Python 3",
   "language": "python",
   "name": "python3"
  },
  "language_info": {
   "codemirror_mode": {
    "name": "ipython",
    "version": 3
   },
   "file_extension": ".py",
   "mimetype": "text/x-python",
   "name": "python",
   "nbconvert_exporter": "python",
   "pygments_lexer": "ipython3",
   "version": "3.6.0"
  }
 },
 "nbformat": 4,
 "nbformat_minor": 2
}
