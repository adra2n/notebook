{
 "cells": [
  {
   "cell_type": "code",
   "execution_count": 43,
   "metadata": {},
   "outputs": [],
   "source": [
    "import requests\n",
    "from pprint import pprint\n",
    "import json\n",
    "from connection import ConnectionTask\n",
    "c = ConnectionTask()"
   ]
  },
  {
   "cell_type": "code",
   "execution_count": 8,
   "metadata": {},
   "outputs": [
    {
     "name": "stdout",
     "output_type": "stream",
     "text": [
      "55638722|c:1702|2440 1530235599.0\n"
     ]
    }
   ],
   "source": [
    "rdb = c.drdb_new(0)\n",
    "for item,coupon_ts in rdb.zscan_iter('c:me:test_long',match='55638722|*'):\n",
    "    print(item,coupon_ts)"
   ]
  },
  {
   "cell_type": "code",
   "execution_count": 9,
   "metadata": {},
   "outputs": [
    {
     "data": {
      "text/plain": [
       "True"
      ]
     },
     "execution_count": 9,
     "metadata": {},
     "output_type": "execute_result"
    }
   ],
   "source": [
    "rdb.sismember('ooca:me', 'c:1702')"
   ]
  },
  {
   "cell_type": "code",
   "execution_count": 64,
   "metadata": {},
   "outputs": [
    {
     "name": "stdout",
     "output_type": "stream",
     "text": [
      "{\n",
      "    \"code\": 0\n",
      "}\n"
     ]
    }
   ],
   "source": [
    "body = {\n",
    "    \"appCode\": \"me\",\n",
    "    \"userId\": \"test_long\",\n",
    "    \"orderType\": \"liuliang\",\n",
    "    \"channel\": \"dhst\",\n",
    "    \"couponId\": \"55638735\",\n",
    "    \"activityId\": 2446,\n",
    "    \"amount\": 10,\n",
    "    \"count\": 2\n",
    "}\n",
    "url = 'http://192.168.0.6:8011/undo_check_promotions'\n",
    "resp = requests.get(url,params=body).json()\n",
    "print(json.dumps(resp,indent=4,ensure_ascii=False))"
   ]
  },
  {
   "cell_type": "code",
   "execution_count": 68,
   "metadata": {},
   "outputs": [
    {
     "name": "stdout",
     "output_type": "stream",
     "text": [
      "{\n",
      "    \"code\": 0,\n",
      "    \"message\": \"success\",\n",
      "    \"data\": {\n",
      "        \"target\": \"platform\",\n",
      "        \"activities\": [\n",
      "            {\n",
      "                \"id\": \"2446\",\n",
      "                \"title\": \"promotion_plat\",\n",
      "                \"subtitle\": null,\n",
      "                \"threshold\": 2.0,\n",
      "                \"type\": 3,\n",
      "                \"value\": 3.0,\n",
      "                \"discount\": 0.0,\n",
      "                \"mutex\": 1,\n",
      "                \"deductionPrice\": 3.0\n",
      "            }\n",
      "        ],\n",
      "        \"payPrice\": 17.0,\n",
      "        \"coupons\": [\n",
      "            {\n",
      "                \"id\": \"55638724\",\n",
      "                \"title\": \"11111\",\n",
      "                \"subtitle\": \"\",\n",
      "                \"threshold\": 20.0,\n",
      "                \"type\": 1,\n",
      "                \"value\": 10.0,\n",
      "                \"discount\": 0.0,\n",
      "                \"discountoff\": 1.0,\n",
      "                \"mutex\": 0,\n",
      "                \"ets\": 1530633599,\n",
      "                \"deductionPrice\": 10.0\n",
      "            },\n",
      "            {\n",
      "                \"id\": \"55638723\",\n",
      "                \"title\": \"11111\",\n",
      "                \"subtitle\": \"\",\n",
      "                \"threshold\": 20.0,\n",
      "                \"type\": 1,\n",
      "                \"value\": 10.0,\n",
      "                \"discount\": 0.0,\n",
      "                \"discountoff\": 1.0,\n",
      "                \"mutex\": 0,\n",
      "                \"ets\": 1530633599,\n",
      "                \"deductionPrice\": 10.0\n",
      "            },\n",
      "            {\n",
      "                \"id\": \"55638722\",\n",
      "                \"title\": \"11111\",\n",
      "                \"subtitle\": \"\",\n",
      "                \"threshold\": 20.0,\n",
      "                \"type\": 1,\n",
      "                \"value\": 10.0,\n",
      "                \"discount\": 0.0,\n",
      "                \"discountoff\": 1.0,\n",
      "                \"mutex\": 0,\n",
      "                \"ets\": 1530633599,\n",
      "                \"deductionPrice\": 10.0\n",
      "            },\n",
      "            {\n",
      "                \"id\": \"55638735\",\n",
      "                \"title\": \"promotion_test_1\",\n",
      "                \"subtitle\": \"\",\n",
      "                \"threshold\": 10.0,\n",
      "                \"type\": 1,\n",
      "                \"value\": 2.0,\n",
      "                \"discount\": 0.0,\n",
      "                \"discountoff\": 1.0,\n",
      "                \"mutex\": 0,\n",
      "                \"ets\": 1539100799,\n",
      "                \"deductionPrice\": 2.0\n",
      "            }\n",
      "        ],\n",
      "        \"couponNum\": 4\n",
      "    }\n",
      "}\n"
     ]
    }
   ],
   "source": [
    "headers = {\"appCode\": \"me\",}\n",
    "body = {\n",
    "    \"userId\": \"test_long\",\n",
    "    \"orderType\": \"liuliang\",\n",
    "    \"channel\": \"dhst\",\n",
    "    \"target\": \"platform\",\n",
    "#     \"target\": \"coupon\",\n",
    "    \"amount\": 20,\n",
    "    \"count\": 2\n",
    "}\n",
    "url = 'http://192.168.0.6:8011/query_promotions'\n",
    "try:\n",
    "    resp = requests.post(url,headers=headers,json=body)\n",
    "    resp_data = resp.json()\n",
    "    print(json.dumps(resp_data,indent=4,ensure_ascii=False))\n",
    "except:\n",
    "    print(resp.text)"
   ]
  }
 ],
 "metadata": {
  "kernelspec": {
   "display_name": "Python 3",
   "language": "python",
   "name": "python3"
  },
  "language_info": {
   "codemirror_mode": {
    "name": "ipython",
    "version": 3
   },
   "file_extension": ".py",
   "mimetype": "text/x-python",
   "name": "python",
   "nbconvert_exporter": "python",
   "pygments_lexer": "ipython3",
   "version": "3.6.0"
  }
 },
 "nbformat": 4,
 "nbformat_minor": 2
}
