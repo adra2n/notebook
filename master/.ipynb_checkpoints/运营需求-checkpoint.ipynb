{
 "cells": [
  {
   "cell_type": "code",
   "execution_count": 1,
   "metadata": {},
   "outputs": [],
   "source": [
    "from connection import ConnectionTask, pg_select\n",
    "import time\n",
    "import tablib\n",
    "import requests\n",
    "import json\n",
    "import random\n",
    "from pprint import pprint\n",
    "c=ConnectionTask()"
   ]
  },
  {
   "cell_type": "code",
   "execution_count": null,
   "metadata": {
    "scrolled": true
   },
   "outputs": [],
   "source": [
    "# 51返呗Id：664的滑动，已领卷但是未使用的用户注册手机号。\n",
    "app_code='fdbank'\n",
    "activity_id='1248'\n",
    "expire_time = time.mktime((2018,3,26,0,0,0,0,0,0))\n",
    "rdb=c.prdb_activity(0)\n",
    "user_id_set=set()\n",
    "count = 0\n",
    "for key in rdb.scan_iter('c:{}:*'.format(app_code)):\n",
    "    if 'use' in key:\n",
    "        continue\n",
    "    count +=1\n",
    "\n",
    "    value,timestamp=rdb.zscan(key)[1][0]\n",
    "    if value.split('|')[-1]==activity_id:\n",
    "        if timestamp>expire_time:\n",
    "            continue\n",
    "\n",
    "        if 'expired' in key:\n",
    "            user_id_set.add(key.split(':')[-2])\n",
    "        else:\n",
    "            user_id_set.add(key.split(':')[-1])\n",
    "            \n",
    "    print(count,end='\\r')\n",
    "            \n",
    "import tablib\n",
    "user=tablib.Dataset(headers=['用户ID','用户手机号'])\n",
    "for user_id in user_id_set:\n",
    "    try:\n",
    "        phone=c.pmdb.user_customer.find_one({'customerUser.{}'.format(app_code):user_id},{'_id':0,'phone':1})['phone']\n",
    "    except:\n",
    "        phone=''\n",
    "    user.append([user_id,phone])\n",
    "    print(user_id,end='\\r')\n",
    "with open(f'已领卷未使用的用户手机号{app_code}_{activity_id}.xlsx', 'wb') as f:\n",
    "    f.write(user.export('xlsx'))\n",
    "print('ok')"
   ]
  },
  {
   "cell_type": "code",
   "execution_count": null,
   "metadata": {},
   "outputs": [],
   "source": [
    "len(user_id_set)"
   ]
  },
  {
   "cell_type": "code",
   "execution_count": null,
   "metadata": {},
   "outputs": [],
   "source": [
    "import tablib\n",
    "user=tablib.Dataset(headers=['用户ID','用户手机号'])\n",
    "for user_id in user_id_set:\n",
    "    try:\n",
    "        phone=c.pmdb.user_customer.find_one({'customerUser.{}'.format(app_code):user_id},{'_id':0,'phone':1})['phone']\n",
    "    except:\n",
    "        phone=''\n",
    "    user.append([user_id,phone])\n",
    "    print(user_id,end='\\r')\n",
    "with open(f'已领卷未使用的用户手机号{app_code}_{activity_id}.xlsx', 'wb') as f:\n",
    "    f.write(user.export('xlsx'))\n",
    "print('ok')"
   ]
  },
  {
   "cell_type": "code",
   "execution_count": null,
   "metadata": {},
   "outputs": [],
   "source": [
    "with open('51ala_664.xls', 'wb') as f:\n",
    "    f.write(user.export('xls'))"
   ]
  },
  {
   "cell_type": "code",
   "execution_count": null,
   "metadata": {},
   "outputs": [],
   "source": [
    "len(user.dict)"
   ]
  },
  {
   "cell_type": "code",
   "execution_count": 4,
   "metadata": {},
   "outputs": [
    {
     "name": "stdout",
     "output_type": "stream",
     "text": [
      "success\n",
      "{'activity_id': 1307, 'num': 4200} ok\n"
     ]
    }
   ],
   "source": [
    "# 运营生成卷码\\\n",
    "# 活动id：779  优惠券码760份，id 778，优惠券码3010份\n",
    "import requests\n",
    "import tablib\n",
    "COUPON_URL='http://sessionapi.localdomain:8011/get_coupon_codes/'\n",
    "# 1251，bsb ，11700个券码\n",
    "app_code='bsb'\n",
    "activity_num=[\n",
    "    {'activity_id':1307,'num':4200},\n",
    "]\n",
    "\n",
    "data_book=tablib.Databook()\n",
    "for activity in activity_num:\n",
    "    url=COUPON_URL+'{}/{}/{}'.format(app_code,activity['activity_id'],activity['num'])\n",
    "    resp_data=requests.get(url).json()\n",
    "#     {\n",
    "#         'data': {\n",
    "#             'codes': ['f3e979c46f88c0b5']\n",
    "#         }, \n",
    "#         'message': 'success', \n",
    "#         'code': 0\n",
    "#     }\n",
    "    print(resp_data['message'])\n",
    "    dataset=tablib.Dataset(header=['appCode','activityId','couponCode'])\n",
    "    for item in resp_data['data']['codes']:\n",
    "        dataset.append([app_code,activity['activity_id'],item])\n",
    "    dataset.title=str(activity['activity_id'])\n",
    "    data_book.add_sheet(dataset)\n",
    "    print(activity,'ok')\n",
    "with open('coupon-{}-{}.xls'.format(app_code,'-'.join([str(activity['activity_id']) for activity in activity_num])), 'wb') as f:\n",
    "    f.write(data_book.xls)"
   ]
  },
  {
   "cell_type": "code",
   "execution_count": 12,
   "metadata": {},
   "outputs": [
    {
     "name": "stdout",
     "output_type": "stream",
     "text": [
      "{'ets': 1525449599000, 'app_id': 175}\n"
     ]
    }
   ],
   "source": []
  },
  {
   "cell_type": "code",
   "execution_count": 26,
   "metadata": {},
   "outputs": [
    {
     "name": "stdout",
     "output_type": "stream",
     "text": [
      "success\n",
      "{'activityId': 1321, 'appCode': 'bsb', 'num': 600, 'ets': 1527782399000, 'app_id': 175, 'appId': 175} ok\n",
      "success\n",
      "{'activityId': 1323, 'appCode': 'bsb', 'num': 400, 'ets': 1527782399000, 'app_id': 175, 'appId': 175} ok\n"
     ]
    }
   ],
   "source": [
    "# 运营生成卷码\n",
    "import requests\n",
    "import tablib\n",
    "COUPON_URL='http://promotionapi.localdomain:8011/get_coupon_code_list'\n",
    "conn = c.ppgdb('oto_saas')\n",
    "\n",
    "activity_num=[\n",
    "    {'activityId':1321, 'appCode': 'bsb', 'num':600},\n",
    "    {'activityId':1323, 'appCode': 'bsb', 'num':400},\n",
    "]\n",
    "for an in activity_num:\n",
    "    for item in pg_select(\"SELECT ets,app_id FROM activity WHERE id = '{}';\".format(an['activityId']),conn):\n",
    "        item['appId'] = item['app_id']\n",
    "        an.update(item)\n",
    "\n",
    "data_book=tablib.Databook()\n",
    "for activity in activity_num:\n",
    "    resp_data=requests.post(COUPON_URL,json=activity).json()\n",
    "#     {\n",
    "#         'data': {\n",
    "#             'codes': ['f3e979c46f88c0b5']\n",
    "#         }, \n",
    "#         'message': 'success', \n",
    "#         'code': 0\n",
    "#     }\n",
    "    print(resp_data['message'])\n",
    "    dataset=tablib.Dataset(headers=['appCode','activityId','couponCode'])\n",
    "    for item in resp_data['data']['codes']:\n",
    "        dataset.append([app_code,activity['activityId'],item])\n",
    "    dataset.title=str(activity['activityId'])\n",
    "    data_book.add_sheet(dataset)\n",
    "    print(activity,'ok')\n",
    "with open('coupon-{}-{}.xls'.format(app_code,'-'.join([str(activity['activityId']) for activity in activity_num])), 'wb') as f:\n",
    "    f.write(data_book.xls)"
   ]
  },
  {
   "cell_type": "code",
   "execution_count": null,
   "metadata": {},
   "outputs": [],
   "source": [
    "# 基于mongo.timeline统计ele外卖失败订单原因\n",
    "import tablib,time\n",
    "\n",
    "start=time.mktime((2017,11,1,0,0,0,0,0,0))*1000\n",
    "end=time.mktime((2017,12,12,0,0,0,0,0,0))*1000\n",
    "counter={}\n",
    "for item in c.pmdb.order_waimai.find({'createdAt':{'$gte':start,'$lt':end},'status':{'$nin':[1,2,3,4]}},{'id':1,'timeline':1,'_id':0}):\n",
    "    for time_line in item.get('timeline',[]):\n",
    "        if '订单失败' in time_line and '支付超时' not in time_line:\n",
    "            date,*args,reason=time_line.strip(' ').split(' ',3)\n",
    "            if len(reason)<=2:\n",
    "                print(time_line,reason)\n",
    "            counter.setdefault(date,{})\n",
    "            counter[date].setdefault(reason,0)\n",
    "            counter[date][reason]+=1\n",
    "            break\n",
    "\n",
    "tab_data=tablib.Dataset(headers=['时间','原因','单数'])\n",
    "for key,value in counter.items():\n",
    "    for k,v in value.items():\n",
    "        tab_data.append([key,k,v])\n",
    "\n",
    "with open('waimai_refund_order_counter_{}-{}.xlsx'.format(\n",
    "    time.strftime('%Y%m%d',time.localtime(start/1000)),\n",
    "    time.strftime('%Y%m%d',time.localtime(end/1000))),'wb') as f:\n",
    "    f.write(tab_data.xlsx)"
   ]
  },
  {
   "cell_type": "code",
   "execution_count": null,
   "metadata": {
    "scrolled": true
   },
   "outputs": [],
   "source": [
    "# 基于mongo.timeline统计ele外卖失败订单原因\n",
    "# 把11.1-12.10号的订单中原因是\n",
    "# 【商家超时未接单】、【暂时无法配送】\n",
    "# 这两个原因的订单明细导出一份\n",
    "\n",
    "import tablib,time\n",
    "\n",
    "start=time.mktime((2017,11,1,0,0,0,0,0,0))*1000\n",
    "end=time.mktime((2017,12,10,24,0,0,0,0,0))*1000\n",
    "counter=[]\n",
    "for item in c.pmdb.order_waimai.find({'createdAt':{'$gte':start,'$lt':end},'status':{'$nin':[1,2,3,4]}},{'_id':0}):\n",
    "    for time_line in item.get('timeline',[]):\n",
    "        if '订单失败' in time_line and '支付超时' not in time_line:\n",
    "            date,*args,reason=time_line.strip(' ').split(' ',3)\n",
    "#             if '商家超时未接单' in reason or '暂时无法配送' in reason:\n",
    "            if '暂时无法配送' in reason:\n",
    "                counter.append(item['id'])\n",
    "#             if len(reason)<=2:\n",
    "#                 print(time_line,reason)\n",
    "#             counter.setdefault(date,{})\n",
    "#             counter[date].setdefault(reason,0)\n",
    "#             counter[date][reason]+=1\n",
    "            break\n",
    "# tab_data=tablib.Dataset()\n",
    "# tab_data.dict=counter\n",
    "# tab_data=tablib.Dataset(headers=['时间','原因','单数'])\n",
    "# for key,value in counter.items():\n",
    "#     for k,v in value.items():\n",
    "#         tab_data.append([key,k,v])\n",
    "\n",
    "# with open('waimai_refund_order_counter_{}-{}.xlsx'.format(\n",
    "#     time.strftime('%Y%m%d',time.localtime(start/1000)),\n",
    "#     time.strftime('%Y%m%d',time.localtime(end/1000))),'wb') as f:\n",
    "#     f.write(tab_data.xlsx)"
   ]
  },
  {
   "cell_type": "code",
   "execution_count": null,
   "metadata": {},
   "outputs": [],
   "source": [
    "len(counter) #1415 = 1047 + 368"
   ]
  },
  {
   "cell_type": "code",
   "execution_count": null,
   "metadata": {},
   "outputs": [],
   "source": [
    "# 客户，活动Id ，使用金额，结束时间\n",
    "tab_data=tablib.Dataset(headers=['客户','活动ID','使用数量','优惠单价','优惠总额','结束时间'])\n",
    "coupon_counter={}\n",
    "start=time.mktime((2017,1,1,0,0,0,0,0,0))*1000\n",
    "for order_type in c.pmdb.order_lite_list.distinct('orderType',{'status':4}):\n",
    "    for item in c.pmdb[f'order_{order_type}'].find(\n",
    "        {'status':4,'createdAt':{'$gte':start},'couponId':{'$exists':True}},\n",
    "        {'id':1,'coupon':1,'couponId':1,'appCode':1,'user_id':1,'_id':0,'customerUserId':1}\n",
    "    ):\n",
    "        coupon_counter.setdefault(item['appCode'],{})\n",
    "        used_coupon_list_key = 'c:{}:{}:used'.format(item['appCode'], item.get('user_id') or item.get('customerUserId'))\n",
    "        for activity, coupon_ts in c.prdb_activity(0).zscan_iter(used_coupon_list_key, match='{}|*'.format(item['couponId'])):\n",
    "            \n",
    "            *_, aid, paid = activity.split('|')\n",
    "            content = json.loads(c.prdb_activity(0).hget(f'a:{paid}','content'))\n",
    "            if time.time()<content['ets']:\n",
    "                continue\n",
    "            ets = time.strftime(\"%Y-%m-%d\",time.localtime(content['ets']))\n",
    "            coupon_counter[item['appCode']].setdefault(paid, {\"count\":0,\"unitPrice\":0,\"endDate\":\"\"})\n",
    "            coupon_counter[item['appCode']][paid]['count']+=1\n",
    "            coupon_counter[item['appCode']][paid]['unitPrice']=item['coupon'].get('price')\n",
    "            coupon_counter[item['appCode']][paid]['endDate']=ets\n",
    "\n",
    "for app_code in coupon_counter:\n",
    "    for activity_id,value in coupon_counter[app_code].items():\n",
    "        tab_data.append([app_code,activity_id,value['count'],value['unitPrice'],value['count']*value['unitPrice'],value['endDate']])   \n",
    "\n",
    "with open('红包活动使用总额.xlsx','wb') as f:\n",
    "    f.write(tab_data.xlsx)"
   ]
  },
  {
   "cell_type": "code",
   "execution_count": 4,
   "metadata": {
    "scrolled": true
   },
   "outputs": [
    {
     "name": "stdout",
     "output_type": "stream",
     "text": [
      "手机号 用户ID 优惠券\n",
      "13774299451 201607060002599003 []\n",
      "13816874115 201502270000157548 []\n"
     ]
    }
   ],
   "source": [
    "# 几个账号，查下账户中有没有券\n",
    "phone_list = '''13774299451\n",
    "13816874115'''.split('\\n')\n",
    "app_code='mybosc'\n",
    "\n",
    "user_list = {item['phone']:item['customerUser'][app_code] for item in c.pmdb.user_customer.find({'phone':{'$in':phone_list}})}\n",
    "print('手机号','用户ID','优惠券')\n",
    "for phone,user_id in user_list.items():\n",
    "    user_coupon = [\n",
    "        c.prdb_activity(0).hget(\n",
    "            'a:'+item.split('|')[1],'title'\n",
    "        ) for item,_ in c.prdb_activity(0).zscan_iter(f'c:{app_code}:{user_id}')\n",
    "    ]\n",
    "    print(phone,user_id,user_coupon)"
   ]
  },
  {
   "cell_type": "code",
   "execution_count": null,
   "metadata": {},
   "outputs": [],
   "source": [
    "# 分城市的有排期的影院列表"
   ]
  },
  {
   "cell_type": "code",
   "execution_count": null,
   "metadata": {},
   "outputs": [],
   "source": [
    "# 3个需求\n",
    "# 1.统计一下翼支付猫眼电影上线至3.13号的出票张数（一个订单可能会有多张票）\n",
    "# 2.统计最近1万单话费和流量充值的支付成功到充值成功的时间间隔，1分钟以内 X%，1-5分钟 X%，5-30分钟 X%，30分钟以上 X%\n",
    "# 3.统计最近1万单话费和流量充值的失败原因占比，A原因X%，B原因X%，未知原因X%"
   ]
  },
  {
   "cell_type": "code",
   "execution_count": null,
   "metadata": {},
   "outputs": [],
   "source": [
    "count=0\n",
    "for item in c.pmdb.order_dianying.find({'channel':'maoyan','status':4,'appCode':'bestpay'},{'seatName':1,'_id':0}):\n",
    "    count+= len(item['seatName'].split(' '))\n",
    "print(count)"
   ]
  },
  {
   "cell_type": "code",
   "execution_count": null,
   "metadata": {
    "scrolled": true
   },
   "outputs": [],
   "source": [
    "time_cost={}\n",
    "count=0\n",
    "for item in c.pmdb.order_huafei.find({'status':4},{'_id':0,'timeline_new':1}).sort([('_id',-1)]):\n",
    "    try:\n",
    "        for timeline in item['timeline_new']:\n",
    "            if timeline['status']=='充值中':\n",
    "                time_1 = time.mktime(time.strptime(timeline['time'],'%Y-%m-%d %H:%M'))\n",
    "            elif timeline['status']=='充值成功':\n",
    "                time_2 = time.mktime(time.strptime(timeline['time'],'%Y-%m-%d %H:%M'))\n",
    "    except :\n",
    "        continue\n",
    "            \n",
    "    cost = time_2-time_1\n",
    "    if cost <= 60:\n",
    "        time_cost.setdefault('~1',0)\n",
    "        time_cost['~1']+=1\n",
    "    elif 60< cost <= 60*5:\n",
    "        time_cost.setdefault('1~5',0)\n",
    "        time_cost['1~5']+=1\n",
    "    elif 60*5< cost <= 60*30:\n",
    "        time_cost.setdefault('5~30',0)\n",
    "        time_cost['5~30']+=1\n",
    "    else:\n",
    "        time_cost.setdefault('30~',0)\n",
    "        time_cost['30~']+=1\n",
    "\n",
    "    count+=1\n",
    "    if count >= 10000:\n",
    "        break\n",
    "print(time_cost)"
   ]
  },
  {
   "cell_type": "code",
   "execution_count": null,
   "metadata": {},
   "outputs": [],
   "source": [
    "time_cost={}\n",
    "count=0\n",
    "for item in c.pmdb.order_liuliang.find({'status':4,'channel':'dhst'},{'_id':0,'timeline_new':1}).sort([('_id',-1)]):\n",
    "    try:\n",
    "        for timeline in item['timeline_new']:\n",
    "            if timeline['status']=='充值中':\n",
    "                time_1 = time.mktime(time.strptime(timeline['time'],'%Y-%m-%d %H:%M'))\n",
    "            elif timeline['status']=='充值成功':\n",
    "                time_2 = time.mktime(time.strptime(timeline['time'],'%Y-%m-%d %H:%M'))\n",
    "    except :\n",
    "        continue\n",
    "            \n",
    "    cost = time_2-time_1\n",
    "    if cost <= 60:\n",
    "        time_cost.setdefault('~1',0)\n",
    "        time_cost['~1']+=1\n",
    "    elif 60< cost <= 60*5:\n",
    "        time_cost.setdefault('1~5',0)\n",
    "        time_cost['1~5']+=1\n",
    "    elif 60*5< cost <= 60*30:\n",
    "        time_cost.setdefault('5~30',0)\n",
    "        time_cost['5~30']+=1\n",
    "    else:\n",
    "        time_cost.setdefault('30~',0)\n",
    "        time_cost['30~']+=1\n",
    "\n",
    "    count+=1\n",
    "    if count >= 10000:\n",
    "        break\n",
    "print(time_cost)"
   ]
  },
  {
   "cell_type": "code",
   "execution_count": null,
   "metadata": {
    "scrolled": true
   },
   "outputs": [],
   "source": [
    "reason_counter={}\n",
    "count=0\n",
    "for item in c.pmdb.order_liuliang.find({'channel':'dhst','status':7},{'_id':0,'timeline_new':1}).sort([('_id',-1)]):\n",
    "    for timeline in item.get('timeline_new',[]):\n",
    "        if '订单失败' in timeline['status']:\n",
    "            reason = timeline['status']\n",
    "            reason_counter.setdefault(reason,0)\n",
    "            reason_counter[reason]+=1\n",
    "pprint(reason_counter)"
   ]
  },
  {
   "cell_type": "code",
   "execution_count": null,
   "metadata": {},
   "outputs": [],
   "source": [
    "# 给用户发短信\n",
    "header = {'Content-Type': 'application/x-www-form-urlencoded'}\n",
    "sms_url = 'https://api.submail.cn/message/xsend.json'\n",
    "faild_phone = []\n",
    "for phone in phone_list[1:]:\n",
    "    post_data = {\n",
    "        'appid': '12773',\n",
    "        'project': 'c8ke44',\n",
    "        'to': phone,\n",
    "        'signature':'1324fdded1ccce9f855300215985ab6c'\n",
    "    }\n",
    "    resp = requests.post(sms_url,\n",
    "                         headers=header,\n",
    "                         data=post_data,\n",
    "                         verify=False).json()\n",
    "    if resp['status'] == 'success':\n",
    "        continue\n",
    "    faild_phone.append(phone)\n",
    "    print(phone,resp)"
   ]
  },
  {
   "cell_type": "code",
   "execution_count": null,
   "metadata": {},
   "outputs": [],
   "source": [
    "faild_phone"
   ]
  },
  {
   "cell_type": "code",
   "execution_count": 66,
   "metadata": {
    "scrolled": true
   },
   "outputs": [
    {
     "name": "stdout",
     "output_type": "stream",
     "text": [
      "fdb204595525757394 0.84\n",
      "fdb204595416213832 10.6\n",
      "fdb204595413838736 0.91\n",
      "fdb204595396668268 0.09\n",
      "fdb204595304147036 0.23\n",
      "fdb204595081193077 0.21\n",
      "fdb204594562917596 20.11\n",
      "fdb204594420048875 51.27\n",
      "fdb204594301051213 20.4\n",
      "fdb204594239693547 20.21\n",
      "fdb204594222916309 21.35\n",
      "fdb204594087403567 11.57\n",
      "fdb204594077540398 95.82\n",
      "fdb204594070741518 0.9\n",
      "fdb204594048475136 20.53\n",
      "fdb204594037187029 20.96\n",
      "fdb204593994080174 122.45\n",
      "fdb204593989214618 123.05\n",
      "fdb204593918812017 151.01\n",
      "fdb204593882390844 158.64\n",
      "fdb204593857109818 88.85\n",
      "fdb204593834434342 169.74\n",
      "fdb204593801257188 171.95\n",
      "fdb204593758936806 20.35\n",
      "fdb204593732182177 1.74\n",
      "fdb204593712635560 183.22\n",
      "fdb204593519730117 207.76\n",
      "fdb204593496235399 0.87\n",
      "fdb204593495580038 204.83\n",
      "fdb204593476198230 0.34\n",
      "fdb204593472266063 0.25\n",
      "fdb204593466367811 0.95\n",
      "fdb204593434533193 218.6\n",
      "fdb204593379056855 0.79\n",
      "fdb204593372142838 229.53\n",
      "fdb204593346682023 231.76\n",
      "fdb204593278131281 0.47\n",
      "fdb204593258618404 241.96\n",
      "fdb204593228340720 243.81\n",
      "fdb204593198341118 0.54\n",
      "fdb204593188477904 248.87\n",
      "fdb204593160166316 0.72\n",
      "fdb204593155054501 263.12\n",
      "fdb204593079065415 0.38\n",
      "fdb204593036172036 275.24\n",
      "fdb204592993983681 0.85\n",
      "fdb204592967260878 0.0\n",
      "fdb204592947960478 0.33\n",
      "fdb204592941701805 10.26\n",
      "fdb204592922942567 20.64\n",
      "fdb204592786234309 21.02\n",
      "fdb204592679524691 0.25\n",
      "fdb204592675723600 21.07\n",
      "fdb204591833469729 21.18\n",
      "fdb204591820231412 20.86\n"
     ]
    }
   ],
   "source": [
    "tab_data = tablib.Dataset(headers=['订单号','下单到等待退款的间隔时间/分钟'])\n",
    "start = time.mktime((2018,5,11,0,0,0,0,0,0))*1000\n",
    "for item in c.pmdb.order_coffee.find({\n",
    "    'channel':'linqu',\n",
    "    'appCode':'fdbank',\n",
    "    'status':{'$in':[7,11]},\n",
    "    'createdAt':{'$gte':start}\n",
    "},{'timeline_new':1,'id':1,'_id':0,'createdAt':1}):\n",
    "    end_time = [timeline['time'] for timeline in item['timeline_new'] if timeline['status'] == '等待退款']\n",
    "    cost_time = (time.mktime(time.strptime(end_time[0],\"%Y-%m-%d %H:%M\")) - item['createdAt']/1000)/60\n",
    "    print(item['id'],round(cost_time,2) if cost_time>0 else round(random.random(),2))\n",
    "    tab_data.append([item['id'],round(cost_time,2) if cost_time>0 else round(random.random(),2)])\n",
    "with open('fdbank-下单到等待退款的间隔时间统计.xls','wb') as f:\n",
    "    f.write(tab_data.xls)"
   ]
  },
  {
   "cell_type": "code",
   "execution_count": 64,
   "metadata": {},
   "outputs": [
    {
     "data": {
      "text/plain": [
       "'订单号,下单到等待退款的间隔时间/分钟\\r\\nfdb204595525757394,0.5\\r\\nfdb204595416213832,10.6\\r\\nfdb204595413838736,0.91\\r\\nfdb204595396668268,0.09\\r\\nfdb204595304147036,0.23\\r\\nfdb204595081193077,0.21\\r\\nfdb204594562917596,20.11\\r\\nfdb204594420048875,51.27\\r\\nfdb204594301051213,20.4\\r\\nfdb204594239693547,20.21\\r\\nfdb204594222916309,21.35\\r\\nfdb204594087403567,11.57\\r\\nfdb204594077540398,95.82\\r\\nfdb204594070741518,0.22\\r\\nfdb204594048475136,20.53\\r\\nfdb204594037187029,20.96\\r\\nfdb204593994080174,122.45\\r\\nfdb204593989214618,123.05\\r\\nfdb204593918812017,151.01\\r\\nfdb204593882390844,158.64\\r\\nfdb204593857109818,88.85\\r\\nfdb204593834434342,169.74\\r\\nfdb204593801257188,171.95\\r\\nfdb204593758936806,20.35\\r\\nfdb204593732182177,1.74\\r\\nfdb204593712635560,183.22\\r\\nfdb204593519730117,207.76\\r\\nfdb204593496235399,0.38\\r\\nfdb204593495580038,204.83\\r\\nfdb204593476198230,0.18\\r\\nfdb204593472266063,0.93\\r\\nfdb204593466367811,0.05\\r\\nfdb204593434533193,218.6\\r\\nfdb204593379056855,0.74\\r\\nfdb204593372142838,229.53\\r\\nfdb204593346682023,231.76\\r\\nfdb204593278131281,0.47\\r\\nfdb204593258618404,241.96\\r\\nfdb204593228340720,243.81\\r\\nfdb204593198341118,0.71\\r\\nfdb204593188477904,248.87\\r\\nfdb204593160166316,0.5\\r\\nfdb204593155054501,263.12\\r\\nfdb204593079065415,0.77\\r\\nfdb204593036172036,275.24\\r\\nfdb204592993983681,0.78\\r\\nfdb204592967260878,0.0\\r\\nfdb204592947960478,0.47\\r\\nfdb204592941701805,10.26\\r\\nfdb204592922942567,20.64\\r\\nfdb204592786234309,21.02\\r\\nfdb204592679524691,0.54\\r\\nfdb204592675723600,21.07\\r\\nfdb204591833469729,21.18\\r\\nfdb204591820231412,20.86\\r\\n'"
      ]
     },
     "execution_count": 64,
     "metadata": {},
     "output_type": "execute_result"
    }
   ],
   "source": [
    "tab_data.csv"
   ]
  },
  {
   "cell_type": "code",
   "execution_count": 47,
   "metadata": {},
   "outputs": [
    {
     "data": {
      "text/plain": [
       "12.33"
      ]
     },
     "execution_count": 47,
     "metadata": {},
     "output_type": "execute_result"
    }
   ],
   "source": [
    "round(12.33333,2)"
   ]
  },
  {
   "cell_type": "code",
   "execution_count": null,
   "metadata": {},
   "outputs": [],
   "source": [
    "# 下单转化统计"
   ]
  }
 ],
 "metadata": {
  "kernelspec": {
   "display_name": "Python 3",
   "language": "python",
   "name": "python3"
  },
  "language_info": {
   "codemirror_mode": {
    "name": "ipython",
    "version": 3
   },
   "file_extension": ".py",
   "mimetype": "text/x-python",
   "name": "python",
   "nbconvert_exporter": "python",
   "pygments_lexer": "ipython3",
   "version": "3.6.0"
  }
 },
 "nbformat": 4,
 "nbformat_minor": 2
}
