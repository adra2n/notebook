{
 "cells": [
  {
   "cell_type": "code",
   "execution_count": 275,
   "metadata": {},
   "outputs": [
    {
     "data": {
      "text/plain": [
       "{'acknowledged': True}"
      ]
     },
     "execution_count": 275,
     "metadata": {},
     "output_type": "execute_result"
    }
   ],
   "source": [
    "import time\n",
    "from elasticsearch import Elasticsearch\n",
    "from pprint import pprint\n",
    "from connection import ConnectionTask\n",
    "c = ConnectionTask()\n",
    "\n",
    "es = Elasticsearch(\n",
    "#     ['192.168.0.15:9200','192.168.0.18:9200','192.168.0.19:9200'],\n",
    "    [\"192.168.1.16:9200\",\"192.168.1.19:9200\",\"192.168.1.23:9200\"],\n",
    "    # sniff before doing anything\n",
    "    sniff_on_start=True,\n",
    "    # refresh nodes after a node fails to respond\n",
    "    sniff_on_connection_fail=True,\n",
    "    # and also every 60 seconds\n",
    "    sniffer_timeout=60,\n",
    "    ignore=True\n",
    ")\n",
    "\n",
    "# ignore 400 cause by IndexAlreadyExistsException when creating an index\n",
    "es.indices.create(index='test-index', ignore=400)\n",
    "\n",
    "# ignore 404 and 400\n",
    "es.indices.delete(index='test-index', ignore=[400, 404])"
   ]
  },
  {
   "cell_type": "code",
   "execution_count": null,
   "metadata": {},
   "outputs": [],
   "source": [
    "count = 0\n",
    "for item in c.static_cluster_ctrip.jiudian_hotels_2.find({},{'_id':0}):\n",
    "    es.index(\n",
    "        index = 'jiudian_hotels',\n",
    "        doc_type = 'ctrip',\n",
    "        id = item['id'],\n",
    "        body = item\n",
    "    )\n",
    "    count+=1\n",
    "    print(count,end='\\r')\n",
    "    break"
   ]
  },
  {
   "cell_type": "code",
   "execution_count": null,
   "metadata": {},
   "outputs": [],
   "source": [
    "es.create(\n",
    "    index = 'jiudian_hotels',\n",
    "    doc_type = 'ctrip',\n",
    "    id = item['id'],\n",
    "    body = item\n",
    ")"
   ]
  },
  {
   "cell_type": "code",
   "execution_count": null,
   "metadata": {},
   "outputs": [],
   "source": [
    "es.create(\n",
    "    index = 'jiudian_hotels',\n",
    "    doc_type = 'ctrip',\n",
    ")"
   ]
  },
  {
   "cell_type": "code",
   "execution_count": null,
   "metadata": {},
   "outputs": [],
   "source": [
    "es.indices.delete(\n",
    "    index = 'jiudian_hotel'\n",
    ")\n"
   ]
  },
  {
   "cell_type": "code",
   "execution_count": null,
   "metadata": {},
   "outputs": [],
   "source": [
    "es.index(\n",
    "    index = 'jiudian_hotels',\n",
    "    doc_type = 'ctrip',\n",
    "    id = item['id'],\n",
    "    body = item\n",
    ")"
   ]
  },
  {
   "cell_type": "code",
   "execution_count": null,
   "metadata": {},
   "outputs": [],
   "source": [
    "es.info()"
   ]
  },
  {
   "cell_type": "code",
   "execution_count": 277,
   "metadata": {},
   "outputs": [
    {
     "data": {
      "text/plain": [
       "{'_shards': {'failed': 0, 'successful': 5, 'total': 5}, 'count': 2368}"
      ]
     },
     "execution_count": 277,
     "metadata": {},
     "output_type": "execute_result"
    }
   ],
   "source": [
    "es.count(\n",
    "    index = 'shopping_goods',\n",
    "    doc_type = 'kaola'\n",
    ")"
   ]
  },
  {
   "cell_type": "code",
   "execution_count": 257,
   "metadata": {},
   "outputs": [
    {
     "data": {
      "text/plain": [
       "{'acknowledged': True}"
      ]
     },
     "execution_count": 257,
     "metadata": {},
     "output_type": "execute_result"
    }
   ],
   "source": [
    "es.indices.delete(\n",
    "    index = 'shopping_goods'\n",
    ")"
   ]
  },
  {
   "cell_type": "code",
   "execution_count": null,
   "metadata": {
    "scrolled": true
   },
   "outputs": [],
   "source": [
    "es.get(\n",
    "    index = 'session-6.2.4-2018.04.26',\n",
    "    doc_type = 'log',\n",
    "    id = 'AWMBCOQhs6CANOFLRhht'\n",
    ")"
   ]
  },
  {
   "cell_type": "code",
   "execution_count": null,
   "metadata": {},
   "outputs": [],
   "source": [
    "es.mget(\n",
    "    index = 'jiudian_hotels',\n",
    "    doc_type = 'ctrip',\n",
    "    body = {\n",
    "    \"docs\" : [\n",
    "        {\n",
    "            \"_id\" : \"823769\"\n",
    "        },\n",
    "        {\n",
    "            \"_id\" : \"2\"\n",
    "        }\n",
    "    ]\n",
    "}\n",
    ")"
   ]
  },
  {
   "cell_type": "code",
   "execution_count": null,
   "metadata": {},
   "outputs": [],
   "source": [
    "es.search(\n",
    "    index='shopping',\n",
    "    doc_type='kaola',\n",
    "    body={\"query\" : {\"term\" : {\"skuId\":\"59086857 6f04aaa51ddfbe2aad2e5d139528bc95\"}}},\n",
    "    _source_include = ['name','skuId']\n",
    ")"
   ]
  },
  {
   "cell_type": "code",
   "execution_count": 280,
   "metadata": {
    "scrolled": false
   },
   "outputs": [
    {
     "data": {
      "text/plain": [
       "{'_shards': {'failed': 0, 'successful': 5, 'total': 5},\n",
       " 'hits': {'hits': [{'_id': '00003133091',\n",
       "    '_index': 'shopping_goods',\n",
       "    '_score': 1.0,\n",
       "    '_source': {'brandName': \"BURT'S BEES 伯特小蜜蜂\",\n",
       "     'title': \"BURT'S\\xa0BEES\\xa0伯特小蜜蜂 皇牌润唇膏  4.25克\"},\n",
       "    '_type': 'kaola'},\n",
       "   {'_id': '00003133151',\n",
       "    '_index': 'shopping_goods',\n",
       "    '_score': 1.0,\n",
       "    '_source': {'brandName': \"BURT'S BEES 伯特小蜜蜂\",\n",
       "     'title': \"BURT'S\\xa0BEES\\xa0伯特小蜜蜂 皇牌润唇膏  4.25克\"},\n",
       "    '_type': 'kaola'},\n",
       "   {'_id': '00003133181',\n",
       "    '_index': 'shopping_goods',\n",
       "    '_score': 1.0,\n",
       "    '_source': {'brandName': \"BURT'S BEES 伯特小蜜蜂\",\n",
       "     'title': \"BURT'S\\xa0BEES\\xa0伯特小蜜蜂 皇牌润唇膏  4.25克\"},\n",
       "    '_type': 'kaola'},\n",
       "   {'_id': '00003133161',\n",
       "    '_index': 'shopping_goods',\n",
       "    '_score': 1.0,\n",
       "    '_source': {'brandName': \"BURT'S BEES 伯特小蜜蜂\",\n",
       "     'title': \"BURT'S\\xa0BEES\\xa0伯特小蜜蜂 皇牌润唇膏  4.25克\"},\n",
       "    '_type': 'kaola'},\n",
       "   {'_id': '00003133101',\n",
       "    '_index': 'shopping_goods',\n",
       "    '_score': 1.0,\n",
       "    '_source': {'brandName': \"BURT'S BEES 伯特小蜜蜂\",\n",
       "     'title': \"BURT'S\\xa0BEES\\xa0伯特小蜜蜂 皇牌润唇膏  4.25克\"},\n",
       "    '_type': 'kaola'},\n",
       "   {'_id': '00003133111',\n",
       "    '_index': 'shopping_goods',\n",
       "    '_score': 1.0,\n",
       "    '_source': {'brandName': \"BURT'S BEES 伯特小蜜蜂\",\n",
       "     'title': \"BURT'S\\xa0BEES\\xa0伯特小蜜蜂 皇牌润唇膏  4.25克\"},\n",
       "    '_type': 'kaola'},\n",
       "   {'_id': '00003133141',\n",
       "    '_index': 'shopping_goods',\n",
       "    '_score': 1.0,\n",
       "    '_source': {'brandName': \"BURT'S BEES 伯特小蜜蜂\",\n",
       "     'title': \"BURT'S\\xa0BEES\\xa0伯特小蜜蜂 皇牌润唇膏  4.25克\"},\n",
       "    '_type': 'kaola'},\n",
       "   {'_id': '00003133121',\n",
       "    '_index': 'shopping_goods',\n",
       "    '_score': 1.0,\n",
       "    '_source': {'brandName': \"BURT'S BEES 伯特小蜜蜂\",\n",
       "     'title': \"BURT'S\\xa0BEES\\xa0伯特小蜜蜂 皇牌润唇膏  4.25克\"},\n",
       "    '_type': 'kaola'},\n",
       "   {'_id': '00003133171',\n",
       "    '_index': 'shopping_goods',\n",
       "    '_score': 1.0,\n",
       "    '_source': {'brandName': \"BURT'S BEES 伯特小蜜蜂\",\n",
       "     'title': \"BURT'S\\xa0BEES\\xa0伯特小蜜蜂 皇牌润唇膏  4.25克\"},\n",
       "    '_type': 'kaola'},\n",
       "   {'_id': '00003133131',\n",
       "    '_index': 'shopping_goods',\n",
       "    '_score': 1.0,\n",
       "    '_source': {'brandName': \"BURT'S BEES 伯特小蜜蜂\",\n",
       "     'title': \"BURT'S\\xa0BEES\\xa0伯特小蜜蜂 皇牌润唇膏  4.25克\"},\n",
       "    '_type': 'kaola'}],\n",
       "  'max_score': 1.0,\n",
       "  'total': 10},\n",
       " 'timed_out': False,\n",
       " 'took': 2}"
      ]
     },
     "execution_count": 280,
     "metadata": {},
     "output_type": "execute_result"
    }
   ],
   "source": [
    "es.search(\n",
    "    index='shopping_goods',\n",
    "    doc_type='kaola',\n",
    "    body={\n",
    "        \"query\": {\n",
    "            \"match\": {\n",
    "                \"goodsId\": 2090830\n",
    "            }\n",
    "        }\n",
    "    },\n",
    "    _source_include = ['title','brandName'],\n",
    ")"
   ]
  },
  {
   "cell_type": "code",
   "execution_count": 208,
   "metadata": {},
   "outputs": [
    {
     "data": {
      "text/plain": [
       "{'_id': '51842309',\n",
       " '_index': 'shopping_goods',\n",
       " '_shards': {'failed': 0, 'successful': 2, 'total': 2},\n",
       " '_type': 'kaola',\n",
       " '_version': 3,\n",
       " 'created': True,\n",
       " 'result': 'created'}"
      ]
     },
     "execution_count": 208,
     "metadata": {},
     "output_type": "execute_result"
    }
   ],
   "source": [
    "es.index(\n",
    "    index = 'shopping_goods',\n",
    "    doc_type = 'kaola',\n",
    "    id = 51842309,\n",
    "    body = {\"A\":1}\n",
    ")"
   ]
  },
  {
   "cell_type": "code",
   "execution_count": 242,
   "metadata": {},
   "outputs": [
    {
     "name": "stderr",
     "output_type": "stream",
     "text": [
      "DELETE http://192.168.1.23:9200/shopping_goods/kaola/58726714?refresh=true [status:404 request:0.021s]\n"
     ]
    },
    {
     "ename": "NotFoundError",
     "evalue": "TransportError(404, '{\"found\":false,\"_index\":\"shopping_goods\",\"_type\":\"kaola\",\"_id\":\"58726714\",\"_version\":1,\"result\":\"not_found\",\"forced_refresh\":true,\"_shards\":{\"total\":2,\"successful\":2,\"failed\":0}}')",
     "output_type": "error",
     "traceback": [
      "\u001b[0;31m---------------------------------------------------------------------------\u001b[0m",
      "\u001b[0;31mNotFoundError\u001b[0m                             Traceback (most recent call last)",
      "\u001b[0;32m<ipython-input-242-0a91d9d57386>\u001b[0m in \u001b[0;36m<module>\u001b[0;34m()\u001b[0m\n\u001b[0;32m----> 1\u001b[0;31m \u001b[0mes\u001b[0m\u001b[0;34m.\u001b[0m\u001b[0mdelete\u001b[0m\u001b[0;34m(\u001b[0m\u001b[0mindex\u001b[0m\u001b[0;34m=\u001b[0m\u001b[0;34m'shopping_goods'\u001b[0m\u001b[0;34m,\u001b[0m \u001b[0mdoc_type\u001b[0m\u001b[0;34m=\u001b[0m\u001b[0;34m'kaola'\u001b[0m\u001b[0;34m,\u001b[0m \u001b[0mid\u001b[0m\u001b[0;34m=\u001b[0m\u001b[0;36m58726714\u001b[0m\u001b[0;34m,\u001b[0m \u001b[0mrefresh\u001b[0m\u001b[0;34m=\u001b[0m\u001b[0;34m'true'\u001b[0m\u001b[0;34m)\u001b[0m\u001b[0;34m\u001b[0m\u001b[0m\n\u001b[0m",
      "\u001b[0;32m/usr/local/python3/lib/python3.6/site-packages/elasticsearch/client/utils.py\u001b[0m in \u001b[0;36m_wrapped\u001b[0;34m(*args, **kwargs)\u001b[0m\n\u001b[1;32m     74\u001b[0m                 \u001b[0;32mif\u001b[0m \u001b[0mp\u001b[0m \u001b[0;32min\u001b[0m \u001b[0mkwargs\u001b[0m\u001b[0;34m:\u001b[0m\u001b[0;34m\u001b[0m\u001b[0m\n\u001b[1;32m     75\u001b[0m                     \u001b[0mparams\u001b[0m\u001b[0;34m[\u001b[0m\u001b[0mp\u001b[0m\u001b[0;34m]\u001b[0m \u001b[0;34m=\u001b[0m \u001b[0mkwargs\u001b[0m\u001b[0;34m.\u001b[0m\u001b[0mpop\u001b[0m\u001b[0;34m(\u001b[0m\u001b[0mp\u001b[0m\u001b[0;34m)\u001b[0m\u001b[0;34m\u001b[0m\u001b[0m\n\u001b[0;32m---> 76\u001b[0;31m             \u001b[0;32mreturn\u001b[0m \u001b[0mfunc\u001b[0m\u001b[0;34m(\u001b[0m\u001b[0;34m*\u001b[0m\u001b[0margs\u001b[0m\u001b[0;34m,\u001b[0m \u001b[0mparams\u001b[0m\u001b[0;34m=\u001b[0m\u001b[0mparams\u001b[0m\u001b[0;34m,\u001b[0m \u001b[0;34m**\u001b[0m\u001b[0mkwargs\u001b[0m\u001b[0;34m)\u001b[0m\u001b[0;34m\u001b[0m\u001b[0m\n\u001b[0m\u001b[1;32m     77\u001b[0m         \u001b[0;32mreturn\u001b[0m \u001b[0m_wrapped\u001b[0m\u001b[0;34m\u001b[0m\u001b[0m\n\u001b[1;32m     78\u001b[0m     \u001b[0;32mreturn\u001b[0m \u001b[0m_wrapper\u001b[0m\u001b[0;34m\u001b[0m\u001b[0m\n",
      "\u001b[0;32m/usr/local/python3/lib/python3.6/site-packages/elasticsearch/client/__init__.py\u001b[0m in \u001b[0;36mdelete\u001b[0;34m(self, index, doc_type, id, params)\u001b[0m\n\u001b[1;32m   1044\u001b[0m                 \u001b[0;32mraise\u001b[0m \u001b[0mValueError\u001b[0m\u001b[0;34m(\u001b[0m\u001b[0;34m\"Empty value passed for a required argument.\"\u001b[0m\u001b[0;34m)\u001b[0m\u001b[0;34m\u001b[0m\u001b[0m\n\u001b[1;32m   1045\u001b[0m         return self.transport.perform_request('DELETE', _make_path(index,\n\u001b[0;32m-> 1046\u001b[0;31m             doc_type, id), params=params)\n\u001b[0m\u001b[1;32m   1047\u001b[0m \u001b[0;34m\u001b[0m\u001b[0m\n\u001b[1;32m   1048\u001b[0m     @query_params('allow_no_indices', 'analyze_wildcard', 'analyzer',\n",
      "\u001b[0;32m/usr/local/python3/lib/python3.6/site-packages/elasticsearch/transport.py\u001b[0m in \u001b[0;36mperform_request\u001b[0;34m(self, method, url, headers, params, body)\u001b[0m\n\u001b[1;32m    312\u001b[0m \u001b[0;34m\u001b[0m\u001b[0m\n\u001b[1;32m    313\u001b[0m             \u001b[0;32mtry\u001b[0m\u001b[0;34m:\u001b[0m\u001b[0;34m\u001b[0m\u001b[0m\n\u001b[0;32m--> 314\u001b[0;31m                 \u001b[0mstatus\u001b[0m\u001b[0;34m,\u001b[0m \u001b[0mheaders_response\u001b[0m\u001b[0;34m,\u001b[0m \u001b[0mdata\u001b[0m \u001b[0;34m=\u001b[0m \u001b[0mconnection\u001b[0m\u001b[0;34m.\u001b[0m\u001b[0mperform_request\u001b[0m\u001b[0;34m(\u001b[0m\u001b[0mmethod\u001b[0m\u001b[0;34m,\u001b[0m \u001b[0murl\u001b[0m\u001b[0;34m,\u001b[0m \u001b[0mparams\u001b[0m\u001b[0;34m,\u001b[0m \u001b[0mbody\u001b[0m\u001b[0;34m,\u001b[0m \u001b[0mheaders\u001b[0m\u001b[0;34m=\u001b[0m\u001b[0mheaders\u001b[0m\u001b[0;34m,\u001b[0m \u001b[0mignore\u001b[0m\u001b[0;34m=\u001b[0m\u001b[0mignore\u001b[0m\u001b[0;34m,\u001b[0m \u001b[0mtimeout\u001b[0m\u001b[0;34m=\u001b[0m\u001b[0mtimeout\u001b[0m\u001b[0;34m)\u001b[0m\u001b[0;34m\u001b[0m\u001b[0m\n\u001b[0m\u001b[1;32m    315\u001b[0m \u001b[0;34m\u001b[0m\u001b[0m\n\u001b[1;32m    316\u001b[0m             \u001b[0;32mexcept\u001b[0m \u001b[0mTransportError\u001b[0m \u001b[0;32mas\u001b[0m \u001b[0me\u001b[0m\u001b[0;34m:\u001b[0m\u001b[0;34m\u001b[0m\u001b[0m\n",
      "\u001b[0;32m/usr/local/python3/lib/python3.6/site-packages/elasticsearch/connection/http_urllib3.py\u001b[0m in \u001b[0;36mperform_request\u001b[0;34m(self, method, url, params, body, timeout, ignore, headers)\u001b[0m\n\u001b[1;32m    161\u001b[0m         \u001b[0;32mif\u001b[0m \u001b[0;32mnot\u001b[0m \u001b[0;34m(\u001b[0m\u001b[0;36m200\u001b[0m \u001b[0;34m<=\u001b[0m \u001b[0mresponse\u001b[0m\u001b[0;34m.\u001b[0m\u001b[0mstatus\u001b[0m \u001b[0;34m<\u001b[0m \u001b[0;36m300\u001b[0m\u001b[0;34m)\u001b[0m \u001b[0;32mand\u001b[0m \u001b[0mresponse\u001b[0m\u001b[0;34m.\u001b[0m\u001b[0mstatus\u001b[0m \u001b[0;32mnot\u001b[0m \u001b[0;32min\u001b[0m \u001b[0mignore\u001b[0m\u001b[0;34m:\u001b[0m\u001b[0;34m\u001b[0m\u001b[0m\n\u001b[1;32m    162\u001b[0m             \u001b[0mself\u001b[0m\u001b[0;34m.\u001b[0m\u001b[0mlog_request_fail\u001b[0m\u001b[0;34m(\u001b[0m\u001b[0mmethod\u001b[0m\u001b[0;34m,\u001b[0m \u001b[0mfull_url\u001b[0m\u001b[0;34m,\u001b[0m \u001b[0murl\u001b[0m\u001b[0;34m,\u001b[0m \u001b[0mbody\u001b[0m\u001b[0;34m,\u001b[0m \u001b[0mduration\u001b[0m\u001b[0;34m,\u001b[0m \u001b[0mresponse\u001b[0m\u001b[0;34m.\u001b[0m\u001b[0mstatus\u001b[0m\u001b[0;34m,\u001b[0m \u001b[0mraw_data\u001b[0m\u001b[0;34m)\u001b[0m\u001b[0;34m\u001b[0m\u001b[0m\n\u001b[0;32m--> 163\u001b[0;31m             \u001b[0mself\u001b[0m\u001b[0;34m.\u001b[0m\u001b[0m_raise_error\u001b[0m\u001b[0;34m(\u001b[0m\u001b[0mresponse\u001b[0m\u001b[0;34m.\u001b[0m\u001b[0mstatus\u001b[0m\u001b[0;34m,\u001b[0m \u001b[0mraw_data\u001b[0m\u001b[0;34m)\u001b[0m\u001b[0;34m\u001b[0m\u001b[0m\n\u001b[0m\u001b[1;32m    164\u001b[0m \u001b[0;34m\u001b[0m\u001b[0m\n\u001b[1;32m    165\u001b[0m         self.log_request_success(method, full_url, url, body, response.status,\n",
      "\u001b[0;32m/usr/local/python3/lib/python3.6/site-packages/elasticsearch/connection/base.py\u001b[0m in \u001b[0;36m_raise_error\u001b[0;34m(self, status_code, raw_data)\u001b[0m\n\u001b[1;32m    123\u001b[0m             \u001b[0mlogger\u001b[0m\u001b[0;34m.\u001b[0m\u001b[0mwarning\u001b[0m\u001b[0;34m(\u001b[0m\u001b[0;34m'Undecodable raw error response from server: %s'\u001b[0m\u001b[0;34m,\u001b[0m \u001b[0merr\u001b[0m\u001b[0;34m)\u001b[0m\u001b[0;34m\u001b[0m\u001b[0m\n\u001b[1;32m    124\u001b[0m \u001b[0;34m\u001b[0m\u001b[0m\n\u001b[0;32m--> 125\u001b[0;31m         \u001b[0;32mraise\u001b[0m \u001b[0mHTTP_EXCEPTIONS\u001b[0m\u001b[0;34m.\u001b[0m\u001b[0mget\u001b[0m\u001b[0;34m(\u001b[0m\u001b[0mstatus_code\u001b[0m\u001b[0;34m,\u001b[0m \u001b[0mTransportError\u001b[0m\u001b[0;34m)\u001b[0m\u001b[0;34m(\u001b[0m\u001b[0mstatus_code\u001b[0m\u001b[0;34m,\u001b[0m \u001b[0merror_message\u001b[0m\u001b[0;34m,\u001b[0m \u001b[0madditional_info\u001b[0m\u001b[0;34m)\u001b[0m\u001b[0;34m\u001b[0m\u001b[0m\n\u001b[0m\u001b[1;32m    126\u001b[0m \u001b[0;34m\u001b[0m\u001b[0m\n\u001b[1;32m    127\u001b[0m \u001b[0;34m\u001b[0m\u001b[0m\n",
      "\u001b[0;31mNotFoundError\u001b[0m: TransportError(404, '{\"found\":false,\"_index\":\"shopping_goods\",\"_type\":\"kaola\",\"_id\":\"58726714\",\"_version\":1,\"result\":\"not_found\",\"forced_refresh\":true,\"_shards\":{\"total\":2,\"successful\":2,\"failed\":0}}')"
     ]
    }
   ],
   "source": [
    "es.delete(index='shopping_goods', doc_type='kaola', id=58726714, refresh='true')"
   ]
  },
  {
   "cell_type": "code",
   "execution_count": 212,
   "metadata": {
    "scrolled": true
   },
   "outputs": [
    {
     "name": "stderr",
     "output_type": "stream",
     "text": [
      "GET http://192.168.1.23:9200/shopping_goods/kaola/1874025 [status:404 request:0.004s]\n",
      "GET http://192.168.1.16:9200/shopping_goods/kaola/1296706 [status:404 request:0.003s]\n",
      "GET http://192.168.1.19:9200/shopping_goods/kaola/158301 [status:404 request:0.003s]\n",
      "GET http://192.168.1.23:9200/shopping_goods/kaola/1483357 [status:404 request:0.002s]\n",
      "GET http://192.168.1.16:9200/shopping_goods/kaola/250263 [status:404 request:0.002s]\n",
      "GET http://192.168.1.19:9200/shopping_goods/kaola/1388566 [status:404 request:0.001s]\n",
      "GET http://192.168.1.23:9200/shopping_goods/kaola/14117 [status:404 request:0.002s]\n",
      "GET http://192.168.1.16:9200/shopping_goods/kaola/152691 [status:404 request:0.002s]\n",
      "GET http://192.168.1.19:9200/shopping_goods/kaola/1790550 [status:404 request:0.001s]\n",
      "GET http://192.168.1.23:9200/shopping_goods/kaola/1606092 [status:404 request:0.002s]\n",
      "GET http://192.168.1.16:9200/shopping_goods/kaola/00004731901 [status:404 request:0.001s]\n",
      "GET http://192.168.1.19:9200/shopping_goods/kaola/1477164 [status:404 request:0.001s]\n",
      "GET http://192.168.1.23:9200/shopping_goods/kaola/20005806751 [status:404 request:0.001s]\n",
      "GET http://192.168.1.16:9200/shopping_goods/kaola/1991123 [status:404 request:0.001s]\n",
      "GET http://192.168.1.19:9200/shopping_goods/kaola/28732 [status:404 request:0.001s]\n",
      "GET http://192.168.1.23:9200/shopping_goods/kaola/1511914 [status:404 request:0.001s]\n",
      "GET http://192.168.1.16:9200/shopping_goods/kaola/1925198 [status:404 request:0.002s]\n",
      "GET http://192.168.1.19:9200/shopping_goods/kaola/1602508 [status:404 request:0.001s]\n",
      "GET http://192.168.1.23:9200/shopping_goods/kaola/1352203 [status:404 request:0.001s]\n",
      "GET http://192.168.1.16:9200/shopping_goods/kaola/20005993101 [status:404 request:0.002s]\n",
      "GET http://192.168.1.19:9200/shopping_goods/kaola/1542583 [status:404 request:0.001s]\n",
      "GET http://192.168.1.23:9200/shopping_goods/kaola/1812149 [status:404 request:0.001s]\n",
      "GET http://192.168.1.16:9200/shopping_goods/kaola/1407106 [status:404 request:0.002s]\n",
      "GET http://192.168.1.19:9200/shopping_goods/kaola/19678 [status:404 request:0.001s]\n",
      "GET http://192.168.1.23:9200/shopping_goods/kaola/1614647 [status:404 request:0.001s]\n",
      "GET http://192.168.1.16:9200/shopping_goods/kaola/1955902 [status:404 request:0.003s]\n",
      "GET http://192.168.1.19:9200/shopping_goods/kaola/1862428 [status:404 request:0.002s]\n",
      "GET http://192.168.1.23:9200/shopping_goods/kaola/20538 [status:404 request:0.002s]\n",
      "GET http://192.168.1.16:9200/shopping_goods/kaola/00001317261 [status:404 request:0.002s]\n",
      "GET http://192.168.1.19:9200/shopping_goods/kaola/1559257 [status:404 request:0.001s]\n",
      "GET http://192.168.1.23:9200/shopping_goods/kaola/1960978 [status:404 request:0.001s]\n",
      "GET http://192.168.1.16:9200/shopping_goods/kaola/28715 [status:404 request:0.002s]\n",
      "GET http://192.168.1.19:9200/shopping_goods/kaola/1577223 [status:404 request:0.001s]\n",
      "GET http://192.168.1.23:9200/shopping_goods/kaola/158927 [status:404 request:0.002s]\n",
      "GET http://192.168.1.16:9200/shopping_goods/kaola/279453 [status:404 request:0.008s]\n",
      "GET http://192.168.1.19:9200/shopping_goods/kaola/1579727 [status:404 request:0.001s]\n",
      "GET http://192.168.1.23:9200/shopping_goods/kaola/00004146131 [status:404 request:0.002s]\n",
      "GET http://192.168.1.16:9200/shopping_goods/kaola/279182 [status:404 request:0.002s]\n",
      "GET http://192.168.1.19:9200/shopping_goods/kaola/152803 [status:404 request:0.001s]\n",
      "GET http://192.168.1.23:9200/shopping_goods/kaola/1234621 [status:404 request:0.001s]\n",
      "GET http://192.168.1.16:9200/shopping_goods/kaola/1481306 [status:404 request:0.001s]\n",
      "GET http://192.168.1.19:9200/shopping_goods/kaola/9261 [status:404 request:0.001s]\n",
      "GET http://192.168.1.23:9200/shopping_goods/kaola/30375 [status:404 request:0.001s]\n",
      "GET http://192.168.1.16:9200/shopping_goods/kaola/750144 [status:404 request:0.002s]\n",
      "GET http://192.168.1.19:9200/shopping_goods/kaola/1551009 [status:404 request:0.001s]\n",
      "GET http://192.168.1.23:9200/shopping_goods/kaola/975308 [status:404 request:0.002s]\n",
      "GET http://192.168.1.16:9200/shopping_goods/kaola/1124300 [status:404 request:0.002s]\n",
      "GET http://192.168.1.19:9200/shopping_goods/kaola/1547587 [status:404 request:0.001s]\n",
      "GET http://192.168.1.23:9200/shopping_goods/kaola/159209 [status:404 request:0.002s]\n",
      "GET http://192.168.1.16:9200/shopping_goods/kaola/1410943 [status:404 request:0.002s]\n",
      "GET http://192.168.1.19:9200/shopping_goods/kaola/1874147 [status:404 request:0.001s]\n",
      "GET http://192.168.1.23:9200/shopping_goods/kaola/1340589 [status:404 request:0.002s]\n",
      "GET http://192.168.1.16:9200/shopping_goods/kaola/1833488 [status:404 request:0.002s]\n",
      "GET http://192.168.1.19:9200/shopping_goods/kaola/158071 [status:404 request:0.002s]\n",
      "GET http://192.168.1.23:9200/shopping_goods/kaola/1624625 [status:404 request:0.002s]\n",
      "GET http://192.168.1.16:9200/shopping_goods/kaola/21417 [status:404 request:0.002s]\n",
      "GET http://192.168.1.19:9200/shopping_goods/kaola/1541314 [status:404 request:0.001s]\n",
      "GET http://192.168.1.23:9200/shopping_goods/kaola/1918598 [status:404 request:0.002s]\n",
      "GET http://192.168.1.16:9200/shopping_goods/kaola/1407325 [status:404 request:0.002s]\n",
      "GET http://192.168.1.19:9200/shopping_goods/kaola/2025606 [status:404 request:0.001s]\n",
      "GET http://192.168.1.23:9200/shopping_goods/kaola/2007735 [status:404 request:0.002s]\n",
      "GET http://192.168.1.16:9200/shopping_goods/kaola/1895033 [status:404 request:0.002s]\n",
      "GET http://192.168.1.19:9200/shopping_goods/kaola/158232 [status:404 request:0.001s]\n",
      "GET http://192.168.1.23:9200/shopping_goods/kaola/1953682 [status:404 request:0.001s]\n",
      "GET http://192.168.1.16:9200/shopping_goods/kaola/1443593 [status:404 request:0.002s]\n",
      "GET http://192.168.1.19:9200/shopping_goods/kaola/00005644101 [status:404 request:0.001s]\n",
      "GET http://192.168.1.23:9200/shopping_goods/kaola/1477137 [status:404 request:0.001s]\n",
      "GET http://192.168.1.16:9200/shopping_goods/kaola/1837864 [status:404 request:0.002s]\n",
      "GET http://192.168.1.19:9200/shopping_goods/kaola/1635065 [status:404 request:0.001s]\n",
      "GET http://192.168.1.23:9200/shopping_goods/kaola/1623343 [status:404 request:0.002s]\n",
      "GET http://192.168.1.16:9200/shopping_goods/kaola/18103 [status:404 request:0.002s]\n",
      "GET http://192.168.1.19:9200/shopping_goods/kaola/1838557 [status:404 request:0.002s]\n",
      "GET http://192.168.1.23:9200/shopping_goods/kaola/1305232 [status:404 request:0.009s]\n",
      "GET http://192.168.1.16:9200/shopping_goods/kaola/14079 [status:404 request:0.002s]\n",
      "GET http://192.168.1.19:9200/shopping_goods/kaola/1556902 [status:404 request:0.001s]\n",
      "GET http://192.168.1.23:9200/shopping_goods/kaola/152558 [status:404 request:0.001s]\n",
      "GET http://192.168.1.16:9200/shopping_goods/kaola/1838559 [status:404 request:0.002s]\n",
      "GET http://192.168.1.19:9200/shopping_goods/kaola/271633 [status:404 request:0.001s]\n",
      "GET http://192.168.1.23:9200/shopping_goods/kaola/1813973 [status:404 request:0.002s]\n",
      "GET http://192.168.1.16:9200/shopping_goods/kaola/1508026 [status:404 request:0.002s]\n",
      "GET http://192.168.1.19:9200/shopping_goods/kaola/39236 [status:404 request:0.002s]\n",
      "GET http://192.168.1.23:9200/shopping_goods/kaola/00005643821 [status:404 request:0.001s]\n",
      "GET http://192.168.1.16:9200/shopping_goods/kaola/1875911 [status:404 request:0.002s]\n",
      "GET http://192.168.1.19:9200/shopping_goods/kaola/1837904 [status:404 request:0.005s]\n",
      "GET http://192.168.1.23:9200/shopping_goods/kaola/156911 [status:404 request:0.002s]\n",
      "GET http://192.168.1.16:9200/shopping_goods/kaola/1541339 [status:404 request:0.002s]\n",
      "GET http://192.168.1.19:9200/shopping_goods/kaola/1378010 [status:404 request:0.002s]\n",
      "GET http://192.168.1.23:9200/shopping_goods/kaola/1234537 [status:404 request:0.001s]\n",
      "GET http://192.168.1.16:9200/shopping_goods/kaola/1855675 [status:404 request:0.002s]\n",
      "GET http://192.168.1.19:9200/shopping_goods/kaola/1890115 [status:404 request:0.002s]\n",
      "GET http://192.168.1.23:9200/shopping_goods/kaola/1959162 [status:404 request:0.001s]\n"
     ]
    }
   ],
   "source": [
    "for goods_id in ['1874025', '1296706', '158301', '1483357', '250263', '1388566', '14117', '152691', '1790550', '1606092', '00004731901', '1477164', '20005806751', '1991123', '28732', '1511914', '1925198', '1602508', '1352203', '20005993101', '1542583', '1812149', '1407106', '19678', '1614647', '1955902', '1862428', '20538', '00001317261', '1559257', '1960978', '28715', '1577223', '158927', '279453', '1579727', '00004146131', '279182', '152803', '1234621', '1481306', '9261', '30375', '750144', '1551009', '975308', '1124300', '1547587', '159209', '1410943', '1874147', '1340589', '1833488', '158071', '1624625', '21417', '1541314', '1918598', '1407325', '2025606', '2007735', '1895033', '158232', '1953682', '1443593', '00005644101', '1477137', '1837864', '1635065', '1623343', '18103', '1838557', '1305232', '14079', '1556902', '152558', '1838559', '271633', '1813973', '1508026', '39236', '00005643821', '1875911', '1837904', '156911', '1541339', '1378010', '1234537', '1855675', '1890115', '1959162']:\n",
    "    try:\n",
    "        es.get(\n",
    "            index = 'shopping_goods',\n",
    "            doc_type = 'kaola',\n",
    "            id = goods_id\n",
    "        )\n",
    "    except:\n",
    "        continue\n",
    "    print(goods_id)"
   ]
  },
  {
   "cell_type": "code",
   "execution_count": null,
   "metadata": {
    "scrolled": true
   },
   "outputs": [],
   "source": [
    "resp=es.search(\n",
    "    index='shopping',\n",
    "    doc_type='kaola',\n",
    "    body={\n",
    "        \"query\": {\n",
    "            \"bool\": {\n",
    "                \"must\" :[\n",
    "                    {\"multi_match\": {\"query\": \"特步\",\"fields\": [\"title\",\"brandName\",\"detail\",\"category\"]}},\n",
    "                    {\"range\": {\"price\":{\"gte\":200,\"lte\":300}}},\n",
    "                    {\"match\":{\"firstCategoryName\":\"保健品\"}}\n",
    "                ],\n",
    "                \"should\" :   [],\n",
    "                \"must_not\" : [{\"term\":{\"importType\": 2}}],\n",
    "            }\n",
    "        }\n",
    "    },\n",
    "    from_=10,\n",
    "    size=10,\n",
    "#     _source_include = ['title','brandName',\"detail\",\"category\",\"price\",\"taxRate\",\"firstCategoryName\",\"importType\"],\n",
    "    _source_include = [],\n",
    "    filter_path=['hits.hits'],\n",
    "    sort=[\"price:asc\",\"taxRate:asc\"]\n",
    ")\n",
    "pprint(resp)"
   ]
  },
  {
   "cell_type": "code",
   "execution_count": null,
   "metadata": {},
   "outputs": [],
   "source": [
    "''.split(',')"
   ]
  },
  {
   "cell_type": "code",
   "execution_count": 152,
   "metadata": {},
   "outputs": [
    {
     "name": "stdout",
     "output_type": "stream",
     "text": [
      "{'hits': {'hits': [{'_id': '59076218',\n",
      "                    '_index': 'shopping_goods',\n",
      "                    '_score': 16.60973,\n",
      "                    '_source': {'brandCountryName': '法国',\n",
      "                                'brandId': 5599,\n",
      "                                'brandName': '迪奥-auto-2016071210192729哈哈~~~',\n",
      "                                'category': '香水 美容彩妆',\n",
      "                                'categoryName': ['美容彩妆', '香水'],\n",
      "                                'detail': '保税商品-商品详情-20171114152642191 \\n'\n",
      "                                          '<img '\n",
      "                                          'src=\"http://haitao.nos.netease.com/irh4nxwe40_800_800.jpg\" '\n",
      "                                          'style=\"text-align: center;\" />',\n",
      "                                'firstCategoryName': '美容彩妆',\n",
      "                                'fourthCategoryName': '香水',\n",
      "                                'goodsId': 59076218,\n",
      "                                'goodsProperty': {'【勿动】销售属性': ['黑色']},\n",
      "                                'imageUrl': 'http://haitao.nos.netease.com/irgblckx76_800_800.jpg',\n",
      "                                'importType': 1,\n",
      "                                'isFreeShipping': 1,\n",
      "                                'isFreeTax': 0,\n",
      "                                'leafCategoryId': 9437,\n",
      "                                'marketPrice': 599,\n",
      "                                'memberCount': 0,\n",
      "                                'price': 77.0,\n",
      "                                'productId': 59076218,\n",
      "                                'secondCategoryName': '香水',\n",
      "                                'shortTitle': '自动化生成商品',\n",
      "                                'subTitle': '自动化生成1510644402191',\n",
      "                                'taxRate': 0.47,\n",
      "                                'taxRates': [0.47],\n",
      "                                'thirdCategoryId': 9437,\n",
      "                                'thirdCategoryName': '香水',\n",
      "                                'title': '保税商品auto1510644402191'},\n",
      "                    '_type': 'kaola'}]}}\n"
     ]
    }
   ],
   "source": [
    "resp=es.search(\n",
    "    index='shopping_goods',\n",
    "    doc_type='kaola',\n",
    "    body={\n",
    "        \"query\": {\n",
    "            \"bool\": {\n",
    "                \"must\" :[\n",
    "#                     {\"multi_match\": {\"query\": \"香水\",\"fields\": [\"title\",\"brandName\",\"detail\",\"category\"]}},\n",
    "#                     {\"range\": {\"price\":{\"lte\":5000}}},\n",
    "                    {\"match\":{\n",
    "                        'thirdCategoryName': '香水', \n",
    "#                         'brandName': 'cctest11'\n",
    "                    }},\n",
    "                    {\"match\":{\n",
    "                        'brandName': '迪奥-auto-2016071210192729哈哈~~~'\n",
    "                    }},\n",
    "                    {\"match\":{\n",
    "                        'goodsId': 59076218,\n",
    "                    }},\n",
    "                    \n",
    "                ],\n",
    "                \"should\" :   [],\n",
    "#                 \"must_not\" : [{\"term\":{\"importType\": 2}}],\n",
    "            }\n",
    "        }\n",
    "    },\n",
    "    from_=-1,\n",
    "    size=20,\n",
    "#     _source_include = ['title','brandName',\"detail\",\"category\",\"price\",\"taxRate\",\"firstCategoryName\",\"importType\"],\n",
    "#     _source_include = [\"price\"],\n",
    "    filter_path=['hits.hits'],\n",
    "#     sort=[\"price:asc\"]\n",
    "    sort=['']\n",
    ")\n",
    "pprint(resp)"
   ]
  },
  {
   "cell_type": "code",
   "execution_count": null,
   "metadata": {},
   "outputs": [],
   "source": [
    "import asyncio\n",
    "from elasticsearch_async import AsyncElasticsearch\n",
    "\n",
    "client = AsyncElasticsearch(hosts=['192.168.0.15:9200','192.168.0.16','192.168.0.18','192.168.0.19'])\n",
    "loop = asyncio.get_event_loop()\n",
    "\n",
    "async def print_info():\n",
    "    info = await client.info()\n",
    "    print(info)\n",
    "    return info\n",
    "\n",
    "\n",
    "loop.run_until_complete(print_info())\n",
    "loop.close()\n",
    "client.transport.close()"
   ]
  },
  {
   "cell_type": "code",
   "execution_count": null,
   "metadata": {},
   "outputs": [],
   "source": [
    "resp = es.search(\n",
    "    index='shopping_goods',\n",
    "    doc_type='kaola',\n",
    "#     body={\n",
    "#         \"query\": {\n",
    "#             \"bool\": {\n",
    "#                 \"must\" :[\n",
    "#                     {\"multi_match\": {\"query\": \"男士护肤\",\"fields\": [\"title\",\"brandName\",\"detail\",\"category\"]}},\n",
    "#                     {\"range\": {\"price\":{\"lte\":500}}},\n",
    "# #                     {\"match\":{\"firstCategoryName\":\"保健品\"}}\n",
    "#                 ],\n",
    "#                 \"should\" :   [],\n",
    "# #                 \"must_not\" : [{\"term\":{\"importType\": 2}}],\n",
    "#             }\n",
    "#         }\n",
    "#     },\n",
    "    filter_path=['hits.hits'],\n",
    "    size=10000\n",
    "    \n",
    ")['hits']['hits']\n",
    "for item in resp:\n",
    "    goods_info = item['_source']\n",
    "    goods_info.update({'goodsId':item['_id'],'price':200,'marketPrice':250})\n",
    "    es.index(index='shopping_goods',\n",
    "                  doc_type='kaola',\n",
    "                  id=item['_id'],\n",
    "                  body=goods_info)"
   ]
  },
  {
   "cell_type": "code",
   "execution_count": null,
   "metadata": {},
   "outputs": [],
   "source": [
    "count = 0\n",
    "es.indices.create(index='jiudian_hotels', ignore=400)\n",
    "for collection in c.static_cluster_ctrip.collection_names():\n",
    "    if collection == 'jiudian_hotels_sort':\n",
    "        continue\n",
    "    for item in c.static_cluster_ctrip[collection].find({'price': {'$gt': 0}},{\"_id\":0}):\n",
    "        count += 1 \n",
    "        try:\n",
    "            es.index(index='jiudian_hotels',doc_type='ctrip',id=item['id'],body=item)\n",
    "        except:\n",
    "            print(collection,item['id'])\n",
    "        print(count,end='\\r')\n",
    "    break"
   ]
  },
  {
   "cell_type": "code",
   "execution_count": null,
   "metadata": {
    "scrolled": true
   },
   "outputs": [],
   "source": [
    "%%timeit\n",
    "resp=es.search(\n",
    "    index='jiudian_hotels',\n",
    "    doc_type='ctrip',\n",
    "    body={\n",
    "        \"query\": {\n",
    "            \"bool\": {\n",
    "                \"must\" :[\n",
    "                    {\"multi_match\": {\n",
    "                        \"query\": \"中山东一路\",\n",
    "                        \"fields\": [\n",
    "                            \"name\",\n",
    "                            \"address.AddressLine\",\n",
    "                            \"Zone.ZoneName\",\n",
    "                            \"refPoints.Name\",\n",
    "                            \"refPoints.RefPointName\",\n",
    "                            \"rooms.amentities.DescriptiveText\",\n",
    "                            \"rooms.tpa_Extensions.FTypeName\",\n",
    "                            \"rooms.tpa_Extensions.FacilityName\",\n",
    "                            \"refPoints.Name\",\n",
    "                            \"refPoints.RefPointName\",\n",
    "                        ]\n",
    "                    }}]\n",
    "            }\n",
    "        }\n",
    "    },\n",
    "    from_=-1,\n",
    "    size=10,\n",
    "    filter_path=['hits.hits'],\n",
    "    sort=['']\n",
    ")\n",
    "if len(resp['hits']['hits'])==0:\n",
    "    print('failure')"
   ]
  },
  {
   "cell_type": "code",
   "execution_count": 146,
   "metadata": {
    "scrolled": true
   },
   "outputs": [
    {
     "data": {
      "text/plain": [
       "[{'_id': '8626335',\n",
       "  '_index': 'jiudian_hotels',\n",
       "  '_score': None,\n",
       "  '_source': {'name': '青岛天河连锁宾馆'},\n",
       "  '_type': 'ctrip',\n",
       "  'sort': [16]},\n",
       " {'_id': '9134115',\n",
       "  '_index': 'jiudian_hotels',\n",
       "  '_score': None,\n",
       "  '_source': {'name': '哈尔滨米店青年旅舍'},\n",
       "  '_type': 'ctrip',\n",
       "  'sort': [16]}]"
      ]
     },
     "execution_count": 146,
     "metadata": {},
     "output_type": "execute_result"
    }
   ],
   "source": [
    "# %%timeit\n",
    "\"\"\"\n",
    "{'price': {'$gt': 0}, \n",
    "'cityCode': '206', \n",
    "'tag': {'$all': ['岳麓区']}}, \n",
    "'projection': {'_id': 1, 'id': 1, 'name': 1, 'images': 1, 'themes': 1, 'price': 1, 'categoryCodes': 1, 'awards': 1, 'cityCode': 1, 'areaId': 1, 'refPoints': 1, 'lat': 1, 'lng': 1}, \n",
    "'skip': 0, \n",
    "'limit': 20, \n",
    "'sort': []}\"\"\"\n",
    "resp=es.search(\n",
    "    index='jiudian_hotels',\n",
    "    doc_type='ctrip',\n",
    "    body={\n",
    "        \"query\": {\n",
    "            \"bool\": {\n",
    "                \"must\" :[\n",
    "#                     {\"term\":{\"cityCode\": '2'}},\n",
    "#                     {\"match\": {'cityCode': 2}},\n",
    "                    {\"range\": {\"price\":{\"gt\":0}}},\n",
    "                    {\"multi_match\": {\n",
    "                        \"query\": \"大学\",\n",
    "#                         \"type\": \"phrase_prefix\",\n",
    "                        \"fields\": [\n",
    "                            \"name\",\n",
    "                            \"address.AddressLine\",\n",
    "                            \"Zone.ZoneName\",\n",
    "                            \"refPoints.Name\",\n",
    "                            \"refPoints.RefPointName\",\n",
    "                            \"rooms.amentities.DescriptiveText\",\n",
    "                            \"rooms.tpa_Extensions.FTypeName\",\n",
    "                            \"rooms.tpa_Extensions.FacilityName\",\n",
    "                            \"refPoints.Name\",\n",
    "                            \"refPoints.RefPointName\",\n",
    "                        ]\n",
    "                    }},\n",
    "                ],\n",
    "            },\n",
    "        }\n",
    "    },\n",
    "    from_=4,\n",
    "    size=2,\n",
    "    _source_include = [\n",
    "                            \"name\",\n",
    "#                             \"address.AddressLine\",\n",
    "#                             \"Zone.ZoneName\",\n",
    "#                             \"refPoints.Name\",\n",
    "#                             \"refPoints.RefPointName\",\n",
    "#                             \"rooms.amentities.DescriptiveText\",\n",
    "#                             \"rooms.tpa_Extensions.FTypeName\",\n",
    "#                             \"rooms.tpa_Extensions.FacilityName\",\n",
    "#                             \"refPoints.Name\",\n",
    "#                             \"refPoints.RefPointName\",\n",
    "                        ],\n",
    "    filter_path=['hits.hits'],\n",
    "    sort=[\"price:asc\"]\n",
    ")\n",
    "# if len(resp['hits']['hits'])==0:\n",
    "#     print('failure')\n",
    "resp['hits']['hits']"
   ]
  },
  {
   "cell_type": "code",
   "execution_count": 136,
   "metadata": {
    "scrolled": true
   },
   "outputs": [
    {
     "data": {
      "text/plain": [
       "[{'_id': '11239943',\n",
       "  '_index': 'jiudian_hotels',\n",
       "  '_score': None,\n",
       "  '_source': {'loc': [121.193161, 31.036264],\n",
       "   'name': '上海猫心一号联排别墅(哈瑞大街分店)',\n",
       "   'price': 4280},\n",
       "  '_type': 'ctrip',\n",
       "  'sort': ['125', '一号', '一号', 18.8437076323024, 4280]}]"
      ]
     },
     "execution_count": 136,
     "metadata": {},
     "output_type": "execute_result"
    }
   ],
   "source": [
    "# %%timeit\n",
    "\"\"\"\n",
    "{'price': {'$gt': 0}, \n",
    "'cityCode': '206', \n",
    "'tag': {'$all': ['岳麓区']}}, \n",
    "'projection': {'_id': 1, 'id': 1, 'name': 1, 'images': 1, 'themes': 1, 'price': 1, 'categoryCodes': 1, 'awards': 1, 'cityCode': 1, 'areaId': 1, 'refPoints': 1, 'lat': 1, 'lng': 1}, \n",
    "'skip': 0, \n",
    "'limit': 20, \n",
    "'sort': []}\n",
    "\"\"\"\n",
    "resp=es.search(\n",
    "    index='jiudian_hotels',\n",
    "    doc_type='ctrip',\n",
    "    body={\n",
    "        \"query\": {\n",
    "            \"bool\": {\n",
    "                \"must\" :[\n",
    "                    {\"multi_match\": {\n",
    "                        \"query\": \"大学\",\n",
    "                        \"fields\": [\"name\"]\n",
    "                    }},\n",
    "                ],\n",
    "                \"filter\": [\n",
    "                    {\"term\":{\"cityCode\": '2'}},\n",
    "                    {\"range\": {\"price\":{\"gt\":1000}}},\n",
    "                    {\"geo_distance\": {\n",
    "                        \"distance\": \"30km\",\n",
    "                        \"distance_type\": \"plane\",\n",
    "                        \"loc\": [121, 31]\n",
    "                    }},\n",
    "                    {\"geo_distance\": {\n",
    "                        \"distance\": \"20km\",\n",
    "                        \"distance_type\": \"plane\",\n",
    "                        \"loc\": [121, 31]\n",
    "                    }}\n",
    "                ]\n",
    "            },\n",
    "            \n",
    "        },\n",
    "        \"sort\": [{\"areaId.keyword\":{\"order\":\"asc\"}},\n",
    "                 {\"tag.keyword\":\"asc\"},\n",
    "                 \"tag.keyword\",\n",
    "                {\n",
    "                  \"_geo_distance\": {\n",
    "                    \"loc\": [121, 31],\n",
    "                    \"order\": \"asc\",\n",
    "                    \"unit\":  \"km\", \n",
    "                    \"distance_type\": \"plane\" \n",
    "                  }\n",
    "                }\n",
    "      ]\n",
    "    },\n",
    "    sort=[\"price:asc\"],\n",
    "    _source_include = [\"name\",\"price\",\"loc\"],\n",
    ")\n",
    "resp['hits']['hits']"
   ]
  },
  {
   "cell_type": "code",
   "execution_count": 212,
   "metadata": {
    "scrolled": true
   },
   "outputs": [
    {
     "data": {
      "text/plain": [
       "{'hits': {'hits': [{'_id': '13964826',\n",
       "    '_index': 'jiudian_hotels',\n",
       "    '_score': None,\n",
       "    '_source': {'areaId': '969',\n",
       "     'brandCode': '0',\n",
       "     'cityCode': '385',\n",
       "     'id': '13964826',\n",
       "     'name': '南阳摩邦轰趴馆',\n",
       "     'price': 2680,\n",
       "     'themes': ['219', '260']},\n",
       "    '_type': 'ctrip',\n",
       "    'sort': ['0', 2680]},\n",
       "   {'_id': '11103866',\n",
       "    '_index': 'jiudian_hotels',\n",
       "    '_score': None,\n",
       "    '_source': {'areaId': '969',\n",
       "     'brandCode': '0',\n",
       "     'cityCode': '385',\n",
       "     'id': '11103866',\n",
       "     'name': '南阳韩雪旅舍',\n",
       "     'price': 530,\n",
       "     'themes': ['219', '260']},\n",
       "    '_type': 'ctrip',\n",
       "    'sort': ['0', 530]},\n",
       "   {'_id': '11103714',\n",
       "    '_index': 'jiudian_hotels',\n",
       "    '_score': None,\n",
       "    '_source': {'areaId': '969',\n",
       "     'brandCode': '0',\n",
       "     'cityCode': '385',\n",
       "     'id': '11103714',\n",
       "     'name': '南阳韩雪旅舍(天冠大道分店)',\n",
       "     'price': 521,\n",
       "     'themes': ['219', '260']},\n",
       "    '_type': 'ctrip',\n",
       "    'sort': ['0', 521]},\n",
       "   {'_id': '1718071',\n",
       "    '_index': 'jiudian_hotels',\n",
       "    '_score': None,\n",
       "    '_source': {'areaId': '969',\n",
       "     'brandCode': '0',\n",
       "     'cityCode': '385',\n",
       "     'id': '1718071',\n",
       "     'name': '南阳天润富瑞阁国际酒店',\n",
       "     'price': 332,\n",
       "     'themes': ['19', '177', '190', '219']},\n",
       "    '_type': 'ctrip',\n",
       "    'sort': ['0', 332]},\n",
       "   {'_id': '1611266',\n",
       "    '_index': 'jiudian_hotels',\n",
       "    '_score': None,\n",
       "    '_source': {'areaId': '969',\n",
       "     'brandCode': '0',\n",
       "     'cityCode': '385',\n",
       "     'id': '1611266',\n",
       "     'name': '南阳鸥凯印象酒店',\n",
       "     'price': 279,\n",
       "     'themes': ['219']},\n",
       "    '_type': 'ctrip',\n",
       "    'sort': ['0', 279]},\n",
       "   {'_id': '15852760',\n",
       "    '_index': 'jiudian_hotels',\n",
       "    '_score': None,\n",
       "    '_source': {'areaId': '969',\n",
       "     'brandCode': '0',\n",
       "     'cityCode': '385',\n",
       "     'id': '15852760',\n",
       "     'name': '南阳静心道场普通公寓',\n",
       "     'price': 270,\n",
       "     'themes': ['219']},\n",
       "    '_type': 'ctrip',\n",
       "    'sort': ['0', 270]},\n",
       "   {'_id': '4840596',\n",
       "    '_index': 'jiudian_hotels',\n",
       "    '_score': None,\n",
       "    '_source': {'areaId': '969',\n",
       "     'brandCode': '0',\n",
       "     'cityCode': '385',\n",
       "     'id': '4840596',\n",
       "     'name': '南阳新源宾馆',\n",
       "     'price': 269,\n",
       "     'themes': ['219']},\n",
       "    '_type': 'ctrip',\n",
       "    'sort': ['0', 269]},\n",
       "   {'_id': '15852117',\n",
       "    '_index': 'jiudian_hotels',\n",
       "    '_score': None,\n",
       "    '_source': {'areaId': '969',\n",
       "     'brandCode': '0',\n",
       "     'cityCode': '385',\n",
       "     'id': '15852117',\n",
       "     'name': '南阳住家民宿 暖屋',\n",
       "     'price': 268,\n",
       "     'themes': ['219']},\n",
       "    '_type': 'ctrip',\n",
       "    'sort': ['0', 268]},\n",
       "   {'_id': '14536385',\n",
       "    '_index': 'jiudian_hotels',\n",
       "    '_score': None,\n",
       "    '_source': {'areaId': '969',\n",
       "     'brandCode': '0',\n",
       "     'cityCode': '385',\n",
       "     'id': '14536385',\n",
       "     'name': '南阳漫时光精致水景公寓',\n",
       "     'price': 268,\n",
       "     'themes': ['219', '256']},\n",
       "    '_type': 'ctrip',\n",
       "    'sort': ['0', 268]},\n",
       "   {'_id': '1217951',\n",
       "    '_index': 'jiudian_hotels',\n",
       "    '_score': None,\n",
       "    '_source': {'areaId': '969',\n",
       "     'brandCode': '0',\n",
       "     'cityCode': '385',\n",
       "     'id': '1217951',\n",
       "     'name': '南阳建设招待所',\n",
       "     'price': 238,\n",
       "     'themes': ['41', '219']},\n",
       "    '_type': 'ctrip',\n",
       "    'sort': ['0', 238]},\n",
       "   {'_id': '3707122',\n",
       "    '_index': 'jiudian_hotels',\n",
       "    '_score': None,\n",
       "    '_source': {'areaId': '969',\n",
       "     'brandCode': '0',\n",
       "     'cityCode': '385',\n",
       "     'id': '3707122',\n",
       "     'name': '南阳曼福特酒店',\n",
       "     'price': 238,\n",
       "     'themes': ['190', '219']},\n",
       "    '_type': 'ctrip',\n",
       "    'sort': ['0', 238]},\n",
       "   {'_id': '1272540',\n",
       "    '_index': 'jiudian_hotels',\n",
       "    '_score': None,\n",
       "    '_source': {'areaId': '969',\n",
       "     'brandCode': '0',\n",
       "     'cityCode': '385',\n",
       "     'id': '1272540',\n",
       "     'name': '南阳东阳旅馆',\n",
       "     'price': 220,\n",
       "     'themes': ['219']},\n",
       "    '_type': 'ctrip',\n",
       "    'sort': ['0', 220]},\n",
       "   {'_id': '4840597',\n",
       "    '_index': 'jiudian_hotels',\n",
       "    '_score': None,\n",
       "    '_source': {'areaId': '969',\n",
       "     'brandCode': '0',\n",
       "     'cityCode': '385',\n",
       "     'id': '4840597',\n",
       "     'name': '南阳顺意旅馆',\n",
       "     'price': 199,\n",
       "     'themes': ['219']},\n",
       "    '_type': 'ctrip',\n",
       "    'sort': ['0', 199]},\n",
       "   {'_id': '2223414',\n",
       "    '_index': 'jiudian_hotels',\n",
       "    '_score': None,\n",
       "    '_source': {'areaId': '969',\n",
       "     'brandCode': '0',\n",
       "     'cityCode': '385',\n",
       "     'id': '2223414',\n",
       "     'name': '南阳朝阳宾馆',\n",
       "     'price': 198,\n",
       "     'themes': ['219']},\n",
       "    '_type': 'ctrip',\n",
       "    'sort': ['0', 198]},\n",
       "   {'_id': '2229667',\n",
       "    '_index': 'jiudian_hotels',\n",
       "    '_score': None,\n",
       "    '_source': {'areaId': '969',\n",
       "     'brandCode': '0',\n",
       "     'cityCode': '385',\n",
       "     'id': '2229667',\n",
       "     'name': '南阳福源旅馆',\n",
       "     'price': 198,\n",
       "     'themes': ['219']},\n",
       "    '_type': 'ctrip',\n",
       "    'sort': ['0', 198]},\n",
       "   {'_id': '1229082',\n",
       "    '_index': 'jiudian_hotels',\n",
       "    '_score': None,\n",
       "    '_source': {'areaId': '969',\n",
       "     'brandCode': '0',\n",
       "     'cityCode': '385',\n",
       "     'id': '1229082',\n",
       "     'name': '南阳居易快捷',\n",
       "     'price': 198,\n",
       "     'themes': ['219']},\n",
       "    '_type': 'ctrip',\n",
       "    'sort': ['0', 198]},\n",
       "   {'_id': '4840599',\n",
       "    '_index': 'jiudian_hotels',\n",
       "    '_score': None,\n",
       "    '_source': {'areaId': '969',\n",
       "     'brandCode': '0',\n",
       "     'cityCode': '385',\n",
       "     'id': '4840599',\n",
       "     'name': '南阳冠顺招待所',\n",
       "     'price': 198,\n",
       "     'themes': ['41', '219']},\n",
       "    '_type': 'ctrip',\n",
       "    'sort': ['0', 198]},\n",
       "   {'_id': '4840671',\n",
       "    '_index': 'jiudian_hotels',\n",
       "    '_score': None,\n",
       "    '_source': {'areaId': '969',\n",
       "     'brandCode': '0',\n",
       "     'cityCode': '385',\n",
       "     'id': '4840671',\n",
       "     'name': '南阳宛城教育宾馆',\n",
       "     'price': 198,\n",
       "     'themes': ['219']},\n",
       "    '_type': 'ctrip',\n",
       "    'sort': ['0', 198]},\n",
       "   {'_id': '4840686',\n",
       "    '_index': 'jiudian_hotels',\n",
       "    '_score': None,\n",
       "    '_source': {'areaId': '969',\n",
       "     'brandCode': '0',\n",
       "     'cityCode': '385',\n",
       "     'id': '4840686',\n",
       "     'name': '南阳鸿川宾馆',\n",
       "     'price': 198,\n",
       "     'themes': ['219']},\n",
       "    '_type': 'ctrip',\n",
       "    'sort': ['0', 198]},\n",
       "   {'_id': '850226',\n",
       "    '_index': 'jiudian_hotels',\n",
       "    '_score': None,\n",
       "    '_source': {'areaId': '969',\n",
       "     'brandCode': '0',\n",
       "     'cityCode': '385',\n",
       "     'id': '850226',\n",
       "     'name': '南阳大浪淘沙酒店',\n",
       "     'price': 194.5,\n",
       "     'themes': ['219']},\n",
       "    '_type': 'ctrip',\n",
       "    'sort': ['0', 194]}]}}"
      ]
     },
     "execution_count": 212,
     "metadata": {},
     "output_type": "execute_result"
    }
   ],
   "source": [
    "# %%timeit\n",
    "# test 3\n",
    "\"\"\"\n",
    "{'price': {'$gt': 0}, 'cityCode': '385', 'areaId': '969', 'themes': '190'},\n",
    "'projection': {'_id': 1, 'id': 1, 'name': 1, 'images': 1, 'themes': 1, 'price': 1, 'categoryCodes': 1, 'awards': 1, 'cityCode': 1, 'areaId': 1, 'refPoints': 1, 'lat': 1, 'lng': 1}, \n",
    "'skip': 0, \n",
    "'limit': 20, \n",
    "'sort': []}\"\"\"\n",
    "resp=es.search(\n",
    "    index='jiudian_hotels',\n",
    "    doc_type='ctrip',\n",
    "    body={\n",
    "        \"query\": {\n",
    "            \"bool\": {\n",
    "                \"must\" :[\n",
    "                    {\"range\": {\"price\":{\"gt\":0}}},\n",
    "                ],\n",
    "                'should':[{\"match\":{'price': 332}}],\n",
    "                \"filter\":[{\"terms\":{'themes': ['190','19','177','219']}},\n",
    "                        {\"term\":{'areaId': '969'}},\n",
    "                        {\"term\":{'cityCode': '385'}}]\n",
    "            }\n",
    "        },\n",
    "        \"sort\":[]\n",
    "    },\n",
    "    from_=-1,\n",
    "    size=20,\n",
    "    _source_include = ['id', 'name', 'cityCode', 'areaId', 'themes', 'price', 'brandCode',\n",
    "#                        'images', 'themes', 'price', 'categoryCodes', 'awards', 'cityCode', 'areaId', 'refPoints', 'lat', 'lng'\n",
    "                      ],\n",
    "    filter_path=['hits.hits'],\n",
    "    sort=[\"brandCode.keyword:asc\",\"price:desc\"]\n",
    ")\n",
    "resp\n",
    "# if len(resp['hits']['hits'])==0:\n",
    "#     print('failure')"
   ]
  },
  {
   "cell_type": "code",
   "execution_count": 154,
   "metadata": {
    "scrolled": true
   },
   "outputs": [
    {
     "data": {
      "text/plain": [
       "[{'_id': '378770',\n",
       "  '_index': 'jiudian_hotels',\n",
       "  '_score': 2.0,\n",
       "  '_source': {'brandCode': '950',\n",
       "   'loc': [121.204466, 31.095232],\n",
       "   'name': '上海佘山茂御臻品之选酒店(原世茂佘山艾美酒店)',\n",
       "   'price': 849,\n",
       "   'starRate': '5'},\n",
       "  '_type': 'ctrip'},\n",
       " {'_id': '458785',\n",
       "  '_index': 'jiudian_hotels',\n",
       "  '_score': 2.0,\n",
       "  '_source': {'brandCode': '871',\n",
       "   'loc': [121.374289, 31.172568],\n",
       "   'name': '上海虹桥书香世家酒店',\n",
       "   'price': 835,\n",
       "   'starRate': '4'},\n",
       "  '_type': 'ctrip'},\n",
       " {'_id': '1003293',\n",
       "  '_index': 'jiudian_hotels',\n",
       "  '_score': 2.0,\n",
       "  '_source': {'brandCode': '1',\n",
       "   'loc': [121.435809, 31.321448],\n",
       "   'name': '上海华美达安可酒店',\n",
       "   'price': 587,\n",
       "   'starRate': '4'},\n",
       "  '_type': 'ctrip'},\n",
       " {'_id': '4399431',\n",
       "  '_index': 'jiudian_hotels',\n",
       "  '_score': 2.0,\n",
       "  '_source': {'brandCode': '1112',\n",
       "   'loc': [121.482918, 31.259306],\n",
       "   'name': '上海同文君亭酒店',\n",
       "   'price': 706,\n",
       "   'starRate': '4'},\n",
       "  '_type': 'ctrip'},\n",
       " {'_id': '9530923',\n",
       "  '_index': 'jiudian_hotels',\n",
       "  '_score': 2.0,\n",
       "  '_source': {'brandCode': '23',\n",
       "   'loc': [121.48972820501, 31.090063465544],\n",
       "   'name': '上海建工浦江皇冠假日酒店',\n",
       "   'price': 718,\n",
       "   'starRate': '5'},\n",
       "  '_type': 'ctrip'},\n",
       " {'_id': '430575',\n",
       "  '_index': 'jiudian_hotels',\n",
       "  '_score': 2.0,\n",
       "  '_source': {'brandCode': '2',\n",
       "   'loc': [121.81959, 30.871729],\n",
       "   'name': '上海临港豪生大酒店',\n",
       "   'price': 729,\n",
       "   'starRate': '4'},\n",
       "  '_type': 'ctrip'},\n",
       " {'_id': '6507883',\n",
       "  '_index': 'jiudian_hotels',\n",
       "  '_score': 2.0,\n",
       "  '_source': {'brandCode': '1112',\n",
       "   'loc': [121.4249190478, 31.17826212837],\n",
       "   'name': '上海宜林君亭酒店',\n",
       "   'price': 617,\n",
       "   'starRate': '4'},\n",
       "  '_type': 'ctrip'},\n",
       " {'_id': '374924',\n",
       "  '_index': 'jiudian_hotels',\n",
       "  '_score': 2.0,\n",
       "  '_source': {'brandCode': '16',\n",
       "   'loc': [121.395949, 31.221422],\n",
       "   'name': '上海新发展亚太JW万豪酒店',\n",
       "   'price': 1658,\n",
       "   'starRate': '5'},\n",
       "  '_type': 'ctrip'},\n",
       " {'_id': '375470',\n",
       "  '_index': 'jiudian_hotels',\n",
       "  '_score': 2.0,\n",
       "  '_source': {'brandCode': '158',\n",
       "   'loc': [121.490042, 31.24432],\n",
       "   'name': '上海大厦',\n",
       "   'price': 1459.5,\n",
       "   'starRate': '5'},\n",
       "  '_type': 'ctrip'},\n",
       " {'_id': '756484',\n",
       "  '_index': 'jiudian_hotels',\n",
       "  '_score': 2.0,\n",
       "  '_source': {'brandCode': '593',\n",
       "   'loc': [121.482303, 31.237395],\n",
       "   'name': '锦江都城经典酒店(上海南京路步行街南京饭店 )',\n",
       "   'price': 1488,\n",
       "   'starRate': '4'},\n",
       "  '_type': 'ctrip'}]"
      ]
     },
     "execution_count": 154,
     "metadata": {},
     "output_type": "execute_result"
    }
   ],
   "source": [
    "resp=es.search(\n",
    "    index='jiudian_hotels',\n",
    "    doc_type='ctrip',\n",
    "    body={\n",
    "        \"query\": {\n",
    "            \"bool\": {\n",
    "                \"must\" :[\n",
    "                    {\"multi_match\": {\n",
    "                        \"query\": \"上桔子\",\n",
    "                        \"fields\": [\"name\"]\n",
    "                    }},\n",
    "                ],\n",
    "                \"should\":[\n",
    "                    {\"geo_distance\": {\n",
    "                        \"distance\": \"4km\",\n",
    "                        \"distance_type\": \"plane\",\n",
    "                        \"loc\": [121, 31]\n",
    "                    }},\n",
    "                    {\"range\":{\"brandCode\":{\"gt\":\"0\"}}},\n",
    "                    {\"range\":{\"starRate\":{\"gte\":\"4\"}}},\n",
    "                ],\n",
    "                \"filter\": [\n",
    "                    {\"term\":{\"cityCode\": '2'}},\n",
    "                ]\n",
    "            },\n",
    "            \n",
    "        },\n",
    "    },\n",
    "    _source_include = [\"name\",\"price\",\"loc\",\"brandCode\",\"starRate\"],\n",
    ")\n",
    "resp['hits']['hits']"
   ]
  },
  {
   "cell_type": "code",
   "execution_count": 165,
   "metadata": {
    "scrolled": true
   },
   "outputs": [
    {
     "name": "stderr",
     "output_type": "stream",
     "text": [
      "GET http://192.168.1.19:9200/jiudian_hotels/ctrip/13430840 [status:404 request:0.043s]\n"
     ]
    },
    {
     "ename": "NotFoundError",
     "evalue": "TransportError(404, '{\"_index\":\"jiudian_hotels\",\"_type\":\"ctrip\",\"_id\":\"13430840\",\"found\":false}')",
     "output_type": "error",
     "traceback": [
      "\u001b[0;31m---------------------------------------------------------------------------\u001b[0m",
      "\u001b[0;31mNotFoundError\u001b[0m                             Traceback (most recent call last)",
      "\u001b[0;32m<ipython-input-165-d635ca998608>\u001b[0m in \u001b[0;36m<module>\u001b[0;34m()\u001b[0m\n\u001b[1;32m      3\u001b[0m     \u001b[0mindex\u001b[0m\u001b[0;34m=\u001b[0m\u001b[0;34m'jiudian_hotels'\u001b[0m\u001b[0;34m,\u001b[0m\u001b[0;34m\u001b[0m\u001b[0m\n\u001b[1;32m      4\u001b[0m     \u001b[0mdoc_type\u001b[0m\u001b[0;34m=\u001b[0m\u001b[0;34m'ctrip'\u001b[0m\u001b[0;34m,\u001b[0m\u001b[0;34m\u001b[0m\u001b[0m\n\u001b[0;32m----> 5\u001b[0;31m     \u001b[0mid\u001b[0m\u001b[0;34m=\u001b[0m\u001b[0;34m'13430840'\u001b[0m\u001b[0;34m\u001b[0m\u001b[0m\n\u001b[0m\u001b[1;32m      6\u001b[0m )['_source']\n",
      "\u001b[0;32m/usr/local/python3/lib/python3.6/site-packages/elasticsearch/client/utils.py\u001b[0m in \u001b[0;36m_wrapped\u001b[0;34m(*args, **kwargs)\u001b[0m\n\u001b[1;32m     74\u001b[0m                 \u001b[0;32mif\u001b[0m \u001b[0mp\u001b[0m \u001b[0;32min\u001b[0m \u001b[0mkwargs\u001b[0m\u001b[0;34m:\u001b[0m\u001b[0;34m\u001b[0m\u001b[0m\n\u001b[1;32m     75\u001b[0m                     \u001b[0mparams\u001b[0m\u001b[0;34m[\u001b[0m\u001b[0mp\u001b[0m\u001b[0;34m]\u001b[0m \u001b[0;34m=\u001b[0m \u001b[0mkwargs\u001b[0m\u001b[0;34m.\u001b[0m\u001b[0mpop\u001b[0m\u001b[0;34m(\u001b[0m\u001b[0mp\u001b[0m\u001b[0;34m)\u001b[0m\u001b[0;34m\u001b[0m\u001b[0m\n\u001b[0;32m---> 76\u001b[0;31m             \u001b[0;32mreturn\u001b[0m \u001b[0mfunc\u001b[0m\u001b[0;34m(\u001b[0m\u001b[0;34m*\u001b[0m\u001b[0margs\u001b[0m\u001b[0;34m,\u001b[0m \u001b[0mparams\u001b[0m\u001b[0;34m=\u001b[0m\u001b[0mparams\u001b[0m\u001b[0;34m,\u001b[0m \u001b[0;34m**\u001b[0m\u001b[0mkwargs\u001b[0m\u001b[0;34m)\u001b[0m\u001b[0;34m\u001b[0m\u001b[0m\n\u001b[0m\u001b[1;32m     77\u001b[0m         \u001b[0;32mreturn\u001b[0m \u001b[0m_wrapped\u001b[0m\u001b[0;34m\u001b[0m\u001b[0m\n\u001b[1;32m     78\u001b[0m     \u001b[0;32mreturn\u001b[0m \u001b[0m_wrapper\u001b[0m\u001b[0;34m\u001b[0m\u001b[0m\n",
      "\u001b[0;32m/usr/local/python3/lib/python3.6/site-packages/elasticsearch/client/__init__.py\u001b[0m in \u001b[0;36mget\u001b[0;34m(self, index, doc_type, id, params)\u001b[0m\n\u001b[1;32m    409\u001b[0m                 \u001b[0;32mraise\u001b[0m \u001b[0mValueError\u001b[0m\u001b[0;34m(\u001b[0m\u001b[0;34m\"Empty value passed for a required argument.\"\u001b[0m\u001b[0;34m)\u001b[0m\u001b[0;34m\u001b[0m\u001b[0m\n\u001b[1;32m    410\u001b[0m         return self.transport.perform_request('GET', _make_path(index,\n\u001b[0;32m--> 411\u001b[0;31m             doc_type, id), params=params)\n\u001b[0m\u001b[1;32m    412\u001b[0m \u001b[0;34m\u001b[0m\u001b[0m\n\u001b[1;32m    413\u001b[0m     @query_params('_source', '_source_exclude', '_source_include', 'parent',\n",
      "\u001b[0;32m/usr/local/python3/lib/python3.6/site-packages/elasticsearch/transport.py\u001b[0m in \u001b[0;36mperform_request\u001b[0;34m(self, method, url, headers, params, body)\u001b[0m\n\u001b[1;32m    312\u001b[0m \u001b[0;34m\u001b[0m\u001b[0m\n\u001b[1;32m    313\u001b[0m             \u001b[0;32mtry\u001b[0m\u001b[0;34m:\u001b[0m\u001b[0;34m\u001b[0m\u001b[0m\n\u001b[0;32m--> 314\u001b[0;31m                 \u001b[0mstatus\u001b[0m\u001b[0;34m,\u001b[0m \u001b[0mheaders_response\u001b[0m\u001b[0;34m,\u001b[0m \u001b[0mdata\u001b[0m \u001b[0;34m=\u001b[0m \u001b[0mconnection\u001b[0m\u001b[0;34m.\u001b[0m\u001b[0mperform_request\u001b[0m\u001b[0;34m(\u001b[0m\u001b[0mmethod\u001b[0m\u001b[0;34m,\u001b[0m \u001b[0murl\u001b[0m\u001b[0;34m,\u001b[0m \u001b[0mparams\u001b[0m\u001b[0;34m,\u001b[0m \u001b[0mbody\u001b[0m\u001b[0;34m,\u001b[0m \u001b[0mheaders\u001b[0m\u001b[0;34m=\u001b[0m\u001b[0mheaders\u001b[0m\u001b[0;34m,\u001b[0m \u001b[0mignore\u001b[0m\u001b[0;34m=\u001b[0m\u001b[0mignore\u001b[0m\u001b[0;34m,\u001b[0m \u001b[0mtimeout\u001b[0m\u001b[0;34m=\u001b[0m\u001b[0mtimeout\u001b[0m\u001b[0;34m)\u001b[0m\u001b[0;34m\u001b[0m\u001b[0m\n\u001b[0m\u001b[1;32m    315\u001b[0m \u001b[0;34m\u001b[0m\u001b[0m\n\u001b[1;32m    316\u001b[0m             \u001b[0;32mexcept\u001b[0m \u001b[0mTransportError\u001b[0m \u001b[0;32mas\u001b[0m \u001b[0me\u001b[0m\u001b[0;34m:\u001b[0m\u001b[0;34m\u001b[0m\u001b[0m\n",
      "\u001b[0;32m/usr/local/python3/lib/python3.6/site-packages/elasticsearch/connection/http_urllib3.py\u001b[0m in \u001b[0;36mperform_request\u001b[0;34m(self, method, url, params, body, timeout, ignore, headers)\u001b[0m\n\u001b[1;32m    161\u001b[0m         \u001b[0;32mif\u001b[0m \u001b[0;32mnot\u001b[0m \u001b[0;34m(\u001b[0m\u001b[0;36m200\u001b[0m \u001b[0;34m<=\u001b[0m \u001b[0mresponse\u001b[0m\u001b[0;34m.\u001b[0m\u001b[0mstatus\u001b[0m \u001b[0;34m<\u001b[0m \u001b[0;36m300\u001b[0m\u001b[0;34m)\u001b[0m \u001b[0;32mand\u001b[0m \u001b[0mresponse\u001b[0m\u001b[0;34m.\u001b[0m\u001b[0mstatus\u001b[0m \u001b[0;32mnot\u001b[0m \u001b[0;32min\u001b[0m \u001b[0mignore\u001b[0m\u001b[0;34m:\u001b[0m\u001b[0;34m\u001b[0m\u001b[0m\n\u001b[1;32m    162\u001b[0m             \u001b[0mself\u001b[0m\u001b[0;34m.\u001b[0m\u001b[0mlog_request_fail\u001b[0m\u001b[0;34m(\u001b[0m\u001b[0mmethod\u001b[0m\u001b[0;34m,\u001b[0m \u001b[0mfull_url\u001b[0m\u001b[0;34m,\u001b[0m \u001b[0murl\u001b[0m\u001b[0;34m,\u001b[0m \u001b[0mbody\u001b[0m\u001b[0;34m,\u001b[0m \u001b[0mduration\u001b[0m\u001b[0;34m,\u001b[0m \u001b[0mresponse\u001b[0m\u001b[0;34m.\u001b[0m\u001b[0mstatus\u001b[0m\u001b[0;34m,\u001b[0m \u001b[0mraw_data\u001b[0m\u001b[0;34m)\u001b[0m\u001b[0;34m\u001b[0m\u001b[0m\n\u001b[0;32m--> 163\u001b[0;31m             \u001b[0mself\u001b[0m\u001b[0;34m.\u001b[0m\u001b[0m_raise_error\u001b[0m\u001b[0;34m(\u001b[0m\u001b[0mresponse\u001b[0m\u001b[0;34m.\u001b[0m\u001b[0mstatus\u001b[0m\u001b[0;34m,\u001b[0m \u001b[0mraw_data\u001b[0m\u001b[0;34m)\u001b[0m\u001b[0;34m\u001b[0m\u001b[0m\n\u001b[0m\u001b[1;32m    164\u001b[0m \u001b[0;34m\u001b[0m\u001b[0m\n\u001b[1;32m    165\u001b[0m         self.log_request_success(method, full_url, url, body, response.status,\n",
      "\u001b[0;32m/usr/local/python3/lib/python3.6/site-packages/elasticsearch/connection/base.py\u001b[0m in \u001b[0;36m_raise_error\u001b[0;34m(self, status_code, raw_data)\u001b[0m\n\u001b[1;32m    123\u001b[0m             \u001b[0mlogger\u001b[0m\u001b[0;34m.\u001b[0m\u001b[0mwarning\u001b[0m\u001b[0;34m(\u001b[0m\u001b[0;34m'Undecodable raw error response from server: %s'\u001b[0m\u001b[0;34m,\u001b[0m \u001b[0merr\u001b[0m\u001b[0;34m)\u001b[0m\u001b[0;34m\u001b[0m\u001b[0m\n\u001b[1;32m    124\u001b[0m \u001b[0;34m\u001b[0m\u001b[0m\n\u001b[0;32m--> 125\u001b[0;31m         \u001b[0;32mraise\u001b[0m \u001b[0mHTTP_EXCEPTIONS\u001b[0m\u001b[0;34m.\u001b[0m\u001b[0mget\u001b[0m\u001b[0;34m(\u001b[0m\u001b[0mstatus_code\u001b[0m\u001b[0;34m,\u001b[0m \u001b[0mTransportError\u001b[0m\u001b[0;34m)\u001b[0m\u001b[0;34m(\u001b[0m\u001b[0mstatus_code\u001b[0m\u001b[0;34m,\u001b[0m \u001b[0merror_message\u001b[0m\u001b[0;34m,\u001b[0m \u001b[0madditional_info\u001b[0m\u001b[0;34m)\u001b[0m\u001b[0;34m\u001b[0m\u001b[0m\n\u001b[0m\u001b[1;32m    126\u001b[0m \u001b[0;34m\u001b[0m\u001b[0m\n\u001b[1;32m    127\u001b[0m \u001b[0;34m\u001b[0m\u001b[0m\n",
      "\u001b[0;31mNotFoundError\u001b[0m: TransportError(404, '{\"_index\":\"jiudian_hotels\",\"_type\":\"ctrip\",\"_id\":\"13430840\",\"found\":false}')"
     ]
    }
   ],
   "source": [
    "# %%timeit\n",
    "es.get(\n",
    "    index='jiudian_hotels',\n",
    "    doc_type='ctrip',\n",
    "    id='13430840'\n",
    ")['_source']"
   ]
  },
  {
   "cell_type": "code",
   "execution_count": 159,
   "metadata": {},
   "outputs": [
    {
     "name": "stdout",
     "output_type": "stream",
     "text": [
      "14 ms ± 1.45 ms per loop (mean ± std. dev. of 7 runs, 100 loops each)\n"
     ]
    }
   ],
   "source": [
    "%%timeit\n",
    "es.search(\n",
    "    index='jiudian_hotels',\n",
    "    doc_type='ctrip',\n",
    "    body={\n",
    "        \"query\":{\n",
    "            \"bool\":{\n",
    "                \"filter\":{\"term\":{\"id\":\"1343084\"}}\n",
    "            }\n",
    "        }\n",
    "    }\n",
    ")"
   ]
  },
  {
   "cell_type": "code",
   "execution_count": 202,
   "metadata": {
    "scrolled": true
   },
   "outputs": [
    {
     "data": {
      "text/plain": [
       "[]"
      ]
     },
     "execution_count": 202,
     "metadata": {},
     "output_type": "execute_result"
    }
   ],
   "source": [
    "resp=es.search(\n",
    "    index='jiudian_hotel',\n",
    "    doc_type='ctrip',\n",
    "    body={\n",
    "        \"query\": {\n",
    "            \"bool\": {\n",
    "                \"filter\": [\n",
    "                    {\"range\":{'price': {'gt': 0}}},\n",
    "                    {\"term\":{'cityCode': '25'}},\n",
    "                    {\n",
    "                      \"nested\": {\n",
    "                        \"path\": \"refPoints\", \n",
    "                        \"query\": {\n",
    "                          \"bool\": {\n",
    "                            \"must\": [ \n",
    "                              {\n",
    "                                \"term\": {\n",
    "                                  \"refPoints.Name.keyword\": \"厦门大学\"\n",
    "                                }\n",
    "                              },\n",
    "                              {\n",
    "                                \"range\": {\n",
    "                                  \"refPoints.Distance\": {'lte': 5}\n",
    "                                }\n",
    "                              }\n",
    "                            ]\n",
    "                          }\n",
    "                        }\n",
    "                      }\n",
    "                    }\n",
    "                ]\n",
    "            },\n",
    "            \n",
    "        },\n",
    "    },\n",
    "    _source_include = [\"name\",\"refPoints.Name\",\"refPoints.Distance\"],\n",
    ")\n",
    "resp['hits']['hits']"
   ]
  },
  {
   "cell_type": "code",
   "execution_count": 252,
   "metadata": {
    "scrolled": true
   },
   "outputs": [
    {
     "data": {
      "text/plain": [
       "{'_shards': {'failed': 0, 'successful': 5, 'total': 5}, 'count': 345617}"
      ]
     },
     "execution_count": 252,
     "metadata": {},
     "output_type": "execute_result"
    }
   ],
   "source": [
    "es.count(\n",
    "    index = 'jiudian_hotels',\n",
    "    doc_type = 'ctrip'\n",
    ")"
   ]
  },
  {
   "cell_type": "code",
   "execution_count": 251,
   "metadata": {},
   "outputs": [
    {
     "name": "stdout",
     "output_type": "stream",
     "text": [
      "{'ListPrice': {'type': 'long'},\n",
      " '__v': {'type': 'long'},\n",
      " 'address': {'properties': {'AddressLine': {'fields': {'keyword': {'ignore_above': 256,\n",
      "                                                                   'type': 'keyword'}},\n",
      "                                            'type': 'text'},\n",
      "                            'CityName': {'fields': {'keyword': {'ignore_above': 256,\n",
      "                                                                'type': 'keyword'}},\n",
      "                                         'type': 'text'},\n",
      "                            'PostalCode': {'fields': {'keyword': {'ignore_above': 256,\n",
      "                                                                  'type': 'keyword'}},\n",
      "                                           'type': 'text'},\n",
      "                            'TPA_Extensions': {'properties': {'RoadCross': {'properties': {'DescriptionText': {'fields': {'keyword': {'ignore_above': 256,\n",
      "                                                                                                                                      'type': 'keyword'}},\n",
      "                                                                                                               'type': 'text'}}}}},\n",
      "                            'Zone': {'properties': {'ZoneCode': {'fields': {'keyword': {'ignore_above': 256,\n",
      "                                                                                        'type': 'keyword'}},\n",
      "                                                                 'type': 'text'},\n",
      "                                                    'ZoneName': {'fields': {'keyword': {'ignore_above': 256,\n",
      "                                                                                        'type': 'keyword'}},\n",
      "                                                                 'type': 'text'}}}}},\n",
      " 'amentities': {'fields': {'keyword': {'ignore_above': 256, 'type': 'keyword'}},\n",
      "                'type': 'text'},\n",
      " 'areaId': {'fields': {'keyword': {'ignore_above': 256, 'type': 'keyword'}},\n",
      "            'type': 'text'},\n",
      " 'awards': {'properties': {'CommCleanRate': {'fields': {'keyword': {'ignore_above': 256,\n",
      "                                                                    'type': 'keyword'}},\n",
      "                                             'type': 'text'},\n",
      "                           'CommFacilityRate': {'fields': {'keyword': {'ignore_above': 256,\n",
      "                                                                       'type': 'keyword'}},\n",
      "                                                'type': 'text'},\n",
      "                           'CommServiceRate': {'fields': {'keyword': {'ignore_above': 256,\n",
      "                                                                      'type': 'keyword'}},\n",
      "                                               'type': 'text'},\n",
      "                           'CommSurroundingRate': {'fields': {'keyword': {'ignore_above': 256,\n",
      "                                                                          'type': 'keyword'}},\n",
      "                                                   'type': 'text'},\n",
      "                           'CtripCommRate': {'fields': {'keyword': {'ignore_above': 256,\n",
      "                                                                    'type': 'keyword'}},\n",
      "                                             'type': 'text'},\n",
      "                           'CtripStarRate': {'fields': {'keyword': {'ignore_above': 256,\n",
      "                                                                    'type': 'keyword'}},\n",
      "                                             'type': 'text'},\n",
      "                           'CtripUserRate': {'fields': {'keyword': {'ignore_above': 256,\n",
      "                                                                    'type': 'keyword'}},\n",
      "                                             'type': 'text'},\n",
      "                           'HotelStarLicence': {'fields': {'keyword': {'ignore_above': 256,\n",
      "                                                                       'type': 'keyword'}},\n",
      "                                                'type': 'text'},\n",
      "                           'HotelStarRate': {'fields': {'keyword': {'ignore_above': 256,\n",
      "                                                                    'type': 'keyword'}},\n",
      "                                             'type': 'text'}}},\n",
      " 'brandCode': {'fields': {'keyword': {'ignore_above': 256, 'type': 'keyword'}},\n",
      "               'type': 'text'},\n",
      " 'categoryCodes': {'properties': {'SegmentCategory': {'fields': {'keyword': {'ignore_above': 256,\n",
      "                                                                             'type': 'keyword'}},\n",
      "                                                      'type': 'text'}}},\n",
      " 'cityCode': {'fields': {'keyword': {'ignore_above': 256, 'type': 'keyword'}},\n",
      "              'type': 'text'},\n",
      " 'createdAt': {'type': 'float'},\n",
      " 'descriptions': {'properties': {'category': {'fields': {'keyword': {'ignore_above': 256,\n",
      "                                                                     'type': 'keyword'}},\n",
      "                                              'type': 'text'},\n",
      "                                 'content': {'fields': {'keyword': {'ignore_above': 256,\n",
      "                                                                    'type': 'keyword'}},\n",
      "                                             'type': 'text'}},\n",
      "                  'type': 'nested'},\n",
      " 'id': {'fields': {'keyword': {'ignore_above': 256, 'type': 'keyword'}},\n",
      "        'type': 'text'},\n",
      " 'images': {'properties': {'InvBlockCode': {'fields': {'keyword': {'ignore_above': 256,\n",
      "                                                                   'type': 'keyword'}},\n",
      "                                            'type': 'text'},\n",
      "                           'caption': {'fields': {'keyword': {'ignore_above': 256,\n",
      "                                                              'type': 'keyword'}},\n",
      "                                       'type': 'text'},\n",
      "                           'category': {'fields': {'keyword': {'ignore_above': 256,\n",
      "                                                               'type': 'keyword'}},\n",
      "                                        'type': 'text'},\n",
      "                           'url': {'fields': {'keyword': {'ignore_above': 256,\n",
      "                                                          'type': 'keyword'}},\n",
      "                                   'type': 'text'}}},\n",
      " 'isOnlineFranchise': {'fields': {'keyword': {'ignore_above': 256,\n",
      "                                              'type': 'keyword'}},\n",
      "                       'type': 'text'},\n",
      " 'lastUpdated': {'type': 'date'},\n",
      " 'lat': {'fields': {'keyword': {'ignore_above': 256, 'type': 'keyword'}},\n",
      "         'type': 'text'},\n",
      " 'lng': {'fields': {'keyword': {'ignore_above': 256, 'type': 'keyword'}},\n",
      "         'type': 'text'},\n",
      " 'loc': {'type': 'geo_point'},\n",
      " 'location': {'properties': {'coordinates': {'type': 'float'},\n",
      "                             'type': {'fields': {'keyword': {'ignore_above': 256,\n",
      "                                                             'type': 'keyword'}},\n",
      "                                      'type': 'text'}}},\n",
      " 'name': {'fields': {'keyword': {'ignore_above': 256, 'type': 'keyword'}},\n",
      "          'type': 'text'},\n",
      " 'phones': {'fields': {'keyword': {'ignore_above': 256, 'type': 'keyword'}},\n",
      "            'type': 'text'},\n",
      " 'policies': {'properties': {'PolicyInfo': {'properties': {'CheckInTime': {'fields': {'keyword': {'ignore_above': 256,\n",
      "                                                                                                  'type': 'keyword'}},\n",
      "                                                                           'type': 'text'},\n",
      "                                                           'CheckOutTime': {'fields': {'keyword': {'ignore_above': 256,\n",
      "                                                                                                   'type': 'keyword'}},\n",
      "                                                                            'type': 'text'}}},\n",
      "                             'PolicyInfoCodes': {'properties': {'PolicyInfoCode': {'properties': {'Code': {'fields': {'keyword': {'ignore_above': 256,\n",
      "                                                                                                                                  'type': 'keyword'}},\n",
      "                                                                                                           'type': 'text'},\n",
      "                                                                                                  'Description': {'properties': {'Name': {'fields': {'keyword': {'ignore_above': 256,\n",
      "                                                                                                                                                                 'type': 'keyword'}},\n",
      "                                                                                                                                          'type': 'text'},\n",
      "                                                                                                                                 'Text': {'fields': {'keyword': {'ignore_above': 256,\n",
      "                                                                                                                                                                 'type': 'keyword'}},\n",
      "                                                                                                                                          'type': 'text'}}}}}}}}},\n",
      " 'price': {'type': 'long'},\n",
      " 'refPoints': {'properties': {'CategoryCode': {'fields': {'keyword': {'ignore_above': 256,\n",
      "                                                                      'type': 'keyword'}},\n",
      "                                               'type': 'text'},\n",
      "                              'DescriptiveText': {'fields': {'keyword': {'ignore_above': 256,\n",
      "                                                                         'type': 'keyword'}},\n",
      "                                                  'type': 'text'},\n",
      "                              'Distance': {'type': 'short'},\n",
      "                              'Latitude': {'fields': {'keyword': {'ignore_above': 256,\n",
      "                                                                  'type': 'keyword'}},\n",
      "                                           'type': 'text'},\n",
      "                              'Longitude': {'fields': {'keyword': {'ignore_above': 256,\n",
      "                                                                   'type': 'keyword'}},\n",
      "                                            'type': 'text'},\n",
      "                              'Name': {'fields': {'keyword': {'ignore_above': 256,\n",
      "                                                              'type': 'keyword'}},\n",
      "                                       'type': 'text'},\n",
      "                              'RefPointCategoryCode': {'fields': {'keyword': {'ignore_above': 256,\n",
      "                                                                              'type': 'keyword'}},\n",
      "                                                       'type': 'text'},\n",
      "                              'RefPointName': {'fields': {'keyword': {'ignore_above': 256,\n",
      "                                                                      'type': 'keyword'}},\n",
      "                                               'type': 'text'},\n",
      "                              'UnitOfMeasureCode': {'fields': {'keyword': {'ignore_above': 256,\n",
      "                                                                           'type': 'keyword'}},\n",
      "                                                    'type': 'text'}},\n",
      "               'type': 'nested'},\n",
      " 'rooms': {'properties': {'HID': {'fields': {'keyword': {'ignore_above': 256,\n",
      "                                                         'type': 'keyword'}},\n",
      "                                  'type': 'text'},\n",
      "                          'amentities': {'properties': {'DescriptiveText': {'fields': {'keyword': {'ignore_above': 256,\n",
      "                                                                                                   'type': 'keyword'}},\n",
      "                                                                            'type': 'text'},\n",
      "                                                        'RoomAmenityCode': {'fields': {'keyword': {'ignore_above': 256,\n",
      "                                                                                                   'type': 'keyword'}},\n",
      "                                                                            'type': 'text'}}},\n",
      "                          'bedSize': {'fields': {'keyword': {'ignore_above': 256,\n",
      "                                                             'type': 'keyword'}},\n",
      "                                      'type': 'text'},\n",
      "                          'bedType': {'fields': {'keyword': {'ignore_above': 256,\n",
      "                                                             'type': 'keyword'}},\n",
      "                                      'type': 'text'},\n",
      "                          'floor': {'fields': {'keyword': {'ignore_above': 256,\n",
      "                                                           'type': 'keyword'}},\n",
      "                                    'type': 'text'},\n",
      "                          'hasWindow': {'fields': {'keyword': {'ignore_above': 256,\n",
      "                                                               'type': 'keyword'}},\n",
      "                                        'type': 'text'},\n",
      "                          'invBlockCode': {'fields': {'keyword': {'ignore_above': 256,\n",
      "                                                                  'type': 'keyword'}},\n",
      "                                           'type': 'text'},\n",
      "                          'nameSort': {'fields': {'keyword': {'ignore_above': 256,\n",
      "                                                              'type': 'keyword'}},\n",
      "                                       'type': 'text'},\n",
      "                          'nonSmoking': {'fields': {'keyword': {'ignore_above': 256,\n",
      "                                                                'type': 'keyword'}},\n",
      "                                         'type': 'text'},\n",
      "                          'quantity': {'fields': {'keyword': {'ignore_above': 256,\n",
      "                                                              'type': 'keyword'}},\n",
      "                                       'type': 'text'},\n",
      "                          'roomName': {'fields': {'keyword': {'ignore_above': 256,\n",
      "                                                              'type': 'keyword'}},\n",
      "                                       'type': 'text'},\n",
      "                          'roomSize': {'fields': {'keyword': {'ignore_above': 256,\n",
      "                                                              'type': 'keyword'}},\n",
      "                                       'type': 'text'},\n",
      "                          'roomTypeCode': {'fields': {'keyword': {'ignore_above': 256,\n",
      "                                                                  'type': 'keyword'}},\n",
      "                                           'type': 'text'},\n",
      "                          'standardOccupancy': {'fields': {'keyword': {'ignore_above': 256,\n",
      "                                                                       'type': 'keyword'}},\n",
      "                                                'type': 'text'},\n",
      "                          'tpa_Extensions': {'properties': {'FTypeName': {'fields': {'keyword': {'ignore_above': 256,\n",
      "                                                                                                 'type': 'keyword'}},\n",
      "                                                                          'type': 'text'},\n",
      "                                                            'FacilityName': {'fields': {'keyword': {'ignore_above': 256,\n",
      "                                                                                                    'type': 'keyword'}},\n",
      "                                                                             'type': 'text'},\n",
      "                                                            'FacilityValue': {'fields': {'keyword': {'ignore_above': 256,\n",
      "                                                                                                     'type': 'keyword'}},\n",
      "                                                                              'type': 'text'}}}}},\n",
      " 'services': {'fields': {'keyword': {'ignore_above': 256, 'type': 'keyword'}},\n",
      "              'type': 'text'},\n",
      " 'starLicence': {'fields': {'keyword': {'ignore_above': 256,\n",
      "                                        'type': 'keyword'}},\n",
      "                 'type': 'text'},\n",
      " 'starRate': {'fields': {'keyword': {'ignore_above': 256, 'type': 'keyword'}},\n",
      "              'type': 'text'},\n",
      " 'tag': {'fields': {'keyword': {'ignore_above': 256, 'type': 'keyword'}},\n",
      "         'type': 'text'},\n",
      " 'themes': {'fields': {'keyword': {'ignore_above': 256, 'type': 'keyword'}},\n",
      "            'type': 'text'},\n",
      " 'tpa_Extensions': {'properties': {'CityImportantMessage': {'properties': {'CityImportantMessageType': {'properties': {'EndDate': {'type': 'date'},\n",
      "                                                                                                                       'MessageContent': {'fields': {'keyword': {'ignore_above': 256,\n",
      "                                                                                                                                                                 'type': 'keyword'}},\n",
      "                                                                                                                                          'type': 'text'},\n",
      "                                                                                                                       'StartDate': {'type': 'date'}}}}},\n",
      "                                   'HotelImportantMessage': {'properties': {'ImportantMessage': {'properties': {'EndDate': {'type': 'date'},\n",
      "                                                                                                                'HID': {'fields': {'keyword': {'ignore_above': 256,\n",
      "                                                                                                                                               'type': 'keyword'}},\n",
      "                                                                                                                        'type': 'text'},\n",
      "                                                                                                                'IsVIP': {'fields': {'keyword': {'ignore_above': 256,\n",
      "                                                                                                                                                 'type': 'keyword'}},\n",
      "                                                                                                                          'type': 'text'},\n",
      "                                                                                                                'MessageContent': {'fields': {'keyword': {'ignore_above': 256,\n",
      "                                                                                                                                                          'type': 'keyword'}},\n",
      "                                                                                                                                   'type': 'text'},\n",
      "                                                                                                                'StartDate': {'type': 'date'}}}}},\n",
      "                                   'HotelNameInfo': {'properties': {'HotelNameCN': {'fields': {'keyword': {'ignore_above': 256,\n",
      "                                                                                                           'type': 'keyword'}},\n",
      "                                                                                    'type': 'text'},\n",
      "                                                                    'HotelNameEN': {'fields': {'keyword': {'ignore_above': 256,\n",
      "                                                                                                           'type': 'keyword'}},\n",
      "                                                                                    'type': 'text'}}},\n",
      "                                   'MasterSubHotelIDs': {'fields': {'keyword': {'ignore_above': 256,\n",
      "                                                                                'type': 'keyword'}},\n",
      "                                                         'type': 'text'},\n",
      "                                   'Roomquantity': {'fields': {'keyword': {'ignore_above': 256,\n",
      "                                                                           'type': 'keyword'}},\n",
      "                                                    'type': 'text'},\n",
      "                                   'ThemeCategory': {'properties': {'ThemeCategoryType': {'properties': {'Code': {'fields': {'keyword': {'ignore_above': 256,\n",
      "                                                                                                                                         'type': 'keyword'}},\n",
      "                                                                                                                  'type': 'text'}}}}}}},\n",
      " 'updateDate': {'type': 'date'},\n",
      " 'updatedAt': {'type': 'float'},\n",
      " 'userRate': {'fields': {'keyword': {'ignore_above': 256, 'type': 'keyword'}},\n",
      "              'type': 'text'},\n",
      " 'whenBuilt': {'fields': {'keyword': {'ignore_above': 256, 'type': 'keyword'}},\n",
      "               'type': 'text'},\n",
      " 'zoneCode': {'fields': {'keyword': {'ignore_above': 256, 'type': 'keyword'}},\n",
      "              'type': 'text'}}\n"
     ]
    }
   ],
   "source": [
    "pprint(es.indices.get(index='jiudian_hotels')['jiudian_hotels']['mappings']['ctrip']['properties'])"
   ]
  },
  {
   "cell_type": "code",
   "execution_count": 123,
   "metadata": {
    "scrolled": true
   },
   "outputs": [
    {
     "name": "stdout",
     "output_type": "stream",
     "text": [
      "273 ns ± 5.62 ns per loop (mean ± std. dev. of 7 runs, 1000000 loops each)\n"
     ]
    }
   ],
   "source": [
    "%%timeit\n",
    "d={'a':[]}\n",
    "for item in d.get('a',[]):\n",
    "    pass\n"
   ]
  },
  {
   "cell_type": "code",
   "execution_count": 124,
   "metadata": {},
   "outputs": [
    {
     "name": "stdout",
     "output_type": "stream",
     "text": [
      "306 ns ± 6.24 ns per loop (mean ± std. dev. of 7 runs, 1000000 loops each)\n"
     ]
    }
   ],
   "source": [
    "%%timeit\n",
    "d={'a':[]}\n",
    "if 'a' in d:\n",
    "    for item in d.get('a',[]):\n",
    "        pass\n"
   ]
  },
  {
   "cell_type": "code",
   "execution_count": 125,
   "metadata": {},
   "outputs": [
    {
     "name": "stdout",
     "output_type": "stream",
     "text": [
      "441 ns ± 3.77 ns per loop (mean ± std. dev. of 7 runs, 1000000 loops each)\n"
     ]
    }
   ],
   "source": [
    "%%timeit\n",
    "d={'a':[]}\n",
    "if 'a' in d:\n",
    "    assert isinstance(d['a'],list)\n",
    "    for item in d.get('a',[]):\n",
    "        pass"
   ]
  },
  {
   "cell_type": "code",
   "execution_count": 220,
   "metadata": {},
   "outputs": [
    {
     "data": {
      "text/plain": [
       "{'acknowledged': True}"
      ]
     },
     "execution_count": 220,
     "metadata": {},
     "output_type": "execute_result"
    }
   ],
   "source": [
    "es.indices.delete(index='jiudian_hotels')"
   ]
  },
  {
   "cell_type": "code",
   "execution_count": 204,
   "metadata": {},
   "outputs": [
    {
     "data": {
      "text/plain": [
       "{'acknowledged': True, 'shards_acknowledged': True}"
      ]
     },
     "execution_count": 204,
     "metadata": {},
     "output_type": "execute_result"
    }
   ],
   "source": [
    "es.indices.delete(index='jiudian_hotel')\n",
    "# mapping\n",
    "es.indices.create(\n",
    "    index='jiudian_hotel',\n",
    "    body = {\n",
    "        \"mappings\": {\n",
    "            \"ctrip\": {\n",
    "                \"properties\": {\n",
    "                    \"loc\": {\n",
    "                        \"type\": \"geo_point\"\n",
    "                    },\n",
    "                    \"refPoints\": {\n",
    "                        \"type\": \"nested\",\n",
    "                        \"properties\": {\n",
    "                            \"Distance\":    {\"type\": \"short\"},\n",
    "                            \"UnitOfMeasureCode\": {'fields': {'keyword': {'ignore_above': 256,\n",
    "                                                              'type': 'keyword'}},\n",
    "                                    'type': 'text'},\n",
    "                            \"Name\": {'fields': {'keyword': {'ignore_above': 256,\n",
    "                                                              'type': 'keyword'}},\n",
    "                                    'type': 'text'},\n",
    "                            \"Latitude\": {'fields': {'keyword': {'ignore_above': 256,\n",
    "                                                              'type': 'keyword'}},\n",
    "                                    'type': 'text'},\n",
    "                            \"Longitude\": {'fields': {'keyword': {'ignore_above': 256,\n",
    "                                                              'type': 'keyword'}},\n",
    "                                    'type': 'text'},\n",
    "                            \"RefPointCategoryCode\": {'fields': {'keyword': {'ignore_above': 256,\n",
    "                                                              'type': 'keyword'}},\n",
    "                                    'type': 'text'},\n",
    "                            \"RefPointName\": {'fields': {'keyword': {'ignore_above': 256,\n",
    "                                                              'type': 'keyword'}},\n",
    "                                    'type': 'text'},\n",
    "                            \"CategoryCode\":    {'fields': {'keyword': {'ignore_above': 256,\n",
    "                                                              'type': 'keyword'}},\n",
    "                                    'type': 'text'},\n",
    "                            \"DescriptiveText\":   {'fields': {'keyword': {'ignore_above': 256,\n",
    "                                                              'type': 'keyword'}},\n",
    "                                    'type': 'text'}\n",
    "                        }\n",
    "                    },\n",
    "                    \"descriptions\": {\n",
    "                        \"type\": \"nested\",\n",
    "                        \"properties\": {\n",
    "                            \"category\": {'fields': {'keyword': {'ignore_above': 256,\n",
    "                                                              'type': 'keyword'}},\n",
    "                                    'type': 'text'},\n",
    "                            \"content\": {'fields': {'keyword': {'ignore_above': 256,\n",
    "                                                              'type': 'keyword'}},\n",
    "                                    'type': 'text'},\n",
    "                        }\n",
    "                    }\n",
    "                }\n",
    "            }\n",
    "        }\n",
    "    }\n",
    ")"
   ]
  },
  {
   "cell_type": "code",
   "execution_count": 198,
   "metadata": {
    "scrolled": true
   },
   "outputs": [
    {
     "name": "stdout",
     "output_type": "stream",
     "text": [
      "265\n"
     ]
    }
   ],
   "source": [
    "resp=es.search(\n",
    "    index='jiudian_hotels',\n",
    "    doc_type='ctrip',\n",
    "    body={\n",
    "        \"query\": {\n",
    "            \"bool\": {\n",
    "                \"filter\": [\n",
    "                    {\"range\":{'price': {'gt': 0}}},\n",
    "                    {\"term\":{'cityCode': '25'}},\n",
    "                    {\"term\": {\"refPoints.Name.keyword\": \"厦门大学\"}}\n",
    "                ]\n",
    "            }\n",
    "        }\n",
    "    },\n",
    "    size=10000\n",
    ")\n",
    "print(len(resp['hits']['hits']))\n"
   ]
  },
  {
   "cell_type": "code",
   "execution_count": 205,
   "metadata": {},
   "outputs": [],
   "source": [
    "count = 0\n",
    "for item in resp['hits']['hits']:\n",
    "    es.index(\n",
    "        index='jiudian_hotel',\n",
    "        doc_type='ctrip',\n",
    "        id=item['_source']['id'],\n",
    "        body=item['_source'])\n",
    "    count+=1\n",
    "    print(count,end='\\r')"
   ]
  },
  {
   "cell_type": "code",
   "execution_count": 185,
   "metadata": {},
   "outputs": [
    {
     "data": {
      "text/plain": [
       "[118.148685, 24.477798]"
      ]
     },
     "execution_count": 185,
     "metadata": {},
     "output_type": "execute_result"
    }
   ],
   "source": [
    "item['_source']['loc']"
   ]
  },
  {
   "cell_type": "code",
   "execution_count": 257,
   "metadata": {},
   "outputs": [
    {
     "data": {
      "text/plain": [
       "{'_id': '1001',\n",
       " '_index': 'test',\n",
       " '_shards': {'failed': 0, 'successful': 2, 'total': 2},\n",
       " '_type': 'update',\n",
       " '_version': 1,\n",
       " 'created': True,\n",
       " 'result': 'created'}"
      ]
     },
     "execution_count": 257,
     "metadata": {},
     "output_type": "execute_result"
    }
   ],
   "source": [
    "es.index(index='test',doc_type='update',id='1001',body={\"a\":1,\"b\":2})"
   ]
  },
  {
   "cell_type": "code",
   "execution_count": 267,
   "metadata": {
    "scrolled": true
   },
   "outputs": [
    {
     "data": {
      "text/plain": [
       "{'_id': '1002',\n",
       " '_index': 'test',\n",
       " '_shards': {'failed': 0, 'successful': 2, 'total': 2},\n",
       " '_type': 'update',\n",
       " '_version': 2,\n",
       " 'result': 'updated'}"
      ]
     },
     "execution_count": 267,
     "metadata": {},
     "output_type": "execute_result"
    }
   ],
   "source": [
    "es.update(index='test',doc_type='update',id='1002',body={\"doc\":{\"a\":2,\"b\":1},\"doc_as_upsert\":True})"
   ]
  },
  {
   "cell_type": "code",
   "execution_count": 273,
   "metadata": {},
   "outputs": [
    {
     "data": {
      "text/plain": [
       "{'error': {'index': 'test',\n",
       "  'index_uuid': 'PlhIYKmRSC-j4d_U25LPrw',\n",
       "  'reason': '[update][1003]: document missing',\n",
       "  'root_cause': [{'index': 'test',\n",
       "    'index_uuid': 'PlhIYKmRSC-j4d_U25LPrw',\n",
       "    'reason': '[update][1003]: document missing',\n",
       "    'shard': '3',\n",
       "    'type': 'document_missing_exception'}],\n",
       "  'shard': '3',\n",
       "  'type': 'document_missing_exception'},\n",
       " 'status': 404}"
      ]
     },
     "execution_count": 273,
     "metadata": {},
     "output_type": "execute_result"
    }
   ],
   "source": [
    "es.update(index='test',doc_type='update',id='1003',body={\"doc\":{\"a\":2,\"b\":1}},ignore=404)"
   ]
  },
  {
   "cell_type": "code",
   "execution_count": 268,
   "metadata": {},
   "outputs": [
    {
     "data": {
      "text/plain": [
       "{'_id': '1002',\n",
       " '_index': 'test',\n",
       " '_source': {'a': 2, 'b': 1},\n",
       " '_type': 'update',\n",
       " '_version': 2,\n",
       " 'found': True}"
      ]
     },
     "execution_count": 268,
     "metadata": {},
     "output_type": "execute_result"
    }
   ],
   "source": [
    "es.get(index='test',doc_type='update',id='1002')"
   ]
  },
  {
   "cell_type": "code",
   "execution_count": null,
   "metadata": {},
   "outputs": [],
   "source": [
    "es.get(index='jiudian_hotels',doc_type='ctrip',id='5660159')['_source']"
   ]
  }
 ],
 "metadata": {
  "kernelspec": {
   "display_name": "Python 3",
   "language": "python",
   "name": "python3"
  },
  "language_info": {
   "codemirror_mode": {
    "name": "ipython",
    "version": 3
   },
   "file_extension": ".py",
   "mimetype": "text/x-python",
   "name": "python",
   "nbconvert_exporter": "python",
   "pygments_lexer": "ipython3",
   "version": "3.6.0"
  }
 },
 "nbformat": 4,
 "nbformat_minor": 2
}
