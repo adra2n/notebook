{
 "cells": [
  {
   "cell_type": "code",
   "execution_count": 43,
   "metadata": {},
   "outputs": [],
   "source": [
    "from connection import ConnectionTask\n",
    "from pprint import pprint\n",
    "import time\n",
    "import tablib\n",
    "c = ConnectionTask()"
   ]
  },
  {
   "cell_type": "code",
   "execution_count": 119,
   "metadata": {},
   "outputs": [],
   "source": [
    "tab_data_book = tablib.Databook()\n",
    "tab_data=tablib.Dataset(headers=['订单号','商家','下单时间','交易物品','配送情况','配送地址','手机号'])"
   ]
  },
  {
   "cell_type": "code",
   "execution_count": 120,
   "metadata": {
    "scrolled": true
   },
   "outputs": [],
   "source": [
    "restaurantId_set=set()\n",
    "for order_id in set(order_list):\n",
    "    order=c.pmdb.order_waimai.find_one({\"id\":order_id})\n",
    "    start = order['timeline_new'][-4]['time']\n",
    "    end = order['timeline_new'][-1]['time']\n",
    "    cost_time = time.mktime(time.strptime(end,\"%Y-%m-%d %H:%M\")) - time.mktime(time.strptime(start,\"%Y-%m-%d %H:%M\"))\n",
    "    delivery = \"商家自己配送，无配送信息\" if order.get('deliveryman_name') is None else \"ele配送，有配送信息\"\n",
    "    restaurantId_set.add(order['restaurantId'])\n",
    "    address = order['contact']['address']\n",
    "#     print(order['id'],order['name'],order['food']['group'][0][0]['name'],delivery,check)\n",
    "    tab_data.append([order['id'],order['name'],order['timeline_new'][0]['time'],order['food']['group'][0][0]['name'],delivery,address,order['phone']])\n",
    "tab_data.title = '异常订单'\n",
    "tab_data_book.add_sheet(tab_data)"
   ]
  },
  {
   "cell_type": "code",
   "execution_count": 121,
   "metadata": {},
   "outputs": [],
   "source": [
    "start = time.mktime((2018,5,25,0,0,0,0,0,0))*1000\n",
    "for restaurantId in restaurantId_set:\n",
    "    tab_data=tablib.Dataset(headers=['订单号','商家','下单时间','交易物品','配送情况','配送地址','手机号'])\n",
    "    for order in c.pmdb.order_waimai.find({\"restaurantId\":restaurantId,\"status\":4,\"createdAt\":{\"$gte\":start}}):\n",
    "#         start = order['timeline_new'][-4]['time']\n",
    "#         end = order['timeline_new'][-1]['time']\n",
    "#         cost_time = time.mktime(time.strptime(end,\"%Y-%m-%d %H:%M\")) - time.mktime(time.strptime(start,\"%Y-%m-%d %H:%M\"))\n",
    "        delivery = \"商家自己配送，无配送信息\" if order.get('deliveryman_name') is None else \"ele配送，有配送信息\"\n",
    "        restaurantId_set.add(order['restaurantId'])\n",
    "        address = order['contact']['address']\n",
    "        tab_data.append([order['id'],order['name'],order['timeline_new'][0]['time'],order['food']['group'][0][0]['name'],delivery,address,order['phone']])\n",
    "    tab_data.title = order['name']\n",
    "    tab_data_book.add_sheet(tab_data)"
   ]
  },
  {
   "cell_type": "code",
   "execution_count": 106,
   "metadata": {},
   "outputs": [
    {
     "data": {
      "text/plain": [
       "'2018-05-25 07:44'"
      ]
     },
     "execution_count": 106,
     "metadata": {},
     "output_type": "execute_result"
    }
   ],
   "source": [
    "order['timeline_new'][0]['time']"
   ]
  },
  {
   "cell_type": "code",
   "execution_count": 118,
   "metadata": {},
   "outputs": [],
   "source": [
    "\n",
    "c.pmdb.order_waimai.find_one({\"restaurantId\":restaurantId,\"status\":4,\"createdAt\":{\"$gte\":start}})"
   ]
  },
  {
   "cell_type": "code",
   "execution_count": 115,
   "metadata": {},
   "outputs": [
    {
     "data": {
      "text/plain": [
       "{162815507, 162815560, 162815591}"
      ]
     },
     "execution_count": 115,
     "metadata": {},
     "output_type": "execute_result"
    }
   ],
   "source": [
    "restaurantId_set"
   ]
  },
  {
   "cell_type": "code",
   "execution_count": 122,
   "metadata": {},
   "outputs": [],
   "source": [
    "with open('翼支付嗨5生活节-异常订单核查.xls','wb') as f:\n",
    "    f.write(tab_data_book.xls)"
   ]
  },
  {
   "cell_type": "code",
   "execution_count": 53,
   "metadata": {},
   "outputs": [
    {
     "data": {
      "text/plain": [
       "{'status': '等待商家接单', 'time': '2018-05-25 08:55'}"
      ]
     },
     "execution_count": 53,
     "metadata": {},
     "output_type": "execute_result"
    }
   ],
   "source": [
    "order['timeline_new'][-6]"
   ]
  },
  {
   "cell_type": "code",
   "execution_count": null,
   "metadata": {
    "scrolled": true
   },
   "outputs": [],
   "source": [
    "order"
   ]
  },
  {
   "cell_type": "code",
   "execution_count": null,
   "metadata": {},
   "outputs": [],
   "source": [
    "for order_id in order_list:\n",
    "    order = c.pmdb.order_waimai.find_one({\"id\":order_id})\n",
    "    print(order['id'],order['restaurantId'],order['partnerId'])"
   ]
  }
 ],
 "metadata": {
  "kernelspec": {
   "display_name": "Python 3",
   "language": "python",
   "name": "python3"
  },
  "language_info": {
   "codemirror_mode": {
    "name": "ipython",
    "version": 3
   },
   "file_extension": ".py",
   "mimetype": "text/x-python",
   "name": "python",
   "nbconvert_exporter": "python",
   "pygments_lexer": "ipython3",
   "version": "3.6.0"
  }
 },
 "nbformat": 4,
 "nbformat_minor": 2
}
