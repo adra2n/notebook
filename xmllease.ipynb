{
 "cells": [
  {
   "cell_type": "code",
   "execution_count": 34,
   "metadata": {
    "collapsed": false
   },
   "outputs": [
    {
     "data": {
      "text/plain": [
       "uuid.UUID"
      ]
     },
     "execution_count": 34,
     "metadata": {},
     "output_type": "execute_result"
    }
   ],
   "source": [
    "from ncclient import manager\n",
    "import jxmlease\n",
    "import time\n",
    "import hashlib\n",
    "import requests\n",
    "import xmltodict, json\n",
    "import uuid \n",
    "import re\n",
    "AID = 328727\n",
    "SID =  810129\n",
    "UUID=uuid.uuid1()\n",
    "ICODE='e6fb53910a134cdd96fc4ba30f864c7d'\n",
    "API_URL = 'openapi.ctrip.com'\n",
    "KEY =  'E0F33944-A048-45F7-AA91-A55196051B91'\n",
    "TOKEN_KEY =  'f017b34784be441780a8cc79ccd4a9ed'\n",
    "type(UUID)"
   ]
  },
  {
   "cell_type": "code",
   "execution_count": 35,
   "metadata": {
    "collapsed": true
   },
   "outputs": [],
   "source": [
    "def hotel_message_fetch():\n",
    "    ping_url = 'http://{}/Hotel/OTA_HotelDescriptiveInfo.asmx'.format(API_URL)\n",
    "\n",
    "    ts = int(time.time())\n",
    "    secret = hashlib.md5(KEY.encode('utf8')).hexdigest().upper()\n",
    "    sign = hashlib.md5('{0}{1}{2}{3}OTA_Ping'.format(ts, AID, secret, SID).encode('utf-8')).hexdigest().upper()\n",
    "\n",
    "    request_xml = ('<?xml version=\"1.0\" encoding=\"utf-8\"?>'\n",
    "    '<soap:Envelope xmlns:xsi=\"http://www.w3.org/2001/XMLSchema-instance\" xmlns:xsd=\"http://www.w3.org/2001/XMLSchema\" xmlns:soap=\"http://schemas.xmlsoap.org/soap/envelope/\">'\n",
    "        '<soap:Body>'\n",
    "            '<Request xmlns=\"http://ctrip.com/\">'\n",
    "                '<requestXML><![CDATA['\n",
    "                    '<?xml version=\"1.0\" encoding=\"utf-8\"?>'\n",
    "                    '<Request>'\n",
    "                        '<Header AllianceID=\"{0}\" SID=\"{1}\" TimeStamp=\"{2}\" RequestType=\"OTA_Ping\" Signature=\"{3}\" />'\n",
    "                        '<HotelRequest>'\n",
    "                            '<RequestBody xmlns:ns=\"http://www.opentravel.org/OTA/2003/05\" xmlns:xsi=\"http://www.w3.org/2001/XMLSchema-instance\" xmlns:xsd=\"http://www.w3.org/2001/XMLSchema\">'\n",
    "                                '<OTA_HotelDescriptiveInfoRQ Version=\"1.0\" xsi:schemaLocation=\"http://www.opentravel.org/OTA/2003/05OTA_HotelDescriptiveInfoRQ.xsd\" xmlns=\"http://www.opentravel.org/OTA/2003/05\" xmlns:xsi=\"http://www.w3.org/2001/XMLSchema-instance\">'\n",
    "                                   '<HotelDescriptiveInfos>'\n",
    "                                       '<HotelDescriptiveInfo HotelCode=\"625\" PositionTypeCode=\"502\">'\n",
    "                                           '<HotelInfo SendData=\"true\"/>'\n",
    "                                           '<FacilityInfo SendGuestRooms=\"true\"/>'\n",
    "                                           '<AreaInfo SendAttractions=\"true\" SendRecreations=\"true\"/>'\n",
    "                                           '<ContactInfo SendData=\"true\"/>'\n",
    "                                           '<MultimediaObjects SendData=\"true\"/>'\n",
    "                                        '</HotelDescriptiveInfo>'\n",
    "                                    '</HotelDescriptiveInfos>'\n",
    "                                '</OTA_HotelDescriptiveInfoRQ>'\n",
    "                            '</RequestBody>'\n",
    "                        '</HotelRequest>'\n",
    "                    '</Request>]]>'\n",
    "                '</requestXML>'\n",
    "            '</Request>'\n",
    "        '</soap:Body>'\n",
    "    '</soap:Envelope>').format(AID, SID, ts, sign)\n",
    "\n",
    "    encode_xml = request_xml.encode('utf-8')\n",
    "\n",
    "    headers = {'Content-Type': 'text/xml; charset=utf-8', 'Host': 'openapi.ctrip.com', 'Content-Length': len(encode_xml)}\n",
    "    resp = requests.post(url=ping_url, data=encode_xml, headers=headers).text\n",
    "    #正则表达式\n",
    "    p1='<RequestResult>.+?</RequestResult>'\n",
    "    pattern1=re.compile(p1) \n",
    "    resp_data=pattern1.findall(resp)\n",
    "    #xml 转 dict \n",
    "    xml_data= jxmlease.parse(resp_data[0])\n",
    "    xmlt_data= jxmlease.parse(xml_data['RequestResult'])\n",
    "#     data=eval(str(xmlt_data).replace('@',''))\n",
    "    #dict 拆解 并去除’@‘\n",
    "    open_dict={}\n",
    "    def dict_open(self):\n",
    "        \"\"\"dict拆分\"\"\"\n",
    "        if isinstance(self,dict):\n",
    "            for key in self.keys():   \n",
    "                value=self[key]\n",
    "                key=key.replace('@','')\n",
    "                keys=open_dict.keys()\n",
    "                if key in keys:\n",
    "                    if not isinstance(open_dict[key],list):\n",
    "                        open_dict[key]=[open_dict[key]]\n",
    "                    open_dict[key].append(value)  \n",
    "                else:\n",
    "                    open_dict[key]=value\n",
    "                dict_open(value)\n",
    "        if isinstance(self,list):\n",
    "            for item in self:\n",
    "                dict_open(item)\n",
    "    #调用dict拆分function\n",
    "    dict_open(xmlt_data)\n",
    "#     open_dict=eval(str(open_dict).replace('@',''))\n",
    "    return open_dict"
   ]
  },
  {
   "cell_type": "code",
   "execution_count": 36,
   "metadata": {
    "collapsed": true
   },
   "outputs": [],
   "source": [
    "dirty_datas=hotel_message_fetch()"
   ]
  },
  {
   "cell_type": "code",
   "execution_count": 37,
   "metadata": {
    "collapsed": false
   },
   "outputs": [
    {
     "data": {
      "text/plain": [
       "dict_keys(['Services', 'Header', 'HotelResponse', 'MessageContent', 'PolicyInfoCode', 'Features', 'AddressLine', 'ContactInfo', 'Success', 'RefPoint', 'Phone', 'InvBlockCode', 'Amenity', 'GuestRooms', 'ImageFormat', 'CategoryCodes', 'Policies', 'PostalCode', 'Feature', 'Position', 'Phones', 'TypeRoom', 'CityImportantMessage', 'ThemeCategoryType', 'FacilityInfo', 'TPA_Extensions', 'MultimediaDescriptions', 'Zone', 'FTypeName', 'TPA_Extension', 'HotelInfo', 'Text', 'Award', 'FacilityName', 'HotelImportantMessage', 'MasterSubHotelIDs', 'Response', 'ImageItems', 'AffiliationInfo', 'URL', 'AreaInfo', 'SegmentCategory', 'CityName', 'Awards', 'HotelDescriptiveContent', 'CityImportantMessageType', 'MultimediaDescription', 'ImportantMessage', 'ContactInfos', 'Description', 'HotelDescriptiveContents', 'RoadCross', 'DescriptiveText', 'ZoneCode', 'Policy', 'GuestRoom', 'OTA_HotelDescriptiveInfoRS', 'ZoneName', 'ThemeCategory', 'Address', 'PolicyInfoCodes', 'FacilityValue', 'Amenities', 'RefPoints', 'PolicyInfo', 'TextItem', 'Service', 'ImageItem', 'Roomquantity', 'TextItems'])"
      ]
     },
     "execution_count": 37,
     "metadata": {},
     "output_type": "execute_result"
    }
   ],
   "source": [
    "dirty_datas.keys()"
   ]
  },
  {
   "cell_type": "code",
   "execution_count": null,
   "metadata": {
    "collapsed": true
   },
   "outputs": [],
   "source": [
    "#value 值需要去’@‘\n",
    "clean_datas={}\n",
    "clean_datas['id']=dirty_datas['HotelId']\n",
    "clean_datas['name']=dirty_datas['HotelName']\n",
    "clean_datas['brandCode']=dirty_datas['BrandCode']\n",
    "clean_datas['cityCode']=dirty_datas['HotelCityCode']\n",
    "clean_datas['areaId']=dirty_datas['AreaID']\n",
    "\n",
    "clean_datas['services']=[]\n",
    "for item in dirty_datas['Service']:\n",
    "    clean_datas['services'].append(item['@Code'])\n",
    "# clean_datas['services']= len(dirty_datas['Service']) #\n",
    "\n",
    "clean_datas['themes']=[]\n",
    "for item in dirty_datas['ThemeCategoryType']:\n",
    "    clean_datas['themes'].append(item['@Code'])\n",
    "# clean_datas['themes']=dirty_datas['ThemeCategory']#\n",
    "clean_datas['images']=[]\n",
    "for item in dirty_datas['ImageItem']:\n",
    "    clean_datas['images'].append({'category':item[\"@Category\"],'caption':item[\"Description\"]['@Caption'],'url':item[\"ImageFormat\"]['URL']})\n",
    "# clean_datas['images']=dirty_datas['ImageItem']#\n",
    "clean_datas['phones']=dirty_datas['PhoneNumber']\n",
    "\n",
    "clean_datas['descriptions']=[]\n",
    "for item in dirty_datas['TextItem']:\n",
    "    if item.get('@Category') and item.get('Description'):\n",
    "        clean_datas['descriptions'].append({'category':item['@Category'],'content':item['Description']})\n",
    "\n",
    "# clean_datas['descriptions']=dirty_datas['TextItem']#\n",
    "clean_datas['address']=dirty_datas['Address']\n",
    "clean_datas['lat']=dirty_datas['Latitude'][0]\n",
    "clean_datas['lng']=dirty_datas['Longitude'][0]\n",
    "# dirty_datas['images']\n",
    "clean_datas['categoryCodes']=dirty_datas['SegmentCategory']['@Code']\n",
    "clean_datas['isOnlineFranchise']=dirty_datas['IsOnlineFranchise']\n",
    "clean_datas['lastUpdated']=dirty_datas['LastUpdated']\n",
    "clean_datas['whenBuilt']=dirty_datas['WhenBuilt']\n",
    "for item in \n",
    "{\n",
    "        \"PolicyInfo\" : {\n",
    "            \"CheckOutTime\" : dirty_datas['Policy']['PolicyInfo']['CheckOutTime'],\n",
    "            \"CheckInTime\" : dirty_datas['Policy']['PolicyInfo']['CheckInTime']\n",
    "        },\n",
    "        \"PolicyInfoCodes\" : {\n",
    "            \"PolicyInfoCode\" : {\n",
    "                \"Description\" : [ \n",
    "                    {\n",
    "                        \"Text\" : \"入住时间：14:00以后      离店时间：12:00-12:00\",\n",
    "                        \"Name\" : \"ArrivalAndDeparture\"\n",
    "                    }, \n",
    "                    {\n",
    "                        \"Text\" : \"不同类型的客房附带不同的取消预订和预先付费政策 选择上述客房时，请参阅“客房政策”。\",\n",
    "                        \"Name\" : \"Cancel\"\n",
    "                    }, \n",
    "                    {\n",
    "                        \"Text\" : \"入住时需要出示政府核发的身份证件(带照片)。请携带信用卡和现金用以支付押金或额外费用。\",\n",
    "                        \"Name\" : \"DepositAndPrepaid\"\n",
    "                    }, \n",
    "                    {\n",
    "                        \"Text\" : \"不可携带宠物。\",\n",
    "                        \"Name\" : \"Pet\"\n",
    "                    }, \n",
    "                    {\n",
    "                        \"Text\" : \"信用卡授权解除需时1-3个月。视不同国家、城市之银行操作时间而定。\",\n",
    "                        \"Name\" : \"Requirements\"\n",
    "                    }, \n",
    "                    {\n",
    "                        \"Name\" : \"Child\"\n",
    "                    }\n",
    "                ],\n",
    "                \"Code\" : \"OnlineDisplay\"\n",
    "            }\n",
    "        }\n",
    "    }\n",
    "}\n",
    "clean_datas['policies']=dirty_datas['Policy'] #\n",
    "clean_datas['refPoints']=dirty_datas['RefPoint']\n",
    "clean_datas['awards']=dict(zip(dirty_datas['Provider'],dirty_datas['Rating']))\n",
    "clean_datas['tpa_Extensions']=dirty_datas['TPA_Extensions']#\n",
    "####room\n",
    "clean_datas['roomTypeCode']=dirty_datas['RoomTypeCode']\n",
    "clean_datas['hotelId']=dirty_datas['HotelCode']\n",
    "clean_datas['standardOccupancy']=dirty_datas['StandardOccupancy']\n",
    "clean_datas['roomName']=dirty_datas['RoomTypeName']\n",
    "clean_datas['floor']=dirty_datas['Floor']\n",
    "clean_datas['invBlockCode']=dirty_datas['InvBlockCode']\n",
    "clean_datas['nonSmoking']=dirty_datas['NonSmoking']\n",
    "clean_datas['hasWindow']=dirty_datas['HasWindow']\n",
    "clean_datas['quantity']=dirty_datas['Quantity']\n",
    "clean_datas['roomSize']=dirty_datas['RoomSize']\n",
    "clean_datas['bedSize']=dirty_datas['Size']\n",
    "clean_datas['bedType']=dirty_datas['BedTypeCode']\n",
    "clean_datas['HID']=dirty_datas['HID']\n",
    "clean_datas['amentities']=dirty_datas['amentities']#没有\n",
    "clean_datas['tpa_Extensions']=dirty_datas['TPA_Extensions']# 原表为[]"
   ]
  },
  {
   "cell_type": "code",
   "execution_count": 41,
   "metadata": {
    "collapsed": false
   },
   "outputs": [
    {
     "name": "stdout",
     "output_type": "stream",
     "text": [
      "{\n",
      "    \"PolicyInfoCodes\": {\n",
      "        \"PolicyInfoCode\": {\n",
      "            \"Description\": [\n",
      "                {\n",
      "                    \"Text\": \"入住时间：14:00以后      离店时间：12:00以前\"\n",
      "                },\n",
      "                {\n",
      "                    \"Text\": \"不同类型的客房附带不同的取消预订和预先付费政策 选择上述客房时，请参阅“客房政策”\"\n",
      "                },\n",
      "                {\n",
      "                    \"Text\": \"入住时需要出示政府核发的身份证件(带照片)。请携带信用卡和现金用以支付押金或额外费用。\"\n",
      "                },\n",
      "                {\n",
      "                    \"Text\": \"不可携带宠物。\"\n",
      "                },\n",
      "                {\n",
      "                    \"Text\": \"特殊要求视入住时可提供的服务而定，并可能产生额外的费用。不能保证满足特殊要求。信用卡授权解除需时1-3个月。视不同国家、城市之银行操作时间而定。\"\n",
      "                },\n",
      "                {\n",
      "                    \"Text\": \"不接受18岁以下客人单独入住。早餐：1米以下儿童免费，1米至1米4儿童半价，1米4以上儿童全价\"\n",
      "                },\n",
      "                \"\",\n",
      "                \"\",\n",
      "                \"\",\n",
      "                \"\",\n",
      "                \"\",\n",
      "                \"\",\n",
      "                \"\",\n",
      "                \"\",\n",
      "                \"\",\n",
      "                \"\",\n",
      "                \"\",\n",
      "                \"\",\n",
      "                \"\",\n",
      "                \"\",\n",
      "                \"\",\n",
      "                \"\",\n",
      "                \"\",\n",
      "                \"\",\n",
      "                \"\",\n",
      "                \"\",\n",
      "                \"\",\n",
      "                \"\",\n",
      "                \"\",\n",
      "                \"\",\n",
      "                \"\",\n",
      "                \"\",\n",
      "                \"\",\n",
      "                \"\",\n",
      "                \"1.华亭宾馆是徐家汇的标志性建筑之一，知名度很高，来往便利。<br/>2.交通方便，设施完善，服务热情，周到\",\n",
      "                \"上海华亭宾馆位于漕溪北路，出门即是地铁1、4号线，漫步即可抵达徐家汇商业中心，与八万人体育馆咫尺之遥。<br><br>这是中国旅游业标志性饭店之一，作为08年北京奥运会上海赛区官方指定接待酒店，2010年世博会以及2011年第十四届国际泳联世界锦标赛官方指定接待酒店。<br><br>花苑自助餐厅为全新概念开放式厨房设计，提供国际风味佳肴；美食店带来了品种繁多的点心、中西简餐。<br><br>你可在大堂酒吧小憩、会友，夜间有精彩菲律宾乐队现场表演；在26楼观月台景观中餐厅将徐家汇美景尽收眼底。香港名厨领衔主理，精品传家粤菜、上海菜。<br><br>在克拉克海奇健身中心，有着健身房、恒温游泳池、桑拿、弹子房等。贵宾楼行政楼层的客人会醉心于单独登记入住，24小时贴身管家服务，独立行政酒廊。<br><br>自2015年6月1日起华亭宾馆新增酒店至虹桥机场单向班车，每日班车时刻为：7:00、8:00、10:00、12:00、14:00（需乘坐班车的客人需提前一天至礼宾部登记。）\",\n",
      "                \"上海华亭宾馆位于繁华的徐家汇商业中心，毗邻上海大舞台、旅游集散中心。出门即是地铁1、4号线，地理位置优越，既适合商务会议也方便休闲旅游购物。\"\n",
      "            ]\n",
      "        }\n",
      "    },\n",
      "    \"PolicyInfo\": \"\"\n",
      "}\n"
     ]
    }
   ],
   "source": [
    "print(json.dumps(dirty_datas['Policy'],ensure_ascii=False,indent=4))"
   ]
  },
  {
   "cell_type": "code",
   "execution_count": 33,
   "metadata": {
    "collapsed": false
   },
   "outputs": [
    {
     "name": "stdout",
     "output_type": "stream",
     "text": [
      "odict_keys(['HotelDescriptiveContents', 'Success'])\n"
     ]
    }
   ],
   "source": [
    "print(r['Response']['HotelResponse']['OTA_HotelDescriptiveInfoRS'].keys())\n"
   ]
  }
 ],
 "metadata": {
  "kernelspec": {
   "display_name": "Python 3",
   "language": "python",
   "name": "python3"
  },
  "language_info": {
   "codemirror_mode": {
    "name": "ipython",
    "version": 3
   },
   "file_extension": ".py",
   "mimetype": "text/x-python",
   "name": "python",
   "nbconvert_exporter": "python",
   "pygments_lexer": "ipython3",
   "version": "3.5.2"
  }
 },
 "nbformat": 4,
 "nbformat_minor": 2
}
