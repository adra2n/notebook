{
 "cells": [
  {
   "cell_type": "code",
   "execution_count": 4,
   "metadata": {
    "collapsed": false
   },
   "outputs": [
    {
     "data": {
      "text/plain": [
       "'2016-12-26'"
      ]
     },
     "execution_count": 4,
     "metadata": {},
     "output_type": "execute_result"
    }
   ],
   "source": [
    "from datetime import timedelta\n",
    "import time\n",
    "ts = time.time()\n",
    "dt = time.localtime(ts)\n",
    "arriva_date = time.strftime('%Y-%m-%d', dt)\n",
    "arriva_date"
   ]
  },
  {
   "cell_type": "code",
   "execution_count": 8,
   "metadata": {
    "collapsed": false
   },
   "outputs": [
    {
     "data": {
      "text/plain": [
       "1482681600.0"
      ]
     },
     "execution_count": 8,
     "metadata": {},
     "output_type": "execute_result"
    }
   ],
   "source": [
    "time.mktime(time.strptime(time.strftime('%Y-%m-%d', time.localtime()), '%Y-%m-%d'))"
   ]
  },
  {
   "cell_type": "code",
   "execution_count": 9,
   "metadata": {
    "collapsed": false
   },
   "outputs": [
    {
     "data": {
      "text/plain": [
       "time.struct_time(tm_year=2016, tm_mon=12, tm_mday=26, tm_hour=20, tm_min=31, tm_sec=28, tm_wday=0, tm_yday=361, tm_isdst=0)"
      ]
     },
     "execution_count": 9,
     "metadata": {},
     "output_type": "execute_result"
    }
   ],
   "source": []
  },
  {
   "cell_type": "code",
   "execution_count": 1,
   "metadata": {
    "collapsed": true
   },
   "outputs": [],
   "source": [
    "import requests"
   ]
  },
  {
   "cell_type": "code",
   "execution_count": 2,
   "metadata": {
    "collapsed": false
   },
   "outputs": [],
   "source": [
    "import pymongo\n",
    "from pymongo import MongoClient"
   ]
  },
  {
   "cell_type": "code",
   "execution_count": 3,
   "metadata": {
    "collapsed": true
   },
   "outputs": [],
   "source": [
    "client=MongoClient()"
   ]
  },
  {
   "cell_type": "code",
   "execution_count": 6,
   "metadata": {
    "collapsed": true
   },
   "outputs": [],
   "source": [
    "client=MongoClient('mongodb://localhost:27017')"
   ]
  },
  {
   "cell_type": "code",
   "execution_count": 8,
   "metadata": {
    "collapsed": true
   },
   "outputs": [],
   "source": [
    "db=client.test"
   ]
  },
  {
   "cell_type": "code",
   "execution_count": 9,
   "metadata": {
    "collapsed": true
   },
   "outputs": [],
   "source": [
    "collection=db.test"
   ]
  },
  {
   "cell_type": "code",
   "execution_count": 23,
   "metadata": {
    "collapsed": false
   },
   "outputs": [],
   "source": [
    "import datetime \n",
    "post={'author':'pass',\n",
    "     'text':'My first blog post!',\n",
    "     'tags': ['mongodb','python','pymongo'],\n",
    "     'data':datetime.datetime.utcnow()}"
   ]
  },
  {
   "cell_type": "code",
   "execution_count": 57,
   "metadata": {
    "collapsed": false
   },
   "outputs": [],
   "source": [
    "posts=db.posts\n",
    "posts_id=posts.insert_one(post).inserted_id\n",
    "#print(post_id)"
   ]
  },
  {
   "cell_type": "code",
   "execution_count": 28,
   "metadata": {
    "collapsed": false
   },
   "outputs": [
    {
     "data": {
      "text/plain": [
       "['posts', 'test']"
      ]
     },
     "execution_count": 28,
     "metadata": {},
     "output_type": "execute_result"
    }
   ],
   "source": [
    "db.collection_names()"
   ]
  },
  {
   "cell_type": "code",
   "execution_count": 42,
   "metadata": {
    "collapsed": false
   },
   "outputs": [
    {
     "name": "stdout",
     "output_type": "stream",
     "text": [
      "{'_id': ObjectId('5850bfb7de13fc0f969f2eb6'),\n",
      " 'author': 'fanjindong',\n",
      " 'data': datetime.datetime(2016, 12, 14, 3, 41, 26, 491000),\n",
      " 'tags': ['mongodb', 'python', 'pymongo'],\n",
      " 'text': 'My first blog post!'}\n"
     ]
    }
   ],
   "source": [
    "import pprint\n",
    "pprint.pprint(db.posts.find_one())"
   ]
  },
  {
   "cell_type": "code",
   "execution_count": 54,
   "metadata": {
    "collapsed": false
   },
   "outputs": [
    {
     "data": {
      "text/plain": [
       "{'_id': ObjectId('5850bfb7de13fc0f969f2eb6'),\n",
       " 'author': 'fanjindong',\n",
       " 'data': datetime.datetime(2016, 12, 14, 3, 41, 26, 491000),\n",
       " 'tags': ['mongodb', 'python', 'pymongo'],\n",
       " 'text': 'My first blog post!'}"
      ]
     },
     "execution_count": 54,
     "metadata": {},
     "output_type": "execute_result"
    }
   ],
   "source": [
    "db.test.find_one({'author':'fanjindong'})"
   ]
  },
  {
   "cell_type": "code",
   "execution_count": 63,
   "metadata": {
    "collapsed": false
   },
   "outputs": [
    {
     "name": "stdout",
     "output_type": "stream",
     "text": [
      "{'_id': ObjectId('5850bfb7de13fc0f969f2eb6'),\n",
      " 'author': 'fanjindong',\n",
      " 'data': datetime.datetime(2016, 12, 14, 3, 41, 26, 491000),\n",
      " 'tags': ['mongodb', 'python', 'pymongo'],\n",
      " 'text': 'My first blog post!'}\n"
     ]
    },
    {
     "data": {
      "text/plain": [
       "{'_id': ObjectId('5850bfb7de13fc0f969f2eb6'),\n",
       " 'author': 'fanjindong',\n",
       " 'data': datetime.datetime(2016, 12, 14, 3, 41, 26, 491000),\n",
       " 'tags': ['mongodb', 'python', 'pymongo'],\n",
       " 'text': 'My first blog post!'}"
      ]
     },
     "execution_count": 63,
     "metadata": {},
     "output_type": "execute_result"
    }
   ],
   "source": [
    "post_id\n",
    "pprint.pprint(posts.find_one({'_id':post_id}))\n",
    "posts.find_one()"
   ]
  },
  {
   "cell_type": "code",
   "execution_count": 96,
   "metadata": {
    "collapsed": false
   },
   "outputs": [
    {
     "name": "stdout",
     "output_type": "stream",
     "text": [
      "fanjindong\n",
      "1\n",
      "{'data': datetime.datetime(2016, 12, 14, 3, 49, 45, 340000), 'text': 'My first blog post!', '_id': ObjectId('5850c15cde13fc0f969f2eb7'), 'author': 'pass', 'tags': ['mongodb', 'python', 'pymongo']}\n",
      "{'data': datetime.datetime(2016, 12, 14, 3, 41, 26, 491000), 'text': 'My first blog post!', '_id': ObjectId('5850bfb7de13fc0f969f2eb6'), 'author': 'fanjindong', 'tags': ['mongodb', 'python', 'pymongo']}\n",
      "{'hello': 'world', 'foo': 'bar', '_id': ObjectId('5850ad1e09380c43fd5c6e10')}\n",
      "{'hello1': 'world1', '_id': ObjectId('5850ad7809380c43fd5c6e1f'), 'foo1': 'bar1'}\n",
      "{'hello2': 'world2', 'foo': 'bar2', '_id': ObjectId('5850addd09380c43fd5c6e29')}\n"
     ]
    }
   ],
   "source": [
    "test=db.test\n",
    "for i in test.find({'author':'fanjindong'}):\n",
    "    print(i['author'])\n",
    "print(test.find({'author':'fanjindong'}).count())\n",
    "for i in test.find().sort('author',pymongo.DESCENDING):\n",
    "    print(i)"
   ]
  },
  {
   "cell_type": "code",
   "execution_count": 98,
   "metadata": {
    "collapsed": false
   },
   "outputs": [
    {
     "data": {
      "text/plain": [
       "<pymongo.results.InsertOneResult at 0x7f2134197a20>"
      ]
     },
     "execution_count": 98,
     "metadata": {},
     "output_type": "execute_result"
    }
   ],
   "source": [
    "test.insert_one ({'AccountID':21,'UserName':'libing'})"
   ]
  },
  {
   "cell_type": "code",
   "execution_count": 100,
   "metadata": {
    "collapsed": false
   },
   "outputs": [
    {
     "data": {
      "text/plain": [
       "<pymongo.results.DeleteResult at 0x7f21341978b8>"
      ]
     },
     "execution_count": 100,
     "metadata": {},
     "output_type": "execute_result"
    }
   ],
   "source": [
    "test.delete_many({'UserName':'libing'})"
   ]
  },
  {
   "cell_type": "code",
   "execution_count": 102,
   "metadata": {
    "collapsed": false
   },
   "outputs": [
    {
     "data": {
      "text/plain": [
       "[{'author': 'Mike',\n",
       "  'date': datetime.datetime(2009, 11, 12, 11, 14),\n",
       "  'tags': ['bulk', 'insert'],\n",
       "  'text': 'Another post!'},\n",
       " {'author': 'Eliot',\n",
       "  'date': datetime.datetime(2009, 11, 10, 10, 45),\n",
       "  'text': 'and pretty easy too!',\n",
       "  'title': 'MongoDB is fun'}]"
      ]
     },
     "execution_count": 102,
     "metadata": {},
     "output_type": "execute_result"
    }
   ],
   "source": [
    "new_posts = [{\"author\": \"Mike\",\n",
    "...               \"text\": \"Another post!\",\n",
    "...               \"tags\": [\"bulk\", \"insert\"],\n",
    "...               \"date\": datetime.datetime(2009, 11, 12, 11, 14)},\n",
    "...              {\"author\": \"Eliot\",\n",
    "...               \"title\": \"MongoDB is fun\",\n",
    "...               \"text\": \"and pretty easy too!\",\n",
    "...               \"date\": datetime.datetime(2009, 11, 10, 10, 45)}]\n",
    "new_posts"
   ]
  },
  {
   "cell_type": "code",
   "execution_count": 103,
   "metadata": {
    "collapsed": true
   },
   "outputs": [],
   "source": [
    "result=posts.insert_many(new_posts)"
   ]
  },
  {
   "cell_type": "code",
   "execution_count": 112,
   "metadata": {
    "collapsed": false
   },
   "outputs": [
    {
     "name": "stdout",
     "output_type": "stream",
     "text": [
      "{'_id': ObjectId('5850bfb7de13fc0f969f2eb6'),\n",
      " 'author': 'fanjindong',\n",
      " 'data': datetime.datetime(2016, 12, 14, 3, 41, 26, 491000),\n",
      " 'tags': ['mongodb', 'python', 'pymongo'],\n",
      " 'text': 'My first blog post!'}\n",
      "{'_id': ObjectId('5850de26de13fc0f969f2eba'),\n",
      " 'author': 'Mike',\n",
      " 'date': datetime.datetime(2009, 11, 12, 11, 14),\n",
      " 'tags': ['bulk', 'insert'],\n",
      " 'text': 'Another post!'}\n",
      "{'_id': ObjectId('5850de26de13fc0f969f2ebb'),\n",
      " 'author': 'Eliot',\n",
      " 'date': datetime.datetime(2009, 11, 10, 10, 45),\n",
      " 'text': 'and pretty easy too!',\n",
      " 'title': 'MongoDB is fun'}\n"
     ]
    }
   ],
   "source": [
    "for post in posts.find():\n",
    "    pprint.pprint(post)\n",
    "    #print(post)"
   ]
  },
  {
   "cell_type": "code",
   "execution_count": 113,
   "metadata": {
    "collapsed": false
   },
   "outputs": [
    {
     "name": "stdout",
     "output_type": "stream",
     "text": [
      "{'data': datetime.datetime(2016, 12, 14, 3, 41, 26, 491000), 'text': 'My first blog post!', '_id': ObjectId('5850bfb7de13fc0f969f2eb6'), 'author': 'fanjindong', 'tags': ['mongodb', 'python', 'pymongo']}\n",
      "{'author': 'Mike', 'text': 'Another post!', '_id': ObjectId('5850de26de13fc0f969f2eba'), 'date': datetime.datetime(2009, 11, 12, 11, 14), 'tags': ['bulk', 'insert']}\n",
      "{'title': 'MongoDB is fun', 'text': 'and pretty easy too!', '_id': ObjectId('5850de26de13fc0f969f2ebb'), 'date': datetime.datetime(2009, 11, 10, 10, 45), 'author': 'Eliot'}\n"
     ]
    }
   ],
   "source": [
    "for post in posts.find():\n",
    "    print(post)"
   ]
  },
  {
   "cell_type": "code",
   "execution_count": 115,
   "metadata": {
    "collapsed": false
   },
   "outputs": [
    {
     "name": "stdout",
     "output_type": "stream",
     "text": [
      "{'_id': ObjectId('5850bfb7de13fc0f969f2eb6'),\n",
      " 'author': 'fanjindong',\n",
      " 'data': datetime.datetime(2016, 12, 14, 3, 41, 26, 491000),\n",
      " 'tags': ['mongodb', 'python', 'pymongo'],\n",
      " 'text': 'My first blog post!'}\n"
     ]
    }
   ],
   "source": [
    "for post in posts.find({'author':'fanjindong'}):\n",
    "    pprint.pprint(post)"
   ]
  },
  {
   "cell_type": "code",
   "execution_count": 116,
   "metadata": {
    "collapsed": false
   },
   "outputs": [
    {
     "data": {
      "text/plain": [
       "3"
      ]
     },
     "execution_count": 116,
     "metadata": {},
     "output_type": "execute_result"
    }
   ],
   "source": [
    "posts.count()"
   ]
  },
  {
   "cell_type": "code",
   "execution_count": 118,
   "metadata": {
    "collapsed": false
   },
   "outputs": [
    {
     "data": {
      "text/plain": [
       "1"
      ]
     },
     "execution_count": 118,
     "metadata": {},
     "output_type": "execute_result"
    }
   ],
   "source": [
    "posts.find({'author':'fanjindong'}).count()"
   ]
  },
  {
   "cell_type": "code",
   "execution_count": 123,
   "metadata": {
    "collapsed": false
   },
   "outputs": [
    {
     "name": "stdout",
     "output_type": "stream",
     "text": [
      "datetime.datetime(2009, 11, 12, 12, 12, 12)\n",
      "2009-11-12 12:12:12\n"
     ]
    }
   ],
   "source": [
    "d=datetime.datetime(2009,11,12,12,12,12)\n",
    "pprint.pprint(d)\n",
    "print(d)"
   ]
  },
  {
   "cell_type": "code",
   "execution_count": 129,
   "metadata": {
    "collapsed": false
   },
   "outputs": [
    {
     "data": {
      "text/plain": [
       "<pymongo.results.InsertOneResult at 0x7f21341bd558>"
      ]
     },
     "execution_count": 129,
     "metadata": {},
     "output_type": "execute_result"
    }
   ],
   "source": [
    "#posts.update_one({'author':'Mike'},{'author':'Mike','date':datetime.datetime.utcnow(),'tags':['mongodb','python','pymongo'],'text':'My first blog post!'})\n",
    "posts.insert_one({'author':'Mike','author':'Mike','date':datetime.datetime.utcnow(),'tags':['mongodb','python','pymongo'],'text':'My first blog post!'})"
   ]
  },
  {
   "cell_type": "code",
   "execution_count": 131,
   "metadata": {
    "collapsed": false
   },
   "outputs": [
    {
     "data": {
      "text/plain": [
       "<pymongo.results.DeleteResult at 0x7f21341bd990>"
      ]
     },
     "execution_count": 131,
     "metadata": {},
     "output_type": "execute_result"
    }
   ],
   "source": [
    "posts.delete_one({'author':'Mike'})"
   ]
  },
  {
   "cell_type": "code",
   "execution_count": 134,
   "metadata": {
    "collapsed": false
   },
   "outputs": [
    {
     "name": "stdout",
     "output_type": "stream",
     "text": [
      "{'_id': ObjectId('5850de26de13fc0f969f2ebb'),\n",
      " 'author': 'Eliot',\n",
      " 'date': datetime.datetime(2009, 11, 10, 10, 45),\n",
      " 'text': 'and pretty easy too!',\n",
      " 'title': 'MongoDB is fun'}\n",
      "{'_id': ObjectId('5850de26de13fc0f969f2eba'),\n",
      " 'author': 'Mike',\n",
      " 'date': datetime.datetime(2009, 11, 12, 11, 14),\n",
      " 'tags': ['bulk', 'insert'],\n",
      " 'text': 'Another post!'}\n",
      "{'_id': ObjectId('5850e6c6de13fc0f969f2ebc'),\n",
      " 'author': 'Mike',\n",
      " 'date': datetime.datetime(2016, 12, 14, 6, 29, 26, 267000),\n",
      " 'tags': ['mongodb', 'python', 'pymongo'],\n",
      " 'text': 'My first blog post!'}\n"
     ]
    }
   ],
   "source": [
    "for post in posts.find({'date':{'$lt':d}}).sort('author'):\n",
    "    print.pprint(post)"
   ]
  },
  {
   "cell_type": "code",
   "execution_count": 135,
   "metadata": {
    "collapsed": false
   },
   "outputs": [
    {
     "name": "stdout",
     "output_type": "stream",
     "text": [
      "{'_id': ObjectId('5850de26de13fc0f969f2ebb'),\n",
      " 'author': 'Eliot',\n",
      " 'date': datetime.datetime(2009, 11, 10, 10, 45),\n",
      " 'text': 'and pretty easy too!',\n",
      " 'title': 'MongoDB is fun'}\n",
      "{'_id': ObjectId('5850de26de13fc0f969f2eba'),\n",
      " 'author': 'Mike',\n",
      " 'date': datetime.datetime(2009, 11, 12, 11, 14),\n",
      " 'tags': ['bulk', 'insert'],\n",
      " 'text': 'Another post!'}\n"
     ]
    }
   ],
   "source": [
    "for post in posts.find({'date':{'$lt':d}}).sort('author'):\n",
    "    print.pprint(post)"
   ]
  },
  {
   "cell_type": "code",
   "execution_count": 138,
   "metadata": {
    "collapsed": false
   },
   "outputs": [],
   "source": [
    "result=db.profiles.create_index([('user_id',pymongo.ASCENDING)],unique=True)"
   ]
  },
  {
   "cell_type": "code",
   "execution_count": 139,
   "metadata": {
    "collapsed": false
   },
   "outputs": [
    {
     "data": {
      "text/plain": [
       "['_id_', 'user_id_1']"
      ]
     },
     "execution_count": 139,
     "metadata": {},
     "output_type": "execute_result"
    }
   ],
   "source": [
    "sorted(list(db.profiles.index_information()))"
   ]
  },
  {
   "cell_type": "code",
   "execution_count": 140,
   "metadata": {
    "collapsed": true
   },
   "outputs": [],
   "source": [
    "user_profiles=[{'user_id': 211, 'name': 'Luke'},\n",
    "...     {'user_id': 212, 'name': 'Ziltoid'}]"
   ]
  },
  {
   "cell_type": "code",
   "execution_count": 141,
   "metadata": {
    "collapsed": true
   },
   "outputs": [],
   "source": [
    "result=db.profiles.insert_many(user_profiles)"
   ]
  },
  {
   "cell_type": "code",
   "execution_count": 143,
   "metadata": {
    "collapsed": false
   },
   "outputs": [
    {
     "ename": "DuplicateKeyError",
     "evalue": "E11000 duplicate key error collection: test.profiles index: user_id_1 dup key: { : 212 }",
     "output_type": "error",
     "traceback": [
      "\u001b[0;31m---------------------------------------------------------------------------\u001b[0m",
      "\u001b[0;31mDuplicateKeyError\u001b[0m                         Traceback (most recent call last)",
      "\u001b[0;32m<ipython-input-143-9d18495236d8>\u001b[0m in \u001b[0;36m<module>\u001b[0;34m()\u001b[0m\n\u001b[1;32m      2\u001b[0m \u001b[0mduplicate_profile\u001b[0m\u001b[0;34m=\u001b[0m\u001b[0;34m{\u001b[0m\u001b[0;34m'user_id'\u001b[0m\u001b[0;34m:\u001b[0m \u001b[0;36m212\u001b[0m\u001b[0;34m,\u001b[0m \u001b[0;34m'name'\u001b[0m\u001b[0;34m:\u001b[0m \u001b[0;34m'Tommy'\u001b[0m\u001b[0;34m}\u001b[0m\u001b[0;34m\u001b[0m\u001b[0m\n\u001b[1;32m      3\u001b[0m \u001b[0mdb\u001b[0m\u001b[0;34m.\u001b[0m\u001b[0mprofiles\u001b[0m\u001b[0;34m.\u001b[0m\u001b[0minsert_one\u001b[0m\u001b[0;34m(\u001b[0m\u001b[0mnew_profile\u001b[0m\u001b[0;34m)\u001b[0m\u001b[0;34m\u001b[0m\u001b[0m\n\u001b[0;32m----> 4\u001b[0;31m \u001b[0mdb\u001b[0m\u001b[0;34m.\u001b[0m\u001b[0mprofiles\u001b[0m\u001b[0;34m.\u001b[0m\u001b[0minsert_one\u001b[0m\u001b[0;34m(\u001b[0m\u001b[0mduplicate_profile\u001b[0m\u001b[0;34m)\u001b[0m\u001b[0;34m\u001b[0m\u001b[0m\n\u001b[0m",
      "\u001b[0;32m/usr/local/lib/python3.5/dist-packages/pymongo/collection.py\u001b[0m in \u001b[0;36minsert_one\u001b[0;34m(self, document, bypass_document_validation)\u001b[0m\n\u001b[1;32m    655\u001b[0m             return InsertOneResult(\n\u001b[1;32m    656\u001b[0m                 self._insert(sock_info, document,\n\u001b[0;32m--> 657\u001b[0;31m                              bypass_doc_val=bypass_document_validation),\n\u001b[0m\u001b[1;32m    658\u001b[0m                 self.write_concern.acknowledged)\n\u001b[1;32m    659\u001b[0m \u001b[0;34m\u001b[0m\u001b[0m\n",
      "\u001b[0;32m/usr/local/lib/python3.5/dist-packages/pymongo/collection.py\u001b[0m in \u001b[0;36m_insert\u001b[0;34m(self, sock_info, docs, ordered, check_keys, manipulate, write_concern, op_id, bypass_doc_val)\u001b[0m\n\u001b[1;32m    560\u001b[0m             return self._insert_one(\n\u001b[1;32m    561\u001b[0m                 \u001b[0msock_info\u001b[0m\u001b[0;34m,\u001b[0m \u001b[0mdocs\u001b[0m\u001b[0;34m,\u001b[0m \u001b[0mordered\u001b[0m\u001b[0;34m,\u001b[0m\u001b[0;34m\u001b[0m\u001b[0m\n\u001b[0;32m--> 562\u001b[0;31m                 check_keys, manipulate, write_concern, op_id, bypass_doc_val)\n\u001b[0m\u001b[1;32m    563\u001b[0m \u001b[0;34m\u001b[0m\u001b[0m\n\u001b[1;32m    564\u001b[0m         \u001b[0mids\u001b[0m \u001b[0;34m=\u001b[0m \u001b[0;34m[\u001b[0m\u001b[0;34m]\u001b[0m\u001b[0;34m\u001b[0m\u001b[0m\n",
      "\u001b[0;32m/usr/local/lib/python3.5/dist-packages/pymongo/collection.py\u001b[0m in \u001b[0;36m_insert_one\u001b[0;34m(self, sock_info, doc, ordered, check_keys, manipulate, write_concern, op_id, bypass_doc_val)\u001b[0m\n\u001b[1;32m    542\u001b[0m                 \u001b[0mcodec_options\u001b[0m\u001b[0;34m=\u001b[0m\u001b[0mself\u001b[0m\u001b[0;34m.\u001b[0m\u001b[0m__write_response_codec_options\u001b[0m\u001b[0;34m,\u001b[0m\u001b[0;34m\u001b[0m\u001b[0m\n\u001b[1;32m    543\u001b[0m                 check_keys=check_keys)\n\u001b[0;32m--> 544\u001b[0;31m             \u001b[0m_check_write_command_response\u001b[0m\u001b[0;34m(\u001b[0m\u001b[0;34m[\u001b[0m\u001b[0;34m(\u001b[0m\u001b[0;36m0\u001b[0m\u001b[0;34m,\u001b[0m \u001b[0mresult\u001b[0m\u001b[0;34m)\u001b[0m\u001b[0;34m]\u001b[0m\u001b[0;34m)\u001b[0m\u001b[0;34m\u001b[0m\u001b[0m\n\u001b[0m\u001b[1;32m    545\u001b[0m         \u001b[0;32melse\u001b[0m\u001b[0;34m:\u001b[0m\u001b[0;34m\u001b[0m\u001b[0m\n\u001b[1;32m    546\u001b[0m             \u001b[0;31m# Legacy OP_INSERT.\u001b[0m\u001b[0;34m\u001b[0m\u001b[0;34m\u001b[0m\u001b[0m\n",
      "\u001b[0;32m/usr/local/lib/python3.5/dist-packages/pymongo/helpers.py\u001b[0m in \u001b[0;36m_check_write_command_response\u001b[0;34m(results)\u001b[0m\n\u001b[1;32m    312\u001b[0m             \u001b[0merror\u001b[0m\u001b[0;34m[\u001b[0m\u001b[0;34m\"index\"\u001b[0m\u001b[0;34m]\u001b[0m \u001b[0;34m+=\u001b[0m \u001b[0moffset\u001b[0m\u001b[0;34m\u001b[0m\u001b[0m\n\u001b[1;32m    313\u001b[0m             \u001b[0;32mif\u001b[0m \u001b[0merror\u001b[0m\u001b[0;34m.\u001b[0m\u001b[0mget\u001b[0m\u001b[0;34m(\u001b[0m\u001b[0;34m\"code\"\u001b[0m\u001b[0;34m)\u001b[0m \u001b[0;34m==\u001b[0m \u001b[0;36m11000\u001b[0m\u001b[0;34m:\u001b[0m\u001b[0;34m\u001b[0m\u001b[0m\n\u001b[0;32m--> 314\u001b[0;31m                 \u001b[0;32mraise\u001b[0m \u001b[0mDuplicateKeyError\u001b[0m\u001b[0;34m(\u001b[0m\u001b[0merror\u001b[0m\u001b[0;34m.\u001b[0m\u001b[0mget\u001b[0m\u001b[0;34m(\u001b[0m\u001b[0;34m\"errmsg\"\u001b[0m\u001b[0;34m)\u001b[0m\u001b[0;34m,\u001b[0m \u001b[0;36m11000\u001b[0m\u001b[0;34m,\u001b[0m \u001b[0merror\u001b[0m\u001b[0;34m)\u001b[0m\u001b[0;34m\u001b[0m\u001b[0m\n\u001b[0m\u001b[1;32m    315\u001b[0m             \u001b[0;32mraise\u001b[0m \u001b[0mWriteError\u001b[0m\u001b[0;34m(\u001b[0m\u001b[0merror\u001b[0m\u001b[0;34m.\u001b[0m\u001b[0mget\u001b[0m\u001b[0;34m(\u001b[0m\u001b[0;34m\"errmsg\"\u001b[0m\u001b[0;34m)\u001b[0m\u001b[0;34m,\u001b[0m \u001b[0merror\u001b[0m\u001b[0;34m.\u001b[0m\u001b[0mget\u001b[0m\u001b[0;34m(\u001b[0m\u001b[0;34m\"code\"\u001b[0m\u001b[0;34m)\u001b[0m\u001b[0;34m,\u001b[0m \u001b[0merror\u001b[0m\u001b[0;34m)\u001b[0m\u001b[0;34m\u001b[0m\u001b[0m\n\u001b[1;32m    316\u001b[0m         \u001b[0;32melse\u001b[0m\u001b[0;34m:\u001b[0m\u001b[0;34m\u001b[0m\u001b[0m\n",
      "\u001b[0;31mDuplicateKeyError\u001b[0m: E11000 duplicate key error collection: test.profiles index: user_id_1 dup key: { : 212 }"
     ]
    }
   ],
   "source": [
    "new_profile={'user_id': 213, 'name': 'Drew'}\n",
    "duplicate_profile={'user_id': 212, 'name': 'Tommy'}\n",
    "db.profiles.insert_one(new_profile)\n",
    "db.profiles.insert_one(duplicate_profile)"
   ]
  },
  {
   "cell_type": "code",
   "execution_count": 144,
   "metadata": {
    "collapsed": false
   },
   "outputs": [
    {
     "data": {
      "text/plain": [
       "1"
      ]
     },
     "execution_count": 144,
     "metadata": {},
     "output_type": "execute_result"
    }
   ],
   "source": [
    "pymongo.ASCENDING"
   ]
  },
  {
   "cell_type": "code",
   "execution_count": 145,
   "metadata": {
    "collapsed": false
   },
   "outputs": [
    {
     "data": {
      "text/plain": [
       "-1"
      ]
     },
     "execution_count": 145,
     "metadata": {},
     "output_type": "execute_result"
    }
   ],
   "source": [
    "pymongo.DESCENDING"
   ]
  },
  {
   "cell_type": "code",
   "execution_count": 146,
   "metadata": {
    "collapsed": false
   },
   "outputs": [
    {
     "data": {
      "text/plain": [
       "'2d'"
      ]
     },
     "execution_count": 146,
     "metadata": {},
     "output_type": "execute_result"
    }
   ],
   "source": [
    "pymongo.GEO2D"
   ]
  },
  {
   "cell_type": "code",
   "execution_count": 147,
   "metadata": {
    "collapsed": false
   },
   "outputs": [
    {
     "data": {
      "text/plain": [
       "'geoHaystack'"
      ]
     },
     "execution_count": 147,
     "metadata": {},
     "output_type": "execute_result"
    }
   ],
   "source": [
    "pymongo.GEOHAYSTACK"
   ]
  },
  {
   "cell_type": "code",
   "execution_count": 149,
   "metadata": {
    "collapsed": false
   },
   "outputs": [
    {
     "data": {
      "text/plain": [
       "'hashed'"
      ]
     },
     "execution_count": 149,
     "metadata": {},
     "output_type": "execute_result"
    }
   ],
   "source": [
    "pymongo.HASHED"
   ]
  },
  {
   "cell_type": "code",
   "execution_count": 151,
   "metadata": {
    "collapsed": false
   },
   "outputs": [
    {
     "data": {
      "text/plain": [
       "'text'"
      ]
     },
     "execution_count": 151,
     "metadata": {},
     "output_type": "execute_result"
    }
   ],
   "source": [
    "pymongo.TEXT"
   ]
  },
  {
   "cell_type": "code",
   "execution_count": 154,
   "metadata": {
    "collapsed": false
   },
   "outputs": [
    {
     "name": "stdout",
     "output_type": "stream",
     "text": [
      "{'hello': 'world', 'foo': 'bar', '_id': ObjectId('5850ad1e09380c43fd5c6e10')}\n",
      "{'hello1': 'world1', '_id': ObjectId('5850ad7809380c43fd5c6e1f'), 'foo1': 'bar1'}\n",
      "{'hello2': 'world2', 'foo': 'bar2', '_id': ObjectId('5850addd09380c43fd5c6e29')}\n",
      "{'data': datetime.datetime(2016, 12, 14, 3, 41, 26, 491000), 'text': 'My first blog post!', '_id': ObjectId('5850bfb7de13fc0f969f2eb6'), 'author': 'fanjindong', 'tags': ['mongodb', 'python', 'pymongo']}\n",
      "{'data': datetime.datetime(2016, 12, 14, 3, 49, 45, 340000), 'text': 'My first blog post!', '_id': ObjectId('5850c15cde13fc0f969f2eb7'), 'author': 'pass', 'tags': ['mongodb', 'python', 'pymongo']}\n"
     ]
    }
   ],
   "source": [
    "for doc in test.find():\n",
    "    print(doc)"
   ]
  },
  {
   "cell_type": "code",
   "execution_count": 160,
   "metadata": {
    "collapsed": false
   },
   "outputs": [],
   "source": [
    "from pymongo import InsertOne, DeleteOne, ReplaceOne\n",
    "requests = [InsertOne({'y': 1}), DeleteOne({'hello': 'world'}),ReplaceOne({'y': 1}, {'z': 1}, upsert=True)]"
   ]
  },
  {
   "cell_type": "code",
   "execution_count": 161,
   "metadata": {
    "collapsed": false
   },
   "outputs": [
    {
     "data": {
      "text/plain": [
       "<pymongo.results.BulkWriteResult at 0x7f2134197708>"
      ]
     },
     "execution_count": 161,
     "metadata": {},
     "output_type": "execute_result"
    }
   ],
   "source": [
    "test.bulk_write(requests)"
   ]
  },
  {
   "cell_type": "code",
   "execution_count": 300,
   "metadata": {
    "collapsed": false
   },
   "outputs": [],
   "source": [
    "from copy import copy, deepcopy\n",
    "import requests \n",
    "r= requests.get('http://dev.api.boluomeet.com/common/v1/cities', )\n",
    "data = r.json()"
   ]
  },
  {
   "cell_type": "code",
   "execution_count": 306,
   "metadata": {
    "collapsed": false
   },
   "outputs": [],
   "source": [
    "for item in deepcopy(data['data']):\n",
    "#     print(item)\n",
    "#     if '_id' in item:\n",
    "#         print(item)\n",
    "#         print(data['data'].index(item))\n",
    "    db.city.insert_one(item)"
   ]
  },
  {
   "cell_type": "code",
   "execution_count": 307,
   "metadata": {
    "collapsed": false
   },
   "outputs": [
    {
     "name": "stdout",
     "output_type": "stream",
     "text": [
      "139780221206472\n",
      "139780221828680\n",
      "139780221210696\n",
      "139780221838792\n",
      "139780221828872\n",
      "139780221204808\n"
     ]
    }
   ],
   "source": [
    "for item in data['data'][:6]:\n",
    "    print(id(item))"
   ]
  },
  {
   "cell_type": "code",
   "execution_count": 309,
   "metadata": {
    "collapsed": false
   },
   "outputs": [
    {
     "name": "stdout",
     "output_type": "stream",
     "text": [
      "139780221708168\n",
      "139780221708360\n",
      "139780583541064\n",
      "139780221826440\n",
      "139780221826760\n",
      "139780221827720\n"
     ]
    }
   ],
   "source": [
    "for item in deepcopy(data['data'][:6]):\n",
    "    print(id(item))"
   ]
  },
  {
   "cell_type": "code",
   "execution_count": 311,
   "metadata": {
    "collapsed": false
   },
   "outputs": [],
   "source": [
    "l = [{'a':1},{'b':2},{'c':3},{'d':4},{'e':5},{'f':6}]"
   ]
  },
  {
   "cell_type": "code",
   "execution_count": 312,
   "metadata": {
    "collapsed": false
   },
   "outputs": [
    {
     "name": "stdout",
     "output_type": "stream",
     "text": [
      "139780222490440\n",
      "139780222491080\n",
      "139780222492488\n",
      "139780222491208\n",
      "139780222491784\n",
      "139780222489480\n"
     ]
    }
   ],
   "source": [
    "for item in l:\n",
    "    print(id(item))"
   ]
  },
  {
   "cell_type": "code",
   "execution_count": 325,
   "metadata": {
    "collapsed": false,
    "scrolled": false
   },
   "outputs": [
    {
     "name": "stdout",
     "output_type": "stream",
     "text": [
      "139780223089928\n",
      "139780221195976\n",
      "139780221196360\n",
      "139780221196168\n",
      "139780221194312\n",
      "139780221197384\n"
     ]
    }
   ],
   "source": [
    "for item in deepcopy(l):\n",
    "    print(id(item))"
   ]
  },
  {
   "cell_type": "code",
   "execution_count": 355,
   "metadata": {
    "collapsed": true
   },
   "outputs": [],
   "source": [
    "from copy import copy, deepcopy\n",
    "import requests \n",
    "r= requests.get('http://dev.api.boluomeet.com/common/v1/cities', )\n",
    "data = r.json()"
   ]
  },
  {
   "cell_type": "code",
   "execution_count": 327,
   "metadata": {
    "collapsed": false
   },
   "outputs": [
    {
     "data": {
      "text/plain": [
       "15319"
      ]
     },
     "execution_count": 327,
     "metadata": {},
     "output_type": "execute_result"
    }
   ],
   "source": [
    "db.city.find().count()"
   ]
  },
  {
   "cell_type": "code",
   "execution_count": 328,
   "metadata": {
    "collapsed": true
   },
   "outputs": [],
   "source": [
    "r=requests.post('http://httpbin.org/post')"
   ]
  },
  {
   "cell_type": "code",
   "execution_count": 349,
   "metadata": {
    "collapsed": false
   },
   "outputs": [
    {
     "name": "stdout",
     "output_type": "stream",
     "text": [
      "http://httpbin.org/get?key2=value2&key1=value1\n"
     ]
    }
   ],
   "source": [
    "payload = {'key1': 'value1', 'key2': 'value2'}\n",
    "r = requests.get(\"http://httpbin.org/get\", params=payload)\n",
    "print(r.url)"
   ]
  },
  {
   "cell_type": "code",
   "execution_count": 350,
   "metadata": {
    "collapsed": false
   },
   "outputs": [
    {
     "name": "stdout",
     "output_type": "stream",
     "text": [
      "http://httpbin.org/get?key2=value2&key2=value3&key1=value1\n"
     ]
    }
   ],
   "source": [
    "payload = {'key1': 'value1', 'key2': ['value2', 'value3']}\n",
    "r = requests.get('http://httpbin.org/get', params=payload)\n",
    "print(r.url)"
   ]
  },
  {
   "cell_type": "code",
   "execution_count": 360,
   "metadata": {
    "collapsed": false
   },
   "outputs": [
    {
     "data": {
      "text/plain": [
       "str"
      ]
     },
     "execution_count": 360,
     "metadata": {},
     "output_type": "execute_result"
    }
   ],
   "source": [
    "import requests\n",
    "r = requests.get('https://github.com/timeline.json')\n",
    "text=r.text"
   ]
  },
  {
   "cell_type": "code",
   "execution_count": 361,
   "metadata": {
    "collapsed": false
   },
   "outputs": [
    {
     "data": {
      "text/plain": [
       "'utf-8'"
      ]
     },
     "execution_count": 361,
     "metadata": {},
     "output_type": "execute_result"
    }
   ],
   "source": [
    "r.encoding"
   ]
  },
  {
   "cell_type": "code",
   "execution_count": 366,
   "metadata": {
    "collapsed": false
   },
   "outputs": [
    {
     "data": {
      "text/plain": [
       "b'{\"message\":\"Hello there, wayfaring stranger. If you\\xe2\\x80\\x99re reading this then you probably didn\\xe2\\x80\\x99t see our blog post a couple of years back announcing that this API would go away: http://git.io/17AROg Fear not, you should be able to get what you need from the shiny new Events API instead.\",\"documentation_url\":\"https://developer.github.com/v3/activity/events/#list-public-events\"}'"
      ]
     },
     "execution_count": 366,
     "metadata": {},
     "output_type": "execute_result"
    }
   ],
   "source": [
    "r.content"
   ]
  },
  {
   "cell_type": "code",
   "execution_count": 364,
   "metadata": {
    "collapsed": true
   },
   "outputs": [],
   "source": [
    "from PIL import Image\n",
    "from io import BytesIO"
   ]
  },
  {
   "cell_type": "code",
   "execution_count": 365,
   "metadata": {
    "collapsed": true
   },
   "outputs": [
    {
     "ename": "OSError",
     "evalue": "cannot identify image file <_io.BytesIO object at 0x7f211e7ae150>",
     "output_type": "error",
     "traceback": [
      "\u001b[0;31m---------------------------------------------------------------------------\u001b[0m",
      "\u001b[0;31mOSError\u001b[0m                                   Traceback (most recent call last)",
      "\u001b[0;32m<ipython-input-365-145cfa33d201>\u001b[0m in \u001b[0;36m<module>\u001b[0;34m()\u001b[0m\n\u001b[0;32m----> 1\u001b[0;31m \u001b[0mi\u001b[0m\u001b[0;34m=\u001b[0m\u001b[0mImage\u001b[0m\u001b[0;34m.\u001b[0m\u001b[0mopen\u001b[0m\u001b[0;34m(\u001b[0m\u001b[0mBytesIO\u001b[0m\u001b[0;34m(\u001b[0m\u001b[0mr\u001b[0m\u001b[0;34m.\u001b[0m\u001b[0mcontent\u001b[0m\u001b[0;34m)\u001b[0m\u001b[0;34m)\u001b[0m\u001b[0;34m\u001b[0m\u001b[0m\n\u001b[0m",
      "\u001b[0;32m/usr/lib/python3/dist-packages/PIL/Image.py\u001b[0m in \u001b[0;36mopen\u001b[0;34m(fp, mode)\u001b[0m\n\u001b[1;32m   2293\u001b[0m \u001b[0;34m\u001b[0m\u001b[0m\n\u001b[1;32m   2294\u001b[0m     raise IOError(\"cannot identify image file %r\"\n\u001b[0;32m-> 2295\u001b[0;31m                   % (filename if filename else fp))\n\u001b[0m\u001b[1;32m   2296\u001b[0m \u001b[0;34m\u001b[0m\u001b[0m\n\u001b[1;32m   2297\u001b[0m \u001b[0;31m#\u001b[0m\u001b[0;34m\u001b[0m\u001b[0;34m\u001b[0m\u001b[0m\n",
      "\u001b[0;31mOSError\u001b[0m: cannot identify image file <_io.BytesIO object at 0x7f211e7ae150>"
     ]
    }
   ],
   "source": [
    "i=Image.open(BytesIO(r.content))"
   ]
  },
  {
   "cell_type": "code",
   "execution_count": 375,
   "metadata": {
    "collapsed": false
   },
   "outputs": [],
   "source": [
    "r = requests.get('https://github.com/timeline.json',stream=True)"
   ]
  },
  {
   "cell_type": "code",
   "execution_count": 372,
   "metadata": {
    "collapsed": false
   },
   "outputs": [
    {
     "data": {
      "text/plain": [
       "{'documentation_url': 'https://developer.github.com/v3/activity/events/#list-public-events',\n",
       " 'message': 'Hello there, wayfaring stranger. If you’re reading this then you probably didn’t see our blog post a couple of years back announcing that this API would go away: http://git.io/17AROg Fear not, you should be able to get what you need from the shiny new Events API instead.'}"
      ]
     },
     "execution_count": 372,
     "metadata": {},
     "output_type": "execute_result"
    }
   ],
   "source": [
    "r.json()"
   ]
  },
  {
   "cell_type": "code",
   "execution_count": 376,
   "metadata": {
    "collapsed": false
   },
   "outputs": [
    {
     "data": {
      "text/plain": [
       "<requests.packages.urllib3.response.HTTPResponse at 0x7f211d6dc9b0>"
      ]
     },
     "execution_count": 376,
     "metadata": {},
     "output_type": "execute_result"
    }
   ],
   "source": [
    "r.raw"
   ]
  },
  {
   "cell_type": "code",
   "execution_count": 380,
   "metadata": {
    "collapsed": false
   },
   "outputs": [],
   "source": [
    "from copy import copy, deepcopy\n",
    "import requests \n",
    "r= requests.get('http://dev.api.boluomeet.com/common/v1/cities')\n",
    "data=r.json()"
   ]
  },
  {
   "cell_type": "code",
   "execution_count": 397,
   "metadata": {
    "collapsed": false
   },
   "outputs": [],
   "source": [
    "data.keys()\n",
    "import math"
   ]
  },
  {
   "cell_type": "code",
   "execution_count": 387,
   "metadata": {
    "collapsed": false
   },
   "outputs": [
    {
     "data": {
      "text/plain": [
       "0"
      ]
     },
     "execution_count": 387,
     "metadata": {},
     "output_type": "execute_result"
    }
   ],
   "source": [
    "data['code']"
   ]
  },
  {
   "cell_type": "code",
   "execution_count": 391,
   "metadata": {
    "collapsed": false
   },
   "outputs": [
    {
     "data": {
      "text/plain": [
       "'处理成功'"
      ]
     },
     "execution_count": 391,
     "metadata": {},
     "output_type": "execute_result"
    }
   ],
   "source": [
    "data['message']"
   ]
  },
  {
   "cell_type": "code",
   "execution_count": 647,
   "metadata": {
    "collapsed": false
   },
   "outputs": [
    {
     "name": "stdout",
     "output_type": "stream",
     "text": [
      "name:德宏傣族景颇自治州\n",
      ">>>\n",
      "jianpin:dhdzjpzzz\n",
      ">>>\n",
      "pinyin:dehongdaizujingpozizhizhou\n",
      ">>>\n",
      "supplier:{'menpiao': {'tongcheng': '德宏傣族景颇自治州'}}\n",
      "menpiao:{'tongcheng': '德宏傣族景颇自治州'}\n",
      "tongcheng:德宏傣族景颇自治州\n",
      ">>>\n",
      ">>>\n",
      ">>>\n",
      "id:2514\n",
      ">>>\n"
     ]
    }
   ],
   "source": [
    "# dict 的无限拆解\n",
    "data={\n",
    " 'id': '2514',\n",
    " 'jianpin': 'dhdzjpzzz',\n",
    " 'name': '德宏傣族景颇自治州',\n",
    " 'pinyin': 'dehongdaizujingpozizhizhou',\n",
    " 'supplier': {'menpiao': {'tongcheng': '德宏傣族景颇自治州'}}}\n",
    "def dict_open(self):\n",
    "    if isinstance(self,dict):\n",
    "        for key in self.keys():\n",
    "            value=self[key]\n",
    "            print('%s:%s' % (key,value))\n",
    "            dict_open(value)\n",
    "            print('>>>')\n",
    "dict_open(data)"
   ]
  },
  {
   "cell_type": "code",
   "execution_count": 656,
   "metadata": {
    "collapsed": false
   },
   "outputs": [
    {
     "data": {
      "text/plain": [
       "{1, 2}"
      ]
     },
     "execution_count": 656,
     "metadata": {},
     "output_type": "execute_result"
    }
   ],
   "source": [
    "data=list(city.find())\n",
    "len(data)\n",
    "set([1,2,2,])   "
   ]
  },
  {
   "cell_type": "code",
   "execution_count": 602,
   "metadata": {
    "collapsed": false
   },
   "outputs": [
    {
     "data": {
      "text/plain": [
       "<pymongo.results.UpdateResult at 0x7f210f0b0090>"
      ]
     },
     "execution_count": 602,
     "metadata": {},
     "output_type": "execute_result"
    }
   ],
   "source": [
    "test.update_one({'foo1':'bar1'},{'$set':{'foo':'bar1','hello2':'world'}})"
   ]
  },
  {
   "cell_type": "code",
   "execution_count": 603,
   "metadata": {
    "collapsed": false
   },
   "outputs": [
    {
     "data": {
      "text/plain": [
       "<pymongo.results.UpdateResult at 0x7f210f0b0678>"
      ]
     },
     "execution_count": 603,
     "metadata": {},
     "output_type": "execute_result"
    }
   ],
   "source": [
    "test.replace_one({'foo1':'bar1'},{'foo':'bar1','hello2':'world'})"
   ]
  },
  {
   "cell_type": "code",
   "execution_count": 410,
   "metadata": {
    "collapsed": false
   },
   "outputs": [
    {
     "data": {
      "text/plain": [
       "666"
      ]
     },
     "execution_count": 410,
     "metadata": {},
     "output_type": "execute_result"
    }
   ],
   "source": [
    "len(data['data'])"
   ]
  },
  {
   "cell_type": "code",
   "execution_count": 564,
   "metadata": {
    "collapsed": true
   },
   "outputs": [],
   "source": [
    "city=db.city"
   ]
  },
  {
   "cell_type": "code",
   "execution_count": 589,
   "metadata": {
    "collapsed": false
   },
   "outputs": [
    {
     "data": {
      "text/plain": [
       "15319"
      ]
     },
     "execution_count": 589,
     "metadata": {},
     "output_type": "execute_result"
    }
   ],
   "source": [
    "bigdata=city.find()\n",
    "bigdata.count()"
   ]
  },
  {
   "cell_type": "code",
   "execution_count": 594,
   "metadata": {
    "collapsed": true
   },
   "outputs": [
    {
     "data": {
      "text/plain": [
       "[{'id': '2514', 'name': '德宏傣族景颇自治州'},\n",
       " {'id': '2514', 'name': '德宏傣族景颇自治州'},\n",
       " {'id': '1231', 'name': '临海'},\n",
       " {'id': '2319', 'name': '阿坝藏族羌族自治州'},\n",
       " {'id': '2903', 'name': '海北藏族自治州'},\n",
       " {'id': '2906', 'name': '果洛藏族自治州'},\n",
       " {'id': '2905', 'name': '海南藏族自治州'},\n",
       " {'id': '2904', 'name': '黄南藏族自治州'},\n",
       " {'id': '1914', 'name': '湘西土家苗族自治区'},\n",
       " {'id': '2515', 'name': '怒江傈傈族自治州'},\n",
       " {'id': '2511', 'name': '文山壮族苗族自治州'},\n",
       " {'id': '3201', 'name': '香港特别行政区'},\n",
       " {'id': '2321', 'name': '凉山彝族自治州'},\n",
       " {'id': '2814', 'name': '甘南藏族自治州'},\n",
       " {'id': '3301', 'name': '澳门特别行政区'},\n",
       " {'id': '2404', 'name': '安顺'},\n",
       " {'id': '1705', 'name': '安阳'},\n",
       " {'id': '0803', 'name': '鞍山'},\n",
       " {'id': '2317', 'name': '巴中'},\n",
       " {'id': '2804', 'name': '白银'},\n",
       " {'id': '2110', 'name': '百色'},\n",
       " {'id': '2504', 'name': '保山'},\n",
       " {'id': '0805', 'name': '本溪'},\n",
       " {'id': '1315', 'name': '亳州'},\n",
       " {'id': '2115', 'name': '岑溪'},\n",
       " {'id': '3110', 'name': '昌吉'},\n",
       " {'id': '0604', 'name': '长治'},\n",
       " {'id': '1313', 'name': '巢湖'},\n",
       " {'id': '2019', 'name': '潮州'},\n",
       " {'id': '1831', 'name': '赤壁'},\n",
       " {'id': '1316', 'name': '池州'},\n",
       " {'id': '1910', 'name': '郴州'},\n",
       " {'id': '0704', 'name': '赤峰'},\n",
       " {'id': '2114', 'name': '崇左'},\n",
       " {'id': '2522', 'name': '楚雄'},\n",
       " {'id': '2305', 'name': '德阳'},\n",
       " {'id': '2207', 'name': '东方'},\n",
       " {'id': '2322', 'name': '都江堰'},\n",
       " {'id': '2416', 'name': '都匀'},\n",
       " {'id': '2330', 'name': '峨眉山'},\n",
       " {'id': '2029', 'name': '恩平'},\n",
       " {'id': '0821', 'name': '凤城'},\n",
       " {'id': '1410', 'name': '福清'},\n",
       " {'id': '0804', 'name': '抚顺'},\n",
       " {'id': '0809', 'name': '阜新'},\n",
       " {'id': '2910', 'name': '格尔木'},\n",
       " {'id': '2519', 'name': '个旧'},\n",
       " {'id': '3004', 'name': '固原'},\n",
       " {'id': '2326', 'name': '广汉'},\n",
       " {'id': '2108', 'name': '贵港'},\n",
       " {'id': '2112', 'name': '河池'},\n",
       " {'id': '2014', 'name': '河源'},\n",
       " {'id': '2111', 'name': '贺州'},\n",
       " {'id': '1706', 'name': '鹤壁'},\n",
       " {'id': '0814', 'name': '葫芦岛'},\n",
       " {'id': '2034', 'name': '化州'},\n",
       " {'id': '1912', 'name': '怀化'},\n",
       " {'id': '1304', 'name': '淮南'},\n",
       " {'id': '1306', 'name': '淮北'},\n",
       " {'id': '1810', 'name': '黄冈'},\n",
       " {'id': '1802', 'name': '黄石'},\n",
       " {'id': '1739', 'name': '济源'},\n",
       " {'id': '1008', 'name': '佳木斯'},\n",
       " {'id': '2329', 'name': '江油'},\n",
       " {'id': '2020', 'name': '揭阳'},\n",
       " {'id': '2803', 'name': '金昌'},\n",
       " {'id': '0807', 'name': '锦州'},\n",
       " {'id': '0605', 'name': '晋城'},\n",
       " {'id': '1414', 'name': '晋江'},\n",
       " {'id': '1807', 'name': '荆门'},\n",
       " {'id': '1809', 'name': '荆州'},\n",
       " {'id': '2521', 'name': '景洪'},\n",
       " {'id': '2809', 'name': '酒泉'},\n",
       " {'id': '3107', 'name': '喀什'},\n",
       " {'id': '1702', 'name': '开封'},\n",
       " {'id': '2520', 'name': '开远'},\n",
       " {'id': '2415', 'name': '凯里'},\n",
       " {'id': '1123', 'name': '昆山'},\n",
       " {'id': '2113', 'name': '来宾'},\n",
       " {'id': '2310', 'name': '乐山'},\n",
       " {'id': '2507', 'name': '临沧'},\n",
       " {'id': '2102', 'name': '柳州'},\n",
       " {'id': '0610', 'name': '临汾'},\n",
       " {'id': '1408', 'name': '龙岩'},\n",
       " {'id': '2812', 'name': '陇南'},\n",
       " {'id': '2304', 'name': '泸州'},\n",
       " {'id': '0611', 'name': '吕梁'},\n",
       " {'id': '1711', 'name': '漯河'},\n",
       " {'id': '0714', 'name': '满洲里'},\n",
       " {'id': '2009', 'name': '茂名'},\n",
       " {'id': '2012', 'name': '梅州'},\n",
       " {'id': '2312', 'name': '眉山'},\n",
       " {'id': '2328', 'name': '绵竹'},\n",
       " {'id': '2309', 'name': '内江'},\n",
       " {'id': '2311', 'name': '南充'},\n",
       " {'id': '1407', 'name': '南平'},\n",
       " {'id': '1713', 'name': '南阳'},\n",
       " {'id': '1409', 'name': '宁德'},\n",
       " {'id': '2303', 'name': '攀枝花'},\n",
       " {'id': '0811', 'name': '盘锦'},\n",
       " {'id': '2808', 'name': '平凉'},\n",
       " {'id': '1503', 'name': '萍乡'},\n",
       " {'id': '1709', 'name': '濮阳'},\n",
       " {'id': '1403', 'name': '莆田'},\n",
       " {'id': '2508', 'name': '普洱'},\n",
       " {'id': '1835', 'name': '潜江'},\n",
       " {'id': '2107', 'name': '钦州'},\n",
       " {'id': '2810', 'name': '庆阳'},\n",
       " {'id': '2204', 'name': '琼海'},\n",
       " {'id': '2502', 'name': '曲靖'},\n",
       " {'id': '2412', 'name': '仁怀'},\n",
       " {'id': '1645', 'name': '荣成'},\n",
       " {'id': '0531', 'name': '三河'},\n",
       " {'id': '1712', 'name': '三门峡'},\n",
       " {'id': '2013', 'name': '汕尾'},\n",
       " {'id': '2710', 'name': '商洛'},\n",
       " {'id': '1714', 'name': '商丘'},\n",
       " {'id': '1905', 'name': '邵阳'},\n",
       " {'id': '2002', 'name': '韶关'},\n",
       " {'id': '1803', 'name': '十堰'},\n",
       " {'id': '3115', 'name': '石河子'},\n",
       " {'id': '3002', 'name': '石嘴山'},\n",
       " {'id': '0903', 'name': '四平'},\n",
       " {'id': '0907', 'name': '松原'},\n",
       " {'id': '1012', 'name': '绥化'},\n",
       " {'id': '1312', 'name': '宿州'},\n",
       " {'id': '1812', 'name': '随州'},\n",
       " {'id': '2308', 'name': '遂宁'},\n",
       " {'id': '2026', 'name': '台山'},\n",
       " {'id': '1834', 'name': '天门'},\n",
       " {'id': '2805', 'name': '天水'},\n",
       " {'id': '0812', 'name': '铁岭'},\n",
       " {'id': '0905', 'name': '通化'},\n",
       " {'id': '0705', 'name': '通辽'},\n",
       " {'id': '2702', 'name': '铜川'},\n",
       " {'id': '1307', 'name': '铜陵'},\n",
       " {'id': '2413', 'name': '铜仁'},\n",
       " {'id': '0703', 'name': '乌海'},\n",
       " {'id': '0709', 'name': '乌兰察布'},\n",
       " {'id': '0722', 'name': '乌兰浩特'},\n",
       " {'id': '3101', 'name': '乌鲁木齐'},\n",
       " {'id': '2104', 'name': '梧州'},\n",
       " {'id': '2806', 'name': '武威'},\n",
       " {'id': '2335', 'name': '西昌'},\n",
       " {'id': '1833', 'name': '仙桃'},\n",
       " {'id': '1811', 'name': '咸宁'},\n",
       " {'id': '1808', 'name': '孝感'},\n",
       " {'id': '1707', 'name': '新乡'},\n",
       " {'id': '1505', 'name': '新余'},\n",
       " {'id': '1715', 'name': '信阳'},\n",
       " {'id': '2414', 'name': '兴义'},\n",
       " {'id': '1710', 'name': '许昌'},\n",
       " {'id': '2015', 'name': '阳江'},\n",
       " {'id': '0603', 'name': '阳泉'},\n",
       " {'id': '1007', 'name': '伊春'},\n",
       " {'id': '3114', 'name': '伊犁'},\n",
       " {'id': '1909', 'name': '益阳'},\n",
       " {'id': '1819', 'name': '宜都'},\n",
       " {'id': '0808', 'name': '营口'},\n",
       " {'id': '2109', 'name': '玉林'},\n",
       " {'id': '2503', 'name': '玉溪'},\n",
       " {'id': '2021', 'name': '云浮'},\n",
       " {'id': '0608', 'name': '运城'},\n",
       " {'id': '1823', 'name': '枣阳'},\n",
       " {'id': '2008', 'name': '湛江'},\n",
       " {'id': '2807', 'name': '张掖'},\n",
       " {'id': '3005', 'name': '中卫'},\n",
       " {'id': '1716', 'name': '周口'},\n",
       " {'id': '1223', 'name': '诸暨'},\n",
       " {'id': '1717', 'name': '驻马店'},\n",
       " {'id': '2318', 'name': '资阳'},\n",
       " {'id': '2302', 'name': '自贡'},\n",
       " {'id': '1640', 'name': '邹城'},\n",
       " {'id': '2403', 'name': '遵义'},\n",
       " {'id': '2505', 'name': '昭通'},\n",
       " {'id': '2037', 'name': '四会'},\n",
       " {'id': '1922', 'name': '临湘'},\n",
       " {'id': '1722', 'name': '荥阳'},\n",
       " {'id': '0719', 'name': '丰镇'},\n",
       " {'id': '2334', 'name': '简阳'},\n",
       " {'id': '1622', 'name': '莱西'},\n",
       " {'id': '1825', 'name': '钟祥'},\n",
       " {'id': '0712', 'name': '阿拉善盟'},\n",
       " {'id': '0511', 'name': '衡水'},\n",
       " {'id': '2314', 'name': '广安'},\n",
       " {'id': '2307', 'name': '广元'},\n",
       " {'id': '2316', 'name': '雅安'},\n",
       " {'id': '3003', 'name': '吴忠'},\n",
       " {'id': '0908', 'name': '白城'},\n",
       " {'id': '0904', 'name': '辽源'},\n",
       " {'id': '3124', 'name': '伊宁'},\n",
       " {'id': '3123', 'name': '博乐'},\n",
       " {'id': '3102', 'name': '克拉玛依'},\n",
       " {'id': '3106', 'name': '阿克苏'},\n",
       " {'id': '3120', 'name': '库尔勒'},\n",
       " {'id': '3112', 'name': '巴音郭楞'},\n",
       " {'id': '3125', 'name': '奎屯'},\n",
       " {'id': '3108', 'name': '塔城'},\n",
       " {'id': '1911', 'name': '永州'},\n",
       " {'id': '2208', 'name': '儋州'},\n",
       " {'id': '1009', 'name': '七台河'},\n",
       " {'id': '1004', 'name': '鹤岗'},\n",
       " {'id': '1011', 'name': '黑河'},\n",
       " {'id': '2811', 'name': '定西'},\n",
       " {'id': '0813', 'name': '朝阳'},\n",
       " {'id': '1638', 'name': '曲阜'},\n",
       " {'id': '1017', 'name': '讷河'},\n",
       " {'id': '1628', 'name': '招远'},\n",
       " {'id': '1647', 'name': '禹城'},\n",
       " {'id': '1419', 'name': '建瓯'},\n",
       " {'id': '1643', 'name': '乳山'},\n",
       " {'id': '1212', 'name': '建德'},\n",
       " {'id': '0929', 'name': '和龙'},\n",
       " {'id': '2116', 'name': '东兴'},\n",
       " {'id': '1031', 'name': '海伦'},\n",
       " {'id': '1736', 'name': '邓州'},\n",
       " {'id': '2027', 'name': '开平'},\n",
       " {'id': '1230', 'name': '江山'},\n",
       " {'id': '1620', 'name': '胶州'},\n",
       " {'id': '1514', 'name': '瑞金'},\n",
       " {'id': '1516', 'name': '井冈山'},\n",
       " {'id': '1719', 'name': '新郑'},\n",
       " {'id': '1218', 'name': '瑞安'},\n",
       " {'id': '2410', 'name': '清镇'},\n",
       " {'id': '1002', 'name': '齐齐哈尔'},\n",
       " {'id': '1817', 'name': '石首'},\n",
       " {'id': '2517', 'name': '安宁'},\n",
       " {'id': '1309', 'name': '黄山'},\n",
       " {'id': '1213', 'name': '富阳'},\n",
       " {'id': '2909', 'name': '德令哈'},\n",
       " {'id': '1228', 'name': '东阳'},\n",
       " {'id': '1224', 'name': '上虞'},\n",
       " {'id': '1828', 'name': '汉川'},\n",
       " {'id': '2817', 'name': '合作'},\n",
       " {'id': '2605', 'name': '那曲地区'},\n",
       " {'id': '0716', 'name': '扎兰屯'},\n",
       " {'id': '0912', 'name': '德惠'},\n",
       " {'id': '1729', 'name': '辉县'},\n",
       " {'id': '2035', 'name': '信宜'},\n",
       " {'id': '1024', 'name': '穆棱'},\n",
       " {'id': '3006', 'name': '灵武'},\n",
       " {'id': '2607', 'name': '林芝地区'},\n",
       " {'id': '1517', 'name': '丰城'},\n",
       " {'id': '1633', 'name': '诸城'},\n",
       " {'id': '1018', 'name': '密山'},\n",
       " {'id': '0707', 'name': '呼伦贝尔'},\n",
       " {'id': '1629', 'name': '蓬莱'},\n",
       " {'id': '1124', 'name': '吴江'},\n",
       " {'id': '1624', 'name': '滕州'},\n",
       " {'id': '1216', 'name': '慈溪'},\n",
       " {'id': '1016', 'name': '五常'},\n",
       " {'id': '0512', 'name': '辛集'},\n",
       " {'id': '1321', 'name': '界首'},\n",
       " {'id': '0914', 'name': '桦甸'},\n",
       " {'id': '1826', 'name': '应城'},\n",
       " {'id': '1025', 'name': '同江'},\n",
       " {'id': '1513', 'name': '瑞昌'},\n",
       " {'id': '1733', 'name': '长葛'},\n",
       " {'id': '1919', 'name': '耒阳'},\n",
       " {'id': '1013', 'name': '大兴安岭地区'},\n",
       " {'id': '1636', 'name': '高密'},\n",
       " {'id': '0913', 'name': '舒兰'},\n",
       " {'id': '1026', 'name': '富锦'},\n",
       " {'id': '3109', 'name': '阿勒泰'},\n",
       " {'id': '0817', 'name': '普兰店'},\n",
       " {'id': '1028', 'name': '五大连池'},\n",
       " {'id': '1214', 'name': '临安'},\n",
       " {'id': '2907', 'name': '玉树藏族自治州'},\n",
       " {'id': '0828', 'name': '开原'},\n",
       " {'id': '1136', 'name': '句容'},\n",
       " {'id': '2032', 'name': '吴川'},\n",
       " {'id': '1637', 'name': '昌邑'},\n",
       " {'id': '1728', 'name': '卫辉'},\n",
       " {'id': '0926', 'name': '敦化'},\n",
       " {'id': '2120', 'name': '合山'},\n",
       " {'id': '1720', 'name': '新密'},\n",
       " {'id': '0527', 'name': '任丘'},\n",
       " {'id': '1726', 'name': '舞钢'},\n",
       " {'id': '1721', 'name': '登封'},\n",
       " {'id': '1730', 'name': '沁阳'},\n",
       " {'id': '1139', 'name': '靖江'},\n",
       " {'id': '0710', 'name': '兴安盟'},\n",
       " {'id': '0522', 'name': '涿州'},\n",
       " {'id': '3126', 'name': '乌苏'},\n",
       " {'id': '0606', 'name': '朔州'},\n",
       " {'id': '1320', 'name': '明光'},\n",
       " {'id': '0533', 'name': '深州'},\n",
       " {'id': '2411', 'name': '赤水'},\n",
       " {'id': '0513', 'name': '藁城'},\n",
       " {'id': '2327', 'name': '什邡'},\n",
       " {'id': '2711', 'name': '兴平'},\n",
       " {'id': '0829', 'name': '凌源'},\n",
       " {'id': '2602', 'name': '昌都地区'},\n",
       " {'id': '1725', 'name': '汝州'},\n",
       " {'id': '1734', 'name': '义马'},\n",
       " {'id': '2323', 'name': '彭州'},\n",
       " {'id': '2713', 'name': '华阴'},\n",
       " {'id': '1928', 'name': '冷水江'},\n",
       " {'id': '0723', 'name': '阿尔山'},\n",
       " {'id': '1140', 'name': '兴化'},\n",
       " {'id': '3111', 'name': '博尔塔拉'},\n",
       " {'id': '1832', 'name': '广水'},\n",
       " {'id': '1222', 'name': '桐乡'},\n",
       " {'id': '1412', 'name': '永安'},\n",
       " {'id': '0925', 'name': '图们'},\n",
       " {'id': '0916', 'name': '磐石'},\n",
       " {'id': '1632', 'name': '青州'},\n",
       " {'id': '2041', 'name': '英德'},\n",
       " {'id': '1718', 'name': '巩义'},\n",
       " {'id': '1120', 'name': '常熟'},\n",
       " {'id': '0830', 'name': '北票'},\n",
       " {'id': '2206', 'name': '五指山'},\n",
       " {'id': '1515', 'name': '南康'},\n",
       " {'id': '0827', 'name': '调兵山'},\n",
       " {'id': '2606', 'name': '阿里地区'},\n",
       " {'id': '0516', 'name': '鹿泉'},\n",
       " {'id': '0718', 'name': '额尔古纳'},\n",
       " {'id': '2022', 'name': '从化'},\n",
       " {'id': '0919', 'name': '梅河口'},\n",
       " {'id': '1927', 'name': '洪江'},\n",
       " {'id': '0921', 'name': '临江'},\n",
       " {'id': '2036', 'name': '高要'},\n",
       " {'id': '2117', 'name': '桂平'},\n",
       " {'id': '1813', 'name': '恩施'},\n",
       " {'id': '1217', 'name': '奉化'},\n",
       " {'id': '2042', 'name': '连州'},\n",
       " {'id': '0717', 'name': '根河'},\n",
       " {'id': '1022', 'name': '宁安'},\n",
       " {'id': '1827', 'name': '安陆'},\n",
       " {'id': '3118', 'name': '五家渠'},\n",
       " {'id': '1116', 'name': '邳州'},\n",
       " {'id': '3119', 'name': '阿图什'},\n",
       " {'id': '0715', 'name': '牙克石'},\n",
       " {'id': '1916', 'name': '醴陵'},\n",
       " {'id': '1731', 'name': '孟州'},\n",
       " {'id': '0819', 'name': '海城'},\n",
       " {'id': '1416', 'name': '龙海'},\n",
       " {'id': '1646', 'name': '乐陵'},\n",
       " {'id': '0815', 'name': '新民'},\n",
       " {'id': '0824', 'name': '大石桥'},\n",
       " {'id': '0911', 'name': '榆树'},\n",
       " {'id': '2524', 'name': '瑞丽'},\n",
       " {'id': '1130', 'name': '大丰'},\n",
       " {'id': '1630', 'name': '栖霞'},\n",
       " {'id': '1128', 'name': '启东'},\n",
       " {'id': '2023', 'name': '增城'},\n",
       " {'id': '1421', 'name': '建阳'},\n",
       " {'id': '1818', 'name': '松滋'},\n",
       " {'id': '2033', 'name': '高州'},\n",
       " {'id': '1219', 'name': '乐清'},\n",
       " {'id': '1625', 'name': '龙口'},\n",
       " {'id': '1737', 'name': '永城'},\n",
       " {'id': '2509', 'name': '思茅'},\n",
       " {'id': '1724', 'name': '偃师'},\n",
       " {'id': '2325', 'name': '崇州'},\n",
       " {'id': '2119', 'name': '宜州'},\n",
       " {'id': '1114', 'name': '江阴'},\n",
       " {'id': '1226', 'name': '兰溪'},\n",
       " {'id': '3113', 'name': '克孜勒苏'},\n",
       " {'id': '2408', 'name': '黔东南苗族侗族自治州'},\n",
       " {'id': '1122', 'name': '太仓'},\n",
       " {'id': '1023', 'name': '海林'},\n",
       " {'id': '1233', 'name': '龙泉'},\n",
       " {'id': '2603', 'name': '山南地区'},\n",
       " {'id': '2203', 'name': '文昌'},\n",
       " {'id': '0706', 'name': '鄂尔多斯'},\n",
       " {'id': '1019', 'name': '虎林'},\n",
       " {'id': '2324', 'name': '邛崃'},\n",
       " {'id': '0918', 'name': '双辽'},\n",
       " {'id': '2406', 'name': '毕节地区'},\n",
       " {'id': '0826', 'name': '灯塔'},\n",
       " {'id': '0928', 'name': '珲春'},\n",
       " {'id': '2712', 'name': '韩城'},\n",
       " {'id': '2813', 'name': '临夏回族自治州'},\n",
       " {'id': '3117', 'name': '图木舒克'},\n",
       " {'id': '0924', 'name': '延吉'},\n",
       " {'id': '1131', 'name': '高邮'},\n",
       " {'id': '2040', 'name': '阳春'},\n",
       " {'id': '0831', 'name': '兴城'},\n",
       " {'id': '1030', 'name': '肇东'},\n",
       " {'id': '1621', 'name': '平度'},\n",
       " {'id': '1925', 'name': '沅江'},\n",
       " {'id': '1127', 'name': '海门'},\n",
       " {'id': '1926', 'name': '资兴'},\n",
       " {'id': '1618', 'name': '章丘'},\n",
       " {'id': '2523', 'name': '潞西'},\n",
       " {'id': '1137', 'name': '泰兴'},\n",
       " {'id': '3007', 'name': '青铜峡'},\n",
       " {'id': '1521', 'name': '贵溪'},\n",
       " {'id': '1635', 'name': '安丘'},\n",
       " {'id': '2028', 'name': '鹤山'},\n",
       " {'id': '0923', 'name': '洮南'},\n",
       " {'id': '0525', 'name': '高碑店'},\n",
       " {'id': '1115', 'name': '宜兴'},\n",
       " {'id': '1631', 'name': '海阳'},\n",
       " {'id': '1118', 'name': '金坛'},\n",
       " {'id': '1319', 'name': '天长'},\n",
       " {'id': '1134', 'name': '丹阳'},\n",
       " {'id': '2121', 'name': '凭祥'},\n",
       " {'id': '2815', 'name': '玉门'},\n",
       " {'id': '1020', 'name': '铁力'},\n",
       " {'id': '1639', 'name': '兖州'},\n",
       " {'id': '1220', 'name': '海宁'},\n",
       " {'id': '1822', 'name': '老河口'},\n",
       " {'id': '1824', 'name': '宜城'},\n",
       " {'id': '0816', 'name': '瓦房店'},\n",
       " {'id': '0515', 'name': '新乐'},\n",
       " {'id': '2320', 'name': '甘孜藏族自治州'},\n",
       " {'id': '2332', 'name': '华蓥'},\n",
       " {'id': '1119', 'name': '溧阳'},\n",
       " {'id': '2205', 'name': '万宁'},\n",
       " {'id': '1815', 'name': '丹江口'},\n",
       " {'id': '3103', 'name': '吐鲁番地区'},\n",
       " {'id': '1727', 'name': '林州'},\n",
       " {'id': '1117', 'name': '新沂'},\n",
       " {'id': '1417', 'name': '邵武'},\n",
       " {'id': '2030', 'name': '廉江'},\n",
       " {'id': '1820', 'name': '当阳'},\n",
       " {'id': '2902', 'name': '海东地区'},\n",
       " {'id': '1520', 'name': '德兴'},\n",
       " {'id': '2604', 'name': '日喀则地区'},\n",
       " {'id': '1723', 'name': '中牟'},\n",
       " {'id': '1413', 'name': '石狮'},\n",
       " {'id': '3105', 'name': '和田'},\n",
       " {'id': '2043', 'name': '普宁'},\n",
       " {'id': '3121', 'name': '阜康'},\n",
       " {'id': '3122', 'name': '米泉'},\n",
       " {'id': '1929', 'name': '涟源'},\n",
       " {'id': '1229', 'name': '永康'},\n",
       " {'id': '2333', 'name': '万源'},\n",
       " {'id': '2024', 'name': '乐昌'},\n",
       " {'id': '1215', 'name': '余姚'},\n",
       " {'id': '1021', 'name': '绥芬河'},\n",
       " {'id': '2518', 'name': '宣威'},\n",
       " {'id': '0721', 'name': '二连浩特'},\n",
       " {'id': '1918', 'name': '韶山'},\n",
       " {'id': '2118', 'name': '北流'},\n",
       " {'id': '1915', 'name': '浏阳'},\n",
       " {'id': '1642', 'name': '肥城'},\n",
       " {'id': '0927', 'name': '龙井'},\n",
       " {'id': '0922', 'name': '大安'},\n",
       " {'id': '0917', 'name': '公主岭'},\n",
       " {'id': '1415', 'name': '南安'},\n",
       " {'id': '1923', 'name': '汨罗'},\n",
       " {'id': '1015', 'name': '双城'},\n",
       " {'id': '1921', 'name': '武冈'},\n",
       " {'id': '2039', 'name': '陆丰'},\n",
       " {'id': '1027', 'name': '北安'},\n",
       " {'id': '1014', 'name': '尚志'},\n",
       " {'id': '1917', 'name': '湘乡'},\n",
       " {'id': '1317', 'name': '宣城'},\n",
       " {'id': '1829', 'name': '麻城'},\n",
       " {'id': '1814', 'name': '大冶'},\n",
       " {'id': '1232', 'name': '温岭'},\n",
       " {'id': '1644', 'name': '文登'},\n",
       " {'id': '2038', 'name': '兴宁'},\n",
       " {'id': '1423', 'name': '福鼎'},\n",
       " {'id': '1634', 'name': '寿光'},\n",
       " {'id': '2331', 'name': '阆中'},\n",
       " {'id': '1135', 'name': '扬中'},\n",
       " {'id': '1648', 'name': '临清'},\n",
       " {'id': '1627', 'name': '莱州'},\n",
       " {'id': '1816', 'name': '洪湖'},\n",
       " {'id': '0909', 'name': '延边'},\n",
       " {'id': '1512', 'name': '乐平'},\n",
       " {'id': '1318', 'name': '桐城'},\n",
       " {'id': '0503', 'name': '秦皇岛'},\n",
       " {'id': '2044', 'name': '罗定'},\n",
       " {'id': '1221', 'name': '平湖'},\n",
       " {'id': '1411', 'name': '长乐'},\n",
       " {'id': '1422', 'name': '福安'},\n",
       " {'id': '2816', 'name': '敦煌'},\n",
       " {'id': '3104', 'name': '哈密地区'},\n",
       " {'id': '1626', 'name': '莱阳'},\n",
       " {'id': '0915', 'name': '蛟河'},\n",
       " {'id': '2031', 'name': '雷州'},\n",
       " {'id': '1738', 'name': '项城'},\n",
       " {'id': '0825', 'name': '盖州'},\n",
       " {'id': '1519', 'name': '高安'},\n",
       " {'id': '1837', 'name': '神农架'},\n",
       " {'id': '1420', 'name': '漳平'},\n",
       " {'id': '0701', 'name': '呼和浩特'},\n",
       " {'id': '1518', 'name': '樟树'},\n",
       " {'id': '1836', 'name': '利川'},\n",
       " {'id': '1930', 'name': '吉首'},\n",
       " {'id': '0713', 'name': '霍林郭勒'},\n",
       " {'id': '1805', 'name': '襄樊'},\n",
       " {'id': '0820', 'name': '东港'},\n",
       " {'id': '0501', 'name': '石家庄'},\n",
       " {'id': '1732', 'name': '禹州'},\n",
       " {'id': '1129', 'name': '东台'},\n",
       " {'id': '1821', 'name': '枝江'},\n",
       " {'id': '1125', 'name': '如皋'},\n",
       " {'id': '1830', 'name': '武穴'},\n",
       " {'id': '1619', 'name': '胶南'},\n",
       " {'id': '0822', 'name': '凌海'},\n",
       " {'id': '1322', 'name': '宁国'},\n",
       " {'id': '0910', 'name': '九台'},\n",
       " {'id': '1735', 'name': '灵宝'},\n",
       " {'id': '1418', 'name': '武夷山'},\n",
       " {'id': '0818', 'name': '庄河'},\n",
       " {'id': '1133', 'name': '仪征'},\n",
       " {'id': '0514', 'name': '晋州'},\n",
       " {'id': '2417', 'name': '福泉'},\n",
       " {'id': '1641', 'name': '新泰'},\n",
       " {'id': '1029', 'name': '安达'},\n",
       " {'id': '1623', 'name': '即墨'},\n",
       " {'id': '1225', 'name': '嵊州'},\n",
       " {'id': '1924', 'name': '津市'},\n",
       " {'id': '1227', 'name': '义乌'},\n",
       " {'id': '1121', 'name': '张家港'},\n",
       " {'id': '0720', 'name': '锡林浩特'},\n",
       " {'id': '0711', 'name': '锡林郭勒盟'},\n",
       " {'id': '3116', 'name': '阿拉尔'},\n",
       " {'id': '2701', 'name': '西安'},\n",
       " {'id': '0506', 'name': '保定'},\n",
       " {'id': '2407', 'name': '黔西南布依族苗族自治州'},\n",
       " {'id': '1701', 'name': '郑州'},\n",
       " {'id': '1703', 'name': '洛阳'},\n",
       " {'id': '2516', 'name': '迪庆藏族自治州'},\n",
       " {'id': '2106', 'name': '防城港'},\n",
       " {'id': '1613', 'name': '临沂'},\n",
       " {'id': '0502', 'name': '唐山'},\n",
       " {'id': '1402', 'name': '厦门'},\n",
       " {'id': '0802', 'name': '大连'},\n",
       " {'id': '2704', 'name': '咸阳'},\n",
       " {'id': '2512', 'name': '西双版纳傣族自治州'},\n",
       " {'id': '1610', 'name': '威海'},\n",
       " {'id': '0801', 'name': '沈阳'},\n",
       " {'id': '0508', 'name': '承德'},\n",
       " {'id': '2801', 'name': '兰州'},\n",
       " {'id': '2703', 'name': '宝鸡'},\n",
       " {'id': '0601', 'name': '太原'},\n",
       " {'id': '1001', 'name': '哈尔滨'},\n",
       " {'id': '1901', 'name': '长沙'},\n",
       " {'id': '1202', 'name': '宁波'},\n",
       " {'id': '2401', 'name': '贵阳'},\n",
       " {'id': '0901', 'name': '长春'},\n",
       " {'id': '2003', 'name': '深圳'},\n",
       " {'id': '1203', 'name': '温州'},\n",
       " {'id': '1107', 'name': '连云港'},\n",
       " {'id': '2708', 'name': '榆林'},\n",
       " {'id': '2501', 'name': '昆明'},\n",
       " {'id': '1608', 'name': '济宁'},\n",
       " {'id': '0509', 'name': '沧州'},\n",
       " {'id': '2017', 'name': '东莞'},\n",
       " {'id': '1704', 'name': '平顶山'},\n",
       " {'id': '2202', 'name': '三亚'},\n",
       " {'id': '1206', 'name': '绍兴'},\n",
       " {'id': '2506', 'name': '丽江'},\n",
       " {'id': '1006', 'name': '大庆'},\n",
       " {'id': '1103', 'name': '徐州'},\n",
       " {'id': '02', 'name': '天津'},\n",
       " {'id': '2004', 'name': '珠海'},\n",
       " {'id': '2101', 'name': '南宁'},\n",
       " {'id': '1501', 'name': '南昌'},\n",
       " {'id': '1102', 'name': '无锡'},\n",
       " {'id': '1602', 'name': '青岛'},\n",
       " {'id': '0702', 'name': '包头'},\n",
       " {'id': '0607', 'name': '晋中'},\n",
       " {'id': '1401', 'name': '福州'},\n",
       " {'id': '0806', 'name': '丹东'},\n",
       " {'id': '0902', 'name': '吉林'},\n",
       " {'id': '0906', 'name': '白山'},\n",
       " {'id': '2201', 'name': '海口'},\n",
       " {'id': '1806', 'name': '鄂州'},\n",
       " {'id': '2103', 'name': '桂林'},\n",
       " {'id': '0609', 'name': '忻州'},\n",
       " {'id': '1609', 'name': '泰安'},\n",
       " {'id': '1405', 'name': '泉州'},\n",
       " {'id': '04', 'name': '重庆'},\n",
       " {'id': '1005', 'name': '双鸭山'},\n",
       " {'id': '1601', 'name': '济南'},\n",
       " {'id': '1302', 'name': '芜湖'},\n",
       " {'id': '0708', 'name': '巴彦淖尔'},\n",
       " {'id': '1615', 'name': '聊城'},\n",
       " {'id': '1606', 'name': '烟台'},\n",
       " {'id': '1607', 'name': '潍坊'},\n",
       " {'id': '1112', 'name': '泰州'},\n",
       " {'id': '1104', 'name': '常州'},\n",
       " {'id': '1305', 'name': '马鞍山'},\n",
       " {'id': '2018', 'name': '中山'},\n",
       " {'id': '1111', 'name': '镇江'},\n",
       " {'id': '2006', 'name': '佛山'},\n",
       " {'id': '1502', 'name': '景德镇'},\n",
       " {'id': '1204', 'name': '嘉兴'},\n",
       " {'id': '1604', 'name': '枣庄'},\n",
       " {'id': '1211', 'name': '丽水'},\n",
       " {'id': '1308', 'name': '安庆'},\n",
       " {'id': '1612', 'name': '莱芜'},\n",
       " {'id': '3001', 'name': '银川'},\n",
       " {'id': '0810', 'name': '辽阳'},\n",
       " {'id': '1106', 'name': '南通'},\n",
       " {'id': '1611', 'name': '日照'},\n",
       " {'id': '1205', 'name': '湖州'},\n",
       " {'id': '2016', 'name': '清远'},\n",
       " {'id': '1605', 'name': '东营'},\n",
       " {'id': '0510', 'name': '廊坊'},\n",
       " {'id': '2007', 'name': '江门'},\n",
       " {'id': '2010', 'name': '肇庆'},\n",
       " {'id': '1110', 'name': '扬州'},\n",
       " {'id': '1108', 'name': '淮安'},\n",
       " {'id': '1207', 'name': '金华'},\n",
       " {'id': '1614', 'name': '德州'},\n",
       " {'id': '1113', 'name': '宿迁'},\n",
       " {'id': '1210', 'name': '台州'},\n",
       " {'id': '1109', 'name': '盐城'},\n",
       " {'id': '1603', 'name': '淄博'},\n",
       " {'id': '1616', 'name': '滨州'},\n",
       " {'id': '2011', 'name': '惠州'},\n",
       " {'id': '1208', 'name': '衢州'},\n",
       " {'id': '1209', 'name': '舟山'},\n",
       " {'id': '2901', 'name': '西宁'},\n",
       " {'id': '2402', 'name': '六盘水'},\n",
       " {'id': '1010', 'name': '牡丹江'},\n",
       " {'id': '2510', 'name': '红河哈尼族彝族自治州'},\n",
       " {'id': '2908', 'name': '海西蒙古族藏族自治州'},\n",
       " {'id': '2409', 'name': '黔南布依族苗族自治州'},\n",
       " {'id': '1908', 'name': '张家界'},\n",
       " {'id': '2513', 'name': '大理白族自治州'},\n",
       " {'id': '1617', 'name': '菏泽'},\n",
       " {'id': '0507', 'name': '张家口'},\n",
       " {'id': '2709', 'name': '安康'},\n",
       " {'id': '2105', 'name': '北海'},\n",
       " {'id': '1303', 'name': '蚌埠'},\n",
       " {'id': '1310', 'name': '滁州'},\n",
       " {'id': '1907', 'name': '常德'},\n",
       " {'id': '2315', 'name': '达州'},\n",
       " {'id': '0602', 'name': '大同'},\n",
       " {'id': '1311', 'name': '阜阳'},\n",
       " {'id': '1510', 'name': '抚州'},\n",
       " {'id': '2001', 'name': '广州'},\n",
       " {'id': '1507', 'name': '赣州'},\n",
       " {'id': '0504', 'name': '邯郸'},\n",
       " {'id': '2707', 'name': '汉中'},\n",
       " {'id': '1904', 'name': '衡阳'},\n",
       " {'id': '1708', 'name': '焦作'},\n",
       " {'id': '1508', 'name': '吉安'},\n",
       " {'id': '2802', 'name': '嘉峪关'},\n",
       " {'id': '1504', 'name': '九江'},\n",
       " {'id': '1003', 'name': '鸡西'},\n",
       " {'id': '2601', 'name': '拉萨'},\n",
       " {'id': '1913', 'name': '娄底'},\n",
       " {'id': '1314', 'name': '六安'},\n",
       " {'id': '2306', 'name': '绵阳'},\n",
       " {'id': '1404', 'name': '三明'},\n",
       " {'id': '2005', 'name': '汕头'},\n",
       " {'id': '1511', 'name': '上饶'},\n",
       " {'id': '2705', 'name': '渭南'},\n",
       " {'id': '1903', 'name': '湘潭'},\n",
       " {'id': '0505', 'name': '邢台'},\n",
       " {'id': '2706', 'name': '延安'},\n",
       " {'id': '1906', 'name': '岳阳'},\n",
       " {'id': '2313', 'name': '宜宾'},\n",
       " {'id': '1509', 'name': '宜春'},\n",
       " {'id': '1804', 'name': '宜昌'},\n",
       " {'id': '1506', 'name': '鹰潭'},\n",
       " {'id': '1902', 'name': '株洲'},\n",
       " {'id': '1406', 'name': '漳州'},\n",
       " {'id': '03', 'name': '上海'},\n",
       " {'id': '01', 'name': '北京'},\n",
       " {'id': '1105', 'name': '苏州'},\n",
       " {'id': '1101', 'name': '南京'},\n",
       " {'id': '2301', 'name': '成都'},\n",
       " {'id': '1301', 'name': '合肥'},\n",
       " {'id': '1801', 'name': '武汉'},\n",
       " {'id': '1201', 'name': '杭州'},\n",
       " {'id': '2514', 'name': '德宏傣族景颇自治州'},\n",
       " {'id': '1231', 'name': '临海'},\n",
       " {'id': '2319', 'name': '阿坝藏族羌族自治州'},\n",
       " {'id': '2903', 'name': '海北藏族自治州'},\n",
       " {'id': '2906', 'name': '果洛藏族自治州'},\n",
       " {'id': '2905', 'name': '海南藏族自治州'},\n",
       " {'id': '2904', 'name': '黄南藏族自治州'},\n",
       " {'id': '1914', 'name': '湘西土家苗族自治区'},\n",
       " {'id': '2515', 'name': '怒江傈傈族自治州'},\n",
       " {'id': '2511', 'name': '文山壮族苗族自治州'},\n",
       " {'id': '3201', 'name': '香港特别行政区'},\n",
       " {'id': '2321', 'name': '凉山彝族自治州'},\n",
       " {'id': '2814', 'name': '甘南藏族自治州'},\n",
       " {'id': '3301', 'name': '澳门特别行政区'},\n",
       " {'id': '2404', 'name': '安顺'},\n",
       " {'id': '1705', 'name': '安阳'},\n",
       " {'id': '0803', 'name': '鞍山'},\n",
       " {'id': '2317', 'name': '巴中'},\n",
       " {'id': '2804', 'name': '白银'},\n",
       " {'id': '2110', 'name': '百色'},\n",
       " {'id': '2504', 'name': '保山'},\n",
       " {'id': '0805', 'name': '本溪'},\n",
       " {'id': '1315', 'name': '亳州'},\n",
       " {'id': '2115', 'name': '岑溪'},\n",
       " {'id': '3110', 'name': '昌吉'},\n",
       " {'id': '0604', 'name': '长治'},\n",
       " {'id': '1313', 'name': '巢湖'},\n",
       " {'id': '2019', 'name': '潮州'},\n",
       " {'id': '1831', 'name': '赤壁'},\n",
       " {'id': '1316', 'name': '池州'},\n",
       " {'id': '1910', 'name': '郴州'},\n",
       " {'id': '0704', 'name': '赤峰'},\n",
       " {'id': '2114', 'name': '崇左'},\n",
       " {'id': '2522', 'name': '楚雄'},\n",
       " {'id': '2305', 'name': '德阳'},\n",
       " {'id': '2207', 'name': '东方'},\n",
       " {'id': '2322', 'name': '都江堰'},\n",
       " {'id': '2416', 'name': '都匀'},\n",
       " {'id': '2330', 'name': '峨眉山'},\n",
       " {'id': '2029', 'name': '恩平'},\n",
       " {'id': '0821', 'name': '凤城'},\n",
       " {'id': '1410', 'name': '福清'},\n",
       " {'id': '0804', 'name': '抚顺'},\n",
       " {'id': '0809', 'name': '阜新'},\n",
       " {'id': '2910', 'name': '格尔木'},\n",
       " {'id': '2519', 'name': '个旧'},\n",
       " {'id': '3004', 'name': '固原'},\n",
       " {'id': '2326', 'name': '广汉'},\n",
       " {'id': '2108', 'name': '贵港'},\n",
       " {'id': '2112', 'name': '河池'},\n",
       " {'id': '2014', 'name': '河源'},\n",
       " {'id': '2111', 'name': '贺州'},\n",
       " {'id': '1706', 'name': '鹤壁'},\n",
       " {'id': '0814', 'name': '葫芦岛'},\n",
       " {'id': '2034', 'name': '化州'},\n",
       " {'id': '1912', 'name': '怀化'},\n",
       " {'id': '1304', 'name': '淮南'},\n",
       " {'id': '1306', 'name': '淮北'},\n",
       " {'id': '1810', 'name': '黄冈'},\n",
       " {'id': '1802', 'name': '黄石'},\n",
       " {'id': '1739', 'name': '济源'},\n",
       " {'id': '1008', 'name': '佳木斯'},\n",
       " {'id': '2329', 'name': '江油'},\n",
       " {'id': '2020', 'name': '揭阳'},\n",
       " {'id': '2803', 'name': '金昌'},\n",
       " {'id': '0807', 'name': '锦州'},\n",
       " {'id': '0605', 'name': '晋城'},\n",
       " {'id': '1414', 'name': '晋江'},\n",
       " {'id': '1807', 'name': '荆门'},\n",
       " {'id': '1809', 'name': '荆州'},\n",
       " {'id': '2521', 'name': '景洪'},\n",
       " {'id': '2809', 'name': '酒泉'},\n",
       " {'id': '3107', 'name': '喀什'},\n",
       " {'id': '1702', 'name': '开封'},\n",
       " {'id': '2520', 'name': '开远'},\n",
       " {'id': '2415', 'name': '凯里'},\n",
       " {'id': '1123', 'name': '昆山'},\n",
       " {'id': '2113', 'name': '来宾'},\n",
       " {'id': '2310', 'name': '乐山'},\n",
       " {'id': '2507', 'name': '临沧'},\n",
       " {'id': '2102', 'name': '柳州'},\n",
       " {'id': '0610', 'name': '临汾'},\n",
       " {'id': '1408', 'name': '龙岩'},\n",
       " {'id': '2812', 'name': '陇南'},\n",
       " {'id': '2304', 'name': '泸州'},\n",
       " {'id': '0611', 'name': '吕梁'},\n",
       " {'id': '1711', 'name': '漯河'},\n",
       " {'id': '0714', 'name': '满洲里'},\n",
       " {'id': '2009', 'name': '茂名'},\n",
       " {'id': '2012', 'name': '梅州'},\n",
       " {'id': '2312', 'name': '眉山'},\n",
       " {'id': '2328', 'name': '绵竹'},\n",
       " {'id': '2309', 'name': '内江'},\n",
       " {'id': '2311', 'name': '南充'},\n",
       " {'id': '1407', 'name': '南平'},\n",
       " {'id': '1713', 'name': '南阳'},\n",
       " {'id': '1409', 'name': '宁德'},\n",
       " {'id': '2303', 'name': '攀枝花'},\n",
       " {'id': '0811', 'name': '盘锦'},\n",
       " {'id': '2808', 'name': '平凉'},\n",
       " {'id': '1503', 'name': '萍乡'},\n",
       " {'id': '1709', 'name': '濮阳'},\n",
       " {'id': '1403', 'name': '莆田'},\n",
       " {'id': '2508', 'name': '普洱'},\n",
       " {'id': '1835', 'name': '潜江'},\n",
       " {'id': '2107', 'name': '钦州'},\n",
       " {'id': '2810', 'name': '庆阳'},\n",
       " {'id': '2204', 'name': '琼海'},\n",
       " {'id': '2502', 'name': '曲靖'},\n",
       " {'id': '2412', 'name': '仁怀'},\n",
       " {'id': '1645', 'name': '荣成'},\n",
       " {'id': '0531', 'name': '三河'},\n",
       " {'id': '1712', 'name': '三门峡'},\n",
       " {'id': '2013', 'name': '汕尾'},\n",
       " {'id': '2710', 'name': '商洛'},\n",
       " {'id': '1714', 'name': '商丘'},\n",
       " {'id': '1905', 'name': '邵阳'},\n",
       " {'id': '2002', 'name': '韶关'},\n",
       " {'id': '1803', 'name': '十堰'},\n",
       " {'id': '3115', 'name': '石河子'},\n",
       " {'id': '3002', 'name': '石嘴山'},\n",
       " {'id': '0903', 'name': '四平'},\n",
       " {'id': '0907', 'name': '松原'},\n",
       " {'id': '1012', 'name': '绥化'},\n",
       " {'id': '1312', 'name': '宿州'},\n",
       " {'id': '1812', 'name': '随州'},\n",
       " {'id': '2308', 'name': '遂宁'},\n",
       " {'id': '2026', 'name': '台山'},\n",
       " {'id': '1834', 'name': '天门'},\n",
       " {'id': '2805', 'name': '天水'},\n",
       " {'id': '0812', 'name': '铁岭'},\n",
       " {'id': '0905', 'name': '通化'},\n",
       " {'id': '0705', 'name': '通辽'},\n",
       " {'id': '2702', 'name': '铜川'},\n",
       " {'id': '1307', 'name': '铜陵'},\n",
       " {'id': '2413', 'name': '铜仁'},\n",
       " {'id': '0703', 'name': '乌海'},\n",
       " {'id': '0709', 'name': '乌兰察布'},\n",
       " {'id': '0722', 'name': '乌兰浩特'},\n",
       " {'id': '3101', 'name': '乌鲁木齐'},\n",
       " {'id': '2104', 'name': '梧州'},\n",
       " {'id': '2806', 'name': '武威'},\n",
       " {'id': '2335', 'name': '西昌'},\n",
       " {'id': '1833', 'name': '仙桃'},\n",
       " {'id': '1811', 'name': '咸宁'},\n",
       " {'id': '1808', 'name': '孝感'},\n",
       " {'id': '1707', 'name': '新乡'},\n",
       " {'id': '1505', 'name': '新余'},\n",
       " {'id': '1715', 'name': '信阳'},\n",
       " {'id': '2414', 'name': '兴义'},\n",
       " {'id': '1710', 'name': '许昌'},\n",
       " {'id': '2015', 'name': '阳江'},\n",
       " {'id': '0603', 'name': '阳泉'},\n",
       " {'id': '1007', 'name': '伊春'},\n",
       " {'id': '3114', 'name': '伊犁'},\n",
       " {'id': '1909', 'name': '益阳'},\n",
       " {'id': '1819', 'name': '宜都'},\n",
       " {'id': '0808', 'name': '营口'},\n",
       " {'id': '2109', 'name': '玉林'},\n",
       " {'id': '2503', 'name': '玉溪'},\n",
       " {'id': '2021', 'name': '云浮'},\n",
       " {'id': '0608', 'name': '运城'},\n",
       " {'id': '1823', 'name': '枣阳'},\n",
       " {'id': '2008', 'name': '湛江'},\n",
       " {'id': '2807', 'name': '张掖'},\n",
       " {'id': '3005', 'name': '中卫'},\n",
       " {'id': '1716', 'name': '周口'},\n",
       " {'id': '1223', 'name': '诸暨'},\n",
       " {'id': '1717', 'name': '驻马店'},\n",
       " {'id': '2318', 'name': '资阳'},\n",
       " {'id': '2302', 'name': '自贡'},\n",
       " {'id': '1640', 'name': '邹城'},\n",
       " {'id': '2403', 'name': '遵义'},\n",
       " {'id': '2505', 'name': '昭通'},\n",
       " {'id': '2037', 'name': '四会'},\n",
       " {'id': '1922', 'name': '临湘'},\n",
       " {'id': '1722', 'name': '荥阳'},\n",
       " {'id': '0719', 'name': '丰镇'},\n",
       " {'id': '2334', 'name': '简阳'},\n",
       " {'id': '1622', 'name': '莱西'},\n",
       " {'id': '1825', 'name': '钟祥'},\n",
       " {'id': '0712', 'name': '阿拉善盟'},\n",
       " {'id': '0511', 'name': '衡水'},\n",
       " {'id': '2314', 'name': '广安'},\n",
       " {'id': '2307', 'name': '广元'},\n",
       " {'id': '2316', 'name': '雅安'},\n",
       " {'id': '3003', 'name': '吴忠'},\n",
       " {'id': '0908', 'name': '白城'},\n",
       " {'id': '0904', 'name': '辽源'},\n",
       " {'id': '3124', 'name': '伊宁'},\n",
       " {'id': '3123', 'name': '博乐'},\n",
       " {'id': '3102', 'name': '克拉玛依'},\n",
       " {'id': '3106', 'name': '阿克苏'},\n",
       " {'id': '3120', 'name': '库尔勒'},\n",
       " {'id': '3112', 'name': '巴音郭楞'},\n",
       " {'id': '3125', 'name': '奎屯'},\n",
       " {'id': '3108', 'name': '塔城'},\n",
       " {'id': '1911', 'name': '永州'},\n",
       " {'id': '2208', 'name': '儋州'},\n",
       " {'id': '1009', 'name': '七台河'},\n",
       " {'id': '1004', 'name': '鹤岗'},\n",
       " {'id': '1011', 'name': '黑河'},\n",
       " {'id': '2811', 'name': '定西'},\n",
       " {'id': '0813', 'name': '朝阳'},\n",
       " {'id': '1638', 'name': '曲阜'},\n",
       " {'id': '1017', 'name': '讷河'},\n",
       " {'id': '1628', 'name': '招远'},\n",
       " {'id': '1647', 'name': '禹城'},\n",
       " {'id': '1419', 'name': '建瓯'},\n",
       " {'id': '1643', 'name': '乳山'},\n",
       " {'id': '1212', 'name': '建德'},\n",
       " {'id': '0929', 'name': '和龙'},\n",
       " {'id': '2116', 'name': '东兴'},\n",
       " {'id': '1031', 'name': '海伦'},\n",
       " {'id': '1736', 'name': '邓州'},\n",
       " {'id': '2027', 'name': '开平'},\n",
       " {'id': '1230', 'name': '江山'},\n",
       " {'id': '1620', 'name': '胶州'},\n",
       " {'id': '1514', 'name': '瑞金'},\n",
       " {'id': '1516', 'name': '井冈山'},\n",
       " {'id': '1719', 'name': '新郑'},\n",
       " {'id': '1218', 'name': '瑞安'},\n",
       " {'id': '2410', 'name': '清镇'},\n",
       " {'id': '1002', 'name': '齐齐哈尔'},\n",
       " {'id': '1817', 'name': '石首'},\n",
       " {'id': '2517', 'name': '安宁'},\n",
       " {'id': '1309', 'name': '黄山'},\n",
       " {'id': '1213', 'name': '富阳'},\n",
       " {'id': '2909', 'name': '德令哈'},\n",
       " {'id': '1228', 'name': '东阳'},\n",
       " {'id': '1224', 'name': '上虞'},\n",
       " {'id': '1828', 'name': '汉川'},\n",
       " {'id': '2817', 'name': '合作'},\n",
       " {'id': '2605', 'name': '那曲地区'},\n",
       " {'id': '0716', 'name': '扎兰屯'},\n",
       " {'id': '0912', 'name': '德惠'},\n",
       " {'id': '1729', 'name': '辉县'},\n",
       " {'id': '2035', 'name': '信宜'},\n",
       " {'id': '1024', 'name': '穆棱'},\n",
       " {'id': '3006', 'name': '灵武'},\n",
       " {'id': '2607', 'name': '林芝地区'},\n",
       " {'id': '1517', 'name': '丰城'},\n",
       " {'id': '1633', 'name': '诸城'},\n",
       " {'id': '1018', 'name': '密山'},\n",
       " {'id': '0707', 'name': '呼伦贝尔'},\n",
       " {'id': '1629', 'name': '蓬莱'},\n",
       " {'id': '1124', 'name': '吴江'},\n",
       " {'id': '1624', 'name': '滕州'},\n",
       " {'id': '1216', 'name': '慈溪'},\n",
       " {'id': '1016', 'name': '五常'},\n",
       " {'id': '0512', 'name': '辛集'},\n",
       " {'id': '1321', 'name': '界首'},\n",
       " {'id': '0914', 'name': '桦甸'},\n",
       " {'id': '1826', 'name': '应城'},\n",
       " {'id': '1025', 'name': '同江'},\n",
       " {'id': '1513', 'name': '瑞昌'},\n",
       " {'id': '1733', 'name': '长葛'},\n",
       " {'id': '1919', 'name': '耒阳'},\n",
       " {'id': '1013', 'name': '大兴安岭地区'},\n",
       " {'id': '1636', 'name': '高密'},\n",
       " {'id': '0913', 'name': '舒兰'},\n",
       " {'id': '1026', 'name': '富锦'},\n",
       " {'id': '3109', 'name': '阿勒泰'},\n",
       " {'id': '0817', 'name': '普兰店'},\n",
       " {'id': '1028', 'name': '五大连池'},\n",
       " {'id': '1214', 'name': '临安'},\n",
       " {'id': '2907', 'name': '玉树藏族自治州'},\n",
       " {'id': '0828', 'name': '开原'},\n",
       " {'id': '1136', 'name': '句容'},\n",
       " {'id': '2032', 'name': '吴川'},\n",
       " {'id': '1637', 'name': '昌邑'},\n",
       " {'id': '1728', 'name': '卫辉'},\n",
       " {'id': '0926', 'name': '敦化'},\n",
       " {'id': '2120', 'name': '合山'},\n",
       " {'id': '1720', 'name': '新密'},\n",
       " {'id': '0527', 'name': '任丘'},\n",
       " {'id': '1726', 'name': '舞钢'},\n",
       " {'id': '1721', 'name': '登封'},\n",
       " {'id': '1730', 'name': '沁阳'},\n",
       " {'id': '1139', 'name': '靖江'},\n",
       " {'id': '0710', 'name': '兴安盟'},\n",
       " {'id': '0522', 'name': '涿州'},\n",
       " {'id': '3126', 'name': '乌苏'},\n",
       " {'id': '0606', 'name': '朔州'},\n",
       " {'id': '1320', 'name': '明光'},\n",
       " {'id': '0533', 'name': '深州'},\n",
       " {'id': '2411', 'name': '赤水'},\n",
       " {'id': '0513', 'name': '藁城'},\n",
       " {'id': '2327', 'name': '什邡'},\n",
       " {'id': '2711', 'name': '兴平'},\n",
       " {'id': '0829', 'name': '凌源'},\n",
       " {'id': '2602', 'name': '昌都地区'},\n",
       " {'id': '1725', 'name': '汝州'},\n",
       " {'id': '1734', 'name': '义马'},\n",
       " {'id': '2323', 'name': '彭州'},\n",
       " {'id': '2713', 'name': '华阴'},\n",
       " {'id': '1928', 'name': '冷水江'},\n",
       " {'id': '0723', 'name': '阿尔山'},\n",
       " {'id': '1140', 'name': '兴化'},\n",
       " {'id': '3111', 'name': '博尔塔拉'},\n",
       " {'id': '1832', 'name': '广水'},\n",
       " {'id': '1222', 'name': '桐乡'},\n",
       " {'id': '1412', 'name': '永安'},\n",
       " {'id': '0925', 'name': '图们'},\n",
       " {'id': '0916', 'name': '磐石'},\n",
       " {'id': '1632', 'name': '青州'},\n",
       " {'id': '2041', 'name': '英德'},\n",
       " {'id': '1718', 'name': '巩义'},\n",
       " {'id': '1120', 'name': '常熟'},\n",
       " {'id': '0830', 'name': '北票'},\n",
       " {'id': '2206', 'name': '五指山'},\n",
       " {'id': '1515', 'name': '南康'},\n",
       " {'id': '0827', 'name': '调兵山'},\n",
       " {'id': '2606', 'name': '阿里地区'},\n",
       " {'id': '0516', 'name': '鹿泉'},\n",
       " {'id': '0718', 'name': '额尔古纳'},\n",
       " {'id': '2022', 'name': '从化'},\n",
       " {'id': '0919', 'name': '梅河口'},\n",
       " {'id': '1927', 'name': '洪江'},\n",
       " {'id': '0921', 'name': '临江'},\n",
       " {'id': '2036', 'name': '高要'},\n",
       " {'id': '2117', 'name': '桂平'},\n",
       " {'id': '1813', 'name': '恩施'},\n",
       " {'id': '1217', 'name': '奉化'},\n",
       " {'id': '2042', 'name': '连州'},\n",
       " {'id': '0717', 'name': '根河'},\n",
       " {'id': '1022', 'name': '宁安'},\n",
       " {'id': '1827', 'name': '安陆'},\n",
       " {'id': '3118', 'name': '五家渠'},\n",
       " {'id': '1116', 'name': '邳州'},\n",
       " {'id': '3119', 'name': '阿图什'},\n",
       " {'id': '0715', 'name': '牙克石'},\n",
       " {'id': '1916', 'name': '醴陵'},\n",
       " ...]"
      ]
     },
     "execution_count": 594,
     "metadata": {},
     "output_type": "execute_result"
    }
   ],
   "source": [
    "[i for i in city.find({},{'id':1,'name':1,'_id':0})]"
   ]
  },
  {
   "cell_type": "code",
   "execution_count": 566,
   "metadata": {
    "collapsed": false
   },
   "outputs": [],
   "source": [
    "lis=[]\n",
    "for item in bigdata:\n",
    "    lis.append(item['id'])\n",
    "    #print(item['id'])"
   ]
  },
  {
   "cell_type": "code",
   "execution_count": 584,
   "metadata": {
    "collapsed": false
   },
   "outputs": [],
   "source": [
    "data_set=set(lis)"
   ]
  },
  {
   "cell_type": "code",
   "execution_count": 588,
   "metadata": {
    "collapsed": false
   },
   "outputs": [],
   "source": [
    "data1=city.find({'id':data_set})\n",
    "data2=city.find({'id':data_set})"
   ]
  },
  {
   "cell_type": "code",
   "execution_count": null,
   "metadata": {
    "collapsed": false
   },
   "outputs": [],
   "source": []
  },
  {
   "cell_type": "code",
   "execution_count": 493,
   "metadata": {
    "collapsed": false
   },
   "outputs": [],
   "source": [
    "lis1=[]\n",
    "for ids in data_set:\n",
    "    lis1.append(city.find_one({'id':ids}))"
   ]
  },
  {
   "cell_type": "code",
   "execution_count": 497,
   "metadata": {
    "collapsed": false
   },
   "outputs": [
    {
     "data": {
      "text/plain": [
       "666"
      ]
     },
     "execution_count": 497,
     "metadata": {},
     "output_type": "execute_result"
    }
   ],
   "source": [
    "len(lis1)"
   ]
  },
  {
   "cell_type": "code",
   "execution_count": 498,
   "metadata": {
    "collapsed": false
   },
   "outputs": [
    {
     "data": {
      "text/plain": [
       "<pymongo.results.InsertManyResult at 0x7f211d5c31f8>"
      ]
     },
     "execution_count": 498,
     "metadata": {},
     "output_type": "execute_result"
    }
   ],
   "source": [
    "db.citys.insert_many(lis1)"
   ]
  },
  {
   "cell_type": "code",
   "execution_count": 504,
   "metadata": {
    "collapsed": true
   },
   "outputs": [],
   "source": [
    "lis=[]\n",
    "for item in bigdata:\n",
    "    del item['_id']\n",
    "    lis.append(item)"
   ]
  },
  {
   "cell_type": "code",
   "execution_count": 509,
   "metadata": {
    "collapsed": false
   },
   "outputs": [
    {
     "data": {
      "text/plain": [
       "list"
      ]
     },
     "execution_count": 509,
     "metadata": {},
     "output_type": "execute_result"
    }
   ],
   "source": [
    "type(lis)"
   ]
  },
  {
   "cell_type": "code",
   "execution_count": 510,
   "metadata": {
    "collapsed": true
   },
   "outputs": [],
   "source": [
    "from pandas import Series,DataFrame\n",
    "import pandas as pd"
   ]
  },
  {
   "cell_type": "code",
   "execution_count": 518,
   "metadata": {
    "collapsed": false
   },
   "outputs": [
    {
     "data": {
      "text/plain": [
       "RangeIndex(start=0, stop=4, step=1)"
      ]
     },
     "execution_count": 518,
     "metadata": {},
     "output_type": "execute_result"
    }
   ],
   "source": [
    "obj=Series([4,7,-5,3])\n",
    "obj.values\n",
    "obj.index"
   ]
  },
  {
   "cell_type": "code",
   "execution_count": 520,
   "metadata": {
    "collapsed": false
   },
   "outputs": [
    {
     "data": {
      "text/plain": [
       "0    4\n",
       "1    7\n",
       "3    3\n",
       "dtype: int64"
      ]
     },
     "execution_count": 520,
     "metadata": {},
     "output_type": "execute_result"
    }
   ],
   "source": [
    "obj[obj>2]"
   ]
  },
  {
   "cell_type": "code",
   "execution_count": 532,
   "metadata": {
    "collapsed": false
   },
   "outputs": [
    {
     "data": {
      "text/plain": [
       "id                                                       1201\n",
       "jianpin                                                    hz\n",
       "name                                                       杭州\n",
       "pinyin                                               hangzhou\n",
       "supplier    {'jiadianweixiu': {'zmn': '330100'}, 'guahao':...\n",
       "Name: haha, dtype: object"
      ]
     },
     "execution_count": 532,
     "metadata": {},
     "output_type": "execute_result"
    }
   ],
   "source": [
    "obj3=Series(item)\n",
    "obj3.index\n",
    "obj3.isnull()\n",
    "obj3.name='haha'\n",
    "obj3"
   ]
  },
  {
   "cell_type": "code",
   "execution_count": 548,
   "metadata": {
    "collapsed": false
   },
   "outputs": [
    {
     "ename": "TypeError",
     "evalue": "data argument can't be an iterator",
     "output_type": "error",
     "traceback": [
      "\u001b[0;31m---------------------------------------------------------------------------\u001b[0m",
      "\u001b[0;31mTypeError\u001b[0m                                 Traceback (most recent call last)",
      "\u001b[0;32m<ipython-input-548-5072c5c21a4b>\u001b[0m in \u001b[0;36m<module>\u001b[0;34m()\u001b[0m\n\u001b[0;32m----> 1\u001b[0;31m \u001b[0mobj4\u001b[0m\u001b[0;34m=\u001b[0m\u001b[0mDataFrame\u001b[0m\u001b[0;34m(\u001b[0m\u001b[0mbigdata\u001b[0m\u001b[0;34m)\u001b[0m\u001b[0;34m\u001b[0m\u001b[0m\n\u001b[0m\u001b[1;32m      2\u001b[0m \u001b[0mobj4\u001b[0m\u001b[0;34m\u001b[0m\u001b[0m\n",
      "\u001b[0;32m/usr/local/lib/python3.5/dist-packages/pandas/core/frame.py\u001b[0m in \u001b[0;36m__init__\u001b[0;34m(self, data, index, columns, dtype, copy)\u001b[0m\n\u001b[1;32m    323\u001b[0m                 \u001b[0mmgr\u001b[0m \u001b[0;34m=\u001b[0m \u001b[0mself\u001b[0m\u001b[0;34m.\u001b[0m\u001b[0m_init_dict\u001b[0m\u001b[0;34m(\u001b[0m\u001b[0;34m{\u001b[0m\u001b[0;34m}\u001b[0m\u001b[0;34m,\u001b[0m \u001b[0mindex\u001b[0m\u001b[0;34m,\u001b[0m \u001b[0mcolumns\u001b[0m\u001b[0;34m,\u001b[0m \u001b[0mdtype\u001b[0m\u001b[0;34m=\u001b[0m\u001b[0mdtype\u001b[0m\u001b[0;34m)\u001b[0m\u001b[0;34m\u001b[0m\u001b[0m\n\u001b[1;32m    324\u001b[0m         \u001b[0;32melif\u001b[0m \u001b[0misinstance\u001b[0m\u001b[0;34m(\u001b[0m\u001b[0mdata\u001b[0m\u001b[0;34m,\u001b[0m \u001b[0mcollections\u001b[0m\u001b[0;34m.\u001b[0m\u001b[0mIterator\u001b[0m\u001b[0;34m)\u001b[0m\u001b[0;34m:\u001b[0m\u001b[0;34m\u001b[0m\u001b[0m\n\u001b[0;32m--> 325\u001b[0;31m             \u001b[0;32mraise\u001b[0m \u001b[0mTypeError\u001b[0m\u001b[0;34m(\u001b[0m\u001b[0;34m\"data argument can't be an iterator\"\u001b[0m\u001b[0;34m)\u001b[0m\u001b[0;34m\u001b[0m\u001b[0m\n\u001b[0m\u001b[1;32m    326\u001b[0m         \u001b[0;32melse\u001b[0m\u001b[0;34m:\u001b[0m\u001b[0;34m\u001b[0m\u001b[0m\n\u001b[1;32m    327\u001b[0m             \u001b[0;32mtry\u001b[0m\u001b[0;34m:\u001b[0m\u001b[0;34m\u001b[0m\u001b[0m\n",
      "\u001b[0;31mTypeError\u001b[0m: data argument can't be an iterator"
     ]
    }
   ],
   "source": [
    "obj4=DataFrame(bigdata)\n",
    "obj4"
   ]
  },
  {
   "cell_type": "code",
   "execution_count": 547,
   "metadata": {
    "collapsed": true
   },
   "outputs": [
    {
     "data": {
      "text/plain": [
       "{'id': '1201',\n",
       " 'jianpin': 'hz',\n",
       " 'name': '杭州',\n",
       " 'pinyin': 'hangzhou',\n",
       " 'supplier': {'baojie': {'zmn': '330100'},\n",
       "  'dianying': {'gewara': '330100', 'kou': '119', 'zzw': 'hangzhou'},\n",
       "  'guahao': {'quyiyuan': '330100'},\n",
       "  'jiadianqingxi': {'zmn': '330100'},\n",
       "  'jiadianweixiu': {'zmn': '330100'},\n",
       "  'menpiao': {'lvmama': '杭州', 'tongcheng': '杭州'},\n",
       "  'piaowu': {'xishiqu': '571'},\n",
       "  'shengxian': {'yiguo': 'a10524be-acea-451e-9280-df0514e11e2b'},\n",
       "  'xianhua': {'tidy': '162'},\n",
       "  'zhuanche': {'yidao': 'hz'}}}"
      ]
     },
     "execution_count": 547,
     "metadata": {},
     "output_type": "execute_result"
    }
   ],
   "source": [
    "item"
   ]
  },
  {
   "cell_type": "code",
   "execution_count": 549,
   "metadata": {
    "collapsed": true
   },
   "outputs": [],
   "source": [
    "import requests"
   ]
  },
  {
   "cell_type": "code",
   "execution_count": 552,
   "metadata": {
    "collapsed": false
   },
   "outputs": [],
   "source": [
    "r=requests.get('https://github.com/timeline.json')"
   ]
  },
  {
   "cell_type": "code",
   "execution_count": 553,
   "metadata": {
    "collapsed": true
   },
   "outputs": [],
   "source": [
    "r=requests.post(\"http://httpbin.org/post\")"
   ]
  },
  {
   "cell_type": "code",
   "execution_count": 556,
   "metadata": {
    "collapsed": true
   },
   "outputs": [
    {
     "data": {
      "text/plain": [
       "{'args': {},\n",
       " 'data': '',\n",
       " 'files': {},\n",
       " 'form': {},\n",
       " 'headers': {'Accept': '*/*',\n",
       "  'Accept-Encoding': 'gzip, deflate',\n",
       "  'Content-Length': '0',\n",
       "  'Host': 'httpbin.org',\n",
       "  'User-Agent': 'python-requests/2.9.1'},\n",
       " 'json': None,\n",
       " 'origin': '27.115.24.210',\n",
       " 'url': 'http://httpbin.org/post'}"
      ]
     },
     "execution_count": 556,
     "metadata": {},
     "output_type": "execute_result"
    }
   ],
   "source": [
    "r.json()"
   ]
  },
  {
   "cell_type": "code",
   "execution_count": 2,
   "metadata": {
    "collapsed": true
   },
   "outputs": [
    {
     "name": "stdout",
     "output_type": "stream",
     "text": [
      "176\n"
     ]
    },
    {
     "data": {
      "text/plain": [
       "['【关八】景甜跟王思聪姐长得一模一样 扒神奇联系',\n",
       " '【Big笑工坊】盘点2016那些爆笑的新闻',\n",
       " '【papi酱】周一放送——2016余额不足',\n",
       " '实拍妈妈开车未察觉落下儿子 7岁娃追车跑2公里',\n",
       " '罗志祥梁小冰17年后再相聚 “梁祝”cp合体',\n",
       " '马云说：这5种人类创不了业做不了老板',\n",
       " '失控汽车飞速撞向商店 店主神反应瞬间死里逃生',\n",
       " '监拍男子银行遇劫匪 干倒劫匪后淡定取钱',\n",
       " '男友精心为女友准备礼物 开门瞬间女友泪目',\n",
       " '京东超市9.9限时抢购',\n",
       " '公狗铁轨勇救受伤母狗 不离不弃令人感动',\n",
       " '没有监控 你永远不知道牛原来这么的聪明',\n",
       " '胡歌模仿小飞流 不忘自黑二逼气质凸显',\n",
       " '老人养的母鸡产出“巨型蛋” 敲开一看惊呆了',\n",
       " '数男子广州当街杀狗烧狗 胆小者千万慎点',\n",
       " '舒淇笑称自己屁股大 肚子也快藏不住啦',\n",
       " '实拍大货车失控冲向人群 结果司机上演完美漂移',\n",
       " '震撼！中国火箭军10枚导弹齐射镜头首次公开',\n",
       " '渔猎查干湖 “大眼网”冬捕场面壮观  引千人围观',\n",
       " '纽约时代广场跨年水晶球简直亮瞎了 不看后悔',\n",
       " '网曝因不发年终奖 公司一员工鼓动全员打上司',\n",
       " '五问山东女大学生坠亡事件 内情究竟如何',\n",
       " '拒绝配合交警 女子叫嚣拍车窗给200元红包补偿',\n",
       " '煤气爆燃三人不幸丧命 事故起因竟扑朔迷离',\n",
       " '圣诞节悲剧：巴基斯坦32人饮用劣质酒丧生',\n",
       " '美国芝加哥经历“血腥假日”27起枪击12人死亡',\n",
       " '来自惯偷的自白：“拿东西不花钱好舒服啊！”',\n",
       " '深圳：共享单车乱停放 阻碍交通被强锁',\n",
       " '高劲松被控受贿1191万余元 向白恩培行贿200万',\n",
       " '真相：谎称一拳打死工友 法医出庭揭死因',\n",
       " '小心诈骗：春运抢票高峰 旅客需加防范',\n",
       " '狡猾的女毒贩 竟靠撒谎放跑了男朋友',\n",
       " '珍珠港事件幸存者追忆战争残酷 日方道歉',\n",
       " '换个视角看地球 效果绝对让你惊艳不已',\n",
       " '12306网站日浏览量超400亿次 查询量达250亿次',\n",
       " '台立法机构巨大争议声中通过同性婚姻初审',\n",
       " '2016年度盘点：锂离子电池爆炸事件',\n",
       " '二胎妈妈开家长会突然肚子痛 厕所产下男婴',\n",
       " '俄罗斯国防部：失事飞机一个黑匣子已经找到',\n",
       " '江西一男子病房殴打八旬病父竟咒其去死',\n",
       " '歪国牛人挑战鲱鱼罐头 榴莲 牛奶榨的汁',\n",
       " '【暴走漫画】如何解救非洲玩家 GTA5老司机发车这波溜',\n",
       " '【飞碟一分钟】一分钟教你应对事儿逼',\n",
       " '【袁超工作室】回顾经典举起手来穿帮大盘点',\n",
       " '【萝莉侃剧】废柴王爷和龅牙小宫女的二三事',\n",
       " '【猿创艺】二货女挑战专业跳水 差点摔出翔来',\n",
       " '【何仙姑夫】坑爹！2016年度最令人失望游戏榜',\n",
       " '22岁知名网络女歌手本兮逝世原因大猜测',\n",
       " '大话中国网红妹妹们的前世今生',\n",
       " '恶搞路人！张继科打电话来啦赶快接',\n",
       " '有没有女朋友关键看发型 奇葩发型你见过吗',\n",
       " '蜜汁少年体位逆天辣眼睛  看了就知道',\n",
       " '盘点我们错过的奇葩老师 你身边有吗',\n",
       " '一首逗比的讨债歌《年终初讨债》',\n",
       " '网络电影风向标之绝色美女的特工之路',\n",
       " '小片片说大片 最搞笑的越狱片《同居牢友》',\n",
       " '国宝就是不一样  生个崽子都这么呆萌',\n",
       " '令人震惊！盘点2016年度奇葩精英',\n",
       " '《美人私房菜》尼玛秀恩爱，单身狗来搅局',\n",
       " '深扒2016娱乐圈最有话题的那些明星们',\n",
       " '黄晓明欲撇孕妻与旧爱跨年 同框画面曝光',\n",
       " '陈乔恩挽男子曝新恋情？那是她的亲哥哥',\n",
       " '成龙斥某演员拍2场戏喊累 黄子韬张艺兴中枪',\n",
       " '大张伟对“大”的执念 连内裤都印个“大”字',\n",
       " '梁祝cp再相聚！梁小冰罗志祥分享床戏趣闻',\n",
       " '林志颖俩儿子看圣诞树乐开花 表情亮了',\n",
       " '鹿晗超级话题阅读量破千亿 晒照发性感福利',\n",
       " '苏打绿休团前回顾13年路 自侃是“疯癫乐团”',\n",
       " '锦荣被传10月泡夜店搂妹 蔡依林闺蜜曝分手内幕',\n",
       " '钟汉良隐婚生子再曝光 远赴台湾与妻两度同框',\n",
       " '陈妍希产后首次晒自拍：十天没洗头此刻却幸福',\n",
       " '星战系列主演凯丽·费雪病逝 落地前15分钟突发心脏病',\n",
       " '李小璐盛装打扮出门 遭甜馨抱大腿求带走',\n",
       " '王宝强和美女看球 叶璇：我介绍的',\n",
       " '王思聪揭秘王菲天价演唱会：谁买谁是脑残粉',\n",
       " '舒淇公开了！ 终于回应孕事：“我…”',\n",
       " '邓超曝彭于晏爱亲男人 “超哥”一秒变“超叔”',\n",
       " '宋小宝拖家带口离京 偶遇林丹变粉丝热聊不断',\n",
       " '全世界最可怕的动物是什么？吴宗宪竟这样说',\n",
       " '孙杨和郭天王同船画面太美 自曝害怕带毛动物',\n",
       " '5分钟带你回顾2016最狗血事件【囧闻一箩筐】',\n",
       " '2016年度奇葩司机颁奖盛典【囧闻一箩筐】',\n",
       " '【何仙姑夫】年度神曲三分钟回顾2016热门事件',\n",
       " '盘点2016年十大最火女明星【畅姐哔哔哔】',\n",
       " '盘点历年春晚小鲜肉 tfboys鹿晗强势加盟17年春晚',\n",
       " '这首歌要火，三分钟看完《2016年度流行语》',\n",
       " '盘点2016那些爆笑新闻【唐唐脱口秀】',\n",
       " '盘点全球出轨率最高的国家【笑料百出】',\n",
       " '盘点2016年最悲剧的照片【笑料百出】',\n",
       " '【电影天下盘点】2016最值得期待的电影',\n",
       " '【萝莉侃剧】2016年古装国剧年终大赏',\n",
       " '盘点那些蠢哭的女司机',\n",
       " '【囧闻一箩筐】“金星”犀利点评2016最辣眼直播',\n",
       " '有毒！2016年度最魔性表情包诞生【囧闻一箩筐】',\n",
       " '【毒舌电影】100位好莱坞女星羞羞大盘点',\n",
       " '【萝莉侃剧】国产动漫要上天 17年国产动漫盘点',\n",
       " '法航海家创单人帆船环球航行最快纪录',\n",
       " '阿扎尔果然是大腿！ 20秒挑战带着门将都能赢',\n",
       " '感动全场！阿根廷拳王KO中国小将后跪地致歉',\n",
       " '今日红魔苦于锋无力？来看小禁区之王曾如何蹂躏英超',\n",
       " '中泰大战广西小将汗洒拳台点胜卫冕 泰老将连遭重击',\n",
       " '步行者85-90公牛_韦德21分读秒关键抢断暴扣终结',\n",
       " '干脆利落！ 欧文借掩护干拔三分命中',\n",
       " '沙佩科恩斯空难由人为过失造成',\n",
       " '斯特林造点又造乌龙 曼城完胜副班长',\n",
       " 'CBA全明星赛首发名单',\n",
       " '暖心满满！众球星圣诞节化身暖男走访街区送福利',\n",
       " '2016全球极限运动一分钟',\n",
       " '布拉德利关键抢断_绿衫军险胜凯尔特人',\n",
       " '节礼日大战一触即发 豪门抢分刻不容缓',\n",
       " '开场仅仅2秒钟解决战斗！悍将高扫腿爆头KO秒杀对手',\n",
       " '令人欢呼雀跃的冰球比赛',\n",
       " '女排主力魏秋月接受男友求婚 排球女神嫁给了教练',\n",
       " '隆达-罗西:希望之火不会被熄灭',\n",
       " '外国达人玩转花式台球 各种障碍走位眼花缭乱',\n",
       " '外国极限滑雪者与雪崩比赛',\n",
       " '【我的世界】1.11到底加了什么新东西？【MaxKim】',\n",
       " '【独播】【小瓜瓜274】脸都打肿了！新型打脸萨满就是这么猛！',\n",
       " '主播真会玩守望篇21：电子竞技没有女粉丝！',\n",
       " '【英雄联盟爆笑集锦】小鱼人千里走单骑送泉水',\n",
       " '小包子：【爆笑生化】刀尸连杀惨被秒T',\n",
       " '起小D守望Top10 VOL29 逆袭！大锤的甩锅之战！',\n",
       " 'LOL坑爹碉堡集锦：全场最佳 拉克丝一大四杀',\n",
       " '300英雄剪辑 萌神绅子 不会飞的黑衣',\n",
       " '宅男福利：妹子人数过半的游戏',\n",
       " '普及LOL九年义务教务【木有话说】第一期',\n",
       " 'Fate Grand Order 茨木童子600w 月明湖 花明湖 稳定斩杀',\n",
       " '【守望先锋】小美的西班牙语的技能语音',\n",
       " '《精灵宝可梦太阳月亮》5个倒计时任务NPC位置',\n",
       " '【花少北】抖M！体验被美少女辱骂的感觉',\n",
       " '【暗影之拳】阿卡丽重做试玩--技能全解读',\n",
       " '欧气护体 崩坏3十连抽加二单抽，看我都抽到了什么',\n",
       " '炉石传说 流言终结者第23期 阵亡的随从也能被埋葬？',\n",
       " '不看到最后一秒不知道结局系列！',\n",
       " '【揶揄】IOS手游《僵尸危机:生死之战》攻略向——15级红副本·食人族营地微伤刷图',\n",
       " 'Show wow先锋：红发拳姐，粒子屏障',\n",
       " '艾薇儿在Youtube点击率最高的MV排名一览',\n",
       " '甄子丹跨界联手金曲歌王萧敬腾演绎《决绝的信仰》',\n",
       " '[原创电音] 最佳国产电音 迷幻旋律新特效版本',\n",
       " '《那些年我们唱串了的歌》全程笑点？？？',\n",
       " 'Ed Sheeran献唱电影《星运里的错》All Of The Stars',\n",
       " 'Alan Walker最新作品《Routine》官方MV公开',\n",
       " '《呐呐呐》乔任梁 内心和外在的纠缠',\n",
       " 'Comme une ombre 中法字幕',\n",
       " '【李宇春】炫舞梦工厂in-Music群星盛典饭拍版',\n",
       " '徐佳莹演唱会同名主题曲《是日救星》首发',\n",
       " '邓紫棋经典曲目《单行的轨道》歌唱实力了得',\n",
       " '鹿晗《勋章》 穿上西服太帅了',\n",
       " 'Seventeen新曲《Boom Boom》舞蹈版MV公开',\n",
       " '“侧田”真正回归 亲自创作全新单曲《幸福止痛》',\n",
       " 'Merry Christmas, Happy Holidays现场版',\n",
       " 'SEASONS MV公开&花絮 GACKT',\n",
       " 'Ariana Grande助阵stevie wonder献唱《欢乐好声音》',\n",
       " '国内新晋走红的数学摇滚乐队《宇宙蛋》',\n",
       " '民谣现场，昕雅组合翻唱《牙齿与爱情》',\n",
       " '电影《爸爸的3次婚礼》终极预告 张亮& 董洁',\n",
       " '【抹茶美妆】谁比HACCI花绮更懂女人',\n",
       " '【尤果】Coser顾北COS萝莉赫斯缇雅 萌妹子也有事业线',\n",
       " '女星斗艳 最性感的不是柳岩张馨予竟是她！',\n",
       " '刘诗诗穿古装抱玩偶 清纯可爱眼神宠溺',\n",
       " '舒淇上衣宽松现身记者会 坚称自己没怀孕',\n",
       " '吴昕：文能认真做ICON 武能搞怪扮鬼脸',\n",
       " '刘亦菲宋佳这么穿西装 中性风太强气场炸裂',\n",
       " '李小璐重回颜值巅峰 穿短皮裙秀嫩白筷子腿',\n",
       " '张天爱机场造型成穿衣典范 网友：衣服哪买的我也要',\n",
       " '谢娜变安静的美女子 实力驾驭土豪金羽绒服',\n",
       " '黑色显瘦人人皆知 只有戚薇一个穿得时髦',\n",
       " '葛天圣诞收大捧红玫瑰 自拍笑甜长腿十分抢镜',\n",
       " '赵丽颖“小蛮腰”不盈一握 细数性感当红“腰精”',\n",
       " '金小妹圣诞扮千手观音 性感比基尼坐祥云瑜伽',\n",
       " '巩俐章子怡舒淇罕见旧照 美人温润如玉',\n",
       " '满脸胶原蛋白！关晓彤皮衣短裙尽显帅气甜美',\n",
       " '“最性感足球宝贝”拍摄火辣圣诞半裸写真',\n",
       " '性感超模天使面孔魔鬼身材 比基尼写真性感爆棚',\n",
       " '便宜穿出明星范儿 Jessica Lin',\n",
       " '张惠妹瘦回巅峰 艺人果然都是胖着玩的']"
      ]
     },
     "execution_count": 2,
     "metadata": {},
     "output_type": "execute_result"
    }
   ],
   "source": [
    "#正则表达式练习\n",
    "import requests\n",
    "import re\n",
    "r=requests.get(r'http://v.baidu.com/?fr=bd')\n",
    "p1='href=\".+?\" target=\"_blank\" class=\"title\" static=\"stp=ti\">.+?</a>'\n",
    "pattern1=re.compile(p1)\n",
    "data_list=pattern1.findall(r.text)\n",
    "s=re.compile(p1[-8:])\n",
    "data=[]\n",
    "for i in data_list:\n",
    "    data.append(s.findall(i)[0][1:-4])\n",
    "print(len(data))\n",
    "([x for x in data])"
   ]
  },
  {
   "cell_type": "code",
   "execution_count": 1,
   "metadata": {
    "collapsed": false
   },
   "outputs": [
    {
     "data": {
      "text/plain": [
       "[]"
      ]
     },
     "execution_count": 1,
     "metadata": {},
     "output_type": "execute_result"
    }
   ],
   "source": [
    "import requests\n",
    "import re\n",
    "r=requests.get(r'http://v.baidu.com/?fr=bd')\n",
    "p1='(?<=href=)\".+?\"(?=target=\"_blank\" )(?<=class=\"title\" static=\"stp=ti\">).+?(?=</a>)'\n",
    "pattern1=re.compile(p1)\n",
    "data=pattern1.findall(r.text)\n",
    "[x for x in data]"
   ]
  }
 ],
 "metadata": {
  "kernelspec": {
   "display_name": "Python 3",
   "language": "python",
   "name": "python3"
  },
  "language_info": {
   "codemirror_mode": {
    "name": "ipython",
    "version": 3
   },
   "file_extension": ".py",
   "mimetype": "text/x-python",
   "name": "python",
   "nbconvert_exporter": "python",
   "pygments_lexer": "ipython3",
   "version": "3.5.2"
  }
 },
 "nbformat": 4,
 "nbformat_minor": 2
}
