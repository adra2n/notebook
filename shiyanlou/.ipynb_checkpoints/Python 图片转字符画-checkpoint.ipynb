{
 "cells": [
  {
   "cell_type": "code",
   "execution_count": 1,
   "metadata": {
    "collapsed": true
   },
   "outputs": [],
   "source": [
    "from PIL import Image\n",
    "import argparse"
   ]
  },
  {
   "cell_type": "code",
   "execution_count": 2,
   "metadata": {
    "collapsed": false,
    "scrolled": true
   },
   "outputs": [
    {
     "name": "stderr",
     "output_type": "stream",
     "text": [
      "usage: __main__.py [-h] [-o OUTPUT] [--width WIDTH] [--height HEIGHT] file\n",
      "__main__.py: error: unrecognized arguments: -f\n"
     ]
    },
    {
     "ename": "SystemExit",
     "evalue": "2",
     "output_type": "error",
     "traceback": [
      "An exception has occurred, use %tb to see the full traceback.\n",
      "\u001b[0;31mSystemExit\u001b[0m\u001b[0;31m:\u001b[0m 2\n"
     ]
    },
    {
     "name": "stderr",
     "output_type": "stream",
     "text": [
      "/usr/local/lib/python3.5/dist-packages/IPython/core/interactiveshell.py:2889: UserWarning: To exit: use 'exit', 'quit', or Ctrl-D.\n",
      "  warn(\"To exit: use 'exit', 'quit', or Ctrl-D.\", stacklevel=1)\n"
     ]
    }
   ],
   "source": [
    "parser=argparse.ArgumentParser()\n",
    "\n",
    "parser.add_argument('file')\n",
    "parser.add_argument('-o','--output')\n",
    "parser.add_argument('--width',type=int,default=80)\n",
    "parser.add_argument('--height',type=int,default=80)\n",
    "\n",
    "args=parser.parse_args()\n",
    "\n",
    "IMG=args.file\n",
    "WIDTH=args.width\n",
    "HEIGHT=args.height\n",
    "OUTPUT=args.output\n",
    "\n",
    "ascii_char = list(\"$@B%8&WM#*oahkbdpqwmZO0QLCJUYXzcvunxrjft/\\|()1{}[]?-_+~<>i!lI;:,\\\"^`'. \")"
   ]
  },
  {
   "cell_type": "code",
   "execution_count": null,
   "metadata": {
    "collapsed": true
   },
   "outputs": [],
   "source": [
    "def get_char(r,g,b,alpha=256):\n",
    "    if alpha==0:\n",
    "        return ' '\n",
    "    length=len(ascii_char)\n",
    "    gray=int(0.2126*r+0.7152*g+0.0722*b)\n",
    "    \n",
    "    unit=(256.0+1)/length\n",
    "    return ascii_char[int(gray/unit)]"
   ]
  },
  {
   "cell_type": "code",
   "execution_count": null,
   "metadata": {
    "collapsed": true
   },
   "outputs": [],
   "source": [
    "if __name__ == '__main__':\n",
    "\n",
    "    im = Image.open(IMG)\n",
    "    im = im.resize((WIDTH,HEIGHT), Image.NEAREST)\n",
    "\n",
    "    txt = \"\"\n",
    "\n",
    "    for i in range(HEIGHT):\n",
    "        for j in range(WIDTH):\n",
    "            txt += get_char(*im.getpixel((j,i)))\n",
    "        txt += '\\n'\n",
    "\n",
    "    print(txt)\n",
    "\n",
    "    #字符画输出到文件\n",
    "    if OUTPUT:\n",
    "        with open(OUTPUT,'w') as f:\n",
    "            f.write(txt)\n",
    "    else:\n",
    "        with open(\"output.txt\",'w') as f:\n",
    "            f.write(txt)"
   ]
  }
 ],
 "metadata": {
  "kernelspec": {
   "display_name": "Python 3",
   "language": "python",
   "name": "python3"
  },
  "language_info": {
   "codemirror_mode": {
    "name": "ipython",
    "version": 3
   },
   "file_extension": ".py",
   "mimetype": "text/x-python",
   "name": "python",
   "nbconvert_exporter": "python",
   "pygments_lexer": "ipython3",
   "version": "3.5.2"
  }
 },
 "nbformat": 4,
 "nbformat_minor": 2
}
