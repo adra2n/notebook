{
 "cells": [
  {
   "cell_type": "code",
   "execution_count": 58,
   "metadata": {},
   "outputs": [
    {
     "name": "stdout",
     "output_type": "stream",
     "text": [
      "8AC69F6DC2B9915EEBEA7AD3852F1E999300AEEAA87D3C11A9DE3587F54431DF282438B7C62761B2805792AD42C3D2682A444B53638100CD5405A8778C04C13E28D816FCA414800AFA8CB84E0310F7C0EECF122131D9AC29B692CD39E6F01B81140AC3092282553CF36A934A6B0E428A8F33DD9EC0D21440F45E977A701F6814908F7DF0A4829DBB6D670157C0023670\n",
      "{\"airportCode\": \"LGW\", \"arrAddressPoi\": \"51.4681393,-0.3578945\", \"depAddressPoi\": \"51.153588,-0.182063\", \"serviceTime\": \"2017-12-01 12:00:00\"}\n"
     ]
    }
   ],
   "source": [
    "import binascii\n",
    "import json\n",
    "from pyDes import des, PAD_PKCS5, ECB\n",
    "\n",
    "def des_encrypt(s):\n",
    "    \"\"\"\n",
    "    DES 加密\n",
    "    :param s: 原始字符串\n",
    "    :return: 加密后字符串，16进制\n",
    "    \"\"\"\n",
    "    secret_key = '12345678'\n",
    "    iv = secret_key\n",
    "    k = des(secret_key, ECB, iv, pad=None, padmode=PAD_PKCS5)\n",
    "    en = k.encrypt(s, padmode=PAD_PKCS5)\n",
    "    return binascii.b2a_hex(en).upper().decode()\n",
    "\n",
    "\n",
    "def des_descrypt(s):\n",
    "    \"\"\"\n",
    "    DES 解密\n",
    "    :param s: 加密后的字符串，16进制\n",
    "    :return:  解密后的字符串\n",
    "    \"\"\"\n",
    "    secret_key = '12345678'\n",
    "    iv = secret_key\n",
    "    k = des(secret_key, ECB, iv, pad=None, padmode=PAD_PKCS5)\n",
    "    de = k.decrypt(binascii.a2b_hex(s), padmode=PAD_PKCS5)\n",
    "    return de.decode()\n",
    "\n",
    "\n",
    "s={\"airportCode\":\"LGW\",\"arrAddressPoi\":\"51.4681393,-0.3578945\",\"depAddressPoi\":\"51.153588,-0.182063\",\"serviceTime\":\"2017-12-01 12:00:00\"}\n",
    "str_en = des_encrypt(str(s).replace('\\'','\\\"'))\n",
    "print(str_en)\n",
    "print(des_descrypt(str_en))\n"
   ]
  }
 ],
 "metadata": {
  "kernelspec": {
   "display_name": "Python 3",
   "language": "python",
   "name": "python3"
  },
  "language_info": {
   "codemirror_mode": {
    "name": "ipython",
    "version": 3
   },
   "file_extension": ".py",
   "mimetype": "text/x-python",
   "name": "python",
   "nbconvert_exporter": "python",
   "pygments_lexer": "ipython3",
   "version": "3.6.0"
  }
 },
 "nbformat": 4,
 "nbformat_minor": 2
}
