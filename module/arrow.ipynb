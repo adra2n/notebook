{
 "cells": [
  {
   "cell_type": "code",
   "execution_count": 50,
   "metadata": {},
   "outputs": [
    {
     "name": "stdout",
     "output_type": "stream",
     "text": [
      "1534925571 2018-08-22 16:12:51\n"
     ]
    }
   ],
   "source": [
    "import arrow\n",
    "import time\n",
    "import datetime\n",
    "\n",
    "timestamp = int(time.time())\n",
    "timestr = time.strftime('%Y-%m-%d %H:%M:%S',time.localtime(timestamp))\n",
    "print(timestamp,timestr)"
   ]
  },
  {
   "cell_type": "code",
   "execution_count": 52,
   "metadata": {},
   "outputs": [
    {
     "data": {
      "text/plain": [
       "datetime.datetime(2018, 8, 22, 16, 12, 51)"
      ]
     },
     "execution_count": 52,
     "metadata": {},
     "output_type": "execute_result"
    }
   ],
   "source": [
    "df = datetime.datetime.fromtimestamp(timestamp)\n",
    "df"
   ]
  },
  {
   "cell_type": "code",
   "execution_count": 35,
   "metadata": {},
   "outputs": [
    {
     "data": {
      "text/plain": [
       "'2018-08-21 17:16:07'"
      ]
     },
     "execution_count": 35,
     "metadata": {},
     "output_type": "execute_result"
    }
   ],
   "source": [
    "datetime.strftime(df,'%Y-%m-%d %H:%M:%S')"
   ]
  },
  {
   "cell_type": "code",
   "execution_count": 41,
   "metadata": {
    "scrolled": true
   },
   "outputs": [
    {
     "data": {
      "text/plain": [
       "<Arrow [2018-08-21T09:16:07+00:00]>"
      ]
     },
     "execution_count": 41,
     "metadata": {},
     "output_type": "execute_result"
    }
   ],
   "source": [
    "arrow.get(timestamp)"
   ]
  },
  {
   "cell_type": "code",
   "execution_count": 53,
   "metadata": {
    "scrolled": true
   },
   "outputs": [
    {
     "name": "stdout",
     "output_type": "stream",
     "text": [
      "days is  17765\n"
     ]
    },
    {
     "data": {
      "text/plain": [
       "1534954371"
      ]
     },
     "execution_count": 53,
     "metadata": {},
     "output_type": "execute_result"
    }
   ],
   "source": [
    "EPOCH = 1970\n",
    "_EPOCH_ORD = datetime.date(EPOCH, 1, 1).toordinal()\n",
    "\n",
    "\n",
    "def timegm(tuple):\n",
    "    \"\"\"Unrelated but handy function to calculate Unix timestamp from GMT.\"\"\"\n",
    "    year, month, day, hour, minute, second = tuple[:6]\n",
    "    days = datetime.date(year, month, 1).toordinal() - _EPOCH_ORD + day - 1\n",
    "    print('days is ', days)\n",
    "    hours = days*24 + hour\n",
    "    minutes = hours*60 + minute\n",
    "    seconds = minutes*60 + second\n",
    "\n",
    "    return seconds\n",
    "timegm(df.timetuple())"
   ]
  },
  {
   "cell_type": "code",
   "execution_count": 62,
   "metadata": {},
   "outputs": [],
   "source": [
    "class Ltime(object):\n",
    "\n",
    "    def __init__(self, struct_time):\n",
    "        self._struct_time = struct_time\n",
    "        self._format = \"%Y-%m-%d %H:%M:%S\"\n",
    "\n",
    "    @property\n",
    "    def timestamp(self):\n",
    "        return time.mktime(self._struct_time)\n",
    "\n",
    "    @property\n",
    "    def strftime(self):\n",
    "        return time.strftime(self._format, self._struct_time)\n"
   ]
  },
  {
   "cell_type": "code",
   "execution_count": 67,
   "metadata": {},
   "outputs": [
    {
     "data": {
      "text/plain": [
       "<__main__.Ltime at 0x7f58cd9fc438>"
      ]
     },
     "execution_count": 67,
     "metadata": {},
     "output_type": "execute_result"
    }
   ],
   "source": [
    "tt = time.localtime()\n",
    "Ltime(tt)"
   ]
  }
 ],
 "metadata": {
  "kernelspec": {
   "display_name": "Python 3",
   "language": "python",
   "name": "python3"
  },
  "language_info": {
   "codemirror_mode": {
    "name": "ipython",
    "version": 3
   },
   "file_extension": ".py",
   "mimetype": "text/x-python",
   "name": "python",
   "nbconvert_exporter": "python",
   "pygments_lexer": "ipython3",
   "version": "3.6.0"
  }
 },
 "nbformat": 4,
 "nbformat_minor": 2
}
