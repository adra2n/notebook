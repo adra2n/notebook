{
 "cells": [
  {
   "cell_type": "markdown",
   "metadata": {},
   "source": [
    "A Simple Measurement Class"
   ]
  },
  {
   "cell_type": "code",
   "execution_count": 16,
   "metadata": {},
   "outputs": [],
   "source": [
    "import numpy as np\n",
    "from time import sleep\n",
    "\n",
    "class OhmLaw:\n",
    "    def make_measurement(self, start, stop, num_points, delay):\n",
    "        x_axis = np.linspace(start, stop, num_points)\n",
    "        # x_axis is array([0. , 0.1, 0.2, 0.3, 0.4, 0.5, 0.6, 0.7, 0.8, 0.9, 1. ])\n",
    "        data = []\n",
    "        for i in x_axis:\n",
    "            # Acquire fake data\n",
    "            data.append(np.random.random())\n",
    "            print(i)\n",
    "            sleep(delay)\n",
    "\n",
    "        return data"
   ]
  },
  {
   "cell_type": "code",
   "execution_count": 2,
   "metadata": {},
   "outputs": [
    {
     "name": "stdout",
     "output_type": "stream",
     "text": [
      "[0.3858728875205667, 0.16773482048839783, 0.2557377491882338, 0.6419437474416863, 0.9251809143459032, 0.6805657286334555, 0.44544954110223667, 0.5310997902118663, 0.13345887386651345, 0.5408519766949175, 0.06253833822740529]\n"
     ]
    }
   ],
   "source": [
    "ohm = OhmLaw()\n",
    "result = ohm.make_measurement(0,1,11,1)\n",
    "print(result)"
   ]
  },
  {
   "cell_type": "markdown",
   "metadata": {},
   "source": [
    "Running the measurement in a non-blocking way"
   ]
  },
  {
   "cell_type": "code",
   "execution_count": null,
   "metadata": {},
   "outputs": [],
   "source": [
    "import threading\n",
    "\n",
    "ohm = OhmLaw()\n",
    "\n",
    "t = threading.Thread(target=ohm.make_measurement, args=(0,1,11,1))\n",
    "t.start()\n",
    "print('Triggered measurement')"
   ]
  },
  {
   "cell_type": "code",
   "execution_count": null,
   "metadata": {},
   "outputs": [],
   "source": [
    "import threading\n",
    "ohm = OhmLaw()\n",
    "\n",
    "t = threading.Thread(target=ohm.make_measurement, args=(0,1,11,1))\n",
    "t.start()\n",
    "print('Triggered measurement')\n",
    "i = 0\n",
    "while t.is_alive():\n",
    "    i += 1\n",
    "#     print('Acquiring {}\\r'.format('.'*i), end=' ')\n",
    "    sleep(0.5)"
   ]
  }
 ],
 "metadata": {
  "kernelspec": {
   "display_name": "Python 3",
   "language": "python",
   "name": "python3"
  },
  "language_info": {
   "codemirror_mode": {
    "name": "ipython",
    "version": 3
   },
   "file_extension": ".py",
   "mimetype": "text/x-python",
   "name": "python",
   "nbconvert_exporter": "python",
   "pygments_lexer": "ipython3",
   "version": "3.6.0"
  }
 },
 "nbformat": 4,
 "nbformat_minor": 2
}
