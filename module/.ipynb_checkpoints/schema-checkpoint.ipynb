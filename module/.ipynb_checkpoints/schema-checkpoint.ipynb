{
 "cells": [
  {
   "cell_type": "code",
   "execution_count": 54,
   "metadata": {},
   "outputs": [],
   "source": [
    "from schema import Schema, And, Use, Optional, Or\n",
    "import json"
   ]
  },
  {
   "cell_type": "code",
   "execution_count": 3,
   "metadata": {},
   "outputs": [],
   "source": [
    "schema = Schema(\n",
    "    [\n",
    "        {\n",
    "            'name': And(str, len),\n",
    "            'age':  And(Use(int), lambda n: 18 <= n <= 99),\n",
    "            Optional('gender'): And(str, Use(str.lower), lambda s: s in ('squid', 'kid'))\n",
    "        }\n",
    "    ]\n",
    ")"
   ]
  },
  {
   "cell_type": "code",
   "execution_count": 4,
   "metadata": {},
   "outputs": [],
   "source": [
    "data = [{'name': 'Sue', 'age': '28', 'gender': 'Squid'},\n",
    "        {'name': 'Sam', 'age': '42'},\n",
    "        {'name': 'Sacha', 'age': '20', 'gender': 'KID'}]"
   ]
  },
  {
   "cell_type": "code",
   "execution_count": 6,
   "metadata": {},
   "outputs": [
    {
     "data": {
      "text/plain": [
       "[{'age': 28, 'gender': 'squid', 'name': 'Sue'},\n",
       " {'age': 42, 'name': 'Sam'},\n",
       " {'age': 20, 'gender': 'kid', 'name': 'Sacha'}]"
      ]
     },
     "execution_count": 6,
     "metadata": {},
     "output_type": "execute_result"
    }
   ],
   "source": [
    "validated = schema.validate(data)\n",
    "validated"
   ]
  },
  {
   "cell_type": "code",
   "execution_count": 10,
   "metadata": {},
   "outputs": [
    {
     "data": {
      "text/plain": [
       "[{'a': 1}]"
      ]
     },
     "execution_count": 10,
     "metadata": {},
     "output_type": "execute_result"
    }
   ],
   "source": [
    "Schema(object).validate([{'a':1}])"
   ]
  },
  {
   "cell_type": "code",
   "execution_count": 16,
   "metadata": {},
   "outputs": [
    {
     "data": {
      "text/plain": [
       "1"
      ]
     },
     "execution_count": 16,
     "metadata": {},
     "output_type": "execute_result"
    }
   ],
   "source": [
    "def test(a):\n",
    "    return True\n",
    "Schema(test).validate(1)"
   ]
  },
  {
   "cell_type": "code",
   "execution_count": 34,
   "metadata": {},
   "outputs": [
    {
     "data": {
      "text/plain": [
       "123.0"
      ]
     },
     "execution_count": 34,
     "metadata": {},
     "output_type": "execute_result"
    }
   ],
   "source": [
    "Schema(lambda n: n > 0).validate(123.0)"
   ]
  },
  {
   "cell_type": "code",
   "execution_count": 38,
   "metadata": {
    "scrolled": true
   },
   "outputs": [
    {
     "data": {
      "text/plain": [
       "123"
      ]
     },
     "execution_count": 38,
     "metadata": {},
     "output_type": "execute_result"
    }
   ],
   "source": [
    "Schema(Or(int,float)).validate(123)"
   ]
  },
  {
   "cell_type": "code",
   "execution_count": null,
   "metadata": {},
   "outputs": [],
   "source": [
    "Schema(Or(And(int,float), lambda x: x == \"test\")).validate(1.0)"
   ]
  },
  {
   "cell_type": "code",
   "execution_count": 40,
   "metadata": {},
   "outputs": [
    {
     "data": {
      "text/plain": [
       "{'name': 'Sam'}"
      ]
     },
     "execution_count": 40,
     "metadata": {},
     "output_type": "execute_result"
    }
   ],
   "source": [
    "schema = Schema(\n",
    "    {'name': str}, \n",
    "    ignore_extra_keys=True\n",
    ")\n",
    "schema.validate({'name': 'Sam', 'age': '42'})"
   ]
  },
  {
   "cell_type": "code",
   "execution_count": 41,
   "metadata": {},
   "outputs": [],
   "source": [
    "gist = '''{\"description\": \"the description for this gist\",\n",
    "            \"public\": true,\n",
    "            \"files\": {\n",
    "            \"file1.txt\": {\"content\": \"String file contents\"},\n",
    "            \"other.txt\": {\"content\": \"Another file contents\"}}}'''"
   ]
  },
  {
   "cell_type": "code",
   "execution_count": 45,
   "metadata": {},
   "outputs": [],
   "source": [
    "gist_schema = Schema(\n",
    "    And(\n",
    "        Use(json.loads),  # first convert from JSON\n",
    "        # use basestring since json returns unicode\n",
    "        {\n",
    "            Optional('description'): str,\n",
    "            'public': bool,\n",
    "            'files': {\n",
    "                str: {'content': str}\n",
    "            }\n",
    "        }\n",
    "    )\n",
    ")"
   ]
  },
  {
   "cell_type": "code",
   "execution_count": 46,
   "metadata": {},
   "outputs": [
    {
     "data": {
      "text/plain": [
       "{'description': 'the description for this gist',\n",
       " 'files': {'file1.txt': {'content': 'String file contents'},\n",
       "  'other.txt': {'content': 'Another file contents'}},\n",
       " 'public': True}"
      ]
     },
     "execution_count": 46,
     "metadata": {},
     "output_type": "execute_result"
    }
   ],
   "source": [
    "gist_schema.validate(gist)"
   ]
  },
  {
   "cell_type": "code",
   "execution_count": 53,
   "metadata": {},
   "outputs": [
    {
     "data": {
      "text/plain": [
       "{'foo': 'hello'}"
      ]
     },
     "execution_count": 53,
     "metadata": {},
     "output_type": "execute_result"
    }
   ],
   "source": [
    "schema = Schema(\n",
    "    And(\n",
    "        Use(json.loads), \n",
    "        {'foo': str},\n",
    "        ignore_extra_keys=True\n",
    "    ), \n",
    ")\n",
    "schema = Schema(And(Use(json.loads), {'foo': str}, ignore_extra_keys=True))\n",
    "woops = json.dumps({'foo': 'hello', 'bar': 'asdf'})\n",
    "schema.validate(woops)"
   ]
  },
  {
   "cell_type": "code",
   "execution_count": 57,
   "metadata": {},
   "outputs": [],
   "source": [
    "item = {'deliverName': '',\n",
    " 'deliverNo': '',\n",
    " 'desc': '订单关闭',\n",
    " 'isLimit': False,\n",
    " 'limitReason': '',\n",
    " 'orderId': '2018040320480000701197522',\n",
    " 'skuList': [{'buyCnt': 2,\n",
    "              'skuid': '13285677-ecc4090b639c47f89b453980923afb8e'}],\n",
    " 'status': 7}\n",
    "schema = Schema(\n",
    "    {\n",
    "        \"deliverNo\":object,\n",
    "        \"desc\":object,\n",
    "        \"isLimit\":object,\n",
    "        \"limitReason\":object\n",
    "    },\n",
    "    ignore_extra_keys=True\n",
    ")\n"
   ]
  },
  {
   "cell_type": "code",
   "execution_count": 56,
   "metadata": {},
   "outputs": [
    {
     "data": {
      "text/plain": [
       "{'deliverNo': '', 'desc': '订单关闭', 'isLimit': False, 'limitReason': ''}"
      ]
     },
     "execution_count": 56,
     "metadata": {},
     "output_type": "execute_result"
    }
   ],
   "source": [
    "schema.validate(item)"
   ]
  }
 ],
 "metadata": {
  "kernelspec": {
   "display_name": "Python 3",
   "language": "python",
   "name": "python3"
  },
  "language_info": {
   "codemirror_mode": {
    "name": "ipython",
    "version": 3
   },
   "file_extension": ".py",
   "mimetype": "text/x-python",
   "name": "python",
   "nbconvert_exporter": "python",
   "pygments_lexer": "ipython3",
   "version": "3.6.0"
  }
 },
 "nbformat": 4,
 "nbformat_minor": 2
}
