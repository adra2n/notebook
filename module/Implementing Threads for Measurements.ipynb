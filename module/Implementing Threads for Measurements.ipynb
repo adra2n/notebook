{
 "cells": [
  {
   "cell_type": "markdown",
   "metadata": {},
   "source": [
    "A Simple Measurement Class"
   ]
  },
  {
   "cell_type": "code",
   "execution_count": 16,
   "metadata": {},
   "outputs": [],
   "source": [
    "import numpy as np\n",
    "from time import sleep\n",
    "\n",
    "class OhmLaw:\n",
    "    def make_measurement(self, start, stop, num_points, delay):\n",
    "        x_axis = np.linspace(start, stop, num_points)\n",
    "        # x_axis is array([0. , 0.1, 0.2, 0.3, 0.4, 0.5, 0.6, 0.7, 0.8, 0.9, 1. ])\n",
    "        data = []\n",
    "        for i in x_axis:\n",
    "            # Acquire fake data\n",
    "            data.append(np.random.random())\n",
    "            print(i)\n",
    "            sleep(delay)\n",
    "\n",
    "        return data"
   ]
  },
  {
   "cell_type": "code",
   "execution_count": 2,
   "metadata": {},
   "outputs": [
    {
     "name": "stdout",
     "output_type": "stream",
     "text": [
      "[0.3858728875205667, 0.16773482048839783, 0.2557377491882338, 0.6419437474416863, 0.9251809143459032, 0.6805657286334555, 0.44544954110223667, 0.5310997902118663, 0.13345887386651345, 0.5408519766949175, 0.06253833822740529]\n"
     ]
    }
   ],
   "source": [
    "ohm = OhmLaw()\n",
    "result = ohm.make_measurement(0,1,11,1)\n",
    "print(result)"
   ]
  },
  {
   "cell_type": "markdown",
   "metadata": {},
   "source": [
    "Running the measurement in a non-blocking way"
   ]
  },
  {
   "cell_type": "code",
   "execution_count": null,
   "metadata": {},
   "outputs": [],
   "source": [
    "import threading\n",
    "\n",
    "ohm = OhmLaw()\n",
    "\n",
    "t = threading.Thread(target=ohm.make_measurement, args=(0,1,11,1))\n",
    "t.start()\n",
    "print('Triggered measurement')"
   ]
  },
  {
   "cell_type": "code",
   "execution_count": null,
   "metadata": {},
   "outputs": [],
   "source": [
    "import threading\n",
    "ohm = OhmLaw()\n",
    "\n",
    "t = threading.Thread(target=ohm.make_measurement, args=(0,1,11,1))\n",
    "t.start()\n",
    "print('Triggered measurement')\n",
    "i = 0\n",
    "while t.is_alive():\n",
    "    i += 1\n",
    "#     print('Acquiring {}\\r'.format('.'*i), end=' ')\n",
    "    sleep(0.5)"
   ]
  },
  {
   "cell_type": "markdown",
   "metadata": {},
   "source": [
    "Plotting Results During Acquisition"
   ]
  },
  {
   "cell_type": "code",
   "execution_count": 19,
   "metadata": {},
   "outputs": [],
   "source": [
    "class OhmLaw:\n",
    "    def __init__(self):\n",
    "        self.data = np.zeros(0)  # To store the data of the measurement\n",
    "        self.step = 0  # To keep track of the step\n",
    "\n",
    "    def make_measurement(self, start, stop, num_points, delay):\n",
    "        x_axis = np.linspace(start, stop, num_points)\n",
    "        self.data = np.zeros(num_points)\n",
    "        self.step = 0\n",
    "        for i in x_axis:\n",
    "            # Acquire fake data\n",
    "            self.data[self.step] = np.random.random()\n",
    "            self.step += 1\n",
    "            sleep(delay)\n",
    "\n",
    "        return self.data"
   ]
  },
  {
   "cell_type": "code",
   "execution_count": 20,
   "metadata": {},
   "outputs": [
    {
     "name": "stdout",
     "output_type": "stream",
     "text": [
      "Triggered measurement\n",
      "Latest data value: 0.5750724551755285\n",
      "Latest data value: 0.7208976469213002\n",
      "Latest data value: 0.42881312611031885\n",
      "Latest data value: 0.5679690498531803\n",
      "Latest data value: 0.29527330012822406\n",
      "Latest data value: 0.3866829954014256\n",
      "Latest data value: 0.7192731493991904\n",
      "Latest data value: 0.23044967540595052\n",
      "Latest data value: 0.6302280454837901\n",
      "Latest data value: 0.8933349212421788\n"
     ]
    }
   ],
   "source": [
    "import threading\n",
    "ohm = OhmLaw()\n",
    "\n",
    "t = threading.Thread(target=ohm.make_measurement, args=(0,1,11,1))\n",
    "t.start()\n",
    "print('Triggered measurement')\n",
    "i = ohm.step\n",
    "while t.is_alive():\n",
    "    if i != ohm.step:\n",
    "        print('Latest data value: {}'.format(ohm.data[ohm.step-1]))\n",
    "        i = ohm.step"
   ]
  },
  {
   "cell_type": "code",
   "execution_count": 22,
   "metadata": {},
   "outputs": [
    {
     "name": "stdout",
     "output_type": "stream",
     "text": [
      "Triggered measurement\n",
      "Number of points acquired: 1\n",
      "Number of points acquired: 3\n",
      "Number of points acquired: 5\n",
      "Number of points acquired: 7\n",
      "Number of points acquired: 9\n"
     ]
    }
   ],
   "source": [
    "import threading\n",
    "ohm = OhmLaw()\n",
    "\n",
    "t = threading.Thread(target=ohm.make_measurement, args=(0,1,11,1))\n",
    "t.start()\n",
    "print('Triggered measurement')\n",
    "i = ohm.step\n",
    "while t.is_alive():\n",
    "    if i != ohm.step:\n",
    "        print('Number of points acquired: {}'.format(ohm.step-1))\n",
    "        i = ohm.step\n",
    "    sleep(2)"
   ]
  },
  {
   "cell_type": "markdown",
   "metadata": {},
   "source": [
    "Multiple Threads"
   ]
  },
  {
   "cell_type": "code",
   "execution_count": 23,
   "metadata": {},
   "outputs": [
    {
     "name": "stderr",
     "output_type": "stream",
     "text": [
      "Exception in thread Thread-12:\n",
      "Traceback (most recent call last):\n",
      "  File \"/usr/local/python3/lib/python3.6/threading.py\", line 916, in _bootstrap_inner\n",
      "    self.run()\n",
      "  File \"/usr/local/python3/lib/python3.6/threading.py\", line 864, in run\n",
      "    self._target(*self._args, **self._kwargs)\n",
      "  File \"<ipython-input-19-13782624f148>\", line 12, in make_measurement\n",
      "    self.data[self.step] = np.random.random()\n",
      "IndexError: index 20 is out of bounds for axis 0 with size 20\n",
      "\n"
     ]
    }
   ],
   "source": [
    "meas_1 = threading.Thread(target=ohm.make_measurement, args=(0, 1, 11, 1))\n",
    "meas_1.start()\n",
    "meas_2 = threading.Thread(target=ohm.make_measurement, args=(0, 1, 20, 1))\n",
    "meas_2.start()"
   ]
  },
  {
   "cell_type": "code",
   "execution_count": null,
   "metadata": {},
   "outputs": [],
   "source": []
  }
 ],
 "metadata": {
  "kernelspec": {
   "display_name": "Python 3",
   "language": "python",
   "name": "python3"
  },
  "language_info": {
   "codemirror_mode": {
    "name": "ipython",
    "version": 3
   },
   "file_extension": ".py",
   "mimetype": "text/x-python",
   "name": "python",
   "nbconvert_exporter": "python",
   "pygments_lexer": "ipython3",
   "version": "3.6.0"
  }
 },
 "nbformat": 4,
 "nbformat_minor": 2
}
