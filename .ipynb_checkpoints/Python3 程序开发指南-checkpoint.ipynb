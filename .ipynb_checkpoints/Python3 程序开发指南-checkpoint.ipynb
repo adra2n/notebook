{
 "cells": [
  {
   "cell_type": "markdown",
   "metadata": {},
   "source": [
    "### 4.2.2自定义异常\n",
    "\n",
    "+ 自定义异常的一个用途是跳出深层嵌套的循环\n",
    "\n",
    "如：某个表格对象存放记录（行），每个记录有很多字段（列），每个字段有很多值（项），我们可以用类似于下面的代码搜索某个特定的值"
   ]
  },
  {
   "cell_type": "code",
   "execution_count": 6,
   "metadata": {
    "collapsed": false
   },
   "outputs": [
    {
     "name": "stdout",
     "output_type": "stream",
     "text": [
      "found at (1,1,1)\n"
     ]
    }
   ],
   "source": [
    "table=[[(1,5),(2,10)],[(3,15),(4,20),(5,25)],[(6,30)]]\n",
    "target=20\n",
    "found=False\n",
    "for row,record in enumerate(table):\n",
    "    for column,field in enumerate(record):\n",
    "        for index,item in enumerate(field):\n",
    "            if item==target:\n",
    "                found=True\n",
    "                break\n",
    "        if found:\n",
    "            break\n",
    "    if found:\n",
    "        break\n",
    "if found:\n",
    "    print('found at ({},{},{})'.format(row,column,index))\n",
    "else:\n",
    "    print('not found')"
   ]
  },
  {
   "cell_type": "markdown",
   "metadata": {},
   "source": [
    "上面这15行代码是复杂的，因为我们必须分别跳出每个循环。\n",
    "+ 一种替代解决方案是使用自定义异常"
   ]
  },
  {
   "cell_type": "code",
   "execution_count": 7,
   "metadata": {
    "collapsed": false
   },
   "outputs": [
    {
     "name": "stdout",
     "output_type": "stream",
     "text": [
      "found at (1,1,1)\n"
     ]
    }
   ],
   "source": [
    "class FoundException(Exception):pass\n",
    "\n",
    "try:\n",
    "    for row,record in enumerate(table):\n",
    "        for column,field in enumerate(record):\n",
    "            for index,item in enumerate(field):\n",
    "                if item==target:\n",
    "                    raise FoundException()\n",
    "except FoundException:\n",
    "    print('found at ({},{},{})'.format(row,column,index))\n",
    "else:\n",
    "    print('not found')"
   ]
  },
  {
   "cell_type": "markdown",
   "metadata": {},
   "source": [
    "这种方法可以讲代码削减到10行，或者11行，并且更易于理解。\n",
    "+ 如果发现要寻找的数据项，就产生自定义的异常，else块则被跳过。\n",
    "+ 如果没有找到相应的数据项，就不会产生异常，并在最后执行else suite。"
   ]
  },
  {
   "cell_type": "markdown",
   "metadata": {},
   "source": [
    "### 4.3自定义函数\n",
    "\n",
    "在Python中，可以创建4种函数：\n",
    "+ 全局函数\n",
    "+ 局部函数\n",
    "+ lambda函数\n",
    "+ 方法"
   ]
  },
  {
   "cell_type": "markdown",
   "metadata": {},
   "source": [
    "### 4.3.5断言\n",
    "+ 声明前提与后果，并在任何一方无法满足时提示错误信息。\n",
    "+ 前提与后果可以使用assert语句指定，其语法格式如下：\n",
    "\n",
    "    `>>> assert boolean_expression,optional_expression`\n",
    "    \n",
    "    \n",
    "+ 如果boolean_expression评价为False，就产生一个AssertionError异常。\n",
    "+ 如果给定了可选的optional_expression,就将其用作AssertionError异常的参数—对提供错误消息而言，这种做法是有用的。\n",
    "+ assert 好像并没有什么用处。"
   ]
  },
  {
   "cell_type": "code",
   "execution_count": 19,
   "metadata": {
    "collapsed": false
   },
   "outputs": [
    {
     "ename": "AssertionError",
     "evalue": "10",
     "output_type": "error",
     "traceback": [
      "\u001b[0;31m---------------------------------------------------------------------------\u001b[0m",
      "\u001b[0;31mAssertionError\u001b[0m                            Traceback (most recent call last)",
      "\u001b[0;32m<ipython-input-19-aa2513d9b588>\u001b[0m in \u001b[0;36m<module>\u001b[0;34m()\u001b[0m\n\u001b[1;32m      1\u001b[0m \u001b[0;32mfor\u001b[0m \u001b[0mi\u001b[0m \u001b[0;32min\u001b[0m \u001b[0mrange\u001b[0m\u001b[0;34m(\u001b[0m\u001b[0;36m100\u001b[0m\u001b[0;34m)\u001b[0m\u001b[0;34m:\u001b[0m\u001b[0;34m\u001b[0m\u001b[0m\n\u001b[0;32m----> 2\u001b[0;31m     \u001b[0;32massert\u001b[0m \u001b[0mi\u001b[0m\u001b[0;34m<\u001b[0m\u001b[0;36m10\u001b[0m\u001b[0;34m,\u001b[0m\u001b[0mi\u001b[0m\u001b[0;34m\u001b[0m\u001b[0m\n\u001b[0m",
      "\u001b[0;31mAssertionError\u001b[0m: 10"
     ]
    }
   ],
   "source": [
    "for i in range(100):\n",
    "    assert i<10,i"
   ]
  },
  {
   "cell_type": "code",
   "execution_count": 44,
   "metadata": {
    "collapsed": false
   },
   "outputs": [
    {
     "name": "stdout",
     "output_type": "stream",
     "text": [
      "over\n"
     ]
    }
   ],
   "source": [
    "# break 可以跳出while循环，cool\n",
    "i=0\n",
    "while True:\n",
    "    i+=1\n",
    "    if i==20:\n",
    "        break\n",
    "print('over')"
   ]
  },
  {
   "cell_type": "markdown",
   "metadata": {},
   "source": [
    "## 6.2自定义类\n",
    "### 6.2.1属性与方法\n",
    "+ 一个非常简单的类Point\n",
    "+ 重写了repr、str、eq等内置方法\n",
    "+ cool"
   ]
  },
  {
   "cell_type": "code",
   "execution_count": 83,
   "metadata": {
    "collapsed": false
   },
   "outputs": [
    {
     "data": {
      "text/plain": [
       "(False, True)"
      ]
     },
     "execution_count": 83,
     "metadata": {},
     "output_type": "execute_result"
    }
   ],
   "source": [
    "import math\n",
    "class Point:#等价于Point(object)\n",
    "    def __init__(self,x=0,y=0):\n",
    "        self.x=x\n",
    "        self.y=y\n",
    "    def distance_from_origin(self):\n",
    "        return math.hypot(self.x,self.y)\n",
    "    def __repr__(self):\n",
    "        return \"Point({0.x!r},{0.y!r})\".format(self,self)\n",
    "    def __str__(self):\n",
    "        return \"({0.x!r},{0.y!r})\".format(self)\n",
    "    def __eq__(self,other):\n",
    "        return self.x==other.x and self.y==other.y\n",
    "a=Point(3,4)\n",
    "a.distance_from_origin()\n",
    "repr(a)\n",
    "str(a)\n",
    "b=Point()\n",
    "a==b,a!=b"
   ]
  }
 ],
 "metadata": {
  "kernelspec": {
   "display_name": "Python 3",
   "language": "python",
   "name": "python3"
  },
  "language_info": {
   "codemirror_mode": {
    "name": "ipython",
    "version": 3
   },
   "file_extension": ".py",
   "mimetype": "text/x-python",
   "name": "python",
   "nbconvert_exporter": "python",
   "pygments_lexer": "ipython3",
   "version": "3.5.2"
  }
 },
 "nbformat": 4,
 "nbformat_minor": 2
}
