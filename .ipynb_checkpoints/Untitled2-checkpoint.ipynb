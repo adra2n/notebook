{
 "cells": [
  {
   "cell_type": "code",
   "execution_count": null,
   "metadata": {
    "collapsed": true
   },
   "outputs": [],
   "source": [
    "def request_post(request_xml)\n",
    "    AID = 328727\n",
    "    SID =  810129\n",
    "    API_URL = 'openapi.ctrip.com'\n",
    "    KEY =  'E0F33944-A048-45F7-AA91-A55196051B91'\n",
    "    TOKEN_KEY =  'f017b34784be441780a8cc79ccd4a9ed'\n",
    "\n",
    "    ping_url = 'http://{}/Hotel/OTA_Ping.asmx'.format(API_URL)\n",
    "\n",
    "    ts = int(time.time())\n",
    "    secret = hashlib.md5(KEY.encode('utf8')).hexdigest().upper()\n",
    "    sign = hashlib.md5('{0}{1}{2}{3}OTA_Ping'.format(ts, AID, secret, SID).encode('utf-8')).hexdigest().upper()\n",
    "    encode_xml = request_xml.encode('utf-8')\n",
    "    headers = {'Content-Type': 'text/xml; charset=utf-8', 'Host': 'openapi.ctrip.com', 'Content-Length': len(encode_xml)}\n",
    "    resp = requests.post(url=ping_url, data=encode_xml, headers=headers)\n",
    "    print(resp.text)"
   ]
  },
  {
   "cell_type": "code",
   "execution_count": 1,
   "metadata": {
    "collapsed": false
   },
   "outputs": [
    {
     "ename": "NameError",
     "evalue": "name 'AID' is not defined",
     "output_type": "error",
     "traceback": [
      "\u001b[0;31m---------------------------------------------------------------------------\u001b[0m",
      "\u001b[0;31mNameError\u001b[0m                                 Traceback (most recent call last)",
      "\u001b[0;32m<ipython-input-1-1608f09875fd>\u001b[0m in \u001b[0;36m<module>\u001b[0;34m()\u001b[0m\n\u001b[1;32m     18\u001b[0m         \u001b[0;34m'</Request>'\u001b[0m\u001b[0;34m\u001b[0m\u001b[0m\n\u001b[1;32m     19\u001b[0m     \u001b[0;34m'</soap:Body>'\u001b[0m\u001b[0;34m\u001b[0m\u001b[0m\n\u001b[0;32m---> 20\u001b[0;31m '</soap:Envelope>').format(AID, SID, ts, sign)\n\u001b[0m\u001b[1;32m     21\u001b[0m \u001b[0mrequest_xml\u001b[0m\u001b[0;34m\u001b[0m\u001b[0m\n",
      "\u001b[0;31mNameError\u001b[0m: name 'AID' is not defined"
     ]
    }
   ],
   "source": [
    "request_xml = ('<?xml version=\"1.0\" encoding=\"utf-8\"?>'\n",
    "'<soap:Envelope xmlns:xsi=\"http://www.w3.org/2001/XMLSchema-instance\" xmlns:xsd=\"http://www.w3.org/2001/XMLSchema\" xmlns:soap=\"http://schemas.xmlsoap.org/soap/envelope/\">'\n",
    "    '<soap:Body>'\n",
    "        '<Request xmlns=\"http://ctrip.com/\">'\n",
    "            '<requestXML><![CDATA['\n",
    "                '<?xml version=\"1.0\" encoding=\"utf-8\"?>'\n",
    "                '<Request>'\n",
    "                    '<Header AllianceID=\"{0}\" SID=\"{1}\" TimeStamp=\"{2}\" RequestType=\"OTA_Ping\" Signature=\"{3}\" />'\n",
    "                    '<HotelRequest>'\n",
    "                        '<RequestBody xmlns:ns=\"http://www.opentravel.org/OTA/2003/05\" xmlns:xsi=\"http://www.w3.org/2001/XMLSchema-instance\" xmlns:xsd=\"http://www.w3.org/2001/XMLSchema\">'\n",
    "                            '<ns:OTA_PingRQ>'\n",
    "                                '<ns:EchoData>阿什顿</ns:EchoData>'\n",
    "                            '</ns:OTA_PingRQ>'\n",
    "                        '</RequestBody>'\n",
    "                    '</HotelRequest>'\n",
    "                '</Request>]]>'\n",
    "            '</requestXML>'\n",
    "        '</Request>'\n",
    "    '</soap:Body>'\n",
    "'</soap:Envelope>').format(AID, SID, ts, sign)\n",
    "request_xml"
   ]
  }
 ],
 "metadata": {
  "kernelspec": {
   "display_name": "Python 3",
   "language": "python",
   "name": "python3"
  },
  "language_info": {
   "codemirror_mode": {
    "name": "ipython",
    "version": 3
   },
   "file_extension": ".py",
   "mimetype": "text/x-python",
   "name": "python",
   "nbconvert_exporter": "python",
   "pygments_lexer": "ipython3",
   "version": "3.5.2"
  }
 },
 "nbformat": 4,
 "nbformat_minor": 2
}
