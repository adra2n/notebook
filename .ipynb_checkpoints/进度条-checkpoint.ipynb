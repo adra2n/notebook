{
 "cells": [
  {
   "cell_type": "code",
   "execution_count": 11,
   "metadata": {
    "collapsed": false
   },
   "outputs": [
    {
     "name": "stderr",
     "output_type": "stream",
     "text": [
      "100% (1000 of 1000) |#####################| Elapsed Time: 0:00:10 Time: 0:00:10  1% (  10 of 1000) |                      | Elapsed Time: 0:00:00 ETA: 0:00:10\n"
     ]
    }
   ],
   "source": [
    "import time\n",
    "import progressbar\n",
    "p = progressbar.ProgressBar()\n",
    "N = 1000\n",
    "for i in p(range(N)):\n",
    "    time.sleep(0.01)"
   ]
  },
  {
   "cell_type": "code",
   "execution_count": 71,
   "metadata": {
    "collapsed": false
   },
   "outputs": [
    {
     "name": "stderr",
     "output_type": "stream",
     "text": [
      "100% (300 of 300) |#######################| Elapsed Time: 0:00:01 Time: 0:00:01  1% (  4 of 300) |                       | Elapsed Time: 0:00:00 ETA:  0:00:00\n"
     ]
    }
   ],
   "source": [
    "import time\n",
    "import progressbar\n",
    "p = progressbar.ProgressBar()\n",
    "N = 300\n",
    "n=0\n",
    "p.start(N)\n",
    "for i in range(N):\n",
    "    time.sleep(0.005)\n",
    "    n+=1\n",
    "    p.update(n)\n",
    "p.finish()"
   ]
  },
  {
   "cell_type": "code",
   "execution_count": 77,
   "metadata": {
    "collapsed": false
   },
   "outputs": [
    {
     "name": "stderr",
     "output_type": "stream",
     "text": [
      "100% (10000 of 10000) |###################| Elapsed Time: 0:00:01 Time: 0:00:01  1% (  127 of 10000) |                   | Elapsed Time: 0:00:00 ETA:  0:00:00\n"
     ]
    }
   ],
   "source": [
    "import time\n",
    "p = progressbar.ProgressBar()\n",
    "def myfor(n):\n",
    "    for j in range(100):\n",
    "#         time.sleep(0.01)\n",
    "        n=(n)+1\n",
    "        p.update(n)\n",
    "    return n\n",
    "N = 100\n",
    "n=0\n",
    "p.start(N*N)\n",
    "for i in range(N):\n",
    "    n=myfor(n)\n",
    "    time.sleep(0.01)\n",
    "p.finish()"
   ]
  }
 ],
 "metadata": {
  "kernelspec": {
   "display_name": "Python 3",
   "language": "python",
   "name": "python3"
  },
  "language_info": {
   "codemirror_mode": {
    "name": "ipython",
    "version": 3
   },
   "file_extension": ".py",
   "mimetype": "text/x-python",
   "name": "python",
   "nbconvert_exporter": "python",
   "pygments_lexer": "ipython3",
   "version": "3.5.2"
  }
 },
 "nbformat": 4,
 "nbformat_minor": 2
}
