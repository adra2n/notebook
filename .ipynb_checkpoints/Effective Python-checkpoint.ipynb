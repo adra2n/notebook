{
 "cells": [
  {
   "cell_type": "markdown",
   "metadata": {},
   "source": [
    "### 第1章\n",
    "## 用Pythonic方式来思考"
   ]
  },
  {
   "cell_type": "markdown",
   "metadata": {},
   "source": [
    "### str 和 bytes 区别\n",
    "+ 编码和解码"
   ]
  },
  {
   "cell_type": "code",
   "execution_count": 6,
   "metadata": {
    "collapsed": false,
    "scrolled": true
   },
   "outputs": [
    {
     "data": {
      "text/plain": [
       "bytes"
      ]
     },
     "execution_count": 6,
     "metadata": {},
     "output_type": "execute_result"
    }
   ],
   "source": [
    "china='中国'\n",
    "china8=china.encode('UTF-8')\n",
    "type(china8)"
   ]
  },
  {
   "cell_type": "markdown",
   "metadata": {},
   "source": [
    "### enumerate 获取list的index和value"
   ]
  },
  {
   "cell_type": "code",
   "execution_count": 22,
   "metadata": {
    "collapsed": false
   },
   "outputs": [],
   "source": [
    "a=[x*x+2*x+1 for x in range(10)]\n",
    "for i,k in enumerate(a,0):\n",
    "    continue\n",
    "    print(i,k)"
   ]
  },
  {
   "cell_type": "markdown",
   "metadata": {},
   "source": [
    "### zip函数同时遍历两个迭代器\n",
    "+ zip相当于生成器，平行遍历逐次产生元组\n",
    "+ 若待遍历的迭代器长度不等，那么zip会提前终止"
   ]
  },
  {
   "cell_type": "code",
   "execution_count": 23,
   "metadata": {
    "collapsed": false
   },
   "outputs": [
    {
     "name": "stdout",
     "output_type": "stream",
     "text": [
      "Fanjindong 10\n"
     ]
    }
   ],
   "source": [
    "names=['Fanjindong','Maxiaoli','Xumao']\n",
    "letters=[len(x) for x in names]\n",
    "longest_name=None\n",
    "max_letters=0\n",
    "for n,name in zip(letters,names):\n",
    "    if n>max_letters:\n",
    "        longest_name=name\n",
    "        max_letters=n\n",
    "print(longest_name,max_letters)"
   ]
  },
  {
   "cell_type": "markdown",
   "metadata": {},
   "source": [
    "### 第2章\n",
    "## 函数"
   ]
  },
  {
   "cell_type": "markdown",
   "metadata": {},
   "source": [
    "### 2.1 直接返回列表的函数，考虑用生成器来改写\n",
    "+ append方法"
   ]
  },
  {
   "cell_type": "code",
   "execution_count": 25,
   "metadata": {
    "collapsed": false
   },
   "outputs": [
    {
     "data": {
      "text/plain": [
       "[{0: 'wuhan'}, {1: 'shanghai'}, {2: 'xian'}, {3: 'zhengzhou'}]"
      ]
     },
     "execution_count": 25,
     "metadata": {},
     "output_type": "execute_result"
    }
   ],
   "source": [
    "def city_fetch(citys):\n",
    "    result=[]\n",
    "    if citys:\n",
    "        for i,city in enumerate(citys):\n",
    "            result.append({i:city})\n",
    "    return result\n",
    "city_fetch(['wuhan','shanghai','xian','zhengzhou'])"
   ]
  },
  {
   "cell_type": "markdown",
   "metadata": {},
   "source": [
    "+ yield表达式的函数，来改造为生成器"
   ]
  },
  {
   "cell_type": "code",
   "execution_count": 87,
   "metadata": {
    "collapsed": false
   },
   "outputs": [],
   "source": [
    "def city_fetch(citys):\n",
    "    result={}\n",
    "    if citys:\n",
    "        for i,city in enumerate(citys):\n",
    "            yield i\n",
    "            yield city\n",
    "    return result"
   ]
  },
  {
   "cell_type": "code",
   "execution_count": 89,
   "metadata": {
    "collapsed": false
   },
   "outputs": [
    {
     "data": {
      "text/plain": [
       "[0, 'wuhan', 1, 'shanghai', 2, 'xian', 3, 'zhengzhou']"
      ]
     },
     "execution_count": 89,
     "metadata": {},
     "output_type": "execute_result"
    }
   ],
   "source": [
    "cf=city_fetch(['wuhan','shanghai','xian','zhengzhou'])\n",
    "list(cf)"
   ]
  },
  {
   "cell_type": "markdown",
   "metadata": {},
   "source": [
    "+ 在已经用完的迭代器上面继续迭代，不会报错，且结果如下"
   ]
  },
  {
   "cell_type": "code",
   "execution_count": 86,
   "metadata": {
    "collapsed": false
   },
   "outputs": [
    {
     "data": {
      "text/plain": [
       "[]"
      ]
     },
     "execution_count": 86,
     "metadata": {},
     "output_type": "execute_result"
    }
   ],
   "source": [
    "list(cf)"
   ]
  },
  {
   "cell_type": "markdown",
   "metadata": {},
   "source": [
    "### 2.2 用关键字参数来表达可选的行为"
   ]
  },
  {
   "cell_type": "markdown",
   "metadata": {},
   "source": [
    "+ 灵活使用关键字参数，能带来三个好处\n",
    "    - 更容易理解其含义\n",
    "    - 函数定义中提供默认值\n",
    "    - 提供一种扩充参数的有效方法"
   ]
  },
  {
   "cell_type": "markdown",
   "metadata": {},
   "source": [
    "### 2.3 描述具有动态默认值的参数\n",
    "+ 参数的默认值，只会在加载模块并读到本函数的定义时评估一次。\n",
    "    - 对于{}或[]等动态的值，可能会导致奇怪的行为。\n",
    "+ 解决方法\n",
    "    - 把关键字参数的默认值设为None，并在函数的文档字符串中描述它的实际行为。"
   ]
  },
  {
   "cell_type": "code",
   "execution_count": 111,
   "metadata": {
    "collapsed": false
   },
   "outputs": [
    {
     "name": "stdout",
     "output_type": "stream",
     "text": [
      "Foo: {'stuff': 5}\n",
      "Bar: {'meep': 1}\n"
     ]
    }
   ],
   "source": [
    "import json\n",
    "def decode(data,default=None):\n",
    "    \"\"\"Load JSON data from a string.\n",
    "    Args:\n",
    "        data:JSON data to decode.\n",
    "        default:Value to return if decoding fails.\n",
    "            Defaults to an empty dictionary.\n",
    "    \"\"\"\n",
    "    if default is None:\n",
    "        default={}\n",
    "    try:\n",
    "        return json.loads(data)\n",
    "    except ValueError:\n",
    "        return default\n",
    "foo=decode('bad data')\n",
    "foo['stuff']=5\n",
    "bar=decode('also bad')\n",
    "bar['meep']=1\n",
    "print('Foo:',foo)\n",
    "print('Bar:',bar)"
   ]
  },
  {
   "cell_type": "markdown",
   "metadata": {},
   "source": [
    "### 2.4 用只能以关键字形式制定的参数来确保代码清晰\n",
    "+ 参数列表里的*号，标志着位置参数就此终结\n",
    "+ 关键字参数能够使得函数调用意图更加明确"
   ]
  },
  {
   "cell_type": "code",
   "execution_count": 114,
   "metadata": {
    "collapsed": false
   },
   "outputs": [],
   "source": [
    "def safe_division_c(number,divisor,*,ignore_overflow=False,ignore_zero_division=False):\n",
    "    pass\n",
    "safe_division_c(1,2,3)"
   ]
  },
  {
   "cell_type": "markdown",
   "metadata": {},
   "source": [
    "### 第3章\n",
    "## 类与继承"
   ]
  },
  {
   "cell_type": "markdown",
   "metadata": {},
   "source": [
    "### 第6章\n",
    "## 内置模块"
   ]
  },
  {
   "cell_type": "markdown",
   "metadata": {},
   "source": [
    "### 6.1 用datetime模块来处理本地时间\n",
    "+ 不要用time模块在不同时区之间进行转换。\n",
    "+ 可靠的转换操作，则应该把内置的datetime模块与pytz模块搭配起来使用。\n",
    "+ 总是应该把时间表示成UTC格式，然后执行各种操作，最后再把它转回本地时间。"
   ]
  },
  {
   "cell_type": "markdown",
   "metadata": {},
   "source": [
    "### 6.2 内置算法与数据结构\n",
    "+ 有序字典"
   ]
  },
  {
   "cell_type": "code",
   "execution_count": 190,
   "metadata": {
    "collapsed": false,
    "scrolled": true
   },
   "outputs": [
    {
     "name": "stdout",
     "output_type": "stream",
     "text": [
      "1 red\n",
      "2 blue\n"
     ]
    },
    {
     "data": {
      "text/plain": [
       "OrderedDict([('foo', 1), ('bar', 2)])"
      ]
     },
     "execution_count": 190,
     "metadata": {},
     "output_type": "execute_result"
    }
   ],
   "source": [
    "from collections import OrderedDict\n",
    "a=OrderedDict()\n",
    "b=OrderedDict()\n",
    "a['foo']=1\n",
    "a['bar']=2\n",
    "b['foo']='red'\n",
    "b['bar']='blue'\n",
    "for x,y in zip(a.values(),b.values()):\n",
    "    print(x,y)\n",
    "a"
   ]
  },
  {
   "cell_type": "markdown",
   "metadata": {},
   "source": [
    "+ 带有默认值的字典"
   ]
  },
  {
   "cell_type": "code",
   "execution_count": 18,
   "metadata": {
    "collapsed": false
   },
   "outputs": [],
   "source": [
    "from collections import defaultdict\n",
    "d={'name':'fanjindong','school':{'name':'zhongnanminzudaxue','creattime':1945}}\n",
    "def dict_():\n",
    "    return None\n",
    "re=defaultdict(dict_,d)\n",
    "re['school0000']"
   ]
  },
  {
   "cell_type": "markdown",
   "metadata": {},
   "source": [
    "### 6.3 货币计算的场合用decimal"
   ]
  },
  {
   "cell_type": "markdown",
   "metadata": {},
   "source": [
    "### 6.4 安装由Python开发者社区所构建的模块\n",
    "\n",
    "+ [Python中央仓库](https://pypi.python.org)\n",
    "+ Python Package Index(PyPI)包含许多常用软件包\n",
    "+ pip是个命令行工具，可以从PyPI中安装软件包"
   ]
  },
  {
   "cell_type": "markdown",
   "metadata": {},
   "source": [
    "### 第7章\n",
    "## 协作开发"
   ]
  },
  {
   "cell_type": "markdown",
   "metadata": {},
   "source": [
    "### 第8章\n",
    "## 部署"
   ]
  },
  {
   "cell_type": "markdown",
   "metadata": {},
   "source": [
    "### 8.1通过repr字符串来输出调试信息"
   ]
  },
  {
   "cell_type": "code",
   "execution_count": 200,
   "metadata": {
    "collapsed": false
   },
   "outputs": [
    {
     "name": "stdout",
     "output_type": "stream",
     "text": [
      "5 5\n",
      "'5' 5\n"
     ]
    }
   ],
   "source": [
    "a='5'\n",
    "b=5\n",
    "print(a,b)\n",
    "print(repr(a),repr(b))"
   ]
  },
  {
   "cell_type": "code",
   "execution_count": null,
   "metadata": {
    "collapsed": true
   },
   "outputs": [],
   "source": []
  }
 ],
 "metadata": {
  "kernelspec": {
   "display_name": "Python 3",
   "language": "python",
   "name": "python3"
  },
  "language_info": {
   "codemirror_mode": {
    "name": "ipython",
    "version": 3
   },
   "file_extension": ".py",
   "mimetype": "text/x-python",
   "name": "python",
   "nbconvert_exporter": "python",
   "pygments_lexer": "ipython3",
   "version": "3.5.2"
  }
 },
 "nbformat": 4,
 "nbformat_minor": 2
}
