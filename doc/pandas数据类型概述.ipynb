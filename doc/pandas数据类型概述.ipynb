{
 "cells": [
  {
   "cell_type": "markdown",
   "metadata": {},
   "source": [
    "![抬头图](http://pbpython.com/images/pandas_dtypes.png)"
   ]
  },
  {
   "cell_type": "markdown",
   "metadata": {},
   "source": [
    "## 介绍\n",
    "在进行数据分析时，确保使用正确的数据类型非常重要，否则你可能会出现意想不到的错误，就`pandas`而言，它会在大多数情况下正确推断数据类型，你可以直接进行数据分析，而无需考虑其他。\n",
    "但是总会在某个时刻，你可能需要将数据从一种类型显式转换为另一种类型。 本文将讨论基本熊猫数据类型（又名`dtypes` ），它们如何映射到python和numpy数据类型，以及从一种熊猫类型转换为另一种类型的选项。"
   ]
  },
  {
   "cell_type": "code",
   "execution_count": 1,
   "metadata": {},
   "outputs": [
    {
     "data": {
      "text/plain": [
       "1523434888.1228874"
      ]
     },
     "execution_count": 1,
     "metadata": {},
     "output_type": "execute_result"
    }
   ],
   "source": [
    "import time\n",
    "time.time()"
   ]
  }
 ],
 "metadata": {
  "kernelspec": {
   "display_name": "Python 3",
   "language": "python",
   "name": "python3"
  },
  "language_info": {
   "codemirror_mode": {
    "name": "ipython",
    "version": 3
   },
   "file_extension": ".py",
   "mimetype": "text/x-python",
   "name": "python",
   "nbconvert_exporter": "python",
   "pygments_lexer": "ipython3",
   "version": "3.6.0"
  }
 },
 "nbformat": 4,
 "nbformat_minor": 2
}
